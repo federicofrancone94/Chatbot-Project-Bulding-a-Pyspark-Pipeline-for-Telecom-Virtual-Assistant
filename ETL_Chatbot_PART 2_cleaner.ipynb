{
 "cells": [
  {
   "cell_type": "code",
   "execution_count": 1,
   "metadata": {},
   "outputs": [
    {
     "data": {
      "text/html": [
       "<style scoped>\n",
       "  .ansiout {\n",
       "    display: block;\n",
       "    unicode-bidi: embed;\n",
       "    white-space: pre-wrap;\n",
       "    word-wrap: break-word;\n",
       "    word-break: break-all;\n",
       "    font-family: \"Source Code Pro\", \"Menlo\", monospace;;\n",
       "    font-size: 13px;\n",
       "    color: #555;\n",
       "    margin-left: 4px;\n",
       "    line-height: 19px;\n",
       "  }\n",
       "</style>\n",
       "<div class=\"ansiout\"></div>"
      ]
     },
     "metadata": {},
     "output_type": "display_data"
    }
   ],
   "source": [
    "#versione del 11/12/2018 con (modifiche in ordine cronologico):\n",
    "#- AnswerDuration rettificata con lo storno delle API Call dal BotAnswerDuration\n",
    "#- nuovo campo \"EventHourMinute\"\n",
    "#- 29/11/2018: nuovo codice per i Dataframe df_bot_messages e df_user_message\n",
    "#- 01/12/2018: riorganizzazione delle scritture (prima DW e poi delta Table) per evitare i duplicati e update a type = \"previous\" dei record dopo la scrittura in Delta Table\n",
    "#- 01/12/2018: delete dalla Delta Table \"Events\" per i record dello slot orario che si sta processando, così non ci sono problemi di duplicati in caso di riprocessamento\n",
    "#- 03/12/2018: mapping del campo \"envionment\" nel flusso fino alla Delta Table \"events\" e al Datawarehouse\n",
    "#- 05/12/2018: TXTAnalytics cast from string to float and DF filtered out from EventName != ServiceProfilerSample\n",
    "#- 05/12/2018: added new field \"EventNameDecode\"\n",
    "#- 06/12/2018: added df_5_final.persist()\n",
    "#- 11/12/2018: commentati i persist/unpersist, valorizzato a false spark.databricks.queryWatchdog.enabled , spostata la scrittura sulla delta table prima della scrittura su DWH, inserito filtro sulle lettura della Delta EventsMirror (source) per non processare la data ed ora del RUN\n",
    "\n",
    "#VERSIONE DEL 19/12/2018: corretto l'errore per cui ConversationStartDate, ConversationStartTime e ConversationEndTime avevano Null. Ora vengono valorizzati correttamente"
   ]
  },
  {
   "cell_type": "code",
   "execution_count": 2,
   "metadata": {},
   "outputs": [],
   "source": [
    "%run \"./Include/ETL_Main_Setup\""
   ]
  },
  {
   "cell_type": "code",
   "execution_count": 3,
   "metadata": {},
   "outputs": [
    {
     "data": {
      "text/html": [
       "<style scoped>\n",
       "  .ansiout {\n",
       "    display: block;\n",
       "    unicode-bidi: embed;\n",
       "    white-space: pre-wrap;\n",
       "    word-wrap: break-word;\n",
       "    word-break: break-all;\n",
       "    font-family: \"Source Code Pro\", \"Menlo\", monospace;;\n",
       "    font-size: 13px;\n",
       "    color: #555;\n",
       "    margin-left: 4px;\n",
       "    line-height: 19px;\n",
       "  }\n",
       "</style>\n",
       "<div class=\"ansiout\">2018-12-13/Federico\n",
       "</div>"
      ]
     },
     "metadata": {},
     "output_type": "display_data"
    }
   ],
   "source": [
    "dbutils.widgets.text(\"input\", \"\",\"\")\n",
    "dbutils.widgets.get(\"input\")\n",
    "datetimefolders = getArgument(\"input\")\n",
    "print(datetimefolders)\n",
    "# prova 2018-11-12/11  per il Windowing, 2018-11-12/14 per bot answerduration. Oppure 2018-12-13/Federico con Pippo e ALDO. o i 3 files vecchi in Federico_old"
   ]
  },
  {
   "cell_type": "code",
   "execution_count": 4,
   "metadata": {},
   "outputs": [
    {
     "data": {
      "text/html": [
       "<style scoped>\n",
       "  .ansiout {\n",
       "    display: block;\n",
       "    unicode-bidi: embed;\n",
       "    white-space: pre-wrap;\n",
       "    word-wrap: break-word;\n",
       "    word-break: break-all;\n",
       "    font-family: \"Source Code Pro\", \"Menlo\", monospace;;\n",
       "    font-size: 13px;\n",
       "    color: #555;\n",
       "    margin-left: 4px;\n",
       "    line-height: 19px;\n",
       "  }\n",
       "</style>\n",
       "<div class=\"ansiout\"></div>"
      ]
     },
     "metadata": {},
     "output_type": "display_data"
    }
   ],
   "source": [
    "spark.conf.set(\"dfs.adls.oauth2.access.token.provider.type\", \"ClientCredential\")\n",
    "spark.conf.set(\"dfs.adls.oauth2.client.id\", \"c9463783-977a-4fd6-be5e-685771eee8da\")\n",
    "spark.conf.set(\"dfs.adls.oauth2.credential\", \"bUB7Yo1o7M0e+yU0eNkT44cmRARwtjXSAGc7mR2qP9c= \")\n",
    "spark.conf.set(\"dfs.adls.oauth2.refresh.url\", \"https://login.microsoftonline.com/6815f468-021c-48f2-a6b2-d65c8e979dfb/oauth2/token\")\n",
    "\n",
    "databasetablePath = \"adl://timvadevdls.azuredatalakestore.net/databricks/\""
   ]
  },
  {
   "cell_type": "code",
   "execution_count": 5,
   "metadata": {},
   "outputs": [
    {
     "data": {
      "text/html": [
       "<style scoped>\n",
       "  .ansiout {\n",
       "    display: block;\n",
       "    unicode-bidi: embed;\n",
       "    white-space: pre-wrap;\n",
       "    word-wrap: break-word;\n",
       "    word-break: break-all;\n",
       "    font-family: \"Source Code Pro\", \"Menlo\", monospace;;\n",
       "    font-size: 13px;\n",
       "    color: #555;\n",
       "    margin-left: 4px;\n",
       "    line-height: 19px;\n",
       "  }\n",
       "</style>\n",
       "<div class=\"ansiout\"></div>"
      ]
     },
     "metadata": {},
     "output_type": "display_data"
    }
   ],
   "source": [
    "spark.conf.set(\"spark.databricks.delta.formatCheck.enabled\", \"false\")\n",
    "\n",
    "mount_storage(storage_account_name,storage_account_access_key)"
   ]
  },
  {
   "cell_type": "code",
   "execution_count": 7,
   "metadata": {},
   "outputs": [
    {
     "data": {
      "text/html": [
       "<style scoped>\n",
       "  .table-result-container {\n",
       "    max-height: 300px;\n",
       "    overflow: auto;\n",
       "  }\n",
       "  table, th, td {\n",
       "    border: 1px solid black;\n",
       "    border-collapse: collapse;\n",
       "  }\n",
       "  th, td {\n",
       "    padding: 5px;\n",
       "  }\n",
       "  th {\n",
       "    text-align: left;\n",
       "  }\n",
       "</style><div class='table-result-container'><table class='table-result'><thead style='background-color: white'><tr><th>count(1)</th></tr></thead><tbody><tr><td>1021</td></tr></tbody></table></div>"
      ]
     },
     "metadata": {},
     "output_type": "display_data"
    }
   ],
   "source": [
    "%sql \n",
    "SELECT count(*)\n",
    "FROM DEV.Events_Federico         -- Ho fatto una copia della Delta Table"
   ]
  },
  {
   "cell_type": "code",
   "execution_count": 8,
   "metadata": {},
   "outputs": [
    {
     "data": {
      "text/html": [
       "<style scoped>\n",
       "  .table-result-container {\n",
       "    max-height: 300px;\n",
       "    overflow: auto;\n",
       "  }\n",
       "  table, th, td {\n",
       "    border: 1px solid black;\n",
       "    border-collapse: collapse;\n",
       "  }\n",
       "  th, td {\n",
       "    padding: 5px;\n",
       "  }\n",
       "  th {\n",
       "    text-align: left;\n",
       "  }\n",
       "</style><div class='table-result-container'><table class='table-result'><thead style='background-color: white'><tr><th>count(1)</th></tr></thead><tbody><tr><td>5</td></tr></tbody></table></div>"
      ]
     },
     "metadata": {},
     "output_type": "display_data"
    }
   ],
   "source": [
    "#### Table Conversation was wrongly overwritten and in this run has got only 5 rows. But the pipeline is correct\n",
    "\n",
    "%sql\n",
    "SELECT count(*)\n",
    "FROM DEV.Conversations"
   ]
  },
  {
   "cell_type": "code",
   "execution_count": 9,
   "metadata": {},
   "outputs": [
    {
     "data": {
      "text/html": [
       "<style scoped>\n",
       "  .ansiout {\n",
       "    display: block;\n",
       "    unicode-bidi: embed;\n",
       "    white-space: pre-wrap;\n",
       "    word-wrap: break-word;\n",
       "    word-break: break-all;\n",
       "    font-family: \"Source Code Pro\", \"Menlo\", monospace;;\n",
       "    font-size: 13px;\n",
       "    color: #555;\n",
       "    margin-left: 4px;\n",
       "    line-height: 19px;\n",
       "  }\n",
       "</style>\n",
       "<div class=\"ansiout\">root\n",
       "-- ClientAtHome: string (nullable = true)\n",
       "-- LUISentities: string (nullable = true)\n",
       "-- LUISintent: string (nullable = true)\n",
       "-- LUISscore: string (nullable = true)\n",
       "-- QNAanswer: string (nullable = true)\n",
       "-- QNAcategory: string (nullable = true)\n",
       "-- QNAscore: string (nullable = true)\n",
       "-- QNAsource: string (nullable = true)\n",
       "-- QNAuserMessage: string (nullable = true)\n",
       "-- TXTANALYTICSscore: string (nullable = true)\n",
       "-- activityId: string (nullable = true)\n",
       "-- channel: string (nullable = true)\n",
       "-- conversationId: string (nullable = true)\n",
       "-- currentScenario: string (nullable = true)\n",
       "-- diagnosticResponse: string (nullable = true)\n",
       "-- dialogCloseType: string (nullable = true)\n",
       "-- endTimeAPICall: string (nullable = true)\n",
       "-- eventName: string (nullable = true)\n",
       "-- eventTime: string (nullable = true)\n",
       "-- eventdate: string (nullable = true)\n",
       "-- isAuthenticated: string (nullable = true)\n",
       "-- isLeaf: string (nullable = true)\n",
       "-- itemId: string (nullable = true)\n",
       "-- mainScenario: string (nullable = true)\n",
       "-- modemAlignment: string (nullable = true)\n",
       "-- modemChanged: string (nullable = true)\n",
       "-- modemType: string (nullable = true)\n",
       "-- notUnderstoodMessage: string (nullable = true)\n",
       "-- problemSolved: string (nullable = true)\n",
       "-- reason: string (nullable = true)\n",
       "-- scenario: string (nullable = true)\n",
       "-- scenarioCalled: string (nullable = true)\n",
       "-- scenarioId: string (nullable = true)\n",
       "-- startTimeAPICall: string (nullable = true)\n",
       "-- telemetryId: string (nullable = true)\n",
       "-- text: string (nullable = true)\n",
       "-- ticket: string (nullable = true)\n",
       "-- ticketForm: string (nullable = true)\n",
       "-- timestamp: string (nullable = true)\n",
       "-- toolExec: string (nullable = true)\n",
       "-- toolResult: string (nullable = true)\n",
       "-- user: string (nullable = true)\n",
       "-- userId: string (nullable = true)\n",
       "-- userName: string (nullable = true)\n",
       "-- applicationInsight: string (nullable = true)\n",
       "-- businessUnit: string (nullable = true)\n",
       "\n",
       "df_bu is empty\n",
       "</div>"
      ]
     },
     "metadata": {},
     "output_type": "display_data"
    }
   ],
   "source": [
    "dtf = \"2018-10-02/\"\n",
    "hh = list(range(0,23))\n",
    "\n",
    "#path = file_location + datetimefolders +  \"/*.blob\"\n",
    "parser_wo = AppInsightEventParser(storage_account_name,container_name_wo,folder_name_wo)\n",
    "parser_bu = AppInsightEventParser(storage_account_name,container_name_bu,folder_name_bu)\n",
    "\n",
    "parser_wo.addStage(Stage1())\n",
    "parser_bu.addStage(Stage1())\n",
    "#parser_wo.addStage(Stage2(\"/delta/DEV/events/\"))\n",
    "#parser_wo.addStage(Stage3())\n",
    "#parser_wo.addStage(Stage4())\n",
    "\n",
    "#dw_info_wo = DWInfo(dwh_server,dwh_db_name,\"timsqladmin@tim-va-dev-sqlserver\",\"P@ssword!\")\n",
    "#parser_wo.addStage(Stage5(dw_info_wo))\n",
    "\n",
    "\n",
    "#datetimefolders = dtf + str(hh)\n",
    "df_wo = parser_wo.parseBlob(datetimefolders,parseRow)\n",
    "#df_wo.printSchema()\n",
    "#display(df_wo)\n",
    "df_bu = parser_bu.parseBlob(datetimefolders,parseRow)\n",
    "#df_bu.printSchema()\n",
    "#display(df_bu)\n",
    "#df_co = parser_co.parseBlob(datetimefolders,parseRow)\n",
    "#display(df_bu)\n",
    "# 2018-11-19 Simone Begin ->\n",
    "df_wo = df_wo.withColumn(\"applicationInsight\", F.lit(container_name_wo))\n",
    "df_wo = df_wo.withColumn(\"businessUnit\", F.lit(businessUnitName_wo))\n",
    "df_bu = df_bu.withColumn(\"applicationInsight\", F.lit(container_name_bu))\n",
    "df_bu = df_bu.withColumn(\"businessUnit\", F.lit(businessUnitName_bu))\n",
    "#df_co = df_co.withColumn(\"applicationInsight\", F.lit(container_name_co))\n",
    "#df_co = df_co.withColumn(\"businessUnit\", F.lit(businessUnitName_co))\n",
    "\n",
    "\"\"\" AVOIDING PROBLEMS OF SCHEMA \"\"\"\n",
    "if df_wo.count()==0 and df_bu.count()> 0 :\n",
    "    print('df_wo is empty')\n",
    "    df_total= df_bu\n",
    "elif df_bu.count()==0 and df_wo.count()> 0:\n",
    "    print('df_bu is empty')\n",
    "    df_total= df_wo\n",
    "elif df_bu.count()>0 and df_wo.count()> 0:\n",
    "    print(\"both wo and bu have records\")\n",
    "    df_total= df_wo.union(df_bu)\n",
    "else:\n",
    "    print(\"non c'è nessuno dei due path\")\n",
    "\n",
    "\"\"\"df_total = df_wo.union(df_bu)  \"\"\"  # 3/12/2018 Federico: it was --> df_bu.union(df_wo)\n",
    "\n",
    "# Union of previous united WO and BU dataframes with CO dataframe\n",
    "\n",
    "#df_total = df_total.union(df_co)\n",
    "\n",
    "\"\"\"display(df_total)\"\"\"\n",
    "# 2018-11-19 Simone -> End\n",
    "#df_total.printSchema()\n",
    "df_1 = df_total\n",
    "cols_pilot = df_1.columns\n",
    "df_1 = df_1.withColumn(\"type\", F.lit(\"new\"))\n",
    "\n",
    "#df.createOrReplaceTempView(\"temp\")\n",
    "#df.write.mode(\"append\").format(\"delta\").partitionBy(\"eventName\").save(\"/mnt/delta/eventsdl\")\n",
    "\n",
    "#spark.sql(\"OPTIMIZE eventsdl ZORDER BY (conversationId)\")\n",
    "\n",
    "#display(df_1)"
   ]
  },
  {
   "cell_type": "code",
   "execution_count": 10,
   "metadata": {},
   "outputs": [
    {
     "data": {
      "text/html": [
       "<style scoped>\n",
       "  .ansiout {\n",
       "    display: block;\n",
       "    unicode-bidi: embed;\n",
       "    white-space: pre-wrap;\n",
       "    word-wrap: break-word;\n",
       "    word-break: break-all;\n",
       "    font-family: \"Source Code Pro\", \"Menlo\", monospace;;\n",
       "    font-size: 13px;\n",
       "    color: #555;\n",
       "    margin-left: 4px;\n",
       "    line-height: 19px;\n",
       "  }\n",
       "</style>\n",
       "<div class=\"ansiout\"></div>"
      ]
     },
     "metadata": {},
     "output_type": "display_data"
    }
   ],
   "source": [
    "#%fs rm -r mnt/delta/eventsdl"
   ]
  },
  {
   "cell_type": "code",
   "execution_count": 11,
   "metadata": {},
   "outputs": [
    {
     "data": {
      "text/html": [
       "<style scoped>\n",
       "  .ansiout {\n",
       "    display: block;\n",
       "    unicode-bidi: embed;\n",
       "    white-space: pre-wrap;\n",
       "    word-wrap: break-word;\n",
       "    word-break: break-all;\n",
       "    font-family: \"Source Code Pro\", \"Menlo\", monospace;;\n",
       "    font-size: 13px;\n",
       "    color: #555;\n",
       "    margin-left: 4px;\n",
       "    line-height: 19px;\n",
       "  }\n",
       "</style>\n",
       "<div class=\"ansiout\"></div>"
      ]
     },
     "metadata": {},
     "output_type": "display_data"
    }
   ],
   "source": [
    "df_1= df_1.withColumn('TXTANALYTICSscore' , df_1['TXTANALYTICSscore'].cast(FloatType()))\n",
    "df_1= df_1.select(['*']).where(col('EventName')!= 'ServiceProfilerSample')"
   ]
  },
  {
   "cell_type": "code",
   "execution_count": 12,
   "metadata": {},
   "outputs": [
    {
     "data": {
      "text/html": [
       "<style scoped>\n",
       "  .table-result-container {\n",
       "    max-height: 300px;\n",
       "    overflow: auto;\n",
       "  }\n",
       "  table, th, td {\n",
       "    border: 1px solid black;\n",
       "    border-collapse: collapse;\n",
       "  }\n",
       "  th, td {\n",
       "    padding: 5px;\n",
       "  }\n",
       "  th {\n",
       "    text-align: left;\n",
       "  }\n",
       "</style><div class='table-result-container'><table class='table-result'><thead style='background-color: white'><tr><th>ClientAtHome</th><th>LUISentities</th><th>LUISintent</th><th>LUISscore</th><th>QNAanswer</th><th>QNAcategory</th><th>QNAscore</th><th>QNAsource</th><th>QNAuserMessage</th><th>TXTANALYTICSscore</th><th>activityId</th><th>channel</th><th>conversationId</th><th>currentScenario</th><th>diagnosticResponse</th><th>dialogCloseType</th><th>endTimeAPICall</th><th>eventName</th><th>eventTime</th><th>eventdate</th><th>isAuthenticated</th><th>isLeaf</th><th>itemId</th><th>mainScenario</th><th>modemAlignment</th><th>modemChanged</th><th>modemType</th><th>notUnderstoodMessage</th><th>problemSolved</th><th>reason</th><th>scenario</th><th>scenarioCalled</th><th>scenarioId</th><th>startTimeAPICall</th><th>telemetryId</th><th>text</th><th>ticket</th><th>ticketForm</th><th>timestamp</th><th>toolExec</th><th>toolResult</th><th>user</th><th>userId</th><th>userName</th><th>applicationInsight</th><th>businessUnit</th><th>type</th></tr></thead><tbody><tr><td></td><td></td><td></td><td></td><td></td><td></td><td></td><td></td><td></td><td>null</td><td>8mkbRBVLXnqB1DyyZ1pVcZ|0000314</td><td>pat</td><td>6LRLPjJDLkQ85QplizAeFS</td><td></td><td></td><td></td><td>null</td><td>MBFEvent.UserMessage</td><td>2018-11-12T11:49:04.561+0000</td><td>null</td><td>true</td><td></td><td>06470259-e671-11e8-88dc-9fb96e7465b9</td><td></td><td></td><td></td><td></td><td></td><td></td><td></td><td></td><td></td><td></td><td>null</td><td></td><td>effettuerò le prove</td><td></td><td></td><td>2018-11-12T11:49:00.428+0000</td><td></td><td></td><td>77F973BD0EEFAB79927F481B0611EDF8</td><td>918449a975df2c63c5a35aa56d415e4f6228035</td><td>username</td><td>appinsights-wo</td><td>wo</td><td>new</td></tr><tr><td></td><td></td><td></td><td></td><td></td><td></td><td></td><td></td><td></td><td>0.5085391</td><td></td><td>pat</td><td>PIPPO</td><td></td><td></td><td></td><td>null</td><td>MBFEvent.Sentiment</td><td>2018-11-12T11:49:04.544+0000</td><td>null</td><td></td><td></td><td>06470258-e671-11e8-88dc-9fb96e7465b9</td><td></td><td></td><td></td><td></td><td></td><td></td><td></td><td></td><td></td><td></td><td>null</td><td></td><td>effettuerò le prove</td><td></td><td></td><td>2018-11-12T11:49:00.428+0000</td><td></td><td></td><td></td><td>918449a975df2c63c5a35aa56d415e4f6228035</td><td>username</td><td>appinsights-wo</td><td>wo</td><td>new</td></tr><tr><td></td><td></td><td></td><td></td><td></td><td>ChitChat</td><td></td><td></td><td></td><td>null</td><td>8mkbRBVLXnqB1DyyZ1pVcZ|0000314</td><td>pat</td><td>ALDO</td><td></td><td></td><td></td><td>null</td><td>MBFEvent.QNAEvent</td><td>2018-11-12T11:52:08.561+0000</td><td>null</td><td>true</td><td></td><td>12345</td><td></td><td></td><td></td><td></td><td></td><td></td><td></td><td></td><td></td><td></td><td>null</td><td></td><td>effettuerò le prove</td><td></td><td></td><td>2018-11-12T11:49:00.428+0000</td><td></td><td></td><td>77F973BD0EEFAB79927F481B0611EDF8</td><td>918449a975df2c63c5a35aa56d415e4f6228035</td><td>username</td><td>appinsights-wo</td><td>wo</td><td>new</td></tr><tr><td></td><td></td><td></td><td></td><td></td><td></td><td></td><td></td><td></td><td>0.5085391</td><td></td><td>pat</td><td>PIPPO</td><td></td><td></td><td></td><td>null</td><td>MBFEvent.Sentiment</td><td>2018-11-12T11:51:04.544+0000</td><td>null</td><td></td><td></td><td>6789</td><td></td><td></td><td></td><td></td><td></td><td></td><td></td><td></td><td></td><td></td><td>null</td><td></td><td>effettuerò le prove</td><td></td><td></td><td>2018-11-12T11:49:00.428+0000</td><td></td><td></td><td></td><td>918449a975df2c63c5a35aa56d415e4f6228035</td><td>username</td><td>appinsights-wo</td><td>wo</td><td>new</td></tr></tbody></table></div>"
      ]
     },
     "metadata": {},
     "output_type": "display_data"
    }
   ],
   "source": [
    "df_1= df_1.withColumn('eventName', when(df_1.conversationId== 'ALDO', F.lit('MBFEvent.QNAEvent')).otherwise(df_1.eventName)).withColumn('QNAcategory', \n",
    "                                             when(df_1.conversationId == 'ALDO', F.lit('ChitChat')).otherwise(df_1.QNAcategory)) #modificata ad hoc per far sì che venga in corso\n",
    "display(df_1) #4 record nello slot orario corrente"
   ]
  },
  {
   "cell_type": "code",
   "execution_count": 13,
   "metadata": {},
   "outputs": [
    {
     "data": {
      "text/html": [
       "<style scoped>\n",
       "  .ansiout {\n",
       "    display: block;\n",
       "    unicode-bidi: embed;\n",
       "    white-space: pre-wrap;\n",
       "    word-wrap: break-word;\n",
       "    word-break: break-all;\n",
       "    font-family: \"Source Code Pro\", \"Menlo\", monospace;;\n",
       "    font-size: 13px;\n",
       "    color: #555;\n",
       "    margin-left: 4px;\n",
       "    line-height: 19px;\n",
       "  }\n",
       "</style>\n",
       "<div class=\"ansiout\"><span class=\"ansired\">Out[</span><span class=\"ansired\">54</span><span class=\"ansired\">]: </span>4\n",
       "</div>"
      ]
     },
     "metadata": {},
     "output_type": "display_data"
    }
   ],
   "source": [
    "df_1.count()  #921 perchè Events è vuota"
   ]
  },
  {
   "cell_type": "code",
   "execution_count": 14,
   "metadata": {},
   "outputs": [
    {
     "data": {
      "text/html": [
       "<style scoped>\n",
       "  .ansiout {\n",
       "    display: block;\n",
       "    unicode-bidi: embed;\n",
       "    white-space: pre-wrap;\n",
       "    word-wrap: break-word;\n",
       "    word-break: break-all;\n",
       "    font-family: \"Source Code Pro\", \"Menlo\", monospace;;\n",
       "    font-size: 13px;\n",
       "    color: #555;\n",
       "    margin-left: 4px;\n",
       "    line-height: 19px;\n",
       "  }\n",
       "</style>\n",
       "<div class=\"ansiout\"></div>"
      ]
     },
     "metadata": {},
     "output_type": "display_data"
    }
   ],
   "source": [
    "#tableName = \"adl://timvadevdls.azuredatalakestore.net/delta/eventsdl/\"\n",
    "\n",
    "#spark.sql(\"OPTIMIZE '/mnt/delta/eventsdl' ZORDER BY (conversationId)\")"
   ]
  },
  {
   "cell_type": "code",
   "execution_count": 15,
   "metadata": {},
   "outputs": [
    {
     "data": {
      "text/html": [
       "<style scoped>\n",
       "  .ansiout {\n",
       "    display: block;\n",
       "    unicode-bidi: embed;\n",
       "    white-space: pre-wrap;\n",
       "    word-wrap: break-word;\n",
       "    word-break: break-all;\n",
       "    font-family: \"Source Code Pro\", \"Menlo\", monospace;;\n",
       "    font-size: 13px;\n",
       "    color: #555;\n",
       "    margin-left: 4px;\n",
       "    line-height: 19px;\n",
       "  }\n",
       "</style>\n",
       "<div class=\"ansiout\"></div>"
      ]
     },
     "metadata": {},
     "output_type": "display_data"
    }
   ],
   "source": [
    "#spark.read.format(\"delta\").load(tableName).count()\n",
    "#ccdf = spark.sql(\"SELECT * FROM delta.`/mnt/delta/eventsdl` WHERE eventName = 'MBFEvent.CallScenario' AND conversationId = 'BTvzSeL1ZzC7b1MZDplwoK'\")\n",
    "\n",
    "#display(ccdf)"
   ]
  },
  {
   "cell_type": "code",
   "execution_count": 16,
   "metadata": {},
   "outputs": [
    {
     "data": {
      "text/html": [
       "<style scoped>\n",
       "  .ansiout {\n",
       "    display: block;\n",
       "    unicode-bidi: embed;\n",
       "    white-space: pre-wrap;\n",
       "    word-wrap: break-word;\n",
       "    word-break: break-all;\n",
       "    font-family: \"Source Code Pro\", \"Menlo\", monospace;;\n",
       "    font-size: 13px;\n",
       "    color: #555;\n",
       "    margin-left: 4px;\n",
       "    line-height: 19px;\n",
       "  }\n",
       "</style>\n",
       "<div class=\"ansiout\"></div>"
      ]
     },
     "metadata": {},
     "output_type": "display_data"
    }
   ],
   "source": [
    "def parseLuisEntity(x):\n",
    "    \n",
    "    rowDict = x.asDict()\n",
    "    jsonList = rowDict.pop('LUISentities')\n",
    "\n",
    "    js_d = json.loads(jsonList)\n",
    "    for entity in js_d:\n",
    "        rowDict['LuisEntityKey'] = entity[\"key\"]\n",
    "        rowDict['LuisEntityValue'] = entity[\"value\"]\n",
    "        rowDict['LuisEntityScore'] = entity[\"score\"]\n",
    "        yield Row(**rowDict)\n",
    "\n",
    "                          \n",
    "def timestamp_to_long(dt):\n",
    "    \"\"\"\n",
    "    This function takes a timestamp and returns it as microseconds from epoc, respecting timezone.  If no tzinfo is specified,\n",
    "    UTC is assumed.\n",
    "    :param dt:\n",
    "    :return:\n",
    "    \"\"\"\n",
    "    if dt is None:\n",
    "        return None\n",
    "\n",
    "    if not dt.tzinfo:\n",
    "        dt = dt.replace(tzinfo=datetime.timezone.utc)\n",
    "\n",
    "    return int(\n",
    "        ((dt - datetime.datetime(1970, 1, 1, tzinfo=datetime.timezone.utc)) / datetime.timedelta(microseconds=1)))\n",
    "\n",
    "\n",
    "def timestamp_diff(startTime, endTime):\n",
    "  \n",
    "    if startTime is None or endTime is None:\n",
    "        return 0\n",
    "\n",
    "    tt = timestamp_to_long(endTime) - timestamp_to_long(startTime)\n",
    "    return tt / 1000"
   ]
  },
  {
   "cell_type": "code",
   "execution_count": 17,
   "metadata": {},
   "outputs": [
    {
     "data": {
      "text/html": [
       "<style scoped>\n",
       "  .ansiout {\n",
       "    display: block;\n",
       "    unicode-bidi: embed;\n",
       "    white-space: pre-wrap;\n",
       "    word-wrap: break-word;\n",
       "    word-break: break-all;\n",
       "    font-family: \"Source Code Pro\", \"Menlo\", monospace;;\n",
       "    font-size: 13px;\n",
       "    color: #555;\n",
       "    margin-left: 4px;\n",
       "    line-height: 19px;\n",
       "  }\n",
       "</style>\n",
       "<div class=\"ansiout\">True\n",
       "</div>"
      ]
     },
     "metadata": {},
     "output_type": "display_data"
    }
   ],
   "source": [
    "#ENTITIES MANAGEMENT\n",
    "dfEntities = df_1.where((df_1[\"LUISentities\"] != '') & (df_1[\"LUISentities\"] != '[]')).select(\"conversationId\",\"timestamp\",\"itemId\",\"LUISentities\")\n",
    "#flatMapping\n",
    "mappedj = dfEntities.rdd.flatMap(parseLuisEntity)\n",
    "\n",
    "#If entities have been found, then write them in the DWH\n",
    "if(mappedj.isEmpty() == False):\n",
    "    # Create a DataFrame from the mapped collection\n",
    "    df_forEntitiesTable = spark.createDataFrame(mappedj)\n",
    "    df_forEntitiesTable = df_forEntitiesTable.withColumn(\"DateUTCInsertRow\", from_utc_timestamp(F.lit(current_timestamp()),\"Europe/Rome\")) #Andrea 25/10/2018\n",
    "    df_forEntitiesTable = df_forEntitiesTable.select(\"conversationId\",\"itemId\",\"timestamp\",\"LuisEntityKey\",\"LuisEntityValue\",\"LuisEntityScore\",\"DateUTCInsertRow\")\n",
    "    # Entities written in dedicated table into the Datawarehouse: [EventEntity] table\n",
    "    df_forEntitiesTable.write.option(\"maxStrLength\",4000).format(\"com.databricks.spark.sqldw\").option(\"url\", connStringDWH).option(\"dbtable\", \"EventEntity\").option(\"forward_spark_azure_storage_credentials\",\"True\").mode(\"append\").option(\"tempdir\", tempdatabricks_wo).save()\n",
    "    else:\n",
    "        print(mappedj.isEmpty())"
   ]
  },
  {
   "cell_type": "code",
   "execution_count": 18,
   "metadata": {},
   "outputs": [
    {
     "data": {
      "text/html": [
       "<style scoped>\n",
       "  .ansiout {\n",
       "    display: block;\n",
       "    unicode-bidi: embed;\n",
       "    white-space: pre-wrap;\n",
       "    word-wrap: break-word;\n",
       "    word-break: break-all;\n",
       "    font-family: \"Source Code Pro\", \"Menlo\", monospace;;\n",
       "    font-size: 13px;\n",
       "    color: #555;\n",
       "    margin-left: 4px;\n",
       "    line-height: 19px;\n",
       "  }\n",
       "</style>\n",
       "<div class=\"ansiout\">2018-12-13/Federico\n",
       "2018-12-13\n",
       "Fe\n",
       "</div>"
      ]
     },
     "metadata": {},
     "output_type": "display_data"
    }
   ],
   "source": [
    "print(datetimefolders)\n",
    "datefolder = datetimefolders[0:10]\n",
    "print(datefolder)\n",
    "datehour = datetimefolders[11:13]\n",
    "print(datehour)"
   ]
  },
  {
   "cell_type": "code",
   "execution_count": 19,
   "metadata": {},
   "outputs": [
    {
     "data": {
      "text/html": [
       "<style scoped>\n",
       "  .ansiout {\n",
       "    display: block;\n",
       "    unicode-bidi: embed;\n",
       "    white-space: pre-wrap;\n",
       "    word-wrap: break-word;\n",
       "    word-break: break-all;\n",
       "    font-family: \"Source Code Pro\", \"Menlo\", monospace;;\n",
       "    font-size: 13px;\n",
       "    color: #555;\n",
       "    margin-left: 4px;\n",
       "    line-height: 19px;\n",
       "  }\n",
       "</style>\n",
       "<div class=\"ansiout\"></div>"
      ]
     },
     "metadata": {},
     "output_type": "display_data"
    }
   ],
   "source": [
    "#BEFORE READ, DELETE FROM DELTA TABLE\n",
    "#spark.sql(\" DELETE FROM delta.`/delta/{0}/Events/` WHERE EventDate||'/'||hour(EventTime) = '{1}' \".format(environment, datetimefolders))  \n",
    "  \n",
    "# Reading data from Delta Table (DBFS) to take data from the past\n",
    "previous_events = spark.read.format(\"delta\").load(\"/delta/\"+environment+\"/Events/\").select(cols_pilot)\n",
    "\n",
    "#il giorno 2018-12-13 ho commentato parte sotto perchè per qualche motivo non importava alcuna riga dalla delta, ovvero previous events è vuota\n",
    "\"\"\"\n",
    "#MODIFIED ON 2018-12-11 adding logic for filtering duplicates, not based on deleting infos, but filtering them and at the overwriting them at the end of the present notebook.\n",
    "previous_events_filtered = spark.sql(\"SELECT * FROM {0}.Events WHERE eventDate != '{1}' AND hour(eventTime) != '{2}' \".format(environment, datefolder, datehour))\n",
    "previous_events = previous_events_filtered.select(cols_pilot)\n",
    "#previous_events_filtered.printSchema()\n",
    "#previous_events = spark.sql(\"SELECT eventDate, hour(eventTime) as Hour FROM previous_events_table GROUP BY eventDate, hour(eventTime) ORDER BY eventDate, hour(eventTime)\")\"\"\"\n",
    "                                     #WHERE eventDate = '{1}' AND hour(EventTime) = '{2}' \".format(environment, datefolder, datehour))\"\"\"\n",
    "#display(previous_events)\n",
    "previous_events = previous_events.withColumn(\"type\", F.lit(\"previous\"))\n",
    "# Union of two DataFrames\n",
    "unionDataFrame = previous_events.unionAll(df_1)"
   ]
  },
  {
   "cell_type": "code",
   "execution_count": 20,
   "metadata": {},
   "outputs": [
    {
     "data": {
      "text/html": [
       "<style scoped>\n",
       "  .ansiout {\n",
       "    display: block;\n",
       "    unicode-bidi: embed;\n",
       "    white-space: pre-wrap;\n",
       "    word-wrap: break-word;\n",
       "    word-break: break-all;\n",
       "    font-family: \"Source Code Pro\", \"Menlo\", monospace;;\n",
       "    font-size: 13px;\n",
       "    color: #555;\n",
       "    margin-left: 4px;\n",
       "    line-height: 19px;\n",
       "  }\n",
       "</style>\n",
       "<div class=\"ansiout\"><span class=\"ansired\">Out[</span><span class=\"ansired\">59</span><span class=\"ansired\">]: </span>0\n",
       "</div>"
      ]
     },
     "metadata": {},
     "output_type": "display_data"
    }
   ],
   "source": [
    "previous_events.count()  #ho 8 record nella delta"
   ]
  },
  {
   "cell_type": "code",
   "execution_count": 21,
   "metadata": {},
   "outputs": [
    {
     "data": {
      "text/html": [
       "<style scoped>\n",
       "  .ansiout {\n",
       "    display: block;\n",
       "    unicode-bidi: embed;\n",
       "    white-space: pre-wrap;\n",
       "    word-wrap: break-word;\n",
       "    word-break: break-all;\n",
       "    font-family: \"Source Code Pro\", \"Menlo\", monospace;;\n",
       "    font-size: 13px;\n",
       "    color: #555;\n",
       "    margin-left: 4px;\n",
       "    line-height: 19px;\n",
       "  }\n",
       "</style>\n",
       "<div class=\"ansiout\"><span class=\"ansired\">Out[</span><span class=\"ansired\">60</span><span class=\"ansired\">]: </span>4\n",
       "</div>"
      ]
     },
     "metadata": {},
     "output_type": "display_data"
    }
   ],
   "source": [
    "unionDataFrame.count()  #ha 8+4=12 records"
   ]
  },
  {
   "cell_type": "code",
   "execution_count": 22,
   "metadata": {},
   "outputs": [
    {
     "data": {
      "text/html": [
       "<style scoped>\n",
       "  .table-result-container {\n",
       "    max-height: 300px;\n",
       "    overflow: auto;\n",
       "  }\n",
       "  table, th, td {\n",
       "    border: 1px solid black;\n",
       "    border-collapse: collapse;\n",
       "  }\n",
       "  th, td {\n",
       "    padding: 5px;\n",
       "  }\n",
       "  th {\n",
       "    text-align: left;\n",
       "  }\n",
       "</style><div class='table-result-container'><table class='table-result'><thead style='background-color: white'><tr><th>ClientAtHome</th><th>LUISentities</th><th>LUISintent</th><th>LUISscore</th><th>QNAanswer</th><th>QNAcategory</th><th>QNAscore</th><th>QNAsource</th><th>QNAuserMessage</th><th>TXTANALYTICSscore</th><th>activityId</th><th>channel</th><th>conversationId</th><th>currentScenario</th><th>diagnosticResponse</th><th>dialogCloseType</th><th>endTimeAPICall</th><th>eventName</th><th>eventTime</th><th>eventdate</th><th>isAuthenticated</th><th>isLeaf</th><th>itemId</th><th>mainScenario</th><th>modemAlignment</th><th>modemChanged</th><th>modemType</th><th>notUnderstoodMessage</th><th>problemSolved</th><th>reason</th><th>scenario</th><th>scenarioCalled</th><th>scenarioId</th><th>startTimeAPICall</th><th>telemetryId</th><th>text</th><th>ticket</th><th>ticketForm</th><th>timestamp</th><th>toolExec</th><th>toolResult</th><th>user</th><th>userId</th><th>userName</th><th>applicationInsight</th><th>businessUnit</th><th>type</th><th>apiTimeDiff</th></tr></thead><tbody><tr><td></td><td></td><td></td><td></td><td></td><td></td><td></td><td></td><td></td><td>null</td><td>8mkbRBVLXnqB1DyyZ1pVcZ|0000314</td><td>pat</td><td>6LRLPjJDLkQ85QplizAeFS</td><td></td><td></td><td></td><td>null</td><td>MBFEvent.UserMessage</td><td>2018-11-12T11:49:04.561+0000</td><td>null</td><td>true</td><td></td><td>06470259-e671-11e8-88dc-9fb96e7465b9</td><td></td><td></td><td></td><td></td><td></td><td></td><td></td><td></td><td></td><td></td><td>null</td><td></td><td>effettuerò le prove</td><td></td><td></td><td>2018-11-12T11:49:00.428+0000</td><td></td><td></td><td>77F973BD0EEFAB79927F481B0611EDF8</td><td>918449a975df2c63c5a35aa56d415e4f6228035</td><td>username</td><td>appinsights-wo</td><td>wo</td><td>new</td><td>null</td></tr><tr><td></td><td></td><td></td><td></td><td></td><td></td><td></td><td></td><td></td><td>0.5085391</td><td></td><td>pat</td><td>PIPPO</td><td></td><td></td><td></td><td>null</td><td>MBFEvent.Sentiment</td><td>2018-11-12T11:49:04.544+0000</td><td>null</td><td></td><td></td><td>06470258-e671-11e8-88dc-9fb96e7465b9</td><td></td><td></td><td></td><td></td><td></td><td></td><td></td><td></td><td></td><td></td><td>null</td><td></td><td>effettuerò le prove</td><td></td><td></td><td>2018-11-12T11:49:00.428+0000</td><td></td><td></td><td></td><td>918449a975df2c63c5a35aa56d415e4f6228035</td><td>username</td><td>appinsights-wo</td><td>wo</td><td>new</td><td>null</td></tr><tr><td></td><td></td><td></td><td></td><td></td><td>ChitChat</td><td></td><td></td><td></td><td>null</td><td>8mkbRBVLXnqB1DyyZ1pVcZ|0000314</td><td>pat</td><td>ALDO</td><td></td><td></td><td></td><td>null</td><td>MBFEvent.QNAEvent</td><td>2018-11-12T11:52:08.561+0000</td><td>null</td><td>true</td><td></td><td>12345</td><td></td><td></td><td></td><td></td><td></td><td></td><td></td><td></td><td></td><td></td><td>null</td><td></td><td>effettuerò le prove</td><td></td><td></td><td>2018-11-12T11:49:00.428+0000</td><td></td><td></td><td>77F973BD0EEFAB79927F481B0611EDF8</td><td>918449a975df2c63c5a35aa56d415e4f6228035</td><td>username</td><td>appinsights-wo</td><td>wo</td><td>new</td><td>null</td></tr><tr><td></td><td></td><td></td><td></td><td></td><td></td><td></td><td></td><td></td><td>0.5085391</td><td></td><td>pat</td><td>PIPPO</td><td></td><td></td><td></td><td>null</td><td>MBFEvent.Sentiment</td><td>2018-11-12T11:51:04.544+0000</td><td>null</td><td></td><td></td><td>6789</td><td></td><td></td><td></td><td></td><td></td><td></td><td></td><td></td><td></td><td></td><td>null</td><td></td><td>effettuerò le prove</td><td></td><td></td><td>2018-11-12T11:49:00.428+0000</td><td></td><td></td><td></td><td>918449a975df2c63c5a35aa56d415e4f6228035</td><td>username</td><td>appinsights-wo</td><td>wo</td><td>new</td><td>null</td></tr></tbody></table></div>"
      ]
     },
     "metadata": {},
     "output_type": "display_data"
    }
   ],
   "source": [
    "#insert apiTimeDiff calculated column\n",
    "func_udf = udf(timestamp_diff, FloatType())\n",
    "df_allEvents = unionDataFrame.withColumn(\"apiTimeDiff\", when(unionDataFrame.eventName == 'MBFEvent.APICall', func_udf(unionDataFrame[\"startTimeAPICall\"], unionDataFrame[\"endTimeAPICall\"])))\n",
    "df_allEvents.createOrReplaceTempView('allEvents')\n",
    "display(df_allEvents)"
   ]
  },
  {
   "cell_type": "code",
   "execution_count": 23,
   "metadata": {},
   "outputs": [
    {
     "data": {
      "text/html": [
       "<style scoped>\n",
       "  .ansiout {\n",
       "    display: block;\n",
       "    unicode-bidi: embed;\n",
       "    white-space: pre-wrap;\n",
       "    word-wrap: break-word;\n",
       "    word-break: break-all;\n",
       "    font-family: \"Source Code Pro\", \"Menlo\", monospace;;\n",
       "    font-size: 13px;\n",
       "    color: #555;\n",
       "    margin-left: 4px;\n",
       "    line-height: 19px;\n",
       "  }\n",
       "</style>\n",
       "<div class=\"ansiout\"><span class=\"ansired\">Out[</span><span class=\"ansired\">62</span><span class=\"ansired\">]: </span>4\n",
       "</div>"
      ]
     },
     "metadata": {},
     "output_type": "display_data"
    }
   ],
   "source": [
    "df_allEvents.count()"
   ]
  },
  {
   "cell_type": "code",
   "execution_count": null,
   "metadata": {},
   "outputs": [],
   "source": [
    "# Expaining Windowing function\n",
    "\"\"\"Per ogni ActivityId di ogni conversationId voglio calcolare la botAnswerDuration, intesa come l'intervallo di tempo che intercorre tra il primo messaggio dell'utente e la prima risposta del Bot. Per cui Per ogni activityId prendo questi due eventi, MBFEvent.UserMessage e MBFEvent.BotMessage, dove il BotMessage deve essere in un eventTime successivo, e avrò una situazione del tipo:\n",
    "ActivityId    EventName    EventTime\n",
    "   A           UserMessage    15:30\n",
    "   A           BotMessage     15:35\n",
    " Adesso uso il Windowing per 'spostare' l eventTime del record dell UserMessage sulla riga successiva, in modo che poi posso fare la sottrazione. ovvero avrò:\n",
    " ActivityId    EventName    EventTime  EventTimePrevious   BotAnswerDuration\n",
    "   A           UserMessage    15:30         /                    /\n",
    "   A           BotMessage     15:35         15:35               00:05\n",
    "   \n",
    "   L'ho 'trascinato' sotto, quindi Windowing crea una finestra di un record, nel senso che non guardo solo il un record singolo ma anche quello prima. Avendoli ora sulla stessa riga, con un semplice withColumn posso calcolare BotAnswerDuration facendo la sottrazione.\n",
    "   Infine vado in join left con Events, perchè questo Windowing è fatto su un sottoinsieme di tutti i record, ovvero solo quelli corrispondenti agli eventi UserMessage e BotMessage (Es: Se Events ha 1000 record, Windowing lavora su 150. Facendo Events.join(df_Windowing, how='left') riottengo tutti i 1000 record con il nuovo campo botAnswerDuration che sarà valorizzato solo su alcuni dei 150 (sugli eventi BotMessage dei 150)). \"\"\""
   ]
  },
  {
   "cell_type": "code",
   "execution_count": 25,
   "metadata": {},
   "outputs": [
    {
     "data": {
      "text/html": [
       "<style scoped>\n",
       "  .table-result-container {\n",
       "    max-height: 300px;\n",
       "    overflow: auto;\n",
       "  }\n",
       "  table, th, td {\n",
       "    border: 1px solid black;\n",
       "    border-collapse: collapse;\n",
       "  }\n",
       "  th, td {\n",
       "    padding: 5px;\n",
       "  }\n",
       "  th {\n",
       "    text-align: left;\n",
       "  }\n",
       "</style><div class='table-result-container'><table class='table-result'><thead style='background-color: white'><tr><th>ConversationId</th><th>ActivityId</th><th>itemId</th><th>eventName</th><th>eventTime</th></tr></thead><tbody><tr><td>6LRLPjJDLkQ85QplizAeFS</td><td>8mkbRBVLXnqB1DyyZ1pVcZ|0000314</td><td>06470259-e671-11e8-88dc-9fb96e7465b9</td><td>MBFEvent.UserMessage</td><td>2018-11-12T11:49:04.561+0000</td></tr></tbody></table></div>"
      ]
     },
     "metadata": {},
     "output_type": "display_data"
    }
   ],
   "source": [
    "#DATAFRAME with ONLY userMessages and botMessage for calculating responseTime\n",
    "df_bot_messages = spark.sql(\" \\\n",
    "          SELECT A.ConversationId, A.ActivityId, A.eventName, A.itemId,  A.eventTime \\\n",
    "          FROM allEvents A \\\n",
    "          INNER JOIN ( \\\n",
    "                            SELECT AA.itemId, AA.ActivityId \\\n",
    "                            FROM allEvents AA \\\n",
    "                            INNER JOIN ( \\\n",
    "                                        SELECT ActivityId ,min(eventTime) as eventTime \\\n",
    "                                        FROM allEvents \\\n",
    "                                        WHERE eventName = 'MBFEvent.BotMessage' and ActivityId is not null \\\n",
    "                                        GROUP BY ActivityId \\\n",
    "                                    ) BB \\\n",
    "                              on AA.ActivityId = BB.ActivityId and AA.eventTime = BB.eventTime \\\n",
    "                            GROUP BY AA.itemId, AA.ActivityId \\\n",
    "                    ) B \\\n",
    "           ON A.ActivityId = B.ActivityId and A.itemId = B.itemId \\\n",
    "           WHERE A.eventName = 'MBFEvent.BotMessage' \\\n",
    "          \")\n",
    "\n",
    "df_user_messages = spark.sql(\" \\\n",
    "          SELECT A.ConversationId, A.ActivityId, A.eventName, A.itemId, B.eventTime \\\n",
    "          FROM allEvents as A \\\n",
    "          INNER JOIN ( \\\n",
    "                      SELECT itemId, ActivityId ,min(eventTime) as eventTime \\\n",
    "                      FROM allEvents \\\n",
    "                       WHERE eventName = 'MBFEvent.UserMessage' and ActivityId is not null \\\n",
    "                      GROUP BY itemId, ActivityId \\\n",
    "                  ) B \\\n",
    "          ON A.itemId = B.itemId \\\n",
    "\t       \")\n",
    "\n",
    "df_all_messages = df_bot_messages.union(df_user_messages).orderBy('ConversationId', 'activityId', 'eventTime', 'itemId')\n",
    "\n",
    "# TimeDiff between UserMessage and BotMessage and insert botTimeDuration in df_2_time new dataframe\n",
    "df_all_messages = df_all_messages.select(\"ConversationId\",\"ActivityId\",\"itemId\",\"eventName\",\"eventTime\").orderBy(\"conversationid\",\"eventTime\")\n",
    "display(df_all_messages)"
   ]
  },
  {
   "cell_type": "code",
   "execution_count": 26,
   "metadata": {},
   "outputs": [
    {
     "data": {
      "text/html": [
       "<style scoped>\n",
       "  .table-result-container {\n",
       "    max-height: 300px;\n",
       "    overflow: auto;\n",
       "  }\n",
       "  table, th, td {\n",
       "    border: 1px solid black;\n",
       "    border-collapse: collapse;\n",
       "  }\n",
       "  th, td {\n",
       "    padding: 5px;\n",
       "  }\n",
       "  th {\n",
       "    text-align: left;\n",
       "  }\n",
       "</style><div class='table-result-container'><table class='table-result'><thead style='background-color: white'><tr><th>itemId</th><th>ClientAtHome</th><th>LUISentities</th><th>LUISintent</th><th>LUISscore</th><th>QNAanswer</th><th>QNAcategory</th><th>QNAscore</th><th>QNAsource</th><th>QNAuserMessage</th><th>TXTANALYTICSscore</th><th>activityId</th><th>channel</th><th>conversationId</th><th>currentScenario</th><th>diagnosticResponse</th><th>dialogCloseType</th><th>endTimeAPICall</th><th>eventName</th><th>eventTime</th><th>eventdate</th><th>isAuthenticated</th><th>isLeaf</th><th>mainScenario</th><th>modemAlignment</th><th>modemChanged</th><th>modemType</th><th>notUnderstoodMessage</th><th>problemSolved</th><th>reason</th><th>scenario</th><th>scenarioCalled</th><th>scenarioId</th><th>startTimeAPICall</th><th>telemetryId</th><th>text</th><th>ticket</th><th>ticketForm</th><th>timestamp</th><th>toolExec</th><th>toolResult</th><th>user</th><th>userId</th><th>userName</th><th>applicationInsight</th><th>businessUnit</th><th>type</th><th>apiTimeDiff</th><th>BotAnswerDuration</th><th>EventTimePrevious</th></tr></thead><tbody><tr><td>6789</td><td></td><td></td><td></td><td></td><td></td><td></td><td></td><td></td><td></td><td>0.5085391</td><td></td><td>pat</td><td>PIPPO</td><td></td><td></td><td></td><td>null</td><td>MBFEvent.Sentiment</td><td>2018-11-12T11:51:04.544+0000</td><td>null</td><td></td><td></td><td></td><td></td><td></td><td></td><td></td><td></td><td></td><td></td><td></td><td></td><td>null</td><td></td><td>effettuerò le prove</td><td></td><td></td><td>2018-11-12T11:49:00.428+0000</td><td></td><td></td><td></td><td>918449a975df2c63c5a35aa56d415e4f6228035</td><td>username</td><td>appinsights-wo</td><td>wo</td><td>new</td><td>null</td><td>null</td><td>null</td></tr><tr><td>06470259-e671-11e8-88dc-9fb96e7465b9</td><td></td><td></td><td></td><td></td><td></td><td></td><td></td><td></td><td></td><td>null</td><td>8mkbRBVLXnqB1DyyZ1pVcZ|0000314</td><td>pat</td><td>6LRLPjJDLkQ85QplizAeFS</td><td></td><td></td><td></td><td>null</td><td>MBFEvent.UserMessage</td><td>2018-11-12T11:49:04.561+0000</td><td>null</td><td>true</td><td></td><td></td><td></td><td></td><td></td><td></td><td></td><td></td><td></td><td></td><td></td><td>null</td><td></td><td>effettuerò le prove</td><td></td><td></td><td>2018-11-12T11:49:00.428+0000</td><td></td><td></td><td>77F973BD0EEFAB79927F481B0611EDF8</td><td>918449a975df2c63c5a35aa56d415e4f6228035</td><td>username</td><td>appinsights-wo</td><td>wo</td><td>new</td><td>null</td><td>null</td><td>null</td></tr><tr><td>12345</td><td></td><td></td><td></td><td></td><td></td><td>ChitChat</td><td></td><td></td><td></td><td>null</td><td>8mkbRBVLXnqB1DyyZ1pVcZ|0000314</td><td>pat</td><td>ALDO</td><td></td><td></td><td></td><td>null</td><td>MBFEvent.QNAEvent</td><td>2018-11-12T11:52:08.561+0000</td><td>null</td><td>true</td><td></td><td></td><td></td><td></td><td></td><td></td><td></td><td></td><td></td><td></td><td></td><td>null</td><td></td><td>effettuerò le prove</td><td></td><td></td><td>2018-11-12T11:49:00.428+0000</td><td></td><td></td><td>77F973BD0EEFAB79927F481B0611EDF8</td><td>918449a975df2c63c5a35aa56d415e4f6228035</td><td>username</td><td>appinsights-wo</td><td>wo</td><td>new</td><td>null</td><td>null</td><td>null</td></tr><tr><td>06470258-e671-11e8-88dc-9fb96e7465b9</td><td></td><td></td><td></td><td></td><td></td><td></td><td></td><td></td><td></td><td>0.5085391</td><td></td><td>pat</td><td>PIPPO</td><td></td><td></td><td></td><td>null</td><td>MBFEvent.Sentiment</td><td>2018-11-12T11:49:04.544+0000</td><td>null</td><td></td><td></td><td></td><td></td><td></td><td></td><td></td><td></td><td></td><td></td><td></td><td></td><td>null</td><td></td><td>effettuerò le prove</td><td></td><td></td><td>2018-11-12T11:49:00.428+0000</td><td></td><td></td><td></td><td>918449a975df2c63c5a35aa56d415e4f6228035</td><td>username</td><td>appinsights-wo</td><td>wo</td><td>new</td><td>null</td><td>null</td><td>null</td></tr></tbody></table></div>"
      ]
     },
     "metadata": {},
     "output_type": "display_data"
    }
   ],
   "source": [
    "time_window = Window.partitionBy(\"activityId\").orderBy(\"ActivityId\", \"eventTime\")\n",
    "df_all_messages = df_all_messages.withColumn(\"prev_time\", F.lag(df_all_messages.eventTime).over(time_window))\n",
    "df_all_messages = df_all_messages.withColumn(\"eventTime\", df_all_messages[\"eventTime\"].cast(TimestampType()))\n",
    "df_all_messages = df_all_messages.withColumn(\"prev_time\", df_all_messages[\"prev_time\"].cast(TimestampType()))\n",
    "df_all_messages = df_all_messages.withColumn(\"BotAnswerDuration\", func_udf(df_all_messages[\"prev_time\"], df_all_messages[\"eventTime\"]))\n",
    "# df_all_messages = df_all_messages.withColumn(\"BotAnswerDuration\", func_udf(df_all_messages[\"BotAnswerDuration\"], df_all_messages[\"apiTimeDiff\"]))\n",
    "df_all_messages = df_all_messages.withColumn(\"EventTimePrevious\", to_timestamp(df_all_messages[\"prev_time\"]) ) #add column with Date of Previous Message, to do mapping of field also in DW\n",
    "#display(df_all_messages).groupby('ConversationId', 'ActivityId').select(['*'])\n",
    "df_with_BotTimeDuration = df_all_messages.select('itemId', 'BotAnswerDuration', 'EventTimePrevious').where(col(\"BotAnswerDuration\").isNotNull())\n",
    "\n",
    "#insert BotTimeDuration to a new dataframe\n",
    "df_2_time = df_allEvents.join(df_with_BotTimeDuration, 'itemId', 'left')\n",
    "display(df_2_time)\n",
    "#display(df_2_time.filter(df_2_time.activityId == 'JEBXXIfay3m328mWQLvL0x|0000160').select('eventName', 'eventTime', 'BotAnswerDuration', 'apiTimeDiff', 'EventTimePrevious'))"
   ]
  },
  {
   "cell_type": "code",
   "execution_count": 27,
   "metadata": {},
   "outputs": [
    {
     "data": {
      "text/html": [
       "<style scoped>\n",
       "  .ansiout {\n",
       "    display: block;\n",
       "    unicode-bidi: embed;\n",
       "    white-space: pre-wrap;\n",
       "    word-wrap: break-word;\n",
       "    word-break: break-all;\n",
       "    font-family: \"Source Code Pro\", \"Menlo\", monospace;;\n",
       "    font-size: 13px;\n",
       "    color: #555;\n",
       "    margin-left: 4px;\n",
       "    line-height: 19px;\n",
       "  }\n",
       "</style>\n",
       "<div class=\"ansiout\"><span class=\"ansired\">Out[</span><span class=\"ansired\">66</span><span class=\"ansired\">]: </span>&apos;METTERE QUESTA SOTTO (df_5_final) SOLAMENTE SE VOGLIO CAMBIARE I NULL DI APITIMEDIFF CON DEGLI ZERO&apos;\n",
       "</div>"
      ]
     },
     "metadata": {},
     "output_type": "display_data"
    }
   ],
   "source": [
    "#PREPARE DATA TO BE WRITTEN ENRICHED DATA INTO DWH Tables and STORE it in Databricks TABLES\n",
    "df_3_final = df_2_time\n",
    "df_3_final = df_3_final.withColumn('eventdate', df_3_final['eventTime'].cast('string').substr(1,10)) #cast from date to string and take left 10 characters to have a string in format \"yyyy-mm-dd\"\n",
    "df_3_final = df_3_final.withColumn(\"DateUTCInsertRow\", from_utc_timestamp(F.lit(current_timestamp()),\"Europe/Rome\"))\n",
    "\n",
    "\n",
    "#2018-11-05 Simone/Federico\n",
    "from types import ClassType\n",
    "ClassType(1)\n",
    "from pyspark.sql.functions import UserDefinedFunction\n",
    "from pyspark.sql.types import StringType, NullType\n",
    "udf_to_float = UserDefinedFunction(lambda x: float(0) if ClassType(x) != float else x, FloatType() )    \n",
    "df_4_final = df_3_final.select(*[udf_to_float(column).alias('BotAnswerDuration') if column == 'BotAnswerDuration' else column for column in df_3_final.columns])\n",
    "\"\"\"METTERE QUESTA SOTTO (df_5_final) SOLAMENTE SE VOGLIO CAMBIARE I NULL DI APITIMEDIFF CON DEGLI ZERO\"\"\"\n",
    "#df_5_final = df_4_final.select(*[udf_to_float(column).alias('apiTimeDiff') if column == 'apiTimeDiff' else column for column in df_4_final.columns])#\n",
    "#2018-11-05 Simone/Federico    "
   ]
  },
  {
   "cell_type": "code",
   "execution_count": 28,
   "metadata": {},
   "outputs": [
    {
     "data": {
      "text/html": [
       "<style scoped>\n",
       "  .ansiout {\n",
       "    display: block;\n",
       "    unicode-bidi: embed;\n",
       "    white-space: pre-wrap;\n",
       "    word-wrap: break-word;\n",
       "    word-break: break-all;\n",
       "    font-family: \"Source Code Pro\", \"Menlo\", monospace;;\n",
       "    font-size: 13px;\n",
       "    color: #555;\n",
       "    margin-left: 4px;\n",
       "    line-height: 19px;\n",
       "  }\n",
       "</style>\n",
       "<div class=\"ansiout\"><span class=\"ansired\">Out[</span><span class=\"ansired\">67</span><span class=\"ansired\">]: </span>4\n",
       "</div>"
      ]
     },
     "metadata": {},
     "output_type": "display_data"
    }
   ],
   "source": [
    "df_2_time.count()   #vengono creati ERRONAMENTE PIù RECORD col windowing. Debuggare"
   ]
  },
  {
   "cell_type": "markdown",
   "metadata": {},
   "source": [
    "###### Selection of records in df_4_final having BotAnswerDuration > 0"
   ]
  },
  {
   "cell_type": "code",
   "execution_count": 30,
   "metadata": {},
   "outputs": [
    {
     "data": {
      "text/html": [
       "<style scoped>\n",
       "  .ansiout {\n",
       "    display: block;\n",
       "    unicode-bidi: embed;\n",
       "    white-space: pre-wrap;\n",
       "    word-wrap: break-word;\n",
       "    word-break: break-all;\n",
       "    font-family: \"Source Code Pro\", \"Menlo\", monospace;;\n",
       "    font-size: 13px;\n",
       "    color: #555;\n",
       "    margin-left: 4px;\n",
       "    line-height: 19px;\n",
       "  }\n",
       "</style>\n",
       "<div class=\"ansiout\"><span class=\"ansired\">Out[</span><span class=\"ansired\">68</span><span class=\"ansired\">]: </span>4\n",
       "</div>"
      ]
     },
     "metadata": {},
     "output_type": "display_data"
    }
   ],
   "source": [
    "df_4_final.count()"
   ]
  },
  {
   "cell_type": "code",
   "execution_count": 31,
   "metadata": {},
   "outputs": [
    {
     "data": {
      "text/html": [
       "<style scoped>\n",
       "  .table-result-container {\n",
       "    max-height: 300px;\n",
       "    overflow: auto;\n",
       "  }\n",
       "  table, th, td {\n",
       "    border: 1px solid black;\n",
       "    border-collapse: collapse;\n",
       "  }\n",
       "  th, td {\n",
       "    padding: 5px;\n",
       "  }\n",
       "  th {\n",
       "    text-align: left;\n",
       "  }\n",
       "</style><div class='table-result-container'><table class='table-result'><thead style='background-color: white'><tr><th>botConversationId</th><th>botActivityId</th><th>botEventName</th><th>botBotAnswerDuration</th><th>botApiTimeDiff</th><th>botEventTime</th><th>botStartTimeAPICall</th><th>botEndTimeAPICall</th></tr></thead><tbody></tbody></table></div>"
      ]
     },
     "metadata": {},
     "output_type": "display_data"
    }
   ],
   "source": [
    "df_4_final.createOrReplaceTempView('table_4_final')\n",
    "\n",
    "#df_5_final.printSchema()\n",
    "\n",
    "df_bot_responseTime = spark.sql(\" \\\n",
    "          SELECT ConversationId as botConversationId, ActivityId as botActivityId, eventName as botEventName, BotAnswerDuration as botBotAnswerDuration, (apiTimeDiff) as botApiTimeDiff, eventTime as botEventTime, startTimeAPICall as botStartTimeAPICall, endTimeAPICall as botEndTimeAPICall  \\\n",
    "          FROM table_4_final \\\n",
    "          WHERE BotAnswerDuration > 0 AND eventName = 'MBFEvent.BotMessage' \\\n",
    "          GROUP BY ConversationId, ActivityId, eventName, BotAnswerDuration, apiTimeDiff, eventTime, startTimeAPICall, endTimeAPICall ORDER BY eventTime  \\\n",
    "          \")\n",
    "display(df_bot_responseTime)"
   ]
  },
  {
   "cell_type": "markdown",
   "metadata": {},
   "source": [
    "#### Selection of records in df_4_final having eventName = 'MBFEvent.APICall'"
   ]
  },
  {
   "cell_type": "code",
   "execution_count": 33,
   "metadata": {},
   "outputs": [
    {
     "data": {
      "text/html": [
       "<style scoped>\n",
       "  .table-result-container {\n",
       "    max-height: 300px;\n",
       "    overflow: auto;\n",
       "  }\n",
       "  table, th, td {\n",
       "    border: 1px solid black;\n",
       "    border-collapse: collapse;\n",
       "  }\n",
       "  th, td {\n",
       "    padding: 5px;\n",
       "  }\n",
       "  th {\n",
       "    text-align: left;\n",
       "  }\n",
       "</style><div class='table-result-container'><table class='table-result'><thead style='background-color: white'><tr><th>apiConversationId</th><th>apiActivityId</th><th>apiEventName</th><th>apiBotAnswerDuration</th><th>apiApiTimeDiff</th><th>apiEventTime</th><th>apiStartTimeAPICall</th><th>apiEndTimeAPICall</th></tr></thead><tbody></tbody></table></div>"
      ]
     },
     "metadata": {},
     "output_type": "display_data"
    }
   ],
   "source": [
    "df_api_responseTime = spark.sql(\" \\\n",
    "          SELECT ConversationId as apiConversationId, ActivityId as apiActivityId, eventName as apiEventName, BotAnswerDuration as apiBotAnswerDuration, (apiTimeDiff) as apiApiTimeDiff, eventTime as apiEventTime, startTimeAPICall as apiStartTimeAPICall, endTimeAPICall as apiEndTimeAPICall  \\\n",
    "          FROM table_4_final \\\n",
    "          WHERE eventName = 'MBFEvent.APICall' \\\n",
    "          GROUP BY ConversationId, ActivityId, eventName, BotAnswerDuration, apiTimeDiff, eventTime, startTimeAPICall, endTimeAPICall ORDER BY eventTime  \\\n",
    "          \")\n",
    "display(df_api_responseTime)"
   ]
  },
  {
   "cell_type": "markdown",
   "metadata": {},
   "source": [
    "##### Join tra Bot e api"
   ]
  },
  {
   "cell_type": "code",
   "execution_count": 35,
   "metadata": {},
   "outputs": [
    {
     "data": {
      "text/html": [
       "<style scoped>\n",
       "  .table-result-container {\n",
       "    max-height: 300px;\n",
       "    overflow: auto;\n",
       "  }\n",
       "  table, th, td {\n",
       "    border: 1px solid black;\n",
       "    border-collapse: collapse;\n",
       "  }\n",
       "  th, td {\n",
       "    padding: 5px;\n",
       "  }\n",
       "  th {\n",
       "    text-align: left;\n",
       "  }\n",
       "</style><div class='table-result-container'><table class='table-result'><thead style='background-color: white'><tr><th>botConversationId</th><th>botActivityId</th><th>botEventName</th><th>botBotAnswerDuration</th><th>apiApiTimeDiff</th><th>botEventTime</th><th>apiEventTime</th><th>apiStartTimeAPICall</th><th>apiEndTimeAPICall</th></tr></thead><tbody></tbody></table></div>"
      ]
     },
     "metadata": {},
     "output_type": "display_data"
    }
   ],
   "source": [
    "df_join_responseTime = df_bot_responseTime.join(df_api_responseTime, ((df_bot_responseTime.botConversationId == df_api_responseTime.apiConversationId) & ((df_bot_responseTime.botActivityId == df_api_responseTime.apiActivityId))), 'left')\n",
    "#df_bot_responseTime.unpersist() # unpersist() useful to prevent duplicates\n",
    "#df_api_responseTime.unpersist()\n",
    "df_join_responseTime_final = df_join_responseTime.where((col(\"botEventTime\") >= col(\"apiEndTimeAPICall\")) ).orderBy('apiEventTime') # Checking that the call of API  ends before the BotAnswer for the same ActivityId\n",
    "#df_join_responseTime.unpersist()\n",
    "df_join_responseTime_final= df_join_responseTime_final.select('botConversationId',\n",
    " 'botActivityId',\n",
    " 'botEventName',\n",
    " 'botBotAnswerDuration',\n",
    " 'apiApiTimeDiff',\n",
    " 'botEventTime',\n",
    " 'apiEventTime',\n",
    " 'apiStartTimeAPICall',\n",
    " 'apiEndTimeAPICall')\n",
    "#display(df_join_responseTime_final.select('botConversationId','botActivityId','botEventTime','apiStartTimeAPICall','apiEndTimeAPICall'))\n",
    "\n",
    "display(df_join_responseTime_final)\n",
    "\n",
    "\"\"\" Replacing NULLS with zeros\"\"\"  # <-- LASCIARLO SOLO SE VOGLIO CAMBIARE I NULL DI APITIMEDIFF CON DEGLI ZERO!!!!\n",
    "\"\"\"udf = UserDefinedFunction(lambda x: float(0) if ClassType(x) != float else x, FloatType() )\n",
    "df_join_responseTime_final= df_join_responseTime_final.select(*[udf(column).alias('apiApiTimeDiff') if column == 'apiApiTimeDiff' else column for column in df_join_responseTime_final.columns])\"\"\""
   ]
  },
  {
   "cell_type": "markdown",
   "metadata": {},
   "source": [
    "##### Sum apiTimeDiff for the same activity: subtracting sum from BotAnswerDuration"
   ]
  },
  {
   "cell_type": "code",
   "execution_count": 37,
   "metadata": {},
   "outputs": [
    {
     "data": {
      "text/html": [
       "<style scoped>\n",
       "  .table-result-container {\n",
       "    max-height: 300px;\n",
       "    overflow: auto;\n",
       "  }\n",
       "  table, th, td {\n",
       "    border: 1px solid black;\n",
       "    border-collapse: collapse;\n",
       "  }\n",
       "  th, td {\n",
       "    padding: 5px;\n",
       "  }\n",
       "  th {\n",
       "    text-align: left;\n",
       "  }\n",
       "</style><div class='table-result-container'><table class='table-result'><thead style='background-color: white'><tr><th>botConversationId</th><th>botActivityId</th><th>botEventName</th><th>botBotAnswerDuration</th><th>botEventTime</th><th>sumApiTimeDiff</th></tr></thead><tbody></tbody></table></div>"
      ]
     },
     "metadata": {},
     "output_type": "display_data"
    }
   ],
   "source": [
    "df_join_responseTime_final.createOrReplaceTempView('table_join_final')\n",
    "\n",
    "df_sum_api= spark.sql( \"SELECT botConversationId, botActivityId, botEventName, botBotAnswerDuration,botEventTime, sum(apiApiTimeDiff) as sumApiTimeDiff\\\n",
    "            FROM table_join_final \\\n",
    "            GROUP BY botConversationId, botActivityId, botEventName, botBotAnswerDuration,botEventTime\")\n",
    "\n",
    "\n",
    "df_sum_api_final = df_sum_api.withColumn(\"botBotAnswerDuration\", (df_sum_api[\"botBotAnswerDuration\"] - df_sum_api[\"sumApiTimeDiff\"]))\n",
    "df_sum_api_final= df_sum_api_final.drop(\"sumApiTimeDiff\")\n",
    "display(df_sum_api)"
   ]
  },
  {
   "cell_type": "code",
   "execution_count": 38,
   "metadata": {},
   "outputs": [
    {
     "data": {
      "text/html": [
       "<style scoped>\n",
       "  .table-result-container {\n",
       "    max-height: 300px;\n",
       "    overflow: auto;\n",
       "  }\n",
       "  table, th, td {\n",
       "    border: 1px solid black;\n",
       "    border-collapse: collapse;\n",
       "  }\n",
       "  th, td {\n",
       "    padding: 5px;\n",
       "  }\n",
       "  th {\n",
       "    text-align: left;\n",
       "  }\n",
       "</style><div class='table-result-container'><table class='table-result'><thead style='background-color: white'><tr><th>botConversationId</th><th>botActivityId</th><th>botEventName</th><th>botBotAnswerDuration</th><th>botEventTime</th></tr></thead><tbody></tbody></table></div>"
      ]
     },
     "metadata": {},
     "output_type": "display_data"
    }
   ],
   "source": [
    "display(df_sum_api_final)"
   ]
  },
  {
   "cell_type": "markdown",
   "metadata": {},
   "source": [
    "##### Updating df_5_final with the rectified BotAnswerDuration (same schema)"
   ]
  },
  {
   "cell_type": "code",
   "execution_count": 40,
   "metadata": {},
   "outputs": [
    {
     "data": {
      "text/html": [
       "<style scoped>\n",
       "  .table-result-container {\n",
       "    max-height: 300px;\n",
       "    overflow: auto;\n",
       "  }\n",
       "  table, th, td {\n",
       "    border: 1px solid black;\n",
       "    border-collapse: collapse;\n",
       "  }\n",
       "  th, td {\n",
       "    padding: 5px;\n",
       "  }\n",
       "  th {\n",
       "    text-align: left;\n",
       "  }\n",
       "</style><div class='table-result-container'><table class='table-result'><thead style='background-color: white'><tr><th>itemId</th><th>ClientAtHome</th><th>LUISentities</th><th>LUISintent</th><th>LUISscore</th><th>ProblemSolved</th><th>QNAanswer</th><th>QNAcategory</th><th>QNAscore</th><th>QNAsource</th><th>QNAuserMessage</th><th>TXTANALYTICSscore</th><th>activityId</th><th>channel</th><th>conversationId</th><th>currentScenario</th><th>diagnosticResponse</th><th>dialogCloseType</th><th>endTimeAPICall</th><th>eventName</th><th>eventTime</th><th>eventdate</th><th>isAuthenticated</th><th>isLeaf</th><th>mainScenario</th><th>modemAlignment</th><th>modemChanged</th><th>modemType</th><th>notUnderstoodMessage</th><th>reason</th><th>scenario</th><th>scenarioCalled</th><th>scenarioId</th><th>startTimeAPICall</th><th>telemetryId</th><th>text</th><th>ticket</th><th>ticketForm</th><th>timestamp</th><th>toolExec</th><th>toolResult</th><th>user</th><th>userId</th><th>userName</th><th>applicationInsight</th><th>businessUnit</th><th>type</th><th>apiTimeDiff</th><th>BotAnswerDuration</th><th>botBotAnswerDuration</th><th>EventTimePrevious</th><th>DateUTCInsertRow</th></tr></thead><tbody><tr><td>06470258-e671-11e8-88dc-9fb96e7465b9</td><td></td><td></td><td></td><td></td><td></td><td></td><td></td><td></td><td></td><td></td><td>0.5085391</td><td></td><td>pat</td><td>PIPPO</td><td></td><td></td><td></td><td>null</td><td>MBFEvent.Sentiment</td><td>2018-11-12T11:49:04.544+0000</td><td>2018-11-12</td><td></td><td></td><td></td><td></td><td></td><td></td><td></td><td></td><td></td><td></td><td></td><td>null</td><td></td><td>effettuerò le prove</td><td></td><td></td><td>2018-11-12T11:49:00.428+0000</td><td></td><td></td><td></td><td>918449a975df2c63c5a35aa56d415e4f6228035</td><td>username</td><td>appinsights-wo</td><td>wo</td><td>new</td><td>null</td><td>0.0</td><td>null</td><td>null</td><td>2018-12-19T20:25:12.420+0000</td></tr><tr><td>06470259-e671-11e8-88dc-9fb96e7465b9</td><td></td><td></td><td></td><td></td><td></td><td></td><td></td><td></td><td></td><td></td><td>null</td><td>8mkbRBVLXnqB1DyyZ1pVcZ|0000314</td><td>pat</td><td>6LRLPjJDLkQ85QplizAeFS</td><td></td><td></td><td></td><td>null</td><td>MBFEvent.UserMessage</td><td>2018-11-12T11:49:04.561+0000</td><td>2018-11-12</td><td>true</td><td></td><td></td><td></td><td></td><td></td><td></td><td></td><td></td><td></td><td></td><td>null</td><td></td><td>effettuerò le prove</td><td></td><td></td><td>2018-11-12T11:49:00.428+0000</td><td></td><td></td><td>77F973BD0EEFAB79927F481B0611EDF8</td><td>918449a975df2c63c5a35aa56d415e4f6228035</td><td>username</td><td>appinsights-wo</td><td>wo</td><td>new</td><td>null</td><td>0.0</td><td>null</td><td>null</td><td>2018-12-19T20:25:12.420+0000</td></tr><tr><td>6789</td><td></td><td></td><td></td><td></td><td></td><td></td><td></td><td></td><td></td><td></td><td>0.5085391</td><td></td><td>pat</td><td>PIPPO</td><td></td><td></td><td></td><td>null</td><td>MBFEvent.Sentiment</td><td>2018-11-12T11:51:04.544+0000</td><td>2018-11-12</td><td></td><td></td><td></td><td></td><td></td><td></td><td></td><td></td><td></td><td></td><td></td><td>null</td><td></td><td>effettuerò le prove</td><td></td><td></td><td>2018-11-12T11:49:00.428+0000</td><td></td><td></td><td></td><td>918449a975df2c63c5a35aa56d415e4f6228035</td><td>username</td><td>appinsights-wo</td><td>wo</td><td>new</td><td>null</td><td>0.0</td><td>null</td><td>null</td><td>2018-12-19T20:25:12.420+0000</td></tr><tr><td>12345</td><td></td><td></td><td></td><td></td><td></td><td></td><td>ChitChat</td><td></td><td></td><td></td><td>null</td><td>8mkbRBVLXnqB1DyyZ1pVcZ|0000314</td><td>pat</td><td>ALDO</td><td></td><td></td><td></td><td>null</td><td>MBFEvent.QNAEvent</td><td>2018-11-12T11:52:08.561+0000</td><td>2018-11-12</td><td>true</td><td></td><td></td><td></td><td></td><td></td><td></td><td></td><td></td><td></td><td></td><td>null</td><td></td><td>effettuerò le prove</td><td></td><td></td><td>2018-11-12T11:49:00.428+0000</td><td></td><td></td><td>77F973BD0EEFAB79927F481B0611EDF8</td><td>918449a975df2c63c5a35aa56d415e4f6228035</td><td>username</td><td>appinsights-wo</td><td>wo</td><td>new</td><td>null</td><td>0.0</td><td>null</td><td>null</td><td>2018-12-19T20:25:12.420+0000</td></tr></tbody></table></div>"
      ]
     },
     "metadata": {},
     "output_type": "display_data"
    }
   ],
   "source": [
    "df_5_final = df_4_final.join(df_sum_api_final, (df_4_final.conversationId == df_sum_api_final.botConversationId) & (df_4_final.activityId == df_sum_api_final.botActivityId) & (df_4_final.eventName == df_sum_api_final.botEventName) & (df_4_final.eventTime == df_sum_api_final.botEventTime), 'left').select('itemId',\n",
    " 'ClientAtHome',\n",
    " 'LUISentities',\n",
    " 'LUISintent',\n",
    " 'LUISscore',\n",
    " 'ProblemSolved',\n",
    " 'QNAanswer',\n",
    " 'QNAcategory',\n",
    " 'QNAscore',\n",
    " 'QNAsource',\n",
    " 'QNAuserMessage',\n",
    " 'TXTANALYTICSscore',\n",
    " 'activityId',\n",
    " 'channel',\n",
    " 'conversationId',\n",
    " 'currentScenario',\n",
    " 'diagnosticResponse',\n",
    " 'dialogCloseType',\n",
    " 'endTimeAPICall',\n",
    " 'eventName',\n",
    " 'eventTime',\n",
    " 'eventdate',\n",
    " 'isAuthenticated',\n",
    " 'isLeaf',\n",
    " 'mainScenario',\n",
    " 'modemAlignment',\n",
    " 'modemChanged',\n",
    " 'modemType',\n",
    " 'notUnderstoodMessage',\n",
    " 'reason',\n",
    " 'scenario',\n",
    " 'scenarioCalled',\n",
    " 'scenarioId',\n",
    " 'startTimeAPICall',\n",
    " 'telemetryId',\n",
    " 'text',\n",
    " 'ticket',\n",
    " 'ticketForm',\n",
    " 'timestamp',\n",
    " 'toolExec',\n",
    " 'toolResult',\n",
    " 'user',\n",
    " 'userId',\n",
    " 'userName',\n",
    " 'applicationInsight',\n",
    " 'businessUnit',\n",
    " 'type',\n",
    " 'apiTimeDiff',\n",
    " 'BotAnswerDuration',\n",
    " 'botBotAnswerDuration',\n",
    " 'EventTimePrevious',\n",
    " 'DateUTCInsertRow').orderBy('eventTime')\n",
    "\n",
    "#df_4_final.unpersist()   #avoiding duplicates\n",
    "# relevant columns to display: .select('conversationId', 'activityId', 'botBotAnswerDuration', 'BotAnswerDuration', 'apiTimeDiff', 'eventTime' ).orderBy('eventTime'))\n",
    "\n",
    "#there is the original BotAnswerDuration to make comparisons\n",
    "\n",
    "display(df_5_final)"
   ]
  },
  {
   "cell_type": "code",
   "execution_count": 41,
   "metadata": {},
   "outputs": [
    {
     "data": {
      "text/html": [
       "<style scoped>\n",
       "  .table-result-container {\n",
       "    max-height: 300px;\n",
       "    overflow: auto;\n",
       "  }\n",
       "  table, th, td {\n",
       "    border: 1px solid black;\n",
       "    border-collapse: collapse;\n",
       "  }\n",
       "  th, td {\n",
       "    padding: 5px;\n",
       "  }\n",
       "  th {\n",
       "    text-align: left;\n",
       "  }\n",
       "</style><div class='table-result-container'><table class='table-result'><thead style='background-color: white'><tr><th>itemId</th><th>ClientAtHome</th><th>LUISentities</th><th>LUISintent</th><th>LUISscore</th><th>ProblemSolved</th><th>QNAanswer</th><th>QNAcategory</th><th>QNAscore</th><th>QNAsource</th><th>QNAuserMessage</th><th>TXTANALYTICSscore</th><th>activityId</th><th>channel</th><th>conversationId</th><th>currentScenario</th><th>diagnosticResponse</th><th>dialogCloseType</th><th>endTimeAPICall</th><th>eventName</th><th>eventTime</th><th>eventdate</th><th>isAuthenticated</th><th>isLeaf</th><th>mainScenario</th><th>modemAlignment</th><th>modemChanged</th><th>modemType</th><th>notUnderstoodMessage</th><th>reason</th><th>scenario</th><th>scenarioCalled</th><th>scenarioId</th><th>startTimeAPICall</th><th>telemetryId</th><th>text</th><th>ticket</th><th>ticketForm</th><th>timestamp</th><th>toolExec</th><th>toolResult</th><th>user</th><th>userId</th><th>userName</th><th>applicationInsight</th><th>businessUnit</th><th>type</th><th>apiTimeDiff</th><th>BotAnswerDuration</th><th>botBotAnswerDuration</th><th>EventTimePrevious</th><th>DateUTCInsertRow</th></tr></thead><tbody><tr><td>06470258-e671-11e8-88dc-9fb96e7465b9</td><td></td><td></td><td></td><td></td><td></td><td></td><td></td><td></td><td></td><td></td><td>0.5085391</td><td></td><td>pat</td><td>PIPPO</td><td></td><td></td><td></td><td>null</td><td>MBFEvent.Sentiment</td><td>2018-11-12T11:49:04.544+0000</td><td>2018-11-12</td><td></td><td></td><td></td><td></td><td></td><td></td><td></td><td></td><td></td><td></td><td></td><td>null</td><td></td><td>effettuerò le prove</td><td></td><td></td><td>2018-11-12T11:49:00.428+0000</td><td></td><td></td><td></td><td>918449a975df2c63c5a35aa56d415e4f6228035</td><td>username</td><td>appinsights-wo</td><td>wo</td><td>new</td><td>null</td><td>null</td><td>null</td><td>null</td><td>2018-12-19T20:26:18.440+0000</td></tr><tr><td>06470259-e671-11e8-88dc-9fb96e7465b9</td><td></td><td></td><td></td><td></td><td></td><td></td><td></td><td></td><td></td><td></td><td>null</td><td>8mkbRBVLXnqB1DyyZ1pVcZ|0000314</td><td>pat</td><td>6LRLPjJDLkQ85QplizAeFS</td><td></td><td></td><td></td><td>null</td><td>MBFEvent.UserMessage</td><td>2018-11-12T11:49:04.561+0000</td><td>2018-11-12</td><td>true</td><td></td><td></td><td></td><td></td><td></td><td></td><td></td><td></td><td></td><td></td><td>null</td><td></td><td>effettuerò le prove</td><td></td><td></td><td>2018-11-12T11:49:00.428+0000</td><td></td><td></td><td>77F973BD0EEFAB79927F481B0611EDF8</td><td>918449a975df2c63c5a35aa56d415e4f6228035</td><td>username</td><td>appinsights-wo</td><td>wo</td><td>new</td><td>null</td><td>null</td><td>null</td><td>null</td><td>2018-12-19T20:26:18.440+0000</td></tr><tr><td>6789</td><td></td><td></td><td></td><td></td><td></td><td></td><td></td><td></td><td></td><td></td><td>0.5085391</td><td></td><td>pat</td><td>PIPPO</td><td></td><td></td><td></td><td>null</td><td>MBFEvent.Sentiment</td><td>2018-11-12T11:51:04.544+0000</td><td>2018-11-12</td><td></td><td></td><td></td><td></td><td></td><td></td><td></td><td></td><td></td><td></td><td></td><td>null</td><td></td><td>effettuerò le prove</td><td></td><td></td><td>2018-11-12T11:49:00.428+0000</td><td></td><td></td><td></td><td>918449a975df2c63c5a35aa56d415e4f6228035</td><td>username</td><td>appinsights-wo</td><td>wo</td><td>new</td><td>null</td><td>null</td><td>null</td><td>null</td><td>2018-12-19T20:26:18.440+0000</td></tr><tr><td>12345</td><td></td><td></td><td></td><td></td><td></td><td></td><td>ChitChat</td><td></td><td></td><td></td><td>null</td><td>8mkbRBVLXnqB1DyyZ1pVcZ|0000314</td><td>pat</td><td>ALDO</td><td></td><td></td><td></td><td>null</td><td>MBFEvent.QNAEvent</td><td>2018-11-12T11:52:08.561+0000</td><td>2018-11-12</td><td>true</td><td></td><td></td><td></td><td></td><td></td><td></td><td></td><td></td><td></td><td></td><td>null</td><td></td><td>effettuerò le prove</td><td></td><td></td><td>2018-11-12T11:49:00.428+0000</td><td></td><td></td><td>77F973BD0EEFAB79927F481B0611EDF8</td><td>918449a975df2c63c5a35aa56d415e4f6228035</td><td>username</td><td>appinsights-wo</td><td>wo</td><td>new</td><td>null</td><td>null</td><td>null</td><td>null</td><td>2018-12-19T20:26:18.440+0000</td></tr></tbody></table></div>"
      ]
     },
     "metadata": {},
     "output_type": "display_data"
    }
   ],
   "source": [
    "#display(df_5_final.select(['botBotAnswerDuration', 'BotAnswerDuration' ]))   #comparison between original and new BotAnswerDuration\n",
    "df_5_final= df_5_final.withColumn('botBotAnswerDuration', df_5_final['botBotAnswerDuration'].cast(FloatType()))\n",
    "df_5_final= df_5_final.withColumn('BotAnswerDuration', df_5_final['BotAnswerDuration'].cast(FloatType()))\n",
    "#df_5_final.printSchema()\n",
    "\n",
    "def bot_duration(old,new):\n",
    "    if new is None and old>0:\n",
    "        return old\n",
    "    else:\n",
    "        return new\n",
    "  \n",
    "udf_bot_duration= UserDefinedFunction(bot_duration, FloatType())\n",
    "df_5_final= df_5_final.withColumn('BotAnswerDuration', udf_bot_duration(df_5_final['BotAnswerDuration'], df_5_final['botBotAnswerDuration']))\n",
    "display(df_5_final)"
   ]
  },
  {
   "cell_type": "markdown",
   "metadata": {},
   "source": [
    "##### With this cell it is over the rectification of BotAnswerDuration"
   ]
  },
  {
   "cell_type": "code",
   "execution_count": 43,
   "metadata": {},
   "outputs": [
    {
     "data": {
      "text/html": [
       "<style scoped>\n",
       "  .ansiout {\n",
       "    display: block;\n",
       "    unicode-bidi: embed;\n",
       "    white-space: pre-wrap;\n",
       "    word-wrap: break-word;\n",
       "    word-break: break-all;\n",
       "    font-family: \"Source Code Pro\", \"Menlo\", monospace;;\n",
       "    font-size: 13px;\n",
       "    color: #555;\n",
       "    margin-left: 4px;\n",
       "    line-height: 19px;\n",
       "  }\n",
       "</style>\n",
       "<div class=\"ansiout\"><span class=\"ansired\">Out[</span><span class=\"ansired\">76</span><span class=\"ansired\">]: </span>False\n",
       "</div>"
      ]
     },
     "metadata": {},
     "output_type": "display_data"
    }
   ],
   "source": [
    "df_5_final= df_5_final.drop('botBotAnswerDuration')\n",
    "df_5_final.schema== df_4_final.schema   #check if the schema is the same of the original (the one before rectification)"
   ]
  },
  {
   "cell_type": "code",
   "execution_count": 44,
   "metadata": {},
   "outputs": [
    {
     "data": {
      "text/html": [
       "<style scoped>\n",
       "  .ansiout {\n",
       "    display: block;\n",
       "    unicode-bidi: embed;\n",
       "    white-space: pre-wrap;\n",
       "    word-wrap: break-word;\n",
       "    word-break: break-all;\n",
       "    font-family: \"Source Code Pro\", \"Menlo\", monospace;;\n",
       "    font-size: 13px;\n",
       "    color: #555;\n",
       "    margin-left: 4px;\n",
       "    line-height: 19px;\n",
       "  }\n",
       "</style>\n",
       "<div class=\"ansiout\"></div>"
      ]
     },
     "metadata": {},
     "output_type": "display_data"
    }
   ],
   "source": [
    "#df_5_final.persist()"
   ]
  },
  {
   "cell_type": "code",
   "execution_count": 45,
   "metadata": {},
   "outputs": [
    {
     "data": {
      "text/html": [
       "<style scoped>\n",
       "  .ansiout {\n",
       "    display: block;\n",
       "    unicode-bidi: embed;\n",
       "    white-space: pre-wrap;\n",
       "    word-wrap: break-word;\n",
       "    word-break: break-all;\n",
       "    font-family: \"Source Code Pro\", \"Menlo\", monospace;;\n",
       "    font-size: 13px;\n",
       "    color: #555;\n",
       "    margin-left: 4px;\n",
       "    line-height: 19px;\n",
       "  }\n",
       "</style>\n",
       "<div class=\"ansiout\"><span class=\"ansired\">Out[</span><span class=\"ansired\">78</span><span class=\"ansired\">]: </span>&quot;df_5_final = df_5_final.withColumn(&apos;Environment&apos;, F.lit(environment))\\ndf_5_final = df_5_final.withColumn(&apos;eventNameDecode&apos;, when(df_5_final[&apos;eventName&apos;].like(&apos;%MBFEvent%&apos;) , df_5_final[&apos;eventName&apos;].substr(10,15)).otherwise(df_5_final[&apos;eventName&apos;]))&quot;\n",
       "</div>"
      ]
     },
     "metadata": {},
     "output_type": "display_data"
    }
   ],
   "source": [
    "#06-12-2018 to be added Environment and eventNameDecode correctly\n",
    "\"\"\"df_5_final = df_5_final.withColumn('Environment', F.lit(environment))\n",
    "df_5_final = df_5_final.withColumn('eventNameDecode', when(df_5_final['eventName'].like('%MBFEvent%') , df_5_final['eventName'].substr(10,15)).otherwise(df_5_final['eventName']))\"\"\""
   ]
  },
  {
   "cell_type": "markdown",
   "metadata": {},
   "source": [
    "added Environment and eventNameDecode"
   ]
  },
  {
   "cell_type": "code",
   "execution_count": 47,
   "metadata": {},
   "outputs": [
    {
     "data": {
      "text/html": [
       "<style scoped>\n",
       "  .ansiout {\n",
       "    display: block;\n",
       "    unicode-bidi: embed;\n",
       "    white-space: pre-wrap;\n",
       "    word-wrap: break-word;\n",
       "    word-break: break-all;\n",
       "    font-family: \"Source Code Pro\", \"Menlo\", monospace;;\n",
       "    font-size: 13px;\n",
       "    color: #555;\n",
       "    margin-left: 4px;\n",
       "    line-height: 19px;\n",
       "  }\n",
       "</style>\n",
       "<div class=\"ansiout\"></div>"
      ]
     },
     "metadata": {},
     "output_type": "display_data"
    }
   ],
   "source": [
    "df_5_final = df_5_final.withColumn('Environment', F.lit(environment))\n",
    "df_5_final = df_5_final.withColumn('eventNameDecode', when(df_5_final['eventName'].like('%MBFEvent%') , df_5_final['eventName'].substr(10,15)).otherwise(df_5_final['eventName']))"
   ]
  },
  {
   "cell_type": "code",
   "execution_count": 48,
   "metadata": {},
   "outputs": [
    {
     "data": {
      "text/html": [
       "<style scoped>\n",
       "  .ansiout {\n",
       "    display: block;\n",
       "    unicode-bidi: embed;\n",
       "    white-space: pre-wrap;\n",
       "    word-wrap: break-word;\n",
       "    word-break: break-all;\n",
       "    font-family: \"Source Code Pro\", \"Menlo\", monospace;;\n",
       "    font-size: 13px;\n",
       "    color: #555;\n",
       "    margin-left: 4px;\n",
       "    line-height: 19px;\n",
       "  }\n",
       "</style>\n",
       "<div class=\"ansiout\"><span class=\"ansired\">Out[</span><span class=\"ansired\">80</span><span class=\"ansired\">]: </span>4\n",
       "</div>"
      ]
     },
     "metadata": {},
     "output_type": "display_data"
    }
   ],
   "source": [
    "df_5_final.count()"
   ]
  },
  {
   "cell_type": "markdown",
   "metadata": {},
   "source": [
    "### Adding new fields to Events: Status, Recognition, Status Code, Recognition Code following Business rules"
   ]
  },
  {
   "cell_type": "code",
   "execution_count": 50,
   "metadata": {},
   "outputs": [
    {
     "data": {
      "text/html": [
       "<style scoped>\n",
       "  .table-result-container {\n",
       "    max-height: 300px;\n",
       "    overflow: auto;\n",
       "  }\n",
       "  table, th, td {\n",
       "    border: 1px solid black;\n",
       "    border-collapse: collapse;\n",
       "  }\n",
       "  th, td {\n",
       "    padding: 5px;\n",
       "  }\n",
       "  th {\n",
       "    text-align: left;\n",
       "  }\n",
       "</style><div class='table-result-container'><table class='table-result'><thead style='background-color: white'><tr><th>itemId</th><th>ClientAtHome</th><th>LUISentities</th><th>LUISintent</th><th>LUISscore</th><th>ProblemSolved</th><th>QNAanswer</th><th>QNAcategory</th><th>QNAscore</th><th>QNAsource</th><th>QNAuserMessage</th><th>TXTANALYTICSscore</th><th>activityId</th><th>channel</th><th>conversationId</th><th>currentScenario</th><th>diagnosticResponse</th><th>dialogCloseType</th><th>endTimeAPICall</th><th>eventName</th><th>eventTime</th><th>eventdate</th><th>isAuthenticated</th><th>isLeaf</th><th>mainScenario</th><th>modemAlignment</th><th>modemChanged</th><th>modemType</th><th>notUnderstoodMessage</th><th>reason</th><th>scenario</th><th>scenarioCalled</th><th>scenarioId</th><th>startTimeAPICall</th><th>telemetryId</th><th>text</th><th>ticket</th><th>ticketForm</th><th>timestamp</th><th>toolExec</th><th>toolResult</th><th>user</th><th>userId</th><th>userName</th><th>applicationInsight</th><th>businessUnit</th><th>type</th><th>apiTimeDiff</th><th>BotAnswerDuration</th><th>EventTimePrevious</th><th>DateUTCInsertRow</th><th>Environment</th><th>eventNameDecode</th><th>Status</th><th>Recognition</th><th>Status code</th><th>Recognition code</th></tr></thead><tbody><tr><td>06470258-e671-11e8-88dc-9fb96e7465b9</td><td></td><td></td><td></td><td></td><td></td><td></td><td></td><td></td><td></td><td></td><td>0.5085391</td><td></td><td>pat</td><td>PIPPO</td><td></td><td></td><td></td><td>null</td><td>MBFEvent.Sentiment</td><td>2018-11-12T11:49:04.544+0000</td><td>2018-11-12</td><td></td><td></td><td></td><td></td><td></td><td></td><td></td><td></td><td></td><td></td><td></td><td>null</td><td></td><td>effettuerò le prove</td><td></td><td></td><td>2018-11-12T11:49:00.428+0000</td><td></td><td></td><td></td><td>918449a975df2c63c5a35aa56d415e4f6228035</td><td>username</td><td>appinsights-wo</td><td>wo</td><td>new</td><td>null</td><td>null</td><td>null</td><td>2018-12-19T20:28:23.955+0000</td><td>DEV</td><td>Sentiment</td><td>undefined</td><td>undefined</td><td>undefined</td><td>undefined</td></tr><tr><td>06470259-e671-11e8-88dc-9fb96e7465b9</td><td></td><td></td><td></td><td></td><td></td><td></td><td></td><td></td><td></td><td></td><td>null</td><td>8mkbRBVLXnqB1DyyZ1pVcZ|0000314</td><td>pat</td><td>6LRLPjJDLkQ85QplizAeFS</td><td></td><td></td><td></td><td>null</td><td>MBFEvent.UserMessage</td><td>2018-11-12T11:49:04.561+0000</td><td>2018-11-12</td><td>true</td><td></td><td></td><td></td><td></td><td></td><td></td><td></td><td></td><td></td><td></td><td>null</td><td></td><td>effettuerò le prove</td><td></td><td></td><td>2018-11-12T11:49:00.428+0000</td><td></td><td></td><td>77F973BD0EEFAB79927F481B0611EDF8</td><td>918449a975df2c63c5a35aa56d415e4f6228035</td><td>username</td><td>appinsights-wo</td><td>wo</td><td>new</td><td>null</td><td>null</td><td>null</td><td>2018-12-19T20:28:23.955+0000</td><td>DEV</td><td>UserMessage</td><td>undefined</td><td>undefined</td><td>undefined</td><td>undefined</td></tr><tr><td>6789</td><td></td><td></td><td></td><td></td><td></td><td></td><td></td><td></td><td></td><td></td><td>0.5085391</td><td></td><td>pat</td><td>PIPPO</td><td></td><td></td><td></td><td>null</td><td>MBFEvent.Sentiment</td><td>2018-11-12T11:51:04.544+0000</td><td>2018-11-12</td><td></td><td></td><td></td><td></td><td></td><td></td><td></td><td></td><td></td><td></td><td></td><td>null</td><td></td><td>effettuerò le prove</td><td></td><td></td><td>2018-11-12T11:49:00.428+0000</td><td></td><td></td><td></td><td>918449a975df2c63c5a35aa56d415e4f6228035</td><td>username</td><td>appinsights-wo</td><td>wo</td><td>new</td><td>null</td><td>null</td><td>null</td><td>2018-12-19T20:28:23.955+0000</td><td>DEV</td><td>Sentiment</td><td>undefined</td><td>undefined</td><td>undefined</td><td>undefined</td></tr><tr><td>12345</td><td></td><td></td><td></td><td></td><td></td><td></td><td>ChitChat</td><td></td><td></td><td></td><td>null</td><td>8mkbRBVLXnqB1DyyZ1pVcZ|0000314</td><td>pat</td><td>ALDO</td><td></td><td></td><td></td><td>null</td><td>MBFEvent.QNAEvent</td><td>2018-11-12T11:52:08.561+0000</td><td>2018-11-12</td><td>true</td><td></td><td></td><td></td><td></td><td></td><td></td><td></td><td></td><td></td><td></td><td>null</td><td></td><td>effettuerò le prove</td><td></td><td></td><td>2018-11-12T11:49:00.428+0000</td><td></td><td></td><td>77F973BD0EEFAB79927F481B0611EDF8</td><td>918449a975df2c63c5a35aa56d415e4f6228035</td><td>username</td><td>appinsights-wo</td><td>wo</td><td>new</td><td>null</td><td>null</td><td>null</td><td>2018-12-19T20:28:23.955+0000</td><td>DEV</td><td>QNAEvent</td><td>in corso</td><td>inconsistente</td><td>IC</td><td>INC</td></tr></tbody></table></div>"
      ]
     },
     "metadata": {},
     "output_type": "display_data"
    }
   ],
   "source": [
    "#new_Events = df_5_final.filter(df_5_final.type == 'new')\n",
    "new_Events= df_5_final\n",
    "new_Events= new_Events.withColumn('Status', when( ((new_Events.mainScenario != 'Default Dialog') & (new_Events.scenario== 'InitScenario')) | (\n",
    "  (new_Events.eventName== 'MBFEvent.QNAEvent') & (new_Events.QNAcategory!= 'ChitChat')), F.lit('in corso')).when(new_Events.mainScenario == 'Default Dialog', F.lit('in corso')).when((new_Events.scenario== 'InitScenario') | ((new_Events.eventName== 'MBFEvent.QNAEvent') & (new_Events.QNAcategory== 'ChitChat')), F.lit('in corso')).otherwise(F.lit('undefined')))\n",
    "\n",
    "new_Events= new_Events.withColumn('Recognition', when( ((new_Events.mainScenario != 'Default Dialog') & (new_Events.scenario== 'InitScenario')) | (\n",
    "  (new_Events.eventName== 'MBFEvent.QNAEvent') & (new_Events.QNAcategory!= 'ChitChat')), F.lit('riconosciuta')).when(new_Events.mainScenario == 'Default Dialog', F.lit('non riconosciuta')).when((new_Events.scenario== 'InitScenario') | ((new_Events.eventName== 'MBFEvent.QNAEvent') & (new_Events.QNAcategory== 'ChitChat')), F.lit('inconsistente')).otherwise(F.lit('undefined')))\n",
    "\n",
    "new_Events= new_Events.withColumn('Status code', when( ((new_Events.mainScenario != 'Default Dialog') & (new_Events.scenario== 'InitScenario')) | (\n",
    "  (new_Events.eventName== 'MBFEvent.QNAEvent') & (new_Events.QNAcategory!= 'ChitChat')), F.lit('IC')).when(new_Events.mainScenario == 'Default Dialog', F.lit('IC')).when((new_Events.scenario== 'InitScenario') | ((new_Events.eventName== 'MBFEvent.QNAEvent') & (new_Events.QNAcategory== 'ChitChat')), F.lit('IC')).otherwise(F.lit('undefined')))\n",
    "\n",
    "new_Events= new_Events.withColumn('Recognition code', when( ((new_Events.mainScenario != 'Default Dialog') & (new_Events.scenario== 'InitScenario')) | (\n",
    "  (new_Events.eventName== 'MBFEvent.QNAEvent') & (new_Events.QNAcategory!= 'ChitChat')), F.lit('RIC')).when(new_Events.mainScenario == 'Default Dialog', F.lit('NRIC')).when((new_Events.scenario== 'InitScenario') | ((new_Events.eventName== 'MBFEvent.QNAEvent') & (new_Events.QNAcategory== 'ChitChat')), F.lit('INC')).otherwise(F.lit('undefined')))\n",
    "\n",
    "display(new_Events)\n",
    "#new_Events.count()\n",
    "#print(new_Events.explain())"
   ]
  },
  {
   "cell_type": "markdown",
   "metadata": {},
   "source": [
    "#####Adding to Events table a temporary field which says the difference (in hours) between the actual time and the EventTime"
   ]
  },
  {
   "cell_type": "code",
   "execution_count": 52,
   "metadata": {},
   "outputs": [
    {
     "data": {
      "text/html": [
       "<style scoped>\n",
       "  .table-result-container {\n",
       "    max-height: 300px;\n",
       "    overflow: auto;\n",
       "  }\n",
       "  table, th, td {\n",
       "    border: 1px solid black;\n",
       "    border-collapse: collapse;\n",
       "  }\n",
       "  th, td {\n",
       "    padding: 5px;\n",
       "  }\n",
       "  th {\n",
       "    text-align: left;\n",
       "  }\n",
       "</style><div class='table-result-container'><table class='table-result'><thead style='background-color: white'><tr><th>itemId</th><th>ClientAtHome</th><th>LUISentities</th><th>LUISintent</th><th>LUISscore</th><th>ProblemSolved</th><th>QNAanswer</th><th>QNAcategory</th><th>QNAscore</th><th>QNAsource</th><th>QNAuserMessage</th><th>TXTANALYTICSscore</th><th>activityId</th><th>channel</th><th>conversationId</th><th>currentScenario</th><th>diagnosticResponse</th><th>dialogCloseType</th><th>endTimeAPICall</th><th>eventName</th><th>eventTime</th><th>eventdate</th><th>isAuthenticated</th><th>isLeaf</th><th>mainScenario</th><th>modemAlignment</th><th>modemChanged</th><th>modemType</th><th>notUnderstoodMessage</th><th>reason</th><th>scenario</th><th>scenarioCalled</th><th>scenarioId</th><th>startTimeAPICall</th><th>telemetryId</th><th>text</th><th>ticket</th><th>ticketForm</th><th>timestamp</th><th>toolExec</th><th>toolResult</th><th>user</th><th>userId</th><th>userName</th><th>applicationInsight</th><th>businessUnit</th><th>type</th><th>apiTimeDiff</th><th>BotAnswerDuration</th><th>EventTimePrevious</th><th>DateUTCInsertRow</th><th>Environment</th><th>eventNameDecode</th><th>Status</th><th>Recognition</th><th>Status code</th><th>Recognition code</th><th>diff_hours</th></tr></thead><tbody><tr><td>06470258-e671-11e8-88dc-9fb96e7465b9</td><td></td><td></td><td></td><td></td><td></td><td></td><td></td><td></td><td></td><td></td><td>0.5085391</td><td></td><td>pat</td><td>PIPPO</td><td></td><td></td><td></td><td>null</td><td>MBFEvent.Sentiment</td><td>2018-11-12T11:49:04.544+0000</td><td>2018-11-12</td><td></td><td></td><td></td><td></td><td></td><td></td><td></td><td></td><td></td><td></td><td></td><td>null</td><td></td><td>effettuerò le prove</td><td></td><td></td><td>2018-11-12T11:49:00.428+0000</td><td></td><td></td><td></td><td>918449a975df2c63c5a35aa56d415e4f6228035</td><td>username</td><td>appinsights-wo</td><td>wo</td><td>new</td><td>null</td><td>null</td><td>null</td><td>2018-12-19T20:29:09.469+0000</td><td>DEV</td><td>Sentiment</td><td>undefined</td><td>undefined</td><td>undefined</td><td>undefined</td><td>895.67</td></tr><tr><td>06470259-e671-11e8-88dc-9fb96e7465b9</td><td></td><td></td><td></td><td></td><td></td><td></td><td></td><td></td><td></td><td></td><td>null</td><td>8mkbRBVLXnqB1DyyZ1pVcZ|0000314</td><td>pat</td><td>6LRLPjJDLkQ85QplizAeFS</td><td></td><td></td><td></td><td>null</td><td>MBFEvent.UserMessage</td><td>2018-11-12T11:49:04.561+0000</td><td>2018-11-12</td><td>true</td><td></td><td></td><td></td><td></td><td></td><td></td><td></td><td></td><td></td><td></td><td>null</td><td></td><td>effettuerò le prove</td><td></td><td></td><td>2018-11-12T11:49:00.428+0000</td><td></td><td></td><td>77F973BD0EEFAB79927F481B0611EDF8</td><td>918449a975df2c63c5a35aa56d415e4f6228035</td><td>username</td><td>appinsights-wo</td><td>wo</td><td>new</td><td>null</td><td>null</td><td>null</td><td>2018-12-19T20:29:09.469+0000</td><td>DEV</td><td>UserMessage</td><td>undefined</td><td>undefined</td><td>undefined</td><td>undefined</td><td>895.67</td></tr><tr><td>6789</td><td></td><td></td><td></td><td></td><td></td><td></td><td></td><td></td><td></td><td></td><td>0.5085391</td><td></td><td>pat</td><td>PIPPO</td><td></td><td></td><td></td><td>null</td><td>MBFEvent.Sentiment</td><td>2018-11-12T11:51:04.544+0000</td><td>2018-11-12</td><td></td><td></td><td></td><td></td><td></td><td></td><td></td><td></td><td></td><td></td><td></td><td>null</td><td></td><td>effettuerò le prove</td><td></td><td></td><td>2018-11-12T11:49:00.428+0000</td><td></td><td></td><td></td><td>918449a975df2c63c5a35aa56d415e4f6228035</td><td>username</td><td>appinsights-wo</td><td>wo</td><td>new</td><td>null</td><td>null</td><td>null</td><td>2018-12-19T20:29:09.469+0000</td><td>DEV</td><td>Sentiment</td><td>undefined</td><td>undefined</td><td>undefined</td><td>undefined</td><td>895.63</td></tr><tr><td>12345</td><td></td><td></td><td></td><td></td><td></td><td></td><td>ChitChat</td><td></td><td></td><td></td><td>null</td><td>8mkbRBVLXnqB1DyyZ1pVcZ|0000314</td><td>pat</td><td>ALDO</td><td></td><td></td><td></td><td>null</td><td>MBFEvent.QNAEvent</td><td>2018-11-12T11:52:08.561+0000</td><td>2018-11-12</td><td>true</td><td></td><td></td><td></td><td></td><td></td><td></td><td></td><td></td><td></td><td></td><td>null</td><td></td><td>effettuerò le prove</td><td></td><td></td><td>2018-11-12T11:49:00.428+0000</td><td></td><td></td><td>77F973BD0EEFAB79927F481B0611EDF8</td><td>918449a975df2c63c5a35aa56d415e4f6228035</td><td>username</td><td>appinsights-wo</td><td>wo</td><td>new</td><td>null</td><td>null</td><td>null</td><td>2018-12-19T20:29:09.469+0000</td><td>DEV</td><td>QNAEvent</td><td>in corso</td><td>inconsistente</td><td>IC</td><td>INC</td><td>895.62</td></tr></tbody></table></div>"
      ]
     },
     "metadata": {},
     "output_type": "display_data"
    }
   ],
   "source": [
    "def timestamp_diff_hours(endTime,startTime):\n",
    "    if startTime is None or endTime is None:\n",
    "        return 0\n",
    "    tt = timestamp_to_long(endTime) - timestamp_to_long(startTime)\n",
    "    return tt / (1000)\n",
    "  \n",
    "def arrotonda(x):\n",
    "    return round(x,2)\n",
    "  \n",
    "func_udf2= udf(timestamp_diff_hours, FloatType())\n",
    "new_Events= new_Events.withColumn('diff_hours', func_udf2(current_timestamp(), new_Events['eventTime'])/(1000*3600))\n",
    "\n",
    "udf_round= udf(arrotonda, FloatType())\n",
    "new_Events= new_Events.withColumn('diff_hours', udf_round(new_Events['diff_hours']))\n",
    "\n",
    "display(new_Events)"
   ]
  },
  {
   "cell_type": "markdown",
   "metadata": {},
   "source": [
    "#### Filtering Events in standby (between 20 and 30 minutes) and after standby (more than 30 minutes)"
   ]
  },
  {
   "cell_type": "code",
   "execution_count": 54,
   "metadata": {},
   "outputs": [
    {
     "data": {
      "text/html": [
       "<style scoped>\n",
       "  .table-result-container {\n",
       "    max-height: 300px;\n",
       "    overflow: auto;\n",
       "  }\n",
       "  table, th, td {\n",
       "    border: 1px solid black;\n",
       "    border-collapse: collapse;\n",
       "  }\n",
       "  th, td {\n",
       "    padding: 5px;\n",
       "  }\n",
       "  th {\n",
       "    text-align: left;\n",
       "  }\n",
       "</style><div class='table-result-container'><table class='table-result'><thead style='background-color: white'><tr><th>convId</th><th>last_time_conv</th><th>Status_temp</th></tr></thead><tbody><tr><td>6LRLPjJDLkQ85QplizAeFS</td><td>2018-11-12T11:49:04.561+0000</td><td>oltre stand by</td></tr><tr><td>PIPPO</td><td>2018-11-12T11:51:04.544+0000</td><td>oltre stand by</td></tr><tr><td>ALDO</td><td>2018-11-12T11:52:08.561+0000</td><td>oltre stand by</td></tr></tbody></table></div>"
      ]
     },
     "metadata": {},
     "output_type": "display_data"
    }
   ],
   "source": [
    "new_Events.createOrReplaceTempView('new_Events_sql')\n",
    "\n",
    "stand_by = spark.sql(\" \\\n",
    "          SELECT ConversationId as convId, max(eventTime) as last_time_conv \\\n",
    "          FROM new_Events_sql \\\n",
    "          WHERE diff_hours*60 >= 20 AND diff_hours*60 <30 \\\n",
    "          GROUP BY ConversationId \\\n",
    "          ORDER BY max(eventTime)\\\n",
    "          \")\n",
    "\n",
    "#ATTENZIONE: L'UPPER BOUND DELLO STANBY DEVE ESSERE IL LOWER BOUND DI \"OLTRE_STAN_BY, E UNO CHE LO INCLUDE E L ALTRO NO, PER COPRIRE TUTTI I CASI\"\n",
    "after_stand_by = spark.sql(\" \\\n",
    "          SELECT ConversationId as convId, max(eventTime) as last_time_conv \\\n",
    "          FROM new_Events_sql \\\n",
    "          WHERE diff_hours*60 >= 30 \\\n",
    "          GROUP BY ConversationId \\\n",
    "          ORDER BY max(eventTime)\\\n",
    "          \")\n",
    "\n",
    "stand_by= stand_by.withColumn('Status_temp', F.lit('stand by'))\n",
    "after_stand_by= after_stand_by.withColumn('Status_temp', F.lit('oltre stand by'))\n",
    "union_sb_and_after= stand_by.unionAll(after_stand_by)\n",
    "display(union_sb_and_after)  #avrò l ultimo record di ogni conv che è oltre lo standby, ovvero oltre i 30 min"
   ]
  },
  {
   "cell_type": "markdown",
   "metadata": {},
   "source": [
    "####Joining table Events with the one filtered in the previous cell, referring to all conversations in SB and after"
   ]
  },
  {
   "cell_type": "code",
   "execution_count": 56,
   "metadata": {},
   "outputs": [
    {
     "data": {
      "text/html": [
       "<style scoped>\n",
       "  .table-result-container {\n",
       "    max-height: 300px;\n",
       "    overflow: auto;\n",
       "  }\n",
       "  table, th, td {\n",
       "    border: 1px solid black;\n",
       "    border-collapse: collapse;\n",
       "  }\n",
       "  th, td {\n",
       "    padding: 5px;\n",
       "  }\n",
       "  th {\n",
       "    text-align: left;\n",
       "  }\n",
       "</style><div class='table-result-container'><table class='table-result'><thead style='background-color: white'><tr><th>itemId</th><th>ClientAtHome</th><th>LUISentities</th><th>LUISintent</th><th>LUISscore</th><th>ProblemSolved</th><th>QNAanswer</th><th>QNAcategory</th><th>QNAscore</th><th>QNAsource</th><th>QNAuserMessage</th><th>TXTANALYTICSscore</th><th>activityId</th><th>channel</th><th>conversationId</th><th>currentScenario</th><th>diagnosticResponse</th><th>dialogCloseType</th><th>endTimeAPICall</th><th>eventName</th><th>eventTime</th><th>eventdate</th><th>isAuthenticated</th><th>isLeaf</th><th>mainScenario</th><th>modemAlignment</th><th>modemChanged</th><th>modemType</th><th>notUnderstoodMessage</th><th>reason</th><th>scenario</th><th>scenarioCalled</th><th>scenarioId</th><th>startTimeAPICall</th><th>telemetryId</th><th>text</th><th>ticket</th><th>ticketForm</th><th>timestamp</th><th>toolExec</th><th>toolResult</th><th>user</th><th>userId</th><th>userName</th><th>applicationInsight</th><th>businessUnit</th><th>type</th><th>apiTimeDiff</th><th>BotAnswerDuration</th><th>EventTimePrevious</th><th>DateUTCInsertRow</th><th>Environment</th><th>eventNameDecode</th><th>Status</th><th>Recognition</th><th>StatusCode</th><th>RecognitionCode</th><th>diff_hours</th><th>convId</th><th>last_time_conv</th><th>Status_temp</th></tr></thead><tbody><tr><td>6789</td><td></td><td></td><td></td><td></td><td></td><td></td><td></td><td></td><td></td><td></td><td>0.5085391</td><td></td><td>pat</td><td>PIPPO</td><td></td><td></td><td></td><td>null</td><td>MBFEvent.Sentiment</td><td>2018-11-12T11:51:04.544+0000</td><td>2018-11-12</td><td></td><td></td><td></td><td></td><td></td><td></td><td></td><td></td><td></td><td></td><td></td><td>null</td><td></td><td>effettuerò le prove</td><td></td><td></td><td>2018-11-12T11:49:00.428+0000</td><td></td><td></td><td></td><td>918449a975df2c63c5a35aa56d415e4f6228035</td><td>username</td><td>appinsights-wo</td><td>wo</td><td>new</td><td>null</td><td>null</td><td>null</td><td>2018-12-19T20:31:38.622+0000</td><td>DEV</td><td>Sentiment</td><td>abbandonata</td><td>undefined</td><td>AB</td><td>undefined</td><td>895.68</td><td>PIPPO</td><td>2018-11-12T11:51:04.544+0000</td><td>oltre stand by</td></tr><tr><td>06470258-e671-11e8-88dc-9fb96e7465b9</td><td></td><td></td><td></td><td></td><td></td><td></td><td></td><td></td><td></td><td></td><td>0.5085391</td><td></td><td>pat</td><td>PIPPO</td><td></td><td></td><td></td><td>null</td><td>MBFEvent.Sentiment</td><td>2018-11-12T11:49:04.544+0000</td><td>2018-11-12</td><td></td><td></td><td></td><td></td><td></td><td></td><td></td><td></td><td></td><td></td><td></td><td>null</td><td></td><td>effettuerò le prove</td><td></td><td></td><td>2018-11-12T11:49:00.428+0000</td><td></td><td></td><td></td><td>918449a975df2c63c5a35aa56d415e4f6228035</td><td>username</td><td>appinsights-wo</td><td>wo</td><td>new</td><td>null</td><td>null</td><td>null</td><td>2018-12-19T20:31:38.622+0000</td><td>DEV</td><td>Sentiment</td><td>undefined</td><td>undefined</td><td>undefined</td><td>undefined</td><td>895.71</td><td>null</td><td>null</td><td>null</td></tr><tr><td>12345</td><td></td><td></td><td></td><td></td><td></td><td></td><td>ChitChat</td><td></td><td></td><td></td><td>null</td><td>8mkbRBVLXnqB1DyyZ1pVcZ|0000314</td><td>pat</td><td>ALDO</td><td></td><td></td><td></td><td>null</td><td>MBFEvent.QNAEvent</td><td>2018-11-12T11:52:08.561+0000</td><td>2018-11-12</td><td>true</td><td></td><td></td><td></td><td></td><td></td><td></td><td></td><td></td><td></td><td></td><td>null</td><td></td><td>effettuerò le prove</td><td></td><td></td><td>2018-11-12T11:49:00.428+0000</td><td></td><td></td><td>77F973BD0EEFAB79927F481B0611EDF8</td><td>918449a975df2c63c5a35aa56d415e4f6228035</td><td>username</td><td>appinsights-wo</td><td>wo</td><td>new</td><td>null</td><td>null</td><td>null</td><td>2018-12-19T20:31:38.622+0000</td><td>DEV</td><td>QNAEvent</td><td>abbandonata</td><td>inconsistente</td><td>AB</td><td>INC</td><td>895.66</td><td>ALDO</td><td>2018-11-12T11:52:08.561+0000</td><td>oltre stand by</td></tr><tr><td>06470259-e671-11e8-88dc-9fb96e7465b9</td><td></td><td></td><td></td><td></td><td></td><td></td><td></td><td></td><td></td><td></td><td>null</td><td>8mkbRBVLXnqB1DyyZ1pVcZ|0000314</td><td>pat</td><td>6LRLPjJDLkQ85QplizAeFS</td><td></td><td></td><td></td><td>null</td><td>MBFEvent.UserMessage</td><td>2018-11-12T11:49:04.561+0000</td><td>2018-11-12</td><td>true</td><td></td><td></td><td></td><td></td><td></td><td></td><td></td><td></td><td></td><td></td><td>null</td><td></td><td>effettuerò le prove</td><td></td><td></td><td>2018-11-12T11:49:00.428+0000</td><td></td><td></td><td>77F973BD0EEFAB79927F481B0611EDF8</td><td>918449a975df2c63c5a35aa56d415e4f6228035</td><td>username</td><td>appinsights-wo</td><td>wo</td><td>new</td><td>null</td><td>null</td><td>null</td><td>2018-12-19T20:31:38.622+0000</td><td>DEV</td><td>UserMessage</td><td>abbandonata</td><td>undefined</td><td>AB</td><td>undefined</td><td>895.71</td><td>6LRLPjJDLkQ85QplizAeFS</td><td>2018-11-12T11:49:04.561+0000</td><td>oltre stand by</td></tr></tbody></table></div>"
      ]
     },
     "metadata": {},
     "output_type": "display_data"
    }
   ],
   "source": [
    "new_Events2= new_Events.join(union_sb_and_after, ((new_Events.conversationId == union_sb_and_after.convId) & (new_Events.eventTime == union_sb_and_after.last_time_conv)\n",
    "                        ), 'left')\n",
    "\n",
    "new_Events2= new_Events2.withColumn('Status', when(((new_Events2['Status_temp']== 'oltre stand by') & (new_Events2['isLeaf'] == 'true')), F.lit('chiusa')).when(((new_Events2['Status_temp']== 'oltre stand by') & (new_Events2['isLeaf'] !='true')), F.lit('abbandonata')).otherwise(new_Events2['Status'])).withColumn('Status code', when(((new_Events2['Status_temp']== 'oltre stand by') & (new_Events2['isLeaf'] == 'true')), F.lit('CH')).when(((new_Events2['Status_temp']== 'oltre stand by') & (new_Events2['isLeaf'] !='true')), F.lit('AB')).otherwise(new_Events2['Status code']))\n",
    "\n",
    "new_Events2= new_Events2.withColumnRenamed(\"Status code\", \"StatusCode\").withColumnRenamed(\"Recognition code\", \"RecognitionCode\")\n",
    "\n",
    "#display(new_Events2.select('isLeaf','Status_temp','Status','StatusCode', 'Recognition', col('RecognitionCode').alias('ProvaRename')))\n",
    "display(new_Events2)"
   ]
  },
  {
   "cell_type": "code",
   "execution_count": 57,
   "metadata": {},
   "outputs": [
    {
     "data": {
      "text/html": [
       "<style scoped>\n",
       "  .ansiout {\n",
       "    display: block;\n",
       "    unicode-bidi: embed;\n",
       "    white-space: pre-wrap;\n",
       "    word-wrap: break-word;\n",
       "    word-break: break-all;\n",
       "    font-family: \"Source Code Pro\", \"Menlo\", monospace;;\n",
       "    font-size: 13px;\n",
       "    color: #555;\n",
       "    margin-left: 4px;\n",
       "    line-height: 19px;\n",
       "  }\n",
       "</style>\n",
       "<div class=\"ansiout\"><span class=\"ansired\">Out[</span><span class=\"ansired\">85</span><span class=\"ansired\">]: </span>4\n",
       "</div>"
      ]
     },
     "metadata": {},
     "output_type": "display_data"
    }
   ],
   "source": [
    "new_Events2.count()"
   ]
  },
  {
   "cell_type": "code",
   "execution_count": 58,
   "metadata": {},
   "outputs": [
    {
     "data": {
      "text/html": [
       "<style scoped>\n",
       "  .table-result-container {\n",
       "    max-height: 300px;\n",
       "    overflow: auto;\n",
       "  }\n",
       "  table, th, td {\n",
       "    border: 1px solid black;\n",
       "    border-collapse: collapse;\n",
       "  }\n",
       "  th, td {\n",
       "    padding: 5px;\n",
       "  }\n",
       "  th {\n",
       "    text-align: left;\n",
       "  }\n",
       "</style><div class='table-result-container'><table class='table-result'><thead style='background-color: white'><tr><th>itemId</th><th>ClientAtHome</th><th>LUISentities</th><th>LUISintent</th><th>LUISscore</th><th>ProblemSolved</th><th>QNAanswer</th><th>QNAcategory</th><th>QNAscore</th><th>QNAsource</th><th>QNAuserMessage</th><th>TXTANALYTICSscore</th><th>activityId</th><th>channel</th><th>conversationId</th><th>currentScenario</th><th>diagnosticResponse</th><th>dialogCloseType</th><th>endTimeAPICall</th><th>eventName</th><th>eventTime</th><th>eventdate</th><th>isAuthenticated</th><th>isLeaf</th><th>mainScenario</th><th>modemAlignment</th><th>modemChanged</th><th>modemType</th><th>notUnderstoodMessage</th><th>reason</th><th>scenario</th><th>scenarioCalled</th><th>scenarioId</th><th>startTimeAPICall</th><th>telemetryId</th><th>text</th><th>ticket</th><th>ticketForm</th><th>timestamp</th><th>toolExec</th><th>toolResult</th><th>user</th><th>userId</th><th>userName</th><th>applicationInsight</th><th>businessUnit</th><th>type</th><th>apiTimeDiff</th><th>BotAnswerDuration</th><th>EventTimePrevious</th><th>DateUTCInsertRow</th><th>Environment</th><th>eventNameDecode</th><th>Status</th><th>Recognition</th><th>StatusCode</th><th>RecognitionCode</th><th>diff_hours</th><th>convId</th><th>last_time_conv</th><th>Status_temp</th></tr></thead><tbody><tr><td>6789</td><td></td><td></td><td></td><td></td><td></td><td></td><td></td><td></td><td></td><td></td><td>0.5085391</td><td></td><td>pat</td><td>PIPPO</td><td></td><td></td><td></td><td>null</td><td>MBFEvent.Sentiment</td><td>2018-11-12T11:51:04.544+0000</td><td>2018-11-12</td><td></td><td></td><td></td><td></td><td></td><td></td><td></td><td></td><td></td><td></td><td></td><td>null</td><td></td><td>effettuerò le prove</td><td></td><td></td><td>2018-11-12T11:49:00.428+0000</td><td></td><td></td><td></td><td>918449a975df2c63c5a35aa56d415e4f6228035</td><td>username</td><td>appinsights-wo</td><td>wo</td><td>new</td><td>null</td><td>null</td><td>null</td><td>2018-12-19T20:35:12.866+0000</td><td>DEV</td><td>Sentiment</td><td>abbandonata</td><td>undefined</td><td>AB</td><td>undefined</td><td>895.74</td><td>PIPPO</td><td>2018-11-12T11:51:04.544+0000</td><td>oltre stand by</td></tr><tr><td>12345</td><td></td><td></td><td></td><td></td><td></td><td></td><td>ChitChat</td><td></td><td></td><td></td><td>null</td><td>8mkbRBVLXnqB1DyyZ1pVcZ|0000314</td><td>pat</td><td>ALDO</td><td></td><td></td><td></td><td>null</td><td>MBFEvent.QNAEvent</td><td>2018-11-12T11:52:08.561+0000</td><td>2018-11-12</td><td>true</td><td></td><td></td><td></td><td></td><td></td><td></td><td></td><td></td><td></td><td></td><td>null</td><td></td><td>effettuerò le prove</td><td></td><td></td><td>2018-11-12T11:49:00.428+0000</td><td></td><td></td><td>77F973BD0EEFAB79927F481B0611EDF8</td><td>918449a975df2c63c5a35aa56d415e4f6228035</td><td>username</td><td>appinsights-wo</td><td>wo</td><td>new</td><td>null</td><td>null</td><td>null</td><td>2018-12-19T20:35:12.866+0000</td><td>DEV</td><td>QNAEvent</td><td>abbandonata</td><td>inconsistente</td><td>AB</td><td>INC</td><td>895.72</td><td>ALDO</td><td>2018-11-12T11:52:08.561+0000</td><td>oltre stand by</td></tr><tr><td>06470259-e671-11e8-88dc-9fb96e7465b9</td><td></td><td></td><td></td><td></td><td></td><td></td><td></td><td></td><td></td><td></td><td>null</td><td>8mkbRBVLXnqB1DyyZ1pVcZ|0000314</td><td>pat</td><td>6LRLPjJDLkQ85QplizAeFS</td><td></td><td></td><td></td><td>null</td><td>MBFEvent.UserMessage</td><td>2018-11-12T11:49:04.561+0000</td><td>2018-11-12</td><td>true</td><td></td><td></td><td></td><td></td><td></td><td></td><td></td><td></td><td></td><td></td><td>null</td><td></td><td>effettuerò le prove</td><td></td><td></td><td>2018-11-12T11:49:00.428+0000</td><td></td><td></td><td>77F973BD0EEFAB79927F481B0611EDF8</td><td>918449a975df2c63c5a35aa56d415e4f6228035</td><td>username</td><td>appinsights-wo</td><td>wo</td><td>new</td><td>null</td><td>null</td><td>null</td><td>2018-12-19T20:35:12.866+0000</td><td>DEV</td><td>UserMessage</td><td>abbandonata</td><td>undefined</td><td>AB</td><td>undefined</td><td>895.77</td><td>6LRLPjJDLkQ85QplizAeFS</td><td>2018-11-12T11:49:04.561+0000</td><td>oltre stand by</td></tr></tbody></table></div>"
      ]
     },
     "metadata": {},
     "output_type": "display_data"
    }
   ],
   "source": [
    "#display(new_Events2.where(col('conversationId') == 'BEDTFSDcWqa6rfGc9PwiKP').orderBy('eventTime'))   \n",
    "display(new_Events2.filter((new_Events2.Status=='abbandonata') | (new_Events2.Status=='chiusa'))) \n",
    "# equivalente: display(new_Events2.filter(new_Events2.Status_temp=='oltre stand by')), perchè chiusa o abbandonata sono oltre sb"
   ]
  },
  {
   "cell_type": "code",
   "execution_count": 59,
   "metadata": {},
   "outputs": [
    {
     "data": {
      "text/html": [
       "<style scoped>\n",
       "  .ansiout {\n",
       "    display: block;\n",
       "    unicode-bidi: embed;\n",
       "    white-space: pre-wrap;\n",
       "    word-wrap: break-word;\n",
       "    word-break: break-all;\n",
       "    font-family: \"Source Code Pro\", \"Menlo\", monospace;;\n",
       "    font-size: 13px;\n",
       "    color: #555;\n",
       "    margin-left: 4px;\n",
       "    line-height: 19px;\n",
       "  }\n",
       "</style>\n",
       "<div class=\"ansiout\"></div>"
      ]
     },
     "metadata": {},
     "output_type": "display_data"
    }
   ],
   "source": [
    "new_Events2= new_Events2.drop('convId', 'last_time_conv', 'Status_temp')\n",
    "new_Events2= new_Events2.withColumnRenamed(\"diff_hours\", \"HourFromLastEvent\")"
   ]
  },
  {
   "cell_type": "code",
   "execution_count": 60,
   "metadata": {},
   "outputs": [
    {
     "data": {
      "text/html": [
       "<style scoped>\n",
       "  .ansiout {\n",
       "    display: block;\n",
       "    unicode-bidi: embed;\n",
       "    white-space: pre-wrap;\n",
       "    word-wrap: break-word;\n",
       "    word-break: break-all;\n",
       "    font-family: \"Source Code Pro\", \"Menlo\", monospace;;\n",
       "    font-size: 13px;\n",
       "    color: #555;\n",
       "    margin-left: 4px;\n",
       "    line-height: 19px;\n",
       "  }\n",
       "</style>\n",
       "<div class=\"ansiout\"></div>"
      ]
     },
     "metadata": {},
     "output_type": "display_data"
    }
   ],
   "source": [
    "new_Events2= new_Events2.withColumn('EventHourMinute' , new_Events2['eventTime'].cast(StringType()))\n",
    "#display(new_Events2)"
   ]
  },
  {
   "cell_type": "code",
   "execution_count": 61,
   "metadata": {},
   "outputs": [
    {
     "data": {
      "text/html": [
       "<style scoped>\n",
       "  .table-result-container {\n",
       "    max-height: 300px;\n",
       "    overflow: auto;\n",
       "  }\n",
       "  table, th, td {\n",
       "    border: 1px solid black;\n",
       "    border-collapse: collapse;\n",
       "  }\n",
       "  th, td {\n",
       "    padding: 5px;\n",
       "  }\n",
       "  th {\n",
       "    text-align: left;\n",
       "  }\n",
       "</style><div class='table-result-container'><table class='table-result'><thead style='background-color: white'><tr><th>itemId</th><th>ClientAtHome</th><th>LUISentities</th><th>LUISintent</th><th>LUISscore</th><th>ProblemSolved</th><th>QNAanswer</th><th>QNAcategory</th><th>QNAscore</th><th>QNAsource</th><th>QNAuserMessage</th><th>TXTANALYTICSscore</th><th>activityId</th><th>channel</th><th>conversationId</th><th>currentScenario</th><th>diagnosticResponse</th><th>dialogCloseType</th><th>endTimeAPICall</th><th>eventName</th><th>eventTime</th><th>eventdate</th><th>isAuthenticated</th><th>isLeaf</th><th>mainScenario</th><th>modemAlignment</th><th>modemChanged</th><th>modemType</th><th>notUnderstoodMessage</th><th>reason</th><th>scenario</th><th>scenarioCalled</th><th>scenarioId</th><th>startTimeAPICall</th><th>telemetryId</th><th>text</th><th>ticket</th><th>ticketForm</th><th>timestamp</th><th>toolExec</th><th>toolResult</th><th>user</th><th>userId</th><th>userName</th><th>applicationInsight</th><th>businessUnit</th><th>type</th><th>apiTimeDiff</th><th>BotAnswerDuration</th><th>EventTimePrevious</th><th>DateUTCInsertRow</th><th>Environment</th><th>eventNameDecode</th><th>Status</th><th>Recognition</th><th>StatusCode</th><th>RecognitionCode</th><th>HourFromLastEvent</th><th>EventHourMinute</th></tr></thead><tbody><tr><td>6789</td><td></td><td></td><td></td><td></td><td></td><td></td><td></td><td></td><td></td><td></td><td>0.5085391</td><td></td><td>pat</td><td>PIPPO</td><td></td><td></td><td></td><td>null</td><td>MBFEvent.Sentiment</td><td>2018-11-12T11:51:04.544+0000</td><td>2018-11-12</td><td></td><td></td><td></td><td></td><td></td><td></td><td></td><td></td><td></td><td></td><td></td><td>null</td><td></td><td>effettuerò le prove</td><td></td><td></td><td>2018-11-12T11:49:00.428+0000</td><td></td><td></td><td></td><td>918449a975df2c63c5a35aa56d415e4f6228035</td><td>username</td><td>appinsights-wo</td><td>wo</td><td>new</td><td>null</td><td>null</td><td>null</td><td>2018-12-19T20:37:06.832+0000</td><td>DEV</td><td>Sentiment</td><td>abbandonata</td><td>undefined</td><td>AB</td><td>undefined</td><td>895.77</td><td>1151</td></tr><tr><td>06470258-e671-11e8-88dc-9fb96e7465b9</td><td></td><td></td><td></td><td></td><td></td><td></td><td></td><td></td><td></td><td></td><td>0.5085391</td><td></td><td>pat</td><td>PIPPO</td><td></td><td></td><td></td><td>null</td><td>MBFEvent.Sentiment</td><td>2018-11-12T11:49:04.544+0000</td><td>2018-11-12</td><td></td><td></td><td></td><td></td><td></td><td></td><td></td><td></td><td></td><td></td><td></td><td>null</td><td></td><td>effettuerò le prove</td><td></td><td></td><td>2018-11-12T11:49:00.428+0000</td><td></td><td></td><td></td><td>918449a975df2c63c5a35aa56d415e4f6228035</td><td>username</td><td>appinsights-wo</td><td>wo</td><td>new</td><td>null</td><td>null</td><td>null</td><td>2018-12-19T20:37:06.832+0000</td><td>DEV</td><td>Sentiment</td><td>undefined</td><td>undefined</td><td>undefined</td><td>undefined</td><td>895.8</td><td>1149</td></tr><tr><td>12345</td><td></td><td></td><td></td><td></td><td></td><td></td><td>ChitChat</td><td></td><td></td><td></td><td>null</td><td>8mkbRBVLXnqB1DyyZ1pVcZ|0000314</td><td>pat</td><td>ALDO</td><td></td><td></td><td></td><td>null</td><td>MBFEvent.QNAEvent</td><td>2018-11-12T11:52:08.561+0000</td><td>2018-11-12</td><td>true</td><td></td><td></td><td></td><td></td><td></td><td></td><td></td><td></td><td></td><td></td><td>null</td><td></td><td>effettuerò le prove</td><td></td><td></td><td>2018-11-12T11:49:00.428+0000</td><td></td><td></td><td>77F973BD0EEFAB79927F481B0611EDF8</td><td>918449a975df2c63c5a35aa56d415e4f6228035</td><td>username</td><td>appinsights-wo</td><td>wo</td><td>new</td><td>null</td><td>null</td><td>null</td><td>2018-12-19T20:37:06.832+0000</td><td>DEV</td><td>QNAEvent</td><td>abbandonata</td><td>inconsistente</td><td>AB</td><td>INC</td><td>895.75</td><td>1152</td></tr><tr><td>06470259-e671-11e8-88dc-9fb96e7465b9</td><td></td><td></td><td></td><td></td><td></td><td></td><td></td><td></td><td></td><td></td><td>null</td><td>8mkbRBVLXnqB1DyyZ1pVcZ|0000314</td><td>pat</td><td>6LRLPjJDLkQ85QplizAeFS</td><td></td><td></td><td></td><td>null</td><td>MBFEvent.UserMessage</td><td>2018-11-12T11:49:04.561+0000</td><td>2018-11-12</td><td>true</td><td></td><td></td><td></td><td></td><td></td><td></td><td></td><td></td><td></td><td></td><td>null</td><td></td><td>effettuerò le prove</td><td></td><td></td><td>2018-11-12T11:49:00.428+0000</td><td></td><td></td><td>77F973BD0EEFAB79927F481B0611EDF8</td><td>918449a975df2c63c5a35aa56d415e4f6228035</td><td>username</td><td>appinsights-wo</td><td>wo</td><td>new</td><td>null</td><td>null</td><td>null</td><td>2018-12-19T20:37:06.832+0000</td><td>DEV</td><td>UserMessage</td><td>abbandonata</td><td>undefined</td><td>AB</td><td>undefined</td><td>895.8</td><td>1149</td></tr></tbody></table></div>"
      ]
     },
     "metadata": {},
     "output_type": "display_data"
    }
   ],
   "source": [
    "def hour_minute(x):\n",
    "    return  ''.join(x.split()[1][:5].split(':'))                         \n",
    "\n",
    "udf_hour_minute= UserDefinedFunction(hour_minute, StringType())\n",
    "new_Events2= new_Events2.withColumn('EventHourMinute' , udf_hour_minute(new_Events2['EventHourMinute']))\n",
    "display(new_Events2)\n",
    "#new_Events2.persist() #riabilitato alle 19:38 del 30/11/2018 dopo il Run Manuale del 2018-11-30/10 partito alle 19:30 (osserviamo se cambia qualcosa con il successivo RUN)"
   ]
  },
  {
   "cell_type": "code",
   "execution_count": null,
   "metadata": {},
   "outputs": [],
   "source": [
    "\"\"\"PROCEDIMENTO: \n",
    "INPUT: Lettura degli eventi correnti (slot orario corrente)\n",
    "- giro classico per \"event\" (quello che già facciamo adesso)\n",
    "- NUOVO giro per \"conversation\":\n",
    "              1.1- lettura della delta table \"conversation\" (in cui avremo solo type = \"previous\") e mettiamo tutto in un Dataframe\n",
    "               1.2- FULL JOIN del Dataframe (quindi dei record della delta table \"conversation\", solo type = \"previous\") tra il DF letto e il DF degli eventi correnti, ON conversation.conversationId = event.conversationId (eventi correnti)\n",
    "               1.3 - determinare il type (F.lit.type) grazie alla FULL JOIN di cui sopra e scrivo in un DF\n",
    "               1.4 - partendo dal DF del punto 1.3, vado in JOIN con gli eventi correnti per fare le aggregazioni al fine di aggiornare i vari campi della conversazione come ad esempio lo \"stato\" della conversazione, il \"contatore dei messaggi totali\", dei \"BotMessage\", \"DataChiusura\" etc...\n",
    "                              N.B. lo \"stato\" della conversazione sarà ridefinito con la lettura del MAX degli eventi, invece un eventuale contatore (ad esempio TotMessaggi) sarà la Somma del campo letto dalla delta table e la somma del campo determinato dall'aggregazione degli eventi correnti               \n",
    "N.B. a questo punto avremo conversazioni in Stato \"COLD\" e \"HOT\"\n",
    "               1.5 - inviare al DW quelle che sono diventate COLD (\"chiuse\" e \"abbandonate\")\n",
    "               1.6 - scrittura in Delta Table \"Conversation\" delle conversazioni rimanenti, ossia le \"HOT (\"In corso\" e \"Stand by\")\n",
    "\"\"\""
   ]
  },
  {
   "cell_type": "markdown",
   "metadata": {},
   "source": [
    "### Taking last event of each Conversation. Rather than ItemId it is considered a Key the couple [ConvId, max(eventime)]"
   ]
  },
  {
   "cell_type": "code",
   "execution_count": 64,
   "metadata": {},
   "outputs": [],
   "source": [
    "df_1.select('ConversationId').distinct().count()   # 6LRLPjJDLkQ85QplizAeFS, PIPPO e ALDO"
   ]
  },
  {
   "cell_type": "code",
   "execution_count": 65,
   "metadata": {},
   "outputs": [],
   "source": [
    "new_Events2.select('ConversationId').distinct().count()  #una sola: 6LRLPjJDLkQ85QplizAeFS"
   ]
  },
  {
   "cell_type": "code",
   "execution_count": 66,
   "metadata": {},
   "outputs": [],
   "source": [
    "display(new_Events2.select('ConversationId').groupBy(\"ConversationId\").count())"
   ]
  },
  {
   "cell_type": "code",
   "execution_count": 67,
   "metadata": {},
   "outputs": [
    {
     "data": {
      "text/html": [
       "<style scoped>\n",
       "  .table-result-container {\n",
       "    max-height: 300px;\n",
       "    overflow: auto;\n",
       "  }\n",
       "  table, th, td {\n",
       "    border: 1px solid black;\n",
       "    border-collapse: collapse;\n",
       "  }\n",
       "  th, td {\n",
       "    padding: 5px;\n",
       "  }\n",
       "  th {\n",
       "    text-align: left;\n",
       "  }\n",
       "</style><div class='table-result-container'><table class='table-result'><thead style='background-color: white'><tr><th>convId</th><th>last_time_conv</th><th>ConversationStartTime</th></tr></thead><tbody><tr><td>6LRLPjJDLkQ85QplizAeFS</td><td>2018-11-12T11:49:04.561+0000</td><td>2018-11-12T11:49:04.561+0000</td></tr><tr><td>PIPPO</td><td>2018-11-12T11:51:04.544+0000</td><td>2018-11-12T11:49:04.544+0000</td></tr><tr><td>ALDO</td><td>2018-11-12T11:52:08.561+0000</td><td>2018-11-12T11:52:08.561+0000</td></tr></tbody></table></div>"
      ]
     },
     "metadata": {},
     "output_type": "display_data"
    }
   ],
   "source": [
    "new_Events2.createOrReplaceTempView(\"Events_final\")\n",
    "# è l'ultimo evento di ogni conversazione\n",
    "\n",
    "last_record = spark.sql(\" \\\n",
    "          SELECT ConversationId as convId, max(eventTime) as last_time_conv, min(eventTime) as ConversationStartTime \\\n",
    "          FROM Events_final \\\n",
    "          GROUP BY ConversationId \\\n",
    "          ORDER BY max(eventTime)\\\n",
    "          \")\n",
    "\n",
    "display(last_record)"
   ]
  },
  {
   "cell_type": "markdown",
   "metadata": {},
   "source": [
    "####Create Conversations Table: Joining previous cells with Events to take the other fields I need"
   ]
  },
  {
   "cell_type": "code",
   "execution_count": 69,
   "metadata": {},
   "outputs": [
    {
     "data": {
      "text/html": [
       "<style scoped>\n",
       "  .table-result-container {\n",
       "    max-height: 300px;\n",
       "    overflow: auto;\n",
       "  }\n",
       "  table, th, td {\n",
       "    border: 1px solid black;\n",
       "    border-collapse: collapse;\n",
       "  }\n",
       "  th, td {\n",
       "    padding: 5px;\n",
       "  }\n",
       "  th {\n",
       "    text-align: left;\n",
       "  }\n",
       "</style><div class='table-result-container'><table class='table-result'><thead style='background-color: white'><tr><th>ConversationId</th><th>ConversationStartDate</th><th>ConversationStartTime</th><th>ConversationEndTime</th><th>ConversationStatusCode</th><th>ConversationStatus</th><th>ConversationRecognitionCode</th><th>ConversationRecognition</th></tr></thead><tbody><tr><td>PIPPO</td><td>2018-11-12</td><td>2018-11-12T11:49:04.544+0000</td><td>2018-11-12T11:51:04.544+0000</td><td>AB</td><td>abbandonata</td><td>undefined</td><td>undefined</td></tr><tr><td>ALDO</td><td>2018-11-12</td><td>2018-11-12T11:52:08.561+0000</td><td>2018-11-12T11:52:08.561+0000</td><td>AB</td><td>abbandonata</td><td>INC</td><td>inconsistente</td></tr><tr><td>6LRLPjJDLkQ85QplizAeFS</td><td>2018-11-12</td><td>2018-11-12T11:49:04.561+0000</td><td>2018-11-12T11:49:04.561+0000</td><td>AB</td><td>abbandonata</td><td>undefined</td><td>undefined</td></tr></tbody></table></div>"
      ]
     },
     "metadata": {},
     "output_type": "display_data"
    }
   ],
   "source": [
    "#cold_conversations= conv_after_stand_by.join(new_Events2, ((new_Events2.conversationId == conv_after_stand_by.convId) & (new_Events2.eventTime == conv_after_stand_by.last_time_conv)\n",
    "                        #), 'left')\n",
    "\n",
    "#oppure\n",
    "conversations = new_Events2.join(last_record, ((new_Events2.conversationId == last_record.convId) & (new_Events2.eventTime == last_record.last_time_conv)\n",
    "                        ), 'right').select(\"ConversationId\", 'StatusCode', 'Status','last_time_conv', 'RecognitionCode', 'Recognition', 'ConversationStartTime')\n",
    "\n",
    "conversations= conversations.withColumn('conversationStartDate' , conversations['ConversationStartTime'].cast(StringType()) )\n",
    "\n",
    "\"\"\"def data(x):\n",
    "  return x[:10]\n",
    "\n",
    "udf_data= UserDefinedFunction(data, StringType())\n",
    "conversations= conversations.withColumn('conversationStartDate', udf_data(conversations['conversationStartDate']))\"\"\"\n",
    "\n",
    "#Alternativa senza udf\n",
    "conversations= conversations.withColumn('conversationStartDate', conversations['conversationStartDate'].cast(StringType()).substr(1,10))\n",
    "\n",
    "conversations= conversations.select(col(\"ConversationId\"), \"ConversationStartDate\", 'ConversationStartTime', col('last_time_conv').alias('ConversationEndTime'), \n",
    "                                    col('StatusCode').alias('ConversationStatusCode'), col('Status').alias('ConversationStatus'), \n",
    "                         col('RecognitionCode').alias('ConversationRecognitionCode'), col('Recognition').alias('ConversationRecognition'))\n",
    "\n",
    "\n",
    "display(conversations)"
   ]
  },
  {
   "cell_type": "code",
   "execution_count": 70,
   "metadata": {},
   "outputs": [
    {
     "data": {
      "text/html": [
       "<style scoped>\n",
       "  .ansiout {\n",
       "    display: block;\n",
       "    unicode-bidi: embed;\n",
       "    white-space: pre-wrap;\n",
       "    word-wrap: break-word;\n",
       "    word-break: break-all;\n",
       "    font-family: \"Source Code Pro\", \"Menlo\", monospace;;\n",
       "    font-size: 13px;\n",
       "    color: #555;\n",
       "    margin-left: 4px;\n",
       "    line-height: 19px;\n",
       "  }\n",
       "</style>\n",
       "<div class=\"ansiout\">root\n",
       "-- ConversationId: string (nullable = true)\n",
       "-- ConversationStartDate: string (nullable = true)\n",
       "-- ConversationStartTime: timestamp (nullable = true)\n",
       "-- ConversationEndTime: timestamp (nullable = true)\n",
       "-- ConversationStatusCode: string (nullable = true)\n",
       "-- ConversationStatus: string (nullable = true)\n",
       "-- ConversationRecognitionCode: string (nullable = true)\n",
       "-- ConversationRecognition: string (nullable = true)\n",
       "\n",
       "</div>"
      ]
     },
     "metadata": {},
     "output_type": "display_data"
    }
   ],
   "source": [
    "conversations.printSchema()"
   ]
  },
  {
   "cell_type": "code",
   "execution_count": 71,
   "metadata": {},
   "outputs": [
    {
     "data": {
      "text/html": [
       "<style scoped>\n",
       "  .ansiout {\n",
       "    display: block;\n",
       "    unicode-bidi: embed;\n",
       "    white-space: pre-wrap;\n",
       "    word-wrap: break-word;\n",
       "    word-break: break-all;\n",
       "    font-family: \"Source Code Pro\", \"Menlo\", monospace;;\n",
       "    font-size: 13px;\n",
       "    color: #555;\n",
       "    margin-left: 4px;\n",
       "    line-height: 19px;\n",
       "  }\n",
       "</style>\n",
       "<div class=\"ansiout\"><span class=\"ansired\">Out[</span><span class=\"ansired\">93</span><span class=\"ansired\">]: </span>&apos;for i in range(1, 18):\\n    if i&lt;=0:\\n      pass\\n    if i&gt;=1 and i&lt;=9:\\n      try:\\n        print(\\&apos;There are {} files in this day\\&apos;.format(len(dbutils.fs.ls(&quot;/delta/&quot;+\\&apos;QA\\&apos;+&quot;/Events/eventDate=2018-12-0&quot; +str(i) ))))\\n      except:\\n        print(\\&apos;there are no files for day \\&apos;, i)\\n    elif i&gt;=10:\\n      try:\\n        print(\\&apos;There are {} files in this day\\&apos;.format(len(dbutils.fs.ls(&quot;/delta/&quot;+\\&apos;QA\\&apos;+&quot;/Events/eventDate=2018-12-&quot; +str(i) ))))\\n      except:\\n        print(\\&apos;there are no files for day \\&apos;, i)&apos;\n",
       "</div>"
      ]
     },
     "metadata": {},
     "output_type": "display_data"
    }
   ],
   "source": [
    "\"\"\"for i in range(1, 18):\n",
    "    if i<=0:\n",
    "      pass\n",
    "    if i>=1 and i<=9:\n",
    "      try:\n",
    "        print('There are {} files in this day'.format(len(dbutils.fs.ls(\"/delta/\"+'QA'+\"/Events/eventDate=2018-12-0\" +str(i) ))))\n",
    "      except:\n",
    "        print('there are no files for day ', i)\n",
    "    elif i>=10:\n",
    "      try:\n",
    "        print('There are {} files in this day'.format(len(dbutils.fs.ls(\"/delta/\"+'QA'+\"/Events/eventDate=2018-12-\" +str(i) ))))\n",
    "      except:\n",
    "        print('there are no files for day ', i)\"\"\""
   ]
  },
  {
   "cell_type": "markdown",
   "metadata": {},
   "source": [
    "#### Conversations of last hour (only the ID of the distinct ones)"
   ]
  },
  {
   "cell_type": "code",
   "execution_count": 73,
   "metadata": {},
   "outputs": [
    {
     "data": {
      "text/html": [
       "<style scoped>\n",
       "  .table-result-container {\n",
       "    max-height: 300px;\n",
       "    overflow: auto;\n",
       "  }\n",
       "  table, th, td {\n",
       "    border: 1px solid black;\n",
       "    border-collapse: collapse;\n",
       "  }\n",
       "  th, td {\n",
       "    padding: 5px;\n",
       "  }\n",
       "  th {\n",
       "    text-align: left;\n",
       "  }\n",
       "</style><div class='table-result-container'><table class='table-result'><thead style='background-color: white'><tr><th>NewConvId</th><th>NewStartDate</th><th>NewStartTime</th><th>NewEndTime</th></tr></thead><tbody><tr><td>6LRLPjJDLkQ85QplizAeFS</td><td>2018-11-12</td><td>2018-11-12T11:49:04.561+0000</td><td>2018-11-12T11:49:04.561+0000</td></tr><tr><td>PIPPO</td><td>2018-11-12</td><td>2018-11-12T11:49:04.544+0000</td><td>2018-11-12T11:51:04.544+0000</td></tr><tr><td>ALDO</td><td>2018-11-12</td><td>2018-11-12T11:52:08.561+0000</td><td>2018-11-12T11:52:08.561+0000</td></tr></tbody></table></div>"
      ]
     },
     "metadata": {},
     "output_type": "display_data"
    }
   ],
   "source": [
    "#display(new_Events2.select('ConversationId').groupBy(\"ConversationId\").count())\n",
    "lastHourConversations= conversations.select(col('conversationId').alias('NewConvId'), col('ConversationStartDate').alias('NewStartDate'), col('ConversationStartTime').alias('NewStartTime'),\n",
    "                             col('ConversationEndTime').alias('NewEndTime') ).distinct()\n",
    "display(lastHourConversations)"
   ]
  },
  {
   "cell_type": "markdown",
   "metadata": {},
   "source": [
    "### Import previous conversations from delta. Union previous and new"
   ]
  },
  {
   "cell_type": "code",
   "execution_count": 75,
   "metadata": {},
   "outputs": [
    {
     "data": {
      "text/html": [
       "<style scoped>\n",
       "  .table-result-container {\n",
       "    max-height: 300px;\n",
       "    overflow: auto;\n",
       "  }\n",
       "  table, th, td {\n",
       "    border: 1px solid black;\n",
       "    border-collapse: collapse;\n",
       "  }\n",
       "  th, td {\n",
       "    padding: 5px;\n",
       "  }\n",
       "  th {\n",
       "    text-align: left;\n",
       "  }\n",
       "</style><div class='table-result-container'><table class='table-result'><thead style='background-color: white'><tr><th>ConversationId</th><th>ConversationStartDate</th><th>ConversationStartTime</th><th>ConversationEndTime</th><th>ConversationStatusCode</th><th>ConversationStatus</th><th>ConversationRecognitionCode</th><th>ConversationRecognition</th><th>recordType</th></tr></thead><tbody><tr><td>777Qsjs3i8qJyBr95zABbk</td><td>2018-11-12</td><td>2018-11-12T13:58:00.081+0000</td><td>2018-11-12T13:59:32.347+0000</td><td>AB</td><td>abbandonata</td><td>undefined</td><td>undefined</td><td>previous conv</td></tr><tr><td>777Qsjs3i8qJyBr95zABbk</td><td>2018-11-12</td><td>2018-11-12T13:58:00.081+0000</td><td>2018-11-12T13:59:32.347+0000</td><td>AB</td><td>abbandonata</td><td>undefined</td><td>undefined</td><td>previous conv</td></tr><tr><td>JEBXXIfay3m328mWQLvL0x</td><td>2018-11-12</td><td>2018-11-12T14:07:54.379+0000</td><td>2018-11-12T14:55:34.613+0000</td><td>AB</td><td>abbandonata</td><td>undefined</td><td>undefined</td><td>previous conv</td></tr><tr><td>2cpS4QCdLps7ycDeAxodOz</td><td>2018-11-12</td><td>2018-11-12T13:57:54.672+0000</td><td>2018-11-12T14:07:45.439+0000</td><td>AB</td><td>abbandonata</td><td>undefined</td><td>undefined</td><td>previous conv</td></tr><tr><td>8mkbRBVLXnqB1DyyZ1pVcZ</td><td>2018-11-12</td><td>2018-11-12T14:09:18.462+0000</td><td>2018-11-12T14:57:54.130+0000</td><td>CH</td><td>chiusa</td><td>undefined</td><td>undefined</td><td>previous conv</td></tr></tbody></table></div>"
      ]
     },
     "metadata": {},
     "output_type": "display_data"
    }
   ],
   "source": [
    "previous_conversations = spark.read.format(\"delta\").load(\"/delta/\"+environment+\"/Conversations/\")\n",
    "previous_conversations = previous_conversations.withColumn(\"recordType\", F.lit(\"previous conv\"))\n",
    "\"\"\"# Union of two DataFrames\n",
    "#unionDataFrame = previous_events.unionAll(df_1)\"\"\"\n",
    "display(previous_conversations)   "
   ]
  },
  {
   "cell_type": "markdown",
   "metadata": {},
   "source": [
    "### Step 1.2: FULL join between previous conversations and new (la left mantiene i record della prima, inner quelli comuni, la full tutti. Mi prendo conv vecchie, conv nuove, e con full join le ottengo tutte)"
   ]
  },
  {
   "cell_type": "code",
   "execution_count": 77,
   "metadata": {},
   "outputs": [],
   "source": [
    "#previous_conversations ha 5 record (2 duplicati proprio, errore dei blob). 4 conversazioni: 777Qsjs3i8qJyBr95zABbk (2 duplicati dei record, non solo della conv), 2cpS4QCdLps7ycDeAxodOz, JEBXXIfay3m328mWQLvL0x, 8mkbRBVLXnqB1DyyZ1pVcZ.\n",
    "# quelle dello slot orario runnato sono 4, e le distinct sono: 6LRLPjJDLkQ85QplizAeFS, ALDO e PIPPO (che ne ha 2). quindi in totale 7 conversazioni distinct.\n",
    "# last hour conversations è df che ha 3 records, relativi alle 3 unique conversationId. Facendo full join tra previous_conversations e last_hour_conv avrò 8 records:\n",
    "#le 5 di partenza (previous), più le 3 del nuovo slot orario"
   ]
  },
  {
   "cell_type": "code",
   "execution_count": 78,
   "metadata": {},
   "outputs": [
    {
     "data": {
      "text/html": [
       "<style scoped>\n",
       "  .table-result-container {\n",
       "    max-height: 300px;\n",
       "    overflow: auto;\n",
       "  }\n",
       "  table, th, td {\n",
       "    border: 1px solid black;\n",
       "    border-collapse: collapse;\n",
       "  }\n",
       "  th, td {\n",
       "    padding: 5px;\n",
       "  }\n",
       "  th {\n",
       "    text-align: left;\n",
       "  }\n",
       "</style><div class='table-result-container'><table class='table-result'><thead style='background-color: white'><tr><th>ConversationId</th><th>ConversationStartDate</th><th>ConversationStartTime</th><th>ConversationEndTime</th><th>ConversationStatusCode</th><th>ConversationStatus</th><th>ConversationRecognitionCode</th><th>ConversationRecognition</th><th>recordType</th><th>NewConvId</th><th>NewStartDate</th><th>NewStartTime</th><th>NewEndTime</th></tr></thead><tbody><tr><td>null</td><td>null</td><td>null</td><td>null</td><td>null</td><td>null</td><td>null</td><td>null</td><td>null</td><td>6LRLPjJDLkQ85QplizAeFS</td><td>2018-11-12</td><td>2018-11-12T11:49:04.561+0000</td><td>2018-11-12T11:49:04.561+0000</td></tr><tr><td>8mkbRBVLXnqB1DyyZ1pVcZ</td><td>2018-11-12</td><td>2018-11-12T14:09:18.462+0000</td><td>2018-11-12T14:57:54.130+0000</td><td>CH</td><td>chiusa</td><td>undefined</td><td>undefined</td><td>previous conv</td><td>null</td><td>null</td><td>null</td><td>null</td></tr><tr><td>null</td><td>null</td><td>null</td><td>null</td><td>null</td><td>null</td><td>null</td><td>null</td><td>null</td><td>ALDO</td><td>2018-11-12</td><td>2018-11-12T11:52:08.561+0000</td><td>2018-11-12T11:52:08.561+0000</td></tr><tr><td>null</td><td>null</td><td>null</td><td>null</td><td>null</td><td>null</td><td>null</td><td>null</td><td>null</td><td>PIPPO</td><td>2018-11-12</td><td>2018-11-12T11:49:04.544+0000</td><td>2018-11-12T11:51:04.544+0000</td></tr><tr><td>777Qsjs3i8qJyBr95zABbk</td><td>2018-11-12</td><td>2018-11-12T13:58:00.081+0000</td><td>2018-11-12T13:59:32.347+0000</td><td>AB</td><td>abbandonata</td><td>undefined</td><td>undefined</td><td>previous conv</td><td>null</td><td>null</td><td>null</td><td>null</td></tr><tr><td>777Qsjs3i8qJyBr95zABbk</td><td>2018-11-12</td><td>2018-11-12T13:58:00.081+0000</td><td>2018-11-12T13:59:32.347+0000</td><td>AB</td><td>abbandonata</td><td>undefined</td><td>undefined</td><td>previous conv</td><td>null</td><td>null</td><td>null</td><td>null</td></tr><tr><td>2cpS4QCdLps7ycDeAxodOz</td><td>2018-11-12</td><td>2018-11-12T13:57:54.672+0000</td><td>2018-11-12T14:07:45.439+0000</td><td>AB</td><td>abbandonata</td><td>undefined</td><td>undefined</td><td>previous conv</td><td>null</td><td>null</td><td>null</td><td>null</td></tr><tr><td>JEBXXIfay3m328mWQLvL0x</td><td>2018-11-12</td><td>2018-11-12T14:07:54.379+0000</td><td>2018-11-12T14:55:34.613+0000</td><td>AB</td><td>abbandonata</td><td>undefined</td><td>undefined</td><td>previous conv</td><td>null</td><td>null</td><td>null</td><td>null</td></tr></tbody></table></div>"
      ]
     },
     "metadata": {},
     "output_type": "display_data"
    }
   ],
   "source": [
    "#display(previous_conversations.join(lastHourConversations, on= 'ConversationId', how='full'))\n",
    "\n",
    "allConversations= previous_conversations.join(lastHourConversations, previous_conversations.ConversationId == lastHourConversations.NewConvId, how='full')\n",
    "\n",
    "display(allConversations) "
   ]
  },
  {
   "cell_type": "code",
   "execution_count": 79,
   "metadata": {},
   "outputs": [
    {
     "data": {
      "text/html": [
       "<style scoped>\n",
       "  .ansiout {\n",
       "    display: block;\n",
       "    unicode-bidi: embed;\n",
       "    white-space: pre-wrap;\n",
       "    word-wrap: break-word;\n",
       "    word-break: break-all;\n",
       "    font-family: \"Source Code Pro\", \"Menlo\", monospace;;\n",
       "    font-size: 13px;\n",
       "    color: #555;\n",
       "    margin-left: 4px;\n",
       "    line-height: 19px;\n",
       "  }\n",
       "</style>\n",
       "<div class=\"ansiout\"><span class=\"ansired\">Out[</span><span class=\"ansired\">97</span><span class=\"ansired\">]: </span>8\n",
       "</div>"
      ]
     },
     "metadata": {},
     "output_type": "display_data"
    }
   ],
   "source": [
    "allConversations.count()"
   ]
  },
  {
   "cell_type": "markdown",
   "metadata": {},
   "source": [
    "#### Adding field recordType to indicate whether the conversation is new or not."
   ]
  },
  {
   "cell_type": "code",
   "execution_count": 81,
   "metadata": {},
   "outputs": [
    {
     "data": {
      "text/html": [
       "<style scoped>\n",
       "  .table-result-container {\n",
       "    max-height: 300px;\n",
       "    overflow: auto;\n",
       "  }\n",
       "  table, th, td {\n",
       "    border: 1px solid black;\n",
       "    border-collapse: collapse;\n",
       "  }\n",
       "  th, td {\n",
       "    padding: 5px;\n",
       "  }\n",
       "  th {\n",
       "    text-align: left;\n",
       "  }\n",
       "</style><div class='table-result-container'><table class='table-result'><thead style='background-color: white'><tr><th>ConversationId</th><th>ConversationStartDate</th><th>ConversationStartTime</th><th>ConversationEndTime</th><th>ConversationStatusCode</th><th>ConversationStatus</th><th>ConversationRecognitionCode</th><th>ConversationRecognition</th><th>recordType</th><th>NewConvId</th></tr></thead><tbody><tr><td>6LRLPjJDLkQ85QplizAeFS</td><td>2018-11-12</td><td>2018-11-12T11:49:04.561+0000</td><td>2018-11-12T11:49:04.561+0000</td><td>null</td><td>null</td><td>null</td><td>null</td><td>new conv</td><td>6LRLPjJDLkQ85QplizAeFS</td></tr><tr><td>8mkbRBVLXnqB1DyyZ1pVcZ</td><td>2018-11-12</td><td>2018-11-12T14:09:18.462+0000</td><td>2018-11-12T14:57:54.130+0000</td><td>CH</td><td>chiusa</td><td>undefined</td><td>undefined</td><td>previous conv</td><td>null</td></tr><tr><td>ALDO</td><td>2018-11-12</td><td>2018-11-12T11:52:08.561+0000</td><td>2018-11-12T11:52:08.561+0000</td><td>null</td><td>null</td><td>null</td><td>null</td><td>new conv</td><td>ALDO</td></tr><tr><td>PIPPO</td><td>2018-11-12</td><td>2018-11-12T11:49:04.544+0000</td><td>2018-11-12T11:51:04.544+0000</td><td>null</td><td>null</td><td>null</td><td>null</td><td>new conv</td><td>PIPPO</td></tr><tr><td>777Qsjs3i8qJyBr95zABbk</td><td>2018-11-12</td><td>2018-11-12T13:58:00.081+0000</td><td>2018-11-12T13:59:32.347+0000</td><td>AB</td><td>abbandonata</td><td>undefined</td><td>undefined</td><td>previous conv</td><td>null</td></tr><tr><td>777Qsjs3i8qJyBr95zABbk</td><td>2018-11-12</td><td>2018-11-12T13:58:00.081+0000</td><td>2018-11-12T13:59:32.347+0000</td><td>AB</td><td>abbandonata</td><td>undefined</td><td>undefined</td><td>previous conv</td><td>null</td></tr><tr><td>2cpS4QCdLps7ycDeAxodOz</td><td>2018-11-12</td><td>2018-11-12T13:57:54.672+0000</td><td>2018-11-12T14:07:45.439+0000</td><td>AB</td><td>abbandonata</td><td>undefined</td><td>undefined</td><td>previous conv</td><td>null</td></tr><tr><td>JEBXXIfay3m328mWQLvL0x</td><td>2018-11-12</td><td>2018-11-12T14:07:54.379+0000</td><td>2018-11-12T14:55:34.613+0000</td><td>AB</td><td>abbandonata</td><td>undefined</td><td>undefined</td><td>previous conv</td><td>null</td></tr></tbody></table></div>"
      ]
     },
     "metadata": {},
     "output_type": "display_data"
    }
   ],
   "source": [
    "allConversations= allConversations.withColumn('recordType', when(allConversations['ConversationId'].isNull(), F.lit('new conv')).otherwise(allConversations['recordType']))\n",
    "allConversations= allConversations.withColumn('ConversationId', when(allConversations['ConversationId'].isNull(), allConversations['NewConvId']).otherwise(allConversations['ConversationId']))\n",
    "allConversations= allConversations.withColumn('ConversationStartDate', when(allConversations['ConversationStartDate'].isNull(), allConversations['NewStartDate']).otherwise(allConversations['ConversationStartDate']))\n",
    "allConversations= allConversations.withColumn('ConversationStartTime', when(allConversations['ConversationStartTime'].isNull(), allConversations['NewStartTime']).otherwise(allConversations['ConversationStartTime']))\n",
    "allConversations= allConversations.withColumn('ConversationEndTime', when(allConversations['ConversationEndTime'].isNull(), allConversations['NewEndTime']).otherwise(allConversations['ConversationEndTime']))\n",
    "\n",
    "allConversations= allConversations.select([col for col in allConversations.columns if col not in ['NewStartDate', 'NewStartTime', 'NewEndTime']])\n",
    "display(allConversations)"
   ]
  },
  {
   "cell_type": "code",
   "execution_count": 82,
   "metadata": {},
   "outputs": [
    {
     "data": {
      "text/html": [
       "<style scoped>\n",
       "  .table-result-container {\n",
       "    max-height: 300px;\n",
       "    overflow: auto;\n",
       "  }\n",
       "  table, th, td {\n",
       "    border: 1px solid black;\n",
       "    border-collapse: collapse;\n",
       "  }\n",
       "  th, td {\n",
       "    padding: 5px;\n",
       "  }\n",
       "  th {\n",
       "    text-align: left;\n",
       "  }\n",
       "</style><div class='table-result-container'><table class='table-result'><thead style='background-color: white'><tr><th>ConversationId</th><th>eventTime</th></tr></thead><tbody><tr><td>6LRLPjJDLkQ85QplizAeFS</td><td>2018-11-12T11:49:04.561+0000</td></tr><tr><td>PIPPO</td><td>2018-11-12T11:51:04.544+0000</td></tr><tr><td>ALDO</td><td>2018-11-12T11:52:08.561+0000</td></tr></tbody></table></div>"
      ]
     },
     "metadata": {},
     "output_type": "display_data"
    }
   ],
   "source": [
    "\"\"\"new_Events2.createOrReplaceTempView(\"EventsFinal\")\n",
    "LastItemPerConv = spark.sql(\" \\\n",
    "          SELECT ConversationId, max(eventTime) \\\n",
    "          FROM EventsFinal \\\n",
    "          GROUP BY ConversationId\\\n",
    "          ORDER BY max(eventTime)\\\n",
    "          \")\n",
    "display(LastItemPerConv)\"\"\"\n",
    "# Altro modo, penso più performante perchè non usa vista e spark.sql\n",
    "LastItemPerConv = new_Events2.select('ConversationId', 'eventTime', 'Status').groupby('ConversationId').agg(F.max(new_Events2.eventTime)).select('*')\n",
    "#display(new_Events2.select('ConversationId', 'eventTime', 'Status').groupby('ConversationId').agg({\"eventTime\": \"max\"}))  #F.max o :\"max\" così sono uguali\n",
    "LastItemPerConv= LastItemPerConv.withColumnRenamed('max(eventTime)', 'eventTime')\n",
    "display(LastItemPerConv)"
   ]
  },
  {
   "cell_type": "code",
   "execution_count": 83,
   "metadata": {},
   "outputs": [
    {
     "data": {
      "text/html": [
       "<style scoped>\n",
       "  .table-result-container {\n",
       "    max-height: 300px;\n",
       "    overflow: auto;\n",
       "  }\n",
       "  table, th, td {\n",
       "    border: 1px solid black;\n",
       "    border-collapse: collapse;\n",
       "  }\n",
       "  th, td {\n",
       "    padding: 5px;\n",
       "  }\n",
       "  th {\n",
       "    text-align: left;\n",
       "  }\n",
       "</style><div class='table-result-container'><table class='table-result'><thead style='background-color: white'><tr><th>EventsConvId</th><th>eventTime</th><th>itemId</th><th>ClientAtHome</th><th>LUISentities</th><th>LUISintent</th><th>LUISscore</th><th>ProblemSolved</th><th>QNAanswer</th><th>QNAcategory</th><th>QNAscore</th><th>QNAsource</th><th>QNAuserMessage</th><th>TXTANALYTICSscore</th><th>activityId</th><th>channel</th><th>currentScenario</th><th>diagnosticResponse</th><th>dialogCloseType</th><th>endTimeAPICall</th><th>eventName</th><th>eventdate</th><th>isAuthenticated</th><th>isLeaf</th><th>mainScenario</th><th>modemAlignment</th><th>modemChanged</th><th>modemType</th><th>notUnderstoodMessage</th><th>reason</th><th>scenario</th><th>scenarioCalled</th><th>scenarioId</th><th>startTimeAPICall</th><th>telemetryId</th><th>text</th><th>ticket</th><th>ticketForm</th><th>timestamp</th><th>toolExec</th><th>toolResult</th><th>user</th><th>userId</th><th>userName</th><th>applicationInsight</th><th>businessUnit</th><th>type</th><th>apiTimeDiff</th><th>BotAnswerDuration</th><th>EventTimePrevious</th><th>DateUTCInsertRow</th><th>Environment</th><th>eventNameDecode</th><th>Status</th><th>Recognition</th><th>StatusCode</th><th>RecognitionCode</th><th>HourFromLastEvent</th><th>EventHourMinute</th></tr></thead><tbody><tr><td>PIPPO</td><td>2018-11-12T11:51:04.544+0000</td><td>6789</td><td></td><td></td><td></td><td></td><td></td><td></td><td></td><td></td><td></td><td></td><td>0.5085391</td><td></td><td>pat</td><td></td><td></td><td></td><td>null</td><td>MBFEvent.Sentiment</td><td>2018-11-12</td><td></td><td></td><td></td><td></td><td></td><td></td><td></td><td></td><td></td><td></td><td></td><td>null</td><td></td><td>effettuerò le prove</td><td></td><td></td><td>2018-11-12T11:49:00.428+0000</td><td></td><td></td><td></td><td>918449a975df2c63c5a35aa56d415e4f6228035</td><td>username</td><td>appinsights-wo</td><td>wo</td><td>new</td><td>null</td><td>null</td><td>null</td><td>2018-12-19T21:25:19.164+0000</td><td>DEV</td><td>Sentiment</td><td>abbandonata</td><td>undefined</td><td>AB</td><td>undefined</td><td>896.57</td><td>1151</td></tr><tr><td>ALDO</td><td>2018-11-12T11:52:08.561+0000</td><td>12345</td><td></td><td></td><td></td><td></td><td></td><td></td><td>ChitChat</td><td></td><td></td><td></td><td>null</td><td>8mkbRBVLXnqB1DyyZ1pVcZ|0000314</td><td>pat</td><td></td><td></td><td></td><td>null</td><td>MBFEvent.QNAEvent</td><td>2018-11-12</td><td>true</td><td></td><td></td><td></td><td></td><td></td><td></td><td></td><td></td><td></td><td></td><td>null</td><td></td><td>effettuerò le prove</td><td></td><td></td><td>2018-11-12T11:49:00.428+0000</td><td></td><td></td><td>77F973BD0EEFAB79927F481B0611EDF8</td><td>918449a975df2c63c5a35aa56d415e4f6228035</td><td>username</td><td>appinsights-wo</td><td>wo</td><td>new</td><td>null</td><td>null</td><td>null</td><td>2018-12-19T21:25:19.164+0000</td><td>DEV</td><td>QNAEvent</td><td>abbandonata</td><td>inconsistente</td><td>AB</td><td>INC</td><td>896.55</td><td>1152</td></tr><tr><td>6LRLPjJDLkQ85QplizAeFS</td><td>2018-11-12T11:49:04.561+0000</td><td>06470259-e671-11e8-88dc-9fb96e7465b9</td><td></td><td></td><td></td><td></td><td></td><td></td><td></td><td></td><td></td><td></td><td>null</td><td>8mkbRBVLXnqB1DyyZ1pVcZ|0000314</td><td>pat</td><td></td><td></td><td></td><td>null</td><td>MBFEvent.UserMessage</td><td>2018-11-12</td><td>true</td><td></td><td></td><td></td><td></td><td></td><td></td><td></td><td></td><td></td><td></td><td>null</td><td></td><td>effettuerò le prove</td><td></td><td></td><td>2018-11-12T11:49:00.428+0000</td><td></td><td></td><td>77F973BD0EEFAB79927F481B0611EDF8</td><td>918449a975df2c63c5a35aa56d415e4f6228035</td><td>username</td><td>appinsights-wo</td><td>wo</td><td>new</td><td>null</td><td>null</td><td>null</td><td>2018-12-19T21:25:19.164+0000</td><td>DEV</td><td>UserMessage</td><td>abbandonata</td><td>undefined</td><td>AB</td><td>undefined</td><td>896.6</td><td>1149</td></tr></tbody></table></div>"
      ]
     },
     "metadata": {},
     "output_type": "display_data"
    }
   ],
   "source": [
    "LastRecordPerConv= LastItemPerConv.join(new_Events2, on= ['ConversationId', 'eventTime'], how= 'left').withColumnRenamed('ConversationId', 'EventsConvId')\n",
    "allConversationsUpdated = allConversations.join(LastRecordPerConv, (allConversations.ConversationId == LastRecordPerConv.EventsConvId), how= 'left')\n",
    "\n",
    "display(LastRecordPerConv)"
   ]
  },
  {
   "cell_type": "code",
   "execution_count": 84,
   "metadata": {},
   "outputs": [
    {
     "data": {
      "text/html": [
       "<style scoped>\n",
       "  .ansiout {\n",
       "    display: block;\n",
       "    unicode-bidi: embed;\n",
       "    white-space: pre-wrap;\n",
       "    word-wrap: break-word;\n",
       "    word-break: break-all;\n",
       "    font-family: \"Source Code Pro\", \"Menlo\", monospace;;\n",
       "    font-size: 13px;\n",
       "    color: #555;\n",
       "    margin-left: 4px;\n",
       "    line-height: 19px;\n",
       "  }\n",
       "</style>\n",
       "<div class=\"ansiout\"></div>"
      ]
     },
     "metadata": {},
     "output_type": "display_data"
    }
   ],
   "source": [
    "allConversationsUpdated.persist()"
   ]
  },
  {
   "cell_type": "code",
   "execution_count": 85,
   "metadata": {},
   "outputs": [
    {
     "data": {
      "text/html": [
       "<style scoped>\n",
       "  .ansiout {\n",
       "    display: block;\n",
       "    unicode-bidi: embed;\n",
       "    white-space: pre-wrap;\n",
       "    word-wrap: break-word;\n",
       "    word-break: break-all;\n",
       "    font-family: \"Source Code Pro\", \"Menlo\", monospace;;\n",
       "    font-size: 13px;\n",
       "    color: #555;\n",
       "    margin-left: 4px;\n",
       "    line-height: 19px;\n",
       "  }\n",
       "</style>\n",
       "<div class=\"ansiout\"><span class=\"ansired\">Out[</span><span class=\"ansired\">102</span><span class=\"ansired\">]: </span>\n",
       "[&apos;ConversationId&apos;,\n",
       " &apos;ConversationStartDate&apos;,\n",
       " &apos;ConversationStartTime&apos;,\n",
       " &apos;ConversationEndTime&apos;,\n",
       " &apos;ConversationStatusCode&apos;,\n",
       " &apos;ConversationStatus&apos;,\n",
       " &apos;ConversationRecognitionCode&apos;,\n",
       " &apos;ConversationRecognition&apos;,\n",
       " &apos;recordType&apos;,\n",
       " &apos;NewConvId&apos;,\n",
       " &apos;EventsConvId&apos;,\n",
       " &apos;eventTime&apos;,\n",
       " &apos;itemId&apos;,\n",
       " &apos;ClientAtHome&apos;,\n",
       " &apos;LUISentities&apos;,\n",
       " &apos;LUISintent&apos;,\n",
       " &apos;LUISscore&apos;,\n",
       " &apos;ProblemSolved&apos;,\n",
       " &apos;QNAanswer&apos;,\n",
       " &apos;QNAcategory&apos;,\n",
       " &apos;QNAscore&apos;,\n",
       " &apos;QNAsource&apos;,\n",
       " &apos;QNAuserMessage&apos;,\n",
       " &apos;TXTANALYTICSscore&apos;,\n",
       " &apos;activityId&apos;,\n",
       " &apos;channel&apos;,\n",
       " &apos;currentScenario&apos;,\n",
       " &apos;diagnosticResponse&apos;,\n",
       " &apos;dialogCloseType&apos;,\n",
       " &apos;endTimeAPICall&apos;,\n",
       " &apos;eventName&apos;,\n",
       " &apos;eventdate&apos;,\n",
       " &apos;isAuthenticated&apos;,\n",
       " &apos;isLeaf&apos;,\n",
       " &apos;mainScenario&apos;,\n",
       " &apos;modemAlignment&apos;,\n",
       " &apos;modemChanged&apos;,\n",
       " &apos;modemType&apos;,\n",
       " &apos;notUnderstoodMessage&apos;,\n",
       " &apos;reason&apos;,\n",
       " &apos;scenario&apos;,\n",
       " &apos;scenarioCalled&apos;,\n",
       " &apos;scenarioId&apos;,\n",
       " &apos;startTimeAPICall&apos;,\n",
       " &apos;telemetryId&apos;,\n",
       " &apos;text&apos;,\n",
       " &apos;ticket&apos;,\n",
       " &apos;ticketForm&apos;,\n",
       " &apos;timestamp&apos;,\n",
       " &apos;toolExec&apos;,\n",
       " &apos;toolResult&apos;,\n",
       " &apos;user&apos;,\n",
       " &apos;userId&apos;,\n",
       " &apos;userName&apos;,\n",
       " &apos;applicationInsight&apos;,\n",
       " &apos;businessUnit&apos;,\n",
       " &apos;type&apos;,\n",
       " &apos;apiTimeDiff&apos;,\n",
       " &apos;BotAnswerDuration&apos;,\n",
       " &apos;EventTimePrevious&apos;,\n",
       " &apos;DateUTCInsertRow&apos;,\n",
       " &apos;Environment&apos;,\n",
       " &apos;eventNameDecode&apos;,\n",
       " &apos;Status&apos;,\n",
       " &apos;Recognition&apos;,\n",
       " &apos;StatusCode&apos;,\n",
       " &apos;RecognitionCode&apos;,\n",
       " &apos;HourFromLastEvent&apos;,\n",
       " &apos;EventHourMinute&apos;]\n",
       "</div>"
      ]
     },
     "metadata": {},
     "output_type": "display_data"
    }
   ],
   "source": [
    "allConversationsUpdated.columns"
   ]
  },
  {
   "cell_type": "code",
   "execution_count": 86,
   "metadata": {},
   "outputs": [
    {
     "data": {
      "text/html": [
       "<style scoped>\n",
       "  .table-result-container {\n",
       "    max-height: 300px;\n",
       "    overflow: auto;\n",
       "  }\n",
       "  table, th, td {\n",
       "    border: 1px solid black;\n",
       "    border-collapse: collapse;\n",
       "  }\n",
       "  th, td {\n",
       "    padding: 5px;\n",
       "  }\n",
       "  th {\n",
       "    text-align: left;\n",
       "  }\n",
       "</style><div class='table-result-container'><table class='table-result'><thead style='background-color: white'><tr><th>ConversationId</th><th>ConversationStartDate</th><th>ConversationStartTime</th><th>ConversationEndTime</th><th>ConversationStatusCode</th><th>ConversationStatus</th><th>ConversationRecognitionCode</th><th>ConversationRecognition</th><th>recordType</th><th>DateUTCInsertRow</th></tr></thead><tbody><tr><td>6LRLPjJDLkQ85QplizAeFS</td><td>2018-11-12</td><td>2018-11-12T11:49:04.561+0000</td><td>2018-11-12T11:49:04.561+0000</td><td>AB</td><td>abbandonata</td><td>undefined</td><td>undefined</td><td>new conv</td><td>2018-12-19T21:29:13.074+0000</td></tr><tr><td>8mkbRBVLXnqB1DyyZ1pVcZ</td><td>2018-11-12</td><td>2018-11-12T14:09:18.462+0000</td><td>2018-11-12T14:57:54.130+0000</td><td>CH</td><td>chiusa</td><td>undefined</td><td>undefined</td><td>previous conv</td><td>null</td></tr><tr><td>ALDO</td><td>2018-11-12</td><td>2018-11-12T11:52:08.561+0000</td><td>2018-11-12T11:52:08.561+0000</td><td>AB</td><td>abbandonata</td><td>INC</td><td>inconsistente</td><td>new conv</td><td>2018-12-19T21:29:13.074+0000</td></tr><tr><td>PIPPO</td><td>2018-11-12</td><td>2018-11-12T11:49:04.544+0000</td><td>2018-11-12T11:51:04.544+0000</td><td>AB</td><td>abbandonata</td><td>undefined</td><td>undefined</td><td>new conv</td><td>2018-12-19T21:29:13.074+0000</td></tr><tr><td>777Qsjs3i8qJyBr95zABbk</td><td>2018-11-12</td><td>2018-11-12T13:58:00.081+0000</td><td>2018-11-12T13:59:32.347+0000</td><td>AB</td><td>abbandonata</td><td>undefined</td><td>undefined</td><td>previous conv</td><td>null</td></tr><tr><td>777Qsjs3i8qJyBr95zABbk</td><td>2018-11-12</td><td>2018-11-12T13:58:00.081+0000</td><td>2018-11-12T13:59:32.347+0000</td><td>AB</td><td>abbandonata</td><td>undefined</td><td>undefined</td><td>previous conv</td><td>null</td></tr><tr><td>2cpS4QCdLps7ycDeAxodOz</td><td>2018-11-12</td><td>2018-11-12T13:57:54.672+0000</td><td>2018-11-12T14:07:45.439+0000</td><td>AB</td><td>abbandonata</td><td>undefined</td><td>undefined</td><td>previous conv</td><td>null</td></tr><tr><td>JEBXXIfay3m328mWQLvL0x</td><td>2018-11-12</td><td>2018-11-12T14:07:54.379+0000</td><td>2018-11-12T14:55:34.613+0000</td><td>AB</td><td>abbandonata</td><td>undefined</td><td>undefined</td><td>previous conv</td><td>null</td></tr></tbody></table></div>"
      ]
     },
     "metadata": {},
     "output_type": "display_data"
    }
   ],
   "source": [
    "allConversationsUpdated= allConversationsUpdated.select([col for col in allConversations.columns + ['Status', 'Recognition', 'StatusCode', 'RecognitionCode','DateUTCInsertRow'] ]).withColumn('ConversationStatus', when(allConversationsUpdated.Status.isNotNull(), allConversationsUpdated.Status).otherwise(allConversationsUpdated.ConversationStatus))\n",
    "\n",
    "allConversationsUpdated= allConversationsUpdated.withColumn('ConversationRecognitionCode', when(allConversationsUpdated.RecognitionCode.isNotNull(), allConversationsUpdated.RecognitionCode).otherwise(allConversationsUpdated.ConversationRecognitionCode)).withColumn('ConversationRecognition', when(allConversationsUpdated.Recognition.isNotNull(), allConversationsUpdated.Recognition).otherwise(allConversationsUpdated.ConversationRecognition)).withColumn('ConversationStatusCode', when(allConversationsUpdated.StatusCode.isNotNull(), allConversationsUpdated.StatusCode).otherwise(allConversationsUpdated.ConversationStatusCode))\n",
    "\n",
    "allConversationsUpdated= allConversationsUpdated.select([col for col in allConversations.columns + ['DateUTCInsertRow'] if col!= 'NewConvId'])\n",
    "display(allConversationsUpdated)\n",
    "\n",
    "# DateUTCInsertRow è valorizzato solo per quelle nuove, solamente perchè per quelle vecchie il codice era diverso..."
   ]
  },
  {
   "cell_type": "code",
   "execution_count": 87,
   "metadata": {},
   "outputs": [
    {
     "data": {
      "text/html": [
       "<style scoped>\n",
       "  .ansiout {\n",
       "    display: block;\n",
       "    unicode-bidi: embed;\n",
       "    white-space: pre-wrap;\n",
       "    word-wrap: break-word;\n",
       "    word-break: break-all;\n",
       "    font-family: \"Source Code Pro\", \"Menlo\", monospace;;\n",
       "    font-size: 13px;\n",
       "    color: #555;\n",
       "    margin-left: 4px;\n",
       "    line-height: 19px;\n",
       "  }\n",
       "</style>\n",
       "<div class=\"ansiout\"></div>"
      ]
     },
     "metadata": {},
     "output_type": "display_data"
    }
   ],
   "source": [
    "##########################################################################################"
   ]
  },
  {
   "cell_type": "markdown",
   "metadata": {},
   "source": [
    "### Binario: separo Conversations Hot e Cold"
   ]
  },
  {
   "cell_type": "code",
   "execution_count": 89,
   "metadata": {},
   "outputs": [
    {
     "data": {
      "text/html": [
       "<style scoped>\n",
       "  .table-result-container {\n",
       "    max-height: 300px;\n",
       "    overflow: auto;\n",
       "  }\n",
       "  table, th, td {\n",
       "    border: 1px solid black;\n",
       "    border-collapse: collapse;\n",
       "  }\n",
       "  th, td {\n",
       "    padding: 5px;\n",
       "  }\n",
       "  th {\n",
       "    text-align: left;\n",
       "  }\n",
       "</style><div class='table-result-container'><table class='table-result'><thead style='background-color: white'><tr><th>ConversationId</th><th>ConversationStartDate</th><th>ConversationStartTime</th><th>ConversationEndTime</th><th>ConversationStatusCode</th><th>ConversationStatus</th><th>ConversationRecognitionCode</th><th>ConversationRecognition</th><th>recordType</th><th>DateUTCInsertRow</th></tr></thead><tbody><tr><td>6LRLPjJDLkQ85QplizAeFS</td><td>2018-11-12</td><td>2018-11-12T11:49:04.561+0000</td><td>2018-11-12T11:49:04.561+0000</td><td>AB</td><td>abbandonata</td><td>undefined</td><td>undefined</td><td>new conv</td><td>2018-12-19T21:35:28.102+0000</td></tr><tr><td>8mkbRBVLXnqB1DyyZ1pVcZ</td><td>2018-11-12</td><td>2018-11-12T14:09:18.462+0000</td><td>2018-11-12T14:57:54.130+0000</td><td>CH</td><td>chiusa</td><td>undefined</td><td>undefined</td><td>previous conv</td><td>null</td></tr><tr><td>ALDO</td><td>2018-11-12</td><td>2018-11-12T11:52:08.561+0000</td><td>2018-11-12T11:52:08.561+0000</td><td>AB</td><td>abbandonata</td><td>INC</td><td>inconsistente</td><td>new conv</td><td>2018-12-19T21:35:28.102+0000</td></tr><tr><td>PIPPO</td><td>2018-11-12</td><td>2018-11-12T11:49:04.544+0000</td><td>2018-11-12T11:51:04.544+0000</td><td>AB</td><td>abbandonata</td><td>undefined</td><td>undefined</td><td>new conv</td><td>2018-12-19T21:35:28.102+0000</td></tr><tr><td>777Qsjs3i8qJyBr95zABbk</td><td>2018-11-12</td><td>2018-11-12T13:58:00.081+0000</td><td>2018-11-12T13:59:32.347+0000</td><td>AB</td><td>abbandonata</td><td>undefined</td><td>undefined</td><td>previous conv</td><td>null</td></tr><tr><td>777Qsjs3i8qJyBr95zABbk</td><td>2018-11-12</td><td>2018-11-12T13:58:00.081+0000</td><td>2018-11-12T13:59:32.347+0000</td><td>AB</td><td>abbandonata</td><td>undefined</td><td>undefined</td><td>previous conv</td><td>null</td></tr><tr><td>2cpS4QCdLps7ycDeAxodOz</td><td>2018-11-12</td><td>2018-11-12T13:57:54.672+0000</td><td>2018-11-12T14:07:45.439+0000</td><td>AB</td><td>abbandonata</td><td>undefined</td><td>undefined</td><td>previous conv</td><td>null</td></tr><tr><td>JEBXXIfay3m328mWQLvL0x</td><td>2018-11-12</td><td>2018-11-12T14:07:54.379+0000</td><td>2018-11-12T14:55:34.613+0000</td><td>AB</td><td>abbandonata</td><td>undefined</td><td>undefined</td><td>previous conv</td><td>null</td></tr></tbody></table></div>"
      ]
     },
     "metadata": {},
     "output_type": "display_data"
    }
   ],
   "source": [
    "hotConversations= allConversationsUpdated.filter((allConversationsUpdated.ConversationStatus!= 'abbandonata') & (allConversationsUpdated.ConversationStatus!='chiusa'))\n",
    "coldConversations= allConversationsUpdated.filter((allConversationsUpdated.ConversationStatus=='abbandonata') | (allConversationsUpdated.ConversationStatus=='chiusa'))\n",
    "                                              \n",
    "display(coldConversations)"
   ]
  },
  {
   "cell_type": "code",
   "execution_count": 90,
   "metadata": {},
   "outputs": [
    {
     "data": {
      "text/html": [
       "<style scoped>\n",
       "  .ansiout {\n",
       "    display: block;\n",
       "    unicode-bidi: embed;\n",
       "    white-space: pre-wrap;\n",
       "    word-wrap: break-word;\n",
       "    word-break: break-all;\n",
       "    font-family: \"Source Code Pro\", \"Menlo\", monospace;;\n",
       "    font-size: 13px;\n",
       "    color: #555;\n",
       "    margin-left: 4px;\n",
       "    line-height: 19px;\n",
       "  }\n",
       "</style>\n",
       "<div class=\"ansiout\"></div>"
      ]
     },
     "metadata": {},
     "output_type": "display_data"
    }
   ],
   "source": [
    "hotConversations_noUTC= hotConversations.select([col for col in hotConversations.columns if col != 'DateUTCInsertRow'])\n",
    "coldConversations_noUTC= coldConversations.select([col for col in coldConversations.columns if col != 'DateUTCInsertRow'])"
   ]
  },
  {
   "cell_type": "code",
   "execution_count": 91,
   "metadata": {},
   "outputs": [
    {
     "data": {
      "text/html": [
       "<style scoped>\n",
       "  .ansiout {\n",
       "    display: block;\n",
       "    unicode-bidi: embed;\n",
       "    white-space: pre-wrap;\n",
       "    word-wrap: break-word;\n",
       "    word-break: break-all;\n",
       "    font-family: \"Source Code Pro\", \"Menlo\", monospace;;\n",
       "    font-size: 13px;\n",
       "    color: #555;\n",
       "    margin-left: 4px;\n",
       "    line-height: 19px;\n",
       "  }\n",
       "</style>\n",
       "<div class=\"ansiout\"></div>"
      ]
     },
     "metadata": {},
     "output_type": "display_data"
    }
   ],
   "source": [
    "coldConversations_noUTC.write.format(\"delta\").mode(\"overwrite\").save(\"/delta/\"+environment+\"/Conversations/\")  ##Siccome hotConversations è vuota (è Hot se è negli ultimi 20-30 minuti...ma sto runnando orari piu vecchi quindi saranno tutte cold..), sovrascrivo sulla delta Cold, così la riempio. Sennò rimane con zero records..."
   ]
  },
  {
   "cell_type": "code",
   "execution_count": 92,
   "metadata": {},
   "outputs": [],
   "source": [
    "%sql  -- Ne ha scritte 8 in totale, tutte quelle cold di sopra\n",
    "SELECT count(*)\n",
    "FROM DEV.Conversations"
   ]
  },
  {
   "cell_type": "code",
   "execution_count": 93,
   "metadata": {},
   "outputs": [
    {
     "data": {
      "text/html": [
       "<style scoped>\n",
       "  .ansiout {\n",
       "    display: block;\n",
       "    unicode-bidi: embed;\n",
       "    white-space: pre-wrap;\n",
       "    word-wrap: break-word;\n",
       "    word-break: break-all;\n",
       "    font-family: \"Source Code Pro\", \"Menlo\", monospace;;\n",
       "    font-size: 13px;\n",
       "    color: #555;\n",
       "    margin-left: 4px;\n",
       "    line-height: 19px;\n",
       "  }\n",
       "</style>\n",
       "<div class=\"ansiout\"></div>"
      ]
     },
     "metadata": {},
     "output_type": "display_data"
    }
   ],
   "source": [
    "#write in delta table in OVERWRITE   DEV.Conversation\n",
    "#hotConversations.select([col for col in hotConversations.columns if col!= 'DateUTCInsertRow' ]).write.format(\"delta\").mode(\"overwrite\").save(\"/delta/\"+environment+\"/Conversations/\")\n",
    "hotConversations_noUTC.write.format(\"delta\").mode(\"overwrite\").save(\"/delta/\"+environment+\"/Conversations/\")"
   ]
  },
  {
   "cell_type": "code",
   "execution_count": 94,
   "metadata": {},
   "outputs": [
    {
     "data": {
      "text/html": [
       "<style scoped>\n",
       "  .ansiout {\n",
       "    display: block;\n",
       "    unicode-bidi: embed;\n",
       "    white-space: pre-wrap;\n",
       "    word-wrap: break-word;\n",
       "    word-break: break-all;\n",
       "    font-family: \"Source Code Pro\", \"Menlo\", monospace;;\n",
       "    font-size: 13px;\n",
       "    color: #555;\n",
       "    margin-left: 4px;\n",
       "    line-height: 19px;\n",
       "  }\n",
       "</style>\n",
       "<div class=\"ansiout\"></div>"
      ]
     },
     "metadata": {},
     "output_type": "display_data"
    }
   ],
   "source": [
    "#spark.sql select per far matchare campi con quelli del DataWharehouse\n",
    "hotConversations.createOrReplaceTempView(\"hotConversations\")\n",
    "\n",
    "sqlConversationsHot = spark.sql(\"\"\"\\\n",
    "SELECT ConversationId\n",
    ", ConversationStartDate\n",
    ", ConversationStartTime\n",
    ", ConversationEndTime\n",
    ", ConversationStatusCode\n",
    ", ConversationStatus\n",
    ", ConversationRecognitionCode\n",
    ", ConversationRecognition\n",
    ", 0 as Count_BotMessage\n",
    ", 0 as Count_UserMessage\n",
    ", 0 as Count_NotUnderstood\n",
    ", 0 as Count_Understood\n",
    ", 0 as Count_LeafEvent\n",
    ", 0 as Count_Ticket\n",
    ", 0 as Count_CloseEvent\n",
    ", 0 as Count_CloseByBot\n",
    ", '' as DateUTCInsertRow               -- 11/12/2018\n",
    ", '' as DateUTCInsertRow_Europe_Rome   -- 11/12/2018\n",
    "FROM hotConversations\n",
    "\"\"\")\n",
    "\n",
    "#display(sqlConversationsHot)"
   ]
  },
  {
   "cell_type": "code",
   "execution_count": 95,
   "metadata": {},
   "outputs": [
    {
     "data": {
      "text/html": [
       "<style scoped>\n",
       "  .table-result-container {\n",
       "    max-height: 300px;\n",
       "    overflow: auto;\n",
       "  }\n",
       "  table, th, td {\n",
       "    border: 1px solid black;\n",
       "    border-collapse: collapse;\n",
       "  }\n",
       "  th, td {\n",
       "    padding: 5px;\n",
       "  }\n",
       "  th {\n",
       "    text-align: left;\n",
       "  }\n",
       "</style><div class='table-result-container'><table class='table-result'><thead style='background-color: white'><tr><th>ConversationId</th><th>ConversationStartDate</th><th>ConversationStartTime</th><th>ConversationEndTime</th><th>ConversationStatusCode</th><th>ConversationStatus</th><th>ConversationRecognitionCode</th><th>ConversationRecognition</th><th>Count_BotMessage</th><th>Count_UserMessage</th><th>Count_NotUnderstood</th><th>Count_Understood</th><th>Count_LeafEvent</th><th>Count_Ticket</th><th>Count_CloseEvent</th><th>Count_CloseByBot</th><th>DateUTCInsertRow</th><th>DateUTCInsertRow_Europe_Rome</th></tr></thead><tbody><tr><td>6LRLPjJDLkQ85QplizAeFS</td><td>2018-11-12</td><td>2018-11-12T11:49:04.561+0000</td><td>2018-11-12T11:49:04.561+0000</td><td>AB</td><td>abbandonata</td><td>undefined</td><td>undefined</td><td>0</td><td>0</td><td>0</td><td>0</td><td>0</td><td>0</td><td>0</td><td>0</td><td>2018-12-19T21:44:05.027+0000</td><td></td></tr><tr><td>8mkbRBVLXnqB1DyyZ1pVcZ</td><td>2018-11-12</td><td>2018-11-12T14:09:18.462+0000</td><td>2018-11-12T14:57:54.130+0000</td><td>CH</td><td>chiusa</td><td>undefined</td><td>undefined</td><td>0</td><td>0</td><td>0</td><td>0</td><td>0</td><td>0</td><td>0</td><td>0</td><td>null</td><td></td></tr><tr><td>ALDO</td><td>2018-11-12</td><td>2018-11-12T11:52:08.561+0000</td><td>2018-11-12T11:52:08.561+0000</td><td>AB</td><td>abbandonata</td><td>INC</td><td>inconsistente</td><td>0</td><td>0</td><td>0</td><td>0</td><td>0</td><td>0</td><td>0</td><td>0</td><td>2018-12-19T21:44:05.027+0000</td><td></td></tr><tr><td>PIPPO</td><td>2018-11-12</td><td>2018-11-12T11:49:04.544+0000</td><td>2018-11-12T11:51:04.544+0000</td><td>AB</td><td>abbandonata</td><td>undefined</td><td>undefined</td><td>0</td><td>0</td><td>0</td><td>0</td><td>0</td><td>0</td><td>0</td><td>0</td><td>2018-12-19T21:44:05.027+0000</td><td></td></tr><tr><td>777Qsjs3i8qJyBr95zABbk</td><td>2018-11-12</td><td>2018-11-12T13:58:00.081+0000</td><td>2018-11-12T13:59:32.347+0000</td><td>AB</td><td>abbandonata</td><td>undefined</td><td>undefined</td><td>0</td><td>0</td><td>0</td><td>0</td><td>0</td><td>0</td><td>0</td><td>0</td><td>null</td><td></td></tr><tr><td>777Qsjs3i8qJyBr95zABbk</td><td>2018-11-12</td><td>2018-11-12T13:58:00.081+0000</td><td>2018-11-12T13:59:32.347+0000</td><td>AB</td><td>abbandonata</td><td>undefined</td><td>undefined</td><td>0</td><td>0</td><td>0</td><td>0</td><td>0</td><td>0</td><td>0</td><td>0</td><td>null</td><td></td></tr><tr><td>2cpS4QCdLps7ycDeAxodOz</td><td>2018-11-12</td><td>2018-11-12T13:57:54.672+0000</td><td>2018-11-12T14:07:45.439+0000</td><td>AB</td><td>abbandonata</td><td>undefined</td><td>undefined</td><td>0</td><td>0</td><td>0</td><td>0</td><td>0</td><td>0</td><td>0</td><td>0</td><td>null</td><td></td></tr><tr><td>JEBXXIfay3m328mWQLvL0x</td><td>2018-11-12</td><td>2018-11-12T14:07:54.379+0000</td><td>2018-11-12T14:55:34.613+0000</td><td>AB</td><td>abbandonata</td><td>undefined</td><td>undefined</td><td>0</td><td>0</td><td>0</td><td>0</td><td>0</td><td>0</td><td>0</td><td>0</td><td>null</td><td></td></tr></tbody></table></div>"
      ]
     },
     "metadata": {},
     "output_type": "display_data"
    }
   ],
   "source": [
    "#spark.sql select per far matchare campi con quelli del DataWharehouse\n",
    "coldConversations.createOrReplaceTempView(\"coldConversations\")\n",
    "\n",
    "sqlConversationsCold = spark.sql(\"\"\"\\\n",
    "SELECT ConversationId\n",
    ", ConversationStartDate\n",
    ", ConversationStartTime\n",
    ", ConversationEndTime\n",
    ", ConversationStatusCode\n",
    ", ConversationStatus\n",
    ", ConversationRecognitionCode\n",
    ", ConversationRecognition\n",
    ", 0 as Count_BotMessage\n",
    ", 0 as Count_UserMessage\n",
    ", 0 as Count_NotUnderstood\n",
    ", 0 as Count_Understood\n",
    ", 0 as Count_LeafEvent\n",
    ", 0 as Count_Ticket\n",
    ", 0 as Count_CloseEvent\n",
    ", 0 as Count_CloseByBot\n",
    ", DateUTCInsertRow as DateUTCInsertRow              -- 11/12/2018\n",
    ", '' as DateUTCInsertRow_Europe_Rome  -- 11/12/2018\n",
    "FROM coldConversations\n",
    "\"\"\")\n",
    "\n",
    "display(sqlConversationsCold)"
   ]
  },
  {
   "cell_type": "code",
   "execution_count": 96,
   "metadata": {},
   "outputs": [],
   "source": [
    "%sql\n",
    "\n",
    "SET spark.databricks.queryWatchdog.enabled=false"
   ]
  },
  {
   "cell_type": "code",
   "execution_count": 97,
   "metadata": {},
   "outputs": [
    {
     "data": {
      "text/html": [
       "<style scoped>\n",
       "  .ansiout {\n",
       "    display: block;\n",
       "    unicode-bidi: embed;\n",
       "    white-space: pre-wrap;\n",
       "    word-wrap: break-word;\n",
       "    word-break: break-all;\n",
       "    font-family: \"Source Code Pro\", \"Menlo\", monospace;;\n",
       "    font-size: 13px;\n",
       "    color: #555;\n",
       "    margin-left: 4px;\n",
       "    line-height: 19px;\n",
       "  }\n",
       "</style>\n",
       "<div class=\"ansiout\"></div>"
      ]
     },
     "metadata": {},
     "output_type": "display_data"
    }
   ],
   "source": [
    "#WRITE IN DW in table [ConversationCold]  (in APPEND)\n",
    "sqlConversationsCold.write.option(\"maxStrLength\",4000).format(\"com.databricks.spark.sqldw\").option(\"url\", connStringDWH).option(\"dbtable\", \"ConversationCold\").option(\"forward_spark_azure_storage_credentials\",\"True\").mode(\"append\").option(\"tempdir\", tempdatabricks_wo).save()"
   ]
  },
  {
   "cell_type": "code",
   "execution_count": 98,
   "metadata": {},
   "outputs": [
    {
     "data": {
      "text/html": [
       "<style scoped>\n",
       "  .ansiout {\n",
       "    display: block;\n",
       "    unicode-bidi: embed;\n",
       "    white-space: pre-wrap;\n",
       "    word-wrap: break-word;\n",
       "    word-break: break-all;\n",
       "    font-family: \"Source Code Pro\", \"Menlo\", monospace;;\n",
       "    font-size: 13px;\n",
       "    color: #555;\n",
       "    margin-left: 4px;\n",
       "    line-height: 19px;\n",
       "  }\n",
       "</style>\n",
       "<div class=\"ansiout\"></div>"
      ]
     },
     "metadata": {},
     "output_type": "display_data"
    }
   ],
   "source": [
    "#WRITE IN DW in table [ConversationHot]  (in OVERWRITE)\n",
    "sqlConversationsHot.write.option(\"maxStrLength\",4000).format(\"com.databricks.spark.sqldw\").option(\"url\", connStringDWH).option(\"dbtable\", \"ConversationHot\").option(\"forward_spark_azure_storage_credentials\",\"True\").mode(\"overwrite\").option(\"tempdir\", tempdatabricks_wo).save()"
   ]
  },
  {
   "cell_type": "code",
   "execution_count": 99,
   "metadata": {},
   "outputs": [
    {
     "data": {
      "text/html": [
       "<style scoped>\n",
       "  .table-result-container {\n",
       "    max-height: 300px;\n",
       "    overflow: auto;\n",
       "  }\n",
       "  table, th, td {\n",
       "    border: 1px solid black;\n",
       "    border-collapse: collapse;\n",
       "  }\n",
       "  th, td {\n",
       "    padding: 5px;\n",
       "  }\n",
       "  th {\n",
       "    text-align: left;\n",
       "  }\n",
       "</style><div class='table-result-container'><table class='table-result'><thead style='background-color: white'><tr><th>itemId</th><th>ClientAtHome</th><th>LUISentities</th><th>LUISintent</th><th>LUISscore</th><th>ProblemSolved</th><th>QNAanswer</th><th>QNAcategory</th><th>QNAscore</th><th>QNAsource</th><th>QNAuserMessage</th><th>TXTANALYTICSscore</th><th>activityId</th><th>channel</th><th>conversationId</th><th>currentScenario</th><th>diagnosticResponse</th><th>dialogCloseType</th><th>endTimeAPICall</th><th>eventName</th><th>eventTime</th><th>eventdate</th><th>isAuthenticated</th><th>isLeaf</th><th>mainScenario</th><th>modemAlignment</th><th>modemChanged</th><th>modemType</th><th>notUnderstoodMessage</th><th>reason</th><th>scenario</th><th>scenarioCalled</th><th>scenarioId</th><th>startTimeAPICall</th><th>telemetryId</th><th>text</th><th>ticket</th><th>ticketForm</th><th>timestamp</th><th>toolExec</th><th>toolResult</th><th>user</th><th>userId</th><th>userName</th><th>applicationInsight</th><th>businessUnit</th><th>type</th><th>apiTimeDiff</th><th>BotAnswerDuration</th><th>EventTimePrevious</th><th>DateUTCInsertRow</th><th>Environment</th><th>eventNameDecode</th><th>Status</th><th>Recognition</th><th>StatusCode</th><th>RecognitionCode</th><th>HourFromLastEvent</th><th>EventHourMinute</th></tr></thead><tbody></tbody></table></div>"
      ]
     },
     "metadata": {},
     "output_type": "display_data"
    }
   ],
   "source": [
    "\"\"\"%sql\n",
    "DESCRIBE FORMATTED DEV.Events  --per sapere schema \"\"\"\n",
    "# PORTO AVANTI SOLAMENTE CONVERSATIONHOT --> VADO IN JOIN CON TABELLA EVENTS PER PRENDERE SOLO GLI EVENTI DELLE CONVERSAZIONI HOT. POI SOVRASCRIVO QUESTI NELLA DELTA\n",
    "\n",
    "eventsHot= new_Events2.join(hotConversations_noUTC, on=['ConversationId'], how= 'inner')\n",
    "eventsHot= eventsHot.select([col for col in new_Events2.columns if col not in hotConversations_noUTC.drop('ConversationId').columns])\n",
    "display(eventsHot)"
   ]
  },
  {
   "cell_type": "code",
   "execution_count": 100,
   "metadata": {},
   "outputs": [
    {
     "data": {
      "text/html": [
       "<style scoped>\n",
       "  .table-result-container {\n",
       "    max-height: 300px;\n",
       "    overflow: auto;\n",
       "  }\n",
       "  table, th, td {\n",
       "    border: 1px solid black;\n",
       "    border-collapse: collapse;\n",
       "  }\n",
       "  th, td {\n",
       "    padding: 5px;\n",
       "  }\n",
       "  th {\n",
       "    text-align: left;\n",
       "  }\n",
       "</style><div class='table-result-container'><table class='table-result'><thead style='background-color: white'><tr><th>ConversationId</th><th>ConversationStartDate</th><th>ConversationStartTime</th><th>ConversationEndTime</th><th>ConversationStatusCode</th><th>ConversationStatus</th><th>ConversationRecognitionCode</th><th>ConversationRecognition</th><th>recordType</th></tr></thead><tbody><tr><td>6LRLPjJDLkQ85QplizAeFS</td><td>null</td><td>null</td><td>null</td><td>CH</td><td>chiusa</td><td>undefined</td><td>undefined</td><td>new conv</td></tr><tr><td>6LRLPjJDLkQ85QplizAeFS</td><td>null</td><td>null</td><td>null</td><td>AB</td><td>abbandonata</td><td>undefined</td><td>undefined</td><td>new conv</td></tr></tbody></table></div>"
      ]
     },
     "metadata": {},
     "output_type": "display_data"
    }
   ],
   "source": [
    "#display(coldConversations_noUTC.distinct())    #vecchio"
   ]
  },
  {
   "cell_type": "code",
   "execution_count": 101,
   "metadata": {},
   "outputs": [
    {
     "data": {
      "text/html": [
       "<style scoped>\n",
       "  .table-result-container {\n",
       "    max-height: 300px;\n",
       "    overflow: auto;\n",
       "  }\n",
       "  table, th, td {\n",
       "    border: 1px solid black;\n",
       "    border-collapse: collapse;\n",
       "  }\n",
       "  th, td {\n",
       "    padding: 5px;\n",
       "  }\n",
       "  th {\n",
       "    text-align: left;\n",
       "  }\n",
       "</style><div class='table-result-container'><table class='table-result'><thead style='background-color: white'><tr><th>ConversationId</th></tr></thead><tbody><tr><td>6LRLPjJDLkQ85QplizAeFS</td></tr></tbody></table></div>"
      ]
     },
     "metadata": {},
     "output_type": "display_data"
    }
   ],
   "source": [
    "#coldConversations_noUTC.select('ConversationId').distinct().count()\n",
    "#display(coldConversations_noUTC.select('ConversationId').distinct())   #vecchio"
   ]
  },
  {
   "cell_type": "code",
   "execution_count": 102,
   "metadata": {},
   "outputs": [
    {
     "data": {
      "text/html": [
       "<style scoped>\n",
       "  .ansiout {\n",
       "    display: block;\n",
       "    unicode-bidi: embed;\n",
       "    white-space: pre-wrap;\n",
       "    word-wrap: break-word;\n",
       "    word-break: break-all;\n",
       "    font-family: \"Source Code Pro\", \"Menlo\", monospace;;\n",
       "    font-size: 13px;\n",
       "    color: #555;\n",
       "    margin-left: 4px;\n",
       "    line-height: 19px;\n",
       "  }\n",
       "</style>\n",
       "<div class=\"ansiout\"></div>"
      ]
     },
     "metadata": {},
     "output_type": "display_data"
    }
   ],
   "source": [
    "#analogo a eventsHot\n",
    "#eventsCold= new_Events2.join(coldConversations_noUTC, on= ['ConversationId'], how= 'inner')\n",
    "eventsCold= new_Events2.join(coldConversations_noUTC, on=['ConversationId'], how= 'inner')\n",
    "eventsCold= eventsCold.select([col for col in new_Events2.columns if col not in coldConversations_noUTC.drop('ConversationId').columns])\n",
    "#display(eventsCold)"
   ]
  },
  {
   "cell_type": "code",
   "execution_count": 103,
   "metadata": {},
   "outputs": [
    {
     "data": {
      "text/html": [
       "<style scoped>\n",
       "  .ansiout {\n",
       "    display: block;\n",
       "    unicode-bidi: embed;\n",
       "    white-space: pre-wrap;\n",
       "    word-wrap: break-word;\n",
       "    word-break: break-all;\n",
       "    font-family: \"Source Code Pro\", \"Menlo\", monospace;;\n",
       "    font-size: 13px;\n",
       "    color: #555;\n",
       "    margin-left: 4px;\n",
       "    line-height: 19px;\n",
       "  }\n",
       "</style>\n",
       "<div class=\"ansiout\"><span class=\"ansired\">Out[</span><span class=\"ansired\">108</span><span class=\"ansired\">]: </span>4\n",
       "</div>"
      ]
     },
     "metadata": {},
     "output_type": "display_data"
    }
   ],
   "source": [
    "eventsCold.count()  # --> mi sovrascrive i 4 records nuovi"
   ]
  },
  {
   "cell_type": "code",
   "execution_count": 104,
   "metadata": {},
   "outputs": [
    {
     "data": {
      "text/html": [
       "<style scoped>\n",
       "  .ansiout {\n",
       "    display: block;\n",
       "    unicode-bidi: embed;\n",
       "    white-space: pre-wrap;\n",
       "    word-wrap: break-word;\n",
       "    word-break: break-all;\n",
       "    font-family: \"Source Code Pro\", \"Menlo\", monospace;;\n",
       "    font-size: 13px;\n",
       "    color: #555;\n",
       "    margin-left: 4px;\n",
       "    line-height: 19px;\n",
       "  }\n",
       "</style>\n",
       "<div class=\"ansiout\"></div>"
      ]
     },
     "metadata": {},
     "output_type": "display_data"
    }
   ],
   "source": [
    "eventsCold.write.format(\"delta\").mode(\"overwrite\").save(\"/delta/\"+environment+\"/Events_Federico/\")  #Siccome eventsHot è vuota (è Hot se è negli ultimi 20-30 minuti...ma sto runnando orari piu vecchi quindi saranno tutte cold..), sovrascrivo sulla delta eventsCold, così la riempio. Sennò rimane con zero records..."
   ]
  },
  {
   "cell_type": "code",
   "execution_count": 105,
   "metadata": {},
   "outputs": [
    {
     "data": {
      "text/html": [
       "<style scoped>\n",
       "  .ansiout {\n",
       "    display: block;\n",
       "    unicode-bidi: embed;\n",
       "    white-space: pre-wrap;\n",
       "    word-wrap: break-word;\n",
       "    word-break: break-all;\n",
       "    font-family: \"Source Code Pro\", \"Menlo\", monospace;;\n",
       "    font-size: 13px;\n",
       "    color: #555;\n",
       "    margin-left: 4px;\n",
       "    line-height: 19px;\n",
       "  }\n",
       "</style>\n",
       "<div class=\"ansiout\"></div>"
      ]
     },
     "metadata": {},
     "output_type": "display_data"
    }
   ],
   "source": [
    "#write in delta table (in OVERWRITE)\n",
    "eventsHot.write.format(\"delta\").mode(\"overwrite\").save(\"/delta/\"+environment+\"/Events/\") #29/10/2018: output changed from \"events\" to \"Events\""
   ]
  },
  {
   "cell_type": "code",
   "execution_count": 106,
   "metadata": {},
   "outputs": [
    {
     "data": {
      "text/html": [
       "<style scoped>\n",
       "  .ansiout {\n",
       "    display: block;\n",
       "    unicode-bidi: embed;\n",
       "    white-space: pre-wrap;\n",
       "    word-wrap: break-word;\n",
       "    word-break: break-all;\n",
       "    font-family: \"Source Code Pro\", \"Menlo\", monospace;;\n",
       "    font-size: 13px;\n",
       "    color: #555;\n",
       "    margin-left: 4px;\n",
       "    line-height: 19px;\n",
       "  }\n",
       "</style>\n",
       "<div class=\"ansiout\"></div>"
      ]
     },
     "metadata": {},
     "output_type": "display_data"
    }
   ],
   "source": [
    "#spark.sql select per far matchare campi con quelli del DataWharehouse\n",
    "eventsCold.createOrReplaceTempView(\"eventsCold\")\n",
    "\n",
    "sqlEventsCold = spark.sql(\"\"\"\n",
    "SELECT\n",
    "  '' as ID\n",
    ", CAST(eventTime as timestamp) as EventTime\n",
    ", year(eventTime) * 10000 + month(eventTime) * 100 + day(eventTime) as EventDateNum\n",
    ", hour(eventTime) as EventHourNum\n",
    ", minute(eventTime) as EventMinuteNum\n",
    ", second(eventTime) as EventSecondNum\n",
    ", EventName as EventName\n",
    ", '' as internalID\n",
    ", '' as ClientIP\n",
    ", '' as Continent\n",
    ", '' as Country\n",
    ", '' as Province\n",
    ", '' as City\n",
    ", LEFT(Text,4000) as Text\n",
    ", ConversationId as ConversationId\n",
    ", Channel\n",
    ", Timestamp\n",
    ", UserName\n",
    ", UserId\n",
    ", LUISintent\n",
    ", LUISscore\n",
    ", MainScenario\n",
    ", Reason\n",
    ", Scenario\n",
    ", CurrentScenario\n",
    ", QNAscore as QNAscore\n",
    ", QNAanswer as QNAanswer\n",
    ", QNAuserMessage as QNAuserMessage\n",
    ", QNAsource as QNAsource\n",
    ", QNAcategory as QNAcategory\n",
    ", ItemId as ItemId\n",
    ", ActivityId as ActivityId\n",
    ", BotAnswerDuration as DurationAnswerBot\n",
    ", CAST(startTimeAPICall as timestamp) as startTimeAPICall\n",
    ", CAST(endTimeAPICall as timestamp) as endTimeAPICall\n",
    ", apiTimeDiff as DurationAnswerAPI\n",
    ", '' as modem\n",
    ", '' as linea\n",
    ", ticket as ticket\n",
    ", ticketForm as ticketForm\n",
    ", ClientAtHome as ClientAtHome\n",
    ", modemType as modemType\n",
    ", diagnosticResponse as diagnosticResponse\n",
    ", modemAlignment as modemAlignment\n",
    ", toolExec as toolExec\n",
    ", toolResult as toolResult\n",
    ", TXTANALYTICSscore as TXTANALYTICSscore    -- 03/12/2018 converted from string to float\n",
    ", scenarioid as scenarioid\n",
    ", scenariocalled as scenariocalled\n",
    ", isLeaf as isLeafText\n",
    ", DateUTCInsertRow as DateUTCInsertRow\n",
    ", modemChanged as modemChanged\n",
    ", dialogCloseType as dialogCloseType\n",
    ", EventTimePrevious as EventTimePrevious\n",
    ", notUnderstoodMessage as notUnderstoodMessage\n",
    ", applicationInsight as applicationInsight\n",
    ", businessUnit as businessUnit\n",
    ", problemSolved as ProblemSolved                      -- before \"ProblemSolved\", after \"problemSolved\"\n",
    ", user as user\n",
    ", isAuthenticated as isAuthenticated\n",
    ", '' as Status -- added on 2018-11-23\n",
    ", '' as Recognition -- added on 2018-11-23\n",
    ", '' as StatusCode -- added on 2018-11-23\n",
    ", '' as RecognitionCode -- added on 2018-11-23\n",
    ", 0 as HourFromLastEvent -- added on 2018-11-23, manually set to zero because field type in DW is number, waiting valorization from notebook\n",
    ", 0 as EventHourMinute -- added on 2018-11-23, manually set to zero because field type in DW is number, waiting valorization from notebook\n",
    ", Environment as Environment\n",
    ", eventNameDecode as eventNameDecode\n",
    "FROM eventsCold\n",
    "\"\"\")"
   ]
  },
  {
   "cell_type": "code",
   "execution_count": 107,
   "metadata": {},
   "outputs": [
    {
     "data": {
      "text/html": [
       "<style scoped>\n",
       "  .ansiout {\n",
       "    display: block;\n",
       "    unicode-bidi: embed;\n",
       "    white-space: pre-wrap;\n",
       "    word-wrap: break-word;\n",
       "    word-break: break-all;\n",
       "    font-family: \"Source Code Pro\", \"Menlo\", monospace;;\n",
       "    font-size: 13px;\n",
       "    color: #555;\n",
       "    margin-left: 4px;\n",
       "    line-height: 19px;\n",
       "  }\n",
       "</style>\n",
       "<div class=\"ansiout\"></div>"
      ]
     },
     "metadata": {},
     "output_type": "display_data"
    }
   ],
   "source": [
    "#WRITE IN DW in table [eventsCold]  (in APPEND)\n",
    "sqlEventsCold.write.option(\"maxStrLength\",4000).format(\"com.databricks.spark.sqldw\").option(\"url\", connStringDWH).option(\"dbtable\", \"EventCold\").option(\"forward_spark_azure_storage_credentials\",\"True\").mode(\"append\").option(\"tempdir\", tempdatabricks_wo).save()"
   ]
  },
  {
   "cell_type": "code",
   "execution_count": 108,
   "metadata": {},
   "outputs": [
    {
     "data": {
      "text/html": [
       "<style scoped>\n",
       "  .ansiout {\n",
       "    display: block;\n",
       "    unicode-bidi: embed;\n",
       "    white-space: pre-wrap;\n",
       "    word-wrap: break-word;\n",
       "    word-break: break-all;\n",
       "    font-family: \"Source Code Pro\", \"Menlo\", monospace;;\n",
       "    font-size: 13px;\n",
       "    color: #555;\n",
       "    margin-left: 4px;\n",
       "    line-height: 19px;\n",
       "  }\n",
       "</style>\n",
       "<div class=\"ansiout\"></div>"
      ]
     },
     "metadata": {},
     "output_type": "display_data"
    }
   ],
   "source": [
    "#PREPARING RESULTSET TO WRITE INTO DW\n",
    "# ATTENTION: NUMBER OF COLUMNS MUST MATCH WITH OUTPUT AND IN THE SAME ORDER OF DB TABLE STRUCTURE\n",
    "\n",
    "\n",
    "# Create or Replace TempView, uncomment if sql manipulation must be used\n",
    "eventsHot.createOrReplaceTempView(\"eventsHot\")\n",
    "\n",
    "sqlEventsHot = spark.sql(\"\"\"\n",
    "SELECT\n",
    "  '' as ID\n",
    ", CAST(eventTime as timestamp) as EventTime\n",
    ", year(eventTime) * 10000 + month(eventTime) * 100 + day(eventTime) as EventDateNum\n",
    ", hour(eventTime) as EventHourNum\n",
    ", minute(eventTime) as EventMinuteNum\n",
    ", second(eventTime) as EventSecondNum\n",
    ", EventName as EventName\n",
    ", '' as internalID\n",
    ", '' as ClientIP\n",
    ", '' as Continent\n",
    ", '' as Country\n",
    ", '' as Province\n",
    ", '' as City\n",
    ", LEFT(Text,4000) as Text\n",
    ", ConversationId as ConversationId\n",
    ", Channel\n",
    ", Timestamp\n",
    ", UserName\n",
    ", UserId\n",
    ", LUISintent\n",
    ", LUISscore\n",
    ", MainScenario\n",
    ", Reason\n",
    ", Scenario\n",
    ", CurrentScenario\n",
    ", QNAscore as QNAscore\n",
    ", QNAanswer as QNAanswer\n",
    ", QNAuserMessage as QNAuserMessage\n",
    ", QNAsource as QNAsource\n",
    ", QNAcategory as QNAcategory\n",
    ", ItemId as ItemId\n",
    ", ActivityId as ActivityId\n",
    ", BotAnswerDuration as DurationAnswerBot\n",
    ", CAST(startTimeAPICall as timestamp) as startTimeAPICall\n",
    ", CAST(endTimeAPICall as timestamp) as endTimeAPICall\n",
    ", apiTimeDiff as DurationAnswerAPI\n",
    ", '' as modem\n",
    ", '' as linea\n",
    ", ticket as ticket\n",
    ", ticketForm as ticketForm\n",
    ", ClientAtHome as ClientAtHome\n",
    ", modemType as modemType\n",
    ", diagnosticResponse as diagnosticResponse\n",
    ", modemAlignment as modemAlignment\n",
    ", toolExec as toolExec\n",
    ", toolResult as toolResult\n",
    ", TXTANALYTICSscore as TXTANALYTICSscore    -- 03/12/2018 converted from string to float\n",
    ", scenarioid as scenarioid\n",
    ", scenariocalled as scenariocalled\n",
    ", isLeaf as isLeafText\n",
    ", DateUTCInsertRow as DateUTCInsertRow\n",
    ", modemChanged as modemChanged\n",
    ", dialogCloseType as dialogCloseType\n",
    ", EventTimePrevious as EventTimePrevious\n",
    ", notUnderstoodMessage as notUnderstoodMessage\n",
    ", applicationInsight as applicationInsight\n",
    ", businessUnit as businessUnit\n",
    ", problemSolved as ProblemSolved                      -- before \"ProblemSolved\", after \"problemSolved\"\n",
    ", user as user\n",
    ", isAuthenticated as isAuthenticated\n",
    ", '' as Status -- added on 2018-11-23\n",
    ", '' as Recognition -- added on 2018-11-23\n",
    ", '' as StatusCode -- added on 2018-11-23\n",
    ", '' as RecognitionCode -- added on 2018-11-23\n",
    ", 0 as HourFromLastEvent -- added on 2018-11-23, manually set to zero because field type in DW is number, waiting valorization from notebook\n",
    ", 0 as EventHourMinute -- added on 2018-11-23, manually set to zero because field type in DW is number, waiting valorization from notebook\n",
    ", Environment as Environment\n",
    ", eventNameDecode as eventNameDecode\n",
    "FROM eventsHot\n",
    "\"\"\")"
   ]
  },
  {
   "cell_type": "code",
   "execution_count": 109,
   "metadata": {},
   "outputs": [
    {
     "data": {
      "text/html": [
       "<style scoped>\n",
       "  .ansiout {\n",
       "    display: block;\n",
       "    unicode-bidi: embed;\n",
       "    white-space: pre-wrap;\n",
       "    word-wrap: break-word;\n",
       "    word-break: break-all;\n",
       "    font-family: \"Source Code Pro\", \"Menlo\", monospace;;\n",
       "    font-size: 13px;\n",
       "    color: #555;\n",
       "    margin-left: 4px;\n",
       "    line-height: 19px;\n",
       "  }\n",
       "</style>\n",
       "<div class=\"ansiout\"></div>"
      ]
     },
     "metadata": {},
     "output_type": "display_data"
    }
   ],
   "source": [
    "###WRITE IN DW in table [EventHot] (NB: now write option is \"Append\" but when will have Hot and Cold logic it will be \"Overwrite\" in Hot Table and \"Append\" in Cold Table)\n",
    "#WRITE IN DW in table [EventHot]  (in OVERWRITE)\n",
    "sqlEventsHot.write.option(\"maxStrLength\",4000).format(\"com.databricks.spark.sqldw\").option(\"url\", connStringDWH).option(\"dbtable\", \"EventHot\").option(\"forward_spark_azure_storage_credentials\",\"True\").mode(\"overwrite\").option(\"tempdir\", tempdatabricks_wo).save()"
   ]
  },
  {
   "cell_type": "code",
   "execution_count": 110,
   "metadata": {},
   "outputs": [
    {
     "data": {
      "text/html": [
       "<style scoped>\n",
       "  .ansiout {\n",
       "    display: block;\n",
       "    unicode-bidi: embed;\n",
       "    white-space: pre-wrap;\n",
       "    word-wrap: break-word;\n",
       "    word-break: break-all;\n",
       "    font-family: \"Source Code Pro\", \"Menlo\", monospace;;\n",
       "    font-size: 13px;\n",
       "    color: #555;\n",
       "    margin-left: 4px;\n",
       "    line-height: 19px;\n",
       "  }\n",
       "</style>\n",
       "<div class=\"ansiout\"></div>"
      ]
     },
     "metadata": {},
     "output_type": "display_data"
    }
   ],
   "source": [
    "allConversationsUpdated.unpersist() #dbutils.fs.rm(\"/delta/DEV/Events/\", True)"
   ]
  },
  {
   "cell_type": "code",
   "execution_count": 111,
   "metadata": {},
   "outputs": [],
   "source": [
    "#command to manage \"user authenticated\"\n",
    "new_Events2.filter(new_Events2.type == 'new').createOrReplaceTempView(\"finalTempTable\")\n",
    "\n",
    "#select for \"user authenticated\"\n",
    "sqlQueryResult_User = spark.sql(\"\"\"\n",
    "SELECT\n",
    "ConversationId as ConversationId\n",
    ", user as user\n",
    "-- DateUTCInsertRow as DateUTCInsertRow,    --to be added\n",
    "FROM finalTempTable\n",
    "WHERE\n",
    "isAuthenticated = 'true' and (user is not null or user <> '')\n",
    "GROUP BY\n",
    "ConversationId, user\n",
    "\"\"\")\n",
    "\n",
    "#WRITE IN DW in table [DIM_User]\n",
    "sqlQueryResult_User.write.option(\"maxStrLength\",4000).format(\"com.databricks.spark.sqldw\").option(\"url\", connStringDWH).option(\"dbtable\", \"DIM_User\").option(\"forward_spark_azure_storage_credentials\",\"True\").mode(\"append\").option(\"tempdir\", tempdatabricks_wo).save()"
   ]
  },
  {
   "cell_type": "code",
   "execution_count": 112,
   "metadata": {},
   "outputs": [
    {
     "data": {
      "text/html": [
       "<style scoped>\n",
       "  .ansiout {\n",
       "    display: block;\n",
       "    unicode-bidi: embed;\n",
       "    white-space: pre-wrap;\n",
       "    word-wrap: break-word;\n",
       "    word-break: break-all;\n",
       "    font-family: \"Source Code Pro\", \"Menlo\", monospace;;\n",
       "    font-size: 13px;\n",
       "    color: #555;\n",
       "    margin-left: 4px;\n",
       "    line-height: 19px;\n",
       "  }\n",
       "</style>\n",
       "<div class=\"ansiout\"><span class=\"ansired\">Out[</span><span class=\"ansired\">73</span><span class=\"ansired\">]: </span>&apos;%sql\\nOPTIMIZE QA.Events --Dalta Table &quot;Events&quot; is partitioned by &quot;eventDate&quot;\\nWHERE EventDate &gt;= current_timestamp() - INTERVAL 1 day\\nZORDER BY (EventName, ConversationId)&apos;\n",
       "</div>"
      ]
     },
     "metadata": {},
     "output_type": "display_data"
    }
   ],
   "source": [
    "\"\"\"%sql\n",
    "OPTIMIZE QA.Events --Dalta Table \"Events\" is partitioned by \"eventDate\"\n",
    "WHERE EventDate >= current_timestamp() - INTERVAL 1 day\n",
    "ZORDER BY (EventName, ConversationId)\"\"\""
   ]
  },
  {
   "cell_type": "code",
   "execution_count": 113,
   "metadata": {},
   "outputs": [
    {
     "data": {
      "text/html": [
       "<style scoped>\n",
       "  .ansiout {\n",
       "    display: block;\n",
       "    unicode-bidi: embed;\n",
       "    white-space: pre-wrap;\n",
       "    word-wrap: break-word;\n",
       "    word-break: break-all;\n",
       "    font-family: \"Source Code Pro\", \"Menlo\", monospace;;\n",
       "    font-size: 13px;\n",
       "    color: #555;\n",
       "    margin-left: 4px;\n",
       "    line-height: 19px;\n",
       "  }\n",
       "</style>\n",
       "<div class=\"ansiout\"></div>"
      ]
     },
     "metadata": {},
     "output_type": "display_data"
    }
   ],
   "source": [
    "##Andrea 26/11/2018: Optimize disabled because now is scheduled in a specific notebook wich runs daily during the night\n",
    "#optimize = spark.sql(\"OPTIMIZE {}.Events WHERE EventDate >= current_timestamp() - INTERVAL 1 day ZORDER BY (EventName, ConversationId)\".format(environment))"
   ]
  }
 ],
 "metadata": {
  "kernelspec": {
   "display_name": "Python 3",
   "language": "python",
   "name": "python3"
  },
  "language_info": {
   "codemirror_mode": {
    "name": "ipython",
    "version": 3
   },
   "file_extension": ".py",
   "mimetype": "text/x-python",
   "name": "python",
   "nbconvert_exporter": "python",
   "pygments_lexer": "ipython3",
   "version": "3.6.5"
  },
  "latex_envs": {
   "LaTeX_envs_menu_present": true,
   "autoclose": true,
   "autocomplete": true,
   "bibliofile": "biblio.bib",
   "cite_by": "apalike",
   "current_citInitial": 1,
   "eqLabelWithNumbers": true,
   "eqNumInitial": 1,
   "hotkeys": {
    "equation": "Ctrl-E",
    "itemize": "Ctrl-I"
   },
   "labels_anchors": false,
   "latex_user_defs": false,
   "report_style_numbering": false,
   "user_envs_cfg": false
  },
  "name": "ETL_MainRun_States_Federico_Pippo",
  "notebookId": 386128107165982
 },
 "nbformat": 4,
 "nbformat_minor": 1
}
