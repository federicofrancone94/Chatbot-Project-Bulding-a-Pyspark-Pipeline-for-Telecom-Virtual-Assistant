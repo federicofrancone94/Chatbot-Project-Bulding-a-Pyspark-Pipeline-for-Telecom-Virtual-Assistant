{
 "cells": [
  {
   "cell_type": "code",
   "execution_count": 1,
   "metadata": {},
   "outputs": [
    {
     "data": {
      "text/html": [
       "<style scoped>\n",
       "  .ansiout {\n",
       "    display: block;\n",
       "    unicode-bidi: embed;\n",
       "    white-space: pre-wrap;\n",
       "    word-wrap: break-word;\n",
       "    word-break: break-all;\n",
       "    font-family: \"Source Code Pro\", \"Menlo\", monospace;;\n",
       "    font-size: 13px;\n",
       "    color: #555;\n",
       "    margin-left: 4px;\n",
       "    line-height: 19px;\n",
       "  }\n",
       "</style>\n",
       "<div class=\"ansiout\"></div>"
      ]
     },
     "metadata": {},
     "output_type": "display_data"
    }
   ],
   "source": [
    "#versione del 11/12/2018 con (modifiche in ordine cronologico):\n",
    "#- AnswerDuration rettificata con lo storno delle API Call dal BotAnswerDuration\n",
    "#- nuovo campo \"EventHourMinute\"\n",
    "#- 29/11/2018: nuovo codice per i Dataframe df_bot_messages e df_user_message\n",
    "#- 01/12/2018: riorganizzazione delle scritture (prima DW e poi delta Table) per evitare i duplicati e update a type = \"previous\" dei record dopo la scrittura in Delta Table\n",
    "#- 01/12/2018: delete dalla Delta Table \"Events\" per i record dello slot orario che si sta processando, così non ci sono problemi di duplicati in caso di riprocessamento\n",
    "#- 03/12/2018: mapping del campo \"envionment\" nel flusso fino alla Delta Table \"events\" e al Datawarehouse\n",
    "#- 05/12/2018: TXTAnalytics cast from string to float and DF filtered out from EventName != ServiceProfilerSample\n",
    "#- 05/12/2018: added new field \"EventNameDecode\"\n",
    "#- 06/12/2018: added df_5_final.persist()\n",
    "#- 11/12/2018: commentati i persist/unpersist, valorizzato a false spark.databricks.queryWatchdog.enabled , spostata la scrittura sulla delta table prima della scrittura su DWH, inserito filtro sulle lettura della Delta EventsMirror (source) per non processare la data ed ora del RUN\n",
    "\n",
    "#VERSIONE DEL 19/12/2018: corretto l'errore per cui ConversationStartDate, ConversationStartTime e ConversationEndTime avevano Null. Ora vengono valorizzati correttamente"
   ]
  },
  {
   "cell_type": "code",
   "execution_count": 2,
   "metadata": {},
   "outputs": [],
   "source": [
    "%run \"./Include/ETL_Main_Setup\""
   ]
  },
  {
   "cell_type": "code",
   "execution_count": 3,
   "metadata": {},
   "outputs": [
    {
     "data": {
      "text/html": [
       "<style scoped>\n",
       "  .ansiout {\n",
       "    display: block;\n",
       "    unicode-bidi: embed;\n",
       "    white-space: pre-wrap;\n",
       "    word-wrap: break-word;\n",
       "    word-break: break-all;\n",
       "    font-family: \"Source Code Pro\", \"Menlo\", monospace;;\n",
       "    font-size: 13px;\n",
       "    color: #555;\n",
       "    margin-left: 4px;\n",
       "    line-height: 19px;\n",
       "  }\n",
       "</style>\n",
       "<div class=\"ansiout\">2018-11-12/14\n",
       "</div>"
      ]
     },
     "metadata": {},
     "output_type": "display_data"
    }
   ],
   "source": [
    "dbutils.widgets.text(\"input\", \"\",\"\")\n",
    "dbutils.widgets.get(\"input\")\n",
    "datetimefolders = getArgument(\"input\")\n",
    "print(datetimefolders)\n",
    "# prova 2018-11-12/11  per il Windowing, 2018-11-12/14 per bot answerduration. Oppure 2018-12-13/Federico con Pippo e ALDO. o i 3 files vecchi in Federico_old"
   ]
  },
  {
   "cell_type": "code",
   "execution_count": 4,
   "metadata": {},
   "outputs": [
    {
     "data": {
      "text/html": [
       "<style scoped>\n",
       "  .ansiout {\n",
       "    display: block;\n",
       "    unicode-bidi: embed;\n",
       "    white-space: pre-wrap;\n",
       "    word-wrap: break-word;\n",
       "    word-break: break-all;\n",
       "    font-family: \"Source Code Pro\", \"Menlo\", monospace;;\n",
       "    font-size: 13px;\n",
       "    color: #555;\n",
       "    margin-left: 4px;\n",
       "    line-height: 19px;\n",
       "  }\n",
       "</style>\n",
       "<div class=\"ansiout\"></div>"
      ]
     },
     "metadata": {},
     "output_type": "display_data"
    }
   ],
   "source": [
    "spark.conf.set(\"dfs.adls.oauth2.access.token.provider.type\", \"ClientCredential\")\n",
    "spark.conf.set(\"dfs.adls.oauth2.client.id\", \"c9463783-977a-4fd6-be5e-685771eee8da\")\n",
    "spark.conf.set(\"dfs.adls.oauth2.credential\", \"bUB7Yo1o7M0e+yU0eNkT44cmRARwtjXSAGc7mR2qP9c= \")\n",
    "spark.conf.set(\"dfs.adls.oauth2.refresh.url\", \"https://login.microsoftonline.com/6815f468-021c-48f2-a6b2-d65c8e979dfb/oauth2/token\")\n",
    "\n",
    "databasetablePath = \"adl://timvadevdls.azuredatalakestore.net/databricks/\""
   ]
  },
  {
   "cell_type": "code",
   "execution_count": 5,
   "metadata": {},
   "outputs": [
    {
     "data": {
      "text/html": [
       "<style scoped>\n",
       "  .ansiout {\n",
       "    display: block;\n",
       "    unicode-bidi: embed;\n",
       "    white-space: pre-wrap;\n",
       "    word-wrap: break-word;\n",
       "    word-break: break-all;\n",
       "    font-family: \"Source Code Pro\", \"Menlo\", monospace;;\n",
       "    font-size: 13px;\n",
       "    color: #555;\n",
       "    margin-left: 4px;\n",
       "    line-height: 19px;\n",
       "  }\n",
       "</style>\n",
       "<div class=\"ansiout\"></div>"
      ]
     },
     "metadata": {},
     "output_type": "display_data"
    }
   ],
   "source": [
    "spark.conf.set(\"spark.databricks.delta.formatCheck.enabled\", \"false\")\n",
    "\n",
    "mount_storage(storage_account_name,storage_account_access_key)"
   ]
  },
  {
   "cell_type": "code",
   "execution_count": 6,
   "metadata": {},
   "outputs": [
    {
     "data": {
      "text/html": [
       "<style scoped>\n",
       "  .table-result-container {\n",
       "    max-height: 300px;\n",
       "    overflow: auto;\n",
       "  }\n",
       "  table, th, td {\n",
       "    border: 1px solid black;\n",
       "    border-collapse: collapse;\n",
       "  }\n",
       "  th, td {\n",
       "    padding: 5px;\n",
       "  }\n",
       "  th {\n",
       "    text-align: left;\n",
       "  }\n",
       "</style><div class='table-result-container'><table class='table-result'><thead style='background-color: white'><tr><th>itemId</th><th>ClientAtHome</th><th>LUISintent</th><th>LUISscore</th><th>QNAanswer</th><th>QNAcategory</th><th>QNAscore</th><th>QNAsource</th><th>TXTANALYTICSscore</th><th>activityId</th><th>channel</th><th>conversationId</th><th>currentScenario</th><th>diagnosticResponse</th><th>dialogCloseType</th><th>endTimeAPICall</th><th>eventName</th><th>eventTime</th><th>eventDate</th><th>isLeaf</th><th>mainScenario</th><th>modemAlignment</th><th>modemChanged</th><th>modemType</th><th>reason</th><th>scenario</th><th>scenarioCalled</th><th>scenarioId</th><th>startTimeAPICall</th><th>telemetryId</th><th>text</th><th>ticket</th><th>ticketForm</th><th>timestamp</th><th>toolExec</th><th>toolResult</th><th>userId</th><th>userName</th><th>type</th><th>apiTimeDiff</th><th>BotAnswerDuration</th><th>QNAuserMessage</th><th>EventTimePrevious</th><th>notUnderstoodMessage</th><th>LUISentities</th><th>DateUTCInsertRow</th><th>applicationInsight</th><th>businessUnit</th><th>ProblemSolved</th><th>user</th><th>isAuthenticated</th><th>Status</th><th>Recognition</th><th>StatusCode</th><th>RecognitionCode</th><th>HourFromLastEvent</th><th>EventHourMinute</th><th>Environment</th><th>eventNameDecode</th></tr></thead><tbody></tbody></table></div>"
      ]
     },
     "metadata": {},
     "output_type": "display_data"
    }
   ],
   "source": [
    "%sql \n",
    "SELECT *\n",
    "FROM DEV.Events"
   ]
  },
  {
   "cell_type": "code",
   "execution_count": 7,
   "metadata": {},
   "outputs": [
    {
     "data": {
      "text/html": [
       "<style scoped>\n",
       "  .table-result-container {\n",
       "    max-height: 300px;\n",
       "    overflow: auto;\n",
       "  }\n",
       "  table, th, td {\n",
       "    border: 1px solid black;\n",
       "    border-collapse: collapse;\n",
       "  }\n",
       "  th, td {\n",
       "    padding: 5px;\n",
       "  }\n",
       "  th {\n",
       "    text-align: left;\n",
       "  }\n",
       "</style><div class='table-result-container'><table class='table-result'><thead style='background-color: white'><tr><th>count(1)</th></tr></thead><tbody><tr><td>0</td></tr></tbody></table></div>"
      ]
     },
     "metadata": {},
     "output_type": "display_data"
    }
   ],
   "source": [
    "%sql \n",
    "SELECT count(*)\n",
    "FROM DEV.Events"
   ]
  },
  {
   "cell_type": "code",
   "execution_count": 9,
   "metadata": {},
   "outputs": [
    {
     "data": {
      "text/html": [
       "<style scoped>\n",
       "  .table-result-container {\n",
       "    max-height: 300px;\n",
       "    overflow: auto;\n",
       "  }\n",
       "  table, th, td {\n",
       "    border: 1px solid black;\n",
       "    border-collapse: collapse;\n",
       "  }\n",
       "  th, td {\n",
       "    padding: 5px;\n",
       "  }\n",
       "  th {\n",
       "    text-align: left;\n",
       "  }\n",
       "</style><div class='table-result-container'><table class='table-result'><thead style='background-color: white'><tr><th>count(1)</th></tr></thead><tbody><tr><td>131</td></tr></tbody></table></div>"
      ]
     },
     "metadata": {},
     "output_type": "display_data"
    }
   ],
   "source": [
    "%sql \n",
    "SELECT count(*)\n",
    "FROM DEV.Conversations"
   ]
  },
  {
   "cell_type": "code",
   "execution_count": 10,
   "metadata": {},
   "outputs": [
    {
     "data": {
      "text/html": [
       "<style scoped>\n",
       "  .ansiout {\n",
       "    display: block;\n",
       "    unicode-bidi: embed;\n",
       "    white-space: pre-wrap;\n",
       "    word-wrap: break-word;\n",
       "    word-break: break-all;\n",
       "    font-family: \"Source Code Pro\", \"Menlo\", monospace;;\n",
       "    font-size: 13px;\n",
       "    color: #555;\n",
       "    margin-left: 4px;\n",
       "    line-height: 19px;\n",
       "  }\n",
       "</style>\n",
       "<div class=\"ansiout\">root\n",
       "-- ClientAtHome: string (nullable = true)\n",
       "-- LUISentities: string (nullable = true)\n",
       "-- LUISintent: string (nullable = true)\n",
       "-- LUISscore: string (nullable = true)\n",
       "-- QNAanswer: string (nullable = true)\n",
       "-- QNAcategory: string (nullable = true)\n",
       "-- QNAscore: string (nullable = true)\n",
       "-- QNAsource: string (nullable = true)\n",
       "-- QNAuserMessage: string (nullable = true)\n",
       "-- TXTANALYTICSscore: string (nullable = true)\n",
       "-- activityId: string (nullable = true)\n",
       "-- channel: string (nullable = true)\n",
       "-- conversationId: string (nullable = true)\n",
       "-- currentScenario: string (nullable = true)\n",
       "-- diagnosticResponse: string (nullable = true)\n",
       "-- dialogCloseType: string (nullable = true)\n",
       "-- endTimeAPICall: string (nullable = true)\n",
       "-- eventName: string (nullable = true)\n",
       "-- eventTime: string (nullable = true)\n",
       "-- eventdate: string (nullable = true)\n",
       "-- isAuthenticated: string (nullable = true)\n",
       "-- isLeaf: string (nullable = true)\n",
       "-- itemId: string (nullable = true)\n",
       "-- mainScenario: string (nullable = true)\n",
       "-- modemAlignment: string (nullable = true)\n",
       "-- modemChanged: string (nullable = true)\n",
       "-- modemType: string (nullable = true)\n",
       "-- notUnderstoodMessage: string (nullable = true)\n",
       "-- problemSolved: string (nullable = true)\n",
       "-- reason: string (nullable = true)\n",
       "-- scenario: string (nullable = true)\n",
       "-- scenarioCalled: string (nullable = true)\n",
       "-- scenarioId: string (nullable = true)\n",
       "-- startTimeAPICall: string (nullable = true)\n",
       "-- telemetryId: string (nullable = true)\n",
       "-- text: string (nullable = true)\n",
       "-- ticket: string (nullable = true)\n",
       "-- ticketForm: string (nullable = true)\n",
       "-- timestamp: string (nullable = true)\n",
       "-- toolExec: string (nullable = true)\n",
       "-- toolResult: string (nullable = true)\n",
       "-- user: string (nullable = true)\n",
       "-- userId: string (nullable = true)\n",
       "-- userName: string (nullable = true)\n",
       "-- applicationInsight: string (nullable = true)\n",
       "-- businessUnit: string (nullable = true)\n",
       "\n",
       "df_bu is empty\n",
       "</div>"
      ]
     },
     "metadata": {},
     "output_type": "display_data"
    }
   ],
   "source": [
    "dtf = \"2018-10-02/\"\n",
    "hh = list(range(0,23))\n",
    "\n",
    "#path = file_location + datetimefolders +  \"/*.blob\"\n",
    "parser_wo = AppInsightEventParser(storage_account_name,container_name_wo,folder_name_wo)\n",
    "parser_bu = AppInsightEventParser(storage_account_name,container_name_bu,folder_name_bu)\n",
    "\n",
    "parser_wo.addStage(Stage1())\n",
    "parser_bu.addStage(Stage1())\n",
    "#parser_wo.addStage(Stage2(\"/delta/DEV/events/\"))\n",
    "#parser_wo.addStage(Stage3())\n",
    "#parser_wo.addStage(Stage4())\n",
    "\n",
    "#dw_info_wo = DWInfo(dwh_server,dwh_db_name,\"timsqladmin@tim-va-dev-sqlserver\",\"P@ssword!\")\n",
    "#parser_wo.addStage(Stage5(dw_info_wo))\n",
    "\n",
    "\n",
    "#datetimefolders = dtf + str(hh)\n",
    "df_wo = parser_wo.parseBlob(datetimefolders,parseRow)\n",
    "#df_wo.printSchema()\n",
    "#display(df_wo)\n",
    "df_bu = parser_bu.parseBlob(datetimefolders,parseRow)\n",
    "#df_bu.printSchema()\n",
    "#display(df_bu)\n",
    "#df_co = parser_co.parseBlob(datetimefolders,parseRow)\n",
    "#display(df_bu)\n",
    "# 2018-11-19 Simone Begin ->\n",
    "df_wo = df_wo.withColumn(\"applicationInsight\", F.lit(container_name_wo))\n",
    "df_wo = df_wo.withColumn(\"businessUnit\", F.lit(businessUnitName_wo))\n",
    "df_bu = df_bu.withColumn(\"applicationInsight\", F.lit(container_name_bu))\n",
    "df_bu = df_bu.withColumn(\"businessUnit\", F.lit(businessUnitName_bu))\n",
    "#df_co = df_co.withColumn(\"applicationInsight\", F.lit(container_name_co))\n",
    "#df_co = df_co.withColumn(\"businessUnit\", F.lit(businessUnitName_co))\n",
    "\n",
    "\"\"\" AVOIDING PROBLEMS OF SCHEMA \"\"\"\n",
    "if df_wo.count()==0 and df_bu.count()> 0 :\n",
    "    print('df_wo is empty')\n",
    "    df_total= df_bu\n",
    "elif df_bu.count()==0 and df_wo.count()> 0:\n",
    "    print('df_bu is empty')\n",
    "    df_total= df_wo\n",
    "elif df_bu.count()>0 and df_wo.count()> 0:\n",
    "    print(\"both wo and bu have records\")\n",
    "    df_total= df_wo.union(df_bu)\n",
    "else:\n",
    "    print(\"non c'è nessuno dei due path\")\n",
    "\n",
    "\"\"\"df_total = df_wo.union(df_bu)  \"\"\"  # 3/12/2018 Federico: it was --> df_bu.union(df_wo)\n",
    "\n",
    "# Union of previous united WO and BU dataframes with CO dataframe\n",
    "\n",
    "#df_total = df_total.union(df_co)\n",
    "\n",
    "\"\"\"display(df_total)\"\"\"\n",
    "# 2018-11-19 Simone -> End\n",
    "#df_total.printSchema()\n",
    "df_1 = df_total\n",
    "cols_pilot = df_1.columns\n",
    "df_1 = df_1.withColumn(\"type\", F.lit(\"new\"))\n",
    "\n",
    "#df.createOrReplaceTempView(\"temp\")\n",
    "#df.write.mode(\"append\").format(\"delta\").partitionBy(\"eventName\").save(\"/mnt/delta/eventsdl\")\n",
    "\n",
    "#spark.sql(\"OPTIMIZE eventsdl ZORDER BY (conversationId)\")\n",
    "\n",
    "#display(df_1)"
   ]
  },
  {
   "cell_type": "code",
   "execution_count": 11,
   "metadata": {},
   "outputs": [
    {
     "data": {
      "text/html": [
       "<style scoped>\n",
       "  .ansiout {\n",
       "    display: block;\n",
       "    unicode-bidi: embed;\n",
       "    white-space: pre-wrap;\n",
       "    word-wrap: break-word;\n",
       "    word-break: break-all;\n",
       "    font-family: \"Source Code Pro\", \"Menlo\", monospace;;\n",
       "    font-size: 13px;\n",
       "    color: #555;\n",
       "    margin-left: 4px;\n",
       "    line-height: 19px;\n",
       "  }\n",
       "</style>\n",
       "<div class=\"ansiout\"></div>"
      ]
     },
     "metadata": {},
     "output_type": "display_data"
    }
   ],
   "source": [
    "#%fs rm -r mnt/delta/eventsdl"
   ]
  },
  {
   "cell_type": "code",
   "execution_count": 12,
   "metadata": {},
   "outputs": [
    {
     "data": {
      "text/html": [
       "<style scoped>\n",
       "  .ansiout {\n",
       "    display: block;\n",
       "    unicode-bidi: embed;\n",
       "    white-space: pre-wrap;\n",
       "    word-wrap: break-word;\n",
       "    word-break: break-all;\n",
       "    font-family: \"Source Code Pro\", \"Menlo\", monospace;;\n",
       "    font-size: 13px;\n",
       "    color: #555;\n",
       "    margin-left: 4px;\n",
       "    line-height: 19px;\n",
       "  }\n",
       "</style>\n",
       "<div class=\"ansiout\"></div>"
      ]
     },
     "metadata": {},
     "output_type": "display_data"
    }
   ],
   "source": [
    "df_1= df_1.withColumn('TXTANALYTICSscore' , df_1['TXTANALYTICSscore'].cast(FloatType()))\n",
    "df_1= df_1.select(['*']).where(col('EventName')!= 'ServiceProfilerSample')"
   ]
  },
  {
   "cell_type": "code",
   "execution_count": null,
   "metadata": {},
   "outputs": [],
   "source": [
    "df_1= df_1.withColumn('eventName', when(df_1.conversationId== 'ALDO', F.lit('MBFEvent.QNAEvent')).otherwise(df_1.eventName)).withColumn('QNAcategory', \n",
    "                                             when(df_1.conversationId == 'ALDO', F.lit('ChitChat')).otherwise(df_1.QNAcategory)) #modificata ad hoc per far sì che venga in corso\n",
    "#display(df_1) #4 record nello slot orario corrente"
   ]
  },
  {
   "cell_type": "code",
   "execution_count": 14,
   "metadata": {},
   "outputs": [
    {
     "data": {
      "text/html": [
       "<style scoped>\n",
       "  .ansiout {\n",
       "    display: block;\n",
       "    unicode-bidi: embed;\n",
       "    white-space: pre-wrap;\n",
       "    word-wrap: break-word;\n",
       "    word-break: break-all;\n",
       "    font-family: \"Source Code Pro\", \"Menlo\", monospace;;\n",
       "    font-size: 13px;\n",
       "    color: #555;\n",
       "    margin-left: 4px;\n",
       "    line-height: 19px;\n",
       "  }\n",
       "</style>\n",
       "<div class=\"ansiout\"><span class=\"ansired\">Out[</span><span class=\"ansired\">141</span><span class=\"ansired\">]: </span>921\n",
       "</div>"
      ]
     },
     "metadata": {},
     "output_type": "display_data"
    }
   ],
   "source": [
    "df_1.count()  #921 perchè Events è vuota"
   ]
  },
  {
   "cell_type": "code",
   "execution_count": 15,
   "metadata": {},
   "outputs": [
    {
     "data": {
      "text/html": [
       "<style scoped>\n",
       "  .ansiout {\n",
       "    display: block;\n",
       "    unicode-bidi: embed;\n",
       "    white-space: pre-wrap;\n",
       "    word-wrap: break-word;\n",
       "    word-break: break-all;\n",
       "    font-family: \"Source Code Pro\", \"Menlo\", monospace;;\n",
       "    font-size: 13px;\n",
       "    color: #555;\n",
       "    margin-left: 4px;\n",
       "    line-height: 19px;\n",
       "  }\n",
       "</style>\n",
       "<div class=\"ansiout\"></div>"
      ]
     },
     "metadata": {},
     "output_type": "display_data"
    }
   ],
   "source": [
    "#tableName = \"adl://timvadevdls.azuredatalakestore.net/delta/eventsdl/\"\n",
    "\n",
    "#spark.sql(\"OPTIMIZE '/mnt/delta/eventsdl' ZORDER BY (conversationId)\")"
   ]
  },
  {
   "cell_type": "code",
   "execution_count": 16,
   "metadata": {},
   "outputs": [
    {
     "data": {
      "text/html": [
       "<style scoped>\n",
       "  .ansiout {\n",
       "    display: block;\n",
       "    unicode-bidi: embed;\n",
       "    white-space: pre-wrap;\n",
       "    word-wrap: break-word;\n",
       "    word-break: break-all;\n",
       "    font-family: \"Source Code Pro\", \"Menlo\", monospace;;\n",
       "    font-size: 13px;\n",
       "    color: #555;\n",
       "    margin-left: 4px;\n",
       "    line-height: 19px;\n",
       "  }\n",
       "</style>\n",
       "<div class=\"ansiout\"></div>"
      ]
     },
     "metadata": {},
     "output_type": "display_data"
    }
   ],
   "source": [
    "#spark.read.format(\"delta\").load(tableName).count()\n",
    "#ccdf = spark.sql(\"SELECT * FROM delta.`/mnt/delta/eventsdl` WHERE eventName = 'MBFEvent.CallScenario' AND conversationId = 'BTvzSeL1ZzC7b1MZDplwoK'\")\n",
    "\n",
    "#display(ccdf)"
   ]
  },
  {
   "cell_type": "code",
   "execution_count": 17,
   "metadata": {},
   "outputs": [
    {
     "data": {
      "text/html": [
       "<style scoped>\n",
       "  .ansiout {\n",
       "    display: block;\n",
       "    unicode-bidi: embed;\n",
       "    white-space: pre-wrap;\n",
       "    word-wrap: break-word;\n",
       "    word-break: break-all;\n",
       "    font-family: \"Source Code Pro\", \"Menlo\", monospace;;\n",
       "    font-size: 13px;\n",
       "    color: #555;\n",
       "    margin-left: 4px;\n",
       "    line-height: 19px;\n",
       "  }\n",
       "</style>\n",
       "<div class=\"ansiout\"></div>"
      ]
     },
     "metadata": {},
     "output_type": "display_data"
    }
   ],
   "source": [
    "def parseLuisEntity(x):\n",
    "    \n",
    "    rowDict = x.asDict()\n",
    "    jsonList = rowDict.pop('LUISentities')\n",
    "\n",
    "    js_d = json.loads(jsonList)\n",
    "    for entity in js_d:\n",
    "        rowDict['LuisEntityKey'] = entity[\"key\"]\n",
    "        rowDict['LuisEntityValue'] = entity[\"value\"]\n",
    "        rowDict['LuisEntityScore'] = entity[\"score\"]\n",
    "        yield Row(**rowDict)\n",
    "\n",
    "                          \n",
    "def timestamp_to_long(dt):\n",
    "    \"\"\"\n",
    "    This function takes a timestamp and returns it as microseconds from epoc, respecting timezone.  If no tzinfo is specified,\n",
    "    UTC is assumed.\n",
    "    :param dt:\n",
    "    :return:\n",
    "    \"\"\"\n",
    "    if dt is None:\n",
    "        return None\n",
    "\n",
    "    if not dt.tzinfo:\n",
    "        dt = dt.replace(tzinfo=datetime.timezone.utc)\n",
    "\n",
    "    return int(\n",
    "        ((dt - datetime.datetime(1970, 1, 1, tzinfo=datetime.timezone.utc)) / datetime.timedelta(microseconds=1)))\n",
    "\n",
    "\n",
    "def timestamp_diff(startTime, endTime):\n",
    "  \n",
    "    if startTime is None or endTime is None:\n",
    "        return 0\n",
    "  \n",
    "    tt = timestamp_to_long(endTime) - timestamp_to_long(startTime)\n",
    "    return tt / 1000"
   ]
  },
  {
   "cell_type": "code",
   "execution_count": 18,
   "metadata": {},
   "outputs": [
    {
     "data": {
      "text/html": [
       "<style scoped>\n",
       "  .ansiout {\n",
       "    display: block;\n",
       "    unicode-bidi: embed;\n",
       "    white-space: pre-wrap;\n",
       "    word-wrap: break-word;\n",
       "    word-break: break-all;\n",
       "    font-family: \"Source Code Pro\", \"Menlo\", monospace;;\n",
       "    font-size: 13px;\n",
       "    color: #555;\n",
       "    margin-left: 4px;\n",
       "    line-height: 19px;\n",
       "  }\n",
       "</style>\n",
       "<div class=\"ansiout\"></div>"
      ]
     },
     "metadata": {},
     "output_type": "display_data"
    }
   ],
   "source": [
    "#ENTITIES MANAGEMENT\n",
    "dfEntities = df_1.where((df_1[\"LUISentities\"] != '') & (df_1[\"LUISentities\"] != '[]')).select(\"conversationId\",\"timestamp\",\"itemId\",\"LUISentities\")\n",
    "#flatMapping\n",
    "mappedj = dfEntities.rdd.flatMap(parseLuisEntity)\n",
    "\n",
    "#If entities have been found, then write them in the DWH\n",
    "if(mappedj.isEmpty() == False):\n",
    "    # Create a DataFrame from the mapped collection\n",
    "    df_forEntitiesTable = spark.createDataFrame(mappedj)\n",
    "    df_forEntitiesTable = df_forEntitiesTable.withColumn(\"DateUTCInsertRow\", from_utc_timestamp(F.lit(current_timestamp()),\"Europe/Rome\")) #Andrea 25/10/2018\n",
    "    df_forEntitiesTable = df_forEntitiesTable.select(\"conversationId\",\"itemId\",\"timestamp\",\"LuisEntityKey\",\"LuisEntityValue\",\"LuisEntityScore\",\"DateUTCInsertRow\")\n",
    "    # Entities written in dedicated table into the Datawarehouse: [EventEntity] table\n",
    "    df_forEntitiesTable.write.option(\"maxStrLength\",4000).format(\"com.databricks.spark.sqldw\").option(\"url\", connStringDWH).option(\"dbtable\", \"EventEntity\").option(\"forward_spark_azure_storage_credentials\",\"True\").mode(\"append\").option(\"tempdir\", tempdatabricks_wo).save()\n",
    "    else:\n",
    "        print(mappedj.isEmpty())"
   ]
  },
  {
   "cell_type": "code",
   "execution_count": 19,
   "metadata": {},
   "outputs": [
    {
     "data": {
      "text/html": [
       "<style scoped>\n",
       "  .ansiout {\n",
       "    display: block;\n",
       "    unicode-bidi: embed;\n",
       "    white-space: pre-wrap;\n",
       "    word-wrap: break-word;\n",
       "    word-break: break-all;\n",
       "    font-family: \"Source Code Pro\", \"Menlo\", monospace;;\n",
       "    font-size: 13px;\n",
       "    color: #555;\n",
       "    margin-left: 4px;\n",
       "    line-height: 19px;\n",
       "  }\n",
       "</style>\n",
       "<div class=\"ansiout\">2018-11-12/14\n",
       "2018-11-12\n",
       "14\n",
       "</div>"
      ]
     },
     "metadata": {},
     "output_type": "display_data"
    }
   ],
   "source": [
    "print(datetimefolders)\n",
    "datefolder = datetimefolders[0:10]\n",
    "print(datefolder)\n",
    "datehour = datetimefolders[11:13]\n",
    "print(datehour)"
   ]
  },
  {
   "cell_type": "code",
   "execution_count": 20,
   "metadata": {},
   "outputs": [
    {
     "data": {
      "text/html": [
       "<style scoped>\n",
       "  .ansiout {\n",
       "    display: block;\n",
       "    unicode-bidi: embed;\n",
       "    white-space: pre-wrap;\n",
       "    word-wrap: break-word;\n",
       "    word-break: break-all;\n",
       "    font-family: \"Source Code Pro\", \"Menlo\", monospace;;\n",
       "    font-size: 13px;\n",
       "    color: #555;\n",
       "    margin-left: 4px;\n",
       "    line-height: 19px;\n",
       "  }\n",
       "</style>\n",
       "<div class=\"ansiout\"></div>"
      ]
     },
     "metadata": {},
     "output_type": "display_data"
    }
   ],
   "source": [
    "#BEFORE READ, DELETE FROM DELTA TABLE\n",
    "#spark.sql(\" DELETE FROM delta.`/delta/{0}/Events/` WHERE EventDate||'/'||hour(EventTime) = '{1}' \".format(environment, datetimefolders))  \n",
    "  \n",
    "# Reading data from Delta Table (DBFS) to take data from the past\n",
    "previous_events = spark.read.format(\"delta\").load(\"/delta/\"+environment+\"/Events/\").select(cols_pilot)\n",
    "\n",
    "#il giorno 2018-12-13 ho commentato parte sotto perchè per qualche motivo non importava alcuna riga dalla delta, ovvero previous events è vuota\n",
    "\"\"\"\n",
    "#MODIFIED ON 2018-12-11 adding logic for filtering duplicates, not based on deleting infos, but filtering them and at the overwriting them at the end of the present notebook.\n",
    "previous_events_filtered = spark.sql(\"SELECT * FROM {0}.Events WHERE eventDate != '{1}' AND hour(eventTime) != '{2}' \".format(environment, datefolder, datehour))\n",
    "previous_events = previous_events_filtered.select(cols_pilot)\n",
    "#previous_events_filtered.printSchema()\n",
    "#previous_events = spark.sql(\"SELECT eventDate, hour(eventTime) as Hour FROM previous_events_table GROUP BY eventDate, hour(eventTime) ORDER BY eventDate, hour(eventTime)\")\"\"\"\n",
    "                                     #WHERE eventDate = '{1}' AND hour(EventTime) = '{2}' \".format(environment, datefolder, datehour))\"\"\"\n",
    "#display(previous_events)\n",
    "previous_events = previous_events.withColumn(\"type\", F.lit(\"previous\"))\n",
    "# Union of two DataFrames\n",
    "unionDataFrame = previous_events.unionAll(df_1)"
   ]
  },
  {
   "cell_type": "code",
   "execution_count": 21,
   "metadata": {},
   "outputs": [
    {
     "data": {
      "text/html": [
       "<style scoped>\n",
       "  .ansiout {\n",
       "    display: block;\n",
       "    unicode-bidi: embed;\n",
       "    white-space: pre-wrap;\n",
       "    word-wrap: break-word;\n",
       "    word-break: break-all;\n",
       "    font-family: \"Source Code Pro\", \"Menlo\", monospace;;\n",
       "    font-size: 13px;\n",
       "    color: #555;\n",
       "    margin-left: 4px;\n",
       "    line-height: 19px;\n",
       "  }\n",
       "</style>\n",
       "<div class=\"ansiout\"><span class=\"ansired\">Out[</span><span class=\"ansired\">146</span><span class=\"ansired\">]: </span>0\n",
       "</div>"
      ]
     },
     "metadata": {},
     "output_type": "display_data"
    }
   ],
   "source": [
    "previous_events.count()  #ho 8 record nella delta"
   ]
  },
  {
   "cell_type": "code",
   "execution_count": 22,
   "metadata": {},
   "outputs": [
    {
     "data": {
      "text/html": [
       "<style scoped>\n",
       "  .ansiout {\n",
       "    display: block;\n",
       "    unicode-bidi: embed;\n",
       "    white-space: pre-wrap;\n",
       "    word-wrap: break-word;\n",
       "    word-break: break-all;\n",
       "    font-family: \"Source Code Pro\", \"Menlo\", monospace;;\n",
       "    font-size: 13px;\n",
       "    color: #555;\n",
       "    margin-left: 4px;\n",
       "    line-height: 19px;\n",
       "  }\n",
       "</style>\n",
       "<div class=\"ansiout\"><span class=\"ansired\">Out[</span><span class=\"ansired\">147</span><span class=\"ansired\">]: </span>921\n",
       "</div>"
      ]
     },
     "metadata": {},
     "output_type": "display_data"
    }
   ],
   "source": [
    "unionDataFrame.count()  #ha 8+4=12 records"
   ]
  },
  {
   "cell_type": "code",
   "execution_count": null,
   "metadata": {},
   "outputs": [],
   "source": [
    "#insert apiTimeDiff calculated column only when I have Event= ApiCall, otherwise leaving null (default)\n",
    "func_udf = udf(timestamp_diff, FloatType())\n",
    "df_allEvents = unionDataFrame.withColumn(\"apiTimeDiff\", when(unionDataFrame.eventName == 'MBFEvent.APICall', func_udf(unionDataFrame[\"startTimeAPICall\"], unionDataFrame[\"endTimeAPICall\"])))\n",
    "df_allEvents.createOrReplaceTempView('allEvents')\n",
    "display(df_allEvents)"
   ]
  },
  {
   "cell_type": "code",
   "execution_count": 24,
   "metadata": {},
   "outputs": [
    {
     "data": {
      "text/html": [
       "<style scoped>\n",
       "  .ansiout {\n",
       "    display: block;\n",
       "    unicode-bidi: embed;\n",
       "    white-space: pre-wrap;\n",
       "    word-wrap: break-word;\n",
       "    word-break: break-all;\n",
       "    font-family: \"Source Code Pro\", \"Menlo\", monospace;;\n",
       "    font-size: 13px;\n",
       "    color: #555;\n",
       "    margin-left: 4px;\n",
       "    line-height: 19px;\n",
       "  }\n",
       "</style>\n",
       "<div class=\"ansiout\"><span class=\"ansired\">Out[</span><span class=\"ansired\">149</span><span class=\"ansired\">]: </span>921\n",
       "</div>"
      ]
     },
     "metadata": {},
     "output_type": "display_data"
    }
   ],
   "source": [
    "df_allEvents.count()"
   ]
  },
  {
   "cell_type": "code",
   "execution_count": 25,
   "metadata": {},
   "outputs": [
    {
     "data": {
      "text/html": [
       "<style scoped>\n",
       "  .ansiout {\n",
       "    display: block;\n",
       "    unicode-bidi: embed;\n",
       "    white-space: pre-wrap;\n",
       "    word-wrap: break-word;\n",
       "    word-break: break-all;\n",
       "    font-family: \"Source Code Pro\", \"Menlo\", monospace;;\n",
       "    font-size: 13px;\n",
       "    color: #555;\n",
       "    margin-left: 4px;\n",
       "    line-height: 19px;\n",
       "  }\n",
       "</style>\n",
       "<div class=\"ansiout\"></div>"
      ]
     },
     "metadata": {},
     "output_type": "display_data"
    }
   ],
   "source": [
    "# Spiegazione Windowing\n",
    "\"\"\"Per ogni ActivityId di ogni conversationId voglio calcolare la botAnswerDuration, intesa come l'intervallo di tempo che intercorre tra il primo messaggio dell'utente e la prima risposta del Bot. Per cui Per ogni activityId prendo questi due eventi, MBFEvent.UserMessage e MBFEvent.BotMessage, dove il BotMessage deve essere in un eventTime successivo, e avrò una situazione del tipo:\n",
    "ActivityId    EventName    EventTime\n",
    "   A           UserMessage    15:30\n",
    "   A           BotMessage     15:35\n",
    " Adesso uso il Windowing per 'spostare' l eventTime del record dell UserMessage sulla riga successiva, in modo che poi posso fare la sottrazione. ovvero avrò:\n",
    " ActivityId    EventName    EventTime  EventTimePrevious   BotAnswerDuration\n",
    "   A           UserMessage    15:30         /                    /\n",
    "   A           BotMessage     15:35         15:35               00:05\n",
    "   \n",
    "   L'ho 'trascinato' sotto, quindi Windowing crea una finestra di un record, nel senso che non guardo solo il un record singolo ma anche quello prima. Avendoli ora sulla stessa riga, con un semplice withColumn posso calcolare BotAnswerDuration facendo la sottrazione.\n",
    "   Infine vado in join left con Events, perchè questo Windowing è fatto su un sottoinsieme di tutti i record, ovvero solo quelli corrispondenti agli eventi UserMessage e BotMessage (Es: Se Events ha 1000 record, Windowing lavora su 150. Facendo Events.join(df_Windowing, how='left') riottengo tutti i 1000 record con il nuovo campo botAnswerDuration che sarà valorizzato solo su alcuni dei 150 (sugli eventi BotMessage dei 150)).\"\"\""
   ]
  },
  {
   "cell_type": "code",
   "execution_count": 26,
   "metadata": {},
   "outputs": [
    {
     "data": {
      "text/html": [
       "<style scoped>\n",
       "  .table-result-container {\n",
       "    max-height: 300px;\n",
       "    overflow: auto;\n",
       "  }\n",
       "  table, th, td {\n",
       "    border: 1px solid black;\n",
       "    border-collapse: collapse;\n",
       "  }\n",
       "  th, td {\n",
       "    padding: 5px;\n",
       "  }\n",
       "  th {\n",
       "    text-align: left;\n",
       "  }\n",
       "</style><div class='table-result-container'><table class='table-result'><thead style='background-color: white'><tr><th>ConversationId</th><th>ActivityId</th><th>itemId</th><th>eventName</th><th>eventTime</th></tr></thead><tbody><tr><td>2cpS4QCdLps7ycDeAxodOz</td><td>b71e70ef-775c-4402-aac9-1c648ab74fef</td><td>056046af-e683-11e8-8c74-1df3eaf4721b</td><td>MBFEvent.BotMessage</td><td>2018-11-12T13:58:10.061+0000</td></tr><tr><td>2cpS4QCdLps7ycDeAxodOz</td><td>2cpS4QCdLps7ycDeAxodOz|0000046</td><td>1773f620-e683-11e8-8c74-1df3eaf4721b</td><td>MBFEvent.UserMessage</td><td>2018-11-12T13:58:27.503+0000</td></tr><tr><td>2cpS4QCdLps7ycDeAxodOz</td><td>2cpS4QCdLps7ycDeAxodOz|0000046</td><td>1773f627-e683-11e8-8c74-1df3eaf4721b</td><td>MBFEvent.BotMessage</td><td>2018-11-12T13:58:28.363+0000</td></tr><tr><td>2cpS4QCdLps7ycDeAxodOz</td><td>2cpS4QCdLps7ycDeAxodOz|0000050</td><td>1773f628-e683-11e8-8c74-1df3eaf4721b</td><td>MBFEvent.UserMessage</td><td>2018-11-12T13:58:30.353+0000</td></tr><tr><td>2cpS4QCdLps7ycDeAxodOz</td><td>2cpS4QCdLps7ycDeAxodOz|0000050</td><td>1773f62e-e683-11e8-8c74-1df3eaf4721b</td><td>MBFEvent.BotMessage</td><td>2018-11-12T13:58:30.494+0000</td></tr><tr><td>2cpS4QCdLps7ycDeAxodOz</td><td>2cpS4QCdLps7ycDeAxodOz|0000054</td><td>1773f632-e683-11e8-8c74-1df3eaf4721b</td><td>MBFEvent.UserMessage</td><td>2018-11-12T13:58:34.072+0000</td></tr><tr><td>2cpS4QCdLps7ycDeAxodOz</td><td>2cpS4QCdLps7ycDeAxodOz|0000054</td><td>1773f637-e683-11e8-8c74-1df3eaf4721b</td><td>MBFEvent.BotMessage</td><td>2018-11-12T13:58:34.337+0000</td></tr><tr><td>2cpS4QCdLps7ycDeAxodOz</td><td>af273cfd-1112-48af-a5a7-f760946bfe07</td><td>1773f63a-e683-11e8-8c74-1df3eaf4721b</td><td>MBFEvent.BotMessage</td><td>2018-11-12T13:58:44.846+0000</td></tr><tr><td>2cpS4QCdLps7ycDeAxodOz</td><td>2cpS4QCdLps7ycDeAxodOz|0000059</td><td>1773f641-e683-11e8-8c74-1df3eaf4721b</td><td>MBFEvent.UserMessage</td><td>2018-11-12T13:58:49.947+0000</td></tr><tr><td>2cpS4QCdLps7ycDeAxodOz</td><td>2cpS4QCdLps7ycDeAxodOz|0000059</td><td>1773f643-e683-11e8-8c74-1df3eaf4721b</td><td>MBFEvent.BotMessage</td><td>2018-11-12T13:58:49.960+0000</td></tr><tr><td>2cpS4QCdLps7ycDeAxodOz</td><td>2cpS4QCdLps7ycDeAxodOz|0000061</td><td>1773f64b-e683-11e8-8c74-1df3eaf4721b</td><td>MBFEvent.UserMessage</td><td>2018-11-12T13:58:53.222+0000</td></tr><tr><td>2cpS4QCdLps7ycDeAxodOz</td><td>2cpS4QCdLps7ycDeAxodOz|0000061</td><td>1773f652-e683-11e8-8c74-1df3eaf4721b</td><td>MBFEvent.BotMessage</td><td>2018-11-12T13:58:53.804+0000</td></tr><tr><td>2cpS4QCdLps7ycDeAxodOz</td><td>2cpS4QCdLps7ycDeAxodOz|0000071</td><td>298079bd-e683-11e8-a351-0f405d5c52f9</td><td>MBFEvent.UserMessage</td><td>2018-11-12T13:59:03.274+0000</td></tr><tr><td>2cpS4QCdLps7ycDeAxodOz</td><td>2cpS4QCdLps7ycDeAxodOz|0000071</td><td>298079c5-e683-11e8-a351-0f405d5c52f9</td><td>MBFEvent.BotMessage</td><td>2018-11-12T13:59:04.030+0000</td></tr><tr><td>2cpS4QCdLps7ycDeAxodOz</td><td>2cpS4QCdLps7ycDeAxodOz|0000075</td><td>298079cc-e683-11e8-a351-0f405d5c52f9</td><td>MBFEvent.UserMessage</td><td>2018-11-12T13:59:06.913+0000</td></tr><tr><td>2cpS4QCdLps7ycDeAxodOz</td><td>2cpS4QCdLps7ycDeAxodOz|0000075</td><td>298079d2-e683-11e8-a351-0f405d5c52f9</td><td>MBFEvent.BotMessage</td><td>2018-11-12T13:59:07.023+0000</td></tr><tr><td>2cpS4QCdLps7ycDeAxodOz</td><td>2cpS4QCdLps7ycDeAxodOz|0000079</td><td>298079df-e683-11e8-a351-0f405d5c52f9</td><td>MBFEvent.UserMessage</td><td>2018-11-12T13:59:10.593+0000</td></tr><tr><td>2cpS4QCdLps7ycDeAxodOz</td><td>2cpS4QCdLps7ycDeAxodOz|0000079</td><td>298079e4-e683-11e8-a351-0f405d5c52f9</td><td>MBFEvent.BotMessage</td><td>2018-11-12T13:59:10.845+0000</td></tr><tr><td>2cpS4QCdLps7ycDeAxodOz</td><td>58b1d8d9-c28d-4a4b-aaf0-ed545e3e83f2</td><td>298079fb-e683-11e8-a351-0f405d5c52f9</td><td>MBFEvent.BotMessage</td><td>2018-11-12T13:59:21.340+0000</td></tr><tr><td>2cpS4QCdLps7ycDeAxodOz</td><td>2cpS4QCdLps7ycDeAxodOz|0000084</td><td>dd48a530-e683-11e8-8c74-1df3eaf4721b</td><td>MBFEvent.UserMessage</td><td>2018-11-12T14:04:02.351+0000</td></tr><tr><td>2cpS4QCdLps7ycDeAxodOz</td><td>2cpS4QCdLps7ycDeAxodOz|0000084</td><td>dd48a537-e683-11e8-8c74-1df3eaf4721b</td><td>MBFEvent.BotMessage</td><td>2018-11-12T14:04:03.477+0000</td></tr><tr><td>2cpS4QCdLps7ycDeAxodOz</td><td>2cpS4QCdLps7ycDeAxodOz|0000088</td><td>dd48a539-e683-11e8-8c74-1df3eaf4721b</td><td>MBFEvent.UserMessage</td><td>2018-11-12T14:04:05.478+0000</td></tr><tr><td>2cpS4QCdLps7ycDeAxodOz</td><td>2cpS4QCdLps7ycDeAxodOz|0000088</td><td>dd48a53f-e683-11e8-8c74-1df3eaf4721b</td><td>MBFEvent.BotMessage</td><td>2018-11-12T14:04:05.617+0000</td></tr><tr><td>2cpS4QCdLps7ycDeAxodOz</td><td>2cpS4QCdLps7ycDeAxodOz|0000092</td><td>dd48a543-e683-11e8-8c74-1df3eaf4721b</td><td>MBFEvent.UserMessage</td><td>2018-11-12T14:04:10.601+0000</td></tr><tr><td>2cpS4QCdLps7ycDeAxodOz</td><td>2cpS4QCdLps7ycDeAxodOz|0000092</td><td>dd48a548-e683-11e8-8c74-1df3eaf4721b</td><td>MBFEvent.BotMessage</td><td>2018-11-12T14:04:11.087+0000</td></tr><tr><td>2cpS4QCdLps7ycDeAxodOz</td><td>2cpS4QCdLps7ycDeAxodOz|0000096</td><td>dd48a54a-e683-11e8-8c74-1df3eaf4721b</td><td>MBFEvent.UserMessage</td><td>2018-11-12T14:04:13.979+0000</td></tr><tr><td>2cpS4QCdLps7ycDeAxodOz</td><td>2cpS4QCdLps7ycDeAxodOz|0000096</td><td>dd48a551-e683-11e8-8c74-1df3eaf4721b</td><td>MBFEvent.BotMessage</td><td>2018-11-12T14:04:14.555+0000</td></tr><tr><td>2cpS4QCdLps7ycDeAxodOz</td><td>2cpS4QCdLps7ycDeAxodOz|0000100</td><td>dd48a552-e683-11e8-8c74-1df3eaf4721b</td><td>MBFEvent.UserMessage</td><td>2018-11-12T14:04:16.043+0000</td></tr><tr><td>2cpS4QCdLps7ycDeAxodOz</td><td>2cpS4QCdLps7ycDeAxodOz|0000100</td><td>dd48a558-e683-11e8-8c74-1df3eaf4721b</td><td>MBFEvent.BotMessage</td><td>2018-11-12T14:04:16.292+0000</td></tr><tr><td>2cpS4QCdLps7ycDeAxodOz</td><td>2cpS4QCdLps7ycDeAxodOz|0000104</td><td>dd48a55c-e683-11e8-8c74-1df3eaf4721b</td><td>MBFEvent.UserMessage</td><td>2018-11-12T14:04:20.185+0000</td></tr><tr><td>2cpS4QCdLps7ycDeAxodOz</td><td>2cpS4QCdLps7ycDeAxodOz|0000104</td><td>dd48a561-e683-11e8-8c74-1df3eaf4721b</td><td>MBFEvent.BotMessage</td><td>2018-11-12T14:04:20.438+0000</td></tr><tr><td>2cpS4QCdLps7ycDeAxodOz</td><td>bb252ced-21c5-4679-811c-689261d40e6c</td><td>dd48a564-e683-11e8-8c74-1df3eaf4721b</td><td>MBFEvent.BotMessage</td><td>2018-11-12T14:04:23.850+0000</td></tr><tr><td>2cpS4QCdLps7ycDeAxodOz</td><td>e69f2863-dc73-4852-bb6c-9a5243281d59</td><td>ef3b1111-e683-11e8-96ff-edd2dad4f8c3</td><td>MBFEvent.BotMessage</td><td>2018-11-12T14:04:31.730+0000</td></tr><tr><td>2cpS4QCdLps7ycDeAxodOz</td><td>2cpS4QCdLps7ycDeAxodOz|0000116</td><td>5acf0b70-e684-11e8-8c74-1df3eaf4721b</td><td>MBFEvent.UserMessage</td><td>2018-11-12T14:07:44.583+0000</td></tr><tr><td>2cpS4QCdLps7ycDeAxodOz</td><td>2cpS4QCdLps7ycDeAxodOz|0000116</td><td>5acf0b77-e684-11e8-8c74-1df3eaf4721b</td><td>MBFEvent.BotMessage</td><td>2018-11-12T14:07:45.439+0000</td></tr><tr><td>777Qsjs3i8qJyBr95zABbk</td><td>777Qsjs3i8qJyBr95zABbk|0000050</td><td>056046a1-e683-11e8-8c74-1df3eaf4721b</td><td>MBFEvent.UserMessage</td><td>2018-11-12T13:58:00.081+0000</td></tr><tr><td>777Qsjs3i8qJyBr95zABbk</td><td>777Qsjs3i8qJyBr95zABbk|0000050</td><td>056046a6-e683-11e8-8c74-1df3eaf4721b</td><td>MBFEvent.BotMessage</td><td>2018-11-12T13:58:00.722+0000</td></tr><tr><td>777Qsjs3i8qJyBr95zABbk</td><td>777Qsjs3i8qJyBr95zABbk|0000057</td><td>056046b0-e683-11e8-8c74-1df3eaf4721b</td><td>MBFEvent.UserMessage</td><td>2018-11-12T13:58:14.914+0000</td></tr><tr><td>777Qsjs3i8qJyBr95zABbk</td><td>777Qsjs3i8qJyBr95zABbk|0000057</td><td>056046b5-e683-11e8-8c74-1df3eaf4721b</td><td>MBFEvent.BotMessage</td><td>2018-11-12T13:58:15.443+0000</td></tr><tr><td>777Qsjs3i8qJyBr95zABbk</td><td>777Qsjs3i8qJyBr95zABbk|0000064</td><td>1773f63b-e683-11e8-8c74-1df3eaf4721b</td><td>MBFEvent.UserMessage</td><td>2018-11-12T13:58:48.779+0000</td></tr><tr><td>777Qsjs3i8qJyBr95zABbk</td><td>777Qsjs3i8qJyBr95zABbk|0000064</td><td>1773f640-e683-11e8-8c74-1df3eaf4721b</td><td>MBFEvent.BotMessage</td><td>2018-11-12T13:58:49.533+0000</td></tr><tr><td>777Qsjs3i8qJyBr95zABbk</td><td>777Qsjs3i8qJyBr95zABbk|0000071</td><td>298079b0-e683-11e8-a351-0f405d5c52f9</td><td>MBFEvent.UserMessage</td><td>2018-11-12T13:58:58.078+0000</td></tr><tr><td>777Qsjs3i8qJyBr95zABbk</td><td>777Qsjs3i8qJyBr95zABbk|0000071</td><td>298079b5-e683-11e8-a351-0f405d5c52f9</td><td>MBFEvent.BotMessage</td><td>2018-11-12T13:58:58.597+0000</td></tr><tr><td>777Qsjs3i8qJyBr95zABbk</td><td>777Qsjs3i8qJyBr95zABbk|0000078</td><td>298079c6-e683-11e8-a351-0f405d5c52f9</td><td>MBFEvent.UserMessage</td><td>2018-11-12T13:59:04.670+0000</td></tr><tr><td>777Qsjs3i8qJyBr95zABbk</td><td>777Qsjs3i8qJyBr95zABbk|0000078</td><td>298079cb-e683-11e8-a351-0f405d5c52f9</td><td>MBFEvent.BotMessage</td><td>2018-11-12T13:59:05.535+0000</td></tr><tr><td>777Qsjs3i8qJyBr95zABbk</td><td>777Qsjs3i8qJyBr95zABbk|0000083</td><td>298079d9-e683-11e8-a351-0f405d5c52f9</td><td>MBFEvent.UserMessage</td><td>2018-11-12T13:59:09.869+0000</td></tr><tr><td>777Qsjs3i8qJyBr95zABbk</td><td>777Qsjs3i8qJyBr95zABbk|0000083</td><td>298079de-e683-11e8-a351-0f405d5c52f9</td><td>MBFEvent.BotMessage</td><td>2018-11-12T13:59:10.358+0000</td></tr><tr><td>777Qsjs3i8qJyBr95zABbk</td><td>777Qsjs3i8qJyBr95zABbk|0000090</td><td>298079ed-e683-11e8-a351-0f405d5c52f9</td><td>MBFEvent.UserMessage</td><td>2018-11-12T13:59:17.801+0000</td></tr><tr><td>777Qsjs3i8qJyBr95zABbk</td><td>777Qsjs3i8qJyBr95zABbk|0000090</td><td>298079f2-e683-11e8-a351-0f405d5c52f9</td><td>MBFEvent.BotMessage</td><td>2018-11-12T13:59:18.307+0000</td></tr><tr><td>777Qsjs3i8qJyBr95zABbk</td><td>777Qsjs3i8qJyBr95zABbk|0000097</td><td>3b79ea70-e683-11e8-8c74-1df3eaf4721b</td><td>MBFEvent.UserMessage</td><td>2018-11-12T13:59:29.054+0000</td></tr><tr><td>777Qsjs3i8qJyBr95zABbk</td><td>777Qsjs3i8qJyBr95zABbk|0000097</td><td>3b79ea75-e683-11e8-8c74-1df3eaf4721b</td><td>MBFEvent.BotMessage</td><td>2018-11-12T13:59:29.725+0000</td></tr><tr><td>8mkbRBVLXnqB1DyyZ1pVcZ</td><td>8mkbRBVLXnqB1DyyZ1pVcZ|0000531</td><td>9179f2c8-e684-11e8-8c74-1df3eaf4721b</td><td>MBFEvent.UserMessage</td><td>2018-11-12T14:09:18.462+0000</td></tr><tr><td>8mkbRBVLXnqB1DyyZ1pVcZ</td><td>8mkbRBVLXnqB1DyyZ1pVcZ|0000531</td><td>9179f2cb-e684-11e8-8c74-1df3eaf4721b</td><td>MBFEvent.BotMessage</td><td>2018-11-12T14:09:19.573+0000</td></tr><tr><td>8mkbRBVLXnqB1DyyZ1pVcZ</td><td>8mkbRBVLXnqB1DyyZ1pVcZ|0000535</td><td>a3dc5e82-e684-11e8-a351-0f405d5c52f9</td><td>MBFEvent.UserMessage</td><td>2018-11-12T14:09:37.233+0000</td></tr><tr><td>8mkbRBVLXnqB1DyyZ1pVcZ</td><td>8mkbRBVLXnqB1DyyZ1pVcZ|0000535</td><td>a3dc5e86-e684-11e8-a351-0f405d5c52f9</td><td>MBFEvent.BotMessage</td><td>2018-11-12T14:09:38.114+0000</td></tr><tr><td>8mkbRBVLXnqB1DyyZ1pVcZ</td><td>d7252c1a-dc55-4b75-9186-ec2df81c0457</td><td>a3dc5e89-e684-11e8-a351-0f405d5c52f9</td><td>MBFEvent.BotMessage</td><td>2018-11-12T14:09:39.797+0000</td></tr><tr><td>8mkbRBVLXnqB1DyyZ1pVcZ</td><td>8mkbRBVLXnqB1DyyZ1pVcZ|0000540</td><td>a3dc5e8c-e684-11e8-a351-0f405d5c52f9</td><td>MBFEvent.UserMessage</td><td>2018-11-12T14:09:51.440+0000</td></tr><tr><td>8mkbRBVLXnqB1DyyZ1pVcZ</td><td>8mkbRBVLXnqB1DyyZ1pVcZ|0000540</td><td>a3dc5e99-e684-11e8-a351-0f405d5c52f9</td><td>MBFEvent.BotMessage</td><td>2018-11-12T14:09:52.212+0000</td></tr><tr><td>8mkbRBVLXnqB1DyyZ1pVcZ</td><td>8mkbRBVLXnqB1DyyZ1pVcZ|0000545</td><td>b5edc416-e684-11e8-8c74-1df3eaf4721b</td><td>MBFEvent.UserMessage</td><td>2018-11-12T14:10:19.568+0000</td></tr><tr><td>8mkbRBVLXnqB1DyyZ1pVcZ</td><td>8mkbRBVLXnqB1DyyZ1pVcZ|0000545</td><td>b5edc41d-e684-11e8-8c74-1df3eaf4721b</td><td>MBFEvent.BotMessage</td><td>2018-11-12T14:10:20.203+0000</td></tr><tr><td>8mkbRBVLXnqB1DyyZ1pVcZ</td><td>8mkbRBVLXnqB1DyyZ1pVcZ|0000551</td><td>d9c8fee0-e684-11e8-a351-0f405d5c52f9</td><td>MBFEvent.UserMessage</td><td>2018-11-12T14:11:20.150+0000</td></tr><tr><td>8mkbRBVLXnqB1DyyZ1pVcZ</td><td>8mkbRBVLXnqB1DyyZ1pVcZ|0000551</td><td>d9c8fee5-e684-11e8-a351-0f405d5c52f9</td><td>MBFEvent.BotMessage</td><td>2018-11-12T14:11:20.744+0000</td></tr><tr><td>8mkbRBVLXnqB1DyyZ1pVcZ</td><td>286ea8d4-b11c-44d2-aadb-25a7483f08ed</td><td>ebbfb087-e684-11e8-96ff-edd2dad4f8c3</td><td>MBFEvent.BotMessage</td><td>2018-11-12T14:11:31.674+0000</td></tr><tr><td>8mkbRBVLXnqB1DyyZ1pVcZ</td><td>8mkbRBVLXnqB1DyyZ1pVcZ|0000556</td><td>ebbfb08c-e684-11e8-96ff-edd2dad4f8c3</td><td>MBFEvent.UserMessage</td><td>2018-11-12T14:11:56.721+0000</td></tr><tr><td>8mkbRBVLXnqB1DyyZ1pVcZ</td><td>8mkbRBVLXnqB1DyyZ1pVcZ|0000556</td><td>ebbfb093-e684-11e8-96ff-edd2dad4f8c3</td><td>MBFEvent.BotMessage</td><td>2018-11-12T14:11:57.330+0000</td></tr><tr><td>8mkbRBVLXnqB1DyyZ1pVcZ</td><td>8mkbRBVLXnqB1DyyZ1pVcZ|0000562</td><td>7af5863a-e685-11e8-96ff-edd2dad4f8c3</td><td>MBFEvent.UserMessage</td><td>2018-11-12T14:15:55.889+0000</td></tr><tr><td>8mkbRBVLXnqB1DyyZ1pVcZ</td><td>8mkbRBVLXnqB1DyyZ1pVcZ|0000562</td><td>7af58641-e685-11e8-96ff-edd2dad4f8c3</td><td>MBFEvent.BotMessage</td><td>2018-11-12T14:15:56.755+0000</td></tr><tr><td>8mkbRBVLXnqB1DyyZ1pVcZ</td><td>8mkbRBVLXnqB1DyyZ1pVcZ|0000566</td><td>c2ec1210-e685-11e8-96ff-edd2dad4f8c3</td><td>MBFEvent.UserMessage</td><td>2018-11-12T14:17:30.956+0000</td></tr><tr><td>8mkbRBVLXnqB1DyyZ1pVcZ</td><td>8mkbRBVLXnqB1DyyZ1pVcZ|0000566</td><td>c2ec1211-e685-11e8-96ff-edd2dad4f8c3</td><td>MBFEvent.BotMessage</td><td>2018-11-12T14:17:31.024+0000</td></tr><tr><td>8mkbRBVLXnqB1DyyZ1pVcZ</td><td>8mkbRBVLXnqB1DyyZ1pVcZ|0000568</td><td>648ba681-e686-11e8-a351-0f405d5c52f9</td><td>MBFEvent.UserMessage</td><td>2018-11-12T14:22:08.766+0000</td></tr><tr><td>8mkbRBVLXnqB1DyyZ1pVcZ</td><td>8mkbRBVLXnqB1DyyZ1pVcZ|0000568</td><td>648ba684-e686-11e8-a351-0f405d5c52f9</td><td>MBFEvent.BotMessage</td><td>2018-11-12T14:22:09.434+0000</td></tr><tr><td>8mkbRBVLXnqB1DyyZ1pVcZ</td><td>8mkbRBVLXnqB1DyyZ1pVcZ|0000571</td><td>bea9df10-e686-11e8-8c74-1df3eaf4721b</td><td>MBFEvent.UserMessage</td><td>2018-11-12T14:24:36.582+0000</td></tr><tr><td>8mkbRBVLXnqB1DyyZ1pVcZ</td><td>8mkbRBVLXnqB1DyyZ1pVcZ|0000571</td><td>bea9df14-e686-11e8-8c74-1df3eaf4721b</td><td>MBFEvent.BotMessage</td><td>2018-11-12T14:24:36.925+0000</td></tr><tr><td>8mkbRBVLXnqB1DyyZ1pVcZ</td><td>8mkbRBVLXnqB1DyyZ1pVcZ|0000575</td><td>bea9df19-e686-11e8-8c74-1df3eaf4721b</td><td>MBFEvent.UserMessage</td><td>2018-11-12T14:24:46.878+0000</td></tr><tr><td>8mkbRBVLXnqB1DyyZ1pVcZ</td><td>8mkbRBVLXnqB1DyyZ1pVcZ|0000575</td><td>bea9df1c-e686-11e8-8c74-1df3eaf4721b</td><td>MBFEvent.BotMessage</td><td>2018-11-12T14:24:47.134+0000</td></tr><tr><td>8mkbRBVLXnqB1DyyZ1pVcZ</td><td>fa63b80d-17fc-4b6f-872f-38086d8561b3</td><td>bea9df1f-e686-11e8-8c74-1df3eaf4721b</td><td>MBFEvent.BotMessage</td><td>2018-11-12T14:24:58.174+0000</td></tr><tr><td>8mkbRBVLXnqB1DyyZ1pVcZ</td><td>8mkbRBVLXnqB1DyyZ1pVcZ|0000580</td><td>bea9df21-e686-11e8-8c74-1df3eaf4721b</td><td>MBFEvent.UserMessage</td><td>2018-11-12T14:25:00.853+0000</td></tr><tr><td>8mkbRBVLXnqB1DyyZ1pVcZ</td><td>8mkbRBVLXnqB1DyyZ1pVcZ|0000580</td><td>bea9df2a-e686-11e8-8c74-1df3eaf4721b</td><td>MBFEvent.BotMessage</td><td>2018-11-12T14:25:01.555+0000</td></tr><tr><td>8mkbRBVLXnqB1DyyZ1pVcZ</td><td>8mkbRBVLXnqB1DyyZ1pVcZ|0000585</td><td>d0cbe67a-e686-11e8-bf7a-5fba8834ae28</td><td>MBFEvent.UserMessage</td><td>2018-11-12T14:25:06.294+0000</td></tr><tr><td>8mkbRBVLXnqB1DyyZ1pVcZ</td><td>8mkbRBVLXnqB1DyyZ1pVcZ|0000585</td><td>d0cbe67d-e686-11e8-bf7a-5fba8834ae28</td><td>MBFEvent.BotMessage</td><td>2018-11-12T14:25:06.372+0000</td></tr><tr><td>8mkbRBVLXnqB1DyyZ1pVcZ</td><td>8mkbRBVLXnqB1DyyZ1pVcZ|0000588</td><td>d0cbe67f-e686-11e8-bf7a-5fba8834ae28</td><td>MBFEvent.UserMessage</td><td>2018-11-12T14:25:16.855+0000</td></tr><tr><td>8mkbRBVLXnqB1DyyZ1pVcZ</td><td>8mkbRBVLXnqB1DyyZ1pVcZ|0000588</td><td>d0cbe680-e686-11e8-bf7a-5fba8834ae28</td><td>MBFEvent.BotMessage</td><td>2018-11-12T14:25:16.917+0000</td></tr><tr><td>8mkbRBVLXnqB1DyyZ1pVcZ</td><td>8mkbRBVLXnqB1DyyZ1pVcZ|0000591</td><td>d0cbe682-e686-11e8-bf7a-5fba8834ae28</td><td>MBFEvent.UserMessage</td><td>2018-11-12T14:25:30.083+0000</td></tr><tr><td>8mkbRBVLXnqB1DyyZ1pVcZ</td><td>8mkbRBVLXnqB1DyyZ1pVcZ|0000591</td><td>d0cbe688-e686-11e8-bf7a-5fba8834ae28</td><td>MBFEvent.BotMessage</td><td>2018-11-12T14:25:30.848+0000</td></tr><tr><td>8mkbRBVLXnqB1DyyZ1pVcZ</td><td>8mkbRBVLXnqB1DyyZ1pVcZ|0000596</td><td>e2da17b1-e686-11e8-8c74-1df3eaf4721b</td><td>MBFEvent.UserMessage</td><td>2018-11-12T14:25:38.497+0000</td></tr><tr><td>8mkbRBVLXnqB1DyyZ1pVcZ</td><td>8mkbRBVLXnqB1DyyZ1pVcZ|0000596</td><td>e2da17b8-e686-11e8-8c74-1df3eaf4721b</td><td>MBFEvent.BotMessage</td><td>2018-11-12T14:25:39.222+0000</td></tr><tr><td>8mkbRBVLXnqB1DyyZ1pVcZ</td><td>8mkbRBVLXnqB1DyyZ1pVcZ|0000602</td><td>e2da17bc-e686-11e8-8c74-1df3eaf4721b</td><td>MBFEvent.UserMessage</td><td>2018-11-12T14:25:48.754+0000</td></tr><tr><td>8mkbRBVLXnqB1DyyZ1pVcZ</td><td>8mkbRBVLXnqB1DyyZ1pVcZ|0000602</td><td>e2da17c1-e686-11e8-8c74-1df3eaf4721b</td><td>MBFEvent.BotMessage</td><td>2018-11-12T14:25:49.142+0000</td></tr><tr><td>8mkbRBVLXnqB1DyyZ1pVcZ</td><td>8mkbRBVLXnqB1DyyZ1pVcZ|0000606</td><td>e2da17c3-e686-11e8-8c74-1df3eaf4721b</td><td>MBFEvent.UserMessage</td><td>2018-11-12T14:25:54.101+0000</td></tr><tr><td>8mkbRBVLXnqB1DyyZ1pVcZ</td><td>8mkbRBVLXnqB1DyyZ1pVcZ|0000606</td><td>e2da17c8-e686-11e8-8c74-1df3eaf4721b</td><td>MBFEvent.BotMessage</td><td>2018-11-12T14:25:54.634+0000</td></tr><tr><td>8mkbRBVLXnqB1DyyZ1pVcZ</td><td>9b632bc2-b62f-4f5f-bfec-aaf9d626dc13</td><td>e2da17ca-e686-11e8-8c74-1df3eaf4721b</td><td>MBFEvent.BotMessage</td><td>2018-11-12T14:26:00.412+0000</td></tr><tr><td>8mkbRBVLXnqB1DyyZ1pVcZ</td><td>8mkbRBVLXnqB1DyyZ1pVcZ|0000611</td><td>f4df9667-e686-11e8-a351-0f405d5c52f9</td><td>MBFEvent.UserMessage</td><td>2018-11-12T14:26:05.456+0000</td></tr><tr><td>8mkbRBVLXnqB1DyyZ1pVcZ</td><td>8mkbRBVLXnqB1DyyZ1pVcZ|0000611</td><td>f4df966e-e686-11e8-a351-0f405d5c52f9</td><td>MBFEvent.BotMessage</td><td>2018-11-12T14:26:06.207+0000</td></tr><tr><td>8mkbRBVLXnqB1DyyZ1pVcZ</td><td>8mkbRBVLXnqB1DyyZ1pVcZ|0000617</td><td>18c95020-e687-11e8-a351-0f405d5c52f9</td><td>MBFEvent.UserMessage</td><td>2018-11-12T14:27:32.739+0000</td></tr><tr><td>8mkbRBVLXnqB1DyyZ1pVcZ</td><td>8mkbRBVLXnqB1DyyZ1pVcZ|0000617</td><td>18c95027-e687-11e8-a351-0f405d5c52f9</td><td>MBFEvent.BotMessage</td><td>2018-11-12T14:27:33.384+0000</td></tr><tr><td>8mkbRBVLXnqB1DyyZ1pVcZ</td><td>8mkbRBVLXnqB1DyyZ1pVcZ|0000621</td><td>2ad0f1b3-e687-11e8-a351-0f405d5c52f9</td><td>MBFEvent.UserMessage</td><td>2018-11-12T14:27:38.246+0000</td></tr><tr><td>8mkbRBVLXnqB1DyyZ1pVcZ</td><td>8mkbRBVLXnqB1DyyZ1pVcZ|0000621</td><td>2ad0f1b4-e687-11e8-a351-0f405d5c52f9</td><td>MBFEvent.BotMessage</td><td>2018-11-12T14:27:38.323+0000</td></tr><tr><td>8mkbRBVLXnqB1DyyZ1pVcZ</td><td>8mkbRBVLXnqB1DyyZ1pVcZ|0000623</td><td>2ad0f1b6-e687-11e8-a351-0f405d5c52f9</td><td>MBFEvent.UserMessage</td><td>2018-11-12T14:27:44.938+0000</td></tr><tr><td>8mkbRBVLXnqB1DyyZ1pVcZ</td><td>8mkbRBVLXnqB1DyyZ1pVcZ|0000623</td><td>2ad0f1b9-e687-11e8-a351-0f405d5c52f9</td><td>MBFEvent.BotMessage</td><td>2018-11-12T14:27:45.000+0000</td></tr><tr><td>8mkbRBVLXnqB1DyyZ1pVcZ</td><td>8mkbRBVLXnqB1DyyZ1pVcZ|0000626</td><td>d46fb9c0-e689-11e8-a351-0f405d5c52f9</td><td>MBFEvent.UserMessage</td><td>2018-11-12T14:46:42.270+0000</td></tr><tr><td>8mkbRBVLXnqB1DyyZ1pVcZ</td><td>8mkbRBVLXnqB1DyyZ1pVcZ|0000626</td><td>d46fb9c3-e689-11e8-a351-0f405d5c52f9</td><td>MBFEvent.BotMessage</td><td>2018-11-12T14:46:42.489+0000</td></tr><tr><td>8mkbRBVLXnqB1DyyZ1pVcZ</td><td>8mkbRBVLXnqB1DyyZ1pVcZ|0000629</td><td>d46fb9c5-e689-11e8-a351-0f405d5c52f9</td><td>MBFEvent.UserMessage</td><td>2018-11-12T14:46:48.362+0000</td></tr><tr><td>8mkbRBVLXnqB1DyyZ1pVcZ</td><td>8mkbRBVLXnqB1DyyZ1pVcZ|0000629</td><td>d46fb9ca-e689-11e8-a351-0f405d5c52f9</td><td>MBFEvent.BotMessage</td><td>2018-11-12T14:46:49.047+0000</td></tr><tr><td>8mkbRBVLXnqB1DyyZ1pVcZ</td><td>dac6c509-a68c-4c20-9e9b-dd3360798d46</td><td>d46fb9cc-e689-11e8-a351-0f405d5c52f9</td><td>MBFEvent.BotMessage</td><td>2018-11-12T14:46:53.825+0000</td></tr><tr><td>8mkbRBVLXnqB1DyyZ1pVcZ</td><td>8mkbRBVLXnqB1DyyZ1pVcZ|0000634</td><td>d46fb9ce-e689-11e8-a351-0f405d5c52f9</td><td>MBFEvent.UserMessage</td><td>2018-11-12T14:46:56.420+0000</td></tr><tr><td>8mkbRBVLXnqB1DyyZ1pVcZ</td><td>8mkbRBVLXnqB1DyyZ1pVcZ|0000634</td><td>d46fb9d7-e689-11e8-a351-0f405d5c52f9</td><td>MBFEvent.BotMessage</td><td>2018-11-12T14:46:57.091+0000</td></tr><tr><td>8mkbRBVLXnqB1DyyZ1pVcZ</td><td>8mkbRBVLXnqB1DyyZ1pVcZ|0000639</td><td>d46fb9d9-e689-11e8-a351-0f405d5c52f9</td><td>MBFEvent.UserMessage</td><td>2018-11-12T14:47:01.773+0000</td></tr><tr><td>8mkbRBVLXnqB1DyyZ1pVcZ</td><td>8mkbRBVLXnqB1DyyZ1pVcZ|0000639</td><td>d46fb9dc-e689-11e8-a351-0f405d5c52f9</td><td>MBFEvent.BotMessage</td><td>2018-11-12T14:47:01.852+0000</td></tr><tr><td>8mkbRBVLXnqB1DyyZ1pVcZ</td><td>8mkbRBVLXnqB1DyyZ1pVcZ|0000642</td><td>e6814660-e689-11e8-8c74-1df3eaf4721b</td><td>MBFEvent.UserMessage</td><td>2018-11-12T14:47:10.576+0000</td></tr><tr><td>8mkbRBVLXnqB1DyyZ1pVcZ</td><td>8mkbRBVLXnqB1DyyZ1pVcZ|0000642</td><td>e6814663-e689-11e8-8c74-1df3eaf4721b</td><td>MBFEvent.BotMessage</td><td>2018-11-12T14:47:10.642+0000</td></tr><tr><td>8mkbRBVLXnqB1DyyZ1pVcZ</td><td>8mkbRBVLXnqB1DyyZ1pVcZ|0000645</td><td>e6814665-e689-11e8-8c74-1df3eaf4721b</td><td>MBFEvent.UserMessage</td><td>2018-11-12T14:47:15.441+0000</td></tr><tr><td>8mkbRBVLXnqB1DyyZ1pVcZ</td><td>8mkbRBVLXnqB1DyyZ1pVcZ|0000645</td><td>e681466a-e689-11e8-8c74-1df3eaf4721b</td><td>MBFEvent.BotMessage</td><td>2018-11-12T14:47:16.307+0000</td></tr><tr><td>8mkbRBVLXnqB1DyyZ1pVcZ</td><td>4ac9bd03-7800-4e2e-93f7-0d4097416008</td><td>e681466f-e689-11e8-8c74-1df3eaf4721b</td><td>MBFEvent.BotMessage</td><td>2018-11-12T14:47:21.643+0000</td></tr><tr><td>8mkbRBVLXnqB1DyyZ1pVcZ</td><td>8mkbRBVLXnqB1DyyZ1pVcZ|0000651</td><td>e6814671-e689-11e8-8c74-1df3eaf4721b</td><td>MBFEvent.UserMessage</td><td>2018-11-12T14:47:25.627+0000</td></tr><tr><td>8mkbRBVLXnqB1DyyZ1pVcZ</td><td>8mkbRBVLXnqB1DyyZ1pVcZ|0000651</td><td>e6814678-e689-11e8-8c74-1df3eaf4721b</td><td>MBFEvent.BotMessage</td><td>2018-11-12T14:47:26.248+0000</td></tr><tr><td>8mkbRBVLXnqB1DyyZ1pVcZ</td><td>8mkbRBVLXnqB1DyyZ1pVcZ|0000657</td><td>f896a390-e689-11e8-a351-0f405d5c52f9</td><td>MBFEvent.UserMessage</td><td>2018-11-12T14:47:48.440+0000</td></tr><tr><td>8mkbRBVLXnqB1DyyZ1pVcZ</td><td>8mkbRBVLXnqB1DyyZ1pVcZ|0000657</td><td>f896a397-e689-11e8-a351-0f405d5c52f9</td><td>MBFEvent.BotMessage</td><td>2018-11-12T14:47:49.196+0000</td></tr><tr><td>8mkbRBVLXnqB1DyyZ1pVcZ</td><td>8mkbRBVLXnqB1DyyZ1pVcZ|0000661</td><td>f896a399-e689-11e8-a351-0f405d5c52f9</td><td>MBFEvent.UserMessage</td><td>2018-11-12T14:47:56.996+0000</td></tr><tr><td>8mkbRBVLXnqB1DyyZ1pVcZ</td><td>8mkbRBVLXnqB1DyyZ1pVcZ|0000661</td><td>f896a39a-e689-11e8-a351-0f405d5c52f9</td><td>MBFEvent.BotMessage</td><td>2018-11-12T14:47:57.075+0000</td></tr><tr><td>8mkbRBVLXnqB1DyyZ1pVcZ</td><td>8mkbRBVLXnqB1DyyZ1pVcZ|0000663</td><td>40b3a330-e68a-11e8-8c74-1df3eaf4721b</td><td>MBFEvent.UserMessage</td><td>2018-11-12T14:50:03.030+0000</td></tr><tr><td>8mkbRBVLXnqB1DyyZ1pVcZ</td><td>8mkbRBVLXnqB1DyyZ1pVcZ|0000663</td><td>40b3a333-e68a-11e8-8c74-1df3eaf4721b</td><td>MBFEvent.BotMessage</td><td>2018-11-12T14:50:03.265+0000</td></tr><tr><td>8mkbRBVLXnqB1DyyZ1pVcZ</td><td>8mkbRBVLXnqB1DyyZ1pVcZ|0000665</td><td>52dcd680-e68a-11e8-bf7a-5fba8834ae28</td><td>MBFEvent.UserMessage</td><td>2018-11-12T14:50:37.951+0000</td></tr><tr><td>8mkbRBVLXnqB1DyyZ1pVcZ</td><td>8mkbRBVLXnqB1DyyZ1pVcZ|0000665</td><td>52dcd681-e68a-11e8-bf7a-5fba8834ae28</td><td>MBFEvent.BotMessage</td><td>2018-11-12T14:50:38.021+0000</td></tr><tr><td>8mkbRBVLXnqB1DyyZ1pVcZ</td><td>8mkbRBVLXnqB1DyyZ1pVcZ|0000666</td><td>52dcd683-e68a-11e8-bf7a-5fba8834ae28</td><td>MBFEvent.UserMessage</td><td>2018-11-12T14:50:38.193+0000</td></tr><tr><td>8mkbRBVLXnqB1DyyZ1pVcZ</td><td>8mkbRBVLXnqB1DyyZ1pVcZ|0000666</td><td>52dcd684-e68a-11e8-bf7a-5fba8834ae28</td><td>MBFEvent.BotMessage</td><td>2018-11-12T14:50:38.528+0000</td></tr><tr><td>8mkbRBVLXnqB1DyyZ1pVcZ</td><td>8mkbRBVLXnqB1DyyZ1pVcZ|0000669</td><td>64f7b1fc-e68a-11e8-bf7a-5fba8834ae28</td><td>MBFEvent.UserMessage</td><td>2018-11-12T14:50:49.559+0000</td></tr><tr><td>8mkbRBVLXnqB1DyyZ1pVcZ</td><td>8mkbRBVLXnqB1DyyZ1pVcZ|0000669</td><td>64f7b1fd-e68a-11e8-bf7a-5fba8834ae28</td><td>MBFEvent.BotMessage</td><td>2018-11-12T14:50:49.743+0000</td></tr><tr><td>8mkbRBVLXnqB1DyyZ1pVcZ</td><td>8mkbRBVLXnqB1DyyZ1pVcZ|0000672</td><td>8c8ee350-e68a-11e8-a351-0f405d5c52f9</td><td>MBFEvent.UserMessage</td><td>2018-11-12T14:51:47.553+0000</td></tr><tr><td>8mkbRBVLXnqB1DyyZ1pVcZ</td><td>8mkbRBVLXnqB1DyyZ1pVcZ|0000673</td><td>8c8ee351-e68a-11e8-a351-0f405d5c52f9</td><td>MBFEvent.UserMessage</td><td>2018-11-12T14:51:53.971+0000</td></tr><tr><td>8mkbRBVLXnqB1DyyZ1pVcZ</td><td>8mkbRBVLXnqB1DyyZ1pVcZ|0000672</td><td>8c8ee352-e68a-11e8-a351-0f405d5c52f9</td><td>MBFEvent.BotMessage</td><td>2018-11-12T14:51:54.094+0000</td></tr><tr><td>8mkbRBVLXnqB1DyyZ1pVcZ</td><td>8mkbRBVLXnqB1DyyZ1pVcZ|0000673</td><td>8c8ee35d-e68a-11e8-a351-0f405d5c52f9</td><td>MBFEvent.BotMessage</td><td>2018-11-12T14:52:10.525+0000</td></tr><tr><td>8mkbRBVLXnqB1DyyZ1pVcZ</td><td>f344e74e-a7a5-4928-ab51-763d5335e36f</td><td>9eac7de1-e68a-11e8-96ff-edd2dad4f8c3</td><td>MBFEvent.BotMessage</td><td>2018-11-12T14:52:32.042+0000</td></tr><tr><td>8mkbRBVLXnqB1DyyZ1pVcZ</td><td>d40b67f0-be9e-40c9-afc3-4c16d5526654</td><td>9eac7de3-e68a-11e8-96ff-edd2dad4f8c3</td><td>MBFEvent.BotMessage</td><td>2018-11-12T14:52:35.323+0000</td></tr><tr><td>8mkbRBVLXnqB1DyyZ1pVcZ</td><td>8mkbRBVLXnqB1DyyZ1pVcZ|0000682</td><td>c289b480-e68a-11e8-96ff-edd2dad4f8c3</td><td>MBFEvent.UserMessage</td><td>2018-11-12T14:53:18.594+0000</td></tr><tr><td>8mkbRBVLXnqB1DyyZ1pVcZ</td><td>8mkbRBVLXnqB1DyyZ1pVcZ|0000682</td><td>c289b484-e68a-11e8-96ff-edd2dad4f8c3</td><td>MBFEvent.BotMessage</td><td>2018-11-12T14:53:19.891+0000</td></tr><tr><td>8mkbRBVLXnqB1DyyZ1pVcZ</td><td>8mkbRBVLXnqB1DyyZ1pVcZ|0000686</td><td>c289b486-e68a-11e8-96ff-edd2dad4f8c3</td><td>MBFEvent.UserMessage</td><td>2018-11-12T14:53:47.288+0000</td></tr><tr><td>8mkbRBVLXnqB1DyyZ1pVcZ</td><td>8mkbRBVLXnqB1DyyZ1pVcZ|0000686</td><td>d48c9b21-e68a-11e8-96ff-edd2dad4f8c3</td><td>MBFEvent.BotMessage</td><td>2018-11-12T14:53:48.047+0000</td></tr><tr><td>8mkbRBVLXnqB1DyyZ1pVcZ</td><td>8mkbRBVLXnqB1DyyZ1pVcZ|0000691</td><td>d48c9b26-e68a-11e8-96ff-edd2dad4f8c3</td><td>MBFEvent.UserMessage</td><td>2018-11-12T14:54:06.468+0000</td></tr><tr><td>8mkbRBVLXnqB1DyyZ1pVcZ</td><td>8mkbRBVLXnqB1DyyZ1pVcZ|0000691</td><td>d48c9b2d-e68a-11e8-96ff-edd2dad4f8c3</td><td>MBFEvent.BotMessage</td><td>2018-11-12T14:54:07.547+0000</td></tr><tr><td>8mkbRBVLXnqB1DyyZ1pVcZ</td><td>8mkbRBVLXnqB1DyyZ1pVcZ|0000697</td><td>e90e8b80-e68a-11e8-96ff-edd2dad4f8c3</td><td>MBFEvent.UserMessage</td><td>2018-11-12T14:54:28.191+0000</td></tr><tr><td>8mkbRBVLXnqB1DyyZ1pVcZ</td><td>8mkbRBVLXnqB1DyyZ1pVcZ|0000697</td><td>e90e8b8c-e68a-11e8-96ff-edd2dad4f8c3</td><td>MBFEvent.BotMessage</td><td>2018-11-12T14:54:29.239+0000</td></tr><tr><td>8mkbRBVLXnqB1DyyZ1pVcZ</td><td>8mkbRBVLXnqB1DyyZ1pVcZ|0000701</td><td>e90e8b95-e68a-11e8-96ff-edd2dad4f8c3</td><td>MBFEvent.UserMessage</td><td>2018-11-12T14:54:34.665+0000</td></tr><tr><td>8mkbRBVLXnqB1DyyZ1pVcZ</td><td>8mkbRBVLXnqB1DyyZ1pVcZ|0000701</td><td>e90e8b99-e68a-11e8-96ff-edd2dad4f8c3</td><td>MBFEvent.BotMessage</td><td>2018-11-12T14:54:34.870+0000</td></tr><tr><td>8mkbRBVLXnqB1DyyZ1pVcZ</td><td>8mkbRBVLXnqB1DyyZ1pVcZ|0000703</td><td>e90e8b9c-e68a-11e8-96ff-edd2dad4f8c3</td><td>MBFEvent.UserMessage</td><td>2018-11-12T14:54:41.422+0000</td></tr><tr><td>8mkbRBVLXnqB1DyyZ1pVcZ</td><td>8mkbRBVLXnqB1DyyZ1pVcZ|0000703</td><td>e90e8b9f-e68a-11e8-96ff-edd2dad4f8c3</td><td>MBFEvent.BotMessage</td><td>2018-11-12T14:54:41.547+0000</td></tr><tr><td>8mkbRBVLXnqB1DyyZ1pVcZ</td><td>8mkbRBVLXnqB1DyyZ1pVcZ|0000705</td><td>e90e8ba0-e68a-11e8-96ff-edd2dad4f8c3</td><td>MBFEvent.UserMessage</td><td>2018-11-12T14:54:45.536+0000</td></tr><tr><td>8mkbRBVLXnqB1DyyZ1pVcZ</td><td>8mkbRBVLXnqB1DyyZ1pVcZ|0000705</td><td>e90e8ba1-e68a-11e8-96ff-edd2dad4f8c3</td><td>MBFEvent.BotMessage</td><td>2018-11-12T14:54:45.645+0000</td></tr><tr><td>8mkbRBVLXnqB1DyyZ1pVcZ</td><td>8mkbRBVLXnqB1DyyZ1pVcZ|0000708</td><td>0d572e22-e68b-11e8-a351-0f405d5c52f9</td><td>MBFEvent.UserMessage</td><td>2018-11-12T14:55:35.548+0000</td></tr><tr><td>8mkbRBVLXnqB1DyyZ1pVcZ</td><td>8mkbRBVLXnqB1DyyZ1pVcZ|0000708</td><td>0d572e26-e68b-11e8-a351-0f405d5c52f9</td><td>MBFEvent.BotMessage</td><td>2018-11-12T14:55:35.895+0000</td></tr><tr><td>8mkbRBVLXnqB1DyyZ1pVcZ</td><td>8mkbRBVLXnqB1DyyZ1pVcZ|0000712</td><td>0d572e2b-e68b-11e8-a351-0f405d5c52f9</td><td>MBFEvent.UserMessage</td><td>2018-11-12T14:55:47.082+0000</td></tr><tr><td>8mkbRBVLXnqB1DyyZ1pVcZ</td><td>8mkbRBVLXnqB1DyyZ1pVcZ|0000712</td><td>0d572e2e-e68b-11e8-a351-0f405d5c52f9</td><td>MBFEvent.BotMessage</td><td>2018-11-12T14:55:47.439+0000</td></tr><tr><td>8mkbRBVLXnqB1DyyZ1pVcZ</td><td>8mkbRBVLXnqB1DyyZ1pVcZ|0000716</td><td>0d572e30-e68b-11e8-a351-0f405d5c52f9</td><td>MBFEvent.UserMessage</td><td>2018-11-12T14:55:51.965+0000</td></tr><tr><td>8mkbRBVLXnqB1DyyZ1pVcZ</td><td>8mkbRBVLXnqB1DyyZ1pVcZ|0000716</td><td>1f95e543-e68b-11e8-bf7a-5fba8834ae28</td><td>MBFEvent.BotMessage</td><td>2018-11-12T14:55:53.631+0000</td></tr><tr><td>8mkbRBVLXnqB1DyyZ1pVcZ</td><td>c98c7017-d41a-439b-bcb4-fdb2a0aa5a29</td><td>1f95e546-e68b-11e8-bf7a-5fba8834ae28</td><td>MBFEvent.BotMessage</td><td>2018-11-12T14:56:00.782+0000</td></tr><tr><td>8mkbRBVLXnqB1DyyZ1pVcZ</td><td>8mkbRBVLXnqB1DyyZ1pVcZ|0000721</td><td>55cd7151-e68b-11e8-bf7a-5fba8834ae28</td><td>MBFEvent.UserMessage</td><td>2018-11-12T14:57:47.961+0000</td></tr><tr><td>8mkbRBVLXnqB1DyyZ1pVcZ</td><td>8mkbRBVLXnqB1DyyZ1pVcZ|0000722</td><td>55cd7152-e68b-11e8-bf7a-5fba8834ae28</td><td>MBFEvent.UserMessage</td><td>2018-11-12T14:57:48.356+0000</td></tr><tr><td>8mkbRBVLXnqB1DyyZ1pVcZ</td><td>8mkbRBVLXnqB1DyyZ1pVcZ|0000723</td><td>55cd7153-e68b-11e8-bf7a-5fba8834ae28</td><td>MBFEvent.UserMessage</td><td>2018-11-12T14:57:48.524+0000</td></tr><tr><td>8mkbRBVLXnqB1DyyZ1pVcZ</td><td>8mkbRBVLXnqB1DyyZ1pVcZ|0000721</td><td>55cd7157-e68b-11e8-bf7a-5fba8834ae28</td><td>MBFEvent.BotMessage</td><td>2018-11-12T14:57:50.055+0000</td></tr><tr><td>8mkbRBVLXnqB1DyyZ1pVcZ</td><td>8mkbRBVLXnqB1DyyZ1pVcZ|0000722</td><td>55cd715a-e68b-11e8-bf7a-5fba8834ae28</td><td>MBFEvent.BotMessage</td><td>2018-11-12T14:57:50.673+0000</td></tr><tr><td>8mkbRBVLXnqB1DyyZ1pVcZ</td><td>8mkbRBVLXnqB1DyyZ1pVcZ|0000723</td><td>55cd715f-e68b-11e8-bf7a-5fba8834ae28</td><td>MBFEvent.BotMessage</td><td>2018-11-12T14:57:51.870+0000</td></tr><tr><td>JEBXXIfay3m328mWQLvL0x</td><td>JEBXXIfay3m328mWQLvL0x|0000005</td><td>5acf0b79-e684-11e8-8c74-1df3eaf4721b</td><td>MBFEvent.BotMessage</td><td>2018-11-12T14:07:54.395+0000</td></tr><tr><td>JEBXXIfay3m328mWQLvL0x</td><td>JEBXXIfay3m328mWQLvL0x|0000007</td><td>6ceca600-e684-11e8-96ff-edd2dad4f8c3</td><td>MBFEvent.UserMessage</td><td>2018-11-12T14:08:00.009+0000</td></tr><tr><td>JEBXXIfay3m328mWQLvL0x</td><td>JEBXXIfay3m328mWQLvL0x|0000007</td><td>6ceca605-e684-11e8-96ff-edd2dad4f8c3</td><td>MBFEvent.BotMessage</td><td>2018-11-12T14:08:00.499+0000</td></tr><tr><td>JEBXXIfay3m328mWQLvL0x</td><td>JEBXXIfay3m328mWQLvL0x|0000011</td><td>6ceca606-e684-11e8-96ff-edd2dad4f8c3</td><td>MBFEvent.UserMessage</td><td>2018-11-12T14:08:02.322+0000</td></tr><tr><td>JEBXXIfay3m328mWQLvL0x</td><td>JEBXXIfay3m328mWQLvL0x|0000011</td><td>6ceca607-e684-11e8-96ff-edd2dad4f8c3</td><td>MBFEvent.BotMessage</td><td>2018-11-12T14:08:02.341+0000</td></tr><tr><td>JEBXXIfay3m328mWQLvL0x</td><td>JEBXXIfay3m328mWQLvL0x|0000014</td><td>6ceca609-e684-11e8-96ff-edd2dad4f8c3</td><td>MBFEvent.UserMessage</td><td>2018-11-12T14:08:05.383+0000</td></tr><tr><td>JEBXXIfay3m328mWQLvL0x</td><td>JEBXXIfay3m328mWQLvL0x|0000014</td><td>6ceca610-e684-11e8-96ff-edd2dad4f8c3</td><td>MBFEvent.BotMessage</td><td>2018-11-12T14:08:05.900+0000</td></tr><tr><td>JEBXXIfay3m328mWQLvL0x</td><td>JEBXXIfay3m328mWQLvL0x|0000018</td><td>6ceca611-e684-11e8-96ff-edd2dad4f8c3</td><td>MBFEvent.UserMessage</td><td>2018-11-12T14:08:07.184+0000</td></tr><tr><td>JEBXXIfay3m328mWQLvL0x</td><td>JEBXXIfay3m328mWQLvL0x|0000018</td><td>6ceca617-e684-11e8-96ff-edd2dad4f8c3</td><td>MBFEvent.BotMessage</td><td>2018-11-12T14:08:07.494+0000</td></tr><tr><td>JEBXXIfay3m328mWQLvL0x</td><td>JEBXXIfay3m328mWQLvL0x|0000022</td><td>6ceca61b-e684-11e8-96ff-edd2dad4f8c3</td><td>MBFEvent.UserMessage</td><td>2018-11-12T14:08:11.056+0000</td></tr><tr><td>JEBXXIfay3m328mWQLvL0x</td><td>JEBXXIfay3m328mWQLvL0x|0000022</td><td>6ceca620-e684-11e8-96ff-edd2dad4f8c3</td><td>MBFEvent.BotMessage</td><td>2018-11-12T14:08:11.297+0000</td></tr><tr><td>JEBXXIfay3m328mWQLvL0x</td><td>392fb233-fbee-4e48-87b1-300fd9035e6f</td><td>6ceca623-e684-11e8-96ff-edd2dad4f8c3</td><td>MBFEvent.BotMessage</td><td>2018-11-12T14:08:22.233+0000</td></tr><tr><td>JEBXXIfay3m328mWQLvL0x</td><td>JEBXXIfay3m328mWQLvL0x|0000027</td><td>7eef3e80-e684-11e8-a351-0f405d5c52f9</td><td>MBFEvent.UserMessage</td><td>2018-11-12T14:08:42.463+0000</td></tr><tr><td>JEBXXIfay3m328mWQLvL0x</td><td>JEBXXIfay3m328mWQLvL0x|0000027</td><td>7eef3e87-e684-11e8-a351-0f405d5c52f9</td><td>MBFEvent.BotMessage</td><td>2018-11-12T14:08:43.759+0000</td></tr><tr><td>JEBXXIfay3m328mWQLvL0x</td><td>JEBXXIfay3m328mWQLvL0x|0000031</td><td>7eef3e88-e684-11e8-a351-0f405d5c52f9</td><td>MBFEvent.UserMessage</td><td>2018-11-12T14:08:45.699+0000</td></tr><tr><td>JEBXXIfay3m328mWQLvL0x</td><td>JEBXXIfay3m328mWQLvL0x|0000031</td><td>7eef3e8e-e684-11e8-a351-0f405d5c52f9</td><td>MBFEvent.BotMessage</td><td>2018-11-12T14:08:46.042+0000</td></tr><tr><td>JEBXXIfay3m328mWQLvL0x</td><td>JEBXXIfay3m328mWQLvL0x|0000035</td><td>7eef3e92-e684-11e8-a351-0f405d5c52f9</td><td>MBFEvent.UserMessage</td><td>2018-11-12T14:08:50.119+0000</td></tr><tr><td>JEBXXIfay3m328mWQLvL0x</td><td>JEBXXIfay3m328mWQLvL0x|0000035</td><td>7eef3e97-e684-11e8-a351-0f405d5c52f9</td><td>MBFEvent.BotMessage</td><td>2018-11-12T14:08:50.499+0000</td></tr><tr><td>JEBXXIfay3m328mWQLvL0x</td><td>JEBXXIfay3m328mWQLvL0x|0000039</td><td>7eef3e99-e684-11e8-a351-0f405d5c52f9</td><td>MBFEvent.UserMessage</td><td>2018-11-12T14:08:53.465+0000</td></tr><tr><td>JEBXXIfay3m328mWQLvL0x</td><td>JEBXXIfay3m328mWQLvL0x|0000039</td><td>7eef3ea0-e684-11e8-a351-0f405d5c52f9</td><td>MBFEvent.BotMessage</td><td>2018-11-12T14:08:54.058+0000</td></tr><tr><td>JEBXXIfay3m328mWQLvL0x</td><td>JEBXXIfay3m328mWQLvL0x|0000043</td><td>9179f2c1-e684-11e8-8c74-1df3eaf4721b</td><td>MBFEvent.UserMessage</td><td>2018-11-12T14:09:15.401+0000</td></tr><tr><td>JEBXXIfay3m328mWQLvL0x</td><td>JEBXXIfay3m328mWQLvL0x|0000043</td><td>9179f2c7-e684-11e8-8c74-1df3eaf4721b</td><td>MBFEvent.BotMessage</td><td>2018-11-12T14:09:18.227+0000</td></tr><tr><td>JEBXXIfay3m328mWQLvL0x</td><td>JEBXXIfay3m328mWQLvL0x|0000047</td><td>9179f2d0-e684-11e8-8c74-1df3eaf4721b</td><td>MBFEvent.UserMessage</td><td>2018-11-12T14:09:27.449+0000</td></tr><tr><td>JEBXXIfay3m328mWQLvL0x</td><td>JEBXXIfay3m328mWQLvL0x|0000047</td><td>a3dc5e80-e684-11e8-a351-0f405d5c52f9</td><td>MBFEvent.BotMessage</td><td>2018-11-12T14:09:28.110+0000</td></tr><tr><td>JEBXXIfay3m328mWQLvL0x</td><td>3e7f3583-d408-4240-87f1-df50c2e223aa</td><td>a3dc5e8b-e684-11e8-a351-0f405d5c52f9</td><td>MBFEvent.BotMessage</td><td>2018-11-12T14:09:39.859+0000</td></tr><tr><td>JEBXXIfay3m328mWQLvL0x</td><td>JEBXXIfay3m328mWQLvL0x|0000058</td><td>a3dc5e8d-e684-11e8-a351-0f405d5c52f9</td><td>MBFEvent.UserMessage</td><td>2018-11-12T14:09:51.613+0000</td></tr><tr><td>JEBXXIfay3m328mWQLvL0x</td><td>JEBXXIfay3m328mWQLvL0x|0000058</td><td>a3dc5e98-e684-11e8-a351-0f405d5c52f9</td><td>MBFEvent.BotMessage</td><td>2018-11-12T14:09:52.197+0000</td></tr><tr><td>JEBXXIfay3m328mWQLvL0x</td><td>JEBXXIfay3m328mWQLvL0x|0000062</td><td>a3dc5e9a-e684-11e8-a351-0f405d5c52f9</td><td>MBFEvent.UserMessage</td><td>2018-11-12T14:09:53.702+0000</td></tr><tr><td>JEBXXIfay3m328mWQLvL0x</td><td>JEBXXIfay3m328mWQLvL0x|0000062</td><td>a3dc5ea0-e684-11e8-a351-0f405d5c52f9</td><td>MBFEvent.BotMessage</td><td>2018-11-12T14:09:53.873+0000</td></tr><tr><td>JEBXXIfay3m328mWQLvL0x</td><td>JEBXXIfay3m328mWQLvL0x|0000066</td><td>a3dc5ea7-e684-11e8-a351-0f405d5c52f9</td><td>MBFEvent.UserMessage</td><td>2018-11-12T14:09:57.195+0000</td></tr><tr><td>JEBXXIfay3m328mWQLvL0x</td><td>JEBXXIfay3m328mWQLvL0x|0000066</td><td>a3dc5eac-e684-11e8-a351-0f405d5c52f9</td><td>MBFEvent.BotMessage</td><td>2018-11-12T14:09:57.460+0000</td></tr><tr><td>JEBXXIfay3m328mWQLvL0x</td><td>f8ea6149-50fa-43e2-afe6-b1ca54e2c149</td><td>a3dc5eaf-e684-11e8-a351-0f405d5c52f9</td><td>MBFEvent.BotMessage</td><td>2018-11-12T14:09:58.844+0000</td></tr><tr><td>JEBXXIfay3m328mWQLvL0x</td><td>422fb175-b8c1-4c24-acc3-7a4f468f23c5</td><td>b5edc410-e684-11e8-8c74-1df3eaf4721b</td><td>MBFEvent.BotMessage</td><td>2018-11-12T14:09:59.362+0000</td></tr><tr><td>JEBXXIfay3m328mWQLvL0x</td><td>9826c4ff-8843-4e51-b754-7da14d65986d</td><td>b5edc412-e684-11e8-8c74-1df3eaf4721b</td><td>MBFEvent.BotMessage</td><td>2018-11-12T14:09:59.709+0000</td></tr><tr><td>JEBXXIfay3m328mWQLvL0x</td><td>ae499da3-9b97-433c-8cff-2ece2f72bb59</td><td>b5edc414-e684-11e8-8c74-1df3eaf4721b</td><td>MBFEvent.BotMessage</td><td>2018-11-12T14:10:08.014+0000</td></tr><tr><td>JEBXXIfay3m328mWQLvL0x</td><td>JEBXXIfay3m328mWQLvL0x|0000079</td><td>d9c8fee7-e684-11e8-a351-0f405d5c52f9</td><td>MBFEvent.UserMessage</td><td>2018-11-12T14:11:23.063+0000</td></tr><tr><td>JEBXXIfay3m328mWQLvL0x</td><td>JEBXXIfay3m328mWQLvL0x|0000079</td><td>d9c8feee-e684-11e8-a351-0f405d5c52f9</td><td>MBFEvent.BotMessage</td><td>2018-11-12T14:11:23.701+0000</td></tr><tr><td>JEBXXIfay3m328mWQLvL0x</td><td>JEBXXIfay3m328mWQLvL0x|0000083</td><td>d9c8feef-e684-11e8-a351-0f405d5c52f9</td><td>MBFEvent.UserMessage</td><td>2018-11-12T14:11:24.809+0000</td></tr><tr><td>JEBXXIfay3m328mWQLvL0x</td><td>JEBXXIfay3m328mWQLvL0x|0000083</td><td>d9c8fef5-e684-11e8-a351-0f405d5c52f9</td><td>MBFEvent.BotMessage</td><td>2018-11-12T14:11:24.898+0000</td></tr><tr><td>JEBXXIfay3m328mWQLvL0x</td><td>JEBXXIfay3m328mWQLvL0x|0000087</td><td>d9c8fef9-e684-11e8-a351-0f405d5c52f9</td><td>MBFEvent.UserMessage</td><td>2018-11-12T14:11:28.433+0000</td></tr><tr><td>JEBXXIfay3m328mWQLvL0x</td><td>JEBXXIfay3m328mWQLvL0x|0000087</td><td>d9c8fefe-e684-11e8-a351-0f405d5c52f9</td><td>MBFEvent.BotMessage</td><td>2018-11-12T14:11:28.678+0000</td></tr><tr><td>JEBXXIfay3m328mWQLvL0x</td><td>69e31510-8612-4904-b5a9-b50c22bd6a3e</td><td>ebbfb081-e684-11e8-96ff-edd2dad4f8c3</td><td>MBFEvent.BotMessage</td><td>2018-11-12T14:11:30.348+0000</td></tr><tr><td>JEBXXIfay3m328mWQLvL0x</td><td>fa3aff73-0b2f-4576-878e-3942abeae519</td><td>ebbfb083-e684-11e8-96ff-edd2dad4f8c3</td><td>MBFEvent.BotMessage</td><td>2018-11-12T14:11:30.898+0000</td></tr><tr><td>JEBXXIfay3m328mWQLvL0x</td><td>74b00af7-6e47-4b91-80e9-f4a1fa8e3912</td><td>ebbfb085-e684-11e8-96ff-edd2dad4f8c3</td><td>MBFEvent.BotMessage</td><td>2018-11-12T14:11:31.260+0000</td></tr><tr><td>JEBXXIfay3m328mWQLvL0x</td><td>c686acc7-e018-4927-8c3b-b13ee86b9fbb</td><td>ebbfb089-e684-11e8-96ff-edd2dad4f8c3</td><td>MBFEvent.BotMessage</td><td>2018-11-12T14:11:39.248+0000</td></tr><tr><td>JEBXXIfay3m328mWQLvL0x</td><td>7c99df05-7bef-4cf9-932d-0332c943a0c5</td><td>40690273-e686-11e8-a351-0f405d5c52f9</td><td>MBFEvent.BotMessage</td><td>2018-11-12T14:21:16.103+0000</td></tr><tr><td>JEBXXIfay3m328mWQLvL0x</td><td>a79ee67a-bff4-4cc0-881b-a1f50e189d3c</td><td>40690275-e686-11e8-a351-0f405d5c52f9</td><td>MBFEvent.BotMessage</td><td>2018-11-12T14:21:16.813+0000</td></tr><tr><td>JEBXXIfay3m328mWQLvL0x</td><td>8a08ca51-734a-427a-a2ac-35fde78efed7</td><td>40690277-e686-11e8-a351-0f405d5c52f9</td><td>MBFEvent.BotMessage</td><td>2018-11-12T14:21:17.188+0000</td></tr><tr><td>JEBXXIfay3m328mWQLvL0x</td><td>7f460150-3f52-4c02-8833-f3beda381cfe</td><td>526e8121-e686-11e8-96ff-edd2dad4f8c3</td><td>MBFEvent.BotMessage</td><td>2018-11-12T14:21:47.905+0000</td></tr><tr><td>JEBXXIfay3m328mWQLvL0x</td><td>a081317f-e15c-4904-a44e-8ae862b6676f</td><td>526e8123-e686-11e8-96ff-edd2dad4f8c3</td><td>MBFEvent.BotMessage</td><td>2018-11-12T14:21:48.461+0000</td></tr><tr><td>JEBXXIfay3m328mWQLvL0x</td><td>55faa936-6b3f-4d40-968a-e53eb8d0353c</td><td>526e8125-e686-11e8-96ff-edd2dad4f8c3</td><td>MBFEvent.BotMessage</td><td>2018-11-12T14:21:48.867+0000</td></tr><tr><td>JEBXXIfay3m328mWQLvL0x</td><td>0e261a00-8c8a-48bf-be35-d85b5b1e237b</td><td>76b9bbd1-e686-11e8-a351-0f405d5c52f9</td><td>MBFEvent.BotMessage</td><td>2018-11-12T14:23:01.216+0000</td></tr><tr><td>JEBXXIfay3m328mWQLvL0x</td><td>6836023a-606c-4727-a238-a57defa22cfd</td><td>76b9bbd3-e686-11e8-a351-0f405d5c52f9</td><td>MBFEvent.BotMessage</td><td>2018-11-12T14:23:01.684+0000</td></tr><tr><td>JEBXXIfay3m328mWQLvL0x</td><td>fb41e352-e965-46c1-acb8-0651f0416829</td><td>76b9bbd5-e686-11e8-a351-0f405d5c52f9</td><td>MBFEvent.BotMessage</td><td>2018-11-12T14:23:02.122+0000</td></tr><tr><td>JEBXXIfay3m328mWQLvL0x</td><td>b194fb14-b80d-4c60-9261-9034f7903744</td><td>88e53911-e686-11e8-bf7a-5fba8834ae28</td><td>MBFEvent.BotMessage</td><td>2018-11-12T14:23:18.984+0000</td></tr><tr><td>JEBXXIfay3m328mWQLvL0x</td><td>328a8237-19cb-41a6-8d5a-c3415d5c6585</td><td>88e53913-e686-11e8-bf7a-5fba8834ae28</td><td>MBFEvent.BotMessage</td><td>2018-11-12T14:23:19.602+0000</td></tr><tr><td>JEBXXIfay3m328mWQLvL0x</td><td>e1463df4-c214-4b73-8491-3aa484595f7c</td><td>88e53915-e686-11e8-bf7a-5fba8834ae28</td><td>MBFEvent.BotMessage</td><td>2018-11-12T14:23:20.132+0000</td></tr><tr><td>JEBXXIfay3m328mWQLvL0x</td><td>JEBXXIfay3m328mWQLvL0x|0000156</td><td>fbf02440-e688-11e8-a351-0f405d5c52f9</td><td>MBFEvent.UserMessage</td><td>2018-11-12T14:41:01.893+0000</td></tr><tr><td>JEBXXIfay3m328mWQLvL0x</td><td>JEBXXIfay3m328mWQLvL0x|0000156</td><td>fbf02447-e688-11e8-a351-0f405d5c52f9</td><td>MBFEvent.BotMessage</td><td>2018-11-12T14:41:02.928+0000</td></tr><tr><td>JEBXXIfay3m328mWQLvL0x</td><td>JEBXXIfay3m328mWQLvL0x|0000160</td><td>fbf02448-e688-11e8-a351-0f405d5c52f9</td><td>MBFEvent.UserMessage</td><td>2018-11-12T14:41:04.333+0000</td></tr><tr><td>JEBXXIfay3m328mWQLvL0x</td><td>JEBXXIfay3m328mWQLvL0x|0000160</td><td>fbf0244e-e688-11e8-a351-0f405d5c52f9</td><td>MBFEvent.BotMessage</td><td>2018-11-12T14:41:04.457+0000</td></tr><tr><td>JEBXXIfay3m328mWQLvL0x</td><td>JEBXXIfay3m328mWQLvL0x|0000164</td><td>0eaff243-e689-11e8-8c74-1df3eaf4721b</td><td>MBFEvent.UserMessage</td><td>2018-11-12T14:41:08.017+0000</td></tr><tr><td>JEBXXIfay3m328mWQLvL0x</td><td>JEBXXIfay3m328mWQLvL0x|0000164</td><td>0eaff248-e689-11e8-8c74-1df3eaf4721b</td><td>MBFEvent.BotMessage</td><td>2018-11-12T14:41:08.323+0000</td></tr><tr><td>JEBXXIfay3m328mWQLvL0x</td><td>cc9e5dc6-4eb1-4217-8bb4-11ea6e5d7028</td><td>0eaff24b-e689-11e8-8c74-1df3eaf4721b</td><td>MBFEvent.BotMessage</td><td>2018-11-12T14:41:19.141+0000</td></tr><tr><td>JEBXXIfay3m328mWQLvL0x</td><td>59b45c9b-43d6-40fe-91ae-b16d9f10e0f8</td><td>0eaff24d-e689-11e8-8c74-1df3eaf4721b</td><td>MBFEvent.BotMessage</td><td>2018-11-12T14:41:19.896+0000</td></tr><tr><td>JEBXXIfay3m328mWQLvL0x</td><td>a48a27ff-7fd7-4f58-bcd9-ccac4722dc56</td><td>0eaff24f-e689-11e8-8c74-1df3eaf4721b</td><td>MBFEvent.BotMessage</td><td>2018-11-12T14:41:20.464+0000</td></tr><tr><td>JEBXXIfay3m328mWQLvL0x</td><td>JEBXXIfay3m328mWQLvL0x|0000183</td><td>8c6e5877-e689-11e8-a351-0f405d5c52f9</td><td>MBFEvent.UserMessage</td><td>2018-11-12T14:45:06.548+0000</td></tr><tr><td>JEBXXIfay3m328mWQLvL0x</td><td>JEBXXIfay3m328mWQLvL0x|0000183</td><td>9e86c2e4-e689-11e8-a351-0f405d5c52f9</td><td>MBFEvent.BotMessage</td><td>2018-11-12T14:45:07.398+0000</td></tr><tr><td>JEBXXIfay3m328mWQLvL0x</td><td>JEBXXIfay3m328mWQLvL0x|0000187</td><td>9e86c2e5-e689-11e8-a351-0f405d5c52f9</td><td>MBFEvent.UserMessage</td><td>2018-11-12T14:45:10.292+0000</td></tr><tr><td>JEBXXIfay3m328mWQLvL0x</td><td>JEBXXIfay3m328mWQLvL0x|0000187</td><td>9e86c2eb-e689-11e8-a351-0f405d5c52f9</td><td>MBFEvent.BotMessage</td><td>2018-11-12T14:45:10.417+0000</td></tr><tr><td>JEBXXIfay3m328mWQLvL0x</td><td>JEBXXIfay3m328mWQLvL0x|0000191</td><td>9e86c2ef-e689-11e8-a351-0f405d5c52f9</td><td>MBFEvent.UserMessage</td><td>2018-11-12T14:45:14.478+0000</td></tr><tr><td>JEBXXIfay3m328mWQLvL0x</td><td>JEBXXIfay3m328mWQLvL0x|0000191</td><td>9e86c2f4-e689-11e8-a351-0f405d5c52f9</td><td>MBFEvent.BotMessage</td><td>2018-11-12T14:45:14.781+0000</td></tr><tr><td>JEBXXIfay3m328mWQLvL0x</td><td>735818e5-26ff-45bb-a750-a87a00cc71a3</td><td>9e86c2f7-e689-11e8-a351-0f405d5c52f9</td><td>MBFEvent.BotMessage</td><td>2018-11-12T14:45:25.621+0000</td></tr><tr><td>JEBXXIfay3m328mWQLvL0x</td><td>08843008-2ff0-4f23-bcf5-eb7741d318f1</td><td>9e86c2f9-e689-11e8-a351-0f405d5c52f9</td><td>MBFEvent.BotMessage</td><td>2018-11-12T14:45:26.785+0000</td></tr><tr><td>JEBXXIfay3m328mWQLvL0x</td><td>4e02047c-d544-495c-92f8-f4e8aef01219</td><td>9e86c2fb-e689-11e8-a351-0f405d5c52f9</td><td>MBFEvent.BotMessage</td><td>2018-11-12T14:45:27.342+0000</td></tr><tr><td>JEBXXIfay3m328mWQLvL0x</td><td>JEBXXIfay3m328mWQLvL0x|0000204</td><td>0a9e9340-e68a-11e8-a351-0f405d5c52f9</td><td>MBFEvent.UserMessage</td><td>2018-11-12T14:48:19.729+0000</td></tr><tr><td>JEBXXIfay3m328mWQLvL0x</td><td>JEBXXIfay3m328mWQLvL0x|0000204</td><td>0a9e9347-e68a-11e8-a351-0f405d5c52f9</td><td>MBFEvent.BotMessage</td><td>2018-11-12T14:48:20.438+0000</td></tr><tr><td>JEBXXIfay3m328mWQLvL0x</td><td>JEBXXIfay3m328mWQLvL0x|0000208</td><td>0a9e9348-e68a-11e8-a351-0f405d5c52f9</td><td>MBFEvent.UserMessage</td><td>2018-11-12T14:48:25.938+0000</td></tr><tr><td>JEBXXIfay3m328mWQLvL0x</td><td>JEBXXIfay3m328mWQLvL0x|0000208</td><td>0a9e934e-e68a-11e8-a351-0f405d5c52f9</td><td>MBFEvent.BotMessage</td><td>2018-11-12T14:48:26.093+0000</td></tr><tr><td>JEBXXIfay3m328mWQLvL0x</td><td>JEBXXIfay3m328mWQLvL0x|0000212</td><td>0a9e9352-e68a-11e8-a351-0f405d5c52f9</td><td>MBFEvent.UserMessage</td><td>2018-11-12T14:48:29.986+0000</td></tr><tr><td>JEBXXIfay3m328mWQLvL0x</td><td>JEBXXIfay3m328mWQLvL0x|0000212</td><td>0a9e9357-e68a-11e8-a351-0f405d5c52f9</td><td>MBFEvent.BotMessage</td><td>2018-11-12T14:48:30.309+0000</td></tr><tr><td>JEBXXIfay3m328mWQLvL0x</td><td>62513ac2-e19a-4d9d-b7ab-52ba32510ba3</td><td>1ca634d1-e68a-11e8-96ff-edd2dad4f8c3</td><td>MBFEvent.BotMessage</td><td>2018-11-12T14:48:43.709+0000</td></tr><tr><td>JEBXXIfay3m328mWQLvL0x</td><td>02afc14c-07be-4840-88fd-fd808619935b</td><td>1ca634d3-e68a-11e8-96ff-edd2dad4f8c3</td><td>MBFEvent.BotMessage</td><td>2018-11-12T14:48:44.406+0000</td></tr><tr><td>JEBXXIfay3m328mWQLvL0x</td><td>d734d340-39c2-45a4-9079-7013ef471c02</td><td>1ca634d5-e68a-11e8-96ff-edd2dad4f8c3</td><td>MBFEvent.BotMessage</td><td>2018-11-12T14:48:44.942+0000</td></tr><tr><td>JEBXXIfay3m328mWQLvL0x</td><td>JEBXXIfay3m328mWQLvL0x|0000225</td><td>7a825fc0-e68a-11e8-a351-0f405d5c52f9</td><td>MBFEvent.UserMessage</td><td>2018-11-12T14:51:11.870+0000</td></tr><tr><td>JEBXXIfay3m328mWQLvL0x</td><td>JEBXXIfay3m328mWQLvL0x|0000225</td><td>7a825fc7-e68a-11e8-a351-0f405d5c52f9</td><td>MBFEvent.BotMessage</td><td>2018-11-12T14:51:12.979+0000</td></tr><tr><td>JEBXXIfay3m328mWQLvL0x</td><td>JEBXXIfay3m328mWQLvL0x|0000229</td><td>7a825fc8-e68a-11e8-a351-0f405d5c52f9</td><td>MBFEvent.UserMessage</td><td>2018-11-12T14:51:17.367+0000</td></tr><tr><td>JEBXXIfay3m328mWQLvL0x</td><td>JEBXXIfay3m328mWQLvL0x|0000229</td><td>7a825fce-e68a-11e8-a351-0f405d5c52f9</td><td>MBFEvent.BotMessage</td><td>2018-11-12T14:51:17.789+0000</td></tr><tr><td>JEBXXIfay3m328mWQLvL0x</td><td>JEBXXIfay3m328mWQLvL0x|0000233</td><td>7a825fd2-e68a-11e8-a351-0f405d5c52f9</td><td>MBFEvent.UserMessage</td><td>2018-11-12T14:51:21.390+0000</td></tr><tr><td>JEBXXIfay3m328mWQLvL0x</td><td>JEBXXIfay3m328mWQLvL0x|0000233</td><td>7a825fd7-e68a-11e8-a351-0f405d5c52f9</td><td>MBFEvent.BotMessage</td><td>2018-11-12T14:51:21.772+0000</td></tr><tr><td>JEBXXIfay3m328mWQLvL0x</td><td>9358825d-3b59-4a13-855f-fcb537a726f6</td><td>8c8ee354-e68a-11e8-a351-0f405d5c52f9</td><td>MBFEvent.BotMessage</td><td>2018-11-12T14:52:08.528+0000</td></tr><tr><td>JEBXXIfay3m328mWQLvL0x</td><td>2ebaf253-5cad-4561-9c43-14355c3d0249</td><td>8c8ee357-e68a-11e8-a351-0f405d5c52f9</td><td>MBFEvent.BotMessage</td><td>2018-11-12T14:52:08.887+0000</td></tr><tr><td>JEBXXIfay3m328mWQLvL0x</td><td>a9839f64-ec5d-44c0-b224-04d902d6a44c</td><td>8c8ee358-e68a-11e8-a351-0f405d5c52f9</td><td>MBFEvent.BotMessage</td><td>2018-11-12T14:52:08.887+0000</td></tr><tr><td>JEBXXIfay3m328mWQLvL0x</td><td>JEBXXIfay3m328mWQLvL0x|0000246</td><td>d48c9b2e-e68a-11e8-96ff-edd2dad4f8c3</td><td>MBFEvent.UserMessage</td><td>2018-11-12T14:54:09.171+0000</td></tr><tr><td>JEBXXIfay3m328mWQLvL0x</td><td>JEBXXIfay3m328mWQLvL0x|0000246</td><td>d48c9b38-e68a-11e8-96ff-edd2dad4f8c3</td><td>MBFEvent.BotMessage</td><td>2018-11-12T14:54:10.196+0000</td></tr><tr><td>JEBXXIfay3m328mWQLvL0x</td><td>JEBXXIfay3m328mWQLvL0x|0000250</td><td>e90e8b82-e68a-11e8-96ff-edd2dad4f8c3</td><td>MBFEvent.UserMessage</td><td>2018-11-12T14:54:28.505+0000</td></tr><tr><td>JEBXXIfay3m328mWQLvL0x</td><td>JEBXXIfay3m328mWQLvL0x|0000250</td><td>e90e8b8e-e68a-11e8-96ff-edd2dad4f8c3</td><td>MBFEvent.BotMessage</td><td>2018-11-12T14:54:29.298+0000</td></tr><tr><td>JEBXXIfay3m328mWQLvL0x</td><td>JEBXXIfay3m328mWQLvL0x|0000254</td><td>e90e8b93-e68a-11e8-96ff-edd2dad4f8c3</td><td>MBFEvent.UserMessage</td><td>2018-11-12T14:54:34.277+0000</td></tr><tr><td>JEBXXIfay3m328mWQLvL0x</td><td>JEBXXIfay3m328mWQLvL0x|0000254</td><td>e90e8b9a-e68a-11e8-96ff-edd2dad4f8c3</td><td>MBFEvent.BotMessage</td><td>2018-11-12T14:54:34.931+0000</td></tr><tr><td>JEBXXIfay3m328mWQLvL0x</td><td>2aa81d16-773a-4724-adf2-3fe05909ba24</td><td>fb0f2831-e68a-11e8-96ff-edd2dad4f8c3</td><td>MBFEvent.BotMessage</td><td>2018-11-12T14:54:52.680+0000</td></tr><tr><td>JEBXXIfay3m328mWQLvL0x</td><td>0b7dab48-7c1e-415b-8093-6b11b98095bc</td><td>0d572e21-e68b-11e8-a351-0f405d5c52f9</td><td>MBFEvent.BotMessage</td><td>2018-11-12T14:55:34.613+0000</td></tr></tbody></table></div>"
      ]
     },
     "metadata": {},
     "output_type": "display_data"
    }
   ],
   "source": [
    "#DATAFRAME with ONLY userMessages and botMessage for calculating responseTime\n",
    "df_bot_messages = spark.sql(\" \\\n",
    "          SELECT A.ConversationId, A.ActivityId, A.eventName, A.itemId,  A.eventTime \\\n",
    "          FROM allEvents A \\\n",
    "          INNER JOIN ( \\\n",
    "                            SELECT AA.itemId, AA.ActivityId \\\n",
    "                            FROM allEvents AA \\\n",
    "                            INNER JOIN ( \\\n",
    "                                        SELECT ActivityId ,min(eventTime) as eventTime \\\n",
    "                                        FROM allEvents \\\n",
    "                                        WHERE eventName = 'MBFEvent.BotMessage' and ActivityId is not null \\\n",
    "                                        GROUP BY ActivityId \\\n",
    "                                    ) BB \\\n",
    "                              on AA.ActivityId = BB.ActivityId and AA.eventTime = BB.eventTime \\\n",
    "                            GROUP BY AA.itemId, AA.ActivityId \\\n",
    "                    ) B \\\n",
    "           ON A.ActivityId = B.ActivityId and A.itemId = B.itemId \\\n",
    "           WHERE A.eventName = 'MBFEvent.BotMessage' \\\n",
    "          \")\n",
    "\n",
    "df_user_messages = spark.sql(\" \\\n",
    "          SELECT A.ConversationId, A.ActivityId, A.eventName, A.itemId, B.eventTime \\\n",
    "          FROM allEvents as A \\\n",
    "          INNER JOIN ( \\\n",
    "                      SELECT itemId, ActivityId ,min(eventTime) as eventTime \\\n",
    "                      FROM allEvents B \\\n",
    "                       WHERE eventName = 'MBFEvent.UserMessage' and ActivityId is not null \\\n",
    "                      GROUP BY itemId, ActivityId \\\n",
    "                  ) B \\\n",
    "          ON A.itemId = B.itemId \\\n",
    "\t       \")\n",
    "\n",
    "df_all_messages = df_bot_messages.union(df_user_messages).orderBy('ConversationId', 'activityId', 'eventTime', 'itemId')\n",
    "\n",
    "# TimeDiff between UserMessage and BotMessage and insert botTimeDuration in df_2_time new dataframe\n",
    "df_all_messages = df_all_messages.select(\"ConversationId\",\"ActivityId\",\"itemId\",\"eventName\",\"eventTime\").orderBy(\"conversationid\",\"eventTime\")\n",
    "display(df_all_messages)"
   ]
  },
  {
   "cell_type": "code",
   "execution_count": null,
   "metadata": {},
   "outputs": [],
   "source": [
    "time_window = Window.partitionBy(\"activityId\").orderBy(\"ActivityId\", \"eventTime\")\n",
    "df_all_messages = df_all_messages.withColumn(\"prev_time\", F.lag(df_all_messages.eventTime).over(time_window))\n",
    "df_all_messages = df_all_messages.withColumn(\"eventTime\", df_all_messages[\"eventTime\"].cast(TimestampType()))\n",
    "df_all_messages = df_all_messages.withColumn(\"prev_time\", df_all_messages[\"prev_time\"].cast(TimestampType()))\n",
    "df_all_messages = df_all_messages.withColumn(\"BotAnswerDuration\", func_udf(df_all_messages[\"prev_time\"], df_all_messages[\"eventTime\"]))\n",
    "# df_all_messages = df_all_messages.withColumn(\"BotAnswerDuration\", func_udf(df_all_messages[\"BotAnswerDuration\"], df_all_messages[\"apiTimeDiff\"]))\n",
    "df_all_messages = df_all_messages.withColumn(\"EventTimePrevious\", to_timestamp(df_all_messages[\"prev_time\"]) ) #add column with Date of Previous Message, to do mapping of field also in DW\n",
    "#display(df_all_messages).groupby('ConversationId', 'ActivityId').select(['*'])\n",
    "df_with_BotTimeDuration = df_all_messages.select('itemId', 'BotAnswerDuration', 'EventTimePrevious').where(col(\"BotAnswerDuration\").isNotNull())\n",
    "\n",
    "#insert BotTimeDuration to a new dataframe\n",
    "df_2_time = df_allEvents.join(df_with_BotTimeDuration, 'itemId', 'left')\n",
    "display(df_2_time)\n",
    "#display(df_2_time.filter(df_2_time.activityId == 'JEBXXIfay3m328mWQLvL0x|0000160').select('eventName', 'eventTime', 'BotAnswerDuration', 'apiTimeDiff', 'EventTimePrevious'))"
   ]
  },
  {
   "cell_type": "code",
   "execution_count": 28,
   "metadata": {},
   "outputs": [
    {
     "data": {
      "text/html": [
       "<style scoped>\n",
       "  .ansiout {\n",
       "    display: block;\n",
       "    unicode-bidi: embed;\n",
       "    white-space: pre-wrap;\n",
       "    word-wrap: break-word;\n",
       "    word-break: break-all;\n",
       "    font-family: \"Source Code Pro\", \"Menlo\", monospace;;\n",
       "    font-size: 13px;\n",
       "    color: #555;\n",
       "    margin-left: 4px;\n",
       "    line-height: 19px;\n",
       "  }\n",
       "</style>\n",
       "<div class=\"ansiout\"><span class=\"ansired\">Out[</span><span class=\"ansired\">152</span><span class=\"ansired\">]: </span>&apos;METTERE QUESTA SOTTO (df_5_final) SOLAMENTE SE VOGLIO CAMBIARE I NULL DI APITIMEDIFF CON DEGLI ZERO&apos;\n",
       "</div>"
      ]
     },
     "metadata": {},
     "output_type": "display_data"
    }
   ],
   "source": [
    "#PREPARE DATA TO BE WRITTEN ENRICHED DATA INTO DWH Tables and STORE it in Databricks TABLES\n",
    "df_3_final = df_2_time\n",
    "df_3_final = df_3_final.withColumn('eventdate', df_3_final['eventTime'].cast('string').substr(1,10)) #cast from date to string and take left 10 characters to have a string in format \"yyyy-mm-dd\"\n",
    "df_3_final = df_3_final.withColumn(\"DateUTCInsertRow\", from_utc_timestamp(F.lit(current_timestamp()),\"Europe/Rome\"))\n",
    "\n",
    "\n",
    "#2018-11-05 Simone/Federico\n",
    "from types import ClassType\n",
    "ClassType(1)\n",
    "from pyspark.sql.functions import UserDefinedFunction\n",
    "from pyspark.sql.types import StringType, NullType\n",
    "udf_to_float = UserDefinedFunction(lambda x: float(0) if ClassType(x) != float else x, FloatType() )    \n",
    "df_4_final = df_3_final.select(*[udf_to_float(column).alias('BotAnswerDuration') if column == 'BotAnswerDuration' else column for column in df_3_final.columns])\n",
    "\"\"\"METTERE QUESTA SOTTO (df_5_final) SOLAMENTE SE VOGLIO CAMBIARE I NULL DI APITIMEDIFF CON DEGLI ZERO\"\"\"\n",
    "#df_5_final = df_4_final.select(*[udf_to_float(column).alias('apiTimeDiff') if column == 'apiTimeDiff' else column for column in df_4_final.columns])#\n",
    "#2018-11-05 Simone/Federico    "
   ]
  },
  {
   "cell_type": "code",
   "execution_count": 29,
   "metadata": {},
   "outputs": [
    {
     "data": {
      "text/html": [
       "<style scoped>\n",
       "  .ansiout {\n",
       "    display: block;\n",
       "    unicode-bidi: embed;\n",
       "    white-space: pre-wrap;\n",
       "    word-wrap: break-word;\n",
       "    word-break: break-all;\n",
       "    font-family: \"Source Code Pro\", \"Menlo\", monospace;;\n",
       "    font-size: 13px;\n",
       "    color: #555;\n",
       "    margin-left: 4px;\n",
       "    line-height: 19px;\n",
       "  }\n",
       "</style>\n",
       "<div class=\"ansiout\"><span class=\"ansired\">Out[</span><span class=\"ansired\">153</span><span class=\"ansired\">]: </span>921\n",
       "</div>"
      ]
     },
     "metadata": {},
     "output_type": "display_data"
    }
   ],
   "source": [
    "df_2_time.count()   #vengono creati ERRONAMENTE PIù RECORD col windowing. Debuggare"
   ]
  },
  {
   "cell_type": "markdown",
   "metadata": {},
   "source": [
    "###### Selection of records in df_4_final having BotAnswerDuration > 0"
   ]
  },
  {
   "cell_type": "code",
   "execution_count": 31,
   "metadata": {},
   "outputs": [
    {
     "data": {
      "text/html": [
       "<style scoped>\n",
       "  .ansiout {\n",
       "    display: block;\n",
       "    unicode-bidi: embed;\n",
       "    white-space: pre-wrap;\n",
       "    word-wrap: break-word;\n",
       "    word-break: break-all;\n",
       "    font-family: \"Source Code Pro\", \"Menlo\", monospace;;\n",
       "    font-size: 13px;\n",
       "    color: #555;\n",
       "    margin-left: 4px;\n",
       "    line-height: 19px;\n",
       "  }\n",
       "</style>\n",
       "<div class=\"ansiout\"><span class=\"ansired\">Out[</span><span class=\"ansired\">154</span><span class=\"ansired\">]: </span>921\n",
       "</div>"
      ]
     },
     "metadata": {},
     "output_type": "display_data"
    }
   ],
   "source": [
    "df_4_final.count()"
   ]
  },
  {
   "cell_type": "code",
   "execution_count": 32,
   "metadata": {},
   "outputs": [
    {
     "data": {
      "text/html": [
       "<style scoped>\n",
       "  .table-result-container {\n",
       "    max-height: 300px;\n",
       "    overflow: auto;\n",
       "  }\n",
       "  table, th, td {\n",
       "    border: 1px solid black;\n",
       "    border-collapse: collapse;\n",
       "  }\n",
       "  th, td {\n",
       "    padding: 5px;\n",
       "  }\n",
       "  th {\n",
       "    text-align: left;\n",
       "  }\n",
       "</style><div class='table-result-container'><table class='table-result'><thead style='background-color: white'><tr><th>botConversationId</th><th>botActivityId</th><th>botEventName</th><th>botBotAnswerDuration</th><th>botApiTimeDiff</th><th>botEventTime</th><th>botStartTimeAPICall</th><th>botEndTimeAPICall</th></tr></thead><tbody><tr><td>777Qsjs3i8qJyBr95zABbk</td><td>777Qsjs3i8qJyBr95zABbk|0000050</td><td>MBFEvent.BotMessage</td><td>640.782</td><td>null</td><td>2018-11-12T13:58:00.722+0000</td><td>null</td><td>null</td></tr><tr><td>777Qsjs3i8qJyBr95zABbk</td><td>777Qsjs3i8qJyBr95zABbk|0000057</td><td>MBFEvent.BotMessage</td><td>528.878</td><td>null</td><td>2018-11-12T13:58:15.443+0000</td><td>null</td><td>null</td></tr><tr><td>2cpS4QCdLps7ycDeAxodOz</td><td>2cpS4QCdLps7ycDeAxodOz|0000046</td><td>MBFEvent.BotMessage</td><td>859.797</td><td>null</td><td>2018-11-12T13:58:28.363+0000</td><td>null</td><td>null</td></tr><tr><td>2cpS4QCdLps7ycDeAxodOz</td><td>2cpS4QCdLps7ycDeAxodOz|0000050</td><td>MBFEvent.BotMessage</td><td>140.727</td><td>null</td><td>2018-11-12T13:58:30.494+0000</td><td>null</td><td>null</td></tr><tr><td>2cpS4QCdLps7ycDeAxodOz</td><td>2cpS4QCdLps7ycDeAxodOz|0000054</td><td>MBFEvent.BotMessage</td><td>265.119</td><td>null</td><td>2018-11-12T13:58:34.337+0000</td><td>null</td><td>null</td></tr><tr><td>777Qsjs3i8qJyBr95zABbk</td><td>777Qsjs3i8qJyBr95zABbk|0000064</td><td>MBFEvent.BotMessage</td><td>754.275</td><td>null</td><td>2018-11-12T13:58:49.533+0000</td><td>null</td><td>null</td></tr><tr><td>2cpS4QCdLps7ycDeAxodOz</td><td>2cpS4QCdLps7ycDeAxodOz|0000059</td><td>MBFEvent.BotMessage</td><td>13.247</td><td>null</td><td>2018-11-12T13:58:49.960+0000</td><td>null</td><td>null</td></tr><tr><td>2cpS4QCdLps7ycDeAxodOz</td><td>2cpS4QCdLps7ycDeAxodOz|0000061</td><td>MBFEvent.BotMessage</td><td>582.275</td><td>null</td><td>2018-11-12T13:58:53.804+0000</td><td>null</td><td>null</td></tr><tr><td>777Qsjs3i8qJyBr95zABbk</td><td>777Qsjs3i8qJyBr95zABbk|0000071</td><td>MBFEvent.BotMessage</td><td>518.237</td><td>null</td><td>2018-11-12T13:58:58.597+0000</td><td>null</td><td>null</td></tr><tr><td>2cpS4QCdLps7ycDeAxodOz</td><td>2cpS4QCdLps7ycDeAxodOz|0000071</td><td>MBFEvent.BotMessage</td><td>756.257</td><td>null</td><td>2018-11-12T13:59:04.030+0000</td><td>null</td><td>null</td></tr><tr><td>777Qsjs3i8qJyBr95zABbk</td><td>777Qsjs3i8qJyBr95zABbk|0000078</td><td>MBFEvent.BotMessage</td><td>865.464</td><td>null</td><td>2018-11-12T13:59:05.535+0000</td><td>null</td><td>null</td></tr><tr><td>2cpS4QCdLps7ycDeAxodOz</td><td>2cpS4QCdLps7ycDeAxodOz|0000075</td><td>MBFEvent.BotMessage</td><td>109.42</td><td>null</td><td>2018-11-12T13:59:07.023+0000</td><td>null</td><td>null</td></tr><tr><td>777Qsjs3i8qJyBr95zABbk</td><td>777Qsjs3i8qJyBr95zABbk|0000083</td><td>MBFEvent.BotMessage</td><td>489.27</td><td>null</td><td>2018-11-12T13:59:10.358+0000</td><td>null</td><td>null</td></tr><tr><td>2cpS4QCdLps7ycDeAxodOz</td><td>2cpS4QCdLps7ycDeAxodOz|0000079</td><td>MBFEvent.BotMessage</td><td>252.59</td><td>null</td><td>2018-11-12T13:59:10.845+0000</td><td>null</td><td>null</td></tr><tr><td>777Qsjs3i8qJyBr95zABbk</td><td>777Qsjs3i8qJyBr95zABbk|0000090</td><td>MBFEvent.BotMessage</td><td>505.382</td><td>null</td><td>2018-11-12T13:59:18.307+0000</td><td>null</td><td>null</td></tr><tr><td>777Qsjs3i8qJyBr95zABbk</td><td>777Qsjs3i8qJyBr95zABbk|0000097</td><td>MBFEvent.BotMessage</td><td>670.739</td><td>null</td><td>2018-11-12T13:59:29.725+0000</td><td>null</td><td>null</td></tr><tr><td>2cpS4QCdLps7ycDeAxodOz</td><td>2cpS4QCdLps7ycDeAxodOz|0000084</td><td>MBFEvent.BotMessage</td><td>1125.927</td><td>null</td><td>2018-11-12T14:04:03.477+0000</td><td>null</td><td>null</td></tr><tr><td>2cpS4QCdLps7ycDeAxodOz</td><td>2cpS4QCdLps7ycDeAxodOz|0000088</td><td>MBFEvent.BotMessage</td><td>138.718</td><td>null</td><td>2018-11-12T14:04:05.617+0000</td><td>null</td><td>null</td></tr><tr><td>2cpS4QCdLps7ycDeAxodOz</td><td>2cpS4QCdLps7ycDeAxodOz|0000092</td><td>MBFEvent.BotMessage</td><td>485.423</td><td>null</td><td>2018-11-12T14:04:11.087+0000</td><td>null</td><td>null</td></tr><tr><td>2cpS4QCdLps7ycDeAxodOz</td><td>2cpS4QCdLps7ycDeAxodOz|0000096</td><td>MBFEvent.BotMessage</td><td>576.847</td><td>null</td><td>2018-11-12T14:04:14.555+0000</td><td>null</td><td>null</td></tr><tr><td>2cpS4QCdLps7ycDeAxodOz</td><td>2cpS4QCdLps7ycDeAxodOz|0000100</td><td>MBFEvent.BotMessage</td><td>249.043</td><td>null</td><td>2018-11-12T14:04:16.292+0000</td><td>null</td><td>null</td></tr><tr><td>2cpS4QCdLps7ycDeAxodOz</td><td>2cpS4QCdLps7ycDeAxodOz|0000104</td><td>MBFEvent.BotMessage</td><td>252.643</td><td>null</td><td>2018-11-12T14:04:20.438+0000</td><td>null</td><td>null</td></tr><tr><td>2cpS4QCdLps7ycDeAxodOz</td><td>2cpS4QCdLps7ycDeAxodOz|0000116</td><td>MBFEvent.BotMessage</td><td>855.895</td><td>null</td><td>2018-11-12T14:07:45.439+0000</td><td>null</td><td>null</td></tr><tr><td>JEBXXIfay3m328mWQLvL0x</td><td>JEBXXIfay3m328mWQLvL0x|0000007</td><td>MBFEvent.BotMessage</td><td>489.562</td><td>null</td><td>2018-11-12T14:08:00.499+0000</td><td>null</td><td>null</td></tr><tr><td>JEBXXIfay3m328mWQLvL0x</td><td>JEBXXIfay3m328mWQLvL0x|0000011</td><td>MBFEvent.BotMessage</td><td>19.937</td><td>null</td><td>2018-11-12T14:08:02.341+0000</td><td>null</td><td>null</td></tr><tr><td>JEBXXIfay3m328mWQLvL0x</td><td>JEBXXIfay3m328mWQLvL0x|0000014</td><td>MBFEvent.BotMessage</td><td>517.031</td><td>null</td><td>2018-11-12T14:08:05.900+0000</td><td>null</td><td>null</td></tr><tr><td>JEBXXIfay3m328mWQLvL0x</td><td>JEBXXIfay3m328mWQLvL0x|0000018</td><td>MBFEvent.BotMessage</td><td>310.325</td><td>null</td><td>2018-11-12T14:08:07.494+0000</td><td>null</td><td>null</td></tr><tr><td>JEBXXIfay3m328mWQLvL0x</td><td>JEBXXIfay3m328mWQLvL0x|0000022</td><td>MBFEvent.BotMessage</td><td>241.582</td><td>null</td><td>2018-11-12T14:08:11.297+0000</td><td>null</td><td>null</td></tr><tr><td>JEBXXIfay3m328mWQLvL0x</td><td>JEBXXIfay3m328mWQLvL0x|0000027</td><td>MBFEvent.BotMessage</td><td>1296.878</td><td>null</td><td>2018-11-12T14:08:43.759+0000</td><td>null</td><td>null</td></tr><tr><td>JEBXXIfay3m328mWQLvL0x</td><td>JEBXXIfay3m328mWQLvL0x|0000031</td><td>MBFEvent.BotMessage</td><td>342.479</td><td>null</td><td>2018-11-12T14:08:46.042+0000</td><td>null</td><td>null</td></tr><tr><td>JEBXXIfay3m328mWQLvL0x</td><td>JEBXXIfay3m328mWQLvL0x|0000035</td><td>MBFEvent.BotMessage</td><td>380.498</td><td>null</td><td>2018-11-12T14:08:50.499+0000</td><td>null</td><td>null</td></tr><tr><td>JEBXXIfay3m328mWQLvL0x</td><td>JEBXXIfay3m328mWQLvL0x|0000039</td><td>MBFEvent.BotMessage</td><td>592.281</td><td>null</td><td>2018-11-12T14:08:54.058+0000</td><td>null</td><td>null</td></tr><tr><td>JEBXXIfay3m328mWQLvL0x</td><td>JEBXXIfay3m328mWQLvL0x|0000043</td><td>MBFEvent.BotMessage</td><td>2826.354</td><td>null</td><td>2018-11-12T14:09:18.227+0000</td><td>null</td><td>null</td></tr><tr><td>8mkbRBVLXnqB1DyyZ1pVcZ</td><td>8mkbRBVLXnqB1DyyZ1pVcZ|0000531</td><td>MBFEvent.BotMessage</td><td>1111.101</td><td>null</td><td>2018-11-12T14:09:19.573+0000</td><td>null</td><td>null</td></tr><tr><td>JEBXXIfay3m328mWQLvL0x</td><td>JEBXXIfay3m328mWQLvL0x|0000047</td><td>MBFEvent.BotMessage</td><td>660.223</td><td>null</td><td>2018-11-12T14:09:28.110+0000</td><td>null</td><td>null</td></tr><tr><td>8mkbRBVLXnqB1DyyZ1pVcZ</td><td>8mkbRBVLXnqB1DyyZ1pVcZ|0000535</td><td>MBFEvent.BotMessage</td><td>881.051</td><td>null</td><td>2018-11-12T14:09:38.114+0000</td><td>null</td><td>null</td></tr><tr><td>JEBXXIfay3m328mWQLvL0x</td><td>JEBXXIfay3m328mWQLvL0x|0000058</td><td>MBFEvent.BotMessage</td><td>583.895</td><td>null</td><td>2018-11-12T14:09:52.197+0000</td><td>null</td><td>null</td></tr><tr><td>8mkbRBVLXnqB1DyyZ1pVcZ</td><td>8mkbRBVLXnqB1DyyZ1pVcZ|0000540</td><td>MBFEvent.BotMessage</td><td>772.368</td><td>null</td><td>2018-11-12T14:09:52.212+0000</td><td>null</td><td>null</td></tr><tr><td>JEBXXIfay3m328mWQLvL0x</td><td>JEBXXIfay3m328mWQLvL0x|0000062</td><td>MBFEvent.BotMessage</td><td>170.741</td><td>null</td><td>2018-11-12T14:09:53.873+0000</td><td>null</td><td>null</td></tr><tr><td>JEBXXIfay3m328mWQLvL0x</td><td>JEBXXIfay3m328mWQLvL0x|0000066</td><td>MBFEvent.BotMessage</td><td>265.26</td><td>null</td><td>2018-11-12T14:09:57.460+0000</td><td>null</td><td>null</td></tr><tr><td>8mkbRBVLXnqB1DyyZ1pVcZ</td><td>8mkbRBVLXnqB1DyyZ1pVcZ|0000545</td><td>MBFEvent.BotMessage</td><td>635.231</td><td>null</td><td>2018-11-12T14:10:20.203+0000</td><td>null</td><td>null</td></tr><tr><td>8mkbRBVLXnqB1DyyZ1pVcZ</td><td>8mkbRBVLXnqB1DyyZ1pVcZ|0000551</td><td>MBFEvent.BotMessage</td><td>593.452</td><td>null</td><td>2018-11-12T14:11:20.744+0000</td><td>null</td><td>null</td></tr><tr><td>JEBXXIfay3m328mWQLvL0x</td><td>JEBXXIfay3m328mWQLvL0x|0000079</td><td>MBFEvent.BotMessage</td><td>637.669</td><td>null</td><td>2018-11-12T14:11:23.701+0000</td><td>null</td><td>null</td></tr><tr><td>JEBXXIfay3m328mWQLvL0x</td><td>JEBXXIfay3m328mWQLvL0x|0000083</td><td>MBFEvent.BotMessage</td><td>89.44</td><td>null</td><td>2018-11-12T14:11:24.898+0000</td><td>null</td><td>null</td></tr><tr><td>JEBXXIfay3m328mWQLvL0x</td><td>JEBXXIfay3m328mWQLvL0x|0000087</td><td>MBFEvent.BotMessage</td><td>244.728</td><td>null</td><td>2018-11-12T14:11:28.678+0000</td><td>null</td><td>null</td></tr><tr><td>8mkbRBVLXnqB1DyyZ1pVcZ</td><td>8mkbRBVLXnqB1DyyZ1pVcZ|0000556</td><td>MBFEvent.BotMessage</td><td>609.371</td><td>null</td><td>2018-11-12T14:11:57.330+0000</td><td>null</td><td>null</td></tr><tr><td>8mkbRBVLXnqB1DyyZ1pVcZ</td><td>8mkbRBVLXnqB1DyyZ1pVcZ|0000562</td><td>MBFEvent.BotMessage</td><td>866.158</td><td>null</td><td>2018-11-12T14:15:56.755+0000</td><td>null</td><td>null</td></tr><tr><td>8mkbRBVLXnqB1DyyZ1pVcZ</td><td>8mkbRBVLXnqB1DyyZ1pVcZ|0000566</td><td>MBFEvent.BotMessage</td><td>68.212</td><td>null</td><td>2018-11-12T14:17:31.024+0000</td><td>null</td><td>null</td></tr><tr><td>8mkbRBVLXnqB1DyyZ1pVcZ</td><td>8mkbRBVLXnqB1DyyZ1pVcZ|0000568</td><td>MBFEvent.BotMessage</td><td>668.608</td><td>null</td><td>2018-11-12T14:22:09.434+0000</td><td>null</td><td>null</td></tr><tr><td>8mkbRBVLXnqB1DyyZ1pVcZ</td><td>8mkbRBVLXnqB1DyyZ1pVcZ|0000571</td><td>MBFEvent.BotMessage</td><td>342.381</td><td>null</td><td>2018-11-12T14:24:36.925+0000</td><td>null</td><td>null</td></tr><tr><td>8mkbRBVLXnqB1DyyZ1pVcZ</td><td>8mkbRBVLXnqB1DyyZ1pVcZ|0000575</td><td>MBFEvent.BotMessage</td><td>255.807</td><td>null</td><td>2018-11-12T14:24:47.134+0000</td><td>null</td><td>null</td></tr><tr><td>8mkbRBVLXnqB1DyyZ1pVcZ</td><td>8mkbRBVLXnqB1DyyZ1pVcZ|0000580</td><td>MBFEvent.BotMessage</td><td>702.302</td><td>null</td><td>2018-11-12T14:25:01.555+0000</td><td>null</td><td>null</td></tr><tr><td>8mkbRBVLXnqB1DyyZ1pVcZ</td><td>8mkbRBVLXnqB1DyyZ1pVcZ|0000585</td><td>MBFEvent.BotMessage</td><td>78.166</td><td>null</td><td>2018-11-12T14:25:06.372+0000</td><td>null</td><td>null</td></tr><tr><td>8mkbRBVLXnqB1DyyZ1pVcZ</td><td>8mkbRBVLXnqB1DyyZ1pVcZ|0000588</td><td>MBFEvent.BotMessage</td><td>61.853</td><td>null</td><td>2018-11-12T14:25:16.917+0000</td><td>null</td><td>null</td></tr><tr><td>8mkbRBVLXnqB1DyyZ1pVcZ</td><td>8mkbRBVLXnqB1DyyZ1pVcZ|0000591</td><td>MBFEvent.BotMessage</td><td>765.17</td><td>null</td><td>2018-11-12T14:25:30.848+0000</td><td>null</td><td>null</td></tr><tr><td>8mkbRBVLXnqB1DyyZ1pVcZ</td><td>8mkbRBVLXnqB1DyyZ1pVcZ|0000596</td><td>MBFEvent.BotMessage</td><td>724.492</td><td>null</td><td>2018-11-12T14:25:39.222+0000</td><td>null</td><td>null</td></tr><tr><td>8mkbRBVLXnqB1DyyZ1pVcZ</td><td>8mkbRBVLXnqB1DyyZ1pVcZ|0000602</td><td>MBFEvent.BotMessage</td><td>388.551</td><td>null</td><td>2018-11-12T14:25:49.142+0000</td><td>null</td><td>null</td></tr><tr><td>8mkbRBVLXnqB1DyyZ1pVcZ</td><td>8mkbRBVLXnqB1DyyZ1pVcZ|0000606</td><td>MBFEvent.BotMessage</td><td>533.22</td><td>null</td><td>2018-11-12T14:25:54.634+0000</td><td>null</td><td>null</td></tr><tr><td>8mkbRBVLXnqB1DyyZ1pVcZ</td><td>8mkbRBVLXnqB1DyyZ1pVcZ|0000611</td><td>MBFEvent.BotMessage</td><td>750.633</td><td>null</td><td>2018-11-12T14:26:06.207+0000</td><td>null</td><td>null</td></tr><tr><td>8mkbRBVLXnqB1DyyZ1pVcZ</td><td>8mkbRBVLXnqB1DyyZ1pVcZ|0000617</td><td>MBFEvent.BotMessage</td><td>644.779</td><td>null</td><td>2018-11-12T14:27:33.384+0000</td><td>null</td><td>null</td></tr><tr><td>8mkbRBVLXnqB1DyyZ1pVcZ</td><td>8mkbRBVLXnqB1DyyZ1pVcZ|0000621</td><td>MBFEvent.BotMessage</td><td>76.874</td><td>null</td><td>2018-11-12T14:27:38.323+0000</td><td>null</td><td>null</td></tr><tr><td>8mkbRBVLXnqB1DyyZ1pVcZ</td><td>8mkbRBVLXnqB1DyyZ1pVcZ|0000623</td><td>MBFEvent.BotMessage</td><td>62.503</td><td>null</td><td>2018-11-12T14:27:45.000+0000</td><td>null</td><td>null</td></tr><tr><td>JEBXXIfay3m328mWQLvL0x</td><td>JEBXXIfay3m328mWQLvL0x|0000156</td><td>MBFEvent.BotMessage</td><td>1035.536</td><td>null</td><td>2018-11-12T14:41:02.928+0000</td><td>null</td><td>null</td></tr><tr><td>JEBXXIfay3m328mWQLvL0x</td><td>JEBXXIfay3m328mWQLvL0x|0000160</td><td>MBFEvent.BotMessage</td><td>124.324</td><td>null</td><td>2018-11-12T14:41:04.457+0000</td><td>null</td><td>null</td></tr><tr><td>JEBXXIfay3m328mWQLvL0x</td><td>JEBXXIfay3m328mWQLvL0x|0000164</td><td>MBFEvent.BotMessage</td><td>306.549</td><td>null</td><td>2018-11-12T14:41:08.323+0000</td><td>null</td><td>null</td></tr><tr><td>JEBXXIfay3m328mWQLvL0x</td><td>JEBXXIfay3m328mWQLvL0x|0000183</td><td>MBFEvent.BotMessage</td><td>850.003</td><td>null</td><td>2018-11-12T14:45:07.398+0000</td><td>null</td><td>null</td></tr><tr><td>JEBXXIfay3m328mWQLvL0x</td><td>JEBXXIfay3m328mWQLvL0x|0000187</td><td>MBFEvent.BotMessage</td><td>124.999</td><td>null</td><td>2018-11-12T14:45:10.417+0000</td><td>null</td><td>null</td></tr><tr><td>JEBXXIfay3m328mWQLvL0x</td><td>JEBXXIfay3m328mWQLvL0x|0000191</td><td>MBFEvent.BotMessage</td><td>302.355</td><td>null</td><td>2018-11-12T14:45:14.781+0000</td><td>null</td><td>null</td></tr><tr><td>8mkbRBVLXnqB1DyyZ1pVcZ</td><td>8mkbRBVLXnqB1DyyZ1pVcZ|0000626</td><td>MBFEvent.BotMessage</td><td>218.799</td><td>null</td><td>2018-11-12T14:46:42.489+0000</td><td>null</td><td>null</td></tr><tr><td>8mkbRBVLXnqB1DyyZ1pVcZ</td><td>8mkbRBVLXnqB1DyyZ1pVcZ|0000629</td><td>MBFEvent.BotMessage</td><td>684.934</td><td>null</td><td>2018-11-12T14:46:49.047+0000</td><td>null</td><td>null</td></tr><tr><td>8mkbRBVLXnqB1DyyZ1pVcZ</td><td>8mkbRBVLXnqB1DyyZ1pVcZ|0000634</td><td>MBFEvent.BotMessage</td><td>671.42</td><td>null</td><td>2018-11-12T14:46:57.091+0000</td><td>null</td><td>null</td></tr><tr><td>8mkbRBVLXnqB1DyyZ1pVcZ</td><td>8mkbRBVLXnqB1DyyZ1pVcZ|0000639</td><td>MBFEvent.BotMessage</td><td>79.418</td><td>null</td><td>2018-11-12T14:47:01.852+0000</td><td>null</td><td>null</td></tr><tr><td>8mkbRBVLXnqB1DyyZ1pVcZ</td><td>8mkbRBVLXnqB1DyyZ1pVcZ|0000642</td><td>MBFEvent.BotMessage</td><td>65.842</td><td>null</td><td>2018-11-12T14:47:10.642+0000</td><td>null</td><td>null</td></tr><tr><td>8mkbRBVLXnqB1DyyZ1pVcZ</td><td>8mkbRBVLXnqB1DyyZ1pVcZ|0000645</td><td>MBFEvent.BotMessage</td><td>866.316</td><td>null</td><td>2018-11-12T14:47:16.307+0000</td><td>null</td><td>null</td></tr><tr><td>8mkbRBVLXnqB1DyyZ1pVcZ</td><td>8mkbRBVLXnqB1DyyZ1pVcZ|0000651</td><td>MBFEvent.BotMessage</td><td>620.614</td><td>null</td><td>2018-11-12T14:47:26.248+0000</td><td>null</td><td>null</td></tr><tr><td>8mkbRBVLXnqB1DyyZ1pVcZ</td><td>8mkbRBVLXnqB1DyyZ1pVcZ|0000657</td><td>MBFEvent.BotMessage</td><td>755.81</td><td>null</td><td>2018-11-12T14:47:49.196+0000</td><td>null</td><td>null</td></tr><tr><td>8mkbRBVLXnqB1DyyZ1pVcZ</td><td>8mkbRBVLXnqB1DyyZ1pVcZ|0000661</td><td>MBFEvent.BotMessage</td><td>78.127</td><td>null</td><td>2018-11-12T14:47:57.075+0000</td><td>null</td><td>null</td></tr><tr><td>JEBXXIfay3m328mWQLvL0x</td><td>JEBXXIfay3m328mWQLvL0x|0000204</td><td>MBFEvent.BotMessage</td><td>708.876</td><td>null</td><td>2018-11-12T14:48:20.438+0000</td><td>null</td><td>null</td></tr><tr><td>JEBXXIfay3m328mWQLvL0x</td><td>JEBXXIfay3m328mWQLvL0x|0000208</td><td>MBFEvent.BotMessage</td><td>155.712</td><td>null</td><td>2018-11-12T14:48:26.093+0000</td><td>null</td><td>null</td></tr><tr><td>JEBXXIfay3m328mWQLvL0x</td><td>JEBXXIfay3m328mWQLvL0x|0000212</td><td>MBFEvent.BotMessage</td><td>322.916</td><td>null</td><td>2018-11-12T14:48:30.309+0000</td><td>null</td><td>null</td></tr><tr><td>8mkbRBVLXnqB1DyyZ1pVcZ</td><td>8mkbRBVLXnqB1DyyZ1pVcZ|0000663</td><td>MBFEvent.BotMessage</td><td>234.382</td><td>null</td><td>2018-11-12T14:50:03.265+0000</td><td>null</td><td>null</td></tr><tr><td>8mkbRBVLXnqB1DyyZ1pVcZ</td><td>8mkbRBVLXnqB1DyyZ1pVcZ|0000665</td><td>MBFEvent.BotMessage</td><td>70.151</td><td>null</td><td>2018-11-12T14:50:38.021+0000</td><td>null</td><td>null</td></tr><tr><td>8mkbRBVLXnqB1DyyZ1pVcZ</td><td>8mkbRBVLXnqB1DyyZ1pVcZ|0000666</td><td>MBFEvent.BotMessage</td><td>334.699</td><td>null</td><td>2018-11-12T14:50:38.528+0000</td><td>null</td><td>null</td></tr><tr><td>8mkbRBVLXnqB1DyyZ1pVcZ</td><td>8mkbRBVLXnqB1DyyZ1pVcZ|0000669</td><td>MBFEvent.BotMessage</td><td>183.966</td><td>null</td><td>2018-11-12T14:50:49.743+0000</td><td>null</td><td>null</td></tr><tr><td>JEBXXIfay3m328mWQLvL0x</td><td>JEBXXIfay3m328mWQLvL0x|0000225</td><td>MBFEvent.BotMessage</td><td>1108.912</td><td>null</td><td>2018-11-12T14:51:12.979+0000</td><td>null</td><td>null</td></tr><tr><td>JEBXXIfay3m328mWQLvL0x</td><td>JEBXXIfay3m328mWQLvL0x|0000229</td><td>MBFEvent.BotMessage</td><td>422.194</td><td>null</td><td>2018-11-12T14:51:17.789+0000</td><td>null</td><td>null</td></tr><tr><td>JEBXXIfay3m328mWQLvL0x</td><td>JEBXXIfay3m328mWQLvL0x|0000233</td><td>MBFEvent.BotMessage</td><td>382.094</td><td>null</td><td>2018-11-12T14:51:21.772+0000</td><td>null</td><td>null</td></tr><tr><td>8mkbRBVLXnqB1DyyZ1pVcZ</td><td>8mkbRBVLXnqB1DyyZ1pVcZ|0000672</td><td>MBFEvent.BotMessage</td><td>6540.727</td><td>null</td><td>2018-11-12T14:51:54.094+0000</td><td>null</td><td>null</td></tr><tr><td>8mkbRBVLXnqB1DyyZ1pVcZ</td><td>8mkbRBVLXnqB1DyyZ1pVcZ|0000673</td><td>MBFEvent.BotMessage</td><td>16554.762</td><td>null</td><td>2018-11-12T14:52:10.525+0000</td><td>null</td><td>null</td></tr><tr><td>8mkbRBVLXnqB1DyyZ1pVcZ</td><td>8mkbRBVLXnqB1DyyZ1pVcZ|0000682</td><td>MBFEvent.BotMessage</td><td>1297.055</td><td>null</td><td>2018-11-12T14:53:19.891+0000</td><td>null</td><td>null</td></tr><tr><td>8mkbRBVLXnqB1DyyZ1pVcZ</td><td>8mkbRBVLXnqB1DyyZ1pVcZ|0000686</td><td>MBFEvent.BotMessage</td><td>759.646</td><td>null</td><td>2018-11-12T14:53:48.047+0000</td><td>null</td><td>null</td></tr><tr><td>8mkbRBVLXnqB1DyyZ1pVcZ</td><td>8mkbRBVLXnqB1DyyZ1pVcZ|0000691</td><td>MBFEvent.BotMessage</td><td>1079.153</td><td>null</td><td>2018-11-12T14:54:07.547+0000</td><td>null</td><td>null</td></tr><tr><td>JEBXXIfay3m328mWQLvL0x</td><td>JEBXXIfay3m328mWQLvL0x|0000246</td><td>MBFEvent.BotMessage</td><td>1024.427</td><td>null</td><td>2018-11-12T14:54:10.196+0000</td><td>null</td><td>null</td></tr><tr><td>8mkbRBVLXnqB1DyyZ1pVcZ</td><td>8mkbRBVLXnqB1DyyZ1pVcZ|0000697</td><td>MBFEvent.BotMessage</td><td>1047.982</td><td>null</td><td>2018-11-12T14:54:29.239+0000</td><td>null</td><td>null</td></tr><tr><td>JEBXXIfay3m328mWQLvL0x</td><td>JEBXXIfay3m328mWQLvL0x|0000250</td><td>MBFEvent.BotMessage</td><td>792.632</td><td>null</td><td>2018-11-12T14:54:29.298+0000</td><td>null</td><td>null</td></tr><tr><td>8mkbRBVLXnqB1DyyZ1pVcZ</td><td>8mkbRBVLXnqB1DyyZ1pVcZ|0000701</td><td>MBFEvent.BotMessage</td><td>204.989</td><td>null</td><td>2018-11-12T14:54:34.870+0000</td><td>null</td><td>null</td></tr><tr><td>JEBXXIfay3m328mWQLvL0x</td><td>JEBXXIfay3m328mWQLvL0x|0000254</td><td>MBFEvent.BotMessage</td><td>654.013</td><td>null</td><td>2018-11-12T14:54:34.931+0000</td><td>null</td><td>null</td></tr><tr><td>8mkbRBVLXnqB1DyyZ1pVcZ</td><td>8mkbRBVLXnqB1DyyZ1pVcZ|0000703</td><td>MBFEvent.BotMessage</td><td>125.012</td><td>null</td><td>2018-11-12T14:54:41.547+0000</td><td>null</td><td>null</td></tr><tr><td>8mkbRBVLXnqB1DyyZ1pVcZ</td><td>8mkbRBVLXnqB1DyyZ1pVcZ|0000705</td><td>MBFEvent.BotMessage</td><td>108.489</td><td>null</td><td>2018-11-12T14:54:45.645+0000</td><td>null</td><td>null</td></tr><tr><td>8mkbRBVLXnqB1DyyZ1pVcZ</td><td>8mkbRBVLXnqB1DyyZ1pVcZ|0000708</td><td>MBFEvent.BotMessage</td><td>347.725</td><td>null</td><td>2018-11-12T14:55:35.895+0000</td><td>null</td><td>null</td></tr><tr><td>8mkbRBVLXnqB1DyyZ1pVcZ</td><td>8mkbRBVLXnqB1DyyZ1pVcZ|0000712</td><td>MBFEvent.BotMessage</td><td>356.439</td><td>null</td><td>2018-11-12T14:55:47.439+0000</td><td>null</td><td>null</td></tr><tr><td>8mkbRBVLXnqB1DyyZ1pVcZ</td><td>8mkbRBVLXnqB1DyyZ1pVcZ|0000716</td><td>MBFEvent.BotMessage</td><td>1666.114</td><td>null</td><td>2018-11-12T14:55:53.631+0000</td><td>null</td><td>null</td></tr><tr><td>8mkbRBVLXnqB1DyyZ1pVcZ</td><td>8mkbRBVLXnqB1DyyZ1pVcZ|0000721</td><td>MBFEvent.BotMessage</td><td>2094.0</td><td>null</td><td>2018-11-12T14:57:50.055+0000</td><td>null</td><td>null</td></tr><tr><td>8mkbRBVLXnqB1DyyZ1pVcZ</td><td>8mkbRBVLXnqB1DyyZ1pVcZ|0000722</td><td>MBFEvent.BotMessage</td><td>2316.98</td><td>null</td><td>2018-11-12T14:57:50.673+0000</td><td>null</td><td>null</td></tr><tr><td>8mkbRBVLXnqB1DyyZ1pVcZ</td><td>8mkbRBVLXnqB1DyyZ1pVcZ|0000723</td><td>MBFEvent.BotMessage</td><td>3345.597</td><td>null</td><td>2018-11-12T14:57:51.870+0000</td><td>null</td><td>null</td></tr></tbody></table></div>"
      ]
     },
     "metadata": {},
     "output_type": "display_data"
    }
   ],
   "source": [
    "df_4_final.createOrReplaceTempView('table_4_final')\n",
    "\n",
    "#df_5_final.printSchema()\n",
    "\n",
    "df_bot_responseTime = spark.sql(\" \\\n",
    "          SELECT ConversationId as botConversationId, ActivityId as botActivityId, eventName as botEventName, BotAnswerDuration as botBotAnswerDuration, (apiTimeDiff) as botApiTimeDiff, eventTime as botEventTime, startTimeAPICall as botStartTimeAPICall, endTimeAPICall as botEndTimeAPICall  \\\n",
    "          FROM table_4_final \\\n",
    "          WHERE BotAnswerDuration > 0 AND eventName = 'MBFEvent.BotMessage' \\\n",
    "          GROUP BY ConversationId, ActivityId, eventName, BotAnswerDuration, apiTimeDiff, eventTime, startTimeAPICall, endTimeAPICall ORDER BY eventTime  \\\n",
    "          \")\n",
    "display(df_bot_responseTime)"
   ]
  },
  {
   "cell_type": "markdown",
   "metadata": {},
   "source": [
    "#### Selection of records in df_4_final having eventName = 'MBFEvent.APICall'"
   ]
  },
  {
   "cell_type": "code",
   "execution_count": 34,
   "metadata": {},
   "outputs": [
    {
     "data": {
      "text/html": [
       "<style scoped>\n",
       "  .table-result-container {\n",
       "    max-height: 300px;\n",
       "    overflow: auto;\n",
       "  }\n",
       "  table, th, td {\n",
       "    border: 1px solid black;\n",
       "    border-collapse: collapse;\n",
       "  }\n",
       "  th, td {\n",
       "    padding: 5px;\n",
       "  }\n",
       "  th {\n",
       "    text-align: left;\n",
       "  }\n",
       "</style><div class='table-result-container'><table class='table-result'><thead style='background-color: white'><tr><th>apiConversationId</th><th>apiActivityId</th><th>apiEventName</th><th>apiBotAnswerDuration</th><th>apiApiTimeDiff</th><th>apiEventTime</th><th>apiStartTimeAPICall</th><th>apiEndTimeAPICall</th></tr></thead><tbody><tr><td>777Qsjs3i8qJyBr95zABbk</td><td>777Qsjs3i8qJyBr95zABbk|0000050</td><td>MBFEvent.APICall</td><td>0.0</td><td>203.145</td><td>2018-11-12T13:58:03.133+0000</td><td>2018-11-12T13:58:02.929+0000</td><td>2018-11-12T13:58:03.133+0000</td></tr><tr><td>777Qsjs3i8qJyBr95zABbk</td><td>777Qsjs3i8qJyBr95zABbk|0000050</td><td>MBFEvent.APICall</td><td>0.0</td><td>15.607</td><td>2018-11-12T13:58:03.148+0000</td><td>2018-11-12T13:58:03.133+0000</td><td>2018-11-12T13:58:03.148+0000</td></tr><tr><td>777Qsjs3i8qJyBr95zABbk</td><td>777Qsjs3i8qJyBr95zABbk|0000050</td><td>MBFEvent.APICall</td><td>0.0</td><td>15.602</td><td>2018-11-12T13:58:03.164+0000</td><td>2018-11-12T13:58:03.148+0000</td><td>2018-11-12T13:58:03.164+0000</td></tr><tr><td>777Qsjs3i8qJyBr95zABbk</td><td>777Qsjs3i8qJyBr95zABbk|0000050</td><td>MBFEvent.APICall</td><td>0.0</td><td>253.158</td><td>2018-11-12T13:58:03.417+0000</td><td>2018-11-12T13:58:03.164+0000</td><td>2018-11-12T13:58:03.417+0000</td></tr><tr><td>777Qsjs3i8qJyBr95zABbk</td><td>777Qsjs3i8qJyBr95zABbk|0000057</td><td>MBFEvent.APICall</td><td>0.0</td><td>209.7</td><td>2018-11-12T13:58:17.851+0000</td><td>2018-11-12T13:58:17.641+0000</td><td>2018-11-12T13:58:17.851+0000</td></tr><tr><td>777Qsjs3i8qJyBr95zABbk</td><td>777Qsjs3i8qJyBr95zABbk|0000057</td><td>MBFEvent.APICall</td><td>0.0</td><td>15.7</td><td>2018-11-12T13:58:17.867+0000</td><td>2018-11-12T13:58:17.851+0000</td><td>2018-11-12T13:58:17.867+0000</td></tr><tr><td>777Qsjs3i8qJyBr95zABbk</td><td>777Qsjs3i8qJyBr95zABbk|0000057</td><td>MBFEvent.APICall</td><td>0.0</td><td>15.61</td><td>2018-11-12T13:58:17.882+0000</td><td>2018-11-12T13:58:17.867+0000</td><td>2018-11-12T13:58:17.882+0000</td></tr><tr><td>777Qsjs3i8qJyBr95zABbk</td><td>777Qsjs3i8qJyBr95zABbk|0000057</td><td>MBFEvent.APICall</td><td>0.0</td><td>199.156</td><td>2018-11-12T13:58:18.081+0000</td><td>2018-11-12T13:58:17.882+0000</td><td>2018-11-12T13:58:18.081+0000</td></tr><tr><td>2cpS4QCdLps7ycDeAxodOz</td><td>2cpS4QCdLps7ycDeAxodOz|0000050</td><td>MBFEvent.APICall</td><td>0.0</td><td>62.533</td><td>2018-11-12T13:58:30.494+0000</td><td>2018-11-12T13:58:30.431+0000</td><td>2018-11-12T13:58:30.494+0000</td></tr><tr><td>2cpS4QCdLps7ycDeAxodOz</td><td>2cpS4QCdLps7ycDeAxodOz|0000050</td><td>MBFEvent.APICall</td><td>0.0</td><td>194.12</td><td>2018-11-12T13:58:32.914+0000</td><td>2018-11-12T13:58:32.720+0000</td><td>2018-11-12T13:58:32.914+0000</td></tr><tr><td>2cpS4QCdLps7ycDeAxodOz</td><td>2cpS4QCdLps7ycDeAxodOz|0000054</td><td>MBFEvent.APICall</td><td>0.0</td><td>218.752</td><td>2018-11-12T13:58:34.321+0000</td><td>2018-11-12T13:58:34.102+0000</td><td>2018-11-12T13:58:34.321+0000</td></tr><tr><td>777Qsjs3i8qJyBr95zABbk</td><td>777Qsjs3i8qJyBr95zABbk|0000064</td><td>MBFEvent.APICall</td><td>0.0</td><td>194.588</td><td>2018-11-12T13:58:51.955+0000</td><td>2018-11-12T13:58:51.761+0000</td><td>2018-11-12T13:58:51.955+0000</td></tr><tr><td>777Qsjs3i8qJyBr95zABbk</td><td>777Qsjs3i8qJyBr95zABbk|0000064</td><td>MBFEvent.APICall</td><td>0.0</td><td>15.263</td><td>2018-11-12T13:58:51.987+0000</td><td>2018-11-12T13:58:51.971+0000</td><td>2018-11-12T13:58:51.987+0000</td></tr><tr><td>777Qsjs3i8qJyBr95zABbk</td><td>777Qsjs3i8qJyBr95zABbk|0000064</td><td>MBFEvent.APICall</td><td>0.0</td><td>15.621</td><td>2018-11-12T13:58:52.002+0000</td><td>2018-11-12T13:58:51.987+0000</td><td>2018-11-12T13:58:52.002+0000</td></tr><tr><td>777Qsjs3i8qJyBr95zABbk</td><td>777Qsjs3i8qJyBr95zABbk|0000064</td><td>MBFEvent.APICall</td><td>0.0</td><td>250.024</td><td>2018-11-12T13:58:52.252+0000</td><td>2018-11-12T13:58:52.002+0000</td><td>2018-11-12T13:58:52.252+0000</td></tr><tr><td>777Qsjs3i8qJyBr95zABbk</td><td>777Qsjs3i8qJyBr95zABbk|0000071</td><td>MBFEvent.APICall</td><td>0.0</td><td>187.472</td><td>2018-11-12T13:59:01.050+0000</td><td>2018-11-12T13:59:00.863+0000</td><td>2018-11-12T13:59:01.050+0000</td></tr><tr><td>777Qsjs3i8qJyBr95zABbk</td><td>777Qsjs3i8qJyBr95zABbk|0000071</td><td>MBFEvent.APICall</td><td>0.0</td><td>0.0</td><td>2018-11-12T13:59:01.082+0000</td><td>2018-11-12T13:59:01.082+0000</td><td>2018-11-12T13:59:01.082+0000</td></tr><tr><td>777Qsjs3i8qJyBr95zABbk</td><td>777Qsjs3i8qJyBr95zABbk|0000071</td><td>MBFEvent.APICall</td><td>0.0</td><td>31.251</td><td>2018-11-12T13:59:01.082+0000</td><td>2018-11-12T13:59:01.050+0000</td><td>2018-11-12T13:59:01.082+0000</td></tr><tr><td>777Qsjs3i8qJyBr95zABbk</td><td>777Qsjs3i8qJyBr95zABbk|0000071</td><td>MBFEvent.APICall</td><td>0.0</td><td>211.816</td><td>2018-11-12T13:59:01.309+0000</td><td>2018-11-12T13:59:01.097+0000</td><td>2018-11-12T13:59:01.309+0000</td></tr><tr><td>2cpS4QCdLps7ycDeAxodOz</td><td>2cpS4QCdLps7ycDeAxodOz|0000075</td><td>MBFEvent.APICall</td><td>0.0</td><td>46.866</td><td>2018-11-12T13:59:07.023+0000</td><td>2018-11-12T13:59:06.976+0000</td><td>2018-11-12T13:59:07.023+0000</td></tr><tr><td>2cpS4QCdLps7ycDeAxodOz</td><td>2cpS4QCdLps7ycDeAxodOz|0000075</td><td>MBFEvent.APICall</td><td>0.0</td><td>361.434</td><td>2018-11-12T13:59:09.598+0000</td><td>2018-11-12T13:59:09.236+0000</td><td>2018-11-12T13:59:09.598+0000</td></tr><tr><td>2cpS4QCdLps7ycDeAxodOz</td><td>2cpS4QCdLps7ycDeAxodOz|0000079</td><td>MBFEvent.APICall</td><td>0.0</td><td>190.1</td><td>2018-11-12T13:59:10.814+0000</td><td>2018-11-12T13:59:10.624+0000</td><td>2018-11-12T13:59:10.814+0000</td></tr><tr><td>777Qsjs3i8qJyBr95zABbk</td><td>777Qsjs3i8qJyBr95zABbk|0000083</td><td>MBFEvent.APICall</td><td>0.0</td><td>181.257</td><td>2018-11-12T13:59:12.770+0000</td><td>2018-11-12T13:59:12.589+0000</td><td>2018-11-12T13:59:12.770+0000</td></tr><tr><td>777Qsjs3i8qJyBr95zABbk</td><td>777Qsjs3i8qJyBr95zABbk|0000083</td><td>MBFEvent.APICall</td><td>0.0</td><td>15.608</td><td>2018-11-12T13:59:12.801+0000</td><td>2018-11-12T13:59:12.786+0000</td><td>2018-11-12T13:59:12.801+0000</td></tr><tr><td>777Qsjs3i8qJyBr95zABbk</td><td>777Qsjs3i8qJyBr95zABbk|0000083</td><td>MBFEvent.APICall</td><td>0.0</td><td>15.639</td><td>2018-11-12T13:59:12.817+0000</td><td>2018-11-12T13:59:12.801+0000</td><td>2018-11-12T13:59:12.817+0000</td></tr><tr><td>777Qsjs3i8qJyBr95zABbk</td><td>777Qsjs3i8qJyBr95zABbk|0000083</td><td>MBFEvent.APICall</td><td>0.0</td><td>188.936</td><td>2018-11-12T13:59:13.006+0000</td><td>2018-11-12T13:59:12.817+0000</td><td>2018-11-12T13:59:13.006+0000</td></tr><tr><td>777Qsjs3i8qJyBr95zABbk</td><td>777Qsjs3i8qJyBr95zABbk|0000090</td><td>MBFEvent.APICall</td><td>0.0</td><td>183.508</td><td>2018-11-12T13:59:20.692+0000</td><td>2018-11-12T13:59:20.508+0000</td><td>2018-11-12T13:59:20.692+0000</td></tr><tr><td>777Qsjs3i8qJyBr95zABbk</td><td>777Qsjs3i8qJyBr95zABbk|0000090</td><td>MBFEvent.APICall</td><td>0.0</td><td>15.621</td><td>2018-11-12T13:59:20.708+0000</td><td>2018-11-12T13:59:20.692+0000</td><td>2018-11-12T13:59:20.708+0000</td></tr><tr><td>777Qsjs3i8qJyBr95zABbk</td><td>777Qsjs3i8qJyBr95zABbk|0000090</td><td>MBFEvent.APICall</td><td>0.0</td><td>15.624</td><td>2018-11-12T13:59:20.723+0000</td><td>2018-11-12T13:59:20.708+0000</td><td>2018-11-12T13:59:20.723+0000</td></tr><tr><td>777Qsjs3i8qJyBr95zABbk</td><td>777Qsjs3i8qJyBr95zABbk|0000090</td><td>MBFEvent.APICall</td><td>0.0</td><td>194.125</td><td>2018-11-12T13:59:20.917+0000</td><td>2018-11-12T13:59:20.723+0000</td><td>2018-11-12T13:59:20.917+0000</td></tr><tr><td>777Qsjs3i8qJyBr95zABbk</td><td>777Qsjs3i8qJyBr95zABbk|0000097</td><td>MBFEvent.APICall</td><td>0.0</td><td>187.591</td><td>2018-11-12T13:59:32.093+0000</td><td>2018-11-12T13:59:31.905+0000</td><td>2018-11-12T13:59:32.093+0000</td></tr><tr><td>777Qsjs3i8qJyBr95zABbk</td><td>777Qsjs3i8qJyBr95zABbk|0000097</td><td>MBFEvent.APICall</td><td>0.0</td><td>31.165</td><td>2018-11-12T13:59:32.124+0000</td><td>2018-11-12T13:59:32.093+0000</td><td>2018-11-12T13:59:32.124+0000</td></tr><tr><td>777Qsjs3i8qJyBr95zABbk</td><td>777Qsjs3i8qJyBr95zABbk|0000097</td><td>MBFEvent.APICall</td><td>0.0</td><td>15.632</td><td>2018-11-12T13:59:32.139+0000</td><td>2018-11-12T13:59:32.124+0000</td><td>2018-11-12T13:59:32.139+0000</td></tr><tr><td>777Qsjs3i8qJyBr95zABbk</td><td>777Qsjs3i8qJyBr95zABbk|0000097</td><td>MBFEvent.APICall</td><td>0.0</td><td>207.536</td><td>2018-11-12T13:59:32.347+0000</td><td>2018-11-12T13:59:32.139+0000</td><td>2018-11-12T13:59:32.347+0000</td></tr><tr><td>2cpS4QCdLps7ycDeAxodOz</td><td>2cpS4QCdLps7ycDeAxodOz|0000088</td><td>MBFEvent.APICall</td><td>0.0</td><td>30.28</td><td>2018-11-12T14:04:05.617+0000</td><td>2018-11-12T14:04:05.587+0000</td><td>2018-11-12T14:04:05.617+0000</td></tr><tr><td>2cpS4QCdLps7ycDeAxodOz</td><td>2cpS4QCdLps7ycDeAxodOz|0000088</td><td>MBFEvent.APICall</td><td>0.0</td><td>391.188</td><td>2018-11-12T14:04:08.243+0000</td><td>2018-11-12T14:04:07.852+0000</td><td>2018-11-12T14:04:08.243+0000</td></tr><tr><td>2cpS4QCdLps7ycDeAxodOz</td><td>2cpS4QCdLps7ycDeAxodOz|0000092</td><td>MBFEvent.APICall</td><td>0.0</td><td>420.925</td><td>2018-11-12T14:04:11.039+0000</td><td>2018-11-12T14:04:10.618+0000</td><td>2018-11-12T14:04:11.039+0000</td></tr><tr><td>2cpS4QCdLps7ycDeAxodOz</td><td>2cpS4QCdLps7ycDeAxodOz|0000100</td><td>MBFEvent.APICall</td><td>0.0</td><td>175.186</td><td>2018-11-12T14:04:16.292+0000</td><td>2018-11-12T14:04:16.117+0000</td><td>2018-11-12T14:04:16.292+0000</td></tr><tr><td>2cpS4QCdLps7ycDeAxodOz</td><td>2cpS4QCdLps7ycDeAxodOz|0000100</td><td>MBFEvent.APICall</td><td>0.0</td><td>219.789</td><td>2018-11-12T14:04:18.728+0000</td><td>2018-11-12T14:04:18.509+0000</td><td>2018-11-12T14:04:18.728+0000</td></tr><tr><td>2cpS4QCdLps7ycDeAxodOz</td><td>2cpS4QCdLps7ycDeAxodOz|0000104</td><td>MBFEvent.APICall</td><td>0.0</td><td>205.699</td><td>2018-11-12T14:04:20.422+0000</td><td>2018-11-12T14:04:20.217+0000</td><td>2018-11-12T14:04:20.422+0000</td></tr><tr><td>JEBXXIfay3m328mWQLvL0x</td><td>JEBXXIfay3m328mWQLvL0x|0000018</td><td>MBFEvent.APICall</td><td>0.0</td><td>202.42</td><td>2018-11-12T14:08:07.494+0000</td><td>2018-11-12T14:08:07.292+0000</td><td>2018-11-12T14:08:07.494+0000</td></tr><tr><td>JEBXXIfay3m328mWQLvL0x</td><td>JEBXXIfay3m328mWQLvL0x|0000018</td><td>MBFEvent.APICall</td><td>0.0</td><td>197.807</td><td>2018-11-12T14:08:10.086+0000</td><td>2018-11-12T14:08:09.873+0000</td><td>2018-11-12T14:08:10.071+0000</td></tr><tr><td>JEBXXIfay3m328mWQLvL0x</td><td>JEBXXIfay3m328mWQLvL0x|0000022</td><td>MBFEvent.APICall</td><td>0.0</td><td>192.933</td><td>2018-11-12T14:08:11.266+0000</td><td>2018-11-12T14:08:11.073+0000</td><td>2018-11-12T14:08:11.266+0000</td></tr><tr><td>JEBXXIfay3m328mWQLvL0x</td><td>JEBXXIfay3m328mWQLvL0x|0000031</td><td>MBFEvent.APICall</td><td>0.0</td><td>29.805</td><td>2018-11-12T14:08:46.042+0000</td><td>2018-11-12T14:08:46.012+0000</td><td>2018-11-12T14:08:46.042+0000</td></tr><tr><td>JEBXXIfay3m328mWQLvL0x</td><td>JEBXXIfay3m328mWQLvL0x|0000031</td><td>MBFEvent.APICall</td><td>0.0</td><td>577.866</td><td>2018-11-12T14:08:49.139+0000</td><td>2018-11-12T14:08:48.561+0000</td><td>2018-11-12T14:08:49.139+0000</td></tr><tr><td>JEBXXIfay3m328mWQLvL0x</td><td>JEBXXIfay3m328mWQLvL0x|0000035</td><td>MBFEvent.APICall</td><td>0.0</td><td>295.758</td><td>2018-11-12T14:08:50.450+0000</td><td>2018-11-12T14:08:50.154+0000</td><td>2018-11-12T14:08:50.450+0000</td></tr><tr><td>JEBXXIfay3m328mWQLvL0x</td><td>JEBXXIfay3m328mWQLvL0x|0000043</td><td>MBFEvent.APICall</td><td>0.0</td><td>855.316</td><td>2018-11-12T14:09:18.227+0000</td><td>2018-11-12T14:09:17.372+0000</td><td>2018-11-12T14:09:18.227+0000</td></tr><tr><td>8mkbRBVLXnqB1DyyZ1pVcZ</td><td>8mkbRBVLXnqB1DyyZ1pVcZ|0000531</td><td>MBFEvent.APICall</td><td>0.0</td><td>905.255</td><td>2018-11-12T14:09:19.573+0000</td><td>2018-11-12T14:09:18.668+0000</td><td>2018-11-12T14:09:19.573+0000</td></tr><tr><td>JEBXXIfay3m328mWQLvL0x</td><td>JEBXXIfay3m328mWQLvL0x|0000043</td><td>MBFEvent.APICall</td><td>0.0</td><td>1463.984</td><td>2018-11-12T14:09:23.102+0000</td><td>2018-11-12T14:09:21.638+0000</td><td>2018-11-12T14:09:23.102+0000</td></tr><tr><td>JEBXXIfay3m328mWQLvL0x</td><td>JEBXXIfay3m328mWQLvL0x|0000047</td><td>MBFEvent.APICall</td><td>0.0</td><td>221.414</td><td>2018-11-12T14:09:27.888+0000</td><td>2018-11-12T14:09:27.667+0000</td><td>2018-11-12T14:09:27.888+0000</td></tr><tr><td>JEBXXIfay3m328mWQLvL0x</td><td>JEBXXIfay3m328mWQLvL0x|0000062</td><td>MBFEvent.APICall</td><td>0.0</td><td>62.494</td><td>2018-11-12T14:09:53.873+0000</td><td>2018-11-12T14:09:53.811+0000</td><td>2018-11-12T14:09:53.873+0000</td></tr><tr><td>JEBXXIfay3m328mWQLvL0x</td><td>JEBXXIfay3m328mWQLvL0x|0000062</td><td>MBFEvent.APICall</td><td>0.0</td><td>194.075</td><td>2018-11-12T14:09:56.281+0000</td><td>2018-11-12T14:09:56.087+0000</td><td>2018-11-12T14:09:56.281+0000</td></tr><tr><td>JEBXXIfay3m328mWQLvL0x</td><td>JEBXXIfay3m328mWQLvL0x|0000066</td><td>MBFEvent.APICall</td><td>0.0</td><td>219.844</td><td>2018-11-12T14:09:57.444+0000</td><td>2018-11-12T14:09:57.224+0000</td><td>2018-11-12T14:09:57.444+0000</td></tr><tr><td>8mkbRBVLXnqB1DyyZ1pVcZ</td><td>8mkbRBVLXnqB1DyyZ1pVcZ|0000545</td><td>MBFEvent.APICall</td><td>0.0</td><td>180.008</td><td>2018-11-12T14:10:22.601+0000</td><td>2018-11-12T14:10:22.421+0000</td><td>2018-11-12T14:10:22.601+0000</td></tr><tr><td>8mkbRBVLXnqB1DyyZ1pVcZ</td><td>8mkbRBVLXnqB1DyyZ1pVcZ|0000551</td><td>MBFEvent.APICall</td><td>0.0</td><td>378.03</td><td>2018-11-12T14:11:20.576+0000</td><td>2018-11-12T14:11:20.198+0000</td><td>2018-11-12T14:11:20.576+0000</td></tr><tr><td>JEBXXIfay3m328mWQLvL0x</td><td>JEBXXIfay3m328mWQLvL0x|0000083</td><td>MBFEvent.APICall</td><td>0.0</td><td>15.646</td><td>2018-11-12T14:11:24.898+0000</td><td>2018-11-12T14:11:24.883+0000</td><td>2018-11-12T14:11:24.898+0000</td></tr><tr><td>JEBXXIfay3m328mWQLvL0x</td><td>JEBXXIfay3m328mWQLvL0x|0000083</td><td>MBFEvent.APICall</td><td>0.0</td><td>187.595</td><td>2018-11-12T14:11:27.485+0000</td><td>2018-11-12T14:11:27.298+0000</td><td>2018-11-12T14:11:27.485+0000</td></tr><tr><td>JEBXXIfay3m328mWQLvL0x</td><td>JEBXXIfay3m328mWQLvL0x|0000087</td><td>MBFEvent.APICall</td><td>0.0</td><td>199.951</td><td>2018-11-12T14:11:28.662+0000</td><td>2018-11-12T14:11:28.462+0000</td><td>2018-11-12T14:11:28.662+0000</td></tr><tr><td>8mkbRBVLXnqB1DyyZ1pVcZ</td><td>8mkbRBVLXnqB1DyyZ1pVcZ|0000556</td><td>MBFEvent.APICall</td><td>0.0</td><td>203.165</td><td>2018-11-12T14:11:59.722+0000</td><td>2018-11-12T14:11:59.519+0000</td><td>2018-11-12T14:11:59.722+0000</td></tr><tr><td>8mkbRBVLXnqB1DyyZ1pVcZ</td><td>8mkbRBVLXnqB1DyyZ1pVcZ|0000562</td><td>MBFEvent.APICall</td><td>0.0</td><td>0.0</td><td>2018-11-12T14:15:55.955+0000</td><td>2018-11-12T14:15:55.955+0000</td><td>2018-11-12T14:15:55.955+0000</td></tr><tr><td>8mkbRBVLXnqB1DyyZ1pVcZ</td><td>8mkbRBVLXnqB1DyyZ1pVcZ|0000562</td><td>MBFEvent.APICall</td><td>0.0</td><td>535.209</td><td>2018-11-12T14:15:56.490+0000</td><td>2018-11-12T14:15:55.955+0000</td><td>2018-11-12T14:15:56.490+0000</td></tr><tr><td>8mkbRBVLXnqB1DyyZ1pVcZ</td><td>8mkbRBVLXnqB1DyyZ1pVcZ|0000562</td><td>MBFEvent.APICall</td><td>0.0</td><td>62.557</td><td>2018-11-12T14:15:56.552+0000</td><td>2018-11-12T14:15:56.490+0000</td><td>2018-11-12T14:15:56.552+0000</td></tr><tr><td>8mkbRBVLXnqB1DyyZ1pVcZ</td><td>8mkbRBVLXnqB1DyyZ1pVcZ|0000571</td><td>MBFEvent.APICall</td><td>0.0</td><td>46.902</td><td>2018-11-12T14:24:36.878+0000</td><td>2018-11-12T14:24:36.831+0000</td><td>2018-11-12T14:24:36.878+0000</td></tr><tr><td>8mkbRBVLXnqB1DyyZ1pVcZ</td><td>8mkbRBVLXnqB1DyyZ1pVcZ|0000571</td><td>MBFEvent.APICall</td><td>0.0</td><td>203.137</td><td>2018-11-12T14:24:39.326+0000</td><td>2018-11-12T14:24:39.123+0000</td><td>2018-11-12T14:24:39.326+0000</td></tr><tr><td>8mkbRBVLXnqB1DyyZ1pVcZ</td><td>8mkbRBVLXnqB1DyyZ1pVcZ|0000575</td><td>MBFEvent.APICall</td><td>0.0</td><td>191.016</td><td>2018-11-12T14:24:47.118+0000</td><td>2018-11-12T14:24:46.927+0000</td><td>2018-11-12T14:24:47.118+0000</td></tr><tr><td>8mkbRBVLXnqB1DyyZ1pVcZ</td><td>8mkbRBVLXnqB1DyyZ1pVcZ|0000596</td><td>MBFEvent.APICall</td><td>0.0</td><td>203.092</td><td>2018-11-12T14:25:41.662+0000</td><td>2018-11-12T14:25:41.459+0000</td><td>2018-11-12T14:25:41.662+0000</td></tr><tr><td>8mkbRBVLXnqB1DyyZ1pVcZ</td><td>8mkbRBVLXnqB1DyyZ1pVcZ|0000602</td><td>MBFEvent.APICall</td><td>0.0</td><td>302.444</td><td>2018-11-12T14:25:49.117+0000</td><td>2018-11-12T14:25:48.814+0000</td><td>2018-11-12T14:25:49.117+0000</td></tr><tr><td>8mkbRBVLXnqB1DyyZ1pVcZ</td><td>8mkbRBVLXnqB1DyyZ1pVcZ|0000611</td><td>MBFEvent.APICall</td><td>0.0</td><td>199.248</td><td>2018-11-12T14:26:08.619+0000</td><td>2018-11-12T14:26:08.420+0000</td><td>2018-11-12T14:26:08.619+0000</td></tr><tr><td>8mkbRBVLXnqB1DyyZ1pVcZ</td><td>8mkbRBVLXnqB1DyyZ1pVcZ|0000617</td><td>MBFEvent.APICall</td><td>0.0</td><td>0.0</td><td>2018-11-12T14:27:32.788+0000</td><td>2018-11-12T14:27:32.788+0000</td><td>2018-11-12T14:27:32.788+0000</td></tr><tr><td>8mkbRBVLXnqB1DyyZ1pVcZ</td><td>8mkbRBVLXnqB1DyyZ1pVcZ|0000617</td><td>MBFEvent.APICall</td><td>0.0</td><td>376.967</td><td>2018-11-12T14:27:33.165+0000</td><td>2018-11-12T14:27:32.788+0000</td><td>2018-11-12T14:27:33.165+0000</td></tr><tr><td>8mkbRBVLXnqB1DyyZ1pVcZ</td><td>8mkbRBVLXnqB1DyyZ1pVcZ|0000617</td><td>MBFEvent.APICall</td><td>0.0</td><td>31.305</td><td>2018-11-12T14:27:33.212+0000</td><td>2018-11-12T14:27:33.180+0000</td><td>2018-11-12T14:27:33.212+0000</td></tr><tr><td>JEBXXIfay3m328mWQLvL0x</td><td>JEBXXIfay3m328mWQLvL0x|0000160</td><td>MBFEvent.APICall</td><td>0.0</td><td>15.602</td><td>2018-11-12T14:41:04.457+0000</td><td>2018-11-12T14:41:04.442+0000</td><td>2018-11-12T14:41:04.457+0000</td></tr><tr><td>JEBXXIfay3m328mWQLvL0x</td><td>JEBXXIfay3m328mWQLvL0x|0000160</td><td>MBFEvent.APICall</td><td>0.0</td><td>205.242</td><td>2018-11-12T14:41:06.871+0000</td><td>2018-11-12T14:41:06.665+0000</td><td>2018-11-12T14:41:06.871+0000</td></tr><tr><td>JEBXXIfay3m328mWQLvL0x</td><td>JEBXXIfay3m328mWQLvL0x|0000164</td><td>MBFEvent.APICall</td><td>0.0</td><td>211.451</td><td>2018-11-12T14:41:08.308+0000</td><td>2018-11-12T14:41:08.096+0000</td><td>2018-11-12T14:41:08.308+0000</td></tr><tr><td>JEBXXIfay3m328mWQLvL0x</td><td>JEBXXIfay3m328mWQLvL0x|0000187</td><td>MBFEvent.APICall</td><td>0.0</td><td>15.591</td><td>2018-11-12T14:45:10.417+0000</td><td>2018-11-12T14:45:10.401+0000</td><td>2018-11-12T14:45:10.417+0000</td></tr><tr><td>JEBXXIfay3m328mWQLvL0x</td><td>JEBXXIfay3m328mWQLvL0x|0000187</td><td>MBFEvent.APICall</td><td>0.0</td><td>361.979</td><td>2018-11-12T14:45:13.009+0000</td><td>2018-11-12T14:45:12.647+0000</td><td>2018-11-12T14:45:13.009+0000</td></tr><tr><td>JEBXXIfay3m328mWQLvL0x</td><td>JEBXXIfay3m328mWQLvL0x|0000191</td><td>MBFEvent.APICall</td><td>0.0</td><td>207.504</td><td>2018-11-12T14:45:14.765+0000</td><td>2018-11-12T14:45:14.558+0000</td><td>2018-11-12T14:45:14.765+0000</td></tr><tr><td>8mkbRBVLXnqB1DyyZ1pVcZ</td><td>8mkbRBVLXnqB1DyyZ1pVcZ|0000651</td><td>MBFEvent.APICall</td><td>0.0</td><td>383.67</td><td>2018-11-12T14:47:28.844+0000</td><td>2018-11-12T14:47:28.461+0000</td><td>2018-11-12T14:47:28.844+0000</td></tr><tr><td>8mkbRBVLXnqB1DyyZ1pVcZ</td><td>8mkbRBVLXnqB1DyyZ1pVcZ|0000657</td><td>MBFEvent.APICall</td><td>0.0</td><td>0.0</td><td>2018-11-12T14:47:48.488+0000</td><td>2018-11-12T14:47:48.488+0000</td><td>2018-11-12T14:47:48.488+0000</td></tr><tr><td>8mkbRBVLXnqB1DyyZ1pVcZ</td><td>8mkbRBVLXnqB1DyyZ1pVcZ|0000657</td><td>MBFEvent.APICall</td><td>0.0</td><td>365.75</td><td>2018-11-12T14:47:48.853+0000</td><td>2018-11-12T14:47:48.488+0000</td><td>2018-11-12T14:47:48.853+0000</td></tr><tr><td>8mkbRBVLXnqB1DyyZ1pVcZ</td><td>8mkbRBVLXnqB1DyyZ1pVcZ|0000657</td><td>MBFEvent.APICall</td><td>0.0</td><td>169.979</td><td>2018-11-12T14:47:49.023+0000</td><td>2018-11-12T14:47:48.853+0000</td><td>2018-11-12T14:47:49.023+0000</td></tr><tr><td>JEBXXIfay3m328mWQLvL0x</td><td>JEBXXIfay3m328mWQLvL0x|0000208</td><td>MBFEvent.APICall</td><td>0.0</td><td>12.342</td><td>2018-11-12T14:48:26.093+0000</td><td>2018-11-12T14:48:26.081+0000</td><td>2018-11-12T14:48:26.093+0000</td></tr><tr><td>JEBXXIfay3m328mWQLvL0x</td><td>JEBXXIfay3m328mWQLvL0x|0000208</td><td>MBFEvent.APICall</td><td>0.0</td><td>220.259</td><td>2018-11-12T14:48:28.533+0000</td><td>2018-11-12T14:48:28.313+0000</td><td>2018-11-12T14:48:28.533+0000</td></tr><tr><td>JEBXXIfay3m328mWQLvL0x</td><td>JEBXXIfay3m328mWQLvL0x|0000212</td><td>MBFEvent.APICall</td><td>0.0</td><td>214.574</td><td>2018-11-12T14:48:30.293+0000</td><td>2018-11-12T14:48:30.078+0000</td><td>2018-11-12T14:48:30.293+0000</td></tr><tr><td>JEBXXIfay3m328mWQLvL0x</td><td>JEBXXIfay3m328mWQLvL0x|0000229</td><td>MBFEvent.APICall</td><td>0.0</td><td>218.702</td><td>2018-11-12T14:51:17.773+0000</td><td>2018-11-12T14:51:17.554+0000</td><td>2018-11-12T14:51:17.773+0000</td></tr><tr><td>JEBXXIfay3m328mWQLvL0x</td><td>JEBXXIfay3m328mWQLvL0x|0000229</td><td>MBFEvent.APICall</td><td>0.0</td><td>218.704</td><td>2018-11-12T14:51:20.231+0000</td><td>2018-11-12T14:51:20.012+0000</td><td>2018-11-12T14:51:20.231+0000</td></tr><tr><td>JEBXXIfay3m328mWQLvL0x</td><td>JEBXXIfay3m328mWQLvL0x|0000233</td><td>MBFEvent.APICall</td><td>0.0</td><td>222.421</td><td>2018-11-12T14:51:21.721+0000</td><td>2018-11-12T14:51:21.499+0000</td><td>2018-11-12T14:51:21.721+0000</td></tr><tr><td>8mkbRBVLXnqB1DyyZ1pVcZ</td><td>8mkbRBVLXnqB1DyyZ1pVcZ|0000691</td><td>MBFEvent.APICall</td><td>0.0</td><td>207.482</td><td>2018-11-12T14:54:09.988+0000</td><td>2018-11-12T14:54:09.781+0000</td><td>2018-11-12T14:54:09.988+0000</td></tr><tr><td>8mkbRBVLXnqB1DyyZ1pVcZ</td><td>8mkbRBVLXnqB1DyyZ1pVcZ|0000697</td><td>MBFEvent.APICall</td><td>0.0</td><td>0.0</td><td>2018-11-12T14:54:28.379+0000</td><td>2018-11-12T14:54:28.379+0000</td><td>2018-11-12T14:54:28.379+0000</td></tr><tr><td>8mkbRBVLXnqB1DyyZ1pVcZ</td><td>8mkbRBVLXnqB1DyyZ1pVcZ|0000697</td><td>MBFEvent.APICall</td><td>0.0</td><td>346.443</td><td>2018-11-12T14:54:28.863+0000</td><td>2018-11-12T14:54:28.516+0000</td><td>2018-11-12T14:54:28.863+0000</td></tr><tr><td>8mkbRBVLXnqB1DyyZ1pVcZ</td><td>8mkbRBVLXnqB1DyyZ1pVcZ|0000697</td><td>MBFEvent.APICall</td><td>0.0</td><td>46.902</td><td>2018-11-12T14:54:28.923+0000</td><td>2018-11-12T14:54:28.876+0000</td><td>2018-11-12T14:54:28.923+0000</td></tr><tr><td>JEBXXIfay3m328mWQLvL0x</td><td>JEBXXIfay3m328mWQLvL0x|0000250</td><td>MBFEvent.APICall</td><td>0.0</td><td>358.233</td><td>2018-11-12T14:54:29.251+0000</td><td>2018-11-12T14:54:28.892+0000</td><td>2018-11-12T14:54:29.251+0000</td></tr><tr><td>JEBXXIfay3m328mWQLvL0x</td><td>JEBXXIfay3m328mWQLvL0x|0000250</td><td>MBFEvent.APICall</td><td>0.0</td><td>223.384</td><td>2018-11-12T14:54:32.035+0000</td><td>2018-11-12T14:54:31.812+0000</td><td>2018-11-12T14:54:32.035+0000</td></tr><tr><td>JEBXXIfay3m328mWQLvL0x</td><td>JEBXXIfay3m328mWQLvL0x|0000254</td><td>MBFEvent.APICall</td><td>0.0</td><td>406.249</td><td>2018-11-12T14:54:34.821+0000</td><td>2018-11-12T14:54:34.415+0000</td><td>2018-11-12T14:54:34.821+0000</td></tr><tr><td>8mkbRBVLXnqB1DyyZ1pVcZ</td><td>8mkbRBVLXnqB1DyyZ1pVcZ|0000708</td><td>MBFEvent.APICall</td><td>0.0</td><td>46.938</td><td>2018-11-12T14:55:35.735+0000</td><td>2018-11-12T14:55:35.688+0000</td><td>2018-11-12T14:55:35.735+0000</td></tr><tr><td>8mkbRBVLXnqB1DyyZ1pVcZ</td><td>8mkbRBVLXnqB1DyyZ1pVcZ|0000708</td><td>MBFEvent.APICall</td><td>0.0</td><td>240.518</td><td>2018-11-12T14:55:38.506+0000</td><td>2018-11-12T14:55:38.265+0000</td><td>2018-11-12T14:55:38.506+0000</td></tr><tr><td>8mkbRBVLXnqB1DyyZ1pVcZ</td><td>8mkbRBVLXnqB1DyyZ1pVcZ|0000712</td><td>MBFEvent.APICall</td><td>0.0</td><td>217.912</td><td>2018-11-12T14:55:47.407+0000</td><td>2018-11-12T14:55:47.189+0000</td><td>2018-11-12T14:55:47.407+0000</td></tr></tbody></table></div>"
      ]
     },
     "metadata": {},
     "output_type": "display_data"
    }
   ],
   "source": [
    "df_api_responseTime = spark.sql(\" \\\n",
    "          SELECT ConversationId as apiConversationId, ActivityId as apiActivityId, eventName as apiEventName, BotAnswerDuration as apiBotAnswerDuration, (apiTimeDiff) as apiApiTimeDiff, eventTime as apiEventTime, startTimeAPICall as apiStartTimeAPICall, endTimeAPICall as apiEndTimeAPICall  \\\n",
    "          FROM table_4_final \\\n",
    "          WHERE eventName = 'MBFEvent.APICall' \\\n",
    "          GROUP BY ConversationId, ActivityId, eventName, BotAnswerDuration, apiTimeDiff, eventTime, startTimeAPICall, endTimeAPICall ORDER BY eventTime  \\\n",
    "          \")\n",
    "display(df_api_responseTime)"
   ]
  },
  {
   "cell_type": "markdown",
   "metadata": {},
   "source": [
    "##### Join between Bot e api"
   ]
  },
  {
   "cell_type": "code",
   "execution_count": 36,
   "metadata": {},
   "outputs": [
    {
     "data": {
      "text/html": [
       "<style scoped>\n",
       "  .table-result-container {\n",
       "    max-height: 300px;\n",
       "    overflow: auto;\n",
       "  }\n",
       "  table, th, td {\n",
       "    border: 1px solid black;\n",
       "    border-collapse: collapse;\n",
       "  }\n",
       "  th, td {\n",
       "    padding: 5px;\n",
       "  }\n",
       "  th {\n",
       "    text-align: left;\n",
       "  }\n",
       "</style><div class='table-result-container'><table class='table-result'><thead style='background-color: white'><tr><th>botConversationId</th><th>botActivityId</th><th>botEventName</th><th>botBotAnswerDuration</th><th>apiApiTimeDiff</th><th>botEventTime</th><th>apiEventTime</th><th>apiStartTimeAPICall</th><th>apiEndTimeAPICall</th></tr></thead><tbody><tr><td>2cpS4QCdLps7ycDeAxodOz</td><td>2cpS4QCdLps7ycDeAxodOz|0000050</td><td>MBFEvent.BotMessage</td><td>140.727</td><td>62.533</td><td>2018-11-12T13:58:30.494+0000</td><td>2018-11-12T13:58:30.494+0000</td><td>2018-11-12T13:58:30.431+0000</td><td>2018-11-12T13:58:30.494+0000</td></tr><tr><td>2cpS4QCdLps7ycDeAxodOz</td><td>2cpS4QCdLps7ycDeAxodOz|0000054</td><td>MBFEvent.BotMessage</td><td>265.119</td><td>218.752</td><td>2018-11-12T13:58:34.337+0000</td><td>2018-11-12T13:58:34.321+0000</td><td>2018-11-12T13:58:34.102+0000</td><td>2018-11-12T13:58:34.321+0000</td></tr><tr><td>2cpS4QCdLps7ycDeAxodOz</td><td>2cpS4QCdLps7ycDeAxodOz|0000075</td><td>MBFEvent.BotMessage</td><td>109.42</td><td>46.866</td><td>2018-11-12T13:59:07.023+0000</td><td>2018-11-12T13:59:07.023+0000</td><td>2018-11-12T13:59:06.976+0000</td><td>2018-11-12T13:59:07.023+0000</td></tr><tr><td>2cpS4QCdLps7ycDeAxodOz</td><td>2cpS4QCdLps7ycDeAxodOz|0000079</td><td>MBFEvent.BotMessage</td><td>252.59</td><td>190.1</td><td>2018-11-12T13:59:10.845+0000</td><td>2018-11-12T13:59:10.814+0000</td><td>2018-11-12T13:59:10.624+0000</td><td>2018-11-12T13:59:10.814+0000</td></tr><tr><td>2cpS4QCdLps7ycDeAxodOz</td><td>2cpS4QCdLps7ycDeAxodOz|0000088</td><td>MBFEvent.BotMessage</td><td>138.718</td><td>30.28</td><td>2018-11-12T14:04:05.617+0000</td><td>2018-11-12T14:04:05.617+0000</td><td>2018-11-12T14:04:05.587+0000</td><td>2018-11-12T14:04:05.617+0000</td></tr><tr><td>2cpS4QCdLps7ycDeAxodOz</td><td>2cpS4QCdLps7ycDeAxodOz|0000092</td><td>MBFEvent.BotMessage</td><td>485.423</td><td>420.925</td><td>2018-11-12T14:04:11.087+0000</td><td>2018-11-12T14:04:11.039+0000</td><td>2018-11-12T14:04:10.618+0000</td><td>2018-11-12T14:04:11.039+0000</td></tr><tr><td>2cpS4QCdLps7ycDeAxodOz</td><td>2cpS4QCdLps7ycDeAxodOz|0000100</td><td>MBFEvent.BotMessage</td><td>249.043</td><td>175.186</td><td>2018-11-12T14:04:16.292+0000</td><td>2018-11-12T14:04:16.292+0000</td><td>2018-11-12T14:04:16.117+0000</td><td>2018-11-12T14:04:16.292+0000</td></tr><tr><td>2cpS4QCdLps7ycDeAxodOz</td><td>2cpS4QCdLps7ycDeAxodOz|0000104</td><td>MBFEvent.BotMessage</td><td>252.643</td><td>205.699</td><td>2018-11-12T14:04:20.438+0000</td><td>2018-11-12T14:04:20.422+0000</td><td>2018-11-12T14:04:20.217+0000</td><td>2018-11-12T14:04:20.422+0000</td></tr><tr><td>JEBXXIfay3m328mWQLvL0x</td><td>JEBXXIfay3m328mWQLvL0x|0000018</td><td>MBFEvent.BotMessage</td><td>310.325</td><td>202.42</td><td>2018-11-12T14:08:07.494+0000</td><td>2018-11-12T14:08:07.494+0000</td><td>2018-11-12T14:08:07.292+0000</td><td>2018-11-12T14:08:07.494+0000</td></tr><tr><td>JEBXXIfay3m328mWQLvL0x</td><td>JEBXXIfay3m328mWQLvL0x|0000022</td><td>MBFEvent.BotMessage</td><td>241.582</td><td>192.933</td><td>2018-11-12T14:08:11.297+0000</td><td>2018-11-12T14:08:11.266+0000</td><td>2018-11-12T14:08:11.073+0000</td><td>2018-11-12T14:08:11.266+0000</td></tr><tr><td>JEBXXIfay3m328mWQLvL0x</td><td>JEBXXIfay3m328mWQLvL0x|0000031</td><td>MBFEvent.BotMessage</td><td>342.479</td><td>29.805</td><td>2018-11-12T14:08:46.042+0000</td><td>2018-11-12T14:08:46.042+0000</td><td>2018-11-12T14:08:46.012+0000</td><td>2018-11-12T14:08:46.042+0000</td></tr><tr><td>JEBXXIfay3m328mWQLvL0x</td><td>JEBXXIfay3m328mWQLvL0x|0000035</td><td>MBFEvent.BotMessage</td><td>380.498</td><td>295.758</td><td>2018-11-12T14:08:50.499+0000</td><td>2018-11-12T14:08:50.450+0000</td><td>2018-11-12T14:08:50.154+0000</td><td>2018-11-12T14:08:50.450+0000</td></tr><tr><td>JEBXXIfay3m328mWQLvL0x</td><td>JEBXXIfay3m328mWQLvL0x|0000043</td><td>MBFEvent.BotMessage</td><td>2826.354</td><td>855.316</td><td>2018-11-12T14:09:18.227+0000</td><td>2018-11-12T14:09:18.227+0000</td><td>2018-11-12T14:09:17.372+0000</td><td>2018-11-12T14:09:18.227+0000</td></tr><tr><td>8mkbRBVLXnqB1DyyZ1pVcZ</td><td>8mkbRBVLXnqB1DyyZ1pVcZ|0000531</td><td>MBFEvent.BotMessage</td><td>1111.101</td><td>905.255</td><td>2018-11-12T14:09:19.573+0000</td><td>2018-11-12T14:09:19.573+0000</td><td>2018-11-12T14:09:18.668+0000</td><td>2018-11-12T14:09:19.573+0000</td></tr><tr><td>JEBXXIfay3m328mWQLvL0x</td><td>JEBXXIfay3m328mWQLvL0x|0000047</td><td>MBFEvent.BotMessage</td><td>660.223</td><td>221.414</td><td>2018-11-12T14:09:28.110+0000</td><td>2018-11-12T14:09:27.888+0000</td><td>2018-11-12T14:09:27.667+0000</td><td>2018-11-12T14:09:27.888+0000</td></tr><tr><td>JEBXXIfay3m328mWQLvL0x</td><td>JEBXXIfay3m328mWQLvL0x|0000062</td><td>MBFEvent.BotMessage</td><td>170.741</td><td>62.494</td><td>2018-11-12T14:09:53.873+0000</td><td>2018-11-12T14:09:53.873+0000</td><td>2018-11-12T14:09:53.811+0000</td><td>2018-11-12T14:09:53.873+0000</td></tr><tr><td>JEBXXIfay3m328mWQLvL0x</td><td>JEBXXIfay3m328mWQLvL0x|0000066</td><td>MBFEvent.BotMessage</td><td>265.26</td><td>219.844</td><td>2018-11-12T14:09:57.460+0000</td><td>2018-11-12T14:09:57.444+0000</td><td>2018-11-12T14:09:57.224+0000</td><td>2018-11-12T14:09:57.444+0000</td></tr><tr><td>8mkbRBVLXnqB1DyyZ1pVcZ</td><td>8mkbRBVLXnqB1DyyZ1pVcZ|0000551</td><td>MBFEvent.BotMessage</td><td>593.452</td><td>378.03</td><td>2018-11-12T14:11:20.744+0000</td><td>2018-11-12T14:11:20.576+0000</td><td>2018-11-12T14:11:20.198+0000</td><td>2018-11-12T14:11:20.576+0000</td></tr><tr><td>JEBXXIfay3m328mWQLvL0x</td><td>JEBXXIfay3m328mWQLvL0x|0000083</td><td>MBFEvent.BotMessage</td><td>89.44</td><td>15.646</td><td>2018-11-12T14:11:24.898+0000</td><td>2018-11-12T14:11:24.898+0000</td><td>2018-11-12T14:11:24.883+0000</td><td>2018-11-12T14:11:24.898+0000</td></tr><tr><td>JEBXXIfay3m328mWQLvL0x</td><td>JEBXXIfay3m328mWQLvL0x|0000087</td><td>MBFEvent.BotMessage</td><td>244.728</td><td>199.951</td><td>2018-11-12T14:11:28.678+0000</td><td>2018-11-12T14:11:28.662+0000</td><td>2018-11-12T14:11:28.462+0000</td><td>2018-11-12T14:11:28.662+0000</td></tr><tr><td>8mkbRBVLXnqB1DyyZ1pVcZ</td><td>8mkbRBVLXnqB1DyyZ1pVcZ|0000562</td><td>MBFEvent.BotMessage</td><td>866.158</td><td>0.0</td><td>2018-11-12T14:15:56.755+0000</td><td>2018-11-12T14:15:55.955+0000</td><td>2018-11-12T14:15:55.955+0000</td><td>2018-11-12T14:15:55.955+0000</td></tr><tr><td>8mkbRBVLXnqB1DyyZ1pVcZ</td><td>8mkbRBVLXnqB1DyyZ1pVcZ|0000562</td><td>MBFEvent.BotMessage</td><td>866.158</td><td>535.209</td><td>2018-11-12T14:15:56.755+0000</td><td>2018-11-12T14:15:56.490+0000</td><td>2018-11-12T14:15:55.955+0000</td><td>2018-11-12T14:15:56.490+0000</td></tr><tr><td>8mkbRBVLXnqB1DyyZ1pVcZ</td><td>8mkbRBVLXnqB1DyyZ1pVcZ|0000562</td><td>MBFEvent.BotMessage</td><td>866.158</td><td>62.557</td><td>2018-11-12T14:15:56.755+0000</td><td>2018-11-12T14:15:56.552+0000</td><td>2018-11-12T14:15:56.490+0000</td><td>2018-11-12T14:15:56.552+0000</td></tr><tr><td>8mkbRBVLXnqB1DyyZ1pVcZ</td><td>8mkbRBVLXnqB1DyyZ1pVcZ|0000571</td><td>MBFEvent.BotMessage</td><td>342.381</td><td>46.902</td><td>2018-11-12T14:24:36.925+0000</td><td>2018-11-12T14:24:36.878+0000</td><td>2018-11-12T14:24:36.831+0000</td><td>2018-11-12T14:24:36.878+0000</td></tr><tr><td>8mkbRBVLXnqB1DyyZ1pVcZ</td><td>8mkbRBVLXnqB1DyyZ1pVcZ|0000575</td><td>MBFEvent.BotMessage</td><td>255.807</td><td>191.016</td><td>2018-11-12T14:24:47.134+0000</td><td>2018-11-12T14:24:47.118+0000</td><td>2018-11-12T14:24:46.927+0000</td><td>2018-11-12T14:24:47.118+0000</td></tr><tr><td>8mkbRBVLXnqB1DyyZ1pVcZ</td><td>8mkbRBVLXnqB1DyyZ1pVcZ|0000602</td><td>MBFEvent.BotMessage</td><td>388.551</td><td>302.444</td><td>2018-11-12T14:25:49.142+0000</td><td>2018-11-12T14:25:49.117+0000</td><td>2018-11-12T14:25:48.814+0000</td><td>2018-11-12T14:25:49.117+0000</td></tr><tr><td>8mkbRBVLXnqB1DyyZ1pVcZ</td><td>8mkbRBVLXnqB1DyyZ1pVcZ|0000617</td><td>MBFEvent.BotMessage</td><td>644.779</td><td>0.0</td><td>2018-11-12T14:27:33.384+0000</td><td>2018-11-12T14:27:32.788+0000</td><td>2018-11-12T14:27:32.788+0000</td><td>2018-11-12T14:27:32.788+0000</td></tr><tr><td>8mkbRBVLXnqB1DyyZ1pVcZ</td><td>8mkbRBVLXnqB1DyyZ1pVcZ|0000617</td><td>MBFEvent.BotMessage</td><td>644.779</td><td>376.967</td><td>2018-11-12T14:27:33.384+0000</td><td>2018-11-12T14:27:33.165+0000</td><td>2018-11-12T14:27:32.788+0000</td><td>2018-11-12T14:27:33.165+0000</td></tr><tr><td>8mkbRBVLXnqB1DyyZ1pVcZ</td><td>8mkbRBVLXnqB1DyyZ1pVcZ|0000617</td><td>MBFEvent.BotMessage</td><td>644.779</td><td>31.305</td><td>2018-11-12T14:27:33.384+0000</td><td>2018-11-12T14:27:33.212+0000</td><td>2018-11-12T14:27:33.180+0000</td><td>2018-11-12T14:27:33.212+0000</td></tr><tr><td>JEBXXIfay3m328mWQLvL0x</td><td>JEBXXIfay3m328mWQLvL0x|0000160</td><td>MBFEvent.BotMessage</td><td>124.324</td><td>15.602</td><td>2018-11-12T14:41:04.457+0000</td><td>2018-11-12T14:41:04.457+0000</td><td>2018-11-12T14:41:04.442+0000</td><td>2018-11-12T14:41:04.457+0000</td></tr><tr><td>JEBXXIfay3m328mWQLvL0x</td><td>JEBXXIfay3m328mWQLvL0x|0000164</td><td>MBFEvent.BotMessage</td><td>306.549</td><td>211.451</td><td>2018-11-12T14:41:08.323+0000</td><td>2018-11-12T14:41:08.308+0000</td><td>2018-11-12T14:41:08.096+0000</td><td>2018-11-12T14:41:08.308+0000</td></tr><tr><td>JEBXXIfay3m328mWQLvL0x</td><td>JEBXXIfay3m328mWQLvL0x|0000187</td><td>MBFEvent.BotMessage</td><td>124.999</td><td>15.591</td><td>2018-11-12T14:45:10.417+0000</td><td>2018-11-12T14:45:10.417+0000</td><td>2018-11-12T14:45:10.401+0000</td><td>2018-11-12T14:45:10.417+0000</td></tr><tr><td>JEBXXIfay3m328mWQLvL0x</td><td>JEBXXIfay3m328mWQLvL0x|0000191</td><td>MBFEvent.BotMessage</td><td>302.355</td><td>207.504</td><td>2018-11-12T14:45:14.781+0000</td><td>2018-11-12T14:45:14.765+0000</td><td>2018-11-12T14:45:14.558+0000</td><td>2018-11-12T14:45:14.765+0000</td></tr><tr><td>8mkbRBVLXnqB1DyyZ1pVcZ</td><td>8mkbRBVLXnqB1DyyZ1pVcZ|0000657</td><td>MBFEvent.BotMessage</td><td>755.81</td><td>0.0</td><td>2018-11-12T14:47:49.196+0000</td><td>2018-11-12T14:47:48.488+0000</td><td>2018-11-12T14:47:48.488+0000</td><td>2018-11-12T14:47:48.488+0000</td></tr><tr><td>8mkbRBVLXnqB1DyyZ1pVcZ</td><td>8mkbRBVLXnqB1DyyZ1pVcZ|0000657</td><td>MBFEvent.BotMessage</td><td>755.81</td><td>365.75</td><td>2018-11-12T14:47:49.196+0000</td><td>2018-11-12T14:47:48.853+0000</td><td>2018-11-12T14:47:48.488+0000</td><td>2018-11-12T14:47:48.853+0000</td></tr><tr><td>8mkbRBVLXnqB1DyyZ1pVcZ</td><td>8mkbRBVLXnqB1DyyZ1pVcZ|0000657</td><td>MBFEvent.BotMessage</td><td>755.81</td><td>169.979</td><td>2018-11-12T14:47:49.196+0000</td><td>2018-11-12T14:47:49.023+0000</td><td>2018-11-12T14:47:48.853+0000</td><td>2018-11-12T14:47:49.023+0000</td></tr><tr><td>JEBXXIfay3m328mWQLvL0x</td><td>JEBXXIfay3m328mWQLvL0x|0000208</td><td>MBFEvent.BotMessage</td><td>155.712</td><td>12.342</td><td>2018-11-12T14:48:26.093+0000</td><td>2018-11-12T14:48:26.093+0000</td><td>2018-11-12T14:48:26.081+0000</td><td>2018-11-12T14:48:26.093+0000</td></tr><tr><td>JEBXXIfay3m328mWQLvL0x</td><td>JEBXXIfay3m328mWQLvL0x|0000212</td><td>MBFEvent.BotMessage</td><td>322.916</td><td>214.574</td><td>2018-11-12T14:48:30.309+0000</td><td>2018-11-12T14:48:30.293+0000</td><td>2018-11-12T14:48:30.078+0000</td><td>2018-11-12T14:48:30.293+0000</td></tr><tr><td>JEBXXIfay3m328mWQLvL0x</td><td>JEBXXIfay3m328mWQLvL0x|0000229</td><td>MBFEvent.BotMessage</td><td>422.194</td><td>218.702</td><td>2018-11-12T14:51:17.789+0000</td><td>2018-11-12T14:51:17.773+0000</td><td>2018-11-12T14:51:17.554+0000</td><td>2018-11-12T14:51:17.773+0000</td></tr><tr><td>JEBXXIfay3m328mWQLvL0x</td><td>JEBXXIfay3m328mWQLvL0x|0000233</td><td>MBFEvent.BotMessage</td><td>382.094</td><td>222.421</td><td>2018-11-12T14:51:21.772+0000</td><td>2018-11-12T14:51:21.721+0000</td><td>2018-11-12T14:51:21.499+0000</td><td>2018-11-12T14:51:21.721+0000</td></tr><tr><td>8mkbRBVLXnqB1DyyZ1pVcZ</td><td>8mkbRBVLXnqB1DyyZ1pVcZ|0000697</td><td>MBFEvent.BotMessage</td><td>1047.982</td><td>0.0</td><td>2018-11-12T14:54:29.239+0000</td><td>2018-11-12T14:54:28.379+0000</td><td>2018-11-12T14:54:28.379+0000</td><td>2018-11-12T14:54:28.379+0000</td></tr><tr><td>8mkbRBVLXnqB1DyyZ1pVcZ</td><td>8mkbRBVLXnqB1DyyZ1pVcZ|0000697</td><td>MBFEvent.BotMessage</td><td>1047.982</td><td>346.443</td><td>2018-11-12T14:54:29.239+0000</td><td>2018-11-12T14:54:28.863+0000</td><td>2018-11-12T14:54:28.516+0000</td><td>2018-11-12T14:54:28.863+0000</td></tr><tr><td>8mkbRBVLXnqB1DyyZ1pVcZ</td><td>8mkbRBVLXnqB1DyyZ1pVcZ|0000697</td><td>MBFEvent.BotMessage</td><td>1047.982</td><td>46.902</td><td>2018-11-12T14:54:29.239+0000</td><td>2018-11-12T14:54:28.923+0000</td><td>2018-11-12T14:54:28.876+0000</td><td>2018-11-12T14:54:28.923+0000</td></tr><tr><td>JEBXXIfay3m328mWQLvL0x</td><td>JEBXXIfay3m328mWQLvL0x|0000250</td><td>MBFEvent.BotMessage</td><td>792.632</td><td>358.233</td><td>2018-11-12T14:54:29.298+0000</td><td>2018-11-12T14:54:29.251+0000</td><td>2018-11-12T14:54:28.892+0000</td><td>2018-11-12T14:54:29.251+0000</td></tr><tr><td>JEBXXIfay3m328mWQLvL0x</td><td>JEBXXIfay3m328mWQLvL0x|0000254</td><td>MBFEvent.BotMessage</td><td>654.013</td><td>406.249</td><td>2018-11-12T14:54:34.931+0000</td><td>2018-11-12T14:54:34.821+0000</td><td>2018-11-12T14:54:34.415+0000</td><td>2018-11-12T14:54:34.821+0000</td></tr><tr><td>8mkbRBVLXnqB1DyyZ1pVcZ</td><td>8mkbRBVLXnqB1DyyZ1pVcZ|0000708</td><td>MBFEvent.BotMessage</td><td>347.725</td><td>46.938</td><td>2018-11-12T14:55:35.895+0000</td><td>2018-11-12T14:55:35.735+0000</td><td>2018-11-12T14:55:35.688+0000</td><td>2018-11-12T14:55:35.735+0000</td></tr><tr><td>8mkbRBVLXnqB1DyyZ1pVcZ</td><td>8mkbRBVLXnqB1DyyZ1pVcZ|0000712</td><td>MBFEvent.BotMessage</td><td>356.439</td><td>217.912</td><td>2018-11-12T14:55:47.439+0000</td><td>2018-11-12T14:55:47.407+0000</td><td>2018-11-12T14:55:47.189+0000</td><td>2018-11-12T14:55:47.407+0000</td></tr></tbody></table></div>"
      ]
     },
     "metadata": {},
     "output_type": "display_data"
    }
   ],
   "source": [
    "df_join_responseTime = df_bot_responseTime.join(df_api_responseTime, ((df_bot_responseTime.botConversationId == df_api_responseTime.apiConversationId) & ((df_bot_responseTime.botActivityId == df_api_responseTime.apiActivityId))), 'left')\n",
    "#df_bot_responseTime.unpersist() # unpersist() useful to prevent duplicates\n",
    "#df_api_responseTime.unpersist()\n",
    "df_join_responseTime_final = df_join_responseTime.where((col(\"botEventTime\") >= col(\"apiEndTimeAPICall\")) ).orderBy('apiEventTime') # Checking that the call of API  ends before the BotAnswer for the same ActivityId\n",
    "#df_join_responseTime.unpersist()\n",
    "df_join_responseTime_final= df_join_responseTime_final.select('botConversationId',\n",
    " 'botActivityId',\n",
    " 'botEventName',\n",
    " 'botBotAnswerDuration',\n",
    " 'apiApiTimeDiff',\n",
    " 'botEventTime',\n",
    " 'apiEventTime',\n",
    " 'apiStartTimeAPICall',\n",
    " 'apiEndTimeAPICall')\n",
    "#display(df_join_responseTime_final.select('botConversationId','botActivityId','botEventTime','apiStartTimeAPICall','apiEndTimeAPICall'))\n",
    "\n",
    "display(df_join_responseTime_final)\n",
    "\n",
    "\"\"\" Replacing NULLS with zeros\"\"\"  # <-- LASCIARLO SOLO SE VOGLIO CAMBIARE I NULL DI APITIMEDIFF CON DEGLI ZERO!!!!\n",
    "\"\"\"udf = UserDefinedFunction(lambda x: float(0) if ClassType(x) != float else x, FloatType() )\n",
    "df_join_responseTime_final= df_join_responseTime_final.select(*[udf(column).alias('apiApiTimeDiff') if column == 'apiApiTimeDiff' else column for column in df_join_responseTime_final.columns])\"\"\""
   ]
  },
  {
   "cell_type": "markdown",
   "metadata": {},
   "source": [
    "##### Sum apiTimeDiff for the same activity: subtracting sum from BotAnswerDuration"
   ]
  },
  {
   "cell_type": "code",
   "execution_count": 38,
   "metadata": {},
   "outputs": [
    {
     "data": {
      "text/html": [
       "<style scoped>\n",
       "  .table-result-container {\n",
       "    max-height: 300px;\n",
       "    overflow: auto;\n",
       "  }\n",
       "  table, th, td {\n",
       "    border: 1px solid black;\n",
       "    border-collapse: collapse;\n",
       "  }\n",
       "  th, td {\n",
       "    padding: 5px;\n",
       "  }\n",
       "  th {\n",
       "    text-align: left;\n",
       "  }\n",
       "</style><div class='table-result-container'><table class='table-result'><thead style='background-color: white'><tr><th>botConversationId</th><th>botActivityId</th><th>botEventName</th><th>botBotAnswerDuration</th><th>botEventTime</th><th>sumApiTimeDiff</th></tr></thead><tbody><tr><td>JEBXXIfay3m328mWQLvL0x</td><td>JEBXXIfay3m328mWQLvL0x|0000160</td><td>MBFEvent.BotMessage</td><td>124.324</td><td>2018-11-12T14:41:04.457+0000</td><td>15.60200023651123</td></tr><tr><td>JEBXXIfay3m328mWQLvL0x</td><td>JEBXXIfay3m328mWQLvL0x|0000018</td><td>MBFEvent.BotMessage</td><td>310.325</td><td>2018-11-12T14:08:07.494+0000</td><td>202.4199981689453</td></tr><tr><td>JEBXXIfay3m328mWQLvL0x</td><td>JEBXXIfay3m328mWQLvL0x|0000229</td><td>MBFEvent.BotMessage</td><td>422.194</td><td>2018-11-12T14:51:17.789+0000</td><td>218.70199584960938</td></tr><tr><td>8mkbRBVLXnqB1DyyZ1pVcZ</td><td>8mkbRBVLXnqB1DyyZ1pVcZ|0000551</td><td>MBFEvent.BotMessage</td><td>593.452</td><td>2018-11-12T14:11:20.744+0000</td><td>378.0299987792969</td></tr><tr><td>JEBXXIfay3m328mWQLvL0x</td><td>JEBXXIfay3m328mWQLvL0x|0000250</td><td>MBFEvent.BotMessage</td><td>792.632</td><td>2018-11-12T14:54:29.298+0000</td><td>358.2330017089844</td></tr><tr><td>JEBXXIfay3m328mWQLvL0x</td><td>JEBXXIfay3m328mWQLvL0x|0000043</td><td>MBFEvent.BotMessage</td><td>2826.354</td><td>2018-11-12T14:09:18.227+0000</td><td>855.3159790039062</td></tr><tr><td>2cpS4QCdLps7ycDeAxodOz</td><td>2cpS4QCdLps7ycDeAxodOz|0000050</td><td>MBFEvent.BotMessage</td><td>140.727</td><td>2018-11-12T13:58:30.494+0000</td><td>62.53300094604492</td></tr><tr><td>8mkbRBVLXnqB1DyyZ1pVcZ</td><td>8mkbRBVLXnqB1DyyZ1pVcZ|0000712</td><td>MBFEvent.BotMessage</td><td>356.439</td><td>2018-11-12T14:55:47.439+0000</td><td>217.91200256347656</td></tr><tr><td>JEBXXIfay3m328mWQLvL0x</td><td>JEBXXIfay3m328mWQLvL0x|0000047</td><td>MBFEvent.BotMessage</td><td>660.223</td><td>2018-11-12T14:09:28.110+0000</td><td>221.41400146484375</td></tr><tr><td>2cpS4QCdLps7ycDeAxodOz</td><td>2cpS4QCdLps7ycDeAxodOz|0000100</td><td>MBFEvent.BotMessage</td><td>249.043</td><td>2018-11-12T14:04:16.292+0000</td><td>175.18600463867188</td></tr><tr><td>2cpS4QCdLps7ycDeAxodOz</td><td>2cpS4QCdLps7ycDeAxodOz|0000092</td><td>MBFEvent.BotMessage</td><td>485.423</td><td>2018-11-12T14:04:11.087+0000</td><td>420.92498779296875</td></tr><tr><td>2cpS4QCdLps7ycDeAxodOz</td><td>2cpS4QCdLps7ycDeAxodOz|0000054</td><td>MBFEvent.BotMessage</td><td>265.119</td><td>2018-11-12T13:58:34.337+0000</td><td>218.7519989013672</td></tr><tr><td>JEBXXIfay3m328mWQLvL0x</td><td>JEBXXIfay3m328mWQLvL0x|0000191</td><td>MBFEvent.BotMessage</td><td>302.355</td><td>2018-11-12T14:45:14.781+0000</td><td>207.50399780273438</td></tr><tr><td>JEBXXIfay3m328mWQLvL0x</td><td>JEBXXIfay3m328mWQLvL0x|0000062</td><td>MBFEvent.BotMessage</td><td>170.741</td><td>2018-11-12T14:09:53.873+0000</td><td>62.49399948120117</td></tr><tr><td>8mkbRBVLXnqB1DyyZ1pVcZ</td><td>8mkbRBVLXnqB1DyyZ1pVcZ|0000657</td><td>MBFEvent.BotMessage</td><td>755.81</td><td>2018-11-12T14:47:49.196+0000</td><td>535.72900390625</td></tr><tr><td>2cpS4QCdLps7ycDeAxodOz</td><td>2cpS4QCdLps7ycDeAxodOz|0000075</td><td>MBFEvent.BotMessage</td><td>109.42</td><td>2018-11-12T13:59:07.023+0000</td><td>46.86600112915039</td></tr><tr><td>2cpS4QCdLps7ycDeAxodOz</td><td>2cpS4QCdLps7ycDeAxodOz|0000104</td><td>MBFEvent.BotMessage</td><td>252.643</td><td>2018-11-12T14:04:20.438+0000</td><td>205.69900512695312</td></tr><tr><td>8mkbRBVLXnqB1DyyZ1pVcZ</td><td>8mkbRBVLXnqB1DyyZ1pVcZ|0000575</td><td>MBFEvent.BotMessage</td><td>255.807</td><td>2018-11-12T14:24:47.134+0000</td><td>191.01600646972656</td></tr><tr><td>JEBXXIfay3m328mWQLvL0x</td><td>JEBXXIfay3m328mWQLvL0x|0000066</td><td>MBFEvent.BotMessage</td><td>265.26</td><td>2018-11-12T14:09:57.460+0000</td><td>219.843994140625</td></tr><tr><td>JEBXXIfay3m328mWQLvL0x</td><td>JEBXXIfay3m328mWQLvL0x|0000022</td><td>MBFEvent.BotMessage</td><td>241.582</td><td>2018-11-12T14:08:11.297+0000</td><td>192.93299865722656</td></tr><tr><td>8mkbRBVLXnqB1DyyZ1pVcZ</td><td>8mkbRBVLXnqB1DyyZ1pVcZ|0000602</td><td>MBFEvent.BotMessage</td><td>388.551</td><td>2018-11-12T14:25:49.142+0000</td><td>302.4440002441406</td></tr><tr><td>8mkbRBVLXnqB1DyyZ1pVcZ</td><td>8mkbRBVLXnqB1DyyZ1pVcZ|0000531</td><td>MBFEvent.BotMessage</td><td>1111.101</td><td>2018-11-12T14:09:19.573+0000</td><td>905.2550048828125</td></tr><tr><td>JEBXXIfay3m328mWQLvL0x</td><td>JEBXXIfay3m328mWQLvL0x|0000164</td><td>MBFEvent.BotMessage</td><td>306.549</td><td>2018-11-12T14:41:08.323+0000</td><td>211.4510040283203</td></tr><tr><td>8mkbRBVLXnqB1DyyZ1pVcZ</td><td>8mkbRBVLXnqB1DyyZ1pVcZ|0000617</td><td>MBFEvent.BotMessage</td><td>644.779</td><td>2018-11-12T14:27:33.384+0000</td><td>408.27201080322266</td></tr><tr><td>JEBXXIfay3m328mWQLvL0x</td><td>JEBXXIfay3m328mWQLvL0x|0000187</td><td>MBFEvent.BotMessage</td><td>124.999</td><td>2018-11-12T14:45:10.417+0000</td><td>15.590999603271484</td></tr><tr><td>8mkbRBVLXnqB1DyyZ1pVcZ</td><td>8mkbRBVLXnqB1DyyZ1pVcZ|0000571</td><td>MBFEvent.BotMessage</td><td>342.381</td><td>2018-11-12T14:24:36.925+0000</td><td>46.902000427246094</td></tr><tr><td>2cpS4QCdLps7ycDeAxodOz</td><td>2cpS4QCdLps7ycDeAxodOz|0000079</td><td>MBFEvent.BotMessage</td><td>252.59</td><td>2018-11-12T13:59:10.845+0000</td><td>190.10000610351562</td></tr><tr><td>8mkbRBVLXnqB1DyyZ1pVcZ</td><td>8mkbRBVLXnqB1DyyZ1pVcZ|0000708</td><td>MBFEvent.BotMessage</td><td>347.725</td><td>2018-11-12T14:55:35.895+0000</td><td>46.9379997253418</td></tr><tr><td>2cpS4QCdLps7ycDeAxodOz</td><td>2cpS4QCdLps7ycDeAxodOz|0000088</td><td>MBFEvent.BotMessage</td><td>138.718</td><td>2018-11-12T14:04:05.617+0000</td><td>30.280000686645508</td></tr><tr><td>JEBXXIfay3m328mWQLvL0x</td><td>JEBXXIfay3m328mWQLvL0x|0000087</td><td>MBFEvent.BotMessage</td><td>244.728</td><td>2018-11-12T14:11:28.678+0000</td><td>199.9510040283203</td></tr><tr><td>JEBXXIfay3m328mWQLvL0x</td><td>JEBXXIfay3m328mWQLvL0x|0000031</td><td>MBFEvent.BotMessage</td><td>342.479</td><td>2018-11-12T14:08:46.042+0000</td><td>29.80500030517578</td></tr><tr><td>JEBXXIfay3m328mWQLvL0x</td><td>JEBXXIfay3m328mWQLvL0x|0000233</td><td>MBFEvent.BotMessage</td><td>382.094</td><td>2018-11-12T14:51:21.772+0000</td><td>222.42100524902344</td></tr><tr><td>JEBXXIfay3m328mWQLvL0x</td><td>JEBXXIfay3m328mWQLvL0x|0000083</td><td>MBFEvent.BotMessage</td><td>89.44</td><td>2018-11-12T14:11:24.898+0000</td><td>15.645999908447266</td></tr><tr><td>8mkbRBVLXnqB1DyyZ1pVcZ</td><td>8mkbRBVLXnqB1DyyZ1pVcZ|0000697</td><td>MBFEvent.BotMessage</td><td>1047.982</td><td>2018-11-12T14:54:29.239+0000</td><td>393.3449935913086</td></tr><tr><td>JEBXXIfay3m328mWQLvL0x</td><td>JEBXXIfay3m328mWQLvL0x|0000208</td><td>MBFEvent.BotMessage</td><td>155.712</td><td>2018-11-12T14:48:26.093+0000</td><td>12.342000007629395</td></tr><tr><td>8mkbRBVLXnqB1DyyZ1pVcZ</td><td>8mkbRBVLXnqB1DyyZ1pVcZ|0000562</td><td>MBFEvent.BotMessage</td><td>866.158</td><td>2018-11-12T14:15:56.755+0000</td><td>597.765983581543</td></tr><tr><td>JEBXXIfay3m328mWQLvL0x</td><td>JEBXXIfay3m328mWQLvL0x|0000035</td><td>MBFEvent.BotMessage</td><td>380.498</td><td>2018-11-12T14:08:50.499+0000</td><td>295.75799560546875</td></tr><tr><td>JEBXXIfay3m328mWQLvL0x</td><td>JEBXXIfay3m328mWQLvL0x|0000254</td><td>MBFEvent.BotMessage</td><td>654.013</td><td>2018-11-12T14:54:34.931+0000</td><td>406.2489929199219</td></tr><tr><td>JEBXXIfay3m328mWQLvL0x</td><td>JEBXXIfay3m328mWQLvL0x|0000212</td><td>MBFEvent.BotMessage</td><td>322.916</td><td>2018-11-12T14:48:30.309+0000</td><td>214.57400512695312</td></tr></tbody></table></div>"
      ]
     },
     "metadata": {},
     "output_type": "display_data"
    }
   ],
   "source": [
    "df_join_responseTime_final.createOrReplaceTempView('table_join_final')\n",
    "\n",
    "df_sum_api= spark.sql( \"SELECT botConversationId, botActivityId, botEventName, botBotAnswerDuration,botEventTime, sum(apiApiTimeDiff) as sumApiTimeDiff\\\n",
    "            FROM table_join_final \\\n",
    "            GROUP BY botConversationId, botActivityId, botEventName, botBotAnswerDuration,botEventTime\")\n",
    "\n",
    "\n",
    "df_sum_api_final = df_sum_api.withColumn(\"botBotAnswerDuration\", (df_sum_api[\"botBotAnswerDuration\"] - df_sum_api[\"sumApiTimeDiff\"]))\n",
    "df_sum_api_final= df_sum_api_final.drop(\"sumApiTimeDiff\")\n",
    "display(df_sum_api)"
   ]
  },
  {
   "cell_type": "code",
   "execution_count": 39,
   "metadata": {},
   "outputs": [
    {
     "data": {
      "text/html": [
       "<style scoped>\n",
       "  .table-result-container {\n",
       "    max-height: 300px;\n",
       "    overflow: auto;\n",
       "  }\n",
       "  table, th, td {\n",
       "    border: 1px solid black;\n",
       "    border-collapse: collapse;\n",
       "  }\n",
       "  th, td {\n",
       "    padding: 5px;\n",
       "  }\n",
       "  th {\n",
       "    text-align: left;\n",
       "  }\n",
       "</style><div class='table-result-container'><table class='table-result'><thead style='background-color: white'><tr><th>botConversationId</th><th>botActivityId</th><th>botEventName</th><th>botBotAnswerDuration</th><th>botEventTime</th></tr></thead><tbody><tr><td>JEBXXIfay3m328mWQLvL0x</td><td>JEBXXIfay3m328mWQLvL0x|0000160</td><td>MBFEvent.BotMessage</td><td>108.72199726104736</td><td>2018-11-12T14:41:04.457+0000</td></tr><tr><td>JEBXXIfay3m328mWQLvL0x</td><td>JEBXXIfay3m328mWQLvL0x|0000018</td><td>MBFEvent.BotMessage</td><td>107.90501403808594</td><td>2018-11-12T14:08:07.494+0000</td></tr><tr><td>JEBXXIfay3m328mWQLvL0x</td><td>JEBXXIfay3m328mWQLvL0x|0000229</td><td>MBFEvent.BotMessage</td><td>203.49200439453125</td><td>2018-11-12T14:51:17.789+0000</td></tr><tr><td>8mkbRBVLXnqB1DyyZ1pVcZ</td><td>8mkbRBVLXnqB1DyyZ1pVcZ|0000551</td><td>MBFEvent.BotMessage</td><td>215.42202758789062</td><td>2018-11-12T14:11:20.744+0000</td></tr><tr><td>JEBXXIfay3m328mWQLvL0x</td><td>JEBXXIfay3m328mWQLvL0x|0000250</td><td>MBFEvent.BotMessage</td><td>434.3990173339844</td><td>2018-11-12T14:54:29.298+0000</td></tr><tr><td>JEBXXIfay3m328mWQLvL0x</td><td>JEBXXIfay3m328mWQLvL0x|0000043</td><td>MBFEvent.BotMessage</td><td>1971.0380249023438</td><td>2018-11-12T14:09:18.227+0000</td></tr><tr><td>2cpS4QCdLps7ycDeAxodOz</td><td>2cpS4QCdLps7ycDeAxodOz|0000050</td><td>MBFEvent.BotMessage</td><td>78.19400405883789</td><td>2018-11-12T13:58:30.494+0000</td></tr><tr><td>8mkbRBVLXnqB1DyyZ1pVcZ</td><td>8mkbRBVLXnqB1DyyZ1pVcZ|0000712</td><td>MBFEvent.BotMessage</td><td>138.52699279785156</td><td>2018-11-12T14:55:47.439+0000</td></tr><tr><td>JEBXXIfay3m328mWQLvL0x</td><td>JEBXXIfay3m328mWQLvL0x|0000047</td><td>MBFEvent.BotMessage</td><td>438.80902099609375</td><td>2018-11-12T14:09:28.110+0000</td></tr><tr><td>2cpS4QCdLps7ycDeAxodOz</td><td>2cpS4QCdLps7ycDeAxodOz|0000100</td><td>MBFEvent.BotMessage</td><td>73.85699462890625</td><td>2018-11-12T14:04:16.292+0000</td></tr><tr><td>2cpS4QCdLps7ycDeAxodOz</td><td>2cpS4QCdLps7ycDeAxodOz|0000092</td><td>MBFEvent.BotMessage</td><td>64.49801635742188</td><td>2018-11-12T14:04:11.087+0000</td></tr><tr><td>2cpS4QCdLps7ycDeAxodOz</td><td>2cpS4QCdLps7ycDeAxodOz|0000054</td><td>MBFEvent.BotMessage</td><td>46.36698913574219</td><td>2018-11-12T13:58:34.337+0000</td></tr><tr><td>JEBXXIfay3m328mWQLvL0x</td><td>JEBXXIfay3m328mWQLvL0x|0000191</td><td>MBFEvent.BotMessage</td><td>94.85101318359375</td><td>2018-11-12T14:45:14.781+0000</td></tr><tr><td>JEBXXIfay3m328mWQLvL0x</td><td>JEBXXIfay3m328mWQLvL0x|0000062</td><td>MBFEvent.BotMessage</td><td>108.24699783325195</td><td>2018-11-12T14:09:53.873+0000</td></tr><tr><td>8mkbRBVLXnqB1DyyZ1pVcZ</td><td>8mkbRBVLXnqB1DyyZ1pVcZ|0000657</td><td>MBFEvent.BotMessage</td><td>220.08099365234375</td><td>2018-11-12T14:47:49.196+0000</td></tr><tr><td>2cpS4QCdLps7ycDeAxodOz</td><td>2cpS4QCdLps7ycDeAxodOz|0000075</td><td>MBFEvent.BotMessage</td><td>62.55399703979492</td><td>2018-11-12T13:59:07.023+0000</td></tr><tr><td>2cpS4QCdLps7ycDeAxodOz</td><td>2cpS4QCdLps7ycDeAxodOz|0000104</td><td>MBFEvent.BotMessage</td><td>46.944000244140625</td><td>2018-11-12T14:04:20.438+0000</td></tr><tr><td>8mkbRBVLXnqB1DyyZ1pVcZ</td><td>8mkbRBVLXnqB1DyyZ1pVcZ|0000575</td><td>MBFEvent.BotMessage</td><td>64.79100036621094</td><td>2018-11-12T14:24:47.134+0000</td></tr><tr><td>JEBXXIfay3m328mWQLvL0x</td><td>JEBXXIfay3m328mWQLvL0x|0000066</td><td>MBFEvent.BotMessage</td><td>45.416015625</td><td>2018-11-12T14:09:57.460+0000</td></tr><tr><td>JEBXXIfay3m328mWQLvL0x</td><td>JEBXXIfay3m328mWQLvL0x|0000022</td><td>MBFEvent.BotMessage</td><td>48.64900207519531</td><td>2018-11-12T14:08:11.297+0000</td></tr><tr><td>8mkbRBVLXnqB1DyyZ1pVcZ</td><td>8mkbRBVLXnqB1DyyZ1pVcZ|0000602</td><td>MBFEvent.BotMessage</td><td>86.10699462890625</td><td>2018-11-12T14:25:49.142+0000</td></tr><tr><td>8mkbRBVLXnqB1DyyZ1pVcZ</td><td>8mkbRBVLXnqB1DyyZ1pVcZ|0000531</td><td>MBFEvent.BotMessage</td><td>205.845947265625</td><td>2018-11-12T14:09:19.573+0000</td></tr><tr><td>JEBXXIfay3m328mWQLvL0x</td><td>JEBXXIfay3m328mWQLvL0x|0000164</td><td>MBFEvent.BotMessage</td><td>95.09800720214844</td><td>2018-11-12T14:41:08.323+0000</td></tr><tr><td>8mkbRBVLXnqB1DyyZ1pVcZ</td><td>8mkbRBVLXnqB1DyyZ1pVcZ|0000617</td><td>MBFEvent.BotMessage</td><td>236.5069808959961</td><td>2018-11-12T14:27:33.384+0000</td></tr><tr><td>JEBXXIfay3m328mWQLvL0x</td><td>JEBXXIfay3m328mWQLvL0x|0000187</td><td>MBFEvent.BotMessage</td><td>109.40800094604492</td><td>2018-11-12T14:45:10.417+0000</td></tr><tr><td>8mkbRBVLXnqB1DyyZ1pVcZ</td><td>8mkbRBVLXnqB1DyyZ1pVcZ|0000571</td><td>MBFEvent.BotMessage</td><td>295.47901153564453</td><td>2018-11-12T14:24:36.925+0000</td></tr><tr><td>2cpS4QCdLps7ycDeAxodOz</td><td>2cpS4QCdLps7ycDeAxodOz|0000079</td><td>MBFEvent.BotMessage</td><td>62.489990234375</td><td>2018-11-12T13:59:10.845+0000</td></tr><tr><td>8mkbRBVLXnqB1DyyZ1pVcZ</td><td>8mkbRBVLXnqB1DyyZ1pVcZ|0000708</td><td>MBFEvent.BotMessage</td><td>300.7870063781738</td><td>2018-11-12T14:55:35.895+0000</td></tr><tr><td>2cpS4QCdLps7ycDeAxodOz</td><td>2cpS4QCdLps7ycDeAxodOz|0000088</td><td>MBFEvent.BotMessage</td><td>108.43800163269043</td><td>2018-11-12T14:04:05.617+0000</td></tr><tr><td>JEBXXIfay3m328mWQLvL0x</td><td>JEBXXIfay3m328mWQLvL0x|0000087</td><td>MBFEvent.BotMessage</td><td>44.77699279785156</td><td>2018-11-12T14:11:28.678+0000</td></tr><tr><td>JEBXXIfay3m328mWQLvL0x</td><td>JEBXXIfay3m328mWQLvL0x|0000031</td><td>MBFEvent.BotMessage</td><td>312.6740036010742</td><td>2018-11-12T14:08:46.042+0000</td></tr><tr><td>JEBXXIfay3m328mWQLvL0x</td><td>JEBXXIfay3m328mWQLvL0x|0000233</td><td>MBFEvent.BotMessage</td><td>159.67298889160156</td><td>2018-11-12T14:51:21.772+0000</td></tr><tr><td>JEBXXIfay3m328mWQLvL0x</td><td>JEBXXIfay3m328mWQLvL0x|0000083</td><td>MBFEvent.BotMessage</td><td>73.79400253295898</td><td>2018-11-12T14:11:24.898+0000</td></tr><tr><td>8mkbRBVLXnqB1DyyZ1pVcZ</td><td>8mkbRBVLXnqB1DyyZ1pVcZ|0000697</td><td>MBFEvent.BotMessage</td><td>654.6370620727539</td><td>2018-11-12T14:54:29.239+0000</td></tr><tr><td>JEBXXIfay3m328mWQLvL0x</td><td>JEBXXIfay3m328mWQLvL0x|0000208</td><td>MBFEvent.BotMessage</td><td>143.37000560760498</td><td>2018-11-12T14:48:26.093+0000</td></tr><tr><td>8mkbRBVLXnqB1DyyZ1pVcZ</td><td>8mkbRBVLXnqB1DyyZ1pVcZ|0000562</td><td>MBFEvent.BotMessage</td><td>268.3920364379883</td><td>2018-11-12T14:15:56.755+0000</td></tr><tr><td>JEBXXIfay3m328mWQLvL0x</td><td>JEBXXIfay3m328mWQLvL0x|0000035</td><td>MBFEvent.BotMessage</td><td>84.739990234375</td><td>2018-11-12T14:08:50.499+0000</td></tr><tr><td>JEBXXIfay3m328mWQLvL0x</td><td>JEBXXIfay3m328mWQLvL0x|0000254</td><td>MBFEvent.BotMessage</td><td>247.76400756835938</td><td>2018-11-12T14:54:34.931+0000</td></tr><tr><td>JEBXXIfay3m328mWQLvL0x</td><td>JEBXXIfay3m328mWQLvL0x|0000212</td><td>MBFEvent.BotMessage</td><td>108.34197998046875</td><td>2018-11-12T14:48:30.309+0000</td></tr></tbody></table></div>"
      ]
     },
     "metadata": {},
     "output_type": "display_data"
    }
   ],
   "source": [
    "display(df_sum_api_final)"
   ]
  },
  {
   "cell_type": "markdown",
   "metadata": {},
   "source": [
    "##### Updating df_5_final with the rectified BotAnswerDuration (same schema)"
   ]
  },
  {
   "cell_type": "code",
   "execution_count": null,
   "metadata": {},
   "outputs": [],
   "source": [
    "df_5_final = df_4_final.join(df_sum_api_final, (df_4_final.conversationId == df_sum_api_final.botConversationId) & (df_4_final.activityId == df_sum_api_final.botActivityId) & (df_4_final.eventName == df_sum_api_final.botEventName) & (df_4_final.eventTime == df_sum_api_final.botEventTime), 'left').select('itemId',\n",
    " 'ClientAtHome',\n",
    " 'LUISentities',\n",
    " 'LUISintent',\n",
    " 'LUISscore',\n",
    " 'ProblemSolved',\n",
    " 'QNAanswer',\n",
    " 'QNAcategory',\n",
    " 'QNAscore',\n",
    " 'QNAsource',\n",
    " 'QNAuserMessage',\n",
    " 'TXTANALYTICSscore',\n",
    " 'activityId',\n",
    " 'channel',\n",
    " 'conversationId',\n",
    " 'currentScenario',\n",
    " 'diagnosticResponse',\n",
    " 'dialogCloseType',\n",
    " 'endTimeAPICall',\n",
    " 'eventName',\n",
    " 'eventTime',\n",
    " 'eventdate',\n",
    " 'isAuthenticated',\n",
    " 'isLeaf',\n",
    " 'mainScenario',\n",
    " 'modemAlignment',\n",
    " 'modemChanged',\n",
    " 'modemType',\n",
    " 'notUnderstoodMessage',\n",
    " 'reason',\n",
    " 'scenario',\n",
    " 'scenarioCalled',\n",
    " 'scenarioId',\n",
    " 'startTimeAPICall',\n",
    " 'telemetryId',\n",
    " 'text',\n",
    " 'ticket',\n",
    " 'ticketForm',\n",
    " 'timestamp',\n",
    " 'toolExec',\n",
    " 'toolResult',\n",
    " 'user',\n",
    " 'userId',\n",
    " 'userName',\n",
    " 'applicationInsight',\n",
    " 'businessUnit',\n",
    " 'type',\n",
    " 'apiTimeDiff',\n",
    " 'BotAnswerDuration',\n",
    " 'botBotAnswerDuration',\n",
    " 'EventTimePrevious',\n",
    " 'DateUTCInsertRow').orderBy('eventTime')\n",
    "\n",
    "#df_4_final.unpersist()   #avoiding duplicates\n",
    "# relevant columns to display: .select('conversationId', 'activityId', 'botBotAnswerDuration', 'BotAnswerDuration', 'apiTimeDiff', 'eventTime' ).orderBy('eventTime'))\n",
    "\n",
    "#there is the original BotAnswerDuration to make comparisons\n",
    "\n",
    "#display(df_5_final)"
   ]
  },
  {
   "cell_type": "code",
   "execution_count": null,
   "metadata": {},
   "outputs": [],
   "source": [
    "#display(df_5_final.select(['botBotAnswerDuration', 'BotAnswerDuration' ]))   #comparison between original and new BotAnswerDuration\n",
    "df_5_final= df_5_final.withColumn('botBotAnswerDuration', df_5_final['botBotAnswerDuration'].cast(FloatType()))\n",
    "df_5_final= df_5_final.withColumn('BotAnswerDuration', df_5_final['BotAnswerDuration'].cast(FloatType()))\n",
    "#df_5_final.printSchema()\n",
    "\n",
    "def bot_duration(old,new):\n",
    "    if new is None and old>0:\n",
    "        return old\n",
    "    else:\n",
    "        return new\n",
    "  \n",
    "\n",
    "udf_bot_duration = UserDefinedFunction(bot_duration, FloatType())\n",
    "df_5_final= df_5_final.withColumn('BotAnswerDuration', udf_bot_duration(df_5_final['BotAnswerDuration'], df_5_final['botBotAnswerDuration']))\n",
    "#display(df_5_final)"
   ]
  },
  {
   "cell_type": "markdown",
   "metadata": {},
   "source": [
    "##### With this cell it is over the retification of BotAnswerDuration"
   ]
  },
  {
   "cell_type": "code",
   "execution_count": 44,
   "metadata": {},
   "outputs": [
    {
     "data": {
      "text/html": [
       "<style scoped>\n",
       "  .ansiout {\n",
       "    display: block;\n",
       "    unicode-bidi: embed;\n",
       "    white-space: pre-wrap;\n",
       "    word-wrap: break-word;\n",
       "    word-break: break-all;\n",
       "    font-family: \"Source Code Pro\", \"Menlo\", monospace;;\n",
       "    font-size: 13px;\n",
       "    color: #555;\n",
       "    margin-left: 4px;\n",
       "    line-height: 19px;\n",
       "  }\n",
       "</style>\n",
       "<div class=\"ansiout\"><span class=\"ansired\">Out[</span><span class=\"ansired\">161</span><span class=\"ansired\">]: </span>False\n",
       "</div>"
      ]
     },
     "metadata": {},
     "output_type": "display_data"
    }
   ],
   "source": [
    "df_5_final= df_5_final.drop('botBotAnswerDuration')\n",
    "df_5_final.schema== df_4_final.schema   #check if the schema is the same of the original (the one before rectification)"
   ]
  },
  {
   "cell_type": "code",
   "execution_count": 45,
   "metadata": {},
   "outputs": [
    {
     "data": {
      "text/html": [
       "<style scoped>\n",
       "  .ansiout {\n",
       "    display: block;\n",
       "    unicode-bidi: embed;\n",
       "    white-space: pre-wrap;\n",
       "    word-wrap: break-word;\n",
       "    word-break: break-all;\n",
       "    font-family: \"Source Code Pro\", \"Menlo\", monospace;;\n",
       "    font-size: 13px;\n",
       "    color: #555;\n",
       "    margin-left: 4px;\n",
       "    line-height: 19px;\n",
       "  }\n",
       "</style>\n",
       "<div class=\"ansiout\"></div>"
      ]
     },
     "metadata": {},
     "output_type": "display_data"
    }
   ],
   "source": [
    "#df_5_final.persist()"
   ]
  },
  {
   "cell_type": "code",
   "execution_count": 46,
   "metadata": {},
   "outputs": [
    {
     "data": {
      "text/html": [
       "<style scoped>\n",
       "  .ansiout {\n",
       "    display: block;\n",
       "    unicode-bidi: embed;\n",
       "    white-space: pre-wrap;\n",
       "    word-wrap: break-word;\n",
       "    word-break: break-all;\n",
       "    font-family: \"Source Code Pro\", \"Menlo\", monospace;;\n",
       "    font-size: 13px;\n",
       "    color: #555;\n",
       "    margin-left: 4px;\n",
       "    line-height: 19px;\n",
       "  }\n",
       "</style>\n",
       "<div class=\"ansiout\"><span class=\"ansired\">Out[</span><span class=\"ansired\">163</span><span class=\"ansired\">]: </span>&quot;df_5_final = df_5_final.withColumn(&apos;Environment&apos;, F.lit(environment))\\ndf_5_final = df_5_final.withColumn(&apos;eventNameDecode&apos;, when(df_5_final[&apos;eventName&apos;].like(&apos;%MBFEvent%&apos;) , df_5_final[&apos;eventName&apos;].substr(10,15)).otherwise(df_5_final[&apos;eventName&apos;]))&quot;\n",
       "</div>"
      ]
     },
     "metadata": {},
     "output_type": "display_data"
    }
   ],
   "source": [
    "#06-12-2018 to be added Environment and eventNameDecode correctly\n",
    "\"\"\"df_5_final = df_5_final.withColumn('Environment', F.lit(environment))\n",
    "df_5_final = df_5_final.withColumn('eventNameDecode', when(df_5_final['eventName'].like('%MBFEvent%') , df_5_final['eventName'].substr(10,15)).otherwise(df_5_final['eventName']))\"\"\""
   ]
  },
  {
   "cell_type": "markdown",
   "metadata": {},
   "source": [
    "added Environment and eventNameDecode"
   ]
  },
  {
   "cell_type": "code",
   "execution_count": 48,
   "metadata": {},
   "outputs": [
    {
     "data": {
      "text/html": [
       "<style scoped>\n",
       "  .ansiout {\n",
       "    display: block;\n",
       "    unicode-bidi: embed;\n",
       "    white-space: pre-wrap;\n",
       "    word-wrap: break-word;\n",
       "    word-break: break-all;\n",
       "    font-family: \"Source Code Pro\", \"Menlo\", monospace;;\n",
       "    font-size: 13px;\n",
       "    color: #555;\n",
       "    margin-left: 4px;\n",
       "    line-height: 19px;\n",
       "  }\n",
       "</style>\n",
       "<div class=\"ansiout\"></div>"
      ]
     },
     "metadata": {},
     "output_type": "display_data"
    }
   ],
   "source": [
    "df_5_final = df_5_final.withColumn('Environment', F.lit(environment))\n",
    "df_5_final = df_5_final.withColumn('eventNameDecode', when(df_5_final['eventName'].like('%MBFEvent%') , df_5_final['eventName'].substr(10,15)).otherwise(df_5_final['eventName']))"
   ]
  },
  {
   "cell_type": "code",
   "execution_count": 49,
   "metadata": {},
   "outputs": [
    {
     "data": {
      "text/html": [
       "<style scoped>\n",
       "  .ansiout {\n",
       "    display: block;\n",
       "    unicode-bidi: embed;\n",
       "    white-space: pre-wrap;\n",
       "    word-wrap: break-word;\n",
       "    word-break: break-all;\n",
       "    font-family: \"Source Code Pro\", \"Menlo\", monospace;;\n",
       "    font-size: 13px;\n",
       "    color: #555;\n",
       "    margin-left: 4px;\n",
       "    line-height: 19px;\n",
       "  }\n",
       "</style>\n",
       "<div class=\"ansiout\"><span class=\"ansired\">Out[</span><span class=\"ansired\">165</span><span class=\"ansired\">]: </span>921\n",
       "</div>"
      ]
     },
     "metadata": {},
     "output_type": "display_data"
    }
   ],
   "source": [
    "df_5_final.count()"
   ]
  },
  {
   "cell_type": "markdown",
   "metadata": {},
   "source": [
    "### Adding new fields to Events: Status, Recognition, Status Code, Recognition Code"
   ]
  },
  {
   "cell_type": "code",
   "execution_count": null,
   "metadata": {},
   "outputs": [],
   "source": [
    "#new_Events = df_5_final.filter(df_5_final.type == 'new')\n",
    "new_Events= df_5_final\n",
    "new_Events= new_Events.withColumn('Status', when( ((new_Events.mainScenario != 'Default Dialog') & (new_Events.scenario== 'InitScenario')) | (\n",
    "  (new_Events.eventName== 'MBFEvent.QNAEvent') & (new_Events.QNAcategory!= 'ChitChat')), F.lit('in corso')).when(new_Events.mainScenario == 'Default Dialog', F.lit('in corso')).when((new_Events.scenario== 'InitScenario') | ((new_Events.eventName== 'MBFEvent.QNAEvent') & (new_Events.QNAcategory== 'ChitChat')), F.lit('in corso')).otherwise(F.lit('undefined')))\n",
    "\n",
    "new_Events= new_Events.withColumn('Recognition', when( ((new_Events.mainScenario != 'Default Dialog') & (new_Events.scenario== 'InitScenario')) | (\n",
    "  (new_Events.eventName== 'MBFEvent.QNAEvent') & (new_Events.QNAcategory!= 'ChitChat')), F.lit('riconosciuta')).when(new_Events.mainScenario == 'Default Dialog', F.lit('non riconosciuta')).when((new_Events.scenario== 'InitScenario') | ((new_Events.eventName== 'MBFEvent.QNAEvent') & (new_Events.QNAcategory== 'ChitChat')), F.lit('inconsistente')).otherwise(F.lit('undefined')))\n",
    "\n",
    "new_Events= new_Events.withColumn('Status code', when( ((new_Events.mainScenario != 'Default Dialog') & (new_Events.scenario== 'InitScenario')) | (\n",
    "  (new_Events.eventName== 'MBFEvent.QNAEvent') & (new_Events.QNAcategory!= 'ChitChat')), F.lit('IC')).when(new_Events.mainScenario == 'Default Dialog', F.lit('IC')).when((new_Events.scenario== 'InitScenario') | ((new_Events.eventName== 'MBFEvent.QNAEvent') & (new_Events.QNAcategory== 'ChitChat')), F.lit('IC')).otherwise(F.lit('undefined')))\n",
    "\n",
    "new_Events= new_Events.withColumn('Recognition code', when( ((new_Events.mainScenario != 'Default Dialog') & (new_Events.scenario== 'InitScenario')) | (\n",
    "  (new_Events.eventName== 'MBFEvent.QNAEvent') & (new_Events.QNAcategory!= 'ChitChat')), F.lit('RIC')).when(new_Events.mainScenario == 'Default Dialog', F.lit('NRIC')).when((new_Events.scenario== 'InitScenario') | ((new_Events.eventName== 'MBFEvent.QNAEvent') & (new_Events.QNAcategory== 'ChitChat')), F.lit('INC')).otherwise(F.lit('undefined')))\n",
    "\n",
    "display(new_Events)\n",
    "#new_Events.count()\n",
    "#print(new_Events.explain())"
   ]
  },
  {
   "cell_type": "markdown",
   "metadata": {},
   "source": [
    "##### Adding to Events table a temporary field which says the difference (in hours) between the actual time and the EventTime"
   ]
  },
  {
   "cell_type": "code",
   "execution_count": null,
   "metadata": {},
   "outputs": [],
   "source": [
    "def timestamp_diff_hours(endTime,startTime):\n",
    "    if startTime is None or endTime is None:\n",
    "        return 0\n",
    "    tt = timestamp_to_long(endTime) - timestamp_to_long(startTime)\n",
    "    return tt / (1000)\n",
    "  \n",
    "def arrotonda(x):\n",
    "    return round(x,2)\n",
    "  \n",
    "func_udf2= udf(timestamp_diff_hours, FloatType())\n",
    "new_Events= new_Events.withColumn('diff_hours', func_udf2(current_timestamp(), new_Events['eventTime'])/(1000*3600))\n",
    "\n",
    "udf_round= udf(arrotonda, FloatType())\n",
    "new_Events= new_Events.withColumn('diff_hours', udf_round(new_Events['diff_hours']))\n",
    "\n",
    "#display(new_Events)"
   ]
  },
  {
   "cell_type": "markdown",
   "metadata": {},
   "source": [
    "#### Filtering Events in standby (between 20 and 30 minutes) and after standby (more than 30 minutes)"
   ]
  },
  {
   "cell_type": "code",
   "execution_count": 55,
   "metadata": {},
   "outputs": [
    {
     "data": {
      "text/html": [
       "<style scoped>\n",
       "  .table-result-container {\n",
       "    max-height: 300px;\n",
       "    overflow: auto;\n",
       "  }\n",
       "  table, th, td {\n",
       "    border: 1px solid black;\n",
       "    border-collapse: collapse;\n",
       "  }\n",
       "  th, td {\n",
       "    padding: 5px;\n",
       "  }\n",
       "  th {\n",
       "    text-align: left;\n",
       "  }\n",
       "</style><div class='table-result-container'><table class='table-result'><thead style='background-color: white'><tr><th>convId</th><th>last_time_conv</th><th>Status_temp</th></tr></thead><tbody><tr><td>777Qsjs3i8qJyBr95zABbk</td><td>2018-11-12T13:59:32.347+0000</td><td>oltre stand by</td></tr><tr><td>2cpS4QCdLps7ycDeAxodOz</td><td>2018-11-12T14:07:45.439+0000</td><td>oltre stand by</td></tr><tr><td>JEBXXIfay3m328mWQLvL0x</td><td>2018-11-12T14:55:34.613+0000</td><td>oltre stand by</td></tr><tr><td>8mkbRBVLXnqB1DyyZ1pVcZ</td><td>2018-11-12T14:57:54.130+0000</td><td>oltre stand by</td></tr></tbody></table></div>"
      ]
     },
     "metadata": {},
     "output_type": "display_data"
    }
   ],
   "source": [
    "new_Events.createOrReplaceTempView('new_Events_sql')\n",
    "\n",
    "stand_by = spark.sql(\" \\\n",
    "          SELECT ConversationId as convId, max(eventTime) as last_time_conv \\\n",
    "          FROM new_Events_sql \\\n",
    "          WHERE diff_hours*60 >= 20 AND diff_hours*60 <30 \\\n",
    "          GROUP BY ConversationId \\\n",
    "          ORDER BY max(eventTime)\\\n",
    "          \")\n",
    "\n",
    "#ATTENZIONE: L'UPPER BOUND DELLO STANBY DEVE ESSERE IL LOWER BOUND DI \"OLTRE_STAN_BY, E UNO CHE LO INCLUDE E L ALTRO NO, PER COPRIRE TUTTI I CASI\"\n",
    "after_stand_by = spark.sql(\" \\\n",
    "          SELECT ConversationId as convId, max(eventTime) as last_time_conv \\\n",
    "          FROM new_Events_sql \\\n",
    "          WHERE diff_hours*60 >= 30 \\\n",
    "          GROUP BY ConversationId \\\n",
    "          ORDER BY max(eventTime)\\\n",
    "          \")\n",
    "\n",
    "stand_by= stand_by.withColumn('Status_temp', F.lit('stand by'))\n",
    "after_stand_by= after_stand_by.withColumn('Status_temp', F.lit('oltre stand by'))\n",
    "union_sb_and_after= stand_by.unionAll(after_stand_by)\n",
    "display(union_sb_and_after)  #avrò l ultimo record di ogni conv che è oltre lo standby, ovvero oltre i 30 min"
   ]
  },
  {
   "cell_type": "markdown",
   "metadata": {},
   "source": [
    "#### Joining table Events with the one filtered in the previous cell, referring to all conversations in SB and after"
   ]
  },
  {
   "cell_type": "code",
   "execution_count": null,
   "metadata": {},
   "outputs": [],
   "source": [
    "new_Events2= new_Events.join(union_sb_and_after, ((new_Events.conversationId == union_sb_and_after.convId) & (new_Events.eventTime == union_sb_and_after.last_time_conv)\n",
    "                        ), 'left')\n",
    "\n",
    "new_Events2= new_Events2.withColumn('Status', when(((new_Events2['Status_temp']== 'oltre stand by') & (new_Events2['isLeaf'] == 'true')), F.lit('chiusa')).when(((new_Events2['Status_temp']== 'oltre stand by') & (new_Events2['isLeaf'] !='true')), F.lit('abbandonata')).otherwise(new_Events2['Status'])).withColumn('Status code', when(((new_Events2['Status_temp']== 'oltre stand by') & (new_Events2['isLeaf'] == 'true')), F.lit('CH')).when(((new_Events2['Status_temp']== 'oltre stand by') & (new_Events2['isLeaf'] !='true')), F.lit('AB')).otherwise(new_Events2['Status code']))\n",
    "\n",
    "new_Events2= new_Events2.withColumnRenamed(\"Status code\", \"StatusCode\").withColumnRenamed(\"Recognition code\", \"RecognitionCode\")\n",
    "\n",
    "#display(new_Events2.select('isLeaf','Status_temp','Status','StatusCode', 'Recognition', col('RecognitionCode').alias('ProvaRename')))\n",
    "#display(new_Events2)"
   ]
  },
  {
   "cell_type": "code",
   "execution_count": 58,
   "metadata": {},
   "outputs": [
    {
     "data": {
      "text/html": [
       "<style scoped>\n",
       "  .ansiout {\n",
       "    display: block;\n",
       "    unicode-bidi: embed;\n",
       "    white-space: pre-wrap;\n",
       "    word-wrap: break-word;\n",
       "    word-break: break-all;\n",
       "    font-family: \"Source Code Pro\", \"Menlo\", monospace;;\n",
       "    font-size: 13px;\n",
       "    color: #555;\n",
       "    margin-left: 4px;\n",
       "    line-height: 19px;\n",
       "  }\n",
       "</style>\n",
       "<div class=\"ansiout\"><span class=\"ansired\">Out[</span><span class=\"ansired\">170</span><span class=\"ansired\">]: </span>921\n",
       "</div>"
      ]
     },
     "metadata": {},
     "output_type": "display_data"
    }
   ],
   "source": [
    "new_Events2.count()"
   ]
  },
  {
   "cell_type": "code",
   "execution_count": 59,
   "metadata": {},
   "outputs": [
    {
     "data": {
      "text/html": [
       "<style scoped>\n",
       "  .table-result-container {\n",
       "    max-height: 300px;\n",
       "    overflow: auto;\n",
       "  }\n",
       "  table, th, td {\n",
       "    border: 1px solid black;\n",
       "    border-collapse: collapse;\n",
       "  }\n",
       "  th, td {\n",
       "    padding: 5px;\n",
       "  }\n",
       "  th {\n",
       "    text-align: left;\n",
       "  }\n",
       "</style><div class='table-result-container'><table class='table-result'><thead style='background-color: white'><tr><th>itemId</th><th>ClientAtHome</th><th>LUISentities</th><th>LUISintent</th><th>LUISscore</th><th>ProblemSolved</th><th>QNAanswer</th><th>QNAcategory</th><th>QNAscore</th><th>QNAsource</th><th>QNAuserMessage</th><th>TXTANALYTICSscore</th><th>activityId</th><th>channel</th><th>conversationId</th><th>currentScenario</th><th>diagnosticResponse</th><th>dialogCloseType</th><th>endTimeAPICall</th><th>eventName</th><th>eventTime</th><th>eventdate</th><th>isAuthenticated</th><th>isLeaf</th><th>mainScenario</th><th>modemAlignment</th><th>modemChanged</th><th>modemType</th><th>notUnderstoodMessage</th><th>reason</th><th>scenario</th><th>scenarioCalled</th><th>scenarioId</th><th>startTimeAPICall</th><th>telemetryId</th><th>text</th><th>ticket</th><th>ticketForm</th><th>timestamp</th><th>toolExec</th><th>toolResult</th><th>user</th><th>userId</th><th>userName</th><th>applicationInsight</th><th>businessUnit</th><th>type</th><th>apiTimeDiff</th><th>BotAnswerDuration</th><th>EventTimePrevious</th><th>DateUTCInsertRow</th><th>Environment</th><th>eventNameDecode</th><th>Status</th><th>Recognition</th><th>StatusCode</th><th>RecognitionCode</th><th>diff_hours</th><th>convId</th><th>last_time_conv</th><th>Status_temp</th></tr></thead><tbody><tr><td>5acf0b77-e684-11e8-8c74-1df3eaf4721b</td><td></td><td></td><td></td><td></td><td></td><td></td><td></td><td></td><td></td><td></td><td>null</td><td>2cpS4QCdLps7ycDeAxodOz|0000116</td><td>pat</td><td>2cpS4QCdLps7ycDeAxodOz</td><td>WO_Problemi_Navigazione</td><td></td><td></td><td>null</td><td>MBFEvent.BotMessage</td><td>2018-11-12T14:07:45.439+0000</td><td>2018-11-12</td><td>false</td><td>false</td><td>WO_Inizio</td><td></td><td></td><td></td><td></td><td></td><td></td><td></td><td>adf415c5-3843-4587-9e04-e28ebef74e63</td><td>null</td><td></td><td>Qual è il tuo problema?</td><td></td><td></td><td>2018-11-12T14:07:45.439+0000</td><td></td><td></td><td></td><td>dev-timva-wo-botservice@-164JqvoUec</td><td>dev-timva-wo-botservice</td><td>appinsights-wo</td><td>wo</td><td>new</td><td>null</td><td>855.895</td><td>2018-11-12T14:07:44.583+0000</td><td>2018-12-19T17:26:16.348+0000</td><td>DEV</td><td>BotMessage</td><td>abbandonata</td><td>undefined</td><td>AB</td><td>undefined</td><td>890.31</td><td>2cpS4QCdLps7ycDeAxodOz</td><td>2018-11-12T14:07:45.439+0000</td><td>oltre stand by</td></tr><tr><td>0d572e21-e68b-11e8-a351-0f405d5c52f9</td><td></td><td></td><td></td><td></td><td></td><td></td><td></td><td></td><td></td><td></td><td>null</td><td>0b7dab48-7c1e-415b-8093-6b11b98095bc</td><td>pat</td><td>JEBXXIfay3m328mWQLvL0x</td><td>Feedback Dialog</td><td></td><td></td><td>null</td><td>MBFEvent.BotMessage</td><td>2018-11-12T14:55:34.613+0000</td><td>2018-11-12</td><td>false</td><td>false</td><td>WO_Inizio</td><td></td><td></td><td></td><td></td><td></td><td></td><td></td><td>54188222-5a83-424b-baed-1e1438772a90</td><td>null</td><td></td><td>Sono stato utile?</td><td></td><td></td><td>2018-11-12T14:55:34.595+0000</td><td></td><td></td><td></td><td>dev-timva-wo-botservice@-164JqvoUec</td><td>dev-timva-wo-botservice</td><td>appinsights-wo</td><td>wo</td><td>new</td><td>null</td><td>null</td><td>null</td><td>2018-12-19T17:26:16.348+0000</td><td>DEV</td><td>BotMessage</td><td>abbandonata</td><td>undefined</td><td>AB</td><td>undefined</td><td>889.51</td><td>JEBXXIfay3m328mWQLvL0x</td><td>2018-11-12T14:55:34.613+0000</td><td>oltre stand by</td></tr><tr><td>55cd7162-e68b-11e8-bf7a-5fba8834ae28</td><td></td><td></td><td></td><td></td><td></td><td></td><td></td><td></td><td></td><td></td><td>null</td><td>8mkbRBVLXnqB1DyyZ1pVcZ|0000723</td><td>pat</td><td>8mkbRBVLXnqB1DyyZ1pVcZ</td><td>Welcome</td><td></td><td></td><td>null</td><td>MBFEvent.BotMessage</td><td>2018-11-12T14:57:54.130+0000</td><td>2018-11-12</td><td>true</td><td>true</td><td>Reset Dialog</td><td></td><td></td><td></td><td></td><td></td><td></td><td></td><td>cea8d6a0-d975-4129-b098-9892bb739e29</td><td>null</td><td></td><td>Ciao, sono l'assistente virtuale dell'assistenza tecnica. Come posso aiutarti?</td><td></td><td></td><td>2018-11-12T14:57:54.121+0000</td><td></td><td></td><td>FE054A8741794EEA06252DD6DB61F8DA</td><td>dev-timva-wo-botservice@-164JqvoUec</td><td>dev-timva-wo-botservice</td><td>appinsights-wo</td><td>wo</td><td>new</td><td>null</td><td>null</td><td>null</td><td>2018-12-19T17:26:16.348+0000</td><td>DEV</td><td>BotMessage</td><td>chiusa</td><td>undefined</td><td>CH</td><td>undefined</td><td>889.47</td><td>8mkbRBVLXnqB1DyyZ1pVcZ</td><td>2018-11-12T14:57:54.130+0000</td><td>oltre stand by</td></tr><tr><td>3b79ea7b-e683-11e8-8c74-1df3eaf4721b</td><td></td><td></td><td></td><td></td><td></td><td></td><td></td><td></td><td></td><td></td><td>null</td><td>777Qsjs3i8qJyBr95zABbk|0000097</td><td>pat</td><td>777Qsjs3i8qJyBr95zABbk</td><td></td><td></td><td></td><td>2018-11-12T13:59:32.347+0000</td><td>MBFEvent.APICall</td><td>2018-11-12T13:59:32.347+0000</td><td>2018-11-12</td><td></td><td></td><td>WO_Reset_Porta_Voip</td><td></td><td></td><td></td><td></td><td></td><td></td><td></td><td>6903fb36-c709-4669-82d0-1a69c9c65fae</td><td>2018-11-12T13:59:32.139+0000</td><td></td><td></td><td></td><td></td><td>2018-11-12T13:59:28.942+0000</td><td></td><td></td><td></td><td>5f9d9ab4e3fcaecdabbed1228ffaacab7f942b91</td><td></td><td>appinsights-wo</td><td>wo</td><td>new</td><td>207.536</td><td>null</td><td>null</td><td>2018-12-19T17:26:16.348+0000</td><td>DEV</td><td>APICall</td><td>abbandonata</td><td>undefined</td><td>AB</td><td>undefined</td><td>890.45</td><td>777Qsjs3i8qJyBr95zABbk</td><td>2018-11-12T13:59:32.347+0000</td><td>oltre stand by</td></tr><tr><td>3b79ea7c-e683-11e8-8c74-1df3eaf4721b</td><td></td><td></td><td></td><td></td><td></td><td></td><td></td><td></td><td></td><td></td><td>null</td><td>777Qsjs3i8qJyBr95zABbk|0000097</td><td>pat</td><td>777Qsjs3i8qJyBr95zABbk</td><td>WO_Reset_Porta_Voip</td><td></td><td></td><td>null</td><td>MBFEvent.BotMessage</td><td>2018-11-12T13:59:32.347+0000</td><td>2018-11-12</td><td>false</td><td>false</td><td>WO_Reset_Porta_Voip</td><td></td><td></td><td></td><td></td><td></td><td></td><td></td><td>6903fb36-c709-4669-82d0-1a69c9c65fae</td><td>null</td><td></td><td>Stiamo effettuando un reset in centrale. Spegni e riaccendi il modem, attendi che le spie siano di nuovo accese. Dimmi quando hai finito.</td><td></td><td></td><td>2018-11-12T13:59:32.347+0000</td><td></td><td></td><td></td><td>dev-timva-wo-botservice@-164JqvoUec</td><td>dev-timva-wo-botservice</td><td>appinsights-wo</td><td>wo</td><td>new</td><td>null</td><td>null</td><td>null</td><td>2018-12-19T17:26:16.348+0000</td><td>DEV</td><td>BotMessage</td><td>abbandonata</td><td>undefined</td><td>AB</td><td>undefined</td><td>890.45</td><td>777Qsjs3i8qJyBr95zABbk</td><td>2018-11-12T13:59:32.347+0000</td><td>oltre stand by</td></tr></tbody></table></div>"
      ]
     },
     "metadata": {},
     "output_type": "display_data"
    }
   ],
   "source": [
    "#display(new_Events2.where(col('conversationId') == 'BEDTFSDcWqa6rfGc9PwiKP').orderBy('eventTime'))   \n",
    "display(new_Events2.filter((new_Events2.Status=='abbandonata') | (new_Events2.Status=='chiusa'))) \n",
    "# equivalente: display(new_Events2.filter(new_Events2.Status_temp=='oltre stand by')), perchè chiusa o abbandonata sono oltre sb"
   ]
  },
  {
   "cell_type": "code",
   "execution_count": 60,
   "metadata": {},
   "outputs": [
    {
     "data": {
      "text/html": [
       "<style scoped>\n",
       "  .ansiout {\n",
       "    display: block;\n",
       "    unicode-bidi: embed;\n",
       "    white-space: pre-wrap;\n",
       "    word-wrap: break-word;\n",
       "    word-break: break-all;\n",
       "    font-family: \"Source Code Pro\", \"Menlo\", monospace;;\n",
       "    font-size: 13px;\n",
       "    color: #555;\n",
       "    margin-left: 4px;\n",
       "    line-height: 19px;\n",
       "  }\n",
       "</style>\n",
       "<div class=\"ansiout\"></div>"
      ]
     },
     "metadata": {},
     "output_type": "display_data"
    }
   ],
   "source": [
    "new_Events2= new_Events2.drop('convId', 'last_time_conv', 'Status_temp')\n",
    "new_Events2= new_Events2.withColumnRenamed(\"diff_hours\", \"HourFromLastEvent\")"
   ]
  },
  {
   "cell_type": "code",
   "execution_count": 61,
   "metadata": {},
   "outputs": [
    {
     "data": {
      "text/html": [
       "<style scoped>\n",
       "  .ansiout {\n",
       "    display: block;\n",
       "    unicode-bidi: embed;\n",
       "    white-space: pre-wrap;\n",
       "    word-wrap: break-word;\n",
       "    word-break: break-all;\n",
       "    font-family: \"Source Code Pro\", \"Menlo\", monospace;;\n",
       "    font-size: 13px;\n",
       "    color: #555;\n",
       "    margin-left: 4px;\n",
       "    line-height: 19px;\n",
       "  }\n",
       "</style>\n",
       "<div class=\"ansiout\"></div>"
      ]
     },
     "metadata": {},
     "output_type": "display_data"
    }
   ],
   "source": [
    "new_Events2= new_Events2.withColumn('EventHourMinute' , new_Events2['eventTime'].cast(StringType()))\n",
    "#display(new_Events2)"
   ]
  },
  {
   "cell_type": "code",
   "execution_count": null,
   "metadata": {},
   "outputs": [],
   "source": [
    "def hour_minute(x):\n",
    "    return  ''.join(x.split()[1][:5].split(':'))                         \n",
    "\n",
    "udf_hour_minute= UserDefinedFunction(hour_minute, StringType())\n",
    "new_Events2= new_Events2.withColumn('EventHourMinute' , udf_hour_minute(new_Events2['EventHourMinute']))\n",
    "#display(new_Events2)\n",
    "#new_Events2.persist() #riabilitato alle 19:38 del 30/11/2018 dopo il Run Manuale del 2018-11-30/10 partito alle 19:30 (osserviamo se cambia qualcosa con il successivo RUN)"
   ]
  },
  {
   "cell_type": "code",
   "execution_count": 63,
   "metadata": {},
   "outputs": [
    {
     "data": {
      "text/html": [
       "<style scoped>\n",
       "  .ansiout {\n",
       "    display: block;\n",
       "    unicode-bidi: embed;\n",
       "    white-space: pre-wrap;\n",
       "    word-wrap: break-word;\n",
       "    word-break: break-all;\n",
       "    font-family: \"Source Code Pro\", \"Menlo\", monospace;;\n",
       "    font-size: 13px;\n",
       "    color: #555;\n",
       "    margin-left: 4px;\n",
       "    line-height: 19px;\n",
       "  }\n",
       "</style>\n",
       "<div class=\"ansiout\"><span class=\"ansired\">Out[</span><span class=\"ansired\">175</span><span class=\"ansired\">]: </span>&apos;PROCEDIMENTO: \\nINPUT: Lettura degli eventi correnti (slot orario corrente)\\n- giro classico per &quot;event&quot; (quello che già facciamo adesso)\\n- NUOVO giro per &quot;conversation&quot;:\\n              1.1- lettura della delta table &quot;conversation&quot; (in cui avremo solo type = &quot;previous&quot;) e mettiamo tutto in un Dataframe\\n               1.2- FULL JOIN del Dataframe (quindi dei record della delta table &quot;conversation&quot;, solo type = &quot;previous&quot;) tra il DF letto e il DF degli eventi correnti, ON conversation.conversationId = event.conversationId (eventi correnti)\\n               1.3 - determinare il type (F.lit.type) grazie alla FULL JOIN di cui sopra e scrivo in un DF\\n               1.4 - partendo dal DF del punto 1.3, vado in JOIN con gli eventi correnti per fare le aggregazioni al fine di aggiornare i vari campi della conversazione come ad esempio lo &quot;stato&quot; della conversazione, il &quot;contatore dei messaggi totali&quot;, dei &quot;BotMessage&quot;, &quot;DataChiusura&quot; etc...\\n                              N.B. lo &quot;stato&quot; della conversazione sarà ridefinito con la lettura del MAX degli eventi, invece un eventuale contatore (ad esempio TotMessaggi) sarà la Somma del campo letto dalla delta table e la somma del campo determinato dall\\&apos;aggregazione degli eventi correnti               \\nN.B. a questo punto avremo conversazioni in Stato &quot;COLD&quot; e &quot;HOT&quot;\\n               1.5 - inviare al DW quelle che sono diventate COLD (&quot;chiuse&quot; e &quot;abbandonate&quot;)\\n               1.6 - scrittura in Delta Table &quot;Conversation&quot; delle conversazioni rimanenti, ossia le &quot;HOT (&quot;In corso&quot; e &quot;Stand by&quot;)\\n&apos;\n",
       "</div>"
      ]
     },
     "metadata": {},
     "output_type": "display_data"
    }
   ],
   "source": [
    "\"\"\"PROCEDIMENTO: \n",
    "INPUT: Lettura degli eventi correnti (slot orario corrente)\n",
    "- giro classico per \"event\" (quello che già facciamo adesso)\n",
    "- NUOVO giro per \"conversation\":\n",
    "              1.1- lettura della delta table \"conversation\" (in cui avremo solo type = \"previous\") e mettiamo tutto in un Dataframe\n",
    "               1.2- FULL JOIN del Dataframe (quindi dei record della delta table \"conversation\", solo type = \"previous\") tra il DF letto e il DF degli eventi correnti, ON conversation.conversationId = event.conversationId (eventi correnti)\n",
    "               1.3 - determinare il type (F.lit.type) grazie alla FULL JOIN di cui sopra e scrivo in un DF\n",
    "               1.4 - partendo dal DF del punto 1.3, vado in JOIN con gli eventi correnti per fare le aggregazioni al fine di aggiornare i vari campi della conversazione come ad esempio lo \"stato\" della conversazione, il \"contatore dei messaggi totali\", dei \"BotMessage\", \"DataChiusura\" etc...\n",
    "                              N.B. lo \"stato\" della conversazione sarà ridefinito con la lettura del MAX degli eventi, invece un eventuale contatore (ad esempio TotMessaggi) sarà la Somma del campo letto dalla delta table e la somma del campo determinato dall'aggregazione degli eventi correnti               \n",
    "N.B. a questo punto avremo conversazioni in Stato \"COLD\" e \"HOT\"\n",
    "               1.5 - inviare al DW quelle che sono diventate COLD (\"chiuse\" e \"abbandonate\")\n",
    "               1.6 - scrittura in Delta Table \"Conversation\" delle conversazioni rimanenti, ossia le \"HOT (\"In corso\" e \"Stand by\")\n",
    "\"\"\""
   ]
  },
  {
   "cell_type": "markdown",
   "metadata": {},
   "source": [
    "###Taking last event of each Conversation. Rather than ItemId it is considered a Key the couple [ConvId, max(eventime)]"
   ]
  },
  {
   "cell_type": "code",
   "execution_count": 65,
   "metadata": {},
   "outputs": [],
   "source": [
    "df_1.select('ConversationId').distinct().count()   # 6LRLPjJDLkQ85QplizAeFS, PIPPO e ALDO"
   ]
  },
  {
   "cell_type": "code",
   "execution_count": 66,
   "metadata": {},
   "outputs": [],
   "source": [
    "new_Events2.select('ConversationId').distinct().count()  #una sola: 6LRLPjJDLkQ85QplizAeFS"
   ]
  },
  {
   "cell_type": "code",
   "execution_count": 67,
   "metadata": {},
   "outputs": [],
   "source": [
    "display(new_Events2.select('ConversationId').groupBy(\"ConversationId\").count())"
   ]
  },
  {
   "cell_type": "code",
   "execution_count": 68,
   "metadata": {},
   "outputs": [
    {
     "data": {
      "text/html": [
       "<style scoped>\n",
       "  .table-result-container {\n",
       "    max-height: 300px;\n",
       "    overflow: auto;\n",
       "  }\n",
       "  table, th, td {\n",
       "    border: 1px solid black;\n",
       "    border-collapse: collapse;\n",
       "  }\n",
       "  th, td {\n",
       "    padding: 5px;\n",
       "  }\n",
       "  th {\n",
       "    text-align: left;\n",
       "  }\n",
       "</style><div class='table-result-container'><table class='table-result'><thead style='background-color: white'><tr><th>convId</th><th>last_time_conv</th><th>ConversationStartTime</th></tr></thead><tbody><tr><td>777Qsjs3i8qJyBr95zABbk</td><td>2018-11-12T13:59:32.347+0000</td><td>2018-11-12T13:58:00.081+0000</td></tr><tr><td>2cpS4QCdLps7ycDeAxodOz</td><td>2018-11-12T14:07:45.439+0000</td><td>2018-11-12T13:57:54.672+0000</td></tr><tr><td>JEBXXIfay3m328mWQLvL0x</td><td>2018-11-12T14:55:34.613+0000</td><td>2018-11-12T14:07:54.379+0000</td></tr><tr><td>8mkbRBVLXnqB1DyyZ1pVcZ</td><td>2018-11-12T14:57:54.130+0000</td><td>2018-11-12T14:09:18.462+0000</td></tr></tbody></table></div>"
      ]
     },
     "metadata": {},
     "output_type": "display_data"
    }
   ],
   "source": [
    "new_Events2.createOrReplaceTempView(\"Events_final\")\n",
    "# è l'ultimo evento di ogni conversazione\n",
    "\n",
    "last_record = spark.sql(\" \\\n",
    "          SELECT ConversationId as convId, max(eventTime) as last_time_conv, min(eventTime) as ConversationStartTime \\\n",
    "          FROM Events_final \\\n",
    "          GROUP BY ConversationId \\\n",
    "          ORDER BY max(eventTime)\\\n",
    "          \")\n",
    "\n",
    "display(last_record)"
   ]
  },
  {
   "cell_type": "markdown",
   "metadata": {},
   "source": [
    "#### Create Conversations Table: Joining previous cells with Events to take the other fields I need"
   ]
  },
  {
   "cell_type": "code",
   "execution_count": 70,
   "metadata": {},
   "outputs": [
    {
     "data": {
      "text/html": [
       "<style scoped>\n",
       "  .table-result-container {\n",
       "    max-height: 300px;\n",
       "    overflow: auto;\n",
       "  }\n",
       "  table, th, td {\n",
       "    border: 1px solid black;\n",
       "    border-collapse: collapse;\n",
       "  }\n",
       "  th, td {\n",
       "    padding: 5px;\n",
       "  }\n",
       "  th {\n",
       "    text-align: left;\n",
       "  }\n",
       "</style><div class='table-result-container'><table class='table-result'><thead style='background-color: white'><tr><th>ConversationId</th><th>ConversationStartDate</th><th>ConversationStartTime</th><th>ConversationEndTime</th><th>ConversationStatusCode</th><th>ConversationStatus</th><th>ConversationRecognitionCode</th><th>ConversationRecognition</th></tr></thead><tbody><tr><td>2cpS4QCdLps7ycDeAxodOz</td><td>2018-11-12</td><td>2018-11-12T13:57:54.672+0000</td><td>2018-11-12T14:07:45.439+0000</td><td>AB</td><td>abbandonata</td><td>undefined</td><td>undefined</td></tr><tr><td>JEBXXIfay3m328mWQLvL0x</td><td>2018-11-12</td><td>2018-11-12T14:07:54.379+0000</td><td>2018-11-12T14:55:34.613+0000</td><td>AB</td><td>abbandonata</td><td>undefined</td><td>undefined</td></tr><tr><td>8mkbRBVLXnqB1DyyZ1pVcZ</td><td>2018-11-12</td><td>2018-11-12T14:09:18.462+0000</td><td>2018-11-12T14:57:54.130+0000</td><td>CH</td><td>chiusa</td><td>undefined</td><td>undefined</td></tr><tr><td>777Qsjs3i8qJyBr95zABbk</td><td>2018-11-12</td><td>2018-11-12T13:58:00.081+0000</td><td>2018-11-12T13:59:32.347+0000</td><td>AB</td><td>abbandonata</td><td>undefined</td><td>undefined</td></tr><tr><td>777Qsjs3i8qJyBr95zABbk</td><td>2018-11-12</td><td>2018-11-12T13:58:00.081+0000</td><td>2018-11-12T13:59:32.347+0000</td><td>AB</td><td>abbandonata</td><td>undefined</td><td>undefined</td></tr></tbody></table></div>"
      ]
     },
     "metadata": {},
     "output_type": "display_data"
    }
   ],
   "source": [
    "#cold_conversations= conv_after_stand_by.join(new_Events2, ((new_Events2.conversationId == conv_after_stand_by.convId) & (new_Events2.eventTime == conv_after_stand_by.last_time_conv)\n",
    "                        #), 'left')\n",
    "\n",
    "#oppure\n",
    "conversations = new_Events2.join(last_record, ((new_Events2.conversationId == last_record.convId) & (new_Events2.eventTime == last_record.last_time_conv)\n",
    "                        ), 'right').select(\"ConversationId\", 'StatusCode', 'Status','last_time_conv', 'RecognitionCode', 'Recognition', 'ConversationStartTime')\n",
    "\n",
    "conversations= conversations.withColumn('conversationStartDate' , conversations['ConversationStartTime'].cast(StringType()) )\n",
    "\n",
    "\"\"\"def data(x):\n",
    "  return x[:10]\n",
    "\n",
    "udf_data= UserDefinedFunction(data, StringType())\n",
    "conversations= conversations.withColumn('conversationStartDate', udf_data(conversations['conversationStartDate']))\"\"\"\n",
    "\n",
    "#Alternativa senza udf\n",
    "conversations= conversations.withColumn('conversationStartDate', conversations['conversationStartDate'].cast(StringType()).substr(1,10))\n",
    "\n",
    "conversations= conversations.select(col(\"ConversationId\"), \"ConversationStartDate\", 'ConversationStartTime', col('last_time_conv').alias('ConversationEndTime'), \n",
    "                                    col('StatusCode').alias('ConversationStatusCode'), col('Status').alias('ConversationStatus'), \n",
    "                         col('RecognitionCode').alias('ConversationRecognitionCode'), col('Recognition').alias('ConversationRecognition'))\n",
    "\n",
    "\n",
    "display(conversations)"
   ]
  },
  {
   "cell_type": "code",
   "execution_count": 71,
   "metadata": {},
   "outputs": [
    {
     "data": {
      "text/html": [
       "<style scoped>\n",
       "  .ansiout {\n",
       "    display: block;\n",
       "    unicode-bidi: embed;\n",
       "    white-space: pre-wrap;\n",
       "    word-wrap: break-word;\n",
       "    word-break: break-all;\n",
       "    font-family: \"Source Code Pro\", \"Menlo\", monospace;;\n",
       "    font-size: 13px;\n",
       "    color: #555;\n",
       "    margin-left: 4px;\n",
       "    line-height: 19px;\n",
       "  }\n",
       "</style>\n",
       "<div class=\"ansiout\">root\n",
       "-- ConversationId: string (nullable = true)\n",
       "-- ConversationStartDate: string (nullable = true)\n",
       "-- ConversationStartTime: timestamp (nullable = true)\n",
       "-- ConversationEndTime: timestamp (nullable = true)\n",
       "-- ConversationStatusCode: string (nullable = true)\n",
       "-- ConversationStatus: string (nullable = true)\n",
       "-- ConversationRecognitionCode: string (nullable = true)\n",
       "-- ConversationRecognition: string (nullable = true)\n",
       "\n",
       "</div>"
      ]
     },
     "metadata": {},
     "output_type": "display_data"
    }
   ],
   "source": [
    "conversations.printSchema()"
   ]
  },
  {
   "cell_type": "code",
   "execution_count": null,
   "metadata": {},
   "outputs": [],
   "source": [
    "\"\"\"for i in range(1, 18):\n",
    "    if i<=0:\n",
    "      pass\n",
    "    if i>=1 and i<=9:\n",
    "      try:\n",
    "        print('There are {} files in this day'.format(len(dbutils.fs.ls(\"/delta/\"+'QA'+\"/Events/eventDate=2018-12-0\" +str(i) ))))\n",
    "      except:\n",
    "        print('there are no files for day ', i)\n",
    "    elif i>=10:\n",
    "      try:\n",
    "        print('There are {} files in this day'.format(len(dbutils.fs.ls(\"/delta/\"+'QA'+\"/Events/eventDate=2018-12-\" +str(i) ))))\n",
    "      except:\n",
    "        print('there are no files for day ', i)\"\"\""
   ]
  },
  {
   "cell_type": "markdown",
   "metadata": {},
   "source": [
    "#### Conversations of last hour (only the ID of the distinct ones)"
   ]
  },
  {
   "cell_type": "code",
   "execution_count": 74,
   "metadata": {},
   "outputs": [
    {
     "data": {
      "text/html": [
       "<style scoped>\n",
       "  .table-result-container {\n",
       "    max-height: 300px;\n",
       "    overflow: auto;\n",
       "  }\n",
       "  table, th, td {\n",
       "    border: 1px solid black;\n",
       "    border-collapse: collapse;\n",
       "  }\n",
       "  th, td {\n",
       "    padding: 5px;\n",
       "  }\n",
       "  th {\n",
       "    text-align: left;\n",
       "  }\n",
       "</style><div class='table-result-container'><table class='table-result'><thead style='background-color: white'><tr><th>NewConvId</th><th>NewStartDate</th><th>NewStartTime</th><th>NewEndTime</th></tr></thead><tbody><tr><td>2cpS4QCdLps7ycDeAxodOz</td><td>2018-11-12</td><td>2018-11-12T13:57:54.672+0000</td><td>2018-11-12T14:07:45.439+0000</td></tr><tr><td>JEBXXIfay3m328mWQLvL0x</td><td>2018-11-12</td><td>2018-11-12T14:07:54.379+0000</td><td>2018-11-12T14:55:34.613+0000</td></tr><tr><td>8mkbRBVLXnqB1DyyZ1pVcZ</td><td>2018-11-12</td><td>2018-11-12T14:09:18.462+0000</td><td>2018-11-12T14:57:54.130+0000</td></tr><tr><td>777Qsjs3i8qJyBr95zABbk</td><td>2018-11-12</td><td>2018-11-12T13:58:00.081+0000</td><td>2018-11-12T13:59:32.347+0000</td></tr></tbody></table></div>"
      ]
     },
     "metadata": {},
     "output_type": "display_data"
    }
   ],
   "source": [
    "#display(new_Events2.select('ConversationId').groupBy(\"ConversationId\").count())\n",
    "lastHourConversations= conversations.select(col('conversationId').alias('NewConvId'), col('ConversationStartDate').alias('NewStartDate'), col('ConversationStartTime').alias('NewStartTime'),\n",
    "                             col('ConversationEndTime').alias('NewEndTime') ).distinct()\n",
    "display(lastHourConversations)"
   ]
  },
  {
   "cell_type": "markdown",
   "metadata": {},
   "source": [
    "### Import previous conversations from delta. Union previous and new"
   ]
  },
  {
   "cell_type": "code",
   "execution_count": 76,
   "metadata": {},
   "outputs": [
    {
     "data": {
      "text/html": [
       "<style scoped>\n",
       "  .table-result-container {\n",
       "    max-height: 300px;\n",
       "    overflow: auto;\n",
       "  }\n",
       "  table, th, td {\n",
       "    border: 1px solid black;\n",
       "    border-collapse: collapse;\n",
       "  }\n",
       "  th, td {\n",
       "    padding: 5px;\n",
       "  }\n",
       "  th {\n",
       "    text-align: left;\n",
       "  }\n",
       "</style><div class='table-result-container'><table class='table-result'><thead style='background-color: white'><tr><th>ConversationId</th><th>ConversationStartDate</th><th>ConversationStartTime</th><th>ConversationEndTime</th><th>ConversationStatusCode</th><th>ConversationStatus</th><th>ConversationRecognitionCode</th><th>ConversationRecognition</th><th>recordType</th></tr></thead><tbody><tr><td>1CY3JeMvsiCGxl3HQfFRXA</td><td>2018-12-19</td><td>2018-12-19T10:04:17.036+0000</td><td>2018-12-19T10:04:19.767+0000</td><td>AB</td><td>abbandonata</td><td>undefined</td><td>undefined</td><td>previous conv</td></tr><tr><td>5RCYVLGONapLew3SD2WrBD</td><td>2018-12-19</td><td>2018-12-19T10:04:37.923+0000</td><td>2018-12-19T10:04:39.205+0000</td><td>AB</td><td>abbandonata</td><td>undefined</td><td>undefined</td><td>previous conv</td></tr><tr><td>FmaadPOGBdKFYXbxDOTHfk</td><td>2018-12-19</td><td>2018-12-19T10:07:04.262+0000</td><td>2018-12-19T10:07:06.898+0000</td><td>AB</td><td>abbandonata</td><td>undefined</td><td>undefined</td><td>previous conv</td></tr><tr><td>GApzqyRtJHTGOdEoOQoKSZ</td><td>2018-12-19</td><td>2018-12-19T10:06:21.952+0000</td><td>2018-12-19T10:06:23.217+0000</td><td>AB</td><td>abbandonata</td><td>undefined</td><td>undefined</td><td>previous conv</td></tr><tr><td>GBs45imyGM4LhlCUxGtEKc</td><td>2018-12-19</td><td>2018-12-19T10:04:08.259+0000</td><td>2018-12-19T10:04:11.489+0000</td><td>AB</td><td>abbandonata</td><td>undefined</td><td>undefined</td><td>previous conv</td></tr><tr><td>21j4N9vh5jAJtG7qSjkDa2</td><td>2018-12-19</td><td>2018-12-19T10:05:27.887+0000</td><td>2018-12-19T10:05:29.128+0000</td><td>AB</td><td>abbandonata</td><td>undefined</td><td>undefined</td><td>previous conv</td></tr><tr><td>21j4N9vh5jAJtG7qSjkDa2</td><td>2018-12-19</td><td>2018-12-19T10:05:27.887+0000</td><td>2018-12-19T10:05:29.128+0000</td><td>AB</td><td>abbandonata</td><td>undefined</td><td>undefined</td><td>previous conv</td></tr><tr><td>3BrzSpxS6g3A5b9pHtU6mQ</td><td>2018-12-19</td><td>2018-12-19T10:00:46.011+0000</td><td>2018-12-19T10:00:50.725+0000</td><td>AB</td><td>abbandonata</td><td>undefined</td><td>undefined</td><td>previous conv</td></tr><tr><td>C2oJJD3kvuWBKRNfCqsjkl</td><td>2018-12-19</td><td>2018-12-19T10:07:50.791+0000</td><td>2018-12-19T10:07:53.466+0000</td><td>AB</td><td>abbandonata</td><td>undefined</td><td>undefined</td><td>previous conv</td></tr><tr><td>1Fj9IX6jUel4pxfWFsQXhZ</td><td>2018-12-19</td><td>2018-12-19T10:06:05.634+0000</td><td>2018-12-19T10:06:06.321+0000</td><td>AB</td><td>abbandonata</td><td>undefined</td><td>undefined</td><td>previous conv</td></tr><tr><td>9d0atysnvH5Q9LhdmSEqo</td><td>2018-12-19</td><td>2018-12-19T10:03:03.316+0000</td><td>2018-12-19T10:03:06.115+0000</td><td>AB</td><td>abbandonata</td><td>undefined</td><td>undefined</td><td>previous conv</td></tr><tr><td>CAnAofgPpxxGKTw7ytbQPy</td><td>2018-12-19</td><td>2018-12-19T10:01:37.501+0000</td><td>2018-12-19T10:01:40.915+0000</td><td>AB</td><td>abbandonata</td><td>undefined</td><td>undefined</td><td>previous conv</td></tr><tr><td>9zwREil2AQn9kzNLCbexOS</td><td>2018-12-19</td><td>2018-12-19T10:06:34.765+0000</td><td>2018-12-19T10:06:37.775+0000</td><td>AB</td><td>abbandonata</td><td>undefined</td><td>undefined</td><td>previous conv</td></tr><tr><td>FDyTLRhZzjV3BmjbE888IE</td><td>2018-12-19</td><td>2018-12-19T10:07:00.466+0000</td><td>2018-12-19T10:07:03.318+0000</td><td>AB</td><td>abbandonata</td><td>undefined</td><td>undefined</td><td>previous conv</td></tr><tr><td>LXPCvuK28M5HfgCKroBZxm</td><td>2018-12-19</td><td>2018-12-19T10:03:11.060+0000</td><td>2018-12-19T10:03:14.001+0000</td><td>AB</td><td>abbandonata</td><td>undefined</td><td>undefined</td><td>previous conv</td></tr><tr><td>4FBfp9KanczHdXX9qX7FRZ</td><td>2018-12-19</td><td>2018-12-19T10:07:43.100+0000</td><td>2018-12-19T10:07:45.974+0000</td><td>AB</td><td>abbandonata</td><td>undefined</td><td>undefined</td><td>previous conv</td></tr><tr><td>6WY96nYFoPeBmXoDJ12KPk</td><td>2018-12-19</td><td>2018-12-19T10:06:56.634+0000</td><td>2018-12-19T10:06:59.638+0000</td><td>AB</td><td>abbandonata</td><td>undefined</td><td>undefined</td><td>previous conv</td></tr><tr><td>75UAd0AAJxH3pF5fjXpLlW</td><td>2018-12-19</td><td>2018-12-19T10:05:32.434+0000</td><td>2018-12-19T10:05:33.545+0000</td><td>AB</td><td>abbandonata</td><td>undefined</td><td>undefined</td><td>previous conv</td></tr><tr><td>8F00qVkn7DR1fmGzC8v4mO</td><td>2018-12-19</td><td>2018-12-19T10:02:59.683+0000</td><td>2018-12-19T10:03:02.298+0000</td><td>AB</td><td>abbandonata</td><td>undefined</td><td>undefined</td><td>previous conv</td></tr><tr><td>AsdW4gXehJqBlFZu1HAgjD</td><td>2018-12-19</td><td>2018-12-19T10:03:42.473+0000</td><td>2018-12-19T10:03:45.364+0000</td><td>AB</td><td>abbandonata</td><td>undefined</td><td>undefined</td><td>previous conv</td></tr><tr><td>KuARJ6GQdSLKGtKtTXs8cl</td><td>2018-12-19</td><td>2018-12-19T10:08:24.665+0000</td><td>2018-12-19T10:08:27.319+0000</td><td>AB</td><td>abbandonata</td><td>undefined</td><td>undefined</td><td>previous conv</td></tr><tr><td>645Qfm6VqKe6hGMMV3GS79</td><td>2018-12-19</td><td>2018-12-19T10:05:03.959+0000</td><td>2018-12-19T10:05:07.162+0000</td><td>AB</td><td>abbandonata</td><td>undefined</td><td>undefined</td><td>previous conv</td></tr><tr><td>9iLbHEU5llmKRmI4y8Hh9n</td><td>2018-12-19</td><td>2018-12-19T10:03:27.087+0000</td><td>2018-12-19T10:03:30.039+0000</td><td>AB</td><td>abbandonata</td><td>undefined</td><td>undefined</td><td>previous conv</td></tr><tr><td>6NBZH9mqT6YA2tUSxEQ8UL</td><td>2018-12-19</td><td>2018-12-19T10:06:50.146+0000</td><td>2018-12-19T10:06:53.320+0000</td><td>AB</td><td>abbandonata</td><td>undefined</td><td>undefined</td><td>previous conv</td></tr><tr><td>AuZMvVCU5Od7iBPgRifTsb</td><td>2018-12-19</td><td>2018-12-19T10:08:05.719+0000</td><td>2018-12-19T10:08:09.270+0000</td><td>AB</td><td>abbandonata</td><td>undefined</td><td>undefined</td><td>previous conv</td></tr><tr><td>5MN4sLhBqsn80XnS1kGBsf</td><td>2018-12-19</td><td>2018-12-19T10:05:30.157+0000</td><td>2018-12-19T10:05:31.321+0000</td><td>AB</td><td>abbandonata</td><td>undefined</td><td>undefined</td><td>previous conv</td></tr><tr><td>GMY71ftXJxGKhSQRHfVkmC</td><td>2018-12-19</td><td>2018-12-19T10:01:02.401+0000</td><td>2018-12-19T10:01:05.274+0000</td><td>AB</td><td>abbandonata</td><td>undefined</td><td>undefined</td><td>previous conv</td></tr><tr><td>6O0YIYrf1iZBgDImJeBmaf</td><td>2018-12-19</td><td>2018-12-19T10:00:02.339+0000</td><td>2018-12-19T10:00:05.573+0000</td><td>AB</td><td>abbandonata</td><td>undefined</td><td>undefined</td><td>previous conv</td></tr><tr><td>KvbgYIyVnAVA2lPB5jcM6O</td><td>2018-12-19</td><td>2018-12-19T10:03:19.585+0000</td><td>2018-12-19T10:03:22.364+0000</td><td>AB</td><td>abbandonata</td><td>undefined</td><td>undefined</td><td>previous conv</td></tr><tr><td>99YA9K31AoFFXUUpWjL02b</td><td>2018-12-19</td><td>2018-12-19T10:03:47.995+0000</td><td>2018-12-19T10:03:48.750+0000</td><td>AB</td><td>abbandonata</td><td>undefined</td><td>undefined</td><td>previous conv</td></tr><tr><td>CTDx6aRWUbNKN5edGUeuH6</td><td>2018-12-19</td><td>2018-12-19T10:06:42.666+0000</td><td>2018-12-19T10:06:45.414+0000</td><td>AB</td><td>abbandonata</td><td>undefined</td><td>undefined</td><td>previous conv</td></tr><tr><td>3aR6jgOgVpEA2ENI9QpKgo</td><td>2018-12-19</td><td>2018-12-19T10:02:29.290+0000</td><td>2018-12-19T10:02:32.801+0000</td><td>AB</td><td>abbandonata</td><td>undefined</td><td>undefined</td><td>previous conv</td></tr><tr><td>9ANTgUQN2Xg6tcfv1gm0xK</td><td>2018-12-19</td><td>2018-12-19T10:07:19.582+0000</td><td>2018-12-19T10:07:22.330+0000</td><td>AB</td><td>abbandonata</td><td>undefined</td><td>undefined</td><td>previous conv</td></tr><tr><td>9qn6DpEPlCmI89kgiaNs8v</td><td>2018-12-19</td><td>2018-12-19T10:01:44.270+0000</td><td>2018-12-19T10:01:47.835+0000</td><td>AB</td><td>abbandonata</td><td>undefined</td><td>undefined</td><td>previous conv</td></tr><tr><td>DwjuQDnNqmsDeFPwQDLqZX</td><td>2018-12-19</td><td>2018-12-19T10:05:22.290+0000</td><td>2018-12-19T10:05:25.040+0000</td><td>AB</td><td>abbandonata</td><td>undefined</td><td>undefined</td><td>previous conv</td></tr><tr><td>1M8jFfZHTnj8X4ilE85gR7</td><td>2018-12-19</td><td>2018-12-19T10:07:15.717+0000</td><td>2018-12-19T10:07:18.590+0000</td><td>AB</td><td>abbandonata</td><td>undefined</td><td>undefined</td><td>previous conv</td></tr><tr><td>J9Y3a8ZXxU9BU2v6XMsUQ1</td><td>2018-12-19</td><td>2018-12-19T10:01:29.825+0000</td><td>2018-12-19T10:01:32.970+0000</td><td>AB</td><td>abbandonata</td><td>undefined</td><td>undefined</td><td>previous conv</td></tr><tr><td>6lZLp1aNzv3FsJlqmT9bN4</td><td>2018-12-19</td><td>2018-12-19T10:07:47.184+0000</td><td>2018-12-19T10:07:49.827+0000</td><td>AB</td><td>abbandonata</td><td>undefined</td><td>undefined</td><td>previous conv</td></tr><tr><td>HiqRnfKJN997NCSb4Hu1Vy</td><td>2018-12-19</td><td>2018-12-19T10:02:41.674+0000</td><td>2018-12-19T10:02:44.842+0000</td><td>AB</td><td>abbandonata</td><td>undefined</td><td>undefined</td><td>previous conv</td></tr><tr><td>CQex95xvNIU54RdliVSeCG</td><td>2018-12-19</td><td>2018-12-19T10:03:15.186+0000</td><td>2018-12-19T10:03:18.368+0000</td><td>AB</td><td>abbandonata</td><td>undefined</td><td>undefined</td><td>previous conv</td></tr><tr><td>FGciej2AbIh5cVdBQonPbY</td><td>2018-12-19</td><td>2018-12-19T09:59:28.626+0000</td><td>2018-12-19T09:59:53.871+0000</td><td>AB</td><td>abbandonata</td><td>undefined</td><td>undefined</td><td>previous conv</td></tr><tr><td>5d1MqRk39PUDzbv4yhMGqr</td><td>2018-12-19</td><td>2018-12-19T10:05:12.144+0000</td><td>2018-12-19T10:05:13.301+0000</td><td>AB</td><td>abbandonata</td><td>undefined</td><td>undefined</td><td>previous conv</td></tr><tr><td>9pLQ0Ed5HZsAN1KYrCroFh</td><td>2018-12-19</td><td>2018-12-19T10:00:16.525+0000</td><td>2018-12-19T10:00:19.404+0000</td><td>AB</td><td>abbandonata</td><td>undefined</td><td>undefined</td><td>previous conv</td></tr><tr><td>1hX9IDyqbT0GprwRN1r68T</td><td>2018-12-19</td><td>2018-12-19T10:00:59.968+0000</td><td>2018-12-19T10:01:01.300+0000</td><td>AB</td><td>abbandonata</td><td>undefined</td><td>undefined</td><td>previous conv</td></tr><tr><td>AnVPlFA3IvM7KrlUyJH4kZ</td><td>2018-12-19</td><td>2018-12-19T10:08:17.431+0000</td><td>2018-12-19T10:08:20.235+0000</td><td>AB</td><td>abbandonata</td><td>undefined</td><td>undefined</td><td>previous conv</td></tr><tr><td>2v35A6jYpUCF0y4W9RJRWT</td><td>2018-12-19</td><td>2018-12-19T10:00:38.299+0000</td><td>2018-12-19T10:00:40.952+0000</td><td>AB</td><td>abbandonata</td><td>undefined</td><td>undefined</td><td>previous conv</td></tr><tr><td>7iJ2QLGRrveDOg9HjgJm4x</td><td>2018-12-19</td><td>2018-12-19T10:00:30.523+0000</td><td>2018-12-19T10:00:33.172+0000</td><td>AB</td><td>abbandonata</td><td>undefined</td><td>undefined</td><td>previous conv</td></tr><tr><td>Ad7zs6BcoQVBotmADRikzz</td><td>2018-12-19</td><td>2018-12-19T10:05:26.037+0000</td><td>2018-12-19T10:05:26.863+0000</td><td>AB</td><td>abbandonata</td><td>undefined</td><td>undefined</td><td>previous conv</td></tr><tr><td>BR0ofouBvVyCutUwNFrDKx</td><td>2018-12-19</td><td>2018-12-19T10:03:49.737+0000</td><td>2018-12-19T10:03:52.547+0000</td><td>AB</td><td>abbandonata</td><td>undefined</td><td>undefined</td><td>previous conv</td></tr><tr><td>41dECwGJ4EP16fkaIHLnGx</td><td>2018-12-19</td><td>2018-12-19T10:04:00.828+0000</td><td>2018-12-19T10:04:03.557+0000</td><td>AB</td><td>abbandonata</td><td>undefined</td><td>undefined</td><td>previous conv</td></tr><tr><td>4FLYXJ4AmKs8tr2mEcgpPH</td><td>2018-12-19</td><td>2018-12-19T10:02:37.904+0000</td><td>2018-12-19T10:02:40.709+0000</td><td>AB</td><td>abbandonata</td><td>undefined</td><td>undefined</td><td>previous conv</td></tr><tr><td>GwfnIAGN3jQ6r0FL8M54S9</td><td>2018-12-19</td><td>2018-12-19T10:03:46.418+0000</td><td>2018-12-19T10:03:47.131+0000</td><td>AB</td><td>abbandonata</td><td>undefined</td><td>undefined</td><td>previous conv</td></tr><tr><td>cBbBHV0ogp4wDWGcdIg5c</td><td>2018-12-19</td><td>2018-12-19T10:06:17.889+0000</td><td>2018-12-19T10:06:20.943+0000</td><td>AB</td><td>abbandonata</td><td>undefined</td><td>undefined</td><td>previous conv</td></tr><tr><td>2RBQeAT3StU8rbUF9AJLOq</td><td>2018-12-19</td><td>2018-12-19T10:08:10.070+0000</td><td>2018-12-19T10:08:12.786+0000</td><td>AB</td><td>abbandonata</td><td>undefined</td><td>undefined</td><td>previous conv</td></tr><tr><td>l3Q4Js0oxiISv7lv8yIVK</td><td>2018-12-19</td><td>2018-12-19T10:05:18.586+0000</td><td>2018-12-19T10:05:21.270+0000</td><td>AB</td><td>abbandonata</td><td>undefined</td><td>undefined</td><td>previous conv</td></tr><tr><td>8kitDpL2NY16G6leGYtey5</td><td>2018-12-19</td><td>2018-12-19T10:03:55.393+0000</td><td>2018-12-19T10:03:55.985+0000</td><td>AB</td><td>abbandonata</td><td>undefined</td><td>undefined</td><td>previous conv</td></tr><tr><td>cIuWCRyeTNI7cNJOVfRuA</td><td>2018-12-19</td><td>2018-12-19T10:01:49.067+0000</td><td>2018-12-19T10:01:51.881+0000</td><td>AB</td><td>abbandonata</td><td>undefined</td><td>undefined</td><td>previous conv</td></tr><tr><td>5c589WiBvSAGJRqJeYCipI</td><td>2018-12-19</td><td>2018-12-19T10:04:46.396+0000</td><td>2018-12-19T10:04:49.095+0000</td><td>AB</td><td>abbandonata</td><td>undefined</td><td>undefined</td><td>previous conv</td></tr><tr><td>5qvCp1zz8FEGRvqzzrI6QS</td><td>2018-12-19</td><td>2018-12-19T10:00:34.854+0000</td><td>2018-12-19T10:00:35.767+0000</td><td>CH</td><td>chiusa</td><td>NRIC</td><td>non riconosciuta</td><td>previous conv</td></tr><tr><td>KYK2HJkSZ8a3nghipVJbj9</td><td>2018-12-19</td><td>2018-12-19T10:02:45.990+0000</td><td>2018-12-19T10:02:48.673+0000</td><td>AB</td><td>abbandonata</td><td>undefined</td><td>undefined</td><td>previous conv</td></tr><tr><td>HniTlWei0TCKZX95ogQrSp</td><td>2018-12-19</td><td>2018-12-19T10:01:24.169+0000</td><td>2018-12-19T10:01:27.289+0000</td><td>AB</td><td>abbandonata</td><td>undefined</td><td>undefined</td><td>previous conv</td></tr><tr><td>4LVBWfr9qAjAzjNrubFjFt</td><td>2018-12-19</td><td>2018-12-19T10:08:01.717+0000</td><td>2018-12-19T10:08:04.906+0000</td><td>AB</td><td>abbandonata</td><td>undefined</td><td>undefined</td><td>previous conv</td></tr><tr><td>7B0HJgE9ijNAHL1jPjChtq</td><td>2018-12-19</td><td>2018-12-19T09:59:58.615+0000</td><td>2018-12-19T10:00:01.362+0000</td><td>AB</td><td>abbandonata</td><td>undefined</td><td>undefined</td><td>previous conv</td></tr><tr><td>Cj6DPKSSahDGrdBqHt6Llv</td><td>2018-12-19</td><td>2018-12-19T10:08:28.419+0000</td><td>2018-12-19T10:08:31.135+0000</td><td>AB</td><td>abbandonata</td><td>undefined</td><td>undefined</td><td>previous conv</td></tr><tr><td>K8DDgr3rbSa9ZEandyidsi</td><td>2018-12-19</td><td>2018-12-19T10:06:38.870+0000</td><td>2018-12-19T10:06:41.774+0000</td><td>AB</td><td>abbandonata</td><td>undefined</td><td>undefined</td><td>previous conv</td></tr><tr><td>FbU0aqsFtkO2WTdF7APKVz</td><td>2018-12-19</td><td>2018-12-19T10:00:07.346+0000</td><td>2018-12-19T10:00:10.203+0000</td><td>AB</td><td>abbandonata</td><td>undefined</td><td>undefined</td><td>previous conv</td></tr><tr><td>BzhxA91vI9j6ALbLaGqrUB</td><td>2018-12-19</td><td>2018-12-19T10:00:41.954+0000</td><td>2018-12-19T10:00:44.717+0000</td><td>AB</td><td>abbandonata</td><td>undefined</td><td>undefined</td><td>previous conv</td></tr><tr><td>GKW8mE2ve3RKm2JptHVKDT</td><td>2018-12-19</td><td>2018-12-19T10:01:11.397+0000</td><td>2018-12-19T10:01:14.155+0000</td><td>AB</td><td>abbandonata</td><td>undefined</td><td>undefined</td><td>previous conv</td></tr><tr><td>2vCpCLlSS0F2O7AuX6FzH7</td><td>2018-12-19</td><td>2018-12-19T10:06:29.046+0000</td><td>2018-12-19T10:06:32.326+0000</td><td>AB</td><td>abbandonata</td><td>undefined</td><td>undefined</td><td>previous conv</td></tr><tr><td>EnvKtprDT1c2KSIoSuT8CU</td><td>2018-12-19</td><td>2018-12-19T10:05:38.693+0000</td><td>2018-12-19T10:05:41.381+0000</td><td>AB</td><td>abbandonata</td><td>undefined</td><td>undefined</td><td>previous conv</td></tr><tr><td>6AyID3tlZuoJNsOLDEhuij</td><td>2018-12-19</td><td>2018-12-19T10:08:40.163+0000</td><td>2018-12-19T10:08:42.779+0000</td><td>AB</td><td>abbandonata</td><td>undefined</td><td>undefined</td><td>previous conv</td></tr><tr><td>GqYB5uiuTXo36XO5tqLasS</td><td>2018-12-19</td><td>2018-12-19T10:04:55.875+0000</td><td>2018-12-19T10:04:58.722+0000</td><td>AB</td><td>abbandonata</td><td>undefined</td><td>undefined</td><td>previous conv</td></tr><tr><td>FgRoz5VmmJQFNt0bi6WnwA</td><td>2018-12-19</td><td>2018-12-19T10:01:07.077+0000</td><td>2018-12-19T10:01:09.714+0000</td><td>AB</td><td>abbandonata</td><td>undefined</td><td>undefined</td><td>previous conv</td></tr><tr><td>1D0RA7haAQWEeoN1LS1aUr</td><td>2018-12-19</td><td>2018-12-19T10:03:07.275+0000</td><td>2018-12-19T10:03:10.033+0000</td><td>AB</td><td>abbandonata</td><td>undefined</td><td>undefined</td><td>previous conv</td></tr><tr><td>J8vBjsmLkmM6cHR7D2IqeY</td><td>2018-12-19</td><td>2018-12-19T10:07:41.485+0000</td><td>2018-12-19T10:07:42.235+0000</td><td>AB</td><td>abbandonata</td><td>undefined</td><td>undefined</td><td>previous conv</td></tr><tr><td>ARORT7V3gkd1N2Agc9dv0d</td><td>2018-12-19</td><td>2018-12-19T10:08:43.881+0000</td><td>2018-12-19T10:08:46.843+0000</td><td>AB</td><td>abbandonata</td><td>undefined</td><td>undefined</td><td>previous conv</td></tr><tr><td>3mc4jWwQNEqK5WXoPNeQ7a</td><td>2018-12-19</td><td>2018-12-19T10:07:08.036+0000</td><td>2018-12-19T10:07:10.904+0000</td><td>AB</td><td>abbandonata</td><td>undefined</td><td>undefined</td><td>previous conv</td></tr><tr><td>D301ilHH2Uo8NWPCHDI7iE</td><td>2018-12-19</td><td>2018-12-19T10:04:30.620+0000</td><td>2018-12-19T10:04:33.729+0000</td><td>AB</td><td>abbandonata</td><td>undefined</td><td>undefined</td><td>previous conv</td></tr><tr><td>Jax87NP1gxb5HI2k0jn9FI</td><td>2018-12-19</td><td>2018-12-19T10:03:23.459+0000</td><td>2018-12-19T10:03:26.039+0000</td><td>AB</td><td>abbandonata</td><td>undefined</td><td>undefined</td><td>previous conv</td></tr><tr><td>KHgwZCGqZZhGPc0gX23cXM</td><td>2018-12-19</td><td>2018-12-19T10:07:28.288+0000</td><td>2018-12-19T10:07:31.178+0000</td><td>AB</td><td>abbandonata</td><td>undefined</td><td>undefined</td><td>previous conv</td></tr><tr><td>B8rzMP7C5pK29hlUXMqgzZ</td><td>2018-12-19</td><td>2018-12-19T10:05:53.354+0000</td><td>2018-12-19T10:05:56.681+0000</td><td>AB</td><td>abbandonata</td><td>undefined</td><td>undefined</td><td>previous conv</td></tr><tr><td>5sZzyaniZ6A5jAfHsIV5He</td><td>2018-12-19</td><td>2018-12-19T10:06:07.676+0000</td><td>2018-12-19T10:06:10.422+0000</td><td>AB</td><td>abbandonata</td><td>undefined</td><td>undefined</td><td>previous conv</td></tr><tr><td>7kHOh4sAkz2HcBRONuiTtZ</td><td>2018-12-19</td><td>2018-12-19T10:06:01.903+0000</td><td>2018-12-19T10:06:04.656+0000</td><td>AB</td><td>abbandonata</td><td>undefined</td><td>undefined</td><td>previous conv</td></tr><tr><td>KIesfCH9IJv2fLqmnaGc1k</td><td>2018-12-19</td><td>2018-12-19T10:00:11.366+0000</td><td>2018-12-19T10:00:14.444+0000</td><td>AB</td><td>abbandonata</td><td>undefined</td><td>undefined</td><td>previous conv</td></tr><tr><td>CHDaaq0jgMv56UCkTGO25d</td><td>2018-12-19</td><td>2018-12-19T10:00:55.622+0000</td><td>2018-12-19T10:00:58.647+0000</td><td>AB</td><td>abbandonata</td><td>undefined</td><td>undefined</td><td>previous conv</td></tr><tr><td>DQeTDuAElyULRHOSWYR09Q</td><td>2018-12-19</td><td>2018-12-19T10:00:36.731+0000</td><td>2018-12-19T10:00:37.350+0000</td><td>AB</td><td>abbandonata</td><td>undefined</td><td>undefined</td><td>previous conv</td></tr><tr><td>9LA9JDlXeMQGVDEmSM0j0O</td><td>2018-12-19</td><td>2018-12-19T10:03:35.087+0000</td><td>2018-12-19T10:03:37.872+0000</td><td>AB</td><td>abbandonata</td><td>undefined</td><td>undefined</td><td>previous conv</td></tr><tr><td>DWrDYhvelv799Icj07pxmy</td><td>2018-12-19</td><td>2018-12-19T10:07:32.342+0000</td><td>2018-12-19T10:07:35.748+0000</td><td>AB</td><td>abbandonata</td><td>undefined</td><td>undefined</td><td>previous conv</td></tr><tr><td>AV76YJrYqv8IRMzTI36tpW</td><td>2018-12-19</td><td>2018-12-19T10:06:11.685+0000</td><td>2018-12-19T10:06:14.778+0000</td><td>AB</td><td>abbandonata</td><td>undefined</td><td>undefined</td><td>previous conv</td></tr><tr><td>KZosmVlhc687ta61GSesrQ</td><td>2018-12-19</td><td>2018-12-19T10:00:20.482+0000</td><td>2018-12-19T10:00:25.549+0000</td><td>AB</td><td>abbandonata</td><td>undefined</td><td>undefined</td><td>previous conv</td></tr><tr><td>GRoece1WEVoFgz9NTtWoOd</td><td>2018-12-19</td><td>2018-12-19T10:04:40.198+0000</td><td>2018-12-19T10:04:41.052+0000</td><td>AB</td><td>abbandonata</td><td>undefined</td><td>undefined</td><td>previous conv</td></tr><tr><td>4iBjCmp5TQeDvRE6mrAalZ</td><td>2018-12-19</td><td>2018-12-19T10:05:34.525+0000</td><td>2018-12-19T10:05:37.644+0000</td><td>AB</td><td>abbandonata</td><td>undefined</td><td>undefined</td><td>previous conv</td></tr><tr><td>73XlEir5OkHBTN72Axrbt6</td><td>2018-12-19</td><td>2018-12-19T10:04:12.402+0000</td><td>2018-12-19T10:04:16.050+0000</td><td>AB</td><td>abbandonata</td><td>undefined</td><td>undefined</td><td>previous conv</td></tr><tr><td>DTl4YwKX00v1yAtN4SqHFn</td><td>2018-12-19</td><td>2018-12-19T10:08:21.100+0000</td><td>2018-12-19T10:08:23.789+0000</td><td>AB</td><td>abbandonata</td><td>undefined</td><td>undefined</td><td>previous conv</td></tr><tr><td>KYwBoagLyVcLtPNYSFXQKh</td><td>2018-12-19</td><td>2018-12-19T10:05:14.550+0000</td><td>2018-12-19T10:05:17.227+0000</td><td>AB</td><td>abbandonata</td><td>undefined</td><td>undefined</td><td>previous conv</td></tr><tr><td>7eG8cr6HhuUH1DOiFhPwxm</td><td>2018-12-19</td><td>2018-12-19T10:00:26.680+0000</td><td>2018-12-19T10:00:29.481+0000</td><td>AB</td><td>abbandonata</td><td>undefined</td><td>undefined</td><td>previous conv</td></tr><tr><td>Du6Mqu5ZpkMBGld2nEdy7n</td><td>2018-12-19</td><td>2018-12-19T10:04:21.047+0000</td><td>2018-12-19T10:04:23.925+0000</td><td>AB</td><td>abbandonata</td><td>undefined</td><td>undefined</td><td>previous conv</td></tr><tr><td>2Bi9prmuXhr3RTwBeOgfis</td><td>2018-12-19</td><td>2018-12-19T10:03:57.113+0000</td><td>2018-12-19T10:03:59.912+0000</td><td>AB</td><td>abbandonata</td><td>undefined</td><td>undefined</td><td>previous conv</td></tr><tr><td>C63uKVWVRLE16OzclU3BWe</td><td>2018-12-19</td><td>2018-12-19T10:04:04.480+0000</td><td>2018-12-19T10:04:07.304+0000</td><td>AB</td><td>abbandonata</td><td>undefined</td><td>undefined</td><td>previous conv</td></tr><tr><td>FAG236sgmDvDGQ97XYvboj</td><td>2018-12-19</td><td>2018-12-19T10:04:51.292+0000</td><td>2018-12-19T10:04:54.679+0000</td><td>AB</td><td>abbandonata</td><td>undefined</td><td>undefined</td><td>previous conv</td></tr><tr><td>L5zNP9a1r1ED6r2QvRhdLX</td><td>2018-12-19</td><td>2018-12-19T10:04:59.970+0000</td><td>2018-12-19T10:05:02.796+0000</td><td>AB</td><td>abbandonata</td><td>undefined</td><td>undefined</td><td>previous conv</td></tr><tr><td>8Nsx30Rhm5hEwIGXG34QJm</td><td>2018-12-19</td><td>2018-12-19T10:03:31.114+0000</td><td>2018-12-19T10:03:33.834+0000</td><td>AB</td><td>abbandonata</td><td>undefined</td><td>undefined</td><td>previous conv</td></tr><tr><td>1cqBnYLEMnz5Q7VQQ2Klht</td><td>2018-12-19</td><td>2018-12-19T10:03:53.695+0000</td><td>2018-12-19T10:03:54.320+0000</td><td>AB</td><td>abbandonata</td><td>undefined</td><td>undefined</td><td>previous conv</td></tr><tr><td>Iuqr9dNC9gtAjbX1DtJUgG</td><td>2018-12-19</td><td>2018-12-19T10:08:32.042+0000</td><td>2018-12-19T10:08:34.821+0000</td><td>AB</td><td>abbandonata</td><td>undefined</td><td>undefined</td><td>previous conv</td></tr><tr><td>EAz9wJpNQhh8hVksJr01gp</td><td>2018-12-19</td><td>2018-12-19T10:08:13.723+0000</td><td>2018-12-19T10:08:16.601+0000</td><td>AB</td><td>abbandonata</td><td>undefined</td><td>undefined</td><td>previous conv</td></tr><tr><td>EuKF17dnMtZFlwOOcqYAQT</td><td>2018-12-19</td><td>2018-12-19T10:01:41.910+0000</td><td>2018-12-19T10:01:42.933+0000</td><td>AB</td><td>abbandonata</td><td>undefined</td><td>undefined</td><td>previous conv</td></tr><tr><td>GNvI0JnYnICLtou4eRBNPj</td><td>2018-12-19</td><td>2018-12-19T10:05:08.368+0000</td><td>2018-12-19T10:05:11.175+0000</td><td>AB</td><td>abbandonata</td><td>undefined</td><td>undefined</td><td>previous conv</td></tr><tr><td>A3bJjFKywlIFMysFZ89BEV</td><td>2018-12-19</td><td>2018-12-19T10:02:55.551+0000</td><td>2018-12-19T10:02:58.278+0000</td><td>AB</td><td>abbandonata</td><td>undefined</td><td>undefined</td><td>previous conv</td></tr><tr><td>9zxS0ZgGReQCh5Tpb0h8Rr</td><td>2018-12-19</td><td>2018-12-19T10:02:50.424+0000</td><td>2018-12-19T10:02:53.245+0000</td><td>AB</td><td>abbandonata</td><td>undefined</td><td>undefined</td><td>previous conv</td></tr><tr><td>2qwuLDoR7X0J8uaodKVF2K</td><td>2018-12-19</td><td>2018-12-19T10:08:35.859+0000</td><td>2018-12-19T10:08:39.382+0000</td><td>AB</td><td>abbandonata</td><td>undefined</td><td>undefined</td><td>previous conv</td></tr><tr><td>1maN5RaTdzH89PhZYBHjWI</td><td>2018-12-19</td><td>2018-12-19T10:04:34.710+0000</td><td>2018-12-19T10:04:36.148+0000</td><td>AB</td><td>abbandonata</td><td>undefined</td><td>undefined</td><td>previous conv</td></tr><tr><td>5hBGbHY46pXJWFzxIUyMhq</td><td>2018-12-19</td><td>2018-12-19T10:04:42.107+0000</td><td>2018-12-19T10:04:45.095+0000</td><td>AB</td><td>abbandonata</td><td>undefined</td><td>undefined</td><td>previous conv</td></tr><tr><td>9NW2I4U73DD6SLxlVPt0Xv</td><td>2018-12-19</td><td>2018-12-19T10:01:15.875+0000</td><td>2018-12-19T10:01:19.128+0000</td><td>AB</td><td>abbandonata</td><td>undefined</td><td>undefined</td><td>previous conv</td></tr><tr><td>3zHaCjXn7AtELDvj0wTXNf</td><td>2018-12-19</td><td>2018-12-19T10:02:33.904+0000</td><td>2018-12-19T10:02:36.793+0000</td><td>AB</td><td>abbandonata</td><td>undefined</td><td>undefined</td><td>previous conv</td></tr><tr><td>4WIP9pNIryQ8Gor5rBbTxT</td><td>2018-12-19</td><td>2018-12-19T10:06:24.236+0000</td><td>2018-12-19T10:06:27.808+0000</td><td>AB</td><td>abbandonata</td><td>undefined</td><td>undefined</td><td>previous conv</td></tr><tr><td>J2XpMj6qpqz1KvQbvZtk5q</td><td>2018-12-19</td><td>2018-12-19T10:07:54.357+0000</td><td>2018-12-19T10:07:57.099+0000</td><td>AB</td><td>abbandonata</td><td>undefined</td><td>undefined</td><td>previous conv</td></tr><tr><td>IPdfT30YRoLJ3YmQKspm3v</td><td>2018-12-19</td><td>2018-12-19T10:07:23.801+0000</td><td>2018-12-19T10:07:27.141+0000</td><td>AB</td><td>abbandonata</td><td>undefined</td><td>undefined</td><td>previous conv</td></tr><tr><td>7Z1mILVDw9NGnSwqbNwWhw</td><td>2018-12-19</td><td>2018-12-19T10:01:20.545+0000</td><td>2018-12-19T10:01:23.215+0000</td><td>AB</td><td>abbandonata</td><td>undefined</td><td>undefined</td><td>previous conv</td></tr><tr><td>9yyHHtJPwAmDxilFf26HaZ</td><td>2018-12-19</td><td>2018-12-19T10:03:38.779+0000</td><td>2018-12-19T10:03:41.515+0000</td><td>AB</td><td>abbandonata</td><td>undefined</td><td>undefined</td><td>previous conv</td></tr><tr><td>FuUSysAtbn8AkoKjJ6Qzbo</td><td>2018-12-19</td><td>2018-12-19T10:07:57.974+0000</td><td>2018-12-19T10:08:00.816+0000</td><td>AB</td><td>abbandonata</td><td>undefined</td><td>undefined</td><td>previous conv</td></tr><tr><td>3LBCTNlKN9UIa5rX50RCPm</td><td>2018-12-19</td><td>2018-12-19T10:05:42.353+0000</td><td>2018-12-19T10:05:45.205+0000</td><td>AB</td><td>abbandonata</td><td>undefined</td><td>undefined</td><td>previous conv</td></tr><tr><td>FmX1fvVEr859hmD37RoWM</td><td>2018-12-19</td><td>2018-12-19T10:05:57.997+0000</td><td>2018-12-19T10:06:00.672+0000</td><td>AB</td><td>abbandonata</td><td>undefined</td><td>undefined</td><td>previous conv</td></tr><tr><td>UMJLJS5z18LAQ41eeD4k6</td><td>2018-12-19</td><td>2018-12-19T10:07:11.972+0000</td><td>2018-12-19T10:07:14.784+0000</td><td>AB</td><td>abbandonata</td><td>undefined</td><td>undefined</td><td>previous conv</td></tr><tr><td>CS4w17UrWtCtBP40vWeiF</td><td>2018-12-19</td><td>2018-12-19T10:00:51.777+0000</td><td>2018-12-19T10:00:54.589+0000</td><td>AB</td><td>abbandonata</td><td>undefined</td><td>undefined</td><td>previous conv</td></tr><tr><td>AVyTtDGwhXfKdTpyfgTLu</td><td>2018-12-19</td><td>2018-12-19T10:05:47.376+0000</td><td>2018-12-19T10:05:50.096+0000</td><td>AB</td><td>abbandonata</td><td>undefined</td><td>undefined</td><td>previous conv</td></tr><tr><td>o30E4AgKZEBvzwt8z0mSm</td><td>2018-12-19</td><td>2018-12-19T10:07:37.129+0000</td><td>2018-12-19T10:07:40.464+0000</td><td>AB</td><td>abbandonata</td><td>undefined</td><td>undefined</td><td>previous conv</td></tr><tr><td>HtEkIhHG0PKnFbUZBXlOP</td><td>2018-12-19</td><td>2018-12-19T10:06:46.478+0000</td><td>2018-12-19T10:06:49.204+0000</td><td>AB</td><td>abbandonata</td><td>undefined</td><td>undefined</td><td>previous conv</td></tr><tr><td>F3LKGkFRUk4a1xx4OE1fX</td><td>2018-12-19</td><td>2018-12-19T10:04:25.215+0000</td><td>2018-12-19T10:04:28.534+0000</td><td>AB</td><td>abbandonata</td><td>undefined</td><td>undefined</td><td>previous conv</td></tr><tr><td>rxgbVYO2feCTks69Eqe1t</td><td>2018-12-19</td><td>2018-12-19T10:06:15.850+0000</td><td>2018-12-19T10:06:16.623+0000</td><td>AB</td><td>abbandonata</td><td>undefined</td><td>undefined</td><td>previous conv</td></tr><tr><td>6LRLPjJDLkQ85QplizAeFS</td><td>null</td><td>null</td><td>null</td><td>AB</td><td>abbandonata</td><td>undefined</td><td>undefined</td><td>previous conv</td></tr><tr><td>6LRLPjJDLkQ85QplizAeFS</td><td>null</td><td>null</td><td>null</td><td>CH</td><td>chiusa</td><td>undefined</td><td>undefined</td><td>previous conv</td></tr></tbody></table></div>"
      ]
     },
     "metadata": {},
     "output_type": "display_data"
    }
   ],
   "source": [
    "previous_conversations = spark.read.format(\"delta\").load(\"/delta/\"+environment+\"/Conversations/\")\n",
    "previous_conversations = previous_conversations.withColumn(\"recordType\", F.lit(\"previous conv\"))\n",
    "\"\"\"# Union of two DataFrames\n",
    "#unionDataFrame = previous_events.unionAll(df_1)\"\"\"\n",
    "display(previous_conversations)   "
   ]
  },
  {
   "cell_type": "markdown",
   "metadata": {},
   "source": [
    "### Step 1.2: FULL join between previous conversations and new (la left mantiene i record della prima, inner quelli comuni, la full tutti. Mi prendo conv vecchie, conv nuove, e con full join le ottengo tutte)"
   ]
  },
  {
   "cell_type": "code",
   "execution_count": 78,
   "metadata": {},
   "outputs": [
    {
     "data": {
      "text/html": [
       "<style scoped>\n",
       "  .table-result-container {\n",
       "    max-height: 300px;\n",
       "    overflow: auto;\n",
       "  }\n",
       "  table, th, td {\n",
       "    border: 1px solid black;\n",
       "    border-collapse: collapse;\n",
       "  }\n",
       "  th, td {\n",
       "    padding: 5px;\n",
       "  }\n",
       "  th {\n",
       "    text-align: left;\n",
       "  }\n",
       "</style><div class='table-result-container'><table class='table-result'><thead style='background-color: white'><tr><th>ConversationId</th><th>ConversationStartDate</th><th>ConversationStartTime</th><th>ConversationEndTime</th><th>ConversationStatusCode</th><th>ConversationStatus</th><th>ConversationRecognitionCode</th><th>ConversationRecognition</th><th>recordType</th><th>NewConvId</th><th>NewStartDate</th><th>NewStartTime</th><th>NewEndTime</th></tr></thead><tbody><tr><td>7B0HJgE9ijNAHL1jPjChtq</td><td>2018-12-19</td><td>2018-12-19T09:59:58.615+0000</td><td>2018-12-19T10:00:01.362+0000</td><td>AB</td><td>abbandonata</td><td>undefined</td><td>undefined</td><td>previous conv</td><td>null</td><td>null</td><td>null</td><td>null</td></tr><tr><td>J2XpMj6qpqz1KvQbvZtk5q</td><td>2018-12-19</td><td>2018-12-19T10:07:54.357+0000</td><td>2018-12-19T10:07:57.099+0000</td><td>AB</td><td>abbandonata</td><td>undefined</td><td>undefined</td><td>previous conv</td><td>null</td><td>null</td><td>null</td><td>null</td></tr><tr><td>AV76YJrYqv8IRMzTI36tpW</td><td>2018-12-19</td><td>2018-12-19T10:06:11.685+0000</td><td>2018-12-19T10:06:14.778+0000</td><td>AB</td><td>abbandonata</td><td>undefined</td><td>undefined</td><td>previous conv</td><td>null</td><td>null</td><td>null</td><td>null</td></tr><tr><td>5c589WiBvSAGJRqJeYCipI</td><td>2018-12-19</td><td>2018-12-19T10:04:46.396+0000</td><td>2018-12-19T10:04:49.095+0000</td><td>AB</td><td>abbandonata</td><td>undefined</td><td>undefined</td><td>previous conv</td><td>null</td><td>null</td><td>null</td><td>null</td></tr><tr><td>5qvCp1zz8FEGRvqzzrI6QS</td><td>2018-12-19</td><td>2018-12-19T10:00:34.854+0000</td><td>2018-12-19T10:00:35.767+0000</td><td>CH</td><td>chiusa</td><td>NRIC</td><td>non riconosciuta</td><td>previous conv</td><td>null</td><td>null</td><td>null</td><td>null</td></tr><tr><td>6LRLPjJDLkQ85QplizAeFS</td><td>null</td><td>null</td><td>null</td><td>AB</td><td>abbandonata</td><td>undefined</td><td>undefined</td><td>previous conv</td><td>null</td><td>null</td><td>null</td><td>null</td></tr><tr><td>6LRLPjJDLkQ85QplizAeFS</td><td>null</td><td>null</td><td>null</td><td>CH</td><td>chiusa</td><td>undefined</td><td>undefined</td><td>previous conv</td><td>null</td><td>null</td><td>null</td><td>null</td></tr><tr><td>2Bi9prmuXhr3RTwBeOgfis</td><td>2018-12-19</td><td>2018-12-19T10:03:57.113+0000</td><td>2018-12-19T10:03:59.912+0000</td><td>AB</td><td>abbandonata</td><td>undefined</td><td>undefined</td><td>previous conv</td><td>null</td><td>null</td><td>null</td><td>null</td></tr><tr><td>9qn6DpEPlCmI89kgiaNs8v</td><td>2018-12-19</td><td>2018-12-19T10:01:44.270+0000</td><td>2018-12-19T10:01:47.835+0000</td><td>AB</td><td>abbandonata</td><td>undefined</td><td>undefined</td><td>previous conv</td><td>null</td><td>null</td><td>null</td><td>null</td></tr><tr><td>DwjuQDnNqmsDeFPwQDLqZX</td><td>2018-12-19</td><td>2018-12-19T10:05:22.290+0000</td><td>2018-12-19T10:05:25.040+0000</td><td>AB</td><td>abbandonata</td><td>undefined</td><td>undefined</td><td>previous conv</td><td>null</td><td>null</td><td>null</td><td>null</td></tr><tr><td>KZosmVlhc687ta61GSesrQ</td><td>2018-12-19</td><td>2018-12-19T10:00:20.482+0000</td><td>2018-12-19T10:00:25.549+0000</td><td>AB</td><td>abbandonata</td><td>undefined</td><td>undefined</td><td>previous conv</td><td>null</td><td>null</td><td>null</td><td>null</td></tr><tr><td>FbU0aqsFtkO2WTdF7APKVz</td><td>2018-12-19</td><td>2018-12-19T10:00:07.346+0000</td><td>2018-12-19T10:00:10.203+0000</td><td>AB</td><td>abbandonata</td><td>undefined</td><td>undefined</td><td>previous conv</td><td>null</td><td>null</td><td>null</td><td>null</td></tr><tr><td>HniTlWei0TCKZX95ogQrSp</td><td>2018-12-19</td><td>2018-12-19T10:01:24.169+0000</td><td>2018-12-19T10:01:27.289+0000</td><td>AB</td><td>abbandonata</td><td>undefined</td><td>undefined</td><td>previous conv</td><td>null</td><td>null</td><td>null</td><td>null</td></tr><tr><td>GRoece1WEVoFgz9NTtWoOd</td><td>2018-12-19</td><td>2018-12-19T10:04:40.198+0000</td><td>2018-12-19T10:04:41.052+0000</td><td>AB</td><td>abbandonata</td><td>undefined</td><td>undefined</td><td>previous conv</td><td>null</td><td>null</td><td>null</td><td>null</td></tr><tr><td>1M8jFfZHTnj8X4ilE85gR7</td><td>2018-12-19</td><td>2018-12-19T10:07:15.717+0000</td><td>2018-12-19T10:07:18.590+0000</td><td>AB</td><td>abbandonata</td><td>undefined</td><td>undefined</td><td>previous conv</td><td>null</td><td>null</td><td>null</td><td>null</td></tr><tr><td>J9Y3a8ZXxU9BU2v6XMsUQ1</td><td>2018-12-19</td><td>2018-12-19T10:01:29.825+0000</td><td>2018-12-19T10:01:32.970+0000</td><td>AB</td><td>abbandonata</td><td>undefined</td><td>undefined</td><td>previous conv</td><td>null</td><td>null</td><td>null</td><td>null</td></tr><tr><td>IPdfT30YRoLJ3YmQKspm3v</td><td>2018-12-19</td><td>2018-12-19T10:07:23.801+0000</td><td>2018-12-19T10:07:27.141+0000</td><td>AB</td><td>abbandonata</td><td>undefined</td><td>undefined</td><td>previous conv</td><td>null</td><td>null</td><td>null</td><td>null</td></tr><tr><td>ARORT7V3gkd1N2Agc9dv0d</td><td>2018-12-19</td><td>2018-12-19T10:08:43.881+0000</td><td>2018-12-19T10:08:46.843+0000</td><td>AB</td><td>abbandonata</td><td>undefined</td><td>undefined</td><td>previous conv</td><td>null</td><td>null</td><td>null</td><td>null</td></tr><tr><td>FuUSysAtbn8AkoKjJ6Qzbo</td><td>2018-12-19</td><td>2018-12-19T10:07:57.974+0000</td><td>2018-12-19T10:08:00.816+0000</td><td>AB</td><td>abbandonata</td><td>undefined</td><td>undefined</td><td>previous conv</td><td>null</td><td>null</td><td>null</td><td>null</td></tr><tr><td>1Fj9IX6jUel4pxfWFsQXhZ</td><td>2018-12-19</td><td>2018-12-19T10:06:05.634+0000</td><td>2018-12-19T10:06:06.321+0000</td><td>AB</td><td>abbandonata</td><td>undefined</td><td>undefined</td><td>previous conv</td><td>null</td><td>null</td><td>null</td><td>null</td></tr><tr><td>9d0atysnvH5Q9LhdmSEqo</td><td>2018-12-19</td><td>2018-12-19T10:03:03.316+0000</td><td>2018-12-19T10:03:06.115+0000</td><td>AB</td><td>abbandonata</td><td>undefined</td><td>undefined</td><td>previous conv</td><td>null</td><td>null</td><td>null</td><td>null</td></tr><tr><td>CAnAofgPpxxGKTw7ytbQPy</td><td>2018-12-19</td><td>2018-12-19T10:01:37.501+0000</td><td>2018-12-19T10:01:40.915+0000</td><td>AB</td><td>abbandonata</td><td>undefined</td><td>undefined</td><td>previous conv</td><td>null</td><td>null</td><td>null</td><td>null</td></tr><tr><td>21j4N9vh5jAJtG7qSjkDa2</td><td>2018-12-19</td><td>2018-12-19T10:05:27.887+0000</td><td>2018-12-19T10:05:29.128+0000</td><td>AB</td><td>abbandonata</td><td>undefined</td><td>undefined</td><td>previous conv</td><td>null</td><td>null</td><td>null</td><td>null</td></tr><tr><td>21j4N9vh5jAJtG7qSjkDa2</td><td>2018-12-19</td><td>2018-12-19T10:05:27.887+0000</td><td>2018-12-19T10:05:29.128+0000</td><td>AB</td><td>abbandonata</td><td>undefined</td><td>undefined</td><td>previous conv</td><td>null</td><td>null</td><td>null</td><td>null</td></tr><tr><td>3BrzSpxS6g3A5b9pHtU6mQ</td><td>2018-12-19</td><td>2018-12-19T10:00:46.011+0000</td><td>2018-12-19T10:00:50.725+0000</td><td>AB</td><td>abbandonata</td><td>undefined</td><td>undefined</td><td>previous conv</td><td>null</td><td>null</td><td>null</td><td>null</td></tr><tr><td>C2oJJD3kvuWBKRNfCqsjkl</td><td>2018-12-19</td><td>2018-12-19T10:07:50.791+0000</td><td>2018-12-19T10:07:53.466+0000</td><td>AB</td><td>abbandonata</td><td>undefined</td><td>undefined</td><td>previous conv</td><td>null</td><td>null</td><td>null</td><td>null</td></tr><tr><td>6AyID3tlZuoJNsOLDEhuij</td><td>2018-12-19</td><td>2018-12-19T10:08:40.163+0000</td><td>2018-12-19T10:08:42.779+0000</td><td>AB</td><td>abbandonata</td><td>undefined</td><td>undefined</td><td>previous conv</td><td>null</td><td>null</td><td>null</td><td>null</td></tr><tr><td>5sZzyaniZ6A5jAfHsIV5He</td><td>2018-12-19</td><td>2018-12-19T10:06:07.676+0000</td><td>2018-12-19T10:06:10.422+0000</td><td>AB</td><td>abbandonata</td><td>undefined</td><td>undefined</td><td>previous conv</td><td>null</td><td>null</td><td>null</td><td>null</td></tr><tr><td>null</td><td>null</td><td>null</td><td>null</td><td>null</td><td>null</td><td>null</td><td>null</td><td>null</td><td>8mkbRBVLXnqB1DyyZ1pVcZ</td><td>2018-11-12</td><td>2018-11-12T14:09:18.462+0000</td><td>2018-11-12T14:57:54.130+0000</td></tr><tr><td>8Nsx30Rhm5hEwIGXG34QJm</td><td>2018-12-19</td><td>2018-12-19T10:03:31.114+0000</td><td>2018-12-19T10:03:33.834+0000</td><td>AB</td><td>abbandonata</td><td>undefined</td><td>undefined</td><td>previous conv</td><td>null</td><td>null</td><td>null</td><td>null</td></tr><tr><td>F3LKGkFRUk4a1xx4OE1fX</td><td>2018-12-19</td><td>2018-12-19T10:04:25.215+0000</td><td>2018-12-19T10:04:28.534+0000</td><td>AB</td><td>abbandonata</td><td>undefined</td><td>undefined</td><td>previous conv</td><td>null</td><td>null</td><td>null</td><td>null</td></tr><tr><td>BzhxA91vI9j6ALbLaGqrUB</td><td>2018-12-19</td><td>2018-12-19T10:00:41.954+0000</td><td>2018-12-19T10:00:44.717+0000</td><td>AB</td><td>abbandonata</td><td>undefined</td><td>undefined</td><td>previous conv</td><td>null</td><td>null</td><td>null</td><td>null</td></tr><tr><td>GwfnIAGN3jQ6r0FL8M54S9</td><td>2018-12-19</td><td>2018-12-19T10:03:46.418+0000</td><td>2018-12-19T10:03:47.131+0000</td><td>AB</td><td>abbandonata</td><td>undefined</td><td>undefined</td><td>previous conv</td><td>null</td><td>null</td><td>null</td><td>null</td></tr><tr><td>cBbBHV0ogp4wDWGcdIg5c</td><td>2018-12-19</td><td>2018-12-19T10:06:17.889+0000</td><td>2018-12-19T10:06:20.943+0000</td><td>AB</td><td>abbandonata</td><td>undefined</td><td>undefined</td><td>previous conv</td><td>null</td><td>null</td><td>null</td><td>null</td></tr><tr><td>8F00qVkn7DR1fmGzC8v4mO</td><td>2018-12-19</td><td>2018-12-19T10:02:59.683+0000</td><td>2018-12-19T10:03:02.298+0000</td><td>AB</td><td>abbandonata</td><td>undefined</td><td>undefined</td><td>previous conv</td><td>null</td><td>null</td><td>null</td><td>null</td></tr><tr><td>AsdW4gXehJqBlFZu1HAgjD</td><td>2018-12-19</td><td>2018-12-19T10:03:42.473+0000</td><td>2018-12-19T10:03:45.364+0000</td><td>AB</td><td>abbandonata</td><td>undefined</td><td>undefined</td><td>previous conv</td><td>null</td><td>null</td><td>null</td><td>null</td></tr><tr><td>KuARJ6GQdSLKGtKtTXs8cl</td><td>2018-12-19</td><td>2018-12-19T10:08:24.665+0000</td><td>2018-12-19T10:08:27.319+0000</td><td>AB</td><td>abbandonata</td><td>undefined</td><td>undefined</td><td>previous conv</td><td>null</td><td>null</td><td>null</td><td>null</td></tr><tr><td>Jax87NP1gxb5HI2k0jn9FI</td><td>2018-12-19</td><td>2018-12-19T10:03:23.459+0000</td><td>2018-12-19T10:03:26.039+0000</td><td>AB</td><td>abbandonata</td><td>undefined</td><td>undefined</td><td>previous conv</td><td>null</td><td>null</td><td>null</td><td>null</td></tr><tr><td>FmX1fvVEr859hmD37RoWM</td><td>2018-12-19</td><td>2018-12-19T10:05:57.997+0000</td><td>2018-12-19T10:06:00.672+0000</td><td>AB</td><td>abbandonata</td><td>undefined</td><td>undefined</td><td>previous conv</td><td>null</td><td>null</td><td>null</td><td>null</td></tr><tr><td>3aR6jgOgVpEA2ENI9QpKgo</td><td>2018-12-19</td><td>2018-12-19T10:02:29.290+0000</td><td>2018-12-19T10:02:32.801+0000</td><td>AB</td><td>abbandonata</td><td>undefined</td><td>undefined</td><td>previous conv</td><td>null</td><td>null</td><td>null</td><td>null</td></tr><tr><td>9ANTgUQN2Xg6tcfv1gm0xK</td><td>2018-12-19</td><td>2018-12-19T10:07:19.582+0000</td><td>2018-12-19T10:07:22.330+0000</td><td>AB</td><td>abbandonata</td><td>undefined</td><td>undefined</td><td>previous conv</td><td>null</td><td>null</td><td>null</td><td>null</td></tr><tr><td>DQeTDuAElyULRHOSWYR09Q</td><td>2018-12-19</td><td>2018-12-19T10:00:36.731+0000</td><td>2018-12-19T10:00:37.350+0000</td><td>AB</td><td>abbandonata</td><td>undefined</td><td>undefined</td><td>previous conv</td><td>null</td><td>null</td><td>null</td><td>null</td></tr><tr><td>3mc4jWwQNEqK5WXoPNeQ7a</td><td>2018-12-19</td><td>2018-12-19T10:07:08.036+0000</td><td>2018-12-19T10:07:10.904+0000</td><td>AB</td><td>abbandonata</td><td>undefined</td><td>undefined</td><td>previous conv</td><td>null</td><td>null</td><td>null</td><td>null</td></tr><tr><td>73XlEir5OkHBTN72Axrbt6</td><td>2018-12-19</td><td>2018-12-19T10:04:12.402+0000</td><td>2018-12-19T10:04:16.050+0000</td><td>AB</td><td>abbandonata</td><td>undefined</td><td>undefined</td><td>previous conv</td><td>null</td><td>null</td><td>null</td><td>null</td></tr><tr><td>7Z1mILVDw9NGnSwqbNwWhw</td><td>2018-12-19</td><td>2018-12-19T10:01:20.545+0000</td><td>2018-12-19T10:01:23.215+0000</td><td>AB</td><td>abbandonata</td><td>undefined</td><td>undefined</td><td>previous conv</td><td>null</td><td>null</td><td>null</td><td>null</td></tr><tr><td>C63uKVWVRLE16OzclU3BWe</td><td>2018-12-19</td><td>2018-12-19T10:04:04.480+0000</td><td>2018-12-19T10:04:07.304+0000</td><td>AB</td><td>abbandonata</td><td>undefined</td><td>undefined</td><td>previous conv</td><td>null</td><td>null</td><td>null</td><td>null</td></tr><tr><td>Iuqr9dNC9gtAjbX1DtJUgG</td><td>2018-12-19</td><td>2018-12-19T10:08:32.042+0000</td><td>2018-12-19T10:08:34.821+0000</td><td>AB</td><td>abbandonata</td><td>undefined</td><td>undefined</td><td>previous conv</td><td>null</td><td>null</td><td>null</td><td>null</td></tr><tr><td>1hX9IDyqbT0GprwRN1r68T</td><td>2018-12-19</td><td>2018-12-19T10:00:59.968+0000</td><td>2018-12-19T10:01:01.300+0000</td><td>AB</td><td>abbandonata</td><td>undefined</td><td>undefined</td><td>previous conv</td><td>null</td><td>null</td><td>null</td><td>null</td></tr><tr><td>AnVPlFA3IvM7KrlUyJH4kZ</td><td>2018-12-19</td><td>2018-12-19T10:08:17.431+0000</td><td>2018-12-19T10:08:20.235+0000</td><td>AB</td><td>abbandonata</td><td>undefined</td><td>undefined</td><td>previous conv</td><td>null</td><td>null</td><td>null</td><td>null</td></tr><tr><td>5MN4sLhBqsn80XnS1kGBsf</td><td>2018-12-19</td><td>2018-12-19T10:05:30.157+0000</td><td>2018-12-19T10:05:31.321+0000</td><td>AB</td><td>abbandonata</td><td>undefined</td><td>undefined</td><td>previous conv</td><td>null</td><td>null</td><td>null</td><td>null</td></tr><tr><td>GMY71ftXJxGKhSQRHfVkmC</td><td>2018-12-19</td><td>2018-12-19T10:01:02.401+0000</td><td>2018-12-19T10:01:05.274+0000</td><td>AB</td><td>abbandonata</td><td>undefined</td><td>undefined</td><td>previous conv</td><td>null</td><td>null</td><td>null</td><td>null</td></tr><tr><td>HtEkIhHG0PKnFbUZBXlOP</td><td>2018-12-19</td><td>2018-12-19T10:06:46.478+0000</td><td>2018-12-19T10:06:49.204+0000</td><td>AB</td><td>abbandonata</td><td>undefined</td><td>undefined</td><td>previous conv</td><td>null</td><td>null</td><td>null</td><td>null</td></tr><tr><td>KYwBoagLyVcLtPNYSFXQKh</td><td>2018-12-19</td><td>2018-12-19T10:05:14.550+0000</td><td>2018-12-19T10:05:17.227+0000</td><td>AB</td><td>abbandonata</td><td>undefined</td><td>undefined</td><td>previous conv</td><td>null</td><td>null</td><td>null</td><td>null</td></tr><tr><td>8kitDpL2NY16G6leGYtey5</td><td>2018-12-19</td><td>2018-12-19T10:03:55.393+0000</td><td>2018-12-19T10:03:55.985+0000</td><td>AB</td><td>abbandonata</td><td>undefined</td><td>undefined</td><td>previous conv</td><td>null</td><td>null</td><td>null</td><td>null</td></tr><tr><td>cIuWCRyeTNI7cNJOVfRuA</td><td>2018-12-19</td><td>2018-12-19T10:01:49.067+0000</td><td>2018-12-19T10:01:51.881+0000</td><td>AB</td><td>abbandonata</td><td>undefined</td><td>undefined</td><td>previous conv</td><td>null</td><td>null</td><td>null</td><td>null</td></tr><tr><td>7eG8cr6HhuUH1DOiFhPwxm</td><td>2018-12-19</td><td>2018-12-19T10:00:26.680+0000</td><td>2018-12-19T10:00:29.481+0000</td><td>AB</td><td>abbandonata</td><td>undefined</td><td>undefined</td><td>previous conv</td><td>null</td><td>null</td><td>null</td><td>null</td></tr><tr><td>9LA9JDlXeMQGVDEmSM0j0O</td><td>2018-12-19</td><td>2018-12-19T10:03:35.087+0000</td><td>2018-12-19T10:03:37.872+0000</td><td>AB</td><td>abbandonata</td><td>undefined</td><td>undefined</td><td>previous conv</td><td>null</td><td>null</td><td>null</td><td>null</td></tr><tr><td>KHgwZCGqZZhGPc0gX23cXM</td><td>2018-12-19</td><td>2018-12-19T10:07:28.288+0000</td><td>2018-12-19T10:07:31.178+0000</td><td>AB</td><td>abbandonata</td><td>undefined</td><td>undefined</td><td>previous conv</td><td>null</td><td>null</td><td>null</td><td>null</td></tr><tr><td>Du6Mqu5ZpkMBGld2nEdy7n</td><td>2018-12-19</td><td>2018-12-19T10:04:21.047+0000</td><td>2018-12-19T10:04:23.925+0000</td><td>AB</td><td>abbandonata</td><td>undefined</td><td>undefined</td><td>previous conv</td><td>null</td><td>null</td><td>null</td><td>null</td></tr><tr><td>UMJLJS5z18LAQ41eeD4k6</td><td>2018-12-19</td><td>2018-12-19T10:07:11.972+0000</td><td>2018-12-19T10:07:14.784+0000</td><td>AB</td><td>abbandonata</td><td>undefined</td><td>undefined</td><td>previous conv</td><td>null</td><td>null</td><td>null</td><td>null</td></tr><tr><td>EuKF17dnMtZFlwOOcqYAQT</td><td>2018-12-19</td><td>2018-12-19T10:01:41.910+0000</td><td>2018-12-19T10:01:42.933+0000</td><td>AB</td><td>abbandonata</td><td>undefined</td><td>undefined</td><td>previous conv</td><td>null</td><td>null</td><td>null</td><td>null</td></tr><tr><td>o30E4AgKZEBvzwt8z0mSm</td><td>2018-12-19</td><td>2018-12-19T10:07:37.129+0000</td><td>2018-12-19T10:07:40.464+0000</td><td>AB</td><td>abbandonata</td><td>undefined</td><td>undefined</td><td>previous conv</td><td>null</td><td>null</td><td>null</td><td>null</td></tr><tr><td>CHDaaq0jgMv56UCkTGO25d</td><td>2018-12-19</td><td>2018-12-19T10:00:55.622+0000</td><td>2018-12-19T10:00:58.647+0000</td><td>AB</td><td>abbandonata</td><td>undefined</td><td>undefined</td><td>previous conv</td><td>null</td><td>null</td><td>null</td><td>null</td></tr><tr><td>7kHOh4sAkz2HcBRONuiTtZ</td><td>2018-12-19</td><td>2018-12-19T10:06:01.903+0000</td><td>2018-12-19T10:06:04.656+0000</td><td>AB</td><td>abbandonata</td><td>undefined</td><td>undefined</td><td>previous conv</td><td>null</td><td>null</td><td>null</td><td>null</td></tr><tr><td>FAG236sgmDvDGQ97XYvboj</td><td>2018-12-19</td><td>2018-12-19T10:04:51.292+0000</td><td>2018-12-19T10:04:54.679+0000</td><td>AB</td><td>abbandonata</td><td>undefined</td><td>undefined</td><td>previous conv</td><td>null</td><td>null</td><td>null</td><td>null</td></tr><tr><td>645Qfm6VqKe6hGMMV3GS79</td><td>2018-12-19</td><td>2018-12-19T10:05:03.959+0000</td><td>2018-12-19T10:05:07.162+0000</td><td>AB</td><td>abbandonata</td><td>undefined</td><td>undefined</td><td>previous conv</td><td>null</td><td>null</td><td>null</td><td>null</td></tr><tr><td>9iLbHEU5llmKRmI4y8Hh9n</td><td>2018-12-19</td><td>2018-12-19T10:03:27.087+0000</td><td>2018-12-19T10:03:30.039+0000</td><td>AB</td><td>abbandonata</td><td>undefined</td><td>undefined</td><td>previous conv</td><td>null</td><td>null</td><td>null</td><td>null</td></tr><tr><td>6lZLp1aNzv3FsJlqmT9bN4</td><td>2018-12-19</td><td>2018-12-19T10:07:47.184+0000</td><td>2018-12-19T10:07:49.827+0000</td><td>AB</td><td>abbandonata</td><td>undefined</td><td>undefined</td><td>previous conv</td><td>null</td><td>null</td><td>null</td><td>null</td></tr><tr><td>HiqRnfKJN997NCSb4Hu1Vy</td><td>2018-12-19</td><td>2018-12-19T10:02:41.674+0000</td><td>2018-12-19T10:02:44.842+0000</td><td>AB</td><td>abbandonata</td><td>undefined</td><td>undefined</td><td>previous conv</td><td>null</td><td>null</td><td>null</td><td>null</td></tr><tr><td>6O0YIYrf1iZBgDImJeBmaf</td><td>2018-12-19</td><td>2018-12-19T10:00:02.339+0000</td><td>2018-12-19T10:00:05.573+0000</td><td>AB</td><td>abbandonata</td><td>undefined</td><td>undefined</td><td>previous conv</td><td>null</td><td>null</td><td>null</td><td>null</td></tr><tr><td>KvbgYIyVnAVA2lPB5jcM6O</td><td>2018-12-19</td><td>2018-12-19T10:03:19.585+0000</td><td>2018-12-19T10:03:22.364+0000</td><td>AB</td><td>abbandonata</td><td>undefined</td><td>undefined</td><td>previous conv</td><td>null</td><td>null</td><td>null</td><td>null</td></tr><tr><td>null</td><td>null</td><td>null</td><td>null</td><td>null</td><td>null</td><td>null</td><td>null</td><td>null</td><td>777Qsjs3i8qJyBr95zABbk</td><td>2018-11-12</td><td>2018-11-12T13:58:00.081+0000</td><td>2018-11-12T13:59:32.347+0000</td></tr><tr><td>AVyTtDGwhXfKdTpyfgTLu</td><td>2018-12-19</td><td>2018-12-19T10:05:47.376+0000</td><td>2018-12-19T10:05:50.096+0000</td><td>AB</td><td>abbandonata</td><td>undefined</td><td>undefined</td><td>previous conv</td><td>null</td><td>null</td><td>null</td><td>null</td></tr><tr><td>6NBZH9mqT6YA2tUSxEQ8UL</td><td>2018-12-19</td><td>2018-12-19T10:06:50.146+0000</td><td>2018-12-19T10:06:53.320+0000</td><td>AB</td><td>abbandonata</td><td>undefined</td><td>undefined</td><td>previous conv</td><td>null</td><td>null</td><td>null</td><td>null</td></tr><tr><td>AuZMvVCU5Od7iBPgRifTsb</td><td>2018-12-19</td><td>2018-12-19T10:08:05.719+0000</td><td>2018-12-19T10:08:09.270+0000</td><td>AB</td><td>abbandonata</td><td>undefined</td><td>undefined</td><td>previous conv</td><td>null</td><td>null</td><td>null</td><td>null</td></tr><tr><td>null</td><td>null</td><td>null</td><td>null</td><td>null</td><td>null</td><td>null</td><td>null</td><td>null</td><td>2cpS4QCdLps7ycDeAxodOz</td><td>2018-11-12</td><td>2018-11-12T13:57:54.672+0000</td><td>2018-11-12T14:07:45.439+0000</td></tr><tr><td>GqYB5uiuTXo36XO5tqLasS</td><td>2018-12-19</td><td>2018-12-19T10:04:55.875+0000</td><td>2018-12-19T10:04:58.722+0000</td><td>AB</td><td>abbandonata</td><td>undefined</td><td>undefined</td><td>previous conv</td><td>null</td><td>null</td><td>null</td><td>null</td></tr><tr><td>Ad7zs6BcoQVBotmADRikzz</td><td>2018-12-19</td><td>2018-12-19T10:05:26.037+0000</td><td>2018-12-19T10:05:26.863+0000</td><td>AB</td><td>abbandonata</td><td>undefined</td><td>undefined</td><td>previous conv</td><td>null</td><td>null</td><td>null</td><td>null</td></tr><tr><td>BR0ofouBvVyCutUwNFrDKx</td><td>2018-12-19</td><td>2018-12-19T10:03:49.737+0000</td><td>2018-12-19T10:03:52.547+0000</td><td>AB</td><td>abbandonata</td><td>undefined</td><td>undefined</td><td>previous conv</td><td>null</td><td>null</td><td>null</td><td>null</td></tr><tr><td>2RBQeAT3StU8rbUF9AJLOq</td><td>2018-12-19</td><td>2018-12-19T10:08:10.070+0000</td><td>2018-12-19T10:08:12.786+0000</td><td>AB</td><td>abbandonata</td><td>undefined</td><td>undefined</td><td>previous conv</td><td>null</td><td>null</td><td>null</td><td>null</td></tr><tr><td>l3Q4Js0oxiISv7lv8yIVK</td><td>2018-12-19</td><td>2018-12-19T10:05:18.586+0000</td><td>2018-12-19T10:05:21.270+0000</td><td>AB</td><td>abbandonata</td><td>undefined</td><td>undefined</td><td>previous conv</td><td>null</td><td>null</td><td>null</td><td>null</td></tr><tr><td>4iBjCmp5TQeDvRE6mrAalZ</td><td>2018-12-19</td><td>2018-12-19T10:05:34.525+0000</td><td>2018-12-19T10:05:37.644+0000</td><td>AB</td><td>abbandonata</td><td>undefined</td><td>undefined</td><td>previous conv</td><td>null</td><td>null</td><td>null</td><td>null</td></tr><tr><td>GKW8mE2ve3RKm2JptHVKDT</td><td>2018-12-19</td><td>2018-12-19T10:01:11.397+0000</td><td>2018-12-19T10:01:14.155+0000</td><td>AB</td><td>abbandonata</td><td>undefined</td><td>undefined</td><td>previous conv</td><td>null</td><td>null</td><td>null</td><td>null</td></tr><tr><td>DTl4YwKX00v1yAtN4SqHFn</td><td>2018-12-19</td><td>2018-12-19T10:08:21.100+0000</td><td>2018-12-19T10:08:23.789+0000</td><td>AB</td><td>abbandonata</td><td>undefined</td><td>undefined</td><td>previous conv</td><td>null</td><td>null</td><td>null</td><td>null</td></tr><tr><td>FgRoz5VmmJQFNt0bi6WnwA</td><td>2018-12-19</td><td>2018-12-19T10:01:07.077+0000</td><td>2018-12-19T10:01:09.714+0000</td><td>AB</td><td>abbandonata</td><td>undefined</td><td>undefined</td><td>previous conv</td><td>null</td><td>null</td><td>null</td><td>null</td></tr><tr><td>B8rzMP7C5pK29hlUXMqgzZ</td><td>2018-12-19</td><td>2018-12-19T10:05:53.354+0000</td><td>2018-12-19T10:05:56.681+0000</td><td>AB</td><td>abbandonata</td><td>undefined</td><td>undefined</td><td>previous conv</td><td>null</td><td>null</td><td>null</td><td>null</td></tr><tr><td>A3bJjFKywlIFMysFZ89BEV</td><td>2018-12-19</td><td>2018-12-19T10:02:55.551+0000</td><td>2018-12-19T10:02:58.278+0000</td><td>AB</td><td>abbandonata</td><td>undefined</td><td>undefined</td><td>previous conv</td><td>null</td><td>null</td><td>null</td><td>null</td></tr><tr><td>3LBCTNlKN9UIa5rX50RCPm</td><td>2018-12-19</td><td>2018-12-19T10:05:42.353+0000</td><td>2018-12-19T10:05:45.205+0000</td><td>AB</td><td>abbandonata</td><td>undefined</td><td>undefined</td><td>previous conv</td><td>null</td><td>null</td><td>null</td><td>null</td></tr><tr><td>4LVBWfr9qAjAzjNrubFjFt</td><td>2018-12-19</td><td>2018-12-19T10:08:01.717+0000</td><td>2018-12-19T10:08:04.906+0000</td><td>AB</td><td>abbandonata</td><td>undefined</td><td>undefined</td><td>previous conv</td><td>null</td><td>null</td><td>null</td><td>null</td></tr><tr><td>1cqBnYLEMnz5Q7VQQ2Klht</td><td>2018-12-19</td><td>2018-12-19T10:03:53.695+0000</td><td>2018-12-19T10:03:54.320+0000</td><td>AB</td><td>abbandonata</td><td>undefined</td><td>undefined</td><td>previous conv</td><td>null</td><td>null</td><td>null</td><td>null</td></tr><tr><td>4FBfp9KanczHdXX9qX7FRZ</td><td>2018-12-19</td><td>2018-12-19T10:07:43.100+0000</td><td>2018-12-19T10:07:45.974+0000</td><td>AB</td><td>abbandonata</td><td>undefined</td><td>undefined</td><td>previous conv</td><td>null</td><td>null</td><td>null</td><td>null</td></tr><tr><td>6WY96nYFoPeBmXoDJ12KPk</td><td>2018-12-19</td><td>2018-12-19T10:06:56.634+0000</td><td>2018-12-19T10:06:59.638+0000</td><td>AB</td><td>abbandonata</td><td>undefined</td><td>undefined</td><td>previous conv</td><td>null</td><td>null</td><td>null</td><td>null</td></tr><tr><td>75UAd0AAJxH3pF5fjXpLlW</td><td>2018-12-19</td><td>2018-12-19T10:05:32.434+0000</td><td>2018-12-19T10:05:33.545+0000</td><td>AB</td><td>abbandonata</td><td>undefined</td><td>undefined</td><td>previous conv</td><td>null</td><td>null</td><td>null</td><td>null</td></tr><tr><td>KIesfCH9IJv2fLqmnaGc1k</td><td>2018-12-19</td><td>2018-12-19T10:00:11.366+0000</td><td>2018-12-19T10:00:14.444+0000</td><td>AB</td><td>abbandonata</td><td>undefined</td><td>undefined</td><td>previous conv</td><td>null</td><td>null</td><td>null</td><td>null</td></tr><tr><td>2qwuLDoR7X0J8uaodKVF2K</td><td>2018-12-19</td><td>2018-12-19T10:08:35.859+0000</td><td>2018-12-19T10:08:39.382+0000</td><td>AB</td><td>abbandonata</td><td>undefined</td><td>undefined</td><td>previous conv</td><td>null</td><td>null</td><td>null</td><td>null</td></tr><tr><td>L5zNP9a1r1ED6r2QvRhdLX</td><td>2018-12-19</td><td>2018-12-19T10:04:59.970+0000</td><td>2018-12-19T10:05:02.796+0000</td><td>AB</td><td>abbandonata</td><td>undefined</td><td>undefined</td><td>previous conv</td><td>null</td><td>null</td><td>null</td><td>null</td></tr><tr><td>D301ilHH2Uo8NWPCHDI7iE</td><td>2018-12-19</td><td>2018-12-19T10:04:30.620+0000</td><td>2018-12-19T10:04:33.729+0000</td><td>AB</td><td>abbandonata</td><td>undefined</td><td>undefined</td><td>previous conv</td><td>null</td><td>null</td><td>null</td><td>null</td></tr><tr><td>9yyHHtJPwAmDxilFf26HaZ</td><td>2018-12-19</td><td>2018-12-19T10:03:38.779+0000</td><td>2018-12-19T10:03:41.515+0000</td><td>AB</td><td>abbandonata</td><td>undefined</td><td>undefined</td><td>previous conv</td><td>null</td><td>null</td><td>null</td><td>null</td></tr><tr><td>null</td><td>null</td><td>null</td><td>null</td><td>null</td><td>null</td><td>null</td><td>null</td><td>null</td><td>JEBXXIfay3m328mWQLvL0x</td><td>2018-11-12</td><td>2018-11-12T14:07:54.379+0000</td><td>2018-11-12T14:55:34.613+0000</td></tr><tr><td>2v35A6jYpUCF0y4W9RJRWT</td><td>2018-12-19</td><td>2018-12-19T10:00:38.299+0000</td><td>2018-12-19T10:00:40.952+0000</td><td>AB</td><td>abbandonata</td><td>undefined</td><td>undefined</td><td>previous conv</td><td>null</td><td>null</td><td>null</td><td>null</td></tr><tr><td>7iJ2QLGRrveDOg9HjgJm4x</td><td>2018-12-19</td><td>2018-12-19T10:00:30.523+0000</td><td>2018-12-19T10:00:33.172+0000</td><td>AB</td><td>abbandonata</td><td>undefined</td><td>undefined</td><td>previous conv</td><td>null</td><td>null</td><td>null</td><td>null</td></tr><tr><td>99YA9K31AoFFXUUpWjL02b</td><td>2018-12-19</td><td>2018-12-19T10:03:47.995+0000</td><td>2018-12-19T10:03:48.750+0000</td><td>AB</td><td>abbandonata</td><td>undefined</td><td>undefined</td><td>previous conv</td><td>null</td><td>null</td><td>null</td><td>null</td></tr><tr><td>CTDx6aRWUbNKN5edGUeuH6</td><td>2018-12-19</td><td>2018-12-19T10:06:42.666+0000</td><td>2018-12-19T10:06:45.414+0000</td><td>AB</td><td>abbandonata</td><td>undefined</td><td>undefined</td><td>previous conv</td><td>null</td><td>null</td><td>null</td><td>null</td></tr><tr><td>1maN5RaTdzH89PhZYBHjWI</td><td>2018-12-19</td><td>2018-12-19T10:04:34.710+0000</td><td>2018-12-19T10:04:36.148+0000</td><td>AB</td><td>abbandonata</td><td>undefined</td><td>undefined</td><td>previous conv</td><td>null</td><td>null</td><td>null</td><td>null</td></tr><tr><td>2vCpCLlSS0F2O7AuX6FzH7</td><td>2018-12-19</td><td>2018-12-19T10:06:29.046+0000</td><td>2018-12-19T10:06:32.326+0000</td><td>AB</td><td>abbandonata</td><td>undefined</td><td>undefined</td><td>previous conv</td><td>null</td><td>null</td><td>null</td><td>null</td></tr><tr><td>KYK2HJkSZ8a3nghipVJbj9</td><td>2018-12-19</td><td>2018-12-19T10:02:45.990+0000</td><td>2018-12-19T10:02:48.673+0000</td><td>AB</td><td>abbandonata</td><td>undefined</td><td>undefined</td><td>previous conv</td><td>null</td><td>null</td><td>null</td><td>null</td></tr><tr><td>3zHaCjXn7AtELDvj0wTXNf</td><td>2018-12-19</td><td>2018-12-19T10:02:33.904+0000</td><td>2018-12-19T10:02:36.793+0000</td><td>AB</td><td>abbandonata</td><td>undefined</td><td>undefined</td><td>previous conv</td><td>null</td><td>null</td><td>null</td><td>null</td></tr><tr><td>1CY3JeMvsiCGxl3HQfFRXA</td><td>2018-12-19</td><td>2018-12-19T10:04:17.036+0000</td><td>2018-12-19T10:04:19.767+0000</td><td>AB</td><td>abbandonata</td><td>undefined</td><td>undefined</td><td>previous conv</td><td>null</td><td>null</td><td>null</td><td>null</td></tr><tr><td>5RCYVLGONapLew3SD2WrBD</td><td>2018-12-19</td><td>2018-12-19T10:04:37.923+0000</td><td>2018-12-19T10:04:39.205+0000</td><td>AB</td><td>abbandonata</td><td>undefined</td><td>undefined</td><td>previous conv</td><td>null</td><td>null</td><td>null</td><td>null</td></tr><tr><td>FmaadPOGBdKFYXbxDOTHfk</td><td>2018-12-19</td><td>2018-12-19T10:07:04.262+0000</td><td>2018-12-19T10:07:06.898+0000</td><td>AB</td><td>abbandonata</td><td>undefined</td><td>undefined</td><td>previous conv</td><td>null</td><td>null</td><td>null</td><td>null</td></tr><tr><td>GApzqyRtJHTGOdEoOQoKSZ</td><td>2018-12-19</td><td>2018-12-19T10:06:21.952+0000</td><td>2018-12-19T10:06:23.217+0000</td><td>AB</td><td>abbandonata</td><td>undefined</td><td>undefined</td><td>previous conv</td><td>null</td><td>null</td><td>null</td><td>null</td></tr><tr><td>GBs45imyGM4LhlCUxGtEKc</td><td>2018-12-19</td><td>2018-12-19T10:04:08.259+0000</td><td>2018-12-19T10:04:11.489+0000</td><td>AB</td><td>abbandonata</td><td>undefined</td><td>undefined</td><td>previous conv</td><td>null</td><td>null</td><td>null</td><td>null</td></tr><tr><td>rxgbVYO2feCTks69Eqe1t</td><td>2018-12-19</td><td>2018-12-19T10:06:15.850+0000</td><td>2018-12-19T10:06:16.623+0000</td><td>AB</td><td>abbandonata</td><td>undefined</td><td>undefined</td><td>previous conv</td><td>null</td><td>null</td><td>null</td><td>null</td></tr><tr><td>9zwREil2AQn9kzNLCbexOS</td><td>2018-12-19</td><td>2018-12-19T10:06:34.765+0000</td><td>2018-12-19T10:06:37.775+0000</td><td>AB</td><td>abbandonata</td><td>undefined</td><td>undefined</td><td>previous conv</td><td>null</td><td>null</td><td>null</td><td>null</td></tr><tr><td>FDyTLRhZzjV3BmjbE888IE</td><td>2018-12-19</td><td>2018-12-19T10:07:00.466+0000</td><td>2018-12-19T10:07:03.318+0000</td><td>AB</td><td>abbandonata</td><td>undefined</td><td>undefined</td><td>previous conv</td><td>null</td><td>null</td><td>null</td><td>null</td></tr><tr><td>LXPCvuK28M5HfgCKroBZxm</td><td>2018-12-19</td><td>2018-12-19T10:03:11.060+0000</td><td>2018-12-19T10:03:14.001+0000</td><td>AB</td><td>abbandonata</td><td>undefined</td><td>undefined</td><td>previous conv</td><td>null</td><td>null</td><td>null</td><td>null</td></tr><tr><td>1D0RA7haAQWEeoN1LS1aUr</td><td>2018-12-19</td><td>2018-12-19T10:03:07.275+0000</td><td>2018-12-19T10:03:10.033+0000</td><td>AB</td><td>abbandonata</td><td>undefined</td><td>undefined</td><td>previous conv</td><td>null</td><td>null</td><td>null</td><td>null</td></tr><tr><td>CQex95xvNIU54RdliVSeCG</td><td>2018-12-19</td><td>2018-12-19T10:03:15.186+0000</td><td>2018-12-19T10:03:18.368+0000</td><td>AB</td><td>abbandonata</td><td>undefined</td><td>undefined</td><td>previous conv</td><td>null</td><td>null</td><td>null</td><td>null</td></tr><tr><td>FGciej2AbIh5cVdBQonPbY</td><td>2018-12-19</td><td>2018-12-19T09:59:28.626+0000</td><td>2018-12-19T09:59:53.871+0000</td><td>AB</td><td>abbandonata</td><td>undefined</td><td>undefined</td><td>previous conv</td><td>null</td><td>null</td><td>null</td><td>null</td></tr><tr><td>41dECwGJ4EP16fkaIHLnGx</td><td>2018-12-19</td><td>2018-12-19T10:04:00.828+0000</td><td>2018-12-19T10:04:03.557+0000</td><td>AB</td><td>abbandonata</td><td>undefined</td><td>undefined</td><td>previous conv</td><td>null</td><td>null</td><td>null</td><td>null</td></tr><tr><td>4FLYXJ4AmKs8tr2mEcgpPH</td><td>2018-12-19</td><td>2018-12-19T10:02:37.904+0000</td><td>2018-12-19T10:02:40.709+0000</td><td>AB</td><td>abbandonata</td><td>undefined</td><td>undefined</td><td>previous conv</td><td>null</td><td>null</td><td>null</td><td>null</td></tr><tr><td>GNvI0JnYnICLtou4eRBNPj</td><td>2018-12-19</td><td>2018-12-19T10:05:08.368+0000</td><td>2018-12-19T10:05:11.175+0000</td><td>AB</td><td>abbandonata</td><td>undefined</td><td>undefined</td><td>previous conv</td><td>null</td><td>null</td><td>null</td><td>null</td></tr><tr><td>5hBGbHY46pXJWFzxIUyMhq</td><td>2018-12-19</td><td>2018-12-19T10:04:42.107+0000</td><td>2018-12-19T10:04:45.095+0000</td><td>AB</td><td>abbandonata</td><td>undefined</td><td>undefined</td><td>previous conv</td><td>null</td><td>null</td><td>null</td><td>null</td></tr><tr><td>EAz9wJpNQhh8hVksJr01gp</td><td>2018-12-19</td><td>2018-12-19T10:08:13.723+0000</td><td>2018-12-19T10:08:16.601+0000</td><td>AB</td><td>abbandonata</td><td>undefined</td><td>undefined</td><td>previous conv</td><td>null</td><td>null</td><td>null</td><td>null</td></tr><tr><td>9NW2I4U73DD6SLxlVPt0Xv</td><td>2018-12-19</td><td>2018-12-19T10:01:15.875+0000</td><td>2018-12-19T10:01:19.128+0000</td><td>AB</td><td>abbandonata</td><td>undefined</td><td>undefined</td><td>previous conv</td><td>null</td><td>null</td><td>null</td><td>null</td></tr><tr><td>J8vBjsmLkmM6cHR7D2IqeY</td><td>2018-12-19</td><td>2018-12-19T10:07:41.485+0000</td><td>2018-12-19T10:07:42.235+0000</td><td>AB</td><td>abbandonata</td><td>undefined</td><td>undefined</td><td>previous conv</td><td>null</td><td>null</td><td>null</td><td>null</td></tr><tr><td>9zxS0ZgGReQCh5Tpb0h8Rr</td><td>2018-12-19</td><td>2018-12-19T10:02:50.424+0000</td><td>2018-12-19T10:02:53.245+0000</td><td>AB</td><td>abbandonata</td><td>undefined</td><td>undefined</td><td>previous conv</td><td>null</td><td>null</td><td>null</td><td>null</td></tr><tr><td>K8DDgr3rbSa9ZEandyidsi</td><td>2018-12-19</td><td>2018-12-19T10:06:38.870+0000</td><td>2018-12-19T10:06:41.774+0000</td><td>AB</td><td>abbandonata</td><td>undefined</td><td>undefined</td><td>previous conv</td><td>null</td><td>null</td><td>null</td><td>null</td></tr><tr><td>DWrDYhvelv799Icj07pxmy</td><td>2018-12-19</td><td>2018-12-19T10:07:32.342+0000</td><td>2018-12-19T10:07:35.748+0000</td><td>AB</td><td>abbandonata</td><td>undefined</td><td>undefined</td><td>previous conv</td><td>null</td><td>null</td><td>null</td><td>null</td></tr><tr><td>5d1MqRk39PUDzbv4yhMGqr</td><td>2018-12-19</td><td>2018-12-19T10:05:12.144+0000</td><td>2018-12-19T10:05:13.301+0000</td><td>AB</td><td>abbandonata</td><td>undefined</td><td>undefined</td><td>previous conv</td><td>null</td><td>null</td><td>null</td><td>null</td></tr><tr><td>9pLQ0Ed5HZsAN1KYrCroFh</td><td>2018-12-19</td><td>2018-12-19T10:00:16.525+0000</td><td>2018-12-19T10:00:19.404+0000</td><td>AB</td><td>abbandonata</td><td>undefined</td><td>undefined</td><td>previous conv</td><td>null</td><td>null</td><td>null</td><td>null</td></tr><tr><td>Cj6DPKSSahDGrdBqHt6Llv</td><td>2018-12-19</td><td>2018-12-19T10:08:28.419+0000</td><td>2018-12-19T10:08:31.135+0000</td><td>AB</td><td>abbandonata</td><td>undefined</td><td>undefined</td><td>previous conv</td><td>null</td><td>null</td><td>null</td><td>null</td></tr><tr><td>4WIP9pNIryQ8Gor5rBbTxT</td><td>2018-12-19</td><td>2018-12-19T10:06:24.236+0000</td><td>2018-12-19T10:06:27.808+0000</td><td>AB</td><td>abbandonata</td><td>undefined</td><td>undefined</td><td>previous conv</td><td>null</td><td>null</td><td>null</td><td>null</td></tr><tr><td>CS4w17UrWtCtBP40vWeiF</td><td>2018-12-19</td><td>2018-12-19T10:00:51.777+0000</td><td>2018-12-19T10:00:54.589+0000</td><td>AB</td><td>abbandonata</td><td>undefined</td><td>undefined</td><td>previous conv</td><td>null</td><td>null</td><td>null</td><td>null</td></tr><tr><td>EnvKtprDT1c2KSIoSuT8CU</td><td>2018-12-19</td><td>2018-12-19T10:05:38.693+0000</td><td>2018-12-19T10:05:41.381+0000</td><td>AB</td><td>abbandonata</td><td>undefined</td><td>undefined</td><td>previous conv</td><td>null</td><td>null</td><td>null</td><td>null</td></tr></tbody></table></div>"
      ]
     },
     "metadata": {},
     "output_type": "display_data"
    }
   ],
   "source": [
    "#display(previous_conversations.join(lastHourConversations, on= 'ConversationId', how='full'))\n",
    "\n",
    "allConversations= previous_conversations.join(lastHourConversations, previous_conversations.ConversationId == lastHourConversations.NewConvId, how='full')\n",
    "\n",
    "display(allConversations)"
   ]
  },
  {
   "cell_type": "code",
   "execution_count": 79,
   "metadata": {},
   "outputs": [
    {
     "data": {
      "text/html": [
       "<style scoped>\n",
       "  .ansiout {\n",
       "    display: block;\n",
       "    unicode-bidi: embed;\n",
       "    white-space: pre-wrap;\n",
       "    word-wrap: break-word;\n",
       "    word-break: break-all;\n",
       "    font-family: \"Source Code Pro\", \"Menlo\", monospace;;\n",
       "    font-size: 13px;\n",
       "    color: #555;\n",
       "    margin-left: 4px;\n",
       "    line-height: 19px;\n",
       "  }\n",
       "</style>\n",
       "<div class=\"ansiout\"><span class=\"ansired\">Out[</span><span class=\"ansired\">182</span><span class=\"ansired\">]: </span>135\n",
       "</div>"
      ]
     },
     "metadata": {},
     "output_type": "display_data"
    }
   ],
   "source": [
    "allConversations.count()  #131 che già avevo nella delta, più le 4 distinct dell'ultima ora"
   ]
  },
  {
   "cell_type": "markdown",
   "metadata": {},
   "source": [
    "#### Adding field recordType to indicate whether the conversation is new or not."
   ]
  },
  {
   "cell_type": "code",
   "execution_count": 81,
   "metadata": {},
   "outputs": [
    {
     "data": {
      "text/html": [
       "<style scoped>\n",
       "  .table-result-container {\n",
       "    max-height: 300px;\n",
       "    overflow: auto;\n",
       "  }\n",
       "  table, th, td {\n",
       "    border: 1px solid black;\n",
       "    border-collapse: collapse;\n",
       "  }\n",
       "  th, td {\n",
       "    padding: 5px;\n",
       "  }\n",
       "  th {\n",
       "    text-align: left;\n",
       "  }\n",
       "</style><div class='table-result-container'><table class='table-result'><thead style='background-color: white'><tr><th>ConversationId</th><th>ConversationStartDate</th><th>ConversationStartTime</th><th>ConversationEndTime</th><th>ConversationStatusCode</th><th>ConversationStatus</th><th>ConversationRecognitionCode</th><th>ConversationRecognition</th><th>recordType</th><th>NewConvId</th></tr></thead><tbody><tr><td>7B0HJgE9ijNAHL1jPjChtq</td><td>2018-12-19</td><td>2018-12-19T09:59:58.615+0000</td><td>2018-12-19T10:00:01.362+0000</td><td>AB</td><td>abbandonata</td><td>undefined</td><td>undefined</td><td>previous conv</td><td>null</td></tr><tr><td>J2XpMj6qpqz1KvQbvZtk5q</td><td>2018-12-19</td><td>2018-12-19T10:07:54.357+0000</td><td>2018-12-19T10:07:57.099+0000</td><td>AB</td><td>abbandonata</td><td>undefined</td><td>undefined</td><td>previous conv</td><td>null</td></tr><tr><td>AV76YJrYqv8IRMzTI36tpW</td><td>2018-12-19</td><td>2018-12-19T10:06:11.685+0000</td><td>2018-12-19T10:06:14.778+0000</td><td>AB</td><td>abbandonata</td><td>undefined</td><td>undefined</td><td>previous conv</td><td>null</td></tr><tr><td>5c589WiBvSAGJRqJeYCipI</td><td>2018-12-19</td><td>2018-12-19T10:04:46.396+0000</td><td>2018-12-19T10:04:49.095+0000</td><td>AB</td><td>abbandonata</td><td>undefined</td><td>undefined</td><td>previous conv</td><td>null</td></tr><tr><td>5qvCp1zz8FEGRvqzzrI6QS</td><td>2018-12-19</td><td>2018-12-19T10:00:34.854+0000</td><td>2018-12-19T10:00:35.767+0000</td><td>CH</td><td>chiusa</td><td>NRIC</td><td>non riconosciuta</td><td>previous conv</td><td>null</td></tr><tr><td>6LRLPjJDLkQ85QplizAeFS</td><td>null</td><td>null</td><td>null</td><td>AB</td><td>abbandonata</td><td>undefined</td><td>undefined</td><td>previous conv</td><td>null</td></tr><tr><td>6LRLPjJDLkQ85QplizAeFS</td><td>null</td><td>null</td><td>null</td><td>CH</td><td>chiusa</td><td>undefined</td><td>undefined</td><td>previous conv</td><td>null</td></tr><tr><td>2Bi9prmuXhr3RTwBeOgfis</td><td>2018-12-19</td><td>2018-12-19T10:03:57.113+0000</td><td>2018-12-19T10:03:59.912+0000</td><td>AB</td><td>abbandonata</td><td>undefined</td><td>undefined</td><td>previous conv</td><td>null</td></tr><tr><td>9qn6DpEPlCmI89kgiaNs8v</td><td>2018-12-19</td><td>2018-12-19T10:01:44.270+0000</td><td>2018-12-19T10:01:47.835+0000</td><td>AB</td><td>abbandonata</td><td>undefined</td><td>undefined</td><td>previous conv</td><td>null</td></tr><tr><td>DwjuQDnNqmsDeFPwQDLqZX</td><td>2018-12-19</td><td>2018-12-19T10:05:22.290+0000</td><td>2018-12-19T10:05:25.040+0000</td><td>AB</td><td>abbandonata</td><td>undefined</td><td>undefined</td><td>previous conv</td><td>null</td></tr><tr><td>KZosmVlhc687ta61GSesrQ</td><td>2018-12-19</td><td>2018-12-19T10:00:20.482+0000</td><td>2018-12-19T10:00:25.549+0000</td><td>AB</td><td>abbandonata</td><td>undefined</td><td>undefined</td><td>previous conv</td><td>null</td></tr><tr><td>FbU0aqsFtkO2WTdF7APKVz</td><td>2018-12-19</td><td>2018-12-19T10:00:07.346+0000</td><td>2018-12-19T10:00:10.203+0000</td><td>AB</td><td>abbandonata</td><td>undefined</td><td>undefined</td><td>previous conv</td><td>null</td></tr><tr><td>HniTlWei0TCKZX95ogQrSp</td><td>2018-12-19</td><td>2018-12-19T10:01:24.169+0000</td><td>2018-12-19T10:01:27.289+0000</td><td>AB</td><td>abbandonata</td><td>undefined</td><td>undefined</td><td>previous conv</td><td>null</td></tr><tr><td>GRoece1WEVoFgz9NTtWoOd</td><td>2018-12-19</td><td>2018-12-19T10:04:40.198+0000</td><td>2018-12-19T10:04:41.052+0000</td><td>AB</td><td>abbandonata</td><td>undefined</td><td>undefined</td><td>previous conv</td><td>null</td></tr><tr><td>1M8jFfZHTnj8X4ilE85gR7</td><td>2018-12-19</td><td>2018-12-19T10:07:15.717+0000</td><td>2018-12-19T10:07:18.590+0000</td><td>AB</td><td>abbandonata</td><td>undefined</td><td>undefined</td><td>previous conv</td><td>null</td></tr><tr><td>J9Y3a8ZXxU9BU2v6XMsUQ1</td><td>2018-12-19</td><td>2018-12-19T10:01:29.825+0000</td><td>2018-12-19T10:01:32.970+0000</td><td>AB</td><td>abbandonata</td><td>undefined</td><td>undefined</td><td>previous conv</td><td>null</td></tr><tr><td>IPdfT30YRoLJ3YmQKspm3v</td><td>2018-12-19</td><td>2018-12-19T10:07:23.801+0000</td><td>2018-12-19T10:07:27.141+0000</td><td>AB</td><td>abbandonata</td><td>undefined</td><td>undefined</td><td>previous conv</td><td>null</td></tr><tr><td>ARORT7V3gkd1N2Agc9dv0d</td><td>2018-12-19</td><td>2018-12-19T10:08:43.881+0000</td><td>2018-12-19T10:08:46.843+0000</td><td>AB</td><td>abbandonata</td><td>undefined</td><td>undefined</td><td>previous conv</td><td>null</td></tr><tr><td>FuUSysAtbn8AkoKjJ6Qzbo</td><td>2018-12-19</td><td>2018-12-19T10:07:57.974+0000</td><td>2018-12-19T10:08:00.816+0000</td><td>AB</td><td>abbandonata</td><td>undefined</td><td>undefined</td><td>previous conv</td><td>null</td></tr><tr><td>1Fj9IX6jUel4pxfWFsQXhZ</td><td>2018-12-19</td><td>2018-12-19T10:06:05.634+0000</td><td>2018-12-19T10:06:06.321+0000</td><td>AB</td><td>abbandonata</td><td>undefined</td><td>undefined</td><td>previous conv</td><td>null</td></tr><tr><td>9d0atysnvH5Q9LhdmSEqo</td><td>2018-12-19</td><td>2018-12-19T10:03:03.316+0000</td><td>2018-12-19T10:03:06.115+0000</td><td>AB</td><td>abbandonata</td><td>undefined</td><td>undefined</td><td>previous conv</td><td>null</td></tr><tr><td>CAnAofgPpxxGKTw7ytbQPy</td><td>2018-12-19</td><td>2018-12-19T10:01:37.501+0000</td><td>2018-12-19T10:01:40.915+0000</td><td>AB</td><td>abbandonata</td><td>undefined</td><td>undefined</td><td>previous conv</td><td>null</td></tr><tr><td>21j4N9vh5jAJtG7qSjkDa2</td><td>2018-12-19</td><td>2018-12-19T10:05:27.887+0000</td><td>2018-12-19T10:05:29.128+0000</td><td>AB</td><td>abbandonata</td><td>undefined</td><td>undefined</td><td>previous conv</td><td>null</td></tr><tr><td>21j4N9vh5jAJtG7qSjkDa2</td><td>2018-12-19</td><td>2018-12-19T10:05:27.887+0000</td><td>2018-12-19T10:05:29.128+0000</td><td>AB</td><td>abbandonata</td><td>undefined</td><td>undefined</td><td>previous conv</td><td>null</td></tr><tr><td>3BrzSpxS6g3A5b9pHtU6mQ</td><td>2018-12-19</td><td>2018-12-19T10:00:46.011+0000</td><td>2018-12-19T10:00:50.725+0000</td><td>AB</td><td>abbandonata</td><td>undefined</td><td>undefined</td><td>previous conv</td><td>null</td></tr><tr><td>C2oJJD3kvuWBKRNfCqsjkl</td><td>2018-12-19</td><td>2018-12-19T10:07:50.791+0000</td><td>2018-12-19T10:07:53.466+0000</td><td>AB</td><td>abbandonata</td><td>undefined</td><td>undefined</td><td>previous conv</td><td>null</td></tr><tr><td>6AyID3tlZuoJNsOLDEhuij</td><td>2018-12-19</td><td>2018-12-19T10:08:40.163+0000</td><td>2018-12-19T10:08:42.779+0000</td><td>AB</td><td>abbandonata</td><td>undefined</td><td>undefined</td><td>previous conv</td><td>null</td></tr><tr><td>5sZzyaniZ6A5jAfHsIV5He</td><td>2018-12-19</td><td>2018-12-19T10:06:07.676+0000</td><td>2018-12-19T10:06:10.422+0000</td><td>AB</td><td>abbandonata</td><td>undefined</td><td>undefined</td><td>previous conv</td><td>null</td></tr><tr><td>8mkbRBVLXnqB1DyyZ1pVcZ</td><td>2018-11-12</td><td>2018-11-12T14:09:18.462+0000</td><td>2018-11-12T14:57:54.130+0000</td><td>null</td><td>null</td><td>null</td><td>null</td><td>new conv</td><td>8mkbRBVLXnqB1DyyZ1pVcZ</td></tr><tr><td>8Nsx30Rhm5hEwIGXG34QJm</td><td>2018-12-19</td><td>2018-12-19T10:03:31.114+0000</td><td>2018-12-19T10:03:33.834+0000</td><td>AB</td><td>abbandonata</td><td>undefined</td><td>undefined</td><td>previous conv</td><td>null</td></tr><tr><td>F3LKGkFRUk4a1xx4OE1fX</td><td>2018-12-19</td><td>2018-12-19T10:04:25.215+0000</td><td>2018-12-19T10:04:28.534+0000</td><td>AB</td><td>abbandonata</td><td>undefined</td><td>undefined</td><td>previous conv</td><td>null</td></tr><tr><td>BzhxA91vI9j6ALbLaGqrUB</td><td>2018-12-19</td><td>2018-12-19T10:00:41.954+0000</td><td>2018-12-19T10:00:44.717+0000</td><td>AB</td><td>abbandonata</td><td>undefined</td><td>undefined</td><td>previous conv</td><td>null</td></tr><tr><td>GwfnIAGN3jQ6r0FL8M54S9</td><td>2018-12-19</td><td>2018-12-19T10:03:46.418+0000</td><td>2018-12-19T10:03:47.131+0000</td><td>AB</td><td>abbandonata</td><td>undefined</td><td>undefined</td><td>previous conv</td><td>null</td></tr><tr><td>cBbBHV0ogp4wDWGcdIg5c</td><td>2018-12-19</td><td>2018-12-19T10:06:17.889+0000</td><td>2018-12-19T10:06:20.943+0000</td><td>AB</td><td>abbandonata</td><td>undefined</td><td>undefined</td><td>previous conv</td><td>null</td></tr><tr><td>8F00qVkn7DR1fmGzC8v4mO</td><td>2018-12-19</td><td>2018-12-19T10:02:59.683+0000</td><td>2018-12-19T10:03:02.298+0000</td><td>AB</td><td>abbandonata</td><td>undefined</td><td>undefined</td><td>previous conv</td><td>null</td></tr><tr><td>AsdW4gXehJqBlFZu1HAgjD</td><td>2018-12-19</td><td>2018-12-19T10:03:42.473+0000</td><td>2018-12-19T10:03:45.364+0000</td><td>AB</td><td>abbandonata</td><td>undefined</td><td>undefined</td><td>previous conv</td><td>null</td></tr><tr><td>KuARJ6GQdSLKGtKtTXs8cl</td><td>2018-12-19</td><td>2018-12-19T10:08:24.665+0000</td><td>2018-12-19T10:08:27.319+0000</td><td>AB</td><td>abbandonata</td><td>undefined</td><td>undefined</td><td>previous conv</td><td>null</td></tr><tr><td>Jax87NP1gxb5HI2k0jn9FI</td><td>2018-12-19</td><td>2018-12-19T10:03:23.459+0000</td><td>2018-12-19T10:03:26.039+0000</td><td>AB</td><td>abbandonata</td><td>undefined</td><td>undefined</td><td>previous conv</td><td>null</td></tr><tr><td>FmX1fvVEr859hmD37RoWM</td><td>2018-12-19</td><td>2018-12-19T10:05:57.997+0000</td><td>2018-12-19T10:06:00.672+0000</td><td>AB</td><td>abbandonata</td><td>undefined</td><td>undefined</td><td>previous conv</td><td>null</td></tr><tr><td>3aR6jgOgVpEA2ENI9QpKgo</td><td>2018-12-19</td><td>2018-12-19T10:02:29.290+0000</td><td>2018-12-19T10:02:32.801+0000</td><td>AB</td><td>abbandonata</td><td>undefined</td><td>undefined</td><td>previous conv</td><td>null</td></tr><tr><td>9ANTgUQN2Xg6tcfv1gm0xK</td><td>2018-12-19</td><td>2018-12-19T10:07:19.582+0000</td><td>2018-12-19T10:07:22.330+0000</td><td>AB</td><td>abbandonata</td><td>undefined</td><td>undefined</td><td>previous conv</td><td>null</td></tr><tr><td>DQeTDuAElyULRHOSWYR09Q</td><td>2018-12-19</td><td>2018-12-19T10:00:36.731+0000</td><td>2018-12-19T10:00:37.350+0000</td><td>AB</td><td>abbandonata</td><td>undefined</td><td>undefined</td><td>previous conv</td><td>null</td></tr><tr><td>3mc4jWwQNEqK5WXoPNeQ7a</td><td>2018-12-19</td><td>2018-12-19T10:07:08.036+0000</td><td>2018-12-19T10:07:10.904+0000</td><td>AB</td><td>abbandonata</td><td>undefined</td><td>undefined</td><td>previous conv</td><td>null</td></tr><tr><td>73XlEir5OkHBTN72Axrbt6</td><td>2018-12-19</td><td>2018-12-19T10:04:12.402+0000</td><td>2018-12-19T10:04:16.050+0000</td><td>AB</td><td>abbandonata</td><td>undefined</td><td>undefined</td><td>previous conv</td><td>null</td></tr><tr><td>7Z1mILVDw9NGnSwqbNwWhw</td><td>2018-12-19</td><td>2018-12-19T10:01:20.545+0000</td><td>2018-12-19T10:01:23.215+0000</td><td>AB</td><td>abbandonata</td><td>undefined</td><td>undefined</td><td>previous conv</td><td>null</td></tr><tr><td>C63uKVWVRLE16OzclU3BWe</td><td>2018-12-19</td><td>2018-12-19T10:04:04.480+0000</td><td>2018-12-19T10:04:07.304+0000</td><td>AB</td><td>abbandonata</td><td>undefined</td><td>undefined</td><td>previous conv</td><td>null</td></tr><tr><td>Iuqr9dNC9gtAjbX1DtJUgG</td><td>2018-12-19</td><td>2018-12-19T10:08:32.042+0000</td><td>2018-12-19T10:08:34.821+0000</td><td>AB</td><td>abbandonata</td><td>undefined</td><td>undefined</td><td>previous conv</td><td>null</td></tr><tr><td>1hX9IDyqbT0GprwRN1r68T</td><td>2018-12-19</td><td>2018-12-19T10:00:59.968+0000</td><td>2018-12-19T10:01:01.300+0000</td><td>AB</td><td>abbandonata</td><td>undefined</td><td>undefined</td><td>previous conv</td><td>null</td></tr><tr><td>AnVPlFA3IvM7KrlUyJH4kZ</td><td>2018-12-19</td><td>2018-12-19T10:08:17.431+0000</td><td>2018-12-19T10:08:20.235+0000</td><td>AB</td><td>abbandonata</td><td>undefined</td><td>undefined</td><td>previous conv</td><td>null</td></tr><tr><td>5MN4sLhBqsn80XnS1kGBsf</td><td>2018-12-19</td><td>2018-12-19T10:05:30.157+0000</td><td>2018-12-19T10:05:31.321+0000</td><td>AB</td><td>abbandonata</td><td>undefined</td><td>undefined</td><td>previous conv</td><td>null</td></tr><tr><td>GMY71ftXJxGKhSQRHfVkmC</td><td>2018-12-19</td><td>2018-12-19T10:01:02.401+0000</td><td>2018-12-19T10:01:05.274+0000</td><td>AB</td><td>abbandonata</td><td>undefined</td><td>undefined</td><td>previous conv</td><td>null</td></tr><tr><td>HtEkIhHG0PKnFbUZBXlOP</td><td>2018-12-19</td><td>2018-12-19T10:06:46.478+0000</td><td>2018-12-19T10:06:49.204+0000</td><td>AB</td><td>abbandonata</td><td>undefined</td><td>undefined</td><td>previous conv</td><td>null</td></tr><tr><td>KYwBoagLyVcLtPNYSFXQKh</td><td>2018-12-19</td><td>2018-12-19T10:05:14.550+0000</td><td>2018-12-19T10:05:17.227+0000</td><td>AB</td><td>abbandonata</td><td>undefined</td><td>undefined</td><td>previous conv</td><td>null</td></tr><tr><td>8kitDpL2NY16G6leGYtey5</td><td>2018-12-19</td><td>2018-12-19T10:03:55.393+0000</td><td>2018-12-19T10:03:55.985+0000</td><td>AB</td><td>abbandonata</td><td>undefined</td><td>undefined</td><td>previous conv</td><td>null</td></tr><tr><td>cIuWCRyeTNI7cNJOVfRuA</td><td>2018-12-19</td><td>2018-12-19T10:01:49.067+0000</td><td>2018-12-19T10:01:51.881+0000</td><td>AB</td><td>abbandonata</td><td>undefined</td><td>undefined</td><td>previous conv</td><td>null</td></tr><tr><td>7eG8cr6HhuUH1DOiFhPwxm</td><td>2018-12-19</td><td>2018-12-19T10:00:26.680+0000</td><td>2018-12-19T10:00:29.481+0000</td><td>AB</td><td>abbandonata</td><td>undefined</td><td>undefined</td><td>previous conv</td><td>null</td></tr><tr><td>9LA9JDlXeMQGVDEmSM0j0O</td><td>2018-12-19</td><td>2018-12-19T10:03:35.087+0000</td><td>2018-12-19T10:03:37.872+0000</td><td>AB</td><td>abbandonata</td><td>undefined</td><td>undefined</td><td>previous conv</td><td>null</td></tr><tr><td>KHgwZCGqZZhGPc0gX23cXM</td><td>2018-12-19</td><td>2018-12-19T10:07:28.288+0000</td><td>2018-12-19T10:07:31.178+0000</td><td>AB</td><td>abbandonata</td><td>undefined</td><td>undefined</td><td>previous conv</td><td>null</td></tr><tr><td>Du6Mqu5ZpkMBGld2nEdy7n</td><td>2018-12-19</td><td>2018-12-19T10:04:21.047+0000</td><td>2018-12-19T10:04:23.925+0000</td><td>AB</td><td>abbandonata</td><td>undefined</td><td>undefined</td><td>previous conv</td><td>null</td></tr><tr><td>UMJLJS5z18LAQ41eeD4k6</td><td>2018-12-19</td><td>2018-12-19T10:07:11.972+0000</td><td>2018-12-19T10:07:14.784+0000</td><td>AB</td><td>abbandonata</td><td>undefined</td><td>undefined</td><td>previous conv</td><td>null</td></tr><tr><td>EuKF17dnMtZFlwOOcqYAQT</td><td>2018-12-19</td><td>2018-12-19T10:01:41.910+0000</td><td>2018-12-19T10:01:42.933+0000</td><td>AB</td><td>abbandonata</td><td>undefined</td><td>undefined</td><td>previous conv</td><td>null</td></tr><tr><td>o30E4AgKZEBvzwt8z0mSm</td><td>2018-12-19</td><td>2018-12-19T10:07:37.129+0000</td><td>2018-12-19T10:07:40.464+0000</td><td>AB</td><td>abbandonata</td><td>undefined</td><td>undefined</td><td>previous conv</td><td>null</td></tr><tr><td>CHDaaq0jgMv56UCkTGO25d</td><td>2018-12-19</td><td>2018-12-19T10:00:55.622+0000</td><td>2018-12-19T10:00:58.647+0000</td><td>AB</td><td>abbandonata</td><td>undefined</td><td>undefined</td><td>previous conv</td><td>null</td></tr><tr><td>7kHOh4sAkz2HcBRONuiTtZ</td><td>2018-12-19</td><td>2018-12-19T10:06:01.903+0000</td><td>2018-12-19T10:06:04.656+0000</td><td>AB</td><td>abbandonata</td><td>undefined</td><td>undefined</td><td>previous conv</td><td>null</td></tr><tr><td>FAG236sgmDvDGQ97XYvboj</td><td>2018-12-19</td><td>2018-12-19T10:04:51.292+0000</td><td>2018-12-19T10:04:54.679+0000</td><td>AB</td><td>abbandonata</td><td>undefined</td><td>undefined</td><td>previous conv</td><td>null</td></tr><tr><td>645Qfm6VqKe6hGMMV3GS79</td><td>2018-12-19</td><td>2018-12-19T10:05:03.959+0000</td><td>2018-12-19T10:05:07.162+0000</td><td>AB</td><td>abbandonata</td><td>undefined</td><td>undefined</td><td>previous conv</td><td>null</td></tr><tr><td>9iLbHEU5llmKRmI4y8Hh9n</td><td>2018-12-19</td><td>2018-12-19T10:03:27.087+0000</td><td>2018-12-19T10:03:30.039+0000</td><td>AB</td><td>abbandonata</td><td>undefined</td><td>undefined</td><td>previous conv</td><td>null</td></tr><tr><td>6lZLp1aNzv3FsJlqmT9bN4</td><td>2018-12-19</td><td>2018-12-19T10:07:47.184+0000</td><td>2018-12-19T10:07:49.827+0000</td><td>AB</td><td>abbandonata</td><td>undefined</td><td>undefined</td><td>previous conv</td><td>null</td></tr><tr><td>HiqRnfKJN997NCSb4Hu1Vy</td><td>2018-12-19</td><td>2018-12-19T10:02:41.674+0000</td><td>2018-12-19T10:02:44.842+0000</td><td>AB</td><td>abbandonata</td><td>undefined</td><td>undefined</td><td>previous conv</td><td>null</td></tr><tr><td>6O0YIYrf1iZBgDImJeBmaf</td><td>2018-12-19</td><td>2018-12-19T10:00:02.339+0000</td><td>2018-12-19T10:00:05.573+0000</td><td>AB</td><td>abbandonata</td><td>undefined</td><td>undefined</td><td>previous conv</td><td>null</td></tr><tr><td>KvbgYIyVnAVA2lPB5jcM6O</td><td>2018-12-19</td><td>2018-12-19T10:03:19.585+0000</td><td>2018-12-19T10:03:22.364+0000</td><td>AB</td><td>abbandonata</td><td>undefined</td><td>undefined</td><td>previous conv</td><td>null</td></tr><tr><td>777Qsjs3i8qJyBr95zABbk</td><td>2018-11-12</td><td>2018-11-12T13:58:00.081+0000</td><td>2018-11-12T13:59:32.347+0000</td><td>null</td><td>null</td><td>null</td><td>null</td><td>new conv</td><td>777Qsjs3i8qJyBr95zABbk</td></tr><tr><td>AVyTtDGwhXfKdTpyfgTLu</td><td>2018-12-19</td><td>2018-12-19T10:05:47.376+0000</td><td>2018-12-19T10:05:50.096+0000</td><td>AB</td><td>abbandonata</td><td>undefined</td><td>undefined</td><td>previous conv</td><td>null</td></tr><tr><td>6NBZH9mqT6YA2tUSxEQ8UL</td><td>2018-12-19</td><td>2018-12-19T10:06:50.146+0000</td><td>2018-12-19T10:06:53.320+0000</td><td>AB</td><td>abbandonata</td><td>undefined</td><td>undefined</td><td>previous conv</td><td>null</td></tr><tr><td>AuZMvVCU5Od7iBPgRifTsb</td><td>2018-12-19</td><td>2018-12-19T10:08:05.719+0000</td><td>2018-12-19T10:08:09.270+0000</td><td>AB</td><td>abbandonata</td><td>undefined</td><td>undefined</td><td>previous conv</td><td>null</td></tr><tr><td>2cpS4QCdLps7ycDeAxodOz</td><td>2018-11-12</td><td>2018-11-12T13:57:54.672+0000</td><td>2018-11-12T14:07:45.439+0000</td><td>null</td><td>null</td><td>null</td><td>null</td><td>new conv</td><td>2cpS4QCdLps7ycDeAxodOz</td></tr><tr><td>GqYB5uiuTXo36XO5tqLasS</td><td>2018-12-19</td><td>2018-12-19T10:04:55.875+0000</td><td>2018-12-19T10:04:58.722+0000</td><td>AB</td><td>abbandonata</td><td>undefined</td><td>undefined</td><td>previous conv</td><td>null</td></tr><tr><td>Ad7zs6BcoQVBotmADRikzz</td><td>2018-12-19</td><td>2018-12-19T10:05:26.037+0000</td><td>2018-12-19T10:05:26.863+0000</td><td>AB</td><td>abbandonata</td><td>undefined</td><td>undefined</td><td>previous conv</td><td>null</td></tr><tr><td>BR0ofouBvVyCutUwNFrDKx</td><td>2018-12-19</td><td>2018-12-19T10:03:49.737+0000</td><td>2018-12-19T10:03:52.547+0000</td><td>AB</td><td>abbandonata</td><td>undefined</td><td>undefined</td><td>previous conv</td><td>null</td></tr><tr><td>2RBQeAT3StU8rbUF9AJLOq</td><td>2018-12-19</td><td>2018-12-19T10:08:10.070+0000</td><td>2018-12-19T10:08:12.786+0000</td><td>AB</td><td>abbandonata</td><td>undefined</td><td>undefined</td><td>previous conv</td><td>null</td></tr><tr><td>l3Q4Js0oxiISv7lv8yIVK</td><td>2018-12-19</td><td>2018-12-19T10:05:18.586+0000</td><td>2018-12-19T10:05:21.270+0000</td><td>AB</td><td>abbandonata</td><td>undefined</td><td>undefined</td><td>previous conv</td><td>null</td></tr><tr><td>4iBjCmp5TQeDvRE6mrAalZ</td><td>2018-12-19</td><td>2018-12-19T10:05:34.525+0000</td><td>2018-12-19T10:05:37.644+0000</td><td>AB</td><td>abbandonata</td><td>undefined</td><td>undefined</td><td>previous conv</td><td>null</td></tr><tr><td>GKW8mE2ve3RKm2JptHVKDT</td><td>2018-12-19</td><td>2018-12-19T10:01:11.397+0000</td><td>2018-12-19T10:01:14.155+0000</td><td>AB</td><td>abbandonata</td><td>undefined</td><td>undefined</td><td>previous conv</td><td>null</td></tr><tr><td>DTl4YwKX00v1yAtN4SqHFn</td><td>2018-12-19</td><td>2018-12-19T10:08:21.100+0000</td><td>2018-12-19T10:08:23.789+0000</td><td>AB</td><td>abbandonata</td><td>undefined</td><td>undefined</td><td>previous conv</td><td>null</td></tr><tr><td>FgRoz5VmmJQFNt0bi6WnwA</td><td>2018-12-19</td><td>2018-12-19T10:01:07.077+0000</td><td>2018-12-19T10:01:09.714+0000</td><td>AB</td><td>abbandonata</td><td>undefined</td><td>undefined</td><td>previous conv</td><td>null</td></tr><tr><td>B8rzMP7C5pK29hlUXMqgzZ</td><td>2018-12-19</td><td>2018-12-19T10:05:53.354+0000</td><td>2018-12-19T10:05:56.681+0000</td><td>AB</td><td>abbandonata</td><td>undefined</td><td>undefined</td><td>previous conv</td><td>null</td></tr><tr><td>A3bJjFKywlIFMysFZ89BEV</td><td>2018-12-19</td><td>2018-12-19T10:02:55.551+0000</td><td>2018-12-19T10:02:58.278+0000</td><td>AB</td><td>abbandonata</td><td>undefined</td><td>undefined</td><td>previous conv</td><td>null</td></tr><tr><td>3LBCTNlKN9UIa5rX50RCPm</td><td>2018-12-19</td><td>2018-12-19T10:05:42.353+0000</td><td>2018-12-19T10:05:45.205+0000</td><td>AB</td><td>abbandonata</td><td>undefined</td><td>undefined</td><td>previous conv</td><td>null</td></tr><tr><td>4LVBWfr9qAjAzjNrubFjFt</td><td>2018-12-19</td><td>2018-12-19T10:08:01.717+0000</td><td>2018-12-19T10:08:04.906+0000</td><td>AB</td><td>abbandonata</td><td>undefined</td><td>undefined</td><td>previous conv</td><td>null</td></tr><tr><td>1cqBnYLEMnz5Q7VQQ2Klht</td><td>2018-12-19</td><td>2018-12-19T10:03:53.695+0000</td><td>2018-12-19T10:03:54.320+0000</td><td>AB</td><td>abbandonata</td><td>undefined</td><td>undefined</td><td>previous conv</td><td>null</td></tr><tr><td>4FBfp9KanczHdXX9qX7FRZ</td><td>2018-12-19</td><td>2018-12-19T10:07:43.100+0000</td><td>2018-12-19T10:07:45.974+0000</td><td>AB</td><td>abbandonata</td><td>undefined</td><td>undefined</td><td>previous conv</td><td>null</td></tr><tr><td>6WY96nYFoPeBmXoDJ12KPk</td><td>2018-12-19</td><td>2018-12-19T10:06:56.634+0000</td><td>2018-12-19T10:06:59.638+0000</td><td>AB</td><td>abbandonata</td><td>undefined</td><td>undefined</td><td>previous conv</td><td>null</td></tr><tr><td>75UAd0AAJxH3pF5fjXpLlW</td><td>2018-12-19</td><td>2018-12-19T10:05:32.434+0000</td><td>2018-12-19T10:05:33.545+0000</td><td>AB</td><td>abbandonata</td><td>undefined</td><td>undefined</td><td>previous conv</td><td>null</td></tr><tr><td>KIesfCH9IJv2fLqmnaGc1k</td><td>2018-12-19</td><td>2018-12-19T10:00:11.366+0000</td><td>2018-12-19T10:00:14.444+0000</td><td>AB</td><td>abbandonata</td><td>undefined</td><td>undefined</td><td>previous conv</td><td>null</td></tr><tr><td>2qwuLDoR7X0J8uaodKVF2K</td><td>2018-12-19</td><td>2018-12-19T10:08:35.859+0000</td><td>2018-12-19T10:08:39.382+0000</td><td>AB</td><td>abbandonata</td><td>undefined</td><td>undefined</td><td>previous conv</td><td>null</td></tr><tr><td>L5zNP9a1r1ED6r2QvRhdLX</td><td>2018-12-19</td><td>2018-12-19T10:04:59.970+0000</td><td>2018-12-19T10:05:02.796+0000</td><td>AB</td><td>abbandonata</td><td>undefined</td><td>undefined</td><td>previous conv</td><td>null</td></tr><tr><td>D301ilHH2Uo8NWPCHDI7iE</td><td>2018-12-19</td><td>2018-12-19T10:04:30.620+0000</td><td>2018-12-19T10:04:33.729+0000</td><td>AB</td><td>abbandonata</td><td>undefined</td><td>undefined</td><td>previous conv</td><td>null</td></tr><tr><td>9yyHHtJPwAmDxilFf26HaZ</td><td>2018-12-19</td><td>2018-12-19T10:03:38.779+0000</td><td>2018-12-19T10:03:41.515+0000</td><td>AB</td><td>abbandonata</td><td>undefined</td><td>undefined</td><td>previous conv</td><td>null</td></tr><tr><td>JEBXXIfay3m328mWQLvL0x</td><td>2018-11-12</td><td>2018-11-12T14:07:54.379+0000</td><td>2018-11-12T14:55:34.613+0000</td><td>null</td><td>null</td><td>null</td><td>null</td><td>new conv</td><td>JEBXXIfay3m328mWQLvL0x</td></tr><tr><td>2v35A6jYpUCF0y4W9RJRWT</td><td>2018-12-19</td><td>2018-12-19T10:00:38.299+0000</td><td>2018-12-19T10:00:40.952+0000</td><td>AB</td><td>abbandonata</td><td>undefined</td><td>undefined</td><td>previous conv</td><td>null</td></tr><tr><td>7iJ2QLGRrveDOg9HjgJm4x</td><td>2018-12-19</td><td>2018-12-19T10:00:30.523+0000</td><td>2018-12-19T10:00:33.172+0000</td><td>AB</td><td>abbandonata</td><td>undefined</td><td>undefined</td><td>previous conv</td><td>null</td></tr><tr><td>99YA9K31AoFFXUUpWjL02b</td><td>2018-12-19</td><td>2018-12-19T10:03:47.995+0000</td><td>2018-12-19T10:03:48.750+0000</td><td>AB</td><td>abbandonata</td><td>undefined</td><td>undefined</td><td>previous conv</td><td>null</td></tr><tr><td>CTDx6aRWUbNKN5edGUeuH6</td><td>2018-12-19</td><td>2018-12-19T10:06:42.666+0000</td><td>2018-12-19T10:06:45.414+0000</td><td>AB</td><td>abbandonata</td><td>undefined</td><td>undefined</td><td>previous conv</td><td>null</td></tr><tr><td>1maN5RaTdzH89PhZYBHjWI</td><td>2018-12-19</td><td>2018-12-19T10:04:34.710+0000</td><td>2018-12-19T10:04:36.148+0000</td><td>AB</td><td>abbandonata</td><td>undefined</td><td>undefined</td><td>previous conv</td><td>null</td></tr><tr><td>2vCpCLlSS0F2O7AuX6FzH7</td><td>2018-12-19</td><td>2018-12-19T10:06:29.046+0000</td><td>2018-12-19T10:06:32.326+0000</td><td>AB</td><td>abbandonata</td><td>undefined</td><td>undefined</td><td>previous conv</td><td>null</td></tr><tr><td>KYK2HJkSZ8a3nghipVJbj9</td><td>2018-12-19</td><td>2018-12-19T10:02:45.990+0000</td><td>2018-12-19T10:02:48.673+0000</td><td>AB</td><td>abbandonata</td><td>undefined</td><td>undefined</td><td>previous conv</td><td>null</td></tr><tr><td>3zHaCjXn7AtELDvj0wTXNf</td><td>2018-12-19</td><td>2018-12-19T10:02:33.904+0000</td><td>2018-12-19T10:02:36.793+0000</td><td>AB</td><td>abbandonata</td><td>undefined</td><td>undefined</td><td>previous conv</td><td>null</td></tr><tr><td>1CY3JeMvsiCGxl3HQfFRXA</td><td>2018-12-19</td><td>2018-12-19T10:04:17.036+0000</td><td>2018-12-19T10:04:19.767+0000</td><td>AB</td><td>abbandonata</td><td>undefined</td><td>undefined</td><td>previous conv</td><td>null</td></tr><tr><td>5RCYVLGONapLew3SD2WrBD</td><td>2018-12-19</td><td>2018-12-19T10:04:37.923+0000</td><td>2018-12-19T10:04:39.205+0000</td><td>AB</td><td>abbandonata</td><td>undefined</td><td>undefined</td><td>previous conv</td><td>null</td></tr><tr><td>FmaadPOGBdKFYXbxDOTHfk</td><td>2018-12-19</td><td>2018-12-19T10:07:04.262+0000</td><td>2018-12-19T10:07:06.898+0000</td><td>AB</td><td>abbandonata</td><td>undefined</td><td>undefined</td><td>previous conv</td><td>null</td></tr><tr><td>GApzqyRtJHTGOdEoOQoKSZ</td><td>2018-12-19</td><td>2018-12-19T10:06:21.952+0000</td><td>2018-12-19T10:06:23.217+0000</td><td>AB</td><td>abbandonata</td><td>undefined</td><td>undefined</td><td>previous conv</td><td>null</td></tr><tr><td>GBs45imyGM4LhlCUxGtEKc</td><td>2018-12-19</td><td>2018-12-19T10:04:08.259+0000</td><td>2018-12-19T10:04:11.489+0000</td><td>AB</td><td>abbandonata</td><td>undefined</td><td>undefined</td><td>previous conv</td><td>null</td></tr><tr><td>rxgbVYO2feCTks69Eqe1t</td><td>2018-12-19</td><td>2018-12-19T10:06:15.850+0000</td><td>2018-12-19T10:06:16.623+0000</td><td>AB</td><td>abbandonata</td><td>undefined</td><td>undefined</td><td>previous conv</td><td>null</td></tr><tr><td>9zwREil2AQn9kzNLCbexOS</td><td>2018-12-19</td><td>2018-12-19T10:06:34.765+0000</td><td>2018-12-19T10:06:37.775+0000</td><td>AB</td><td>abbandonata</td><td>undefined</td><td>undefined</td><td>previous conv</td><td>null</td></tr><tr><td>FDyTLRhZzjV3BmjbE888IE</td><td>2018-12-19</td><td>2018-12-19T10:07:00.466+0000</td><td>2018-12-19T10:07:03.318+0000</td><td>AB</td><td>abbandonata</td><td>undefined</td><td>undefined</td><td>previous conv</td><td>null</td></tr><tr><td>LXPCvuK28M5HfgCKroBZxm</td><td>2018-12-19</td><td>2018-12-19T10:03:11.060+0000</td><td>2018-12-19T10:03:14.001+0000</td><td>AB</td><td>abbandonata</td><td>undefined</td><td>undefined</td><td>previous conv</td><td>null</td></tr><tr><td>1D0RA7haAQWEeoN1LS1aUr</td><td>2018-12-19</td><td>2018-12-19T10:03:07.275+0000</td><td>2018-12-19T10:03:10.033+0000</td><td>AB</td><td>abbandonata</td><td>undefined</td><td>undefined</td><td>previous conv</td><td>null</td></tr><tr><td>CQex95xvNIU54RdliVSeCG</td><td>2018-12-19</td><td>2018-12-19T10:03:15.186+0000</td><td>2018-12-19T10:03:18.368+0000</td><td>AB</td><td>abbandonata</td><td>undefined</td><td>undefined</td><td>previous conv</td><td>null</td></tr><tr><td>FGciej2AbIh5cVdBQonPbY</td><td>2018-12-19</td><td>2018-12-19T09:59:28.626+0000</td><td>2018-12-19T09:59:53.871+0000</td><td>AB</td><td>abbandonata</td><td>undefined</td><td>undefined</td><td>previous conv</td><td>null</td></tr><tr><td>41dECwGJ4EP16fkaIHLnGx</td><td>2018-12-19</td><td>2018-12-19T10:04:00.828+0000</td><td>2018-12-19T10:04:03.557+0000</td><td>AB</td><td>abbandonata</td><td>undefined</td><td>undefined</td><td>previous conv</td><td>null</td></tr><tr><td>4FLYXJ4AmKs8tr2mEcgpPH</td><td>2018-12-19</td><td>2018-12-19T10:02:37.904+0000</td><td>2018-12-19T10:02:40.709+0000</td><td>AB</td><td>abbandonata</td><td>undefined</td><td>undefined</td><td>previous conv</td><td>null</td></tr><tr><td>GNvI0JnYnICLtou4eRBNPj</td><td>2018-12-19</td><td>2018-12-19T10:05:08.368+0000</td><td>2018-12-19T10:05:11.175+0000</td><td>AB</td><td>abbandonata</td><td>undefined</td><td>undefined</td><td>previous conv</td><td>null</td></tr><tr><td>5hBGbHY46pXJWFzxIUyMhq</td><td>2018-12-19</td><td>2018-12-19T10:04:42.107+0000</td><td>2018-12-19T10:04:45.095+0000</td><td>AB</td><td>abbandonata</td><td>undefined</td><td>undefined</td><td>previous conv</td><td>null</td></tr><tr><td>EAz9wJpNQhh8hVksJr01gp</td><td>2018-12-19</td><td>2018-12-19T10:08:13.723+0000</td><td>2018-12-19T10:08:16.601+0000</td><td>AB</td><td>abbandonata</td><td>undefined</td><td>undefined</td><td>previous conv</td><td>null</td></tr><tr><td>9NW2I4U73DD6SLxlVPt0Xv</td><td>2018-12-19</td><td>2018-12-19T10:01:15.875+0000</td><td>2018-12-19T10:01:19.128+0000</td><td>AB</td><td>abbandonata</td><td>undefined</td><td>undefined</td><td>previous conv</td><td>null</td></tr><tr><td>J8vBjsmLkmM6cHR7D2IqeY</td><td>2018-12-19</td><td>2018-12-19T10:07:41.485+0000</td><td>2018-12-19T10:07:42.235+0000</td><td>AB</td><td>abbandonata</td><td>undefined</td><td>undefined</td><td>previous conv</td><td>null</td></tr><tr><td>9zxS0ZgGReQCh5Tpb0h8Rr</td><td>2018-12-19</td><td>2018-12-19T10:02:50.424+0000</td><td>2018-12-19T10:02:53.245+0000</td><td>AB</td><td>abbandonata</td><td>undefined</td><td>undefined</td><td>previous conv</td><td>null</td></tr><tr><td>K8DDgr3rbSa9ZEandyidsi</td><td>2018-12-19</td><td>2018-12-19T10:06:38.870+0000</td><td>2018-12-19T10:06:41.774+0000</td><td>AB</td><td>abbandonata</td><td>undefined</td><td>undefined</td><td>previous conv</td><td>null</td></tr><tr><td>DWrDYhvelv799Icj07pxmy</td><td>2018-12-19</td><td>2018-12-19T10:07:32.342+0000</td><td>2018-12-19T10:07:35.748+0000</td><td>AB</td><td>abbandonata</td><td>undefined</td><td>undefined</td><td>previous conv</td><td>null</td></tr><tr><td>5d1MqRk39PUDzbv4yhMGqr</td><td>2018-12-19</td><td>2018-12-19T10:05:12.144+0000</td><td>2018-12-19T10:05:13.301+0000</td><td>AB</td><td>abbandonata</td><td>undefined</td><td>undefined</td><td>previous conv</td><td>null</td></tr><tr><td>9pLQ0Ed5HZsAN1KYrCroFh</td><td>2018-12-19</td><td>2018-12-19T10:00:16.525+0000</td><td>2018-12-19T10:00:19.404+0000</td><td>AB</td><td>abbandonata</td><td>undefined</td><td>undefined</td><td>previous conv</td><td>null</td></tr><tr><td>Cj6DPKSSahDGrdBqHt6Llv</td><td>2018-12-19</td><td>2018-12-19T10:08:28.419+0000</td><td>2018-12-19T10:08:31.135+0000</td><td>AB</td><td>abbandonata</td><td>undefined</td><td>undefined</td><td>previous conv</td><td>null</td></tr><tr><td>4WIP9pNIryQ8Gor5rBbTxT</td><td>2018-12-19</td><td>2018-12-19T10:06:24.236+0000</td><td>2018-12-19T10:06:27.808+0000</td><td>AB</td><td>abbandonata</td><td>undefined</td><td>undefined</td><td>previous conv</td><td>null</td></tr><tr><td>CS4w17UrWtCtBP40vWeiF</td><td>2018-12-19</td><td>2018-12-19T10:00:51.777+0000</td><td>2018-12-19T10:00:54.589+0000</td><td>AB</td><td>abbandonata</td><td>undefined</td><td>undefined</td><td>previous conv</td><td>null</td></tr><tr><td>EnvKtprDT1c2KSIoSuT8CU</td><td>2018-12-19</td><td>2018-12-19T10:05:38.693+0000</td><td>2018-12-19T10:05:41.381+0000</td><td>AB</td><td>abbandonata</td><td>undefined</td><td>undefined</td><td>previous conv</td><td>null</td></tr></tbody></table></div>"
      ]
     },
     "metadata": {},
     "output_type": "display_data"
    }
   ],
   "source": [
    "allConversations= allConversations.withColumn('recordType', when(allConversations['ConversationId'].isNull(), F.lit('new conv')).otherwise(allConversations['recordType']))\n",
    "allConversations= allConversations.withColumn('ConversationId', when(allConversations['ConversationId'].isNull(), allConversations['NewConvId']).otherwise(allConversations['ConversationId']))\n",
    "allConversations= allConversations.withColumn('ConversationStartDate', when(allConversations['ConversationStartDate'].isNull(), allConversations['NewStartDate']).otherwise(allConversations['ConversationStartDate']))\n",
    "allConversations= allConversations.withColumn('ConversationStartTime', when(allConversations['ConversationStartTime'].isNull(), allConversations['NewStartTime']).otherwise(allConversations['ConversationStartTime']))\n",
    "allConversations= allConversations.withColumn('ConversationEndTime', when(allConversations['ConversationEndTime'].isNull(), allConversations['NewEndTime']).otherwise(allConversations['ConversationEndTime']))\n",
    "\n",
    "allConversations= allConversations.select([col for col in allConversations.columns if col not in ['NewStartDate', 'NewStartTime', 'NewEndTime']])\n",
    "display(allConversations)"
   ]
  },
  {
   "cell_type": "code",
   "execution_count": 82,
   "metadata": {},
   "outputs": [
    {
     "data": {
      "text/html": [
       "<style scoped>\n",
       "  .table-result-container {\n",
       "    max-height: 300px;\n",
       "    overflow: auto;\n",
       "  }\n",
       "  table, th, td {\n",
       "    border: 1px solid black;\n",
       "    border-collapse: collapse;\n",
       "  }\n",
       "  th, td {\n",
       "    padding: 5px;\n",
       "  }\n",
       "  th {\n",
       "    text-align: left;\n",
       "  }\n",
       "</style><div class='table-result-container'><table class='table-result'><thead style='background-color: white'><tr><th>ConversationId</th><th>eventTime</th></tr></thead><tbody><tr><td>8mkbRBVLXnqB1DyyZ1pVcZ</td><td>2018-11-12T14:57:54.130+0000</td></tr><tr><td>777Qsjs3i8qJyBr95zABbk</td><td>2018-11-12T13:59:32.347+0000</td></tr><tr><td>2cpS4QCdLps7ycDeAxodOz</td><td>2018-11-12T14:07:45.439+0000</td></tr><tr><td>JEBXXIfay3m328mWQLvL0x</td><td>2018-11-12T14:55:34.613+0000</td></tr></tbody></table></div>"
      ]
     },
     "metadata": {},
     "output_type": "display_data"
    }
   ],
   "source": [
    "\"\"\"new_Events2.createOrReplaceTempView(\"EventsFinal\")\n",
    "LastItemPerConv = spark.sql(\" \\\n",
    "          SELECT ConversationId, max(eventTime) \\\n",
    "          FROM EventsFinal \\\n",
    "          GROUP BY ConversationId\\\n",
    "          ORDER BY max(eventTime)\\\n",
    "          \")\n",
    "display(LastItemPerConv)\"\"\"\n",
    "# Altro modo, penso più performante perchè non usa vista e spark.sql\n",
    "LastItemPerConv = new_Events2.select('ConversationId', 'eventTime', 'Status').groupby('ConversationId').agg(F.max(new_Events2.eventTime)).select('*')\n",
    "#display(new_Events2.select('ConversationId', 'eventTime', 'Status').groupby('ConversationId').agg({\"eventTime\": \"max\"}))  #F.max o :\"max\" così sono uguali\n",
    "LastItemPerConv= LastItemPerConv.withColumnRenamed('max(eventTime)', 'eventTime')\n",
    "display(LastItemPerConv)"
   ]
  },
  {
   "cell_type": "code",
   "execution_count": 83,
   "metadata": {},
   "outputs": [
    {
     "data": {
      "text/html": [
       "<style scoped>\n",
       "  .table-result-container {\n",
       "    max-height: 300px;\n",
       "    overflow: auto;\n",
       "  }\n",
       "  table, th, td {\n",
       "    border: 1px solid black;\n",
       "    border-collapse: collapse;\n",
       "  }\n",
       "  th, td {\n",
       "    padding: 5px;\n",
       "  }\n",
       "  th {\n",
       "    text-align: left;\n",
       "  }\n",
       "</style><div class='table-result-container'><table class='table-result'><thead style='background-color: white'><tr><th>EventsConvId</th><th>eventTime</th><th>itemId</th><th>ClientAtHome</th><th>LUISentities</th><th>LUISintent</th><th>LUISscore</th><th>ProblemSolved</th><th>QNAanswer</th><th>QNAcategory</th><th>QNAscore</th><th>QNAsource</th><th>QNAuserMessage</th><th>TXTANALYTICSscore</th><th>activityId</th><th>channel</th><th>currentScenario</th><th>diagnosticResponse</th><th>dialogCloseType</th><th>endTimeAPICall</th><th>eventName</th><th>eventdate</th><th>isAuthenticated</th><th>isLeaf</th><th>mainScenario</th><th>modemAlignment</th><th>modemChanged</th><th>modemType</th><th>notUnderstoodMessage</th><th>reason</th><th>scenario</th><th>scenarioCalled</th><th>scenarioId</th><th>startTimeAPICall</th><th>telemetryId</th><th>text</th><th>ticket</th><th>ticketForm</th><th>timestamp</th><th>toolExec</th><th>toolResult</th><th>user</th><th>userId</th><th>userName</th><th>applicationInsight</th><th>businessUnit</th><th>type</th><th>apiTimeDiff</th><th>BotAnswerDuration</th><th>EventTimePrevious</th><th>DateUTCInsertRow</th><th>Environment</th><th>eventNameDecode</th><th>Status</th><th>Recognition</th><th>StatusCode</th><th>RecognitionCode</th><th>HourFromLastEvent</th><th>EventHourMinute</th></tr></thead><tbody><tr><td>2cpS4QCdLps7ycDeAxodOz</td><td>2018-11-12T14:07:45.439+0000</td><td>5acf0b77-e684-11e8-8c74-1df3eaf4721b</td><td></td><td></td><td></td><td></td><td></td><td></td><td></td><td></td><td></td><td></td><td>null</td><td>2cpS4QCdLps7ycDeAxodOz|0000116</td><td>pat</td><td>WO_Problemi_Navigazione</td><td></td><td></td><td>null</td><td>MBFEvent.BotMessage</td><td>2018-11-12</td><td>false</td><td>false</td><td>WO_Inizio</td><td></td><td></td><td></td><td></td><td></td><td></td><td></td><td>adf415c5-3843-4587-9e04-e28ebef74e63</td><td>null</td><td></td><td>Qual è il tuo problema?</td><td></td><td></td><td>2018-11-12T14:07:45.439+0000</td><td></td><td></td><td></td><td>dev-timva-wo-botservice@-164JqvoUec</td><td>dev-timva-wo-botservice</td><td>appinsights-wo</td><td>wo</td><td>new</td><td>null</td><td>855.895</td><td>2018-11-12T14:07:44.583+0000</td><td>2018-12-19T17:52:24.577+0000</td><td>DEV</td><td>BotMessage</td><td>abbandonata</td><td>undefined</td><td>AB</td><td>undefined</td><td>890.74</td><td>1407</td></tr><tr><td>JEBXXIfay3m328mWQLvL0x</td><td>2018-11-12T14:55:34.613+0000</td><td>0d572e21-e68b-11e8-a351-0f405d5c52f9</td><td></td><td></td><td></td><td></td><td></td><td></td><td></td><td></td><td></td><td></td><td>null</td><td>0b7dab48-7c1e-415b-8093-6b11b98095bc</td><td>pat</td><td>Feedback Dialog</td><td></td><td></td><td>null</td><td>MBFEvent.BotMessage</td><td>2018-11-12</td><td>false</td><td>false</td><td>WO_Inizio</td><td></td><td></td><td></td><td></td><td></td><td></td><td></td><td>54188222-5a83-424b-baed-1e1438772a90</td><td>null</td><td></td><td>Sono stato utile?</td><td></td><td></td><td>2018-11-12T14:55:34.595+0000</td><td></td><td></td><td></td><td>dev-timva-wo-botservice@-164JqvoUec</td><td>dev-timva-wo-botservice</td><td>appinsights-wo</td><td>wo</td><td>new</td><td>null</td><td>null</td><td>null</td><td>2018-12-19T17:52:24.577+0000</td><td>DEV</td><td>BotMessage</td><td>abbandonata</td><td>undefined</td><td>AB</td><td>undefined</td><td>889.95</td><td>1455</td></tr><tr><td>8mkbRBVLXnqB1DyyZ1pVcZ</td><td>2018-11-12T14:57:54.130+0000</td><td>55cd7162-e68b-11e8-bf7a-5fba8834ae28</td><td></td><td></td><td></td><td></td><td></td><td></td><td></td><td></td><td></td><td></td><td>null</td><td>8mkbRBVLXnqB1DyyZ1pVcZ|0000723</td><td>pat</td><td>Welcome</td><td></td><td></td><td>null</td><td>MBFEvent.BotMessage</td><td>2018-11-12</td><td>true</td><td>true</td><td>Reset Dialog</td><td></td><td></td><td></td><td></td><td></td><td></td><td></td><td>cea8d6a0-d975-4129-b098-9892bb739e29</td><td>null</td><td></td><td>Ciao, sono l'assistente virtuale dell'assistenza tecnica. Come posso aiutarti?</td><td></td><td></td><td>2018-11-12T14:57:54.121+0000</td><td></td><td></td><td>FE054A8741794EEA06252DD6DB61F8DA</td><td>dev-timva-wo-botservice@-164JqvoUec</td><td>dev-timva-wo-botservice</td><td>appinsights-wo</td><td>wo</td><td>new</td><td>null</td><td>null</td><td>null</td><td>2018-12-19T17:52:24.577+0000</td><td>DEV</td><td>BotMessage</td><td>chiusa</td><td>undefined</td><td>CH</td><td>undefined</td><td>889.91</td><td>1457</td></tr><tr><td>777Qsjs3i8qJyBr95zABbk</td><td>2018-11-12T13:59:32.347+0000</td><td>3b79ea7c-e683-11e8-8c74-1df3eaf4721b</td><td></td><td></td><td></td><td></td><td></td><td></td><td></td><td></td><td></td><td></td><td>null</td><td>777Qsjs3i8qJyBr95zABbk|0000097</td><td>pat</td><td>WO_Reset_Porta_Voip</td><td></td><td></td><td>null</td><td>MBFEvent.BotMessage</td><td>2018-11-12</td><td>false</td><td>false</td><td>WO_Reset_Porta_Voip</td><td></td><td></td><td></td><td></td><td></td><td></td><td></td><td>6903fb36-c709-4669-82d0-1a69c9c65fae</td><td>null</td><td></td><td>Stiamo effettuando un reset in centrale. Spegni e riaccendi il modem, attendi che le spie siano di nuovo accese. Dimmi quando hai finito.</td><td></td><td></td><td>2018-11-12T13:59:32.347+0000</td><td></td><td></td><td></td><td>dev-timva-wo-botservice@-164JqvoUec</td><td>dev-timva-wo-botservice</td><td>appinsights-wo</td><td>wo</td><td>new</td><td>null</td><td>null</td><td>null</td><td>2018-12-19T17:52:24.577+0000</td><td>DEV</td><td>BotMessage</td><td>abbandonata</td><td>undefined</td><td>AB</td><td>undefined</td><td>890.88</td><td>1359</td></tr><tr><td>777Qsjs3i8qJyBr95zABbk</td><td>2018-11-12T13:59:32.347+0000</td><td>3b79ea7b-e683-11e8-8c74-1df3eaf4721b</td><td></td><td></td><td></td><td></td><td></td><td></td><td></td><td></td><td></td><td></td><td>null</td><td>777Qsjs3i8qJyBr95zABbk|0000097</td><td>pat</td><td></td><td></td><td></td><td>2018-11-12T13:59:32.347+0000</td><td>MBFEvent.APICall</td><td>2018-11-12</td><td></td><td></td><td>WO_Reset_Porta_Voip</td><td></td><td></td><td></td><td></td><td></td><td></td><td></td><td>6903fb36-c709-4669-82d0-1a69c9c65fae</td><td>2018-11-12T13:59:32.139+0000</td><td></td><td></td><td></td><td></td><td>2018-11-12T13:59:28.942+0000</td><td></td><td></td><td></td><td>5f9d9ab4e3fcaecdabbed1228ffaacab7f942b91</td><td></td><td>appinsights-wo</td><td>wo</td><td>new</td><td>207.536</td><td>null</td><td>null</td><td>2018-12-19T17:52:24.577+0000</td><td>DEV</td><td>APICall</td><td>abbandonata</td><td>undefined</td><td>AB</td><td>undefined</td><td>890.88</td><td>1359</td></tr></tbody></table></div>"
      ]
     },
     "metadata": {},
     "output_type": "display_data"
    }
   ],
   "source": [
    "LastRecordPerConv= LastItemPerConv.join(new_Events2, on= ['ConversationId', 'eventTime'], how= 'left').withColumnRenamed('ConversationId', 'EventsConvId')\n",
    "allConversationsUpdated = allConversations.join(LastRecordPerConv, (allConversations.ConversationId == LastRecordPerConv.EventsConvId), how= 'left')\n",
    "\n",
    "display(LastRecordPerConv)"
   ]
  },
  {
   "cell_type": "code",
   "execution_count": 84,
   "metadata": {},
   "outputs": [
    {
     "data": {
      "text/html": [
       "<style scoped>\n",
       "  .ansiout {\n",
       "    display: block;\n",
       "    unicode-bidi: embed;\n",
       "    white-space: pre-wrap;\n",
       "    word-wrap: break-word;\n",
       "    word-break: break-all;\n",
       "    font-family: \"Source Code Pro\", \"Menlo\", monospace;;\n",
       "    font-size: 13px;\n",
       "    color: #555;\n",
       "    margin-left: 4px;\n",
       "    line-height: 19px;\n",
       "  }\n",
       "</style>\n",
       "<div class=\"ansiout\"></div>"
      ]
     },
     "metadata": {},
     "output_type": "display_data"
    }
   ],
   "source": [
    "#allConversationsUpdated.persist()"
   ]
  },
  {
   "cell_type": "code",
   "execution_count": 85,
   "metadata": {},
   "outputs": [
    {
     "data": {
      "text/html": [
       "<style scoped>\n",
       "  .ansiout {\n",
       "    display: block;\n",
       "    unicode-bidi: embed;\n",
       "    white-space: pre-wrap;\n",
       "    word-wrap: break-word;\n",
       "    word-break: break-all;\n",
       "    font-family: \"Source Code Pro\", \"Menlo\", monospace;;\n",
       "    font-size: 13px;\n",
       "    color: #555;\n",
       "    margin-left: 4px;\n",
       "    line-height: 19px;\n",
       "  }\n",
       "</style>\n",
       "<div class=\"ansiout\"><span class=\"ansired\">Out[</span><span class=\"ansired\">186</span><span class=\"ansired\">]: </span>\n",
       "[&apos;ConversationId&apos;,\n",
       " &apos;ConversationStartDate&apos;,\n",
       " &apos;ConversationStartTime&apos;,\n",
       " &apos;ConversationEndTime&apos;,\n",
       " &apos;ConversationStatusCode&apos;,\n",
       " &apos;ConversationStatus&apos;,\n",
       " &apos;ConversationRecognitionCode&apos;,\n",
       " &apos;ConversationRecognition&apos;,\n",
       " &apos;recordType&apos;,\n",
       " &apos;NewConvId&apos;,\n",
       " &apos;EventsConvId&apos;,\n",
       " &apos;eventTime&apos;,\n",
       " &apos;itemId&apos;,\n",
       " &apos;ClientAtHome&apos;,\n",
       " &apos;LUISentities&apos;,\n",
       " &apos;LUISintent&apos;,\n",
       " &apos;LUISscore&apos;,\n",
       " &apos;ProblemSolved&apos;,\n",
       " &apos;QNAanswer&apos;,\n",
       " &apos;QNAcategory&apos;,\n",
       " &apos;QNAscore&apos;,\n",
       " &apos;QNAsource&apos;,\n",
       " &apos;QNAuserMessage&apos;,\n",
       " &apos;TXTANALYTICSscore&apos;,\n",
       " &apos;activityId&apos;,\n",
       " &apos;channel&apos;,\n",
       " &apos;currentScenario&apos;,\n",
       " &apos;diagnosticResponse&apos;,\n",
       " &apos;dialogCloseType&apos;,\n",
       " &apos;endTimeAPICall&apos;,\n",
       " &apos;eventName&apos;,\n",
       " &apos;eventdate&apos;,\n",
       " &apos;isAuthenticated&apos;,\n",
       " &apos;isLeaf&apos;,\n",
       " &apos;mainScenario&apos;,\n",
       " &apos;modemAlignment&apos;,\n",
       " &apos;modemChanged&apos;,\n",
       " &apos;modemType&apos;,\n",
       " &apos;notUnderstoodMessage&apos;,\n",
       " &apos;reason&apos;,\n",
       " &apos;scenario&apos;,\n",
       " &apos;scenarioCalled&apos;,\n",
       " &apos;scenarioId&apos;,\n",
       " &apos;startTimeAPICall&apos;,\n",
       " &apos;telemetryId&apos;,\n",
       " &apos;text&apos;,\n",
       " &apos;ticket&apos;,\n",
       " &apos;ticketForm&apos;,\n",
       " &apos;timestamp&apos;,\n",
       " &apos;toolExec&apos;,\n",
       " &apos;toolResult&apos;,\n",
       " &apos;user&apos;,\n",
       " &apos;userId&apos;,\n",
       " &apos;userName&apos;,\n",
       " &apos;applicationInsight&apos;,\n",
       " &apos;businessUnit&apos;,\n",
       " &apos;type&apos;,\n",
       " &apos;apiTimeDiff&apos;,\n",
       " &apos;BotAnswerDuration&apos;,\n",
       " &apos;EventTimePrevious&apos;,\n",
       " &apos;DateUTCInsertRow&apos;,\n",
       " &apos;Environment&apos;,\n",
       " &apos;eventNameDecode&apos;,\n",
       " &apos;Status&apos;,\n",
       " &apos;Recognition&apos;,\n",
       " &apos;StatusCode&apos;,\n",
       " &apos;RecognitionCode&apos;,\n",
       " &apos;HourFromLastEvent&apos;,\n",
       " &apos;EventHourMinute&apos;]\n",
       "</div>"
      ]
     },
     "metadata": {},
     "output_type": "display_data"
    }
   ],
   "source": [
    "allConversationsUpdated.columns"
   ]
  },
  {
   "cell_type": "code",
   "execution_count": 86,
   "metadata": {},
   "outputs": [
    {
     "data": {
      "text/html": [
       "<style scoped>\n",
       "  .table-result-container {\n",
       "    max-height: 300px;\n",
       "    overflow: auto;\n",
       "  }\n",
       "  table, th, td {\n",
       "    border: 1px solid black;\n",
       "    border-collapse: collapse;\n",
       "  }\n",
       "  th, td {\n",
       "    padding: 5px;\n",
       "  }\n",
       "  th {\n",
       "    text-align: left;\n",
       "  }\n",
       "</style><div class='table-result-container'><table class='table-result'><thead style='background-color: white'><tr><th>ConversationId</th><th>ConversationStartDate</th><th>ConversationStartTime</th><th>ConversationEndTime</th><th>ConversationStatusCode</th><th>ConversationStatus</th><th>ConversationRecognitionCode</th><th>ConversationRecognition</th><th>recordType</th><th>DateUTCInsertRow</th></tr></thead><tbody><tr><td>7B0HJgE9ijNAHL1jPjChtq</td><td>2018-12-19</td><td>2018-12-19T09:59:58.615+0000</td><td>2018-12-19T10:00:01.362+0000</td><td>AB</td><td>abbandonata</td><td>undefined</td><td>undefined</td><td>previous conv</td><td>null</td></tr><tr><td>J2XpMj6qpqz1KvQbvZtk5q</td><td>2018-12-19</td><td>2018-12-19T10:07:54.357+0000</td><td>2018-12-19T10:07:57.099+0000</td><td>AB</td><td>abbandonata</td><td>undefined</td><td>undefined</td><td>previous conv</td><td>null</td></tr><tr><td>AV76YJrYqv8IRMzTI36tpW</td><td>2018-12-19</td><td>2018-12-19T10:06:11.685+0000</td><td>2018-12-19T10:06:14.778+0000</td><td>AB</td><td>abbandonata</td><td>undefined</td><td>undefined</td><td>previous conv</td><td>null</td></tr><tr><td>5c589WiBvSAGJRqJeYCipI</td><td>2018-12-19</td><td>2018-12-19T10:04:46.396+0000</td><td>2018-12-19T10:04:49.095+0000</td><td>AB</td><td>abbandonata</td><td>undefined</td><td>undefined</td><td>previous conv</td><td>null</td></tr><tr><td>5qvCp1zz8FEGRvqzzrI6QS</td><td>2018-12-19</td><td>2018-12-19T10:00:34.854+0000</td><td>2018-12-19T10:00:35.767+0000</td><td>CH</td><td>chiusa</td><td>NRIC</td><td>non riconosciuta</td><td>previous conv</td><td>null</td></tr><tr><td>6LRLPjJDLkQ85QplizAeFS</td><td>null</td><td>null</td><td>null</td><td>AB</td><td>abbandonata</td><td>undefined</td><td>undefined</td><td>previous conv</td><td>null</td></tr><tr><td>6LRLPjJDLkQ85QplizAeFS</td><td>null</td><td>null</td><td>null</td><td>CH</td><td>chiusa</td><td>undefined</td><td>undefined</td><td>previous conv</td><td>null</td></tr><tr><td>2Bi9prmuXhr3RTwBeOgfis</td><td>2018-12-19</td><td>2018-12-19T10:03:57.113+0000</td><td>2018-12-19T10:03:59.912+0000</td><td>AB</td><td>abbandonata</td><td>undefined</td><td>undefined</td><td>previous conv</td><td>null</td></tr><tr><td>9qn6DpEPlCmI89kgiaNs8v</td><td>2018-12-19</td><td>2018-12-19T10:01:44.270+0000</td><td>2018-12-19T10:01:47.835+0000</td><td>AB</td><td>abbandonata</td><td>undefined</td><td>undefined</td><td>previous conv</td><td>null</td></tr><tr><td>DwjuQDnNqmsDeFPwQDLqZX</td><td>2018-12-19</td><td>2018-12-19T10:05:22.290+0000</td><td>2018-12-19T10:05:25.040+0000</td><td>AB</td><td>abbandonata</td><td>undefined</td><td>undefined</td><td>previous conv</td><td>null</td></tr><tr><td>KZosmVlhc687ta61GSesrQ</td><td>2018-12-19</td><td>2018-12-19T10:00:20.482+0000</td><td>2018-12-19T10:00:25.549+0000</td><td>AB</td><td>abbandonata</td><td>undefined</td><td>undefined</td><td>previous conv</td><td>null</td></tr><tr><td>FbU0aqsFtkO2WTdF7APKVz</td><td>2018-12-19</td><td>2018-12-19T10:00:07.346+0000</td><td>2018-12-19T10:00:10.203+0000</td><td>AB</td><td>abbandonata</td><td>undefined</td><td>undefined</td><td>previous conv</td><td>null</td></tr><tr><td>HniTlWei0TCKZX95ogQrSp</td><td>2018-12-19</td><td>2018-12-19T10:01:24.169+0000</td><td>2018-12-19T10:01:27.289+0000</td><td>AB</td><td>abbandonata</td><td>undefined</td><td>undefined</td><td>previous conv</td><td>null</td></tr><tr><td>GRoece1WEVoFgz9NTtWoOd</td><td>2018-12-19</td><td>2018-12-19T10:04:40.198+0000</td><td>2018-12-19T10:04:41.052+0000</td><td>AB</td><td>abbandonata</td><td>undefined</td><td>undefined</td><td>previous conv</td><td>null</td></tr><tr><td>1M8jFfZHTnj8X4ilE85gR7</td><td>2018-12-19</td><td>2018-12-19T10:07:15.717+0000</td><td>2018-12-19T10:07:18.590+0000</td><td>AB</td><td>abbandonata</td><td>undefined</td><td>undefined</td><td>previous conv</td><td>null</td></tr><tr><td>J9Y3a8ZXxU9BU2v6XMsUQ1</td><td>2018-12-19</td><td>2018-12-19T10:01:29.825+0000</td><td>2018-12-19T10:01:32.970+0000</td><td>AB</td><td>abbandonata</td><td>undefined</td><td>undefined</td><td>previous conv</td><td>null</td></tr><tr><td>IPdfT30YRoLJ3YmQKspm3v</td><td>2018-12-19</td><td>2018-12-19T10:07:23.801+0000</td><td>2018-12-19T10:07:27.141+0000</td><td>AB</td><td>abbandonata</td><td>undefined</td><td>undefined</td><td>previous conv</td><td>null</td></tr><tr><td>ARORT7V3gkd1N2Agc9dv0d</td><td>2018-12-19</td><td>2018-12-19T10:08:43.881+0000</td><td>2018-12-19T10:08:46.843+0000</td><td>AB</td><td>abbandonata</td><td>undefined</td><td>undefined</td><td>previous conv</td><td>null</td></tr><tr><td>FuUSysAtbn8AkoKjJ6Qzbo</td><td>2018-12-19</td><td>2018-12-19T10:07:57.974+0000</td><td>2018-12-19T10:08:00.816+0000</td><td>AB</td><td>abbandonata</td><td>undefined</td><td>undefined</td><td>previous conv</td><td>null</td></tr><tr><td>1Fj9IX6jUel4pxfWFsQXhZ</td><td>2018-12-19</td><td>2018-12-19T10:06:05.634+0000</td><td>2018-12-19T10:06:06.321+0000</td><td>AB</td><td>abbandonata</td><td>undefined</td><td>undefined</td><td>previous conv</td><td>null</td></tr><tr><td>9d0atysnvH5Q9LhdmSEqo</td><td>2018-12-19</td><td>2018-12-19T10:03:03.316+0000</td><td>2018-12-19T10:03:06.115+0000</td><td>AB</td><td>abbandonata</td><td>undefined</td><td>undefined</td><td>previous conv</td><td>null</td></tr><tr><td>CAnAofgPpxxGKTw7ytbQPy</td><td>2018-12-19</td><td>2018-12-19T10:01:37.501+0000</td><td>2018-12-19T10:01:40.915+0000</td><td>AB</td><td>abbandonata</td><td>undefined</td><td>undefined</td><td>previous conv</td><td>null</td></tr><tr><td>21j4N9vh5jAJtG7qSjkDa2</td><td>2018-12-19</td><td>2018-12-19T10:05:27.887+0000</td><td>2018-12-19T10:05:29.128+0000</td><td>AB</td><td>abbandonata</td><td>undefined</td><td>undefined</td><td>previous conv</td><td>null</td></tr><tr><td>21j4N9vh5jAJtG7qSjkDa2</td><td>2018-12-19</td><td>2018-12-19T10:05:27.887+0000</td><td>2018-12-19T10:05:29.128+0000</td><td>AB</td><td>abbandonata</td><td>undefined</td><td>undefined</td><td>previous conv</td><td>null</td></tr><tr><td>3BrzSpxS6g3A5b9pHtU6mQ</td><td>2018-12-19</td><td>2018-12-19T10:00:46.011+0000</td><td>2018-12-19T10:00:50.725+0000</td><td>AB</td><td>abbandonata</td><td>undefined</td><td>undefined</td><td>previous conv</td><td>null</td></tr><tr><td>C2oJJD3kvuWBKRNfCqsjkl</td><td>2018-12-19</td><td>2018-12-19T10:07:50.791+0000</td><td>2018-12-19T10:07:53.466+0000</td><td>AB</td><td>abbandonata</td><td>undefined</td><td>undefined</td><td>previous conv</td><td>null</td></tr><tr><td>6AyID3tlZuoJNsOLDEhuij</td><td>2018-12-19</td><td>2018-12-19T10:08:40.163+0000</td><td>2018-12-19T10:08:42.779+0000</td><td>AB</td><td>abbandonata</td><td>undefined</td><td>undefined</td><td>previous conv</td><td>null</td></tr><tr><td>5sZzyaniZ6A5jAfHsIV5He</td><td>2018-12-19</td><td>2018-12-19T10:06:07.676+0000</td><td>2018-12-19T10:06:10.422+0000</td><td>AB</td><td>abbandonata</td><td>undefined</td><td>undefined</td><td>previous conv</td><td>null</td></tr><tr><td>8mkbRBVLXnqB1DyyZ1pVcZ</td><td>2018-11-12</td><td>2018-11-12T14:09:18.462+0000</td><td>2018-11-12T14:57:54.130+0000</td><td>CH</td><td>chiusa</td><td>undefined</td><td>undefined</td><td>new conv</td><td>2018-12-19T17:56:09.146+0000</td></tr><tr><td>8Nsx30Rhm5hEwIGXG34QJm</td><td>2018-12-19</td><td>2018-12-19T10:03:31.114+0000</td><td>2018-12-19T10:03:33.834+0000</td><td>AB</td><td>abbandonata</td><td>undefined</td><td>undefined</td><td>previous conv</td><td>null</td></tr><tr><td>F3LKGkFRUk4a1xx4OE1fX</td><td>2018-12-19</td><td>2018-12-19T10:04:25.215+0000</td><td>2018-12-19T10:04:28.534+0000</td><td>AB</td><td>abbandonata</td><td>undefined</td><td>undefined</td><td>previous conv</td><td>null</td></tr><tr><td>BzhxA91vI9j6ALbLaGqrUB</td><td>2018-12-19</td><td>2018-12-19T10:00:41.954+0000</td><td>2018-12-19T10:00:44.717+0000</td><td>AB</td><td>abbandonata</td><td>undefined</td><td>undefined</td><td>previous conv</td><td>null</td></tr><tr><td>GwfnIAGN3jQ6r0FL8M54S9</td><td>2018-12-19</td><td>2018-12-19T10:03:46.418+0000</td><td>2018-12-19T10:03:47.131+0000</td><td>AB</td><td>abbandonata</td><td>undefined</td><td>undefined</td><td>previous conv</td><td>null</td></tr><tr><td>cBbBHV0ogp4wDWGcdIg5c</td><td>2018-12-19</td><td>2018-12-19T10:06:17.889+0000</td><td>2018-12-19T10:06:20.943+0000</td><td>AB</td><td>abbandonata</td><td>undefined</td><td>undefined</td><td>previous conv</td><td>null</td></tr><tr><td>8F00qVkn7DR1fmGzC8v4mO</td><td>2018-12-19</td><td>2018-12-19T10:02:59.683+0000</td><td>2018-12-19T10:03:02.298+0000</td><td>AB</td><td>abbandonata</td><td>undefined</td><td>undefined</td><td>previous conv</td><td>null</td></tr><tr><td>AsdW4gXehJqBlFZu1HAgjD</td><td>2018-12-19</td><td>2018-12-19T10:03:42.473+0000</td><td>2018-12-19T10:03:45.364+0000</td><td>AB</td><td>abbandonata</td><td>undefined</td><td>undefined</td><td>previous conv</td><td>null</td></tr><tr><td>KuARJ6GQdSLKGtKtTXs8cl</td><td>2018-12-19</td><td>2018-12-19T10:08:24.665+0000</td><td>2018-12-19T10:08:27.319+0000</td><td>AB</td><td>abbandonata</td><td>undefined</td><td>undefined</td><td>previous conv</td><td>null</td></tr><tr><td>Jax87NP1gxb5HI2k0jn9FI</td><td>2018-12-19</td><td>2018-12-19T10:03:23.459+0000</td><td>2018-12-19T10:03:26.039+0000</td><td>AB</td><td>abbandonata</td><td>undefined</td><td>undefined</td><td>previous conv</td><td>null</td></tr><tr><td>FmX1fvVEr859hmD37RoWM</td><td>2018-12-19</td><td>2018-12-19T10:05:57.997+0000</td><td>2018-12-19T10:06:00.672+0000</td><td>AB</td><td>abbandonata</td><td>undefined</td><td>undefined</td><td>previous conv</td><td>null</td></tr><tr><td>3aR6jgOgVpEA2ENI9QpKgo</td><td>2018-12-19</td><td>2018-12-19T10:02:29.290+0000</td><td>2018-12-19T10:02:32.801+0000</td><td>AB</td><td>abbandonata</td><td>undefined</td><td>undefined</td><td>previous conv</td><td>null</td></tr><tr><td>9ANTgUQN2Xg6tcfv1gm0xK</td><td>2018-12-19</td><td>2018-12-19T10:07:19.582+0000</td><td>2018-12-19T10:07:22.330+0000</td><td>AB</td><td>abbandonata</td><td>undefined</td><td>undefined</td><td>previous conv</td><td>null</td></tr><tr><td>DQeTDuAElyULRHOSWYR09Q</td><td>2018-12-19</td><td>2018-12-19T10:00:36.731+0000</td><td>2018-12-19T10:00:37.350+0000</td><td>AB</td><td>abbandonata</td><td>undefined</td><td>undefined</td><td>previous conv</td><td>null</td></tr><tr><td>3mc4jWwQNEqK5WXoPNeQ7a</td><td>2018-12-19</td><td>2018-12-19T10:07:08.036+0000</td><td>2018-12-19T10:07:10.904+0000</td><td>AB</td><td>abbandonata</td><td>undefined</td><td>undefined</td><td>previous conv</td><td>null</td></tr><tr><td>73XlEir5OkHBTN72Axrbt6</td><td>2018-12-19</td><td>2018-12-19T10:04:12.402+0000</td><td>2018-12-19T10:04:16.050+0000</td><td>AB</td><td>abbandonata</td><td>undefined</td><td>undefined</td><td>previous conv</td><td>null</td></tr><tr><td>7Z1mILVDw9NGnSwqbNwWhw</td><td>2018-12-19</td><td>2018-12-19T10:01:20.545+0000</td><td>2018-12-19T10:01:23.215+0000</td><td>AB</td><td>abbandonata</td><td>undefined</td><td>undefined</td><td>previous conv</td><td>null</td></tr><tr><td>C63uKVWVRLE16OzclU3BWe</td><td>2018-12-19</td><td>2018-12-19T10:04:04.480+0000</td><td>2018-12-19T10:04:07.304+0000</td><td>AB</td><td>abbandonata</td><td>undefined</td><td>undefined</td><td>previous conv</td><td>null</td></tr><tr><td>Iuqr9dNC9gtAjbX1DtJUgG</td><td>2018-12-19</td><td>2018-12-19T10:08:32.042+0000</td><td>2018-12-19T10:08:34.821+0000</td><td>AB</td><td>abbandonata</td><td>undefined</td><td>undefined</td><td>previous conv</td><td>null</td></tr><tr><td>1hX9IDyqbT0GprwRN1r68T</td><td>2018-12-19</td><td>2018-12-19T10:00:59.968+0000</td><td>2018-12-19T10:01:01.300+0000</td><td>AB</td><td>abbandonata</td><td>undefined</td><td>undefined</td><td>previous conv</td><td>null</td></tr><tr><td>AnVPlFA3IvM7KrlUyJH4kZ</td><td>2018-12-19</td><td>2018-12-19T10:08:17.431+0000</td><td>2018-12-19T10:08:20.235+0000</td><td>AB</td><td>abbandonata</td><td>undefined</td><td>undefined</td><td>previous conv</td><td>null</td></tr><tr><td>5MN4sLhBqsn80XnS1kGBsf</td><td>2018-12-19</td><td>2018-12-19T10:05:30.157+0000</td><td>2018-12-19T10:05:31.321+0000</td><td>AB</td><td>abbandonata</td><td>undefined</td><td>undefined</td><td>previous conv</td><td>null</td></tr><tr><td>GMY71ftXJxGKhSQRHfVkmC</td><td>2018-12-19</td><td>2018-12-19T10:01:02.401+0000</td><td>2018-12-19T10:01:05.274+0000</td><td>AB</td><td>abbandonata</td><td>undefined</td><td>undefined</td><td>previous conv</td><td>null</td></tr><tr><td>HtEkIhHG0PKnFbUZBXlOP</td><td>2018-12-19</td><td>2018-12-19T10:06:46.478+0000</td><td>2018-12-19T10:06:49.204+0000</td><td>AB</td><td>abbandonata</td><td>undefined</td><td>undefined</td><td>previous conv</td><td>null</td></tr><tr><td>KYwBoagLyVcLtPNYSFXQKh</td><td>2018-12-19</td><td>2018-12-19T10:05:14.550+0000</td><td>2018-12-19T10:05:17.227+0000</td><td>AB</td><td>abbandonata</td><td>undefined</td><td>undefined</td><td>previous conv</td><td>null</td></tr><tr><td>8kitDpL2NY16G6leGYtey5</td><td>2018-12-19</td><td>2018-12-19T10:03:55.393+0000</td><td>2018-12-19T10:03:55.985+0000</td><td>AB</td><td>abbandonata</td><td>undefined</td><td>undefined</td><td>previous conv</td><td>null</td></tr><tr><td>cIuWCRyeTNI7cNJOVfRuA</td><td>2018-12-19</td><td>2018-12-19T10:01:49.067+0000</td><td>2018-12-19T10:01:51.881+0000</td><td>AB</td><td>abbandonata</td><td>undefined</td><td>undefined</td><td>previous conv</td><td>null</td></tr><tr><td>7eG8cr6HhuUH1DOiFhPwxm</td><td>2018-12-19</td><td>2018-12-19T10:00:26.680+0000</td><td>2018-12-19T10:00:29.481+0000</td><td>AB</td><td>abbandonata</td><td>undefined</td><td>undefined</td><td>previous conv</td><td>null</td></tr><tr><td>9LA9JDlXeMQGVDEmSM0j0O</td><td>2018-12-19</td><td>2018-12-19T10:03:35.087+0000</td><td>2018-12-19T10:03:37.872+0000</td><td>AB</td><td>abbandonata</td><td>undefined</td><td>undefined</td><td>previous conv</td><td>null</td></tr><tr><td>KHgwZCGqZZhGPc0gX23cXM</td><td>2018-12-19</td><td>2018-12-19T10:07:28.288+0000</td><td>2018-12-19T10:07:31.178+0000</td><td>AB</td><td>abbandonata</td><td>undefined</td><td>undefined</td><td>previous conv</td><td>null</td></tr><tr><td>Du6Mqu5ZpkMBGld2nEdy7n</td><td>2018-12-19</td><td>2018-12-19T10:04:21.047+0000</td><td>2018-12-19T10:04:23.925+0000</td><td>AB</td><td>abbandonata</td><td>undefined</td><td>undefined</td><td>previous conv</td><td>null</td></tr><tr><td>UMJLJS5z18LAQ41eeD4k6</td><td>2018-12-19</td><td>2018-12-19T10:07:11.972+0000</td><td>2018-12-19T10:07:14.784+0000</td><td>AB</td><td>abbandonata</td><td>undefined</td><td>undefined</td><td>previous conv</td><td>null</td></tr><tr><td>EuKF17dnMtZFlwOOcqYAQT</td><td>2018-12-19</td><td>2018-12-19T10:01:41.910+0000</td><td>2018-12-19T10:01:42.933+0000</td><td>AB</td><td>abbandonata</td><td>undefined</td><td>undefined</td><td>previous conv</td><td>null</td></tr><tr><td>o30E4AgKZEBvzwt8z0mSm</td><td>2018-12-19</td><td>2018-12-19T10:07:37.129+0000</td><td>2018-12-19T10:07:40.464+0000</td><td>AB</td><td>abbandonata</td><td>undefined</td><td>undefined</td><td>previous conv</td><td>null</td></tr><tr><td>CHDaaq0jgMv56UCkTGO25d</td><td>2018-12-19</td><td>2018-12-19T10:00:55.622+0000</td><td>2018-12-19T10:00:58.647+0000</td><td>AB</td><td>abbandonata</td><td>undefined</td><td>undefined</td><td>previous conv</td><td>null</td></tr><tr><td>7kHOh4sAkz2HcBRONuiTtZ</td><td>2018-12-19</td><td>2018-12-19T10:06:01.903+0000</td><td>2018-12-19T10:06:04.656+0000</td><td>AB</td><td>abbandonata</td><td>undefined</td><td>undefined</td><td>previous conv</td><td>null</td></tr><tr><td>FAG236sgmDvDGQ97XYvboj</td><td>2018-12-19</td><td>2018-12-19T10:04:51.292+0000</td><td>2018-12-19T10:04:54.679+0000</td><td>AB</td><td>abbandonata</td><td>undefined</td><td>undefined</td><td>previous conv</td><td>null</td></tr><tr><td>645Qfm6VqKe6hGMMV3GS79</td><td>2018-12-19</td><td>2018-12-19T10:05:03.959+0000</td><td>2018-12-19T10:05:07.162+0000</td><td>AB</td><td>abbandonata</td><td>undefined</td><td>undefined</td><td>previous conv</td><td>null</td></tr><tr><td>9iLbHEU5llmKRmI4y8Hh9n</td><td>2018-12-19</td><td>2018-12-19T10:03:27.087+0000</td><td>2018-12-19T10:03:30.039+0000</td><td>AB</td><td>abbandonata</td><td>undefined</td><td>undefined</td><td>previous conv</td><td>null</td></tr><tr><td>6lZLp1aNzv3FsJlqmT9bN4</td><td>2018-12-19</td><td>2018-12-19T10:07:47.184+0000</td><td>2018-12-19T10:07:49.827+0000</td><td>AB</td><td>abbandonata</td><td>undefined</td><td>undefined</td><td>previous conv</td><td>null</td></tr><tr><td>HiqRnfKJN997NCSb4Hu1Vy</td><td>2018-12-19</td><td>2018-12-19T10:02:41.674+0000</td><td>2018-12-19T10:02:44.842+0000</td><td>AB</td><td>abbandonata</td><td>undefined</td><td>undefined</td><td>previous conv</td><td>null</td></tr><tr><td>6O0YIYrf1iZBgDImJeBmaf</td><td>2018-12-19</td><td>2018-12-19T10:00:02.339+0000</td><td>2018-12-19T10:00:05.573+0000</td><td>AB</td><td>abbandonata</td><td>undefined</td><td>undefined</td><td>previous conv</td><td>null</td></tr><tr><td>KvbgYIyVnAVA2lPB5jcM6O</td><td>2018-12-19</td><td>2018-12-19T10:03:19.585+0000</td><td>2018-12-19T10:03:22.364+0000</td><td>AB</td><td>abbandonata</td><td>undefined</td><td>undefined</td><td>previous conv</td><td>null</td></tr><tr><td>777Qsjs3i8qJyBr95zABbk</td><td>2018-11-12</td><td>2018-11-12T13:58:00.081+0000</td><td>2018-11-12T13:59:32.347+0000</td><td>AB</td><td>abbandonata</td><td>undefined</td><td>undefined</td><td>new conv</td><td>2018-12-19T17:56:09.146+0000</td></tr><tr><td>777Qsjs3i8qJyBr95zABbk</td><td>2018-11-12</td><td>2018-11-12T13:58:00.081+0000</td><td>2018-11-12T13:59:32.347+0000</td><td>AB</td><td>abbandonata</td><td>undefined</td><td>undefined</td><td>new conv</td><td>2018-12-19T17:56:09.146+0000</td></tr><tr><td>AVyTtDGwhXfKdTpyfgTLu</td><td>2018-12-19</td><td>2018-12-19T10:05:47.376+0000</td><td>2018-12-19T10:05:50.096+0000</td><td>AB</td><td>abbandonata</td><td>undefined</td><td>undefined</td><td>previous conv</td><td>null</td></tr><tr><td>6NBZH9mqT6YA2tUSxEQ8UL</td><td>2018-12-19</td><td>2018-12-19T10:06:50.146+0000</td><td>2018-12-19T10:06:53.320+0000</td><td>AB</td><td>abbandonata</td><td>undefined</td><td>undefined</td><td>previous conv</td><td>null</td></tr><tr><td>AuZMvVCU5Od7iBPgRifTsb</td><td>2018-12-19</td><td>2018-12-19T10:08:05.719+0000</td><td>2018-12-19T10:08:09.270+0000</td><td>AB</td><td>abbandonata</td><td>undefined</td><td>undefined</td><td>previous conv</td><td>null</td></tr><tr><td>2cpS4QCdLps7ycDeAxodOz</td><td>2018-11-12</td><td>2018-11-12T13:57:54.672+0000</td><td>2018-11-12T14:07:45.439+0000</td><td>AB</td><td>abbandonata</td><td>undefined</td><td>undefined</td><td>new conv</td><td>2018-12-19T17:56:09.146+0000</td></tr><tr><td>GqYB5uiuTXo36XO5tqLasS</td><td>2018-12-19</td><td>2018-12-19T10:04:55.875+0000</td><td>2018-12-19T10:04:58.722+0000</td><td>AB</td><td>abbandonata</td><td>undefined</td><td>undefined</td><td>previous conv</td><td>null</td></tr><tr><td>Ad7zs6BcoQVBotmADRikzz</td><td>2018-12-19</td><td>2018-12-19T10:05:26.037+0000</td><td>2018-12-19T10:05:26.863+0000</td><td>AB</td><td>abbandonata</td><td>undefined</td><td>undefined</td><td>previous conv</td><td>null</td></tr><tr><td>BR0ofouBvVyCutUwNFrDKx</td><td>2018-12-19</td><td>2018-12-19T10:03:49.737+0000</td><td>2018-12-19T10:03:52.547+0000</td><td>AB</td><td>abbandonata</td><td>undefined</td><td>undefined</td><td>previous conv</td><td>null</td></tr><tr><td>2RBQeAT3StU8rbUF9AJLOq</td><td>2018-12-19</td><td>2018-12-19T10:08:10.070+0000</td><td>2018-12-19T10:08:12.786+0000</td><td>AB</td><td>abbandonata</td><td>undefined</td><td>undefined</td><td>previous conv</td><td>null</td></tr><tr><td>l3Q4Js0oxiISv7lv8yIVK</td><td>2018-12-19</td><td>2018-12-19T10:05:18.586+0000</td><td>2018-12-19T10:05:21.270+0000</td><td>AB</td><td>abbandonata</td><td>undefined</td><td>undefined</td><td>previous conv</td><td>null</td></tr><tr><td>4iBjCmp5TQeDvRE6mrAalZ</td><td>2018-12-19</td><td>2018-12-19T10:05:34.525+0000</td><td>2018-12-19T10:05:37.644+0000</td><td>AB</td><td>abbandonata</td><td>undefined</td><td>undefined</td><td>previous conv</td><td>null</td></tr><tr><td>GKW8mE2ve3RKm2JptHVKDT</td><td>2018-12-19</td><td>2018-12-19T10:01:11.397+0000</td><td>2018-12-19T10:01:14.155+0000</td><td>AB</td><td>abbandonata</td><td>undefined</td><td>undefined</td><td>previous conv</td><td>null</td></tr><tr><td>DTl4YwKX00v1yAtN4SqHFn</td><td>2018-12-19</td><td>2018-12-19T10:08:21.100+0000</td><td>2018-12-19T10:08:23.789+0000</td><td>AB</td><td>abbandonata</td><td>undefined</td><td>undefined</td><td>previous conv</td><td>null</td></tr><tr><td>FgRoz5VmmJQFNt0bi6WnwA</td><td>2018-12-19</td><td>2018-12-19T10:01:07.077+0000</td><td>2018-12-19T10:01:09.714+0000</td><td>AB</td><td>abbandonata</td><td>undefined</td><td>undefined</td><td>previous conv</td><td>null</td></tr><tr><td>B8rzMP7C5pK29hlUXMqgzZ</td><td>2018-12-19</td><td>2018-12-19T10:05:53.354+0000</td><td>2018-12-19T10:05:56.681+0000</td><td>AB</td><td>abbandonata</td><td>undefined</td><td>undefined</td><td>previous conv</td><td>null</td></tr><tr><td>A3bJjFKywlIFMysFZ89BEV</td><td>2018-12-19</td><td>2018-12-19T10:02:55.551+0000</td><td>2018-12-19T10:02:58.278+0000</td><td>AB</td><td>abbandonata</td><td>undefined</td><td>undefined</td><td>previous conv</td><td>null</td></tr><tr><td>3LBCTNlKN9UIa5rX50RCPm</td><td>2018-12-19</td><td>2018-12-19T10:05:42.353+0000</td><td>2018-12-19T10:05:45.205+0000</td><td>AB</td><td>abbandonata</td><td>undefined</td><td>undefined</td><td>previous conv</td><td>null</td></tr><tr><td>4LVBWfr9qAjAzjNrubFjFt</td><td>2018-12-19</td><td>2018-12-19T10:08:01.717+0000</td><td>2018-12-19T10:08:04.906+0000</td><td>AB</td><td>abbandonata</td><td>undefined</td><td>undefined</td><td>previous conv</td><td>null</td></tr><tr><td>1cqBnYLEMnz5Q7VQQ2Klht</td><td>2018-12-19</td><td>2018-12-19T10:03:53.695+0000</td><td>2018-12-19T10:03:54.320+0000</td><td>AB</td><td>abbandonata</td><td>undefined</td><td>undefined</td><td>previous conv</td><td>null</td></tr><tr><td>4FBfp9KanczHdXX9qX7FRZ</td><td>2018-12-19</td><td>2018-12-19T10:07:43.100+0000</td><td>2018-12-19T10:07:45.974+0000</td><td>AB</td><td>abbandonata</td><td>undefined</td><td>undefined</td><td>previous conv</td><td>null</td></tr><tr><td>6WY96nYFoPeBmXoDJ12KPk</td><td>2018-12-19</td><td>2018-12-19T10:06:56.634+0000</td><td>2018-12-19T10:06:59.638+0000</td><td>AB</td><td>abbandonata</td><td>undefined</td><td>undefined</td><td>previous conv</td><td>null</td></tr><tr><td>75UAd0AAJxH3pF5fjXpLlW</td><td>2018-12-19</td><td>2018-12-19T10:05:32.434+0000</td><td>2018-12-19T10:05:33.545+0000</td><td>AB</td><td>abbandonata</td><td>undefined</td><td>undefined</td><td>previous conv</td><td>null</td></tr><tr><td>KIesfCH9IJv2fLqmnaGc1k</td><td>2018-12-19</td><td>2018-12-19T10:00:11.366+0000</td><td>2018-12-19T10:00:14.444+0000</td><td>AB</td><td>abbandonata</td><td>undefined</td><td>undefined</td><td>previous conv</td><td>null</td></tr><tr><td>2qwuLDoR7X0J8uaodKVF2K</td><td>2018-12-19</td><td>2018-12-19T10:08:35.859+0000</td><td>2018-12-19T10:08:39.382+0000</td><td>AB</td><td>abbandonata</td><td>undefined</td><td>undefined</td><td>previous conv</td><td>null</td></tr><tr><td>L5zNP9a1r1ED6r2QvRhdLX</td><td>2018-12-19</td><td>2018-12-19T10:04:59.970+0000</td><td>2018-12-19T10:05:02.796+0000</td><td>AB</td><td>abbandonata</td><td>undefined</td><td>undefined</td><td>previous conv</td><td>null</td></tr><tr><td>D301ilHH2Uo8NWPCHDI7iE</td><td>2018-12-19</td><td>2018-12-19T10:04:30.620+0000</td><td>2018-12-19T10:04:33.729+0000</td><td>AB</td><td>abbandonata</td><td>undefined</td><td>undefined</td><td>previous conv</td><td>null</td></tr><tr><td>9yyHHtJPwAmDxilFf26HaZ</td><td>2018-12-19</td><td>2018-12-19T10:03:38.779+0000</td><td>2018-12-19T10:03:41.515+0000</td><td>AB</td><td>abbandonata</td><td>undefined</td><td>undefined</td><td>previous conv</td><td>null</td></tr><tr><td>JEBXXIfay3m328mWQLvL0x</td><td>2018-11-12</td><td>2018-11-12T14:07:54.379+0000</td><td>2018-11-12T14:55:34.613+0000</td><td>AB</td><td>abbandonata</td><td>undefined</td><td>undefined</td><td>new conv</td><td>2018-12-19T17:56:09.146+0000</td></tr><tr><td>2v35A6jYpUCF0y4W9RJRWT</td><td>2018-12-19</td><td>2018-12-19T10:00:38.299+0000</td><td>2018-12-19T10:00:40.952+0000</td><td>AB</td><td>abbandonata</td><td>undefined</td><td>undefined</td><td>previous conv</td><td>null</td></tr><tr><td>7iJ2QLGRrveDOg9HjgJm4x</td><td>2018-12-19</td><td>2018-12-19T10:00:30.523+0000</td><td>2018-12-19T10:00:33.172+0000</td><td>AB</td><td>abbandonata</td><td>undefined</td><td>undefined</td><td>previous conv</td><td>null</td></tr><tr><td>99YA9K31AoFFXUUpWjL02b</td><td>2018-12-19</td><td>2018-12-19T10:03:47.995+0000</td><td>2018-12-19T10:03:48.750+0000</td><td>AB</td><td>abbandonata</td><td>undefined</td><td>undefined</td><td>previous conv</td><td>null</td></tr><tr><td>CTDx6aRWUbNKN5edGUeuH6</td><td>2018-12-19</td><td>2018-12-19T10:06:42.666+0000</td><td>2018-12-19T10:06:45.414+0000</td><td>AB</td><td>abbandonata</td><td>undefined</td><td>undefined</td><td>previous conv</td><td>null</td></tr><tr><td>1maN5RaTdzH89PhZYBHjWI</td><td>2018-12-19</td><td>2018-12-19T10:04:34.710+0000</td><td>2018-12-19T10:04:36.148+0000</td><td>AB</td><td>abbandonata</td><td>undefined</td><td>undefined</td><td>previous conv</td><td>null</td></tr><tr><td>2vCpCLlSS0F2O7AuX6FzH7</td><td>2018-12-19</td><td>2018-12-19T10:06:29.046+0000</td><td>2018-12-19T10:06:32.326+0000</td><td>AB</td><td>abbandonata</td><td>undefined</td><td>undefined</td><td>previous conv</td><td>null</td></tr><tr><td>KYK2HJkSZ8a3nghipVJbj9</td><td>2018-12-19</td><td>2018-12-19T10:02:45.990+0000</td><td>2018-12-19T10:02:48.673+0000</td><td>AB</td><td>abbandonata</td><td>undefined</td><td>undefined</td><td>previous conv</td><td>null</td></tr><tr><td>3zHaCjXn7AtELDvj0wTXNf</td><td>2018-12-19</td><td>2018-12-19T10:02:33.904+0000</td><td>2018-12-19T10:02:36.793+0000</td><td>AB</td><td>abbandonata</td><td>undefined</td><td>undefined</td><td>previous conv</td><td>null</td></tr><tr><td>1CY3JeMvsiCGxl3HQfFRXA</td><td>2018-12-19</td><td>2018-12-19T10:04:17.036+0000</td><td>2018-12-19T10:04:19.767+0000</td><td>AB</td><td>abbandonata</td><td>undefined</td><td>undefined</td><td>previous conv</td><td>null</td></tr><tr><td>5RCYVLGONapLew3SD2WrBD</td><td>2018-12-19</td><td>2018-12-19T10:04:37.923+0000</td><td>2018-12-19T10:04:39.205+0000</td><td>AB</td><td>abbandonata</td><td>undefined</td><td>undefined</td><td>previous conv</td><td>null</td></tr><tr><td>FmaadPOGBdKFYXbxDOTHfk</td><td>2018-12-19</td><td>2018-12-19T10:07:04.262+0000</td><td>2018-12-19T10:07:06.898+0000</td><td>AB</td><td>abbandonata</td><td>undefined</td><td>undefined</td><td>previous conv</td><td>null</td></tr><tr><td>GApzqyRtJHTGOdEoOQoKSZ</td><td>2018-12-19</td><td>2018-12-19T10:06:21.952+0000</td><td>2018-12-19T10:06:23.217+0000</td><td>AB</td><td>abbandonata</td><td>undefined</td><td>undefined</td><td>previous conv</td><td>null</td></tr><tr><td>GBs45imyGM4LhlCUxGtEKc</td><td>2018-12-19</td><td>2018-12-19T10:04:08.259+0000</td><td>2018-12-19T10:04:11.489+0000</td><td>AB</td><td>abbandonata</td><td>undefined</td><td>undefined</td><td>previous conv</td><td>null</td></tr><tr><td>rxgbVYO2feCTks69Eqe1t</td><td>2018-12-19</td><td>2018-12-19T10:06:15.850+0000</td><td>2018-12-19T10:06:16.623+0000</td><td>AB</td><td>abbandonata</td><td>undefined</td><td>undefined</td><td>previous conv</td><td>null</td></tr><tr><td>9zwREil2AQn9kzNLCbexOS</td><td>2018-12-19</td><td>2018-12-19T10:06:34.765+0000</td><td>2018-12-19T10:06:37.775+0000</td><td>AB</td><td>abbandonata</td><td>undefined</td><td>undefined</td><td>previous conv</td><td>null</td></tr><tr><td>FDyTLRhZzjV3BmjbE888IE</td><td>2018-12-19</td><td>2018-12-19T10:07:00.466+0000</td><td>2018-12-19T10:07:03.318+0000</td><td>AB</td><td>abbandonata</td><td>undefined</td><td>undefined</td><td>previous conv</td><td>null</td></tr><tr><td>LXPCvuK28M5HfgCKroBZxm</td><td>2018-12-19</td><td>2018-12-19T10:03:11.060+0000</td><td>2018-12-19T10:03:14.001+0000</td><td>AB</td><td>abbandonata</td><td>undefined</td><td>undefined</td><td>previous conv</td><td>null</td></tr><tr><td>1D0RA7haAQWEeoN1LS1aUr</td><td>2018-12-19</td><td>2018-12-19T10:03:07.275+0000</td><td>2018-12-19T10:03:10.033+0000</td><td>AB</td><td>abbandonata</td><td>undefined</td><td>undefined</td><td>previous conv</td><td>null</td></tr><tr><td>CQex95xvNIU54RdliVSeCG</td><td>2018-12-19</td><td>2018-12-19T10:03:15.186+0000</td><td>2018-12-19T10:03:18.368+0000</td><td>AB</td><td>abbandonata</td><td>undefined</td><td>undefined</td><td>previous conv</td><td>null</td></tr><tr><td>FGciej2AbIh5cVdBQonPbY</td><td>2018-12-19</td><td>2018-12-19T09:59:28.626+0000</td><td>2018-12-19T09:59:53.871+0000</td><td>AB</td><td>abbandonata</td><td>undefined</td><td>undefined</td><td>previous conv</td><td>null</td></tr><tr><td>41dECwGJ4EP16fkaIHLnGx</td><td>2018-12-19</td><td>2018-12-19T10:04:00.828+0000</td><td>2018-12-19T10:04:03.557+0000</td><td>AB</td><td>abbandonata</td><td>undefined</td><td>undefined</td><td>previous conv</td><td>null</td></tr><tr><td>4FLYXJ4AmKs8tr2mEcgpPH</td><td>2018-12-19</td><td>2018-12-19T10:02:37.904+0000</td><td>2018-12-19T10:02:40.709+0000</td><td>AB</td><td>abbandonata</td><td>undefined</td><td>undefined</td><td>previous conv</td><td>null</td></tr><tr><td>GNvI0JnYnICLtou4eRBNPj</td><td>2018-12-19</td><td>2018-12-19T10:05:08.368+0000</td><td>2018-12-19T10:05:11.175+0000</td><td>AB</td><td>abbandonata</td><td>undefined</td><td>undefined</td><td>previous conv</td><td>null</td></tr><tr><td>5hBGbHY46pXJWFzxIUyMhq</td><td>2018-12-19</td><td>2018-12-19T10:04:42.107+0000</td><td>2018-12-19T10:04:45.095+0000</td><td>AB</td><td>abbandonata</td><td>undefined</td><td>undefined</td><td>previous conv</td><td>null</td></tr><tr><td>EAz9wJpNQhh8hVksJr01gp</td><td>2018-12-19</td><td>2018-12-19T10:08:13.723+0000</td><td>2018-12-19T10:08:16.601+0000</td><td>AB</td><td>abbandonata</td><td>undefined</td><td>undefined</td><td>previous conv</td><td>null</td></tr><tr><td>9NW2I4U73DD6SLxlVPt0Xv</td><td>2018-12-19</td><td>2018-12-19T10:01:15.875+0000</td><td>2018-12-19T10:01:19.128+0000</td><td>AB</td><td>abbandonata</td><td>undefined</td><td>undefined</td><td>previous conv</td><td>null</td></tr><tr><td>J8vBjsmLkmM6cHR7D2IqeY</td><td>2018-12-19</td><td>2018-12-19T10:07:41.485+0000</td><td>2018-12-19T10:07:42.235+0000</td><td>AB</td><td>abbandonata</td><td>undefined</td><td>undefined</td><td>previous conv</td><td>null</td></tr><tr><td>9zxS0ZgGReQCh5Tpb0h8Rr</td><td>2018-12-19</td><td>2018-12-19T10:02:50.424+0000</td><td>2018-12-19T10:02:53.245+0000</td><td>AB</td><td>abbandonata</td><td>undefined</td><td>undefined</td><td>previous conv</td><td>null</td></tr><tr><td>K8DDgr3rbSa9ZEandyidsi</td><td>2018-12-19</td><td>2018-12-19T10:06:38.870+0000</td><td>2018-12-19T10:06:41.774+0000</td><td>AB</td><td>abbandonata</td><td>undefined</td><td>undefined</td><td>previous conv</td><td>null</td></tr><tr><td>DWrDYhvelv799Icj07pxmy</td><td>2018-12-19</td><td>2018-12-19T10:07:32.342+0000</td><td>2018-12-19T10:07:35.748+0000</td><td>AB</td><td>abbandonata</td><td>undefined</td><td>undefined</td><td>previous conv</td><td>null</td></tr><tr><td>5d1MqRk39PUDzbv4yhMGqr</td><td>2018-12-19</td><td>2018-12-19T10:05:12.144+0000</td><td>2018-12-19T10:05:13.301+0000</td><td>AB</td><td>abbandonata</td><td>undefined</td><td>undefined</td><td>previous conv</td><td>null</td></tr><tr><td>9pLQ0Ed5HZsAN1KYrCroFh</td><td>2018-12-19</td><td>2018-12-19T10:00:16.525+0000</td><td>2018-12-19T10:00:19.404+0000</td><td>AB</td><td>abbandonata</td><td>undefined</td><td>undefined</td><td>previous conv</td><td>null</td></tr><tr><td>Cj6DPKSSahDGrdBqHt6Llv</td><td>2018-12-19</td><td>2018-12-19T10:08:28.419+0000</td><td>2018-12-19T10:08:31.135+0000</td><td>AB</td><td>abbandonata</td><td>undefined</td><td>undefined</td><td>previous conv</td><td>null</td></tr><tr><td>4WIP9pNIryQ8Gor5rBbTxT</td><td>2018-12-19</td><td>2018-12-19T10:06:24.236+0000</td><td>2018-12-19T10:06:27.808+0000</td><td>AB</td><td>abbandonata</td><td>undefined</td><td>undefined</td><td>previous conv</td><td>null</td></tr><tr><td>CS4w17UrWtCtBP40vWeiF</td><td>2018-12-19</td><td>2018-12-19T10:00:51.777+0000</td><td>2018-12-19T10:00:54.589+0000</td><td>AB</td><td>abbandonata</td><td>undefined</td><td>undefined</td><td>previous conv</td><td>null</td></tr><tr><td>EnvKtprDT1c2KSIoSuT8CU</td><td>2018-12-19</td><td>2018-12-19T10:05:38.693+0000</td><td>2018-12-19T10:05:41.381+0000</td><td>AB</td><td>abbandonata</td><td>undefined</td><td>undefined</td><td>previous conv</td><td>null</td></tr></tbody></table></div>"
      ]
     },
     "metadata": {},
     "output_type": "display_data"
    }
   ],
   "source": [
    "allConversationsUpdated= allConversationsUpdated.select([col for col in allConversations.columns + ['Status', 'Recognition', 'StatusCode', 'RecognitionCode','DateUTCInsertRow'] ]).withColumn('ConversationStatus', when(allConversationsUpdated.Status.isNotNull(), allConversationsUpdated.Status).otherwise(allConversationsUpdated.ConversationStatus))\n",
    "\n",
    "allConversationsUpdated= allConversationsUpdated.withColumn('ConversationRecognitionCode', when(allConversationsUpdated.RecognitionCode.isNotNull(), allConversationsUpdated.RecognitionCode).otherwise(allConversationsUpdated.ConversationRecognitionCode)).withColumn('ConversationRecognition', when(allConversationsUpdated.Recognition.isNotNull(), allConversationsUpdated.Recognition).otherwise(allConversationsUpdated.ConversationRecognition)).withColumn('ConversationStatusCode', when(allConversationsUpdated.StatusCode.isNotNull(), allConversationsUpdated.StatusCode).otherwise(allConversationsUpdated.ConversationStatusCode))\n",
    "\n",
    "allConversationsUpdated= allConversationsUpdated.select([col for col in allConversations.columns + ['DateUTCInsertRow'] if col!= 'NewConvId'])\n",
    "display(allConversationsUpdated)\n",
    "\n",
    "# DateUTCInsertRow è valorizzato solo per quelle nuove, solamente perchè per quelle vecchie il codice era diverso..."
   ]
  },
  {
   "cell_type": "code",
   "execution_count": 87,
   "metadata": {},
   "outputs": [
    {
     "data": {
      "text/html": [
       "<style scoped>\n",
       "  .ansiout {\n",
       "    display: block;\n",
       "    unicode-bidi: embed;\n",
       "    white-space: pre-wrap;\n",
       "    word-wrap: break-word;\n",
       "    word-break: break-all;\n",
       "    font-family: \"Source Code Pro\", \"Menlo\", monospace;;\n",
       "    font-size: 13px;\n",
       "    color: #555;\n",
       "    margin-left: 4px;\n",
       "    line-height: 19px;\n",
       "  }\n",
       "</style>\n",
       "<div class=\"ansiout\"></div>"
      ]
     },
     "metadata": {},
     "output_type": "display_data"
    }
   ],
   "source": [
    "##########################################################################################"
   ]
  },
  {
   "cell_type": "markdown",
   "metadata": {},
   "source": [
    "### Split: I separate Hot and Cold Conversations"
   ]
  },
  {
   "cell_type": "code",
   "execution_count": 89,
   "metadata": {},
   "outputs": [
    {
     "data": {
      "text/html": [
       "<style scoped>\n",
       "  .table-result-container {\n",
       "    max-height: 300px;\n",
       "    overflow: auto;\n",
       "  }\n",
       "  table, th, td {\n",
       "    border: 1px solid black;\n",
       "    border-collapse: collapse;\n",
       "  }\n",
       "  th, td {\n",
       "    padding: 5px;\n",
       "  }\n",
       "  th {\n",
       "    text-align: left;\n",
       "  }\n",
       "</style><div class='table-result-container'><table class='table-result'><thead style='background-color: white'><tr><th>ConversationId</th><th>ConversationStartDate</th><th>ConversationStartTime</th><th>ConversationEndTime</th><th>ConversationStatusCode</th><th>ConversationStatus</th><th>ConversationRecognitionCode</th><th>ConversationRecognition</th><th>recordType</th><th>DateUTCInsertRow</th></tr></thead><tbody><tr><td>7B0HJgE9ijNAHL1jPjChtq</td><td>2018-12-19</td><td>2018-12-19T09:59:58.615+0000</td><td>2018-12-19T10:00:01.362+0000</td><td>AB</td><td>abbandonata</td><td>undefined</td><td>undefined</td><td>previous conv</td><td>null</td></tr><tr><td>J2XpMj6qpqz1KvQbvZtk5q</td><td>2018-12-19</td><td>2018-12-19T10:07:54.357+0000</td><td>2018-12-19T10:07:57.099+0000</td><td>AB</td><td>abbandonata</td><td>undefined</td><td>undefined</td><td>previous conv</td><td>null</td></tr><tr><td>AV76YJrYqv8IRMzTI36tpW</td><td>2018-12-19</td><td>2018-12-19T10:06:11.685+0000</td><td>2018-12-19T10:06:14.778+0000</td><td>AB</td><td>abbandonata</td><td>undefined</td><td>undefined</td><td>previous conv</td><td>null</td></tr><tr><td>5c589WiBvSAGJRqJeYCipI</td><td>2018-12-19</td><td>2018-12-19T10:04:46.396+0000</td><td>2018-12-19T10:04:49.095+0000</td><td>AB</td><td>abbandonata</td><td>undefined</td><td>undefined</td><td>previous conv</td><td>null</td></tr><tr><td>5qvCp1zz8FEGRvqzzrI6QS</td><td>2018-12-19</td><td>2018-12-19T10:00:34.854+0000</td><td>2018-12-19T10:00:35.767+0000</td><td>CH</td><td>chiusa</td><td>NRIC</td><td>non riconosciuta</td><td>previous conv</td><td>null</td></tr><tr><td>6LRLPjJDLkQ85QplizAeFS</td><td>null</td><td>null</td><td>null</td><td>AB</td><td>abbandonata</td><td>undefined</td><td>undefined</td><td>previous conv</td><td>null</td></tr><tr><td>6LRLPjJDLkQ85QplizAeFS</td><td>null</td><td>null</td><td>null</td><td>CH</td><td>chiusa</td><td>undefined</td><td>undefined</td><td>previous conv</td><td>null</td></tr><tr><td>2Bi9prmuXhr3RTwBeOgfis</td><td>2018-12-19</td><td>2018-12-19T10:03:57.113+0000</td><td>2018-12-19T10:03:59.912+0000</td><td>AB</td><td>abbandonata</td><td>undefined</td><td>undefined</td><td>previous conv</td><td>null</td></tr><tr><td>9qn6DpEPlCmI89kgiaNs8v</td><td>2018-12-19</td><td>2018-12-19T10:01:44.270+0000</td><td>2018-12-19T10:01:47.835+0000</td><td>AB</td><td>abbandonata</td><td>undefined</td><td>undefined</td><td>previous conv</td><td>null</td></tr><tr><td>DwjuQDnNqmsDeFPwQDLqZX</td><td>2018-12-19</td><td>2018-12-19T10:05:22.290+0000</td><td>2018-12-19T10:05:25.040+0000</td><td>AB</td><td>abbandonata</td><td>undefined</td><td>undefined</td><td>previous conv</td><td>null</td></tr><tr><td>KZosmVlhc687ta61GSesrQ</td><td>2018-12-19</td><td>2018-12-19T10:00:20.482+0000</td><td>2018-12-19T10:00:25.549+0000</td><td>AB</td><td>abbandonata</td><td>undefined</td><td>undefined</td><td>previous conv</td><td>null</td></tr><tr><td>FbU0aqsFtkO2WTdF7APKVz</td><td>2018-12-19</td><td>2018-12-19T10:00:07.346+0000</td><td>2018-12-19T10:00:10.203+0000</td><td>AB</td><td>abbandonata</td><td>undefined</td><td>undefined</td><td>previous conv</td><td>null</td></tr><tr><td>HniTlWei0TCKZX95ogQrSp</td><td>2018-12-19</td><td>2018-12-19T10:01:24.169+0000</td><td>2018-12-19T10:01:27.289+0000</td><td>AB</td><td>abbandonata</td><td>undefined</td><td>undefined</td><td>previous conv</td><td>null</td></tr><tr><td>GRoece1WEVoFgz9NTtWoOd</td><td>2018-12-19</td><td>2018-12-19T10:04:40.198+0000</td><td>2018-12-19T10:04:41.052+0000</td><td>AB</td><td>abbandonata</td><td>undefined</td><td>undefined</td><td>previous conv</td><td>null</td></tr><tr><td>1M8jFfZHTnj8X4ilE85gR7</td><td>2018-12-19</td><td>2018-12-19T10:07:15.717+0000</td><td>2018-12-19T10:07:18.590+0000</td><td>AB</td><td>abbandonata</td><td>undefined</td><td>undefined</td><td>previous conv</td><td>null</td></tr><tr><td>J9Y3a8ZXxU9BU2v6XMsUQ1</td><td>2018-12-19</td><td>2018-12-19T10:01:29.825+0000</td><td>2018-12-19T10:01:32.970+0000</td><td>AB</td><td>abbandonata</td><td>undefined</td><td>undefined</td><td>previous conv</td><td>null</td></tr><tr><td>IPdfT30YRoLJ3YmQKspm3v</td><td>2018-12-19</td><td>2018-12-19T10:07:23.801+0000</td><td>2018-12-19T10:07:27.141+0000</td><td>AB</td><td>abbandonata</td><td>undefined</td><td>undefined</td><td>previous conv</td><td>null</td></tr><tr><td>ARORT7V3gkd1N2Agc9dv0d</td><td>2018-12-19</td><td>2018-12-19T10:08:43.881+0000</td><td>2018-12-19T10:08:46.843+0000</td><td>AB</td><td>abbandonata</td><td>undefined</td><td>undefined</td><td>previous conv</td><td>null</td></tr><tr><td>FuUSysAtbn8AkoKjJ6Qzbo</td><td>2018-12-19</td><td>2018-12-19T10:07:57.974+0000</td><td>2018-12-19T10:08:00.816+0000</td><td>AB</td><td>abbandonata</td><td>undefined</td><td>undefined</td><td>previous conv</td><td>null</td></tr><tr><td>1Fj9IX6jUel4pxfWFsQXhZ</td><td>2018-12-19</td><td>2018-12-19T10:06:05.634+0000</td><td>2018-12-19T10:06:06.321+0000</td><td>AB</td><td>abbandonata</td><td>undefined</td><td>undefined</td><td>previous conv</td><td>null</td></tr><tr><td>9d0atysnvH5Q9LhdmSEqo</td><td>2018-12-19</td><td>2018-12-19T10:03:03.316+0000</td><td>2018-12-19T10:03:06.115+0000</td><td>AB</td><td>abbandonata</td><td>undefined</td><td>undefined</td><td>previous conv</td><td>null</td></tr><tr><td>CAnAofgPpxxGKTw7ytbQPy</td><td>2018-12-19</td><td>2018-12-19T10:01:37.501+0000</td><td>2018-12-19T10:01:40.915+0000</td><td>AB</td><td>abbandonata</td><td>undefined</td><td>undefined</td><td>previous conv</td><td>null</td></tr><tr><td>21j4N9vh5jAJtG7qSjkDa2</td><td>2018-12-19</td><td>2018-12-19T10:05:27.887+0000</td><td>2018-12-19T10:05:29.128+0000</td><td>AB</td><td>abbandonata</td><td>undefined</td><td>undefined</td><td>previous conv</td><td>null</td></tr><tr><td>21j4N9vh5jAJtG7qSjkDa2</td><td>2018-12-19</td><td>2018-12-19T10:05:27.887+0000</td><td>2018-12-19T10:05:29.128+0000</td><td>AB</td><td>abbandonata</td><td>undefined</td><td>undefined</td><td>previous conv</td><td>null</td></tr><tr><td>3BrzSpxS6g3A5b9pHtU6mQ</td><td>2018-12-19</td><td>2018-12-19T10:00:46.011+0000</td><td>2018-12-19T10:00:50.725+0000</td><td>AB</td><td>abbandonata</td><td>undefined</td><td>undefined</td><td>previous conv</td><td>null</td></tr><tr><td>C2oJJD3kvuWBKRNfCqsjkl</td><td>2018-12-19</td><td>2018-12-19T10:07:50.791+0000</td><td>2018-12-19T10:07:53.466+0000</td><td>AB</td><td>abbandonata</td><td>undefined</td><td>undefined</td><td>previous conv</td><td>null</td></tr><tr><td>6AyID3tlZuoJNsOLDEhuij</td><td>2018-12-19</td><td>2018-12-19T10:08:40.163+0000</td><td>2018-12-19T10:08:42.779+0000</td><td>AB</td><td>abbandonata</td><td>undefined</td><td>undefined</td><td>previous conv</td><td>null</td></tr><tr><td>5sZzyaniZ6A5jAfHsIV5He</td><td>2018-12-19</td><td>2018-12-19T10:06:07.676+0000</td><td>2018-12-19T10:06:10.422+0000</td><td>AB</td><td>abbandonata</td><td>undefined</td><td>undefined</td><td>previous conv</td><td>null</td></tr><tr><td>8mkbRBVLXnqB1DyyZ1pVcZ</td><td>2018-11-12</td><td>2018-11-12T14:09:18.462+0000</td><td>2018-11-12T14:57:54.130+0000</td><td>CH</td><td>chiusa</td><td>undefined</td><td>undefined</td><td>new conv</td><td>2018-12-19T18:02:40.310+0000</td></tr><tr><td>8Nsx30Rhm5hEwIGXG34QJm</td><td>2018-12-19</td><td>2018-12-19T10:03:31.114+0000</td><td>2018-12-19T10:03:33.834+0000</td><td>AB</td><td>abbandonata</td><td>undefined</td><td>undefined</td><td>previous conv</td><td>null</td></tr><tr><td>F3LKGkFRUk4a1xx4OE1fX</td><td>2018-12-19</td><td>2018-12-19T10:04:25.215+0000</td><td>2018-12-19T10:04:28.534+0000</td><td>AB</td><td>abbandonata</td><td>undefined</td><td>undefined</td><td>previous conv</td><td>null</td></tr><tr><td>BzhxA91vI9j6ALbLaGqrUB</td><td>2018-12-19</td><td>2018-12-19T10:00:41.954+0000</td><td>2018-12-19T10:00:44.717+0000</td><td>AB</td><td>abbandonata</td><td>undefined</td><td>undefined</td><td>previous conv</td><td>null</td></tr><tr><td>GwfnIAGN3jQ6r0FL8M54S9</td><td>2018-12-19</td><td>2018-12-19T10:03:46.418+0000</td><td>2018-12-19T10:03:47.131+0000</td><td>AB</td><td>abbandonata</td><td>undefined</td><td>undefined</td><td>previous conv</td><td>null</td></tr><tr><td>cBbBHV0ogp4wDWGcdIg5c</td><td>2018-12-19</td><td>2018-12-19T10:06:17.889+0000</td><td>2018-12-19T10:06:20.943+0000</td><td>AB</td><td>abbandonata</td><td>undefined</td><td>undefined</td><td>previous conv</td><td>null</td></tr><tr><td>8F00qVkn7DR1fmGzC8v4mO</td><td>2018-12-19</td><td>2018-12-19T10:02:59.683+0000</td><td>2018-12-19T10:03:02.298+0000</td><td>AB</td><td>abbandonata</td><td>undefined</td><td>undefined</td><td>previous conv</td><td>null</td></tr><tr><td>AsdW4gXehJqBlFZu1HAgjD</td><td>2018-12-19</td><td>2018-12-19T10:03:42.473+0000</td><td>2018-12-19T10:03:45.364+0000</td><td>AB</td><td>abbandonata</td><td>undefined</td><td>undefined</td><td>previous conv</td><td>null</td></tr><tr><td>KuARJ6GQdSLKGtKtTXs8cl</td><td>2018-12-19</td><td>2018-12-19T10:08:24.665+0000</td><td>2018-12-19T10:08:27.319+0000</td><td>AB</td><td>abbandonata</td><td>undefined</td><td>undefined</td><td>previous conv</td><td>null</td></tr><tr><td>Jax87NP1gxb5HI2k0jn9FI</td><td>2018-12-19</td><td>2018-12-19T10:03:23.459+0000</td><td>2018-12-19T10:03:26.039+0000</td><td>AB</td><td>abbandonata</td><td>undefined</td><td>undefined</td><td>previous conv</td><td>null</td></tr><tr><td>FmX1fvVEr859hmD37RoWM</td><td>2018-12-19</td><td>2018-12-19T10:05:57.997+0000</td><td>2018-12-19T10:06:00.672+0000</td><td>AB</td><td>abbandonata</td><td>undefined</td><td>undefined</td><td>previous conv</td><td>null</td></tr><tr><td>3aR6jgOgVpEA2ENI9QpKgo</td><td>2018-12-19</td><td>2018-12-19T10:02:29.290+0000</td><td>2018-12-19T10:02:32.801+0000</td><td>AB</td><td>abbandonata</td><td>undefined</td><td>undefined</td><td>previous conv</td><td>null</td></tr><tr><td>9ANTgUQN2Xg6tcfv1gm0xK</td><td>2018-12-19</td><td>2018-12-19T10:07:19.582+0000</td><td>2018-12-19T10:07:22.330+0000</td><td>AB</td><td>abbandonata</td><td>undefined</td><td>undefined</td><td>previous conv</td><td>null</td></tr><tr><td>DQeTDuAElyULRHOSWYR09Q</td><td>2018-12-19</td><td>2018-12-19T10:00:36.731+0000</td><td>2018-12-19T10:00:37.350+0000</td><td>AB</td><td>abbandonata</td><td>undefined</td><td>undefined</td><td>previous conv</td><td>null</td></tr><tr><td>3mc4jWwQNEqK5WXoPNeQ7a</td><td>2018-12-19</td><td>2018-12-19T10:07:08.036+0000</td><td>2018-12-19T10:07:10.904+0000</td><td>AB</td><td>abbandonata</td><td>undefined</td><td>undefined</td><td>previous conv</td><td>null</td></tr><tr><td>73XlEir5OkHBTN72Axrbt6</td><td>2018-12-19</td><td>2018-12-19T10:04:12.402+0000</td><td>2018-12-19T10:04:16.050+0000</td><td>AB</td><td>abbandonata</td><td>undefined</td><td>undefined</td><td>previous conv</td><td>null</td></tr><tr><td>7Z1mILVDw9NGnSwqbNwWhw</td><td>2018-12-19</td><td>2018-12-19T10:01:20.545+0000</td><td>2018-12-19T10:01:23.215+0000</td><td>AB</td><td>abbandonata</td><td>undefined</td><td>undefined</td><td>previous conv</td><td>null</td></tr><tr><td>C63uKVWVRLE16OzclU3BWe</td><td>2018-12-19</td><td>2018-12-19T10:04:04.480+0000</td><td>2018-12-19T10:04:07.304+0000</td><td>AB</td><td>abbandonata</td><td>undefined</td><td>undefined</td><td>previous conv</td><td>null</td></tr><tr><td>Iuqr9dNC9gtAjbX1DtJUgG</td><td>2018-12-19</td><td>2018-12-19T10:08:32.042+0000</td><td>2018-12-19T10:08:34.821+0000</td><td>AB</td><td>abbandonata</td><td>undefined</td><td>undefined</td><td>previous conv</td><td>null</td></tr><tr><td>1hX9IDyqbT0GprwRN1r68T</td><td>2018-12-19</td><td>2018-12-19T10:00:59.968+0000</td><td>2018-12-19T10:01:01.300+0000</td><td>AB</td><td>abbandonata</td><td>undefined</td><td>undefined</td><td>previous conv</td><td>null</td></tr><tr><td>AnVPlFA3IvM7KrlUyJH4kZ</td><td>2018-12-19</td><td>2018-12-19T10:08:17.431+0000</td><td>2018-12-19T10:08:20.235+0000</td><td>AB</td><td>abbandonata</td><td>undefined</td><td>undefined</td><td>previous conv</td><td>null</td></tr><tr><td>5MN4sLhBqsn80XnS1kGBsf</td><td>2018-12-19</td><td>2018-12-19T10:05:30.157+0000</td><td>2018-12-19T10:05:31.321+0000</td><td>AB</td><td>abbandonata</td><td>undefined</td><td>undefined</td><td>previous conv</td><td>null</td></tr><tr><td>GMY71ftXJxGKhSQRHfVkmC</td><td>2018-12-19</td><td>2018-12-19T10:01:02.401+0000</td><td>2018-12-19T10:01:05.274+0000</td><td>AB</td><td>abbandonata</td><td>undefined</td><td>undefined</td><td>previous conv</td><td>null</td></tr><tr><td>HtEkIhHG0PKnFbUZBXlOP</td><td>2018-12-19</td><td>2018-12-19T10:06:46.478+0000</td><td>2018-12-19T10:06:49.204+0000</td><td>AB</td><td>abbandonata</td><td>undefined</td><td>undefined</td><td>previous conv</td><td>null</td></tr><tr><td>KYwBoagLyVcLtPNYSFXQKh</td><td>2018-12-19</td><td>2018-12-19T10:05:14.550+0000</td><td>2018-12-19T10:05:17.227+0000</td><td>AB</td><td>abbandonata</td><td>undefined</td><td>undefined</td><td>previous conv</td><td>null</td></tr><tr><td>8kitDpL2NY16G6leGYtey5</td><td>2018-12-19</td><td>2018-12-19T10:03:55.393+0000</td><td>2018-12-19T10:03:55.985+0000</td><td>AB</td><td>abbandonata</td><td>undefined</td><td>undefined</td><td>previous conv</td><td>null</td></tr><tr><td>cIuWCRyeTNI7cNJOVfRuA</td><td>2018-12-19</td><td>2018-12-19T10:01:49.067+0000</td><td>2018-12-19T10:01:51.881+0000</td><td>AB</td><td>abbandonata</td><td>undefined</td><td>undefined</td><td>previous conv</td><td>null</td></tr><tr><td>7eG8cr6HhuUH1DOiFhPwxm</td><td>2018-12-19</td><td>2018-12-19T10:00:26.680+0000</td><td>2018-12-19T10:00:29.481+0000</td><td>AB</td><td>abbandonata</td><td>undefined</td><td>undefined</td><td>previous conv</td><td>null</td></tr><tr><td>9LA9JDlXeMQGVDEmSM0j0O</td><td>2018-12-19</td><td>2018-12-19T10:03:35.087+0000</td><td>2018-12-19T10:03:37.872+0000</td><td>AB</td><td>abbandonata</td><td>undefined</td><td>undefined</td><td>previous conv</td><td>null</td></tr><tr><td>KHgwZCGqZZhGPc0gX23cXM</td><td>2018-12-19</td><td>2018-12-19T10:07:28.288+0000</td><td>2018-12-19T10:07:31.178+0000</td><td>AB</td><td>abbandonata</td><td>undefined</td><td>undefined</td><td>previous conv</td><td>null</td></tr><tr><td>Du6Mqu5ZpkMBGld2nEdy7n</td><td>2018-12-19</td><td>2018-12-19T10:04:21.047+0000</td><td>2018-12-19T10:04:23.925+0000</td><td>AB</td><td>abbandonata</td><td>undefined</td><td>undefined</td><td>previous conv</td><td>null</td></tr><tr><td>UMJLJS5z18LAQ41eeD4k6</td><td>2018-12-19</td><td>2018-12-19T10:07:11.972+0000</td><td>2018-12-19T10:07:14.784+0000</td><td>AB</td><td>abbandonata</td><td>undefined</td><td>undefined</td><td>previous conv</td><td>null</td></tr><tr><td>EuKF17dnMtZFlwOOcqYAQT</td><td>2018-12-19</td><td>2018-12-19T10:01:41.910+0000</td><td>2018-12-19T10:01:42.933+0000</td><td>AB</td><td>abbandonata</td><td>undefined</td><td>undefined</td><td>previous conv</td><td>null</td></tr><tr><td>o30E4AgKZEBvzwt8z0mSm</td><td>2018-12-19</td><td>2018-12-19T10:07:37.129+0000</td><td>2018-12-19T10:07:40.464+0000</td><td>AB</td><td>abbandonata</td><td>undefined</td><td>undefined</td><td>previous conv</td><td>null</td></tr><tr><td>CHDaaq0jgMv56UCkTGO25d</td><td>2018-12-19</td><td>2018-12-19T10:00:55.622+0000</td><td>2018-12-19T10:00:58.647+0000</td><td>AB</td><td>abbandonata</td><td>undefined</td><td>undefined</td><td>previous conv</td><td>null</td></tr><tr><td>7kHOh4sAkz2HcBRONuiTtZ</td><td>2018-12-19</td><td>2018-12-19T10:06:01.903+0000</td><td>2018-12-19T10:06:04.656+0000</td><td>AB</td><td>abbandonata</td><td>undefined</td><td>undefined</td><td>previous conv</td><td>null</td></tr><tr><td>FAG236sgmDvDGQ97XYvboj</td><td>2018-12-19</td><td>2018-12-19T10:04:51.292+0000</td><td>2018-12-19T10:04:54.679+0000</td><td>AB</td><td>abbandonata</td><td>undefined</td><td>undefined</td><td>previous conv</td><td>null</td></tr><tr><td>645Qfm6VqKe6hGMMV3GS79</td><td>2018-12-19</td><td>2018-12-19T10:05:03.959+0000</td><td>2018-12-19T10:05:07.162+0000</td><td>AB</td><td>abbandonata</td><td>undefined</td><td>undefined</td><td>previous conv</td><td>null</td></tr><tr><td>9iLbHEU5llmKRmI4y8Hh9n</td><td>2018-12-19</td><td>2018-12-19T10:03:27.087+0000</td><td>2018-12-19T10:03:30.039+0000</td><td>AB</td><td>abbandonata</td><td>undefined</td><td>undefined</td><td>previous conv</td><td>null</td></tr><tr><td>6lZLp1aNzv3FsJlqmT9bN4</td><td>2018-12-19</td><td>2018-12-19T10:07:47.184+0000</td><td>2018-12-19T10:07:49.827+0000</td><td>AB</td><td>abbandonata</td><td>undefined</td><td>undefined</td><td>previous conv</td><td>null</td></tr><tr><td>HiqRnfKJN997NCSb4Hu1Vy</td><td>2018-12-19</td><td>2018-12-19T10:02:41.674+0000</td><td>2018-12-19T10:02:44.842+0000</td><td>AB</td><td>abbandonata</td><td>undefined</td><td>undefined</td><td>previous conv</td><td>null</td></tr><tr><td>6O0YIYrf1iZBgDImJeBmaf</td><td>2018-12-19</td><td>2018-12-19T10:00:02.339+0000</td><td>2018-12-19T10:00:05.573+0000</td><td>AB</td><td>abbandonata</td><td>undefined</td><td>undefined</td><td>previous conv</td><td>null</td></tr><tr><td>KvbgYIyVnAVA2lPB5jcM6O</td><td>2018-12-19</td><td>2018-12-19T10:03:19.585+0000</td><td>2018-12-19T10:03:22.364+0000</td><td>AB</td><td>abbandonata</td><td>undefined</td><td>undefined</td><td>previous conv</td><td>null</td></tr><tr><td>777Qsjs3i8qJyBr95zABbk</td><td>2018-11-12</td><td>2018-11-12T13:58:00.081+0000</td><td>2018-11-12T13:59:32.347+0000</td><td>AB</td><td>abbandonata</td><td>undefined</td><td>undefined</td><td>new conv</td><td>2018-12-19T18:02:40.310+0000</td></tr><tr><td>777Qsjs3i8qJyBr95zABbk</td><td>2018-11-12</td><td>2018-11-12T13:58:00.081+0000</td><td>2018-11-12T13:59:32.347+0000</td><td>AB</td><td>abbandonata</td><td>undefined</td><td>undefined</td><td>new conv</td><td>2018-12-19T18:02:40.310+0000</td></tr><tr><td>AVyTtDGwhXfKdTpyfgTLu</td><td>2018-12-19</td><td>2018-12-19T10:05:47.376+0000</td><td>2018-12-19T10:05:50.096+0000</td><td>AB</td><td>abbandonata</td><td>undefined</td><td>undefined</td><td>previous conv</td><td>null</td></tr><tr><td>6NBZH9mqT6YA2tUSxEQ8UL</td><td>2018-12-19</td><td>2018-12-19T10:06:50.146+0000</td><td>2018-12-19T10:06:53.320+0000</td><td>AB</td><td>abbandonata</td><td>undefined</td><td>undefined</td><td>previous conv</td><td>null</td></tr><tr><td>AuZMvVCU5Od7iBPgRifTsb</td><td>2018-12-19</td><td>2018-12-19T10:08:05.719+0000</td><td>2018-12-19T10:08:09.270+0000</td><td>AB</td><td>abbandonata</td><td>undefined</td><td>undefined</td><td>previous conv</td><td>null</td></tr><tr><td>2cpS4QCdLps7ycDeAxodOz</td><td>2018-11-12</td><td>2018-11-12T13:57:54.672+0000</td><td>2018-11-12T14:07:45.439+0000</td><td>AB</td><td>abbandonata</td><td>undefined</td><td>undefined</td><td>new conv</td><td>2018-12-19T18:02:40.310+0000</td></tr><tr><td>GqYB5uiuTXo36XO5tqLasS</td><td>2018-12-19</td><td>2018-12-19T10:04:55.875+0000</td><td>2018-12-19T10:04:58.722+0000</td><td>AB</td><td>abbandonata</td><td>undefined</td><td>undefined</td><td>previous conv</td><td>null</td></tr><tr><td>Ad7zs6BcoQVBotmADRikzz</td><td>2018-12-19</td><td>2018-12-19T10:05:26.037+0000</td><td>2018-12-19T10:05:26.863+0000</td><td>AB</td><td>abbandonata</td><td>undefined</td><td>undefined</td><td>previous conv</td><td>null</td></tr><tr><td>BR0ofouBvVyCutUwNFrDKx</td><td>2018-12-19</td><td>2018-12-19T10:03:49.737+0000</td><td>2018-12-19T10:03:52.547+0000</td><td>AB</td><td>abbandonata</td><td>undefined</td><td>undefined</td><td>previous conv</td><td>null</td></tr><tr><td>2RBQeAT3StU8rbUF9AJLOq</td><td>2018-12-19</td><td>2018-12-19T10:08:10.070+0000</td><td>2018-12-19T10:08:12.786+0000</td><td>AB</td><td>abbandonata</td><td>undefined</td><td>undefined</td><td>previous conv</td><td>null</td></tr><tr><td>l3Q4Js0oxiISv7lv8yIVK</td><td>2018-12-19</td><td>2018-12-19T10:05:18.586+0000</td><td>2018-12-19T10:05:21.270+0000</td><td>AB</td><td>abbandonata</td><td>undefined</td><td>undefined</td><td>previous conv</td><td>null</td></tr><tr><td>4iBjCmp5TQeDvRE6mrAalZ</td><td>2018-12-19</td><td>2018-12-19T10:05:34.525+0000</td><td>2018-12-19T10:05:37.644+0000</td><td>AB</td><td>abbandonata</td><td>undefined</td><td>undefined</td><td>previous conv</td><td>null</td></tr><tr><td>GKW8mE2ve3RKm2JptHVKDT</td><td>2018-12-19</td><td>2018-12-19T10:01:11.397+0000</td><td>2018-12-19T10:01:14.155+0000</td><td>AB</td><td>abbandonata</td><td>undefined</td><td>undefined</td><td>previous conv</td><td>null</td></tr><tr><td>DTl4YwKX00v1yAtN4SqHFn</td><td>2018-12-19</td><td>2018-12-19T10:08:21.100+0000</td><td>2018-12-19T10:08:23.789+0000</td><td>AB</td><td>abbandonata</td><td>undefined</td><td>undefined</td><td>previous conv</td><td>null</td></tr><tr><td>FgRoz5VmmJQFNt0bi6WnwA</td><td>2018-12-19</td><td>2018-12-19T10:01:07.077+0000</td><td>2018-12-19T10:01:09.714+0000</td><td>AB</td><td>abbandonata</td><td>undefined</td><td>undefined</td><td>previous conv</td><td>null</td></tr><tr><td>B8rzMP7C5pK29hlUXMqgzZ</td><td>2018-12-19</td><td>2018-12-19T10:05:53.354+0000</td><td>2018-12-19T10:05:56.681+0000</td><td>AB</td><td>abbandonata</td><td>undefined</td><td>undefined</td><td>previous conv</td><td>null</td></tr><tr><td>A3bJjFKywlIFMysFZ89BEV</td><td>2018-12-19</td><td>2018-12-19T10:02:55.551+0000</td><td>2018-12-19T10:02:58.278+0000</td><td>AB</td><td>abbandonata</td><td>undefined</td><td>undefined</td><td>previous conv</td><td>null</td></tr><tr><td>3LBCTNlKN9UIa5rX50RCPm</td><td>2018-12-19</td><td>2018-12-19T10:05:42.353+0000</td><td>2018-12-19T10:05:45.205+0000</td><td>AB</td><td>abbandonata</td><td>undefined</td><td>undefined</td><td>previous conv</td><td>null</td></tr><tr><td>4LVBWfr9qAjAzjNrubFjFt</td><td>2018-12-19</td><td>2018-12-19T10:08:01.717+0000</td><td>2018-12-19T10:08:04.906+0000</td><td>AB</td><td>abbandonata</td><td>undefined</td><td>undefined</td><td>previous conv</td><td>null</td></tr><tr><td>1cqBnYLEMnz5Q7VQQ2Klht</td><td>2018-12-19</td><td>2018-12-19T10:03:53.695+0000</td><td>2018-12-19T10:03:54.320+0000</td><td>AB</td><td>abbandonata</td><td>undefined</td><td>undefined</td><td>previous conv</td><td>null</td></tr><tr><td>4FBfp9KanczHdXX9qX7FRZ</td><td>2018-12-19</td><td>2018-12-19T10:07:43.100+0000</td><td>2018-12-19T10:07:45.974+0000</td><td>AB</td><td>abbandonata</td><td>undefined</td><td>undefined</td><td>previous conv</td><td>null</td></tr><tr><td>6WY96nYFoPeBmXoDJ12KPk</td><td>2018-12-19</td><td>2018-12-19T10:06:56.634+0000</td><td>2018-12-19T10:06:59.638+0000</td><td>AB</td><td>abbandonata</td><td>undefined</td><td>undefined</td><td>previous conv</td><td>null</td></tr><tr><td>75UAd0AAJxH3pF5fjXpLlW</td><td>2018-12-19</td><td>2018-12-19T10:05:32.434+0000</td><td>2018-12-19T10:05:33.545+0000</td><td>AB</td><td>abbandonata</td><td>undefined</td><td>undefined</td><td>previous conv</td><td>null</td></tr><tr><td>KIesfCH9IJv2fLqmnaGc1k</td><td>2018-12-19</td><td>2018-12-19T10:00:11.366+0000</td><td>2018-12-19T10:00:14.444+0000</td><td>AB</td><td>abbandonata</td><td>undefined</td><td>undefined</td><td>previous conv</td><td>null</td></tr><tr><td>2qwuLDoR7X0J8uaodKVF2K</td><td>2018-12-19</td><td>2018-12-19T10:08:35.859+0000</td><td>2018-12-19T10:08:39.382+0000</td><td>AB</td><td>abbandonata</td><td>undefined</td><td>undefined</td><td>previous conv</td><td>null</td></tr><tr><td>L5zNP9a1r1ED6r2QvRhdLX</td><td>2018-12-19</td><td>2018-12-19T10:04:59.970+0000</td><td>2018-12-19T10:05:02.796+0000</td><td>AB</td><td>abbandonata</td><td>undefined</td><td>undefined</td><td>previous conv</td><td>null</td></tr><tr><td>D301ilHH2Uo8NWPCHDI7iE</td><td>2018-12-19</td><td>2018-12-19T10:04:30.620+0000</td><td>2018-12-19T10:04:33.729+0000</td><td>AB</td><td>abbandonata</td><td>undefined</td><td>undefined</td><td>previous conv</td><td>null</td></tr><tr><td>9yyHHtJPwAmDxilFf26HaZ</td><td>2018-12-19</td><td>2018-12-19T10:03:38.779+0000</td><td>2018-12-19T10:03:41.515+0000</td><td>AB</td><td>abbandonata</td><td>undefined</td><td>undefined</td><td>previous conv</td><td>null</td></tr><tr><td>JEBXXIfay3m328mWQLvL0x</td><td>2018-11-12</td><td>2018-11-12T14:07:54.379+0000</td><td>2018-11-12T14:55:34.613+0000</td><td>AB</td><td>abbandonata</td><td>undefined</td><td>undefined</td><td>new conv</td><td>2018-12-19T18:02:40.310+0000</td></tr><tr><td>2v35A6jYpUCF0y4W9RJRWT</td><td>2018-12-19</td><td>2018-12-19T10:00:38.299+0000</td><td>2018-12-19T10:00:40.952+0000</td><td>AB</td><td>abbandonata</td><td>undefined</td><td>undefined</td><td>previous conv</td><td>null</td></tr><tr><td>7iJ2QLGRrveDOg9HjgJm4x</td><td>2018-12-19</td><td>2018-12-19T10:00:30.523+0000</td><td>2018-12-19T10:00:33.172+0000</td><td>AB</td><td>abbandonata</td><td>undefined</td><td>undefined</td><td>previous conv</td><td>null</td></tr><tr><td>99YA9K31AoFFXUUpWjL02b</td><td>2018-12-19</td><td>2018-12-19T10:03:47.995+0000</td><td>2018-12-19T10:03:48.750+0000</td><td>AB</td><td>abbandonata</td><td>undefined</td><td>undefined</td><td>previous conv</td><td>null</td></tr><tr><td>CTDx6aRWUbNKN5edGUeuH6</td><td>2018-12-19</td><td>2018-12-19T10:06:42.666+0000</td><td>2018-12-19T10:06:45.414+0000</td><td>AB</td><td>abbandonata</td><td>undefined</td><td>undefined</td><td>previous conv</td><td>null</td></tr><tr><td>1maN5RaTdzH89PhZYBHjWI</td><td>2018-12-19</td><td>2018-12-19T10:04:34.710+0000</td><td>2018-12-19T10:04:36.148+0000</td><td>AB</td><td>abbandonata</td><td>undefined</td><td>undefined</td><td>previous conv</td><td>null</td></tr><tr><td>2vCpCLlSS0F2O7AuX6FzH7</td><td>2018-12-19</td><td>2018-12-19T10:06:29.046+0000</td><td>2018-12-19T10:06:32.326+0000</td><td>AB</td><td>abbandonata</td><td>undefined</td><td>undefined</td><td>previous conv</td><td>null</td></tr><tr><td>KYK2HJkSZ8a3nghipVJbj9</td><td>2018-12-19</td><td>2018-12-19T10:02:45.990+0000</td><td>2018-12-19T10:02:48.673+0000</td><td>AB</td><td>abbandonata</td><td>undefined</td><td>undefined</td><td>previous conv</td><td>null</td></tr><tr><td>3zHaCjXn7AtELDvj0wTXNf</td><td>2018-12-19</td><td>2018-12-19T10:02:33.904+0000</td><td>2018-12-19T10:02:36.793+0000</td><td>AB</td><td>abbandonata</td><td>undefined</td><td>undefined</td><td>previous conv</td><td>null</td></tr><tr><td>1CY3JeMvsiCGxl3HQfFRXA</td><td>2018-12-19</td><td>2018-12-19T10:04:17.036+0000</td><td>2018-12-19T10:04:19.767+0000</td><td>AB</td><td>abbandonata</td><td>undefined</td><td>undefined</td><td>previous conv</td><td>null</td></tr><tr><td>5RCYVLGONapLew3SD2WrBD</td><td>2018-12-19</td><td>2018-12-19T10:04:37.923+0000</td><td>2018-12-19T10:04:39.205+0000</td><td>AB</td><td>abbandonata</td><td>undefined</td><td>undefined</td><td>previous conv</td><td>null</td></tr><tr><td>FmaadPOGBdKFYXbxDOTHfk</td><td>2018-12-19</td><td>2018-12-19T10:07:04.262+0000</td><td>2018-12-19T10:07:06.898+0000</td><td>AB</td><td>abbandonata</td><td>undefined</td><td>undefined</td><td>previous conv</td><td>null</td></tr><tr><td>GApzqyRtJHTGOdEoOQoKSZ</td><td>2018-12-19</td><td>2018-12-19T10:06:21.952+0000</td><td>2018-12-19T10:06:23.217+0000</td><td>AB</td><td>abbandonata</td><td>undefined</td><td>undefined</td><td>previous conv</td><td>null</td></tr><tr><td>GBs45imyGM4LhlCUxGtEKc</td><td>2018-12-19</td><td>2018-12-19T10:04:08.259+0000</td><td>2018-12-19T10:04:11.489+0000</td><td>AB</td><td>abbandonata</td><td>undefined</td><td>undefined</td><td>previous conv</td><td>null</td></tr><tr><td>rxgbVYO2feCTks69Eqe1t</td><td>2018-12-19</td><td>2018-12-19T10:06:15.850+0000</td><td>2018-12-19T10:06:16.623+0000</td><td>AB</td><td>abbandonata</td><td>undefined</td><td>undefined</td><td>previous conv</td><td>null</td></tr><tr><td>9zwREil2AQn9kzNLCbexOS</td><td>2018-12-19</td><td>2018-12-19T10:06:34.765+0000</td><td>2018-12-19T10:06:37.775+0000</td><td>AB</td><td>abbandonata</td><td>undefined</td><td>undefined</td><td>previous conv</td><td>null</td></tr><tr><td>FDyTLRhZzjV3BmjbE888IE</td><td>2018-12-19</td><td>2018-12-19T10:07:00.466+0000</td><td>2018-12-19T10:07:03.318+0000</td><td>AB</td><td>abbandonata</td><td>undefined</td><td>undefined</td><td>previous conv</td><td>null</td></tr><tr><td>LXPCvuK28M5HfgCKroBZxm</td><td>2018-12-19</td><td>2018-12-19T10:03:11.060+0000</td><td>2018-12-19T10:03:14.001+0000</td><td>AB</td><td>abbandonata</td><td>undefined</td><td>undefined</td><td>previous conv</td><td>null</td></tr><tr><td>1D0RA7haAQWEeoN1LS1aUr</td><td>2018-12-19</td><td>2018-12-19T10:03:07.275+0000</td><td>2018-12-19T10:03:10.033+0000</td><td>AB</td><td>abbandonata</td><td>undefined</td><td>undefined</td><td>previous conv</td><td>null</td></tr><tr><td>CQex95xvNIU54RdliVSeCG</td><td>2018-12-19</td><td>2018-12-19T10:03:15.186+0000</td><td>2018-12-19T10:03:18.368+0000</td><td>AB</td><td>abbandonata</td><td>undefined</td><td>undefined</td><td>previous conv</td><td>null</td></tr><tr><td>FGciej2AbIh5cVdBQonPbY</td><td>2018-12-19</td><td>2018-12-19T09:59:28.626+0000</td><td>2018-12-19T09:59:53.871+0000</td><td>AB</td><td>abbandonata</td><td>undefined</td><td>undefined</td><td>previous conv</td><td>null</td></tr><tr><td>41dECwGJ4EP16fkaIHLnGx</td><td>2018-12-19</td><td>2018-12-19T10:04:00.828+0000</td><td>2018-12-19T10:04:03.557+0000</td><td>AB</td><td>abbandonata</td><td>undefined</td><td>undefined</td><td>previous conv</td><td>null</td></tr><tr><td>4FLYXJ4AmKs8tr2mEcgpPH</td><td>2018-12-19</td><td>2018-12-19T10:02:37.904+0000</td><td>2018-12-19T10:02:40.709+0000</td><td>AB</td><td>abbandonata</td><td>undefined</td><td>undefined</td><td>previous conv</td><td>null</td></tr><tr><td>GNvI0JnYnICLtou4eRBNPj</td><td>2018-12-19</td><td>2018-12-19T10:05:08.368+0000</td><td>2018-12-19T10:05:11.175+0000</td><td>AB</td><td>abbandonata</td><td>undefined</td><td>undefined</td><td>previous conv</td><td>null</td></tr><tr><td>5hBGbHY46pXJWFzxIUyMhq</td><td>2018-12-19</td><td>2018-12-19T10:04:42.107+0000</td><td>2018-12-19T10:04:45.095+0000</td><td>AB</td><td>abbandonata</td><td>undefined</td><td>undefined</td><td>previous conv</td><td>null</td></tr><tr><td>EAz9wJpNQhh8hVksJr01gp</td><td>2018-12-19</td><td>2018-12-19T10:08:13.723+0000</td><td>2018-12-19T10:08:16.601+0000</td><td>AB</td><td>abbandonata</td><td>undefined</td><td>undefined</td><td>previous conv</td><td>null</td></tr><tr><td>9NW2I4U73DD6SLxlVPt0Xv</td><td>2018-12-19</td><td>2018-12-19T10:01:15.875+0000</td><td>2018-12-19T10:01:19.128+0000</td><td>AB</td><td>abbandonata</td><td>undefined</td><td>undefined</td><td>previous conv</td><td>null</td></tr><tr><td>J8vBjsmLkmM6cHR7D2IqeY</td><td>2018-12-19</td><td>2018-12-19T10:07:41.485+0000</td><td>2018-12-19T10:07:42.235+0000</td><td>AB</td><td>abbandonata</td><td>undefined</td><td>undefined</td><td>previous conv</td><td>null</td></tr><tr><td>9zxS0ZgGReQCh5Tpb0h8Rr</td><td>2018-12-19</td><td>2018-12-19T10:02:50.424+0000</td><td>2018-12-19T10:02:53.245+0000</td><td>AB</td><td>abbandonata</td><td>undefined</td><td>undefined</td><td>previous conv</td><td>null</td></tr><tr><td>K8DDgr3rbSa9ZEandyidsi</td><td>2018-12-19</td><td>2018-12-19T10:06:38.870+0000</td><td>2018-12-19T10:06:41.774+0000</td><td>AB</td><td>abbandonata</td><td>undefined</td><td>undefined</td><td>previous conv</td><td>null</td></tr><tr><td>DWrDYhvelv799Icj07pxmy</td><td>2018-12-19</td><td>2018-12-19T10:07:32.342+0000</td><td>2018-12-19T10:07:35.748+0000</td><td>AB</td><td>abbandonata</td><td>undefined</td><td>undefined</td><td>previous conv</td><td>null</td></tr><tr><td>5d1MqRk39PUDzbv4yhMGqr</td><td>2018-12-19</td><td>2018-12-19T10:05:12.144+0000</td><td>2018-12-19T10:05:13.301+0000</td><td>AB</td><td>abbandonata</td><td>undefined</td><td>undefined</td><td>previous conv</td><td>null</td></tr><tr><td>9pLQ0Ed5HZsAN1KYrCroFh</td><td>2018-12-19</td><td>2018-12-19T10:00:16.525+0000</td><td>2018-12-19T10:00:19.404+0000</td><td>AB</td><td>abbandonata</td><td>undefined</td><td>undefined</td><td>previous conv</td><td>null</td></tr><tr><td>Cj6DPKSSahDGrdBqHt6Llv</td><td>2018-12-19</td><td>2018-12-19T10:08:28.419+0000</td><td>2018-12-19T10:08:31.135+0000</td><td>AB</td><td>abbandonata</td><td>undefined</td><td>undefined</td><td>previous conv</td><td>null</td></tr><tr><td>4WIP9pNIryQ8Gor5rBbTxT</td><td>2018-12-19</td><td>2018-12-19T10:06:24.236+0000</td><td>2018-12-19T10:06:27.808+0000</td><td>AB</td><td>abbandonata</td><td>undefined</td><td>undefined</td><td>previous conv</td><td>null</td></tr><tr><td>CS4w17UrWtCtBP40vWeiF</td><td>2018-12-19</td><td>2018-12-19T10:00:51.777+0000</td><td>2018-12-19T10:00:54.589+0000</td><td>AB</td><td>abbandonata</td><td>undefined</td><td>undefined</td><td>previous conv</td><td>null</td></tr><tr><td>EnvKtprDT1c2KSIoSuT8CU</td><td>2018-12-19</td><td>2018-12-19T10:05:38.693+0000</td><td>2018-12-19T10:05:41.381+0000</td><td>AB</td><td>abbandonata</td><td>undefined</td><td>undefined</td><td>previous conv</td><td>null</td></tr></tbody></table></div>"
      ]
     },
     "metadata": {},
     "output_type": "display_data"
    }
   ],
   "source": [
    "hotConversations= allConversationsUpdated.filter((allConversationsUpdated.ConversationStatus!= 'abbandonata') & (allConversationsUpdated.ConversationStatus!='chiusa'))\n",
    "coldConversations= allConversationsUpdated.filter((allConversationsUpdated.ConversationStatus=='abbandonata') | (allConversationsUpdated.ConversationStatus=='chiusa'))\n",
    "                                              \n",
    "display(coldConversations)  #sono 135"
   ]
  },
  {
   "cell_type": "code",
   "execution_count": 90,
   "metadata": {},
   "outputs": [
    {
     "data": {
      "text/html": [
       "<style scoped>\n",
       "  .ansiout {\n",
       "    display: block;\n",
       "    unicode-bidi: embed;\n",
       "    white-space: pre-wrap;\n",
       "    word-wrap: break-word;\n",
       "    word-break: break-all;\n",
       "    font-family: \"Source Code Pro\", \"Menlo\", monospace;;\n",
       "    font-size: 13px;\n",
       "    color: #555;\n",
       "    margin-left: 4px;\n",
       "    line-height: 19px;\n",
       "  }\n",
       "</style>\n",
       "<div class=\"ansiout\"></div>"
      ]
     },
     "metadata": {},
     "output_type": "display_data"
    }
   ],
   "source": [
    "hotConversations_noUTC= hotConversations.select([col for col in hotConversations.columns if col != 'DateUTCInsertRow'])\n",
    "coldConversations_noUTC= coldConversations.select([col for col in coldConversations.columns if col != 'DateUTCInsertRow'])"
   ]
  },
  {
   "cell_type": "code",
   "execution_count": 91,
   "metadata": {},
   "outputs": [
    {
     "data": {
      "text/html": [
       "<style scoped>\n",
       "  .table-result-container {\n",
       "    max-height: 300px;\n",
       "    overflow: auto;\n",
       "  }\n",
       "  table, th, td {\n",
       "    border: 1px solid black;\n",
       "    border-collapse: collapse;\n",
       "  }\n",
       "  th, td {\n",
       "    padding: 5px;\n",
       "  }\n",
       "  th {\n",
       "    text-align: left;\n",
       "  }\n",
       "</style><div class='table-result-container'><table class='table-result'><thead style='background-color: white'><tr><th>count(1)</th></tr></thead><tbody><tr><td>131</td></tr></tbody></table></div>"
      ]
     },
     "metadata": {},
     "output_type": "display_data"
    }
   ],
   "source": [
    "%sql\n",
    "SELECT count(*)\n",
    "FROM DEV.Conversations"
   ]
  },
  {
   "cell_type": "code",
   "execution_count": null,
   "metadata": {},
   "outputs": [],
   "source": [
    "\"\"\"IN TEORIA ADESSO SOVRASCRIVEREI COLD CONVERSATIONS (135 RECORDS) NELLA DELTA, MA MENTRE FACEVO QUESTI RUN STAVA RUN\n",
    "STAVA RUNNANDO ANCHE LA SCHEDULAZIONE CHE CANCELLA FILES E RECORDS DA Conversations E DA Events, per cui alla fine di questa\n",
    "parte 1 invece di avere 135 records su conversations, ne avrò solamente 5. Parte 2 non inizia quindi con 135 records ma 5.\"\"\""
   ]
  },
  {
   "cell_type": "markdown",
   "metadata": {},
   "source": [
    "## Saving Tables"
   ]
  },
  {
   "cell_type": "code",
   "execution_count": 92,
   "metadata": {},
   "outputs": [
    {
     "data": {
      "text/html": [
       "<style scoped>\n",
       "  .ansiout {\n",
       "    display: block;\n",
       "    unicode-bidi: embed;\n",
       "    white-space: pre-wrap;\n",
       "    word-wrap: break-word;\n",
       "    word-break: break-all;\n",
       "    font-family: \"Source Code Pro\", \"Menlo\", monospace;;\n",
       "    font-size: 13px;\n",
       "    color: #555;\n",
       "    margin-left: 4px;\n",
       "    line-height: 19px;\n",
       "  }\n",
       "</style>\n",
       "<div class=\"ansiout\"></div>"
      ]
     },
     "metadata": {},
     "output_type": "display_data"
    }
   ],
   "source": [
    "#write in delta table in OVERWRITE   DEV.Conversation\n",
    "#hotConversations.select([col for col in hotConversations.columns if col!= 'DateUTCInsertRow' ]).write.format(\"delta\").mode(\"overwrite\").save(\"/delta/\"+environment+\"/Conversations/\")\n",
    "hotConversations_noUTC.write.format(\"delta\").mode(\"overwrite\").save(\"/delta/\"+environment+\"/Conversations/\")"
   ]
  },
  {
   "cell_type": "code",
   "execution_count": 93,
   "metadata": {},
   "outputs": [
    {
     "data": {
      "text/html": [
       "<style scoped>\n",
       "  .ansiout {\n",
       "    display: block;\n",
       "    unicode-bidi: embed;\n",
       "    white-space: pre-wrap;\n",
       "    word-wrap: break-word;\n",
       "    word-break: break-all;\n",
       "    font-family: \"Source Code Pro\", \"Menlo\", monospace;;\n",
       "    font-size: 13px;\n",
       "    color: #555;\n",
       "    margin-left: 4px;\n",
       "    line-height: 19px;\n",
       "  }\n",
       "</style>\n",
       "<div class=\"ansiout\"></div>"
      ]
     },
     "metadata": {},
     "output_type": "display_data"
    }
   ],
   "source": [
    "#spark.sql select per far matchare campi con quelli del DataWharehouse\n",
    "hotConversations.createOrReplaceTempView(\"hotConversations\")\n",
    "\n",
    "sqlConversationsHot = spark.sql(\"\"\"\\\n",
    "SELECT ConversationId\n",
    ", ConversationStartDate\n",
    ", ConversationStartTime\n",
    ", ConversationEndTime\n",
    ", ConversationStatusCode\n",
    ", ConversationStatus\n",
    ", ConversationRecognitionCode\n",
    ", ConversationRecognition\n",
    ", 0 as Count_BotMessage\n",
    ", 0 as Count_UserMessage\n",
    ", 0 as Count_NotUnderstood\n",
    ", 0 as Count_Understood\n",
    ", 0 as Count_LeafEvent\n",
    ", 0 as Count_Ticket\n",
    ", 0 as Count_CloseEvent\n",
    ", 0 as Count_CloseByBot\n",
    ", '' as DateUTCInsertRow               -- 11/12/2018\n",
    ", '' as DateUTCInsertRow_Europe_Rome   -- 11/12/2018\n",
    "FROM hotConversations\n",
    "\"\"\")\n",
    "\n",
    "#display(sqlConversationsHot)"
   ]
  },
  {
   "cell_type": "code",
   "execution_count": 94,
   "metadata": {},
   "outputs": [
    {
     "data": {
      "text/html": [
       "<style scoped>\n",
       "  .table-result-container {\n",
       "    max-height: 300px;\n",
       "    overflow: auto;\n",
       "  }\n",
       "  table, th, td {\n",
       "    border: 1px solid black;\n",
       "    border-collapse: collapse;\n",
       "  }\n",
       "  th, td {\n",
       "    padding: 5px;\n",
       "  }\n",
       "  th {\n",
       "    text-align: left;\n",
       "  }\n",
       "</style><div class='table-result-container'><table class='table-result'><thead style='background-color: white'><tr><th>ConversationId</th><th>ConversationStartDate</th><th>ConversationStartTime</th><th>ConversationEndTime</th><th>ConversationStatusCode</th><th>ConversationStatus</th><th>ConversationRecognitionCode</th><th>ConversationRecognition</th><th>Count_BotMessage</th><th>Count_UserMessage</th><th>Count_NotUnderstood</th><th>Count_Understood</th><th>Count_LeafEvent</th><th>Count_Ticket</th><th>Count_CloseEvent</th><th>Count_CloseByBot</th><th>DateUTCInsertRow</th><th>DateUTCInsertRow_Europe_Rome</th></tr></thead><tbody><tr><td>7B0HJgE9ijNAHL1jPjChtq</td><td>2018-12-19</td><td>2018-12-19T09:59:58.615+0000</td><td>2018-12-19T10:00:01.362+0000</td><td>AB</td><td>abbandonata</td><td>undefined</td><td>undefined</td><td>0</td><td>0</td><td>0</td><td>0</td><td>0</td><td>0</td><td>0</td><td>0</td><td>2018-12-19T12:21:18.084+0000</td><td></td></tr><tr><td>J2XpMj6qpqz1KvQbvZtk5q</td><td>2018-12-19</td><td>2018-12-19T10:07:54.357+0000</td><td>2018-12-19T10:07:57.099+0000</td><td>AB</td><td>abbandonata</td><td>undefined</td><td>undefined</td><td>0</td><td>0</td><td>0</td><td>0</td><td>0</td><td>0</td><td>0</td><td>0</td><td>2018-12-19T12:21:18.084+0000</td><td></td></tr><tr><td>AV76YJrYqv8IRMzTI36tpW</td><td>2018-12-19</td><td>2018-12-19T10:06:11.685+0000</td><td>2018-12-19T10:06:14.778+0000</td><td>AB</td><td>abbandonata</td><td>undefined</td><td>undefined</td><td>0</td><td>0</td><td>0</td><td>0</td><td>0</td><td>0</td><td>0</td><td>0</td><td>2018-12-19T12:21:18.084+0000</td><td></td></tr><tr><td>5c589WiBvSAGJRqJeYCipI</td><td>2018-12-19</td><td>2018-12-19T10:04:46.396+0000</td><td>2018-12-19T10:04:49.095+0000</td><td>AB</td><td>abbandonata</td><td>undefined</td><td>undefined</td><td>0</td><td>0</td><td>0</td><td>0</td><td>0</td><td>0</td><td>0</td><td>0</td><td>2018-12-19T12:21:18.084+0000</td><td></td></tr><tr><td>5qvCp1zz8FEGRvqzzrI6QS</td><td>2018-12-19</td><td>2018-12-19T10:00:34.854+0000</td><td>2018-12-19T10:00:35.767+0000</td><td>CH</td><td>chiusa</td><td>NRIC</td><td>non riconosciuta</td><td>0</td><td>0</td><td>0</td><td>0</td><td>0</td><td>0</td><td>0</td><td>0</td><td>2018-12-19T12:21:18.084+0000</td><td></td></tr><tr><td>6LRLPjJDLkQ85QplizAeFS</td><td>null</td><td>null</td><td>null</td><td>AB</td><td>abbandonata</td><td>undefined</td><td>undefined</td><td>0</td><td>0</td><td>0</td><td>0</td><td>0</td><td>0</td><td>0</td><td>0</td><td>null</td><td></td></tr><tr><td>6LRLPjJDLkQ85QplizAeFS</td><td>null</td><td>null</td><td>null</td><td>CH</td><td>chiusa</td><td>undefined</td><td>undefined</td><td>0</td><td>0</td><td>0</td><td>0</td><td>0</td><td>0</td><td>0</td><td>0</td><td>null</td><td></td></tr><tr><td>2Bi9prmuXhr3RTwBeOgfis</td><td>2018-12-19</td><td>2018-12-19T10:03:57.113+0000</td><td>2018-12-19T10:03:59.912+0000</td><td>AB</td><td>abbandonata</td><td>undefined</td><td>undefined</td><td>0</td><td>0</td><td>0</td><td>0</td><td>0</td><td>0</td><td>0</td><td>0</td><td>2018-12-19T12:21:18.084+0000</td><td></td></tr><tr><td>9qn6DpEPlCmI89kgiaNs8v</td><td>2018-12-19</td><td>2018-12-19T10:01:44.270+0000</td><td>2018-12-19T10:01:47.835+0000</td><td>AB</td><td>abbandonata</td><td>undefined</td><td>undefined</td><td>0</td><td>0</td><td>0</td><td>0</td><td>0</td><td>0</td><td>0</td><td>0</td><td>2018-12-19T12:21:18.084+0000</td><td></td></tr><tr><td>DwjuQDnNqmsDeFPwQDLqZX</td><td>2018-12-19</td><td>2018-12-19T10:05:22.290+0000</td><td>2018-12-19T10:05:25.040+0000</td><td>AB</td><td>abbandonata</td><td>undefined</td><td>undefined</td><td>0</td><td>0</td><td>0</td><td>0</td><td>0</td><td>0</td><td>0</td><td>0</td><td>2018-12-19T12:21:18.084+0000</td><td></td></tr><tr><td>KZosmVlhc687ta61GSesrQ</td><td>2018-12-19</td><td>2018-12-19T10:00:20.482+0000</td><td>2018-12-19T10:00:25.549+0000</td><td>AB</td><td>abbandonata</td><td>undefined</td><td>undefined</td><td>0</td><td>0</td><td>0</td><td>0</td><td>0</td><td>0</td><td>0</td><td>0</td><td>2018-12-19T12:21:18.084+0000</td><td></td></tr><tr><td>FbU0aqsFtkO2WTdF7APKVz</td><td>2018-12-19</td><td>2018-12-19T10:00:07.346+0000</td><td>2018-12-19T10:00:10.203+0000</td><td>AB</td><td>abbandonata</td><td>undefined</td><td>undefined</td><td>0</td><td>0</td><td>0</td><td>0</td><td>0</td><td>0</td><td>0</td><td>0</td><td>2018-12-19T12:21:18.084+0000</td><td></td></tr><tr><td>HniTlWei0TCKZX95ogQrSp</td><td>2018-12-19</td><td>2018-12-19T10:01:24.169+0000</td><td>2018-12-19T10:01:27.289+0000</td><td>AB</td><td>abbandonata</td><td>undefined</td><td>undefined</td><td>0</td><td>0</td><td>0</td><td>0</td><td>0</td><td>0</td><td>0</td><td>0</td><td>2018-12-19T12:21:18.084+0000</td><td></td></tr><tr><td>GRoece1WEVoFgz9NTtWoOd</td><td>2018-12-19</td><td>2018-12-19T10:04:40.198+0000</td><td>2018-12-19T10:04:41.052+0000</td><td>AB</td><td>abbandonata</td><td>undefined</td><td>undefined</td><td>0</td><td>0</td><td>0</td><td>0</td><td>0</td><td>0</td><td>0</td><td>0</td><td>2018-12-19T12:21:18.084+0000</td><td></td></tr><tr><td>1M8jFfZHTnj8X4ilE85gR7</td><td>2018-12-19</td><td>2018-12-19T10:07:15.717+0000</td><td>2018-12-19T10:07:18.590+0000</td><td>AB</td><td>abbandonata</td><td>undefined</td><td>undefined</td><td>0</td><td>0</td><td>0</td><td>0</td><td>0</td><td>0</td><td>0</td><td>0</td><td>2018-12-19T12:21:18.084+0000</td><td></td></tr><tr><td>J9Y3a8ZXxU9BU2v6XMsUQ1</td><td>2018-12-19</td><td>2018-12-19T10:01:29.825+0000</td><td>2018-12-19T10:01:32.970+0000</td><td>AB</td><td>abbandonata</td><td>undefined</td><td>undefined</td><td>0</td><td>0</td><td>0</td><td>0</td><td>0</td><td>0</td><td>0</td><td>0</td><td>2018-12-19T12:21:18.084+0000</td><td></td></tr><tr><td>IPdfT30YRoLJ3YmQKspm3v</td><td>2018-12-19</td><td>2018-12-19T10:07:23.801+0000</td><td>2018-12-19T10:07:27.141+0000</td><td>AB</td><td>abbandonata</td><td>undefined</td><td>undefined</td><td>0</td><td>0</td><td>0</td><td>0</td><td>0</td><td>0</td><td>0</td><td>0</td><td>2018-12-19T12:21:18.084+0000</td><td></td></tr><tr><td>ARORT7V3gkd1N2Agc9dv0d</td><td>2018-12-19</td><td>2018-12-19T10:08:43.881+0000</td><td>2018-12-19T10:08:46.843+0000</td><td>AB</td><td>abbandonata</td><td>undefined</td><td>undefined</td><td>0</td><td>0</td><td>0</td><td>0</td><td>0</td><td>0</td><td>0</td><td>0</td><td>2018-12-19T12:21:18.084+0000</td><td></td></tr><tr><td>FuUSysAtbn8AkoKjJ6Qzbo</td><td>2018-12-19</td><td>2018-12-19T10:07:57.974+0000</td><td>2018-12-19T10:08:00.816+0000</td><td>AB</td><td>abbandonata</td><td>undefined</td><td>undefined</td><td>0</td><td>0</td><td>0</td><td>0</td><td>0</td><td>0</td><td>0</td><td>0</td><td>2018-12-19T12:21:18.084+0000</td><td></td></tr><tr><td>1Fj9IX6jUel4pxfWFsQXhZ</td><td>2018-12-19</td><td>2018-12-19T10:06:05.634+0000</td><td>2018-12-19T10:06:06.321+0000</td><td>AB</td><td>abbandonata</td><td>undefined</td><td>undefined</td><td>0</td><td>0</td><td>0</td><td>0</td><td>0</td><td>0</td><td>0</td><td>0</td><td>2018-12-19T12:21:18.084+0000</td><td></td></tr><tr><td>9d0atysnvH5Q9LhdmSEqo</td><td>2018-12-19</td><td>2018-12-19T10:03:03.316+0000</td><td>2018-12-19T10:03:06.115+0000</td><td>AB</td><td>abbandonata</td><td>undefined</td><td>undefined</td><td>0</td><td>0</td><td>0</td><td>0</td><td>0</td><td>0</td><td>0</td><td>0</td><td>2018-12-19T12:21:18.084+0000</td><td></td></tr><tr><td>CAnAofgPpxxGKTw7ytbQPy</td><td>2018-12-19</td><td>2018-12-19T10:01:37.501+0000</td><td>2018-12-19T10:01:40.915+0000</td><td>AB</td><td>abbandonata</td><td>undefined</td><td>undefined</td><td>0</td><td>0</td><td>0</td><td>0</td><td>0</td><td>0</td><td>0</td><td>0</td><td>2018-12-19T12:21:18.084+0000</td><td></td></tr><tr><td>21j4N9vh5jAJtG7qSjkDa2</td><td>2018-12-19</td><td>2018-12-19T10:05:27.887+0000</td><td>2018-12-19T10:05:29.128+0000</td><td>AB</td><td>abbandonata</td><td>undefined</td><td>undefined</td><td>0</td><td>0</td><td>0</td><td>0</td><td>0</td><td>0</td><td>0</td><td>0</td><td>2018-12-19T12:21:18.084+0000</td><td></td></tr><tr><td>21j4N9vh5jAJtG7qSjkDa2</td><td>2018-12-19</td><td>2018-12-19T10:05:27.887+0000</td><td>2018-12-19T10:05:29.128+0000</td><td>AB</td><td>abbandonata</td><td>undefined</td><td>undefined</td><td>0</td><td>0</td><td>0</td><td>0</td><td>0</td><td>0</td><td>0</td><td>0</td><td>2018-12-19T12:21:18.084+0000</td><td></td></tr><tr><td>21j4N9vh5jAJtG7qSjkDa2</td><td>2018-12-19</td><td>2018-12-19T10:05:27.887+0000</td><td>2018-12-19T10:05:29.128+0000</td><td>AB</td><td>abbandonata</td><td>undefined</td><td>undefined</td><td>0</td><td>0</td><td>0</td><td>0</td><td>0</td><td>0</td><td>0</td><td>0</td><td>2018-12-19T12:21:18.084+0000</td><td></td></tr><tr><td>21j4N9vh5jAJtG7qSjkDa2</td><td>2018-12-19</td><td>2018-12-19T10:05:27.887+0000</td><td>2018-12-19T10:05:29.128+0000</td><td>AB</td><td>abbandonata</td><td>undefined</td><td>undefined</td><td>0</td><td>0</td><td>0</td><td>0</td><td>0</td><td>0</td><td>0</td><td>0</td><td>2018-12-19T12:21:18.084+0000</td><td></td></tr><tr><td>3BrzSpxS6g3A5b9pHtU6mQ</td><td>2018-12-19</td><td>2018-12-19T10:00:46.011+0000</td><td>2018-12-19T10:00:50.725+0000</td><td>AB</td><td>abbandonata</td><td>undefined</td><td>undefined</td><td>0</td><td>0</td><td>0</td><td>0</td><td>0</td><td>0</td><td>0</td><td>0</td><td>2018-12-19T12:21:18.084+0000</td><td></td></tr><tr><td>C2oJJD3kvuWBKRNfCqsjkl</td><td>2018-12-19</td><td>2018-12-19T10:07:50.791+0000</td><td>2018-12-19T10:07:53.466+0000</td><td>AB</td><td>abbandonata</td><td>undefined</td><td>undefined</td><td>0</td><td>0</td><td>0</td><td>0</td><td>0</td><td>0</td><td>0</td><td>0</td><td>2018-12-19T12:21:18.084+0000</td><td></td></tr><tr><td>6AyID3tlZuoJNsOLDEhuij</td><td>2018-12-19</td><td>2018-12-19T10:08:40.163+0000</td><td>2018-12-19T10:08:42.779+0000</td><td>AB</td><td>abbandonata</td><td>undefined</td><td>undefined</td><td>0</td><td>0</td><td>0</td><td>0</td><td>0</td><td>0</td><td>0</td><td>0</td><td>2018-12-19T12:21:18.084+0000</td><td></td></tr><tr><td>5sZzyaniZ6A5jAfHsIV5He</td><td>2018-12-19</td><td>2018-12-19T10:06:07.676+0000</td><td>2018-12-19T10:06:10.422+0000</td><td>AB</td><td>abbandonata</td><td>undefined</td><td>undefined</td><td>0</td><td>0</td><td>0</td><td>0</td><td>0</td><td>0</td><td>0</td><td>0</td><td>2018-12-19T12:21:18.084+0000</td><td></td></tr><tr><td>8Nsx30Rhm5hEwIGXG34QJm</td><td>2018-12-19</td><td>2018-12-19T10:03:31.114+0000</td><td>2018-12-19T10:03:33.834+0000</td><td>AB</td><td>abbandonata</td><td>undefined</td><td>undefined</td><td>0</td><td>0</td><td>0</td><td>0</td><td>0</td><td>0</td><td>0</td><td>0</td><td>2018-12-19T12:21:18.084+0000</td><td></td></tr><tr><td>F3LKGkFRUk4a1xx4OE1fX</td><td>2018-12-19</td><td>2018-12-19T10:04:25.215+0000</td><td>2018-12-19T10:04:28.534+0000</td><td>AB</td><td>abbandonata</td><td>undefined</td><td>undefined</td><td>0</td><td>0</td><td>0</td><td>0</td><td>0</td><td>0</td><td>0</td><td>0</td><td>2018-12-19T12:21:18.084+0000</td><td></td></tr><tr><td>BzhxA91vI9j6ALbLaGqrUB</td><td>2018-12-19</td><td>2018-12-19T10:00:41.954+0000</td><td>2018-12-19T10:00:44.717+0000</td><td>AB</td><td>abbandonata</td><td>undefined</td><td>undefined</td><td>0</td><td>0</td><td>0</td><td>0</td><td>0</td><td>0</td><td>0</td><td>0</td><td>2018-12-19T12:21:18.084+0000</td><td></td></tr><tr><td>GwfnIAGN3jQ6r0FL8M54S9</td><td>2018-12-19</td><td>2018-12-19T10:03:46.418+0000</td><td>2018-12-19T10:03:47.131+0000</td><td>AB</td><td>abbandonata</td><td>undefined</td><td>undefined</td><td>0</td><td>0</td><td>0</td><td>0</td><td>0</td><td>0</td><td>0</td><td>0</td><td>2018-12-19T12:21:18.084+0000</td><td></td></tr><tr><td>cBbBHV0ogp4wDWGcdIg5c</td><td>2018-12-19</td><td>2018-12-19T10:06:17.889+0000</td><td>2018-12-19T10:06:20.943+0000</td><td>AB</td><td>abbandonata</td><td>undefined</td><td>undefined</td><td>0</td><td>0</td><td>0</td><td>0</td><td>0</td><td>0</td><td>0</td><td>0</td><td>2018-12-19T12:21:18.084+0000</td><td></td></tr><tr><td>8F00qVkn7DR1fmGzC8v4mO</td><td>2018-12-19</td><td>2018-12-19T10:02:59.683+0000</td><td>2018-12-19T10:03:02.298+0000</td><td>AB</td><td>abbandonata</td><td>undefined</td><td>undefined</td><td>0</td><td>0</td><td>0</td><td>0</td><td>0</td><td>0</td><td>0</td><td>0</td><td>2018-12-19T12:21:18.084+0000</td><td></td></tr><tr><td>AsdW4gXehJqBlFZu1HAgjD</td><td>2018-12-19</td><td>2018-12-19T10:03:42.473+0000</td><td>2018-12-19T10:03:45.364+0000</td><td>AB</td><td>abbandonata</td><td>undefined</td><td>undefined</td><td>0</td><td>0</td><td>0</td><td>0</td><td>0</td><td>0</td><td>0</td><td>0</td><td>2018-12-19T12:21:18.084+0000</td><td></td></tr><tr><td>KuARJ6GQdSLKGtKtTXs8cl</td><td>2018-12-19</td><td>2018-12-19T10:08:24.665+0000</td><td>2018-12-19T10:08:27.319+0000</td><td>AB</td><td>abbandonata</td><td>undefined</td><td>undefined</td><td>0</td><td>0</td><td>0</td><td>0</td><td>0</td><td>0</td><td>0</td><td>0</td><td>2018-12-19T12:21:18.084+0000</td><td></td></tr><tr><td>Jax87NP1gxb5HI2k0jn9FI</td><td>2018-12-19</td><td>2018-12-19T10:03:23.459+0000</td><td>2018-12-19T10:03:26.039+0000</td><td>AB</td><td>abbandonata</td><td>undefined</td><td>undefined</td><td>0</td><td>0</td><td>0</td><td>0</td><td>0</td><td>0</td><td>0</td><td>0</td><td>2018-12-19T12:21:18.084+0000</td><td></td></tr><tr><td>FmX1fvVEr859hmD37RoWM</td><td>2018-12-19</td><td>2018-12-19T10:05:57.997+0000</td><td>2018-12-19T10:06:00.672+0000</td><td>AB</td><td>abbandonata</td><td>undefined</td><td>undefined</td><td>0</td><td>0</td><td>0</td><td>0</td><td>0</td><td>0</td><td>0</td><td>0</td><td>2018-12-19T12:21:18.084+0000</td><td></td></tr><tr><td>3aR6jgOgVpEA2ENI9QpKgo</td><td>2018-12-19</td><td>2018-12-19T10:02:29.290+0000</td><td>2018-12-19T10:02:32.801+0000</td><td>AB</td><td>abbandonata</td><td>undefined</td><td>undefined</td><td>0</td><td>0</td><td>0</td><td>0</td><td>0</td><td>0</td><td>0</td><td>0</td><td>2018-12-19T12:21:18.084+0000</td><td></td></tr><tr><td>9ANTgUQN2Xg6tcfv1gm0xK</td><td>2018-12-19</td><td>2018-12-19T10:07:19.582+0000</td><td>2018-12-19T10:07:22.330+0000</td><td>AB</td><td>abbandonata</td><td>undefined</td><td>undefined</td><td>0</td><td>0</td><td>0</td><td>0</td><td>0</td><td>0</td><td>0</td><td>0</td><td>2018-12-19T12:21:18.084+0000</td><td></td></tr><tr><td>DQeTDuAElyULRHOSWYR09Q</td><td>2018-12-19</td><td>2018-12-19T10:00:36.731+0000</td><td>2018-12-19T10:00:37.350+0000</td><td>AB</td><td>abbandonata</td><td>undefined</td><td>undefined</td><td>0</td><td>0</td><td>0</td><td>0</td><td>0</td><td>0</td><td>0</td><td>0</td><td>2018-12-19T12:21:18.084+0000</td><td></td></tr><tr><td>3mc4jWwQNEqK5WXoPNeQ7a</td><td>2018-12-19</td><td>2018-12-19T10:07:08.036+0000</td><td>2018-12-19T10:07:10.904+0000</td><td>AB</td><td>abbandonata</td><td>undefined</td><td>undefined</td><td>0</td><td>0</td><td>0</td><td>0</td><td>0</td><td>0</td><td>0</td><td>0</td><td>2018-12-19T12:21:18.084+0000</td><td></td></tr><tr><td>73XlEir5OkHBTN72Axrbt6</td><td>2018-12-19</td><td>2018-12-19T10:04:12.402+0000</td><td>2018-12-19T10:04:16.050+0000</td><td>AB</td><td>abbandonata</td><td>undefined</td><td>undefined</td><td>0</td><td>0</td><td>0</td><td>0</td><td>0</td><td>0</td><td>0</td><td>0</td><td>2018-12-19T12:21:18.084+0000</td><td></td></tr><tr><td>7Z1mILVDw9NGnSwqbNwWhw</td><td>2018-12-19</td><td>2018-12-19T10:01:20.545+0000</td><td>2018-12-19T10:01:23.215+0000</td><td>AB</td><td>abbandonata</td><td>undefined</td><td>undefined</td><td>0</td><td>0</td><td>0</td><td>0</td><td>0</td><td>0</td><td>0</td><td>0</td><td>2018-12-19T12:21:18.084+0000</td><td></td></tr><tr><td>C63uKVWVRLE16OzclU3BWe</td><td>2018-12-19</td><td>2018-12-19T10:04:04.480+0000</td><td>2018-12-19T10:04:07.304+0000</td><td>AB</td><td>abbandonata</td><td>undefined</td><td>undefined</td><td>0</td><td>0</td><td>0</td><td>0</td><td>0</td><td>0</td><td>0</td><td>0</td><td>2018-12-19T12:21:18.084+0000</td><td></td></tr><tr><td>Iuqr9dNC9gtAjbX1DtJUgG</td><td>2018-12-19</td><td>2018-12-19T10:08:32.042+0000</td><td>2018-12-19T10:08:34.821+0000</td><td>AB</td><td>abbandonata</td><td>undefined</td><td>undefined</td><td>0</td><td>0</td><td>0</td><td>0</td><td>0</td><td>0</td><td>0</td><td>0</td><td>2018-12-19T12:21:18.084+0000</td><td></td></tr><tr><td>1hX9IDyqbT0GprwRN1r68T</td><td>2018-12-19</td><td>2018-12-19T10:00:59.968+0000</td><td>2018-12-19T10:01:01.300+0000</td><td>AB</td><td>abbandonata</td><td>undefined</td><td>undefined</td><td>0</td><td>0</td><td>0</td><td>0</td><td>0</td><td>0</td><td>0</td><td>0</td><td>2018-12-19T12:21:18.084+0000</td><td></td></tr><tr><td>AnVPlFA3IvM7KrlUyJH4kZ</td><td>2018-12-19</td><td>2018-12-19T10:08:17.431+0000</td><td>2018-12-19T10:08:20.235+0000</td><td>AB</td><td>abbandonata</td><td>undefined</td><td>undefined</td><td>0</td><td>0</td><td>0</td><td>0</td><td>0</td><td>0</td><td>0</td><td>0</td><td>2018-12-19T12:21:18.084+0000</td><td></td></tr><tr><td>5MN4sLhBqsn80XnS1kGBsf</td><td>2018-12-19</td><td>2018-12-19T10:05:30.157+0000</td><td>2018-12-19T10:05:31.321+0000</td><td>AB</td><td>abbandonata</td><td>undefined</td><td>undefined</td><td>0</td><td>0</td><td>0</td><td>0</td><td>0</td><td>0</td><td>0</td><td>0</td><td>2018-12-19T12:21:18.084+0000</td><td></td></tr><tr><td>GMY71ftXJxGKhSQRHfVkmC</td><td>2018-12-19</td><td>2018-12-19T10:01:02.401+0000</td><td>2018-12-19T10:01:05.274+0000</td><td>AB</td><td>abbandonata</td><td>undefined</td><td>undefined</td><td>0</td><td>0</td><td>0</td><td>0</td><td>0</td><td>0</td><td>0</td><td>0</td><td>2018-12-19T12:21:18.084+0000</td><td></td></tr><tr><td>HtEkIhHG0PKnFbUZBXlOP</td><td>2018-12-19</td><td>2018-12-19T10:06:46.478+0000</td><td>2018-12-19T10:06:49.204+0000</td><td>AB</td><td>abbandonata</td><td>undefined</td><td>undefined</td><td>0</td><td>0</td><td>0</td><td>0</td><td>0</td><td>0</td><td>0</td><td>0</td><td>2018-12-19T12:21:18.084+0000</td><td></td></tr><tr><td>KYwBoagLyVcLtPNYSFXQKh</td><td>2018-12-19</td><td>2018-12-19T10:05:14.550+0000</td><td>2018-12-19T10:05:17.227+0000</td><td>AB</td><td>abbandonata</td><td>undefined</td><td>undefined</td><td>0</td><td>0</td><td>0</td><td>0</td><td>0</td><td>0</td><td>0</td><td>0</td><td>2018-12-19T12:21:18.084+0000</td><td></td></tr><tr><td>8kitDpL2NY16G6leGYtey5</td><td>2018-12-19</td><td>2018-12-19T10:03:55.393+0000</td><td>2018-12-19T10:03:55.985+0000</td><td>AB</td><td>abbandonata</td><td>undefined</td><td>undefined</td><td>0</td><td>0</td><td>0</td><td>0</td><td>0</td><td>0</td><td>0</td><td>0</td><td>2018-12-19T12:21:18.084+0000</td><td></td></tr><tr><td>cIuWCRyeTNI7cNJOVfRuA</td><td>2018-12-19</td><td>2018-12-19T10:01:49.067+0000</td><td>2018-12-19T10:01:51.881+0000</td><td>AB</td><td>abbandonata</td><td>undefined</td><td>undefined</td><td>0</td><td>0</td><td>0</td><td>0</td><td>0</td><td>0</td><td>0</td><td>0</td><td>2018-12-19T12:21:18.084+0000</td><td></td></tr><tr><td>7eG8cr6HhuUH1DOiFhPwxm</td><td>2018-12-19</td><td>2018-12-19T10:00:26.680+0000</td><td>2018-12-19T10:00:29.481+0000</td><td>AB</td><td>abbandonata</td><td>undefined</td><td>undefined</td><td>0</td><td>0</td><td>0</td><td>0</td><td>0</td><td>0</td><td>0</td><td>0</td><td>2018-12-19T12:21:18.084+0000</td><td></td></tr><tr><td>9LA9JDlXeMQGVDEmSM0j0O</td><td>2018-12-19</td><td>2018-12-19T10:03:35.087+0000</td><td>2018-12-19T10:03:37.872+0000</td><td>AB</td><td>abbandonata</td><td>undefined</td><td>undefined</td><td>0</td><td>0</td><td>0</td><td>0</td><td>0</td><td>0</td><td>0</td><td>0</td><td>2018-12-19T12:21:18.084+0000</td><td></td></tr><tr><td>KHgwZCGqZZhGPc0gX23cXM</td><td>2018-12-19</td><td>2018-12-19T10:07:28.288+0000</td><td>2018-12-19T10:07:31.178+0000</td><td>AB</td><td>abbandonata</td><td>undefined</td><td>undefined</td><td>0</td><td>0</td><td>0</td><td>0</td><td>0</td><td>0</td><td>0</td><td>0</td><td>2018-12-19T12:21:18.084+0000</td><td></td></tr><tr><td>Du6Mqu5ZpkMBGld2nEdy7n</td><td>2018-12-19</td><td>2018-12-19T10:04:21.047+0000</td><td>2018-12-19T10:04:23.925+0000</td><td>AB</td><td>abbandonata</td><td>undefined</td><td>undefined</td><td>0</td><td>0</td><td>0</td><td>0</td><td>0</td><td>0</td><td>0</td><td>0</td><td>2018-12-19T12:21:18.084+0000</td><td></td></tr><tr><td>UMJLJS5z18LAQ41eeD4k6</td><td>2018-12-19</td><td>2018-12-19T10:07:11.972+0000</td><td>2018-12-19T10:07:14.784+0000</td><td>AB</td><td>abbandonata</td><td>undefined</td><td>undefined</td><td>0</td><td>0</td><td>0</td><td>0</td><td>0</td><td>0</td><td>0</td><td>0</td><td>2018-12-19T12:21:18.084+0000</td><td></td></tr><tr><td>EuKF17dnMtZFlwOOcqYAQT</td><td>2018-12-19</td><td>2018-12-19T10:01:41.910+0000</td><td>2018-12-19T10:01:42.933+0000</td><td>AB</td><td>abbandonata</td><td>undefined</td><td>undefined</td><td>0</td><td>0</td><td>0</td><td>0</td><td>0</td><td>0</td><td>0</td><td>0</td><td>2018-12-19T12:21:18.084+0000</td><td></td></tr><tr><td>o30E4AgKZEBvzwt8z0mSm</td><td>2018-12-19</td><td>2018-12-19T10:07:37.129+0000</td><td>2018-12-19T10:07:40.464+0000</td><td>AB</td><td>abbandonata</td><td>undefined</td><td>undefined</td><td>0</td><td>0</td><td>0</td><td>0</td><td>0</td><td>0</td><td>0</td><td>0</td><td>2018-12-19T12:21:18.084+0000</td><td></td></tr><tr><td>CHDaaq0jgMv56UCkTGO25d</td><td>2018-12-19</td><td>2018-12-19T10:00:55.622+0000</td><td>2018-12-19T10:00:58.647+0000</td><td>AB</td><td>abbandonata</td><td>undefined</td><td>undefined</td><td>0</td><td>0</td><td>0</td><td>0</td><td>0</td><td>0</td><td>0</td><td>0</td><td>2018-12-19T12:21:18.084+0000</td><td></td></tr><tr><td>7kHOh4sAkz2HcBRONuiTtZ</td><td>2018-12-19</td><td>2018-12-19T10:06:01.903+0000</td><td>2018-12-19T10:06:04.656+0000</td><td>AB</td><td>abbandonata</td><td>undefined</td><td>undefined</td><td>0</td><td>0</td><td>0</td><td>0</td><td>0</td><td>0</td><td>0</td><td>0</td><td>2018-12-19T12:21:18.084+0000</td><td></td></tr><tr><td>FAG236sgmDvDGQ97XYvboj</td><td>2018-12-19</td><td>2018-12-19T10:04:51.292+0000</td><td>2018-12-19T10:04:54.679+0000</td><td>AB</td><td>abbandonata</td><td>undefined</td><td>undefined</td><td>0</td><td>0</td><td>0</td><td>0</td><td>0</td><td>0</td><td>0</td><td>0</td><td>2018-12-19T12:21:18.084+0000</td><td></td></tr><tr><td>645Qfm6VqKe6hGMMV3GS79</td><td>2018-12-19</td><td>2018-12-19T10:05:03.959+0000</td><td>2018-12-19T10:05:07.162+0000</td><td>AB</td><td>abbandonata</td><td>undefined</td><td>undefined</td><td>0</td><td>0</td><td>0</td><td>0</td><td>0</td><td>0</td><td>0</td><td>0</td><td>2018-12-19T12:21:18.084+0000</td><td></td></tr><tr><td>9iLbHEU5llmKRmI4y8Hh9n</td><td>2018-12-19</td><td>2018-12-19T10:03:27.087+0000</td><td>2018-12-19T10:03:30.039+0000</td><td>AB</td><td>abbandonata</td><td>undefined</td><td>undefined</td><td>0</td><td>0</td><td>0</td><td>0</td><td>0</td><td>0</td><td>0</td><td>0</td><td>2018-12-19T12:21:18.084+0000</td><td></td></tr><tr><td>6lZLp1aNzv3FsJlqmT9bN4</td><td>2018-12-19</td><td>2018-12-19T10:07:47.184+0000</td><td>2018-12-19T10:07:49.827+0000</td><td>AB</td><td>abbandonata</td><td>undefined</td><td>undefined</td><td>0</td><td>0</td><td>0</td><td>0</td><td>0</td><td>0</td><td>0</td><td>0</td><td>2018-12-19T12:21:18.084+0000</td><td></td></tr><tr><td>HiqRnfKJN997NCSb4Hu1Vy</td><td>2018-12-19</td><td>2018-12-19T10:02:41.674+0000</td><td>2018-12-19T10:02:44.842+0000</td><td>AB</td><td>abbandonata</td><td>undefined</td><td>undefined</td><td>0</td><td>0</td><td>0</td><td>0</td><td>0</td><td>0</td><td>0</td><td>0</td><td>2018-12-19T12:21:18.084+0000</td><td></td></tr><tr><td>6O0YIYrf1iZBgDImJeBmaf</td><td>2018-12-19</td><td>2018-12-19T10:00:02.339+0000</td><td>2018-12-19T10:00:05.573+0000</td><td>AB</td><td>abbandonata</td><td>undefined</td><td>undefined</td><td>0</td><td>0</td><td>0</td><td>0</td><td>0</td><td>0</td><td>0</td><td>0</td><td>2018-12-19T12:21:18.084+0000</td><td></td></tr><tr><td>KvbgYIyVnAVA2lPB5jcM6O</td><td>2018-12-19</td><td>2018-12-19T10:03:19.585+0000</td><td>2018-12-19T10:03:22.364+0000</td><td>AB</td><td>abbandonata</td><td>undefined</td><td>undefined</td><td>0</td><td>0</td><td>0</td><td>0</td><td>0</td><td>0</td><td>0</td><td>0</td><td>2018-12-19T12:21:18.084+0000</td><td></td></tr><tr><td>AVyTtDGwhXfKdTpyfgTLu</td><td>2018-12-19</td><td>2018-12-19T10:05:47.376+0000</td><td>2018-12-19T10:05:50.096+0000</td><td>AB</td><td>abbandonata</td><td>undefined</td><td>undefined</td><td>0</td><td>0</td><td>0</td><td>0</td><td>0</td><td>0</td><td>0</td><td>0</td><td>2018-12-19T12:21:18.084+0000</td><td></td></tr><tr><td>6NBZH9mqT6YA2tUSxEQ8UL</td><td>2018-12-19</td><td>2018-12-19T10:06:50.146+0000</td><td>2018-12-19T10:06:53.320+0000</td><td>AB</td><td>abbandonata</td><td>undefined</td><td>undefined</td><td>0</td><td>0</td><td>0</td><td>0</td><td>0</td><td>0</td><td>0</td><td>0</td><td>2018-12-19T12:21:18.084+0000</td><td></td></tr><tr><td>AuZMvVCU5Od7iBPgRifTsb</td><td>2018-12-19</td><td>2018-12-19T10:08:05.719+0000</td><td>2018-12-19T10:08:09.270+0000</td><td>AB</td><td>abbandonata</td><td>undefined</td><td>undefined</td><td>0</td><td>0</td><td>0</td><td>0</td><td>0</td><td>0</td><td>0</td><td>0</td><td>2018-12-19T12:21:18.084+0000</td><td></td></tr><tr><td>GqYB5uiuTXo36XO5tqLasS</td><td>2018-12-19</td><td>2018-12-19T10:04:55.875+0000</td><td>2018-12-19T10:04:58.722+0000</td><td>AB</td><td>abbandonata</td><td>undefined</td><td>undefined</td><td>0</td><td>0</td><td>0</td><td>0</td><td>0</td><td>0</td><td>0</td><td>0</td><td>2018-12-19T12:21:18.084+0000</td><td></td></tr><tr><td>Ad7zs6BcoQVBotmADRikzz</td><td>2018-12-19</td><td>2018-12-19T10:05:26.037+0000</td><td>2018-12-19T10:05:26.863+0000</td><td>AB</td><td>abbandonata</td><td>undefined</td><td>undefined</td><td>0</td><td>0</td><td>0</td><td>0</td><td>0</td><td>0</td><td>0</td><td>0</td><td>2018-12-19T12:21:18.084+0000</td><td></td></tr><tr><td>BR0ofouBvVyCutUwNFrDKx</td><td>2018-12-19</td><td>2018-12-19T10:03:49.737+0000</td><td>2018-12-19T10:03:52.547+0000</td><td>AB</td><td>abbandonata</td><td>undefined</td><td>undefined</td><td>0</td><td>0</td><td>0</td><td>0</td><td>0</td><td>0</td><td>0</td><td>0</td><td>2018-12-19T12:21:18.084+0000</td><td></td></tr><tr><td>2RBQeAT3StU8rbUF9AJLOq</td><td>2018-12-19</td><td>2018-12-19T10:08:10.070+0000</td><td>2018-12-19T10:08:12.786+0000</td><td>AB</td><td>abbandonata</td><td>undefined</td><td>undefined</td><td>0</td><td>0</td><td>0</td><td>0</td><td>0</td><td>0</td><td>0</td><td>0</td><td>2018-12-19T12:21:18.084+0000</td><td></td></tr><tr><td>l3Q4Js0oxiISv7lv8yIVK</td><td>2018-12-19</td><td>2018-12-19T10:05:18.586+0000</td><td>2018-12-19T10:05:21.270+0000</td><td>AB</td><td>abbandonata</td><td>undefined</td><td>undefined</td><td>0</td><td>0</td><td>0</td><td>0</td><td>0</td><td>0</td><td>0</td><td>0</td><td>2018-12-19T12:21:18.084+0000</td><td></td></tr><tr><td>4iBjCmp5TQeDvRE6mrAalZ</td><td>2018-12-19</td><td>2018-12-19T10:05:34.525+0000</td><td>2018-12-19T10:05:37.644+0000</td><td>AB</td><td>abbandonata</td><td>undefined</td><td>undefined</td><td>0</td><td>0</td><td>0</td><td>0</td><td>0</td><td>0</td><td>0</td><td>0</td><td>2018-12-19T12:21:18.084+0000</td><td></td></tr><tr><td>GKW8mE2ve3RKm2JptHVKDT</td><td>2018-12-19</td><td>2018-12-19T10:01:11.397+0000</td><td>2018-12-19T10:01:14.155+0000</td><td>AB</td><td>abbandonata</td><td>undefined</td><td>undefined</td><td>0</td><td>0</td><td>0</td><td>0</td><td>0</td><td>0</td><td>0</td><td>0</td><td>2018-12-19T12:21:18.084+0000</td><td></td></tr><tr><td>DTl4YwKX00v1yAtN4SqHFn</td><td>2018-12-19</td><td>2018-12-19T10:08:21.100+0000</td><td>2018-12-19T10:08:23.789+0000</td><td>AB</td><td>abbandonata</td><td>undefined</td><td>undefined</td><td>0</td><td>0</td><td>0</td><td>0</td><td>0</td><td>0</td><td>0</td><td>0</td><td>2018-12-19T12:21:18.084+0000</td><td></td></tr><tr><td>FgRoz5VmmJQFNt0bi6WnwA</td><td>2018-12-19</td><td>2018-12-19T10:01:07.077+0000</td><td>2018-12-19T10:01:09.714+0000</td><td>AB</td><td>abbandonata</td><td>undefined</td><td>undefined</td><td>0</td><td>0</td><td>0</td><td>0</td><td>0</td><td>0</td><td>0</td><td>0</td><td>2018-12-19T12:21:18.084+0000</td><td></td></tr><tr><td>B8rzMP7C5pK29hlUXMqgzZ</td><td>2018-12-19</td><td>2018-12-19T10:05:53.354+0000</td><td>2018-12-19T10:05:56.681+0000</td><td>AB</td><td>abbandonata</td><td>undefined</td><td>undefined</td><td>0</td><td>0</td><td>0</td><td>0</td><td>0</td><td>0</td><td>0</td><td>0</td><td>2018-12-19T12:21:18.084+0000</td><td></td></tr><tr><td>A3bJjFKywlIFMysFZ89BEV</td><td>2018-12-19</td><td>2018-12-19T10:02:55.551+0000</td><td>2018-12-19T10:02:58.278+0000</td><td>AB</td><td>abbandonata</td><td>undefined</td><td>undefined</td><td>0</td><td>0</td><td>0</td><td>0</td><td>0</td><td>0</td><td>0</td><td>0</td><td>2018-12-19T12:21:18.084+0000</td><td></td></tr><tr><td>3LBCTNlKN9UIa5rX50RCPm</td><td>2018-12-19</td><td>2018-12-19T10:05:42.353+0000</td><td>2018-12-19T10:05:45.205+0000</td><td>AB</td><td>abbandonata</td><td>undefined</td><td>undefined</td><td>0</td><td>0</td><td>0</td><td>0</td><td>0</td><td>0</td><td>0</td><td>0</td><td>2018-12-19T12:21:18.084+0000</td><td></td></tr><tr><td>4LVBWfr9qAjAzjNrubFjFt</td><td>2018-12-19</td><td>2018-12-19T10:08:01.717+0000</td><td>2018-12-19T10:08:04.906+0000</td><td>AB</td><td>abbandonata</td><td>undefined</td><td>undefined</td><td>0</td><td>0</td><td>0</td><td>0</td><td>0</td><td>0</td><td>0</td><td>0</td><td>2018-12-19T12:21:18.084+0000</td><td></td></tr><tr><td>1cqBnYLEMnz5Q7VQQ2Klht</td><td>2018-12-19</td><td>2018-12-19T10:03:53.695+0000</td><td>2018-12-19T10:03:54.320+0000</td><td>AB</td><td>abbandonata</td><td>undefined</td><td>undefined</td><td>0</td><td>0</td><td>0</td><td>0</td><td>0</td><td>0</td><td>0</td><td>0</td><td>2018-12-19T12:21:18.084+0000</td><td></td></tr><tr><td>4FBfp9KanczHdXX9qX7FRZ</td><td>2018-12-19</td><td>2018-12-19T10:07:43.100+0000</td><td>2018-12-19T10:07:45.974+0000</td><td>AB</td><td>abbandonata</td><td>undefined</td><td>undefined</td><td>0</td><td>0</td><td>0</td><td>0</td><td>0</td><td>0</td><td>0</td><td>0</td><td>2018-12-19T12:21:18.084+0000</td><td></td></tr><tr><td>6WY96nYFoPeBmXoDJ12KPk</td><td>2018-12-19</td><td>2018-12-19T10:06:56.634+0000</td><td>2018-12-19T10:06:59.638+0000</td><td>AB</td><td>abbandonata</td><td>undefined</td><td>undefined</td><td>0</td><td>0</td><td>0</td><td>0</td><td>0</td><td>0</td><td>0</td><td>0</td><td>2018-12-19T12:21:18.084+0000</td><td></td></tr><tr><td>75UAd0AAJxH3pF5fjXpLlW</td><td>2018-12-19</td><td>2018-12-19T10:05:32.434+0000</td><td>2018-12-19T10:05:33.545+0000</td><td>AB</td><td>abbandonata</td><td>undefined</td><td>undefined</td><td>0</td><td>0</td><td>0</td><td>0</td><td>0</td><td>0</td><td>0</td><td>0</td><td>2018-12-19T12:21:18.084+0000</td><td></td></tr><tr><td>KIesfCH9IJv2fLqmnaGc1k</td><td>2018-12-19</td><td>2018-12-19T10:00:11.366+0000</td><td>2018-12-19T10:00:14.444+0000</td><td>AB</td><td>abbandonata</td><td>undefined</td><td>undefined</td><td>0</td><td>0</td><td>0</td><td>0</td><td>0</td><td>0</td><td>0</td><td>0</td><td>2018-12-19T12:21:18.084+0000</td><td></td></tr><tr><td>2qwuLDoR7X0J8uaodKVF2K</td><td>2018-12-19</td><td>2018-12-19T10:08:35.859+0000</td><td>2018-12-19T10:08:39.382+0000</td><td>AB</td><td>abbandonata</td><td>undefined</td><td>undefined</td><td>0</td><td>0</td><td>0</td><td>0</td><td>0</td><td>0</td><td>0</td><td>0</td><td>2018-12-19T12:21:18.084+0000</td><td></td></tr><tr><td>L5zNP9a1r1ED6r2QvRhdLX</td><td>2018-12-19</td><td>2018-12-19T10:04:59.970+0000</td><td>2018-12-19T10:05:02.796+0000</td><td>AB</td><td>abbandonata</td><td>undefined</td><td>undefined</td><td>0</td><td>0</td><td>0</td><td>0</td><td>0</td><td>0</td><td>0</td><td>0</td><td>2018-12-19T12:21:18.084+0000</td><td></td></tr><tr><td>D301ilHH2Uo8NWPCHDI7iE</td><td>2018-12-19</td><td>2018-12-19T10:04:30.620+0000</td><td>2018-12-19T10:04:33.729+0000</td><td>AB</td><td>abbandonata</td><td>undefined</td><td>undefined</td><td>0</td><td>0</td><td>0</td><td>0</td><td>0</td><td>0</td><td>0</td><td>0</td><td>2018-12-19T12:21:18.084+0000</td><td></td></tr><tr><td>9yyHHtJPwAmDxilFf26HaZ</td><td>2018-12-19</td><td>2018-12-19T10:03:38.779+0000</td><td>2018-12-19T10:03:41.515+0000</td><td>AB</td><td>abbandonata</td><td>undefined</td><td>undefined</td><td>0</td><td>0</td><td>0</td><td>0</td><td>0</td><td>0</td><td>0</td><td>0</td><td>2018-12-19T12:21:18.084+0000</td><td></td></tr><tr><td>2v35A6jYpUCF0y4W9RJRWT</td><td>2018-12-19</td><td>2018-12-19T10:00:38.299+0000</td><td>2018-12-19T10:00:40.952+0000</td><td>AB</td><td>abbandonata</td><td>undefined</td><td>undefined</td><td>0</td><td>0</td><td>0</td><td>0</td><td>0</td><td>0</td><td>0</td><td>0</td><td>2018-12-19T12:21:18.084+0000</td><td></td></tr><tr><td>7iJ2QLGRrveDOg9HjgJm4x</td><td>2018-12-19</td><td>2018-12-19T10:00:30.523+0000</td><td>2018-12-19T10:00:33.172+0000</td><td>AB</td><td>abbandonata</td><td>undefined</td><td>undefined</td><td>0</td><td>0</td><td>0</td><td>0</td><td>0</td><td>0</td><td>0</td><td>0</td><td>2018-12-19T12:21:18.084+0000</td><td></td></tr><tr><td>99YA9K31AoFFXUUpWjL02b</td><td>2018-12-19</td><td>2018-12-19T10:03:47.995+0000</td><td>2018-12-19T10:03:48.750+0000</td><td>AB</td><td>abbandonata</td><td>undefined</td><td>undefined</td><td>0</td><td>0</td><td>0</td><td>0</td><td>0</td><td>0</td><td>0</td><td>0</td><td>2018-12-19T12:21:18.084+0000</td><td></td></tr><tr><td>CTDx6aRWUbNKN5edGUeuH6</td><td>2018-12-19</td><td>2018-12-19T10:06:42.666+0000</td><td>2018-12-19T10:06:45.414+0000</td><td>AB</td><td>abbandonata</td><td>undefined</td><td>undefined</td><td>0</td><td>0</td><td>0</td><td>0</td><td>0</td><td>0</td><td>0</td><td>0</td><td>2018-12-19T12:21:18.084+0000</td><td></td></tr><tr><td>1maN5RaTdzH89PhZYBHjWI</td><td>2018-12-19</td><td>2018-12-19T10:04:34.710+0000</td><td>2018-12-19T10:04:36.148+0000</td><td>AB</td><td>abbandonata</td><td>undefined</td><td>undefined</td><td>0</td><td>0</td><td>0</td><td>0</td><td>0</td><td>0</td><td>0</td><td>0</td><td>2018-12-19T12:21:18.084+0000</td><td></td></tr><tr><td>2vCpCLlSS0F2O7AuX6FzH7</td><td>2018-12-19</td><td>2018-12-19T10:06:29.046+0000</td><td>2018-12-19T10:06:32.326+0000</td><td>AB</td><td>abbandonata</td><td>undefined</td><td>undefined</td><td>0</td><td>0</td><td>0</td><td>0</td><td>0</td><td>0</td><td>0</td><td>0</td><td>2018-12-19T12:21:18.084+0000</td><td></td></tr><tr><td>KYK2HJkSZ8a3nghipVJbj9</td><td>2018-12-19</td><td>2018-12-19T10:02:45.990+0000</td><td>2018-12-19T10:02:48.673+0000</td><td>AB</td><td>abbandonata</td><td>undefined</td><td>undefined</td><td>0</td><td>0</td><td>0</td><td>0</td><td>0</td><td>0</td><td>0</td><td>0</td><td>2018-12-19T12:21:18.084+0000</td><td></td></tr><tr><td>3zHaCjXn7AtELDvj0wTXNf</td><td>2018-12-19</td><td>2018-12-19T10:02:33.904+0000</td><td>2018-12-19T10:02:36.793+0000</td><td>AB</td><td>abbandonata</td><td>undefined</td><td>undefined</td><td>0</td><td>0</td><td>0</td><td>0</td><td>0</td><td>0</td><td>0</td><td>0</td><td>2018-12-19T12:21:18.084+0000</td><td></td></tr><tr><td>1CY3JeMvsiCGxl3HQfFRXA</td><td>2018-12-19</td><td>2018-12-19T10:04:17.036+0000</td><td>2018-12-19T10:04:19.767+0000</td><td>AB</td><td>abbandonata</td><td>undefined</td><td>undefined</td><td>0</td><td>0</td><td>0</td><td>0</td><td>0</td><td>0</td><td>0</td><td>0</td><td>2018-12-19T12:21:18.084+0000</td><td></td></tr><tr><td>5RCYVLGONapLew3SD2WrBD</td><td>2018-12-19</td><td>2018-12-19T10:04:37.923+0000</td><td>2018-12-19T10:04:39.205+0000</td><td>AB</td><td>abbandonata</td><td>undefined</td><td>undefined</td><td>0</td><td>0</td><td>0</td><td>0</td><td>0</td><td>0</td><td>0</td><td>0</td><td>2018-12-19T12:21:18.084+0000</td><td></td></tr><tr><td>FmaadPOGBdKFYXbxDOTHfk</td><td>2018-12-19</td><td>2018-12-19T10:07:04.262+0000</td><td>2018-12-19T10:07:06.898+0000</td><td>AB</td><td>abbandonata</td><td>undefined</td><td>undefined</td><td>0</td><td>0</td><td>0</td><td>0</td><td>0</td><td>0</td><td>0</td><td>0</td><td>2018-12-19T12:21:18.084+0000</td><td></td></tr><tr><td>GApzqyRtJHTGOdEoOQoKSZ</td><td>2018-12-19</td><td>2018-12-19T10:06:21.952+0000</td><td>2018-12-19T10:06:23.217+0000</td><td>AB</td><td>abbandonata</td><td>undefined</td><td>undefined</td><td>0</td><td>0</td><td>0</td><td>0</td><td>0</td><td>0</td><td>0</td><td>0</td><td>2018-12-19T12:21:18.084+0000</td><td></td></tr><tr><td>GBs45imyGM4LhlCUxGtEKc</td><td>2018-12-19</td><td>2018-12-19T10:04:08.259+0000</td><td>2018-12-19T10:04:11.489+0000</td><td>AB</td><td>abbandonata</td><td>undefined</td><td>undefined</td><td>0</td><td>0</td><td>0</td><td>0</td><td>0</td><td>0</td><td>0</td><td>0</td><td>2018-12-19T12:21:18.084+0000</td><td></td></tr><tr><td>rxgbVYO2feCTks69Eqe1t</td><td>2018-12-19</td><td>2018-12-19T10:06:15.850+0000</td><td>2018-12-19T10:06:16.623+0000</td><td>AB</td><td>abbandonata</td><td>undefined</td><td>undefined</td><td>0</td><td>0</td><td>0</td><td>0</td><td>0</td><td>0</td><td>0</td><td>0</td><td>2018-12-19T12:21:18.084+0000</td><td></td></tr><tr><td>9zwREil2AQn9kzNLCbexOS</td><td>2018-12-19</td><td>2018-12-19T10:06:34.765+0000</td><td>2018-12-19T10:06:37.775+0000</td><td>AB</td><td>abbandonata</td><td>undefined</td><td>undefined</td><td>0</td><td>0</td><td>0</td><td>0</td><td>0</td><td>0</td><td>0</td><td>0</td><td>2018-12-19T12:21:18.084+0000</td><td></td></tr><tr><td>FDyTLRhZzjV3BmjbE888IE</td><td>2018-12-19</td><td>2018-12-19T10:07:00.466+0000</td><td>2018-12-19T10:07:03.318+0000</td><td>AB</td><td>abbandonata</td><td>undefined</td><td>undefined</td><td>0</td><td>0</td><td>0</td><td>0</td><td>0</td><td>0</td><td>0</td><td>0</td><td>2018-12-19T12:21:18.084+0000</td><td></td></tr><tr><td>LXPCvuK28M5HfgCKroBZxm</td><td>2018-12-19</td><td>2018-12-19T10:03:11.060+0000</td><td>2018-12-19T10:03:14.001+0000</td><td>AB</td><td>abbandonata</td><td>undefined</td><td>undefined</td><td>0</td><td>0</td><td>0</td><td>0</td><td>0</td><td>0</td><td>0</td><td>0</td><td>2018-12-19T12:21:18.084+0000</td><td></td></tr><tr><td>1D0RA7haAQWEeoN1LS1aUr</td><td>2018-12-19</td><td>2018-12-19T10:03:07.275+0000</td><td>2018-12-19T10:03:10.033+0000</td><td>AB</td><td>abbandonata</td><td>undefined</td><td>undefined</td><td>0</td><td>0</td><td>0</td><td>0</td><td>0</td><td>0</td><td>0</td><td>0</td><td>2018-12-19T12:21:18.084+0000</td><td></td></tr><tr><td>CQex95xvNIU54RdliVSeCG</td><td>2018-12-19</td><td>2018-12-19T10:03:15.186+0000</td><td>2018-12-19T10:03:18.368+0000</td><td>AB</td><td>abbandonata</td><td>undefined</td><td>undefined</td><td>0</td><td>0</td><td>0</td><td>0</td><td>0</td><td>0</td><td>0</td><td>0</td><td>2018-12-19T12:21:18.084+0000</td><td></td></tr><tr><td>FGciej2AbIh5cVdBQonPbY</td><td>2018-12-19</td><td>2018-12-19T09:59:28.626+0000</td><td>2018-12-19T09:59:53.871+0000</td><td>AB</td><td>abbandonata</td><td>undefined</td><td>undefined</td><td>0</td><td>0</td><td>0</td><td>0</td><td>0</td><td>0</td><td>0</td><td>0</td><td>2018-12-19T12:21:18.084+0000</td><td></td></tr><tr><td>41dECwGJ4EP16fkaIHLnGx</td><td>2018-12-19</td><td>2018-12-19T10:04:00.828+0000</td><td>2018-12-19T10:04:03.557+0000</td><td>AB</td><td>abbandonata</td><td>undefined</td><td>undefined</td><td>0</td><td>0</td><td>0</td><td>0</td><td>0</td><td>0</td><td>0</td><td>0</td><td>2018-12-19T12:21:18.084+0000</td><td></td></tr><tr><td>4FLYXJ4AmKs8tr2mEcgpPH</td><td>2018-12-19</td><td>2018-12-19T10:02:37.904+0000</td><td>2018-12-19T10:02:40.709+0000</td><td>AB</td><td>abbandonata</td><td>undefined</td><td>undefined</td><td>0</td><td>0</td><td>0</td><td>0</td><td>0</td><td>0</td><td>0</td><td>0</td><td>2018-12-19T12:21:18.084+0000</td><td></td></tr><tr><td>GNvI0JnYnICLtou4eRBNPj</td><td>2018-12-19</td><td>2018-12-19T10:05:08.368+0000</td><td>2018-12-19T10:05:11.175+0000</td><td>AB</td><td>abbandonata</td><td>undefined</td><td>undefined</td><td>0</td><td>0</td><td>0</td><td>0</td><td>0</td><td>0</td><td>0</td><td>0</td><td>2018-12-19T12:21:18.084+0000</td><td></td></tr><tr><td>5hBGbHY46pXJWFzxIUyMhq</td><td>2018-12-19</td><td>2018-12-19T10:04:42.107+0000</td><td>2018-12-19T10:04:45.095+0000</td><td>AB</td><td>abbandonata</td><td>undefined</td><td>undefined</td><td>0</td><td>0</td><td>0</td><td>0</td><td>0</td><td>0</td><td>0</td><td>0</td><td>2018-12-19T12:21:18.084+0000</td><td></td></tr><tr><td>EAz9wJpNQhh8hVksJr01gp</td><td>2018-12-19</td><td>2018-12-19T10:08:13.723+0000</td><td>2018-12-19T10:08:16.601+0000</td><td>AB</td><td>abbandonata</td><td>undefined</td><td>undefined</td><td>0</td><td>0</td><td>0</td><td>0</td><td>0</td><td>0</td><td>0</td><td>0</td><td>2018-12-19T12:21:18.084+0000</td><td></td></tr><tr><td>9NW2I4U73DD6SLxlVPt0Xv</td><td>2018-12-19</td><td>2018-12-19T10:01:15.875+0000</td><td>2018-12-19T10:01:19.128+0000</td><td>AB</td><td>abbandonata</td><td>undefined</td><td>undefined</td><td>0</td><td>0</td><td>0</td><td>0</td><td>0</td><td>0</td><td>0</td><td>0</td><td>2018-12-19T12:21:18.084+0000</td><td></td></tr><tr><td>J8vBjsmLkmM6cHR7D2IqeY</td><td>2018-12-19</td><td>2018-12-19T10:07:41.485+0000</td><td>2018-12-19T10:07:42.235+0000</td><td>AB</td><td>abbandonata</td><td>undefined</td><td>undefined</td><td>0</td><td>0</td><td>0</td><td>0</td><td>0</td><td>0</td><td>0</td><td>0</td><td>2018-12-19T12:21:18.084+0000</td><td></td></tr><tr><td>9zxS0ZgGReQCh5Tpb0h8Rr</td><td>2018-12-19</td><td>2018-12-19T10:02:50.424+0000</td><td>2018-12-19T10:02:53.245+0000</td><td>AB</td><td>abbandonata</td><td>undefined</td><td>undefined</td><td>0</td><td>0</td><td>0</td><td>0</td><td>0</td><td>0</td><td>0</td><td>0</td><td>2018-12-19T12:21:18.084+0000</td><td></td></tr><tr><td>K8DDgr3rbSa9ZEandyidsi</td><td>2018-12-19</td><td>2018-12-19T10:06:38.870+0000</td><td>2018-12-19T10:06:41.774+0000</td><td>AB</td><td>abbandonata</td><td>undefined</td><td>undefined</td><td>0</td><td>0</td><td>0</td><td>0</td><td>0</td><td>0</td><td>0</td><td>0</td><td>2018-12-19T12:21:18.084+0000</td><td></td></tr><tr><td>DWrDYhvelv799Icj07pxmy</td><td>2018-12-19</td><td>2018-12-19T10:07:32.342+0000</td><td>2018-12-19T10:07:35.748+0000</td><td>AB</td><td>abbandonata</td><td>undefined</td><td>undefined</td><td>0</td><td>0</td><td>0</td><td>0</td><td>0</td><td>0</td><td>0</td><td>0</td><td>2018-12-19T12:21:18.084+0000</td><td></td></tr><tr><td>5d1MqRk39PUDzbv4yhMGqr</td><td>2018-12-19</td><td>2018-12-19T10:05:12.144+0000</td><td>2018-12-19T10:05:13.301+0000</td><td>AB</td><td>abbandonata</td><td>undefined</td><td>undefined</td><td>0</td><td>0</td><td>0</td><td>0</td><td>0</td><td>0</td><td>0</td><td>0</td><td>2018-12-19T12:21:18.084+0000</td><td></td></tr><tr><td>9pLQ0Ed5HZsAN1KYrCroFh</td><td>2018-12-19</td><td>2018-12-19T10:00:16.525+0000</td><td>2018-12-19T10:00:19.404+0000</td><td>AB</td><td>abbandonata</td><td>undefined</td><td>undefined</td><td>0</td><td>0</td><td>0</td><td>0</td><td>0</td><td>0</td><td>0</td><td>0</td><td>2018-12-19T12:21:18.084+0000</td><td></td></tr><tr><td>Cj6DPKSSahDGrdBqHt6Llv</td><td>2018-12-19</td><td>2018-12-19T10:08:28.419+0000</td><td>2018-12-19T10:08:31.135+0000</td><td>AB</td><td>abbandonata</td><td>undefined</td><td>undefined</td><td>0</td><td>0</td><td>0</td><td>0</td><td>0</td><td>0</td><td>0</td><td>0</td><td>2018-12-19T12:21:18.084+0000</td><td></td></tr><tr><td>4WIP9pNIryQ8Gor5rBbTxT</td><td>2018-12-19</td><td>2018-12-19T10:06:24.236+0000</td><td>2018-12-19T10:06:27.808+0000</td><td>AB</td><td>abbandonata</td><td>undefined</td><td>undefined</td><td>0</td><td>0</td><td>0</td><td>0</td><td>0</td><td>0</td><td>0</td><td>0</td><td>2018-12-19T12:21:18.084+0000</td><td></td></tr><tr><td>CS4w17UrWtCtBP40vWeiF</td><td>2018-12-19</td><td>2018-12-19T10:00:51.777+0000</td><td>2018-12-19T10:00:54.589+0000</td><td>AB</td><td>abbandonata</td><td>undefined</td><td>undefined</td><td>0</td><td>0</td><td>0</td><td>0</td><td>0</td><td>0</td><td>0</td><td>0</td><td>2018-12-19T12:21:18.084+0000</td><td></td></tr><tr><td>EnvKtprDT1c2KSIoSuT8CU</td><td>2018-12-19</td><td>2018-12-19T10:05:38.693+0000</td><td>2018-12-19T10:05:41.381+0000</td><td>AB</td><td>abbandonata</td><td>undefined</td><td>undefined</td><td>0</td><td>0</td><td>0</td><td>0</td><td>0</td><td>0</td><td>0</td><td>0</td><td>2018-12-19T12:21:18.084+0000</td><td></td></tr></tbody></table></div>"
      ]
     },
     "metadata": {},
     "output_type": "display_data"
    }
   ],
   "source": [
    "#spark.sql select per far matchare campi con quelli del DataWharehouse\n",
    "coldConversations.createOrReplaceTempView(\"coldConversations\")\n",
    "\n",
    "sqlConversationsCold = spark.sql(\"\"\"\\\n",
    "SELECT ConversationId\n",
    ", ConversationStartDate\n",
    ", ConversationStartTime\n",
    ", ConversationEndTime\n",
    ", ConversationStatusCode\n",
    ", ConversationStatus\n",
    ", ConversationRecognitionCode\n",
    ", ConversationRecognition\n",
    ", 0 as Count_BotMessage\n",
    ", 0 as Count_UserMessage\n",
    ", 0 as Count_NotUnderstood\n",
    ", 0 as Count_Understood\n",
    ", 0 as Count_LeafEvent\n",
    ", 0 as Count_Ticket\n",
    ", 0 as Count_CloseEvent\n",
    ", 0 as Count_CloseByBot\n",
    ", DateUTCInsertRow as DateUTCInsertRow              -- 11/12/2018\n",
    ", '' as DateUTCInsertRow_Europe_Rome  -- 11/12/2018\n",
    "FROM coldConversations\n",
    "\"\"\")\n",
    "\n",
    "display(sqlConversationsCold)"
   ]
  },
  {
   "cell_type": "code",
   "execution_count": 95,
   "metadata": {},
   "outputs": [],
   "source": [
    "%sql\n",
    "\n",
    "SET spark.databricks.queryWatchdog.enabled=false"
   ]
  },
  {
   "cell_type": "code",
   "execution_count": 96,
   "metadata": {},
   "outputs": [
    {
     "data": {
      "text/html": [
       "<style scoped>\n",
       "  .ansiout {\n",
       "    display: block;\n",
       "    unicode-bidi: embed;\n",
       "    white-space: pre-wrap;\n",
       "    word-wrap: break-word;\n",
       "    word-break: break-all;\n",
       "    font-family: \"Source Code Pro\", \"Menlo\", monospace;;\n",
       "    font-size: 13px;\n",
       "    color: #555;\n",
       "    margin-left: 4px;\n",
       "    line-height: 19px;\n",
       "  }\n",
       "</style>\n",
       "<div class=\"ansiout\"></div>"
      ]
     },
     "metadata": {},
     "output_type": "display_data"
    }
   ],
   "source": [
    "#WRITE IN DW in table [ConversationCold]  (in APPEND)\n",
    "sqlConversationsCold.write.option(\"maxStrLength\",4000).format(\"com.databricks.spark.sqldw\").option(\"url\", connStringDWH).option(\"dbtable\", \"ConversationCold\").option(\"forward_spark_azure_storage_credentials\",\"True\").mode(\"append\").option(\"tempdir\", tempdatabricks_wo).save()"
   ]
  },
  {
   "cell_type": "code",
   "execution_count": 97,
   "metadata": {},
   "outputs": [
    {
     "data": {
      "text/html": [
       "<style scoped>\n",
       "  .ansiout {\n",
       "    display: block;\n",
       "    unicode-bidi: embed;\n",
       "    white-space: pre-wrap;\n",
       "    word-wrap: break-word;\n",
       "    word-break: break-all;\n",
       "    font-family: \"Source Code Pro\", \"Menlo\", monospace;;\n",
       "    font-size: 13px;\n",
       "    color: #555;\n",
       "    margin-left: 4px;\n",
       "    line-height: 19px;\n",
       "  }\n",
       "</style>\n",
       "<div class=\"ansiout\"></div>"
      ]
     },
     "metadata": {},
     "output_type": "display_data"
    }
   ],
   "source": [
    "#WRITE IN DW in table [ConversationHot]  (in OVERWRITE)\n",
    "sqlConversationsHot.write.option(\"maxStrLength\",4000).format(\"com.databricks.spark.sqldw\").option(\"url\", connStringDWH).option(\"dbtable\", \"ConversationHot\").option(\"forward_spark_azure_storage_credentials\",\"True\").mode(\"overwrite\").option(\"tempdir\", tempdatabricks_wo).save()"
   ]
  },
  {
   "cell_type": "code",
   "execution_count": 98,
   "metadata": {},
   "outputs": [
    {
     "data": {
      "text/html": [
       "<style scoped>\n",
       "  .table-result-container {\n",
       "    max-height: 300px;\n",
       "    overflow: auto;\n",
       "  }\n",
       "  table, th, td {\n",
       "    border: 1px solid black;\n",
       "    border-collapse: collapse;\n",
       "  }\n",
       "  th, td {\n",
       "    padding: 5px;\n",
       "  }\n",
       "  th {\n",
       "    text-align: left;\n",
       "  }\n",
       "</style><div class='table-result-container'><table class='table-result'><thead style='background-color: white'><tr><th>itemId</th><th>ClientAtHome</th><th>LUISentities</th><th>LUISintent</th><th>LUISscore</th><th>ProblemSolved</th><th>QNAanswer</th><th>QNAcategory</th><th>QNAscore</th><th>QNAsource</th><th>QNAuserMessage</th><th>TXTANALYTICSscore</th><th>activityId</th><th>channel</th><th>conversationId</th><th>currentScenario</th><th>diagnosticResponse</th><th>dialogCloseType</th><th>endTimeAPICall</th><th>eventName</th><th>eventTime</th><th>eventdate</th><th>isAuthenticated</th><th>isLeaf</th><th>mainScenario</th><th>modemAlignment</th><th>modemChanged</th><th>modemType</th><th>notUnderstoodMessage</th><th>reason</th><th>scenario</th><th>scenarioCalled</th><th>scenarioId</th><th>startTimeAPICall</th><th>telemetryId</th><th>text</th><th>ticket</th><th>ticketForm</th><th>timestamp</th><th>toolExec</th><th>toolResult</th><th>user</th><th>userId</th><th>userName</th><th>applicationInsight</th><th>businessUnit</th><th>type</th><th>apiTimeDiff</th><th>BotAnswerDuration</th><th>EventTimePrevious</th><th>DateUTCInsertRow</th><th>Environment</th><th>eventNameDecode</th><th>Status</th><th>Recognition</th><th>StatusCode</th><th>RecognitionCode</th><th>HourFromLastEvent</th><th>EventHourMinute</th></tr></thead><tbody></tbody></table></div>"
      ]
     },
     "metadata": {},
     "output_type": "display_data"
    }
   ],
   "source": [
    "\"\"\"%sql\n",
    "DESCRIBE FORMATTED DEV.Events  --per sapere schema \"\"\"\n",
    "# PORTO AVANTI SOLAMENTE CONVERSATIONHOT --> VADO IN JOIN CON TABELLA EVENTS PER PRENDERE SOLO GLI EVENTI DELLE CONVERSAZIONI HOT. POI SOVRASCRIVO QUESTI NELLA DELTA\n",
    "\n",
    "eventsHot= new_Events2.join(hotConversations_noUTC, on=['ConversationId'], how= 'inner')\n",
    "eventsHot= eventsHot.select([col for col in new_Events2.columns if col not in hotConversations_noUTC.drop('ConversationId').columns])\n",
    "display(eventsHot)"
   ]
  },
  {
   "cell_type": "code",
   "execution_count": 99,
   "metadata": {},
   "outputs": [
    {
     "data": {
      "text/html": [
       "<style scoped>\n",
       "  .table-result-container {\n",
       "    max-height: 300px;\n",
       "    overflow: auto;\n",
       "  }\n",
       "  table, th, td {\n",
       "    border: 1px solid black;\n",
       "    border-collapse: collapse;\n",
       "  }\n",
       "  th, td {\n",
       "    padding: 5px;\n",
       "  }\n",
       "  th {\n",
       "    text-align: left;\n",
       "  }\n",
       "</style><div class='table-result-container'><table class='table-result'><thead style='background-color: white'><tr><th>ConversationId</th><th>ConversationStartDate</th><th>ConversationStartTime</th><th>ConversationEndTime</th><th>ConversationStatusCode</th><th>ConversationStatus</th><th>ConversationRecognitionCode</th><th>ConversationRecognition</th><th>recordType</th></tr></thead><tbody><tr><td>6LRLPjJDLkQ85QplizAeFS</td><td>null</td><td>null</td><td>null</td><td>CH</td><td>chiusa</td><td>undefined</td><td>undefined</td><td>new conv</td></tr><tr><td>6LRLPjJDLkQ85QplizAeFS</td><td>null</td><td>null</td><td>null</td><td>AB</td><td>abbandonata</td><td>undefined</td><td>undefined</td><td>new conv</td></tr></tbody></table></div>"
      ]
     },
     "metadata": {},
     "output_type": "display_data"
    }
   ],
   "source": [
    "#display(coldConversations_noUTC.distinct())   #display vecchio"
   ]
  },
  {
   "cell_type": "code",
   "execution_count": 100,
   "metadata": {},
   "outputs": [
    {
     "data": {
      "text/html": [
       "<style scoped>\n",
       "  .table-result-container {\n",
       "    max-height: 300px;\n",
       "    overflow: auto;\n",
       "  }\n",
       "  table, th, td {\n",
       "    border: 1px solid black;\n",
       "    border-collapse: collapse;\n",
       "  }\n",
       "  th, td {\n",
       "    padding: 5px;\n",
       "  }\n",
       "  th {\n",
       "    text-align: left;\n",
       "  }\n",
       "</style><div class='table-result-container'><table class='table-result'><thead style='background-color: white'><tr><th>ConversationId</th></tr></thead><tbody><tr><td>6LRLPjJDLkQ85QplizAeFS</td></tr></tbody></table></div>"
      ]
     },
     "metadata": {},
     "output_type": "display_data"
    }
   ],
   "source": [
    "#coldConversations_noUTC.select('ConversationId').distinct().count()\n",
    "#display(coldConversations_noUTC.select('ConversationId').distinct())   #display vecchio"
   ]
  },
  {
   "cell_type": "code",
   "execution_count": 101,
   "metadata": {},
   "outputs": [
    {
     "data": {
      "text/html": [
       "<style scoped>\n",
       "  .ansiout {\n",
       "    display: block;\n",
       "    unicode-bidi: embed;\n",
       "    white-space: pre-wrap;\n",
       "    word-wrap: break-word;\n",
       "    word-break: break-all;\n",
       "    font-family: \"Source Code Pro\", \"Menlo\", monospace;;\n",
       "    font-size: 13px;\n",
       "    color: #555;\n",
       "    margin-left: 4px;\n",
       "    line-height: 19px;\n",
       "  }\n",
       "</style>\n",
       "<div class=\"ansiout\"></div>"
      ]
     },
     "metadata": {},
     "output_type": "display_data"
    }
   ],
   "source": [
    "#analogo a eventsHot\n",
    "#eventsCold= new_Events2.join(coldConversations_noUTC, on= ['ConversationId'], how= 'inner')\n",
    "eventsCold= new_Events2.join(coldConversations_noUTC, on=['ConversationId'], how= 'inner')\n",
    "eventsCold= eventsCold.select([col for col in new_Events2.columns if col not in coldConversations_noUTC.drop('ConversationId').columns])\n",
    "#display(eventsCold)"
   ]
  },
  {
   "cell_type": "code",
   "execution_count": 102,
   "metadata": {},
   "outputs": [
    {
     "data": {
      "text/html": [
       "<style scoped>\n",
       "  .ansiout {\n",
       "    display: block;\n",
       "    unicode-bidi: embed;\n",
       "    white-space: pre-wrap;\n",
       "    word-wrap: break-word;\n",
       "    word-break: break-all;\n",
       "    font-family: \"Source Code Pro\", \"Menlo\", monospace;;\n",
       "    font-size: 13px;\n",
       "    color: #555;\n",
       "    margin-left: 4px;\n",
       "    line-height: 19px;\n",
       "  }\n",
       "</style>\n",
       "<div class=\"ansiout\"><span class=\"ansired\">Out[</span><span class=\"ansired\">193</span><span class=\"ansired\">]: </span>1021\n",
       "</div>"
      ]
     },
     "metadata": {},
     "output_type": "display_data"
    }
   ],
   "source": [
    "eventsCold.count()  #1021 records, che sono tutti quelli che sovrascrivo sulla delta"
   ]
  },
  {
   "cell_type": "code",
   "execution_count": 103,
   "metadata": {},
   "outputs": [],
   "source": [
    "# eventsHot.count()  --> è zero"
   ]
  },
  {
   "cell_type": "code",
   "execution_count": 105,
   "metadata": {},
   "outputs": [
    {
     "data": {
      "text/html": [
       "<style scoped>\n",
       "  .ansiout {\n",
       "    display: block;\n",
       "    unicode-bidi: embed;\n",
       "    white-space: pre-wrap;\n",
       "    word-wrap: break-word;\n",
       "    word-break: break-all;\n",
       "    font-family: \"Source Code Pro\", \"Menlo\", monospace;;\n",
       "    font-size: 13px;\n",
       "    color: #555;\n",
       "    margin-left: 4px;\n",
       "    line-height: 19px;\n",
       "  }\n",
       "</style>\n",
       "<div class=\"ansiout\"></div>"
      ]
     },
     "metadata": {},
     "output_type": "display_data"
    }
   ],
   "source": [
    "eventsCold.write.format(\"delta\").mode(\"overwrite\").save(\"/delta/\"+environment+\"/Events_Federico/\")  #Siccome eventsHot è vuota (è Hot se è negli ultimi 20-30 minuti...ma sto runnando orari piu vecchi quindi saranno tutte cold..), sovrascrivo sulla delta eventsCold, così la riempio. Sennò rimane con zero records..."
   ]
  },
  {
   "cell_type": "code",
   "execution_count": 106,
   "metadata": {},
   "outputs": [
    {
     "data": {
      "text/html": [
       "<style scoped>\n",
       "  .table-result-container {\n",
       "    max-height: 300px;\n",
       "    overflow: auto;\n",
       "  }\n",
       "  table, th, td {\n",
       "    border: 1px solid black;\n",
       "    border-collapse: collapse;\n",
       "  }\n",
       "  th, td {\n",
       "    padding: 5px;\n",
       "  }\n",
       "  th {\n",
       "    text-align: left;\n",
       "  }\n",
       "</style><div class='table-result-container'><table class='table-result'><thead style='background-color: white'><tr><th>count(1)</th></tr></thead><tbody><tr><td>1021</td></tr></tbody></table></div>"
      ]
     },
     "metadata": {},
     "output_type": "display_data"
    }
   ],
   "source": [
    "%sql\n",
    "--SELECT count(*)\n",
    "--FROM DEV.Events"
   ]
  },
  {
   "cell_type": "code",
   "execution_count": 107,
   "metadata": {},
   "outputs": [
    {
     "data": {
      "text/html": [
       "<style scoped>\n",
       "  .table-result-container {\n",
       "    max-height: 300px;\n",
       "    overflow: auto;\n",
       "  }\n",
       "  table, th, td {\n",
       "    border: 1px solid black;\n",
       "    border-collapse: collapse;\n",
       "  }\n",
       "  th, td {\n",
       "    padding: 5px;\n",
       "  }\n",
       "  th {\n",
       "    text-align: left;\n",
       "  }\n",
       "</style><div class='table-result-container'><table class='table-result'><thead style='background-color: white'><tr><th>count(1)</th></tr></thead><tbody><tr><td>1021</td></tr></tbody></table></div>"
      ]
     },
     "metadata": {},
     "output_type": "display_data"
    }
   ],
   "source": [
    "%sql\n",
    "SELECT count(*)   \n",
    "FROM DEV.Events_Federico   -- Ho fatto una copia della Delta Table"
   ]
  },
  {
   "cell_type": "code",
   "execution_count": 108,
   "metadata": {},
   "outputs": [
    {
     "data": {
      "text/html": [
       "<style scoped>\n",
       "  .ansiout {\n",
       "    display: block;\n",
       "    unicode-bidi: embed;\n",
       "    white-space: pre-wrap;\n",
       "    word-wrap: break-word;\n",
       "    word-break: break-all;\n",
       "    font-family: \"Source Code Pro\", \"Menlo\", monospace;;\n",
       "    font-size: 13px;\n",
       "    color: #555;\n",
       "    margin-left: 4px;\n",
       "    line-height: 19px;\n",
       "  }\n",
       "</style>\n",
       "<div class=\"ansiout\"></div>"
      ]
     },
     "metadata": {},
     "output_type": "display_data"
    }
   ],
   "source": [
    "#write in delta table (in OVERWRITE)\n",
    "eventsHot.write.format(\"delta\").mode(\"overwrite\").save(\"/delta/\"+environment+\"/Events/\") "
   ]
  },
  {
   "cell_type": "code",
   "execution_count": 109,
   "metadata": {},
   "outputs": [
    {
     "data": {
      "text/html": [
       "<style scoped>\n",
       "  .ansiout {\n",
       "    display: block;\n",
       "    unicode-bidi: embed;\n",
       "    white-space: pre-wrap;\n",
       "    word-wrap: break-word;\n",
       "    word-break: break-all;\n",
       "    font-family: \"Source Code Pro\", \"Menlo\", monospace;;\n",
       "    font-size: 13px;\n",
       "    color: #555;\n",
       "    margin-left: 4px;\n",
       "    line-height: 19px;\n",
       "  }\n",
       "</style>\n",
       "<div class=\"ansiout\"></div>"
      ]
     },
     "metadata": {},
     "output_type": "display_data"
    }
   ],
   "source": [
    "#spark.sql select per far matchare campi con quelli del DataWharehouse\n",
    "eventsCold.createOrReplaceTempView(\"eventsCold\")\n",
    "\n",
    "sqlEventsCold = spark.sql(\"\"\"\n",
    "SELECT\n",
    "  '' as ID\n",
    ", CAST(eventTime as timestamp) as EventTime\n",
    ", year(eventTime) * 10000 + month(eventTime) * 100 + day(eventTime) as EventDateNum\n",
    ", hour(eventTime) as EventHourNum\n",
    ", minute(eventTime) as EventMinuteNum\n",
    ", second(eventTime) as EventSecondNum\n",
    ", EventName as EventName\n",
    ", '' as internalID\n",
    ", '' as ClientIP\n",
    ", '' as Continent\n",
    ", '' as Country\n",
    ", '' as Province\n",
    ", '' as City\n",
    ", LEFT(Text,4000) as Text\n",
    ", ConversationId as ConversationId\n",
    ", Channel\n",
    ", Timestamp\n",
    ", UserName\n",
    ", UserId\n",
    ", LUISintent\n",
    ", LUISscore\n",
    ", MainScenario\n",
    ", Reason\n",
    ", Scenario\n",
    ", CurrentScenario\n",
    ", QNAscore as QNAscore\n",
    ", QNAanswer as QNAanswer\n",
    ", QNAuserMessage as QNAuserMessage\n",
    ", QNAsource as QNAsource\n",
    ", QNAcategory as QNAcategory\n",
    ", ItemId as ItemId\n",
    ", ActivityId as ActivityId\n",
    ", BotAnswerDuration as DurationAnswerBot\n",
    ", CAST(startTimeAPICall as timestamp) as startTimeAPICall\n",
    ", CAST(endTimeAPICall as timestamp) as endTimeAPICall\n",
    ", apiTimeDiff as DurationAnswerAPI\n",
    ", '' as modem\n",
    ", '' as linea\n",
    ", ticket as ticket\n",
    ", ticketForm as ticketForm\n",
    ", ClientAtHome as ClientAtHome\n",
    ", modemType as modemType\n",
    ", diagnosticResponse as diagnosticResponse\n",
    ", modemAlignment as modemAlignment\n",
    ", toolExec as toolExec\n",
    ", toolResult as toolResult\n",
    ", TXTANALYTICSscore as TXTANALYTICSscore    -- 03/12/2018 converted from string to float\n",
    ", scenarioid as scenarioid\n",
    ", scenariocalled as scenariocalled\n",
    ", isLeaf as isLeafText\n",
    ", DateUTCInsertRow as DateUTCInsertRow\n",
    ", modemChanged as modemChanged\n",
    ", dialogCloseType as dialogCloseType\n",
    ", EventTimePrevious as EventTimePrevious\n",
    ", notUnderstoodMessage as notUnderstoodMessage\n",
    ", applicationInsight as applicationInsight\n",
    ", businessUnit as businessUnit\n",
    ", problemSolved as ProblemSolved                      -- before \"ProblemSolved\", after \"problemSolved\"\n",
    ", user as user\n",
    ", isAuthenticated as isAuthenticated\n",
    ", '' as Status -- added on 2018-11-23\n",
    ", '' as Recognition -- added on 2018-11-23\n",
    ", '' as StatusCode -- added on 2018-11-23\n",
    ", '' as RecognitionCode -- added on 2018-11-23\n",
    ", 0 as HourFromLastEvent -- added on 2018-11-23, manually set to zero because field type in DW is number, waiting valorization from notebook\n",
    ", 0 as EventHourMinute -- added on 2018-11-23, manually set to zero because field type in DW is number, waiting valorization from notebook\n",
    ", Environment as Environment\n",
    ", eventNameDecode as eventNameDecode\n",
    "FROM eventsCold\n",
    "\"\"\")"
   ]
  },
  {
   "cell_type": "code",
   "execution_count": 110,
   "metadata": {},
   "outputs": [
    {
     "data": {
      "text/html": [
       "<style scoped>\n",
       "  .ansiout {\n",
       "    display: block;\n",
       "    unicode-bidi: embed;\n",
       "    white-space: pre-wrap;\n",
       "    word-wrap: break-word;\n",
       "    word-break: break-all;\n",
       "    font-family: \"Source Code Pro\", \"Menlo\", monospace;;\n",
       "    font-size: 13px;\n",
       "    color: #555;\n",
       "    margin-left: 4px;\n",
       "    line-height: 19px;\n",
       "  }\n",
       "</style>\n",
       "<div class=\"ansiout\"></div>"
      ]
     },
     "metadata": {},
     "output_type": "display_data"
    }
   ],
   "source": [
    "#WRITE IN DW in table [eventsCold]  (in APPEND)\n",
    "sqlEventsCold.write.option(\"maxStrLength\",4000).format(\"com.databricks.spark.sqldw\").option(\"url\", connStringDWH).option(\"dbtable\", \"EventCold\").option(\"forward_spark_azure_storage_credentials\",\"True\").mode(\"append\").option(\"tempdir\", tempdatabricks_wo).save()"
   ]
  },
  {
   "cell_type": "code",
   "execution_count": 111,
   "metadata": {},
   "outputs": [
    {
     "data": {
      "text/html": [
       "<style scoped>\n",
       "  .ansiout {\n",
       "    display: block;\n",
       "    unicode-bidi: embed;\n",
       "    white-space: pre-wrap;\n",
       "    word-wrap: break-word;\n",
       "    word-break: break-all;\n",
       "    font-family: \"Source Code Pro\", \"Menlo\", monospace;;\n",
       "    font-size: 13px;\n",
       "    color: #555;\n",
       "    margin-left: 4px;\n",
       "    line-height: 19px;\n",
       "  }\n",
       "</style>\n",
       "<div class=\"ansiout\"></div>"
      ]
     },
     "metadata": {},
     "output_type": "display_data"
    }
   ],
   "source": [
    "#PREPARING RESULTSET TO WRITE INTO DW\n",
    "# ATTENTION: NUMBER OF COLUMNS MUST MATCH WITH OUTPUT AND IN THE SAME ORDER OF DB TABLE STRUCTURE\n",
    "\n",
    "\n",
    "# Create or Replace TempView, uncomment if sql manipulation must be used\n",
    "eventsHot.createOrReplaceTempView(\"eventsHot\")\n",
    "\n",
    "sqlEventsHot = spark.sql(\"\"\"\n",
    "SELECT\n",
    "  '' as ID\n",
    ", CAST(eventTime as timestamp) as EventTime\n",
    ", year(eventTime) * 10000 + month(eventTime) * 100 + day(eventTime) as EventDateNum\n",
    ", hour(eventTime) as EventHourNum\n",
    ", minute(eventTime) as EventMinuteNum\n",
    ", second(eventTime) as EventSecondNum\n",
    ", EventName as EventName\n",
    ", '' as internalID\n",
    ", '' as ClientIP\n",
    ", '' as Continent\n",
    ", '' as Country\n",
    ", '' as Province\n",
    ", '' as City\n",
    ", LEFT(Text,4000) as Text\n",
    ", ConversationId as ConversationId\n",
    ", Channel\n",
    ", Timestamp\n",
    ", UserName\n",
    ", UserId\n",
    ", LUISintent\n",
    ", LUISscore\n",
    ", MainScenario\n",
    ", Reason\n",
    ", Scenario\n",
    ", CurrentScenario\n",
    ", QNAscore as QNAscore\n",
    ", QNAanswer as QNAanswer\n",
    ", QNAuserMessage as QNAuserMessage\n",
    ", QNAsource as QNAsource\n",
    ", QNAcategory as QNAcategory\n",
    ", ItemId as ItemId\n",
    ", ActivityId as ActivityId\n",
    ", BotAnswerDuration as DurationAnswerBot\n",
    ", CAST(startTimeAPICall as timestamp) as startTimeAPICall\n",
    ", CAST(endTimeAPICall as timestamp) as endTimeAPICall\n",
    ", apiTimeDiff as DurationAnswerAPI\n",
    ", '' as modem\n",
    ", '' as linea\n",
    ", ticket as ticket\n",
    ", ticketForm as ticketForm\n",
    ", ClientAtHome as ClientAtHome\n",
    ", modemType as modemType\n",
    ", diagnosticResponse as diagnosticResponse\n",
    ", modemAlignment as modemAlignment\n",
    ", toolExec as toolExec\n",
    ", toolResult as toolResult\n",
    ", TXTANALYTICSscore as TXTANALYTICSscore    -- 03/12/2018 converted from string to float\n",
    ", scenarioid as scenarioid\n",
    ", scenariocalled as scenariocalled\n",
    ", isLeaf as isLeafText\n",
    ", DateUTCInsertRow as DateUTCInsertRow\n",
    ", modemChanged as modemChanged\n",
    ", dialogCloseType as dialogCloseType\n",
    ", EventTimePrevious as EventTimePrevious\n",
    ", notUnderstoodMessage as notUnderstoodMessage\n",
    ", applicationInsight as applicationInsight\n",
    ", businessUnit as businessUnit\n",
    ", problemSolved as ProblemSolved                      -- before \"ProblemSolved\", after \"problemSolved\"\n",
    ", user as user\n",
    ", isAuthenticated as isAuthenticated\n",
    ", '' as Status -- added on 2018-11-23\n",
    ", '' as Recognition -- added on 2018-11-23\n",
    ", '' as StatusCode -- added on 2018-11-23\n",
    ", '' as RecognitionCode -- added on 2018-11-23\n",
    ", 0 as HourFromLastEvent -- added on 2018-11-23, manually set to zero because field type in DW is number, waiting valorization from notebook\n",
    ", 0 as EventHourMinute -- added on 2018-11-23, manually set to zero because field type in DW is number, waiting valorization from notebook\n",
    ", Environment as Environment\n",
    ", eventNameDecode as eventNameDecode\n",
    "FROM eventsHot\n",
    "\"\"\")"
   ]
  },
  {
   "cell_type": "code",
   "execution_count": 112,
   "metadata": {},
   "outputs": [
    {
     "data": {
      "text/html": [
       "<style scoped>\n",
       "  .ansiout {\n",
       "    display: block;\n",
       "    unicode-bidi: embed;\n",
       "    white-space: pre-wrap;\n",
       "    word-wrap: break-word;\n",
       "    word-break: break-all;\n",
       "    font-family: \"Source Code Pro\", \"Menlo\", monospace;;\n",
       "    font-size: 13px;\n",
       "    color: #555;\n",
       "    margin-left: 4px;\n",
       "    line-height: 19px;\n",
       "  }\n",
       "</style>\n",
       "<div class=\"ansiout\"></div>"
      ]
     },
     "metadata": {},
     "output_type": "display_data"
    }
   ],
   "source": [
    "###WRITE IN DW in table [EventHot] (NB: now write option is \"Append\" but when will have Hot and Cold logic it will be \"Overwrite\" in Hot Table and \"Append\" in Cold Table)\n",
    "#WRITE IN DW in table [EventHot]  (in OVERWRITE)\n",
    "sqlEventsHot.write.option(\"maxStrLength\",4000).format(\"com.databricks.spark.sqldw\").option(\"url\", connStringDWH).option(\"dbtable\", \"EventHot\").option(\"forward_spark_azure_storage_credentials\",\"True\").mode(\"overwrite\").option(\"tempdir\", tempdatabricks_wo).save()"
   ]
  },
  {
   "cell_type": "code",
   "execution_count": 113,
   "metadata": {},
   "outputs": [
    {
     "data": {
      "text/html": [
       "<style scoped>\n",
       "  .ansiout {\n",
       "    display: block;\n",
       "    unicode-bidi: embed;\n",
       "    white-space: pre-wrap;\n",
       "    word-wrap: break-word;\n",
       "    word-break: break-all;\n",
       "    font-family: \"Source Code Pro\", \"Menlo\", monospace;;\n",
       "    font-size: 13px;\n",
       "    color: #555;\n",
       "    margin-left: 4px;\n",
       "    line-height: 19px;\n",
       "  }\n",
       "</style>\n",
       "<div class=\"ansiout\"></div>"
      ]
     },
     "metadata": {},
     "output_type": "display_data"
    }
   ],
   "source": [
    "#allConversationsUpdated.unpersist() #dbutils.fs.rm(\"/delta/DEV/Events/\", True)"
   ]
  },
  {
   "cell_type": "code",
   "execution_count": 114,
   "metadata": {},
   "outputs": [],
   "source": [
    "#command to manage \"user authenticated\"\n",
    "new_Events2.filter(new_Events2.type == 'new').createOrReplaceTempView(\"finalTempTable\")\n",
    "\n",
    "#select for \"user authenticated\"\n",
    "sqlQueryResult_User = spark.sql(\"\"\"\n",
    "SELECT\n",
    "ConversationId as ConversationId\n",
    ", user as user\n",
    "-- DateUTCInsertRow as DateUTCInsertRow,    --to be added\n",
    "FROM finalTempTable\n",
    "WHERE\n",
    "isAuthenticated = 'true' and (user is not null or user <> '')\n",
    "GROUP BY\n",
    "ConversationId, user\n",
    "\"\"\")\n",
    "\n",
    "#WRITE IN DW in table [DIM_User]\n",
    "sqlQueryResult_User.write.option(\"maxStrLength\",4000).format(\"com.databricks.spark.sqldw\").option(\"url\", connStringDWH).option(\"dbtable\", \"DIM_User\").option(\"forward_spark_azure_storage_credentials\",\"True\").mode(\"append\").option(\"tempdir\", tempdatabricks_wo).save()"
   ]
  },
  {
   "cell_type": "code",
   "execution_count": 115,
   "metadata": {},
   "outputs": [
    {
     "data": {
      "text/html": [
       "<style scoped>\n",
       "  .ansiout {\n",
       "    display: block;\n",
       "    unicode-bidi: embed;\n",
       "    white-space: pre-wrap;\n",
       "    word-wrap: break-word;\n",
       "    word-break: break-all;\n",
       "    font-family: \"Source Code Pro\", \"Menlo\", monospace;;\n",
       "    font-size: 13px;\n",
       "    color: #555;\n",
       "    margin-left: 4px;\n",
       "    line-height: 19px;\n",
       "  }\n",
       "</style>\n",
       "<div class=\"ansiout\"><span class=\"ansired\">Out[</span><span class=\"ansired\">73</span><span class=\"ansired\">]: </span>&apos;%sql\\nOPTIMIZE QA.Events --Dalta Table &quot;Events&quot; is partitioned by &quot;eventDate&quot;\\nWHERE EventDate &gt;= current_timestamp() - INTERVAL 1 day\\nZORDER BY (EventName, ConversationId)&apos;\n",
       "</div>"
      ]
     },
     "metadata": {},
     "output_type": "display_data"
    }
   ],
   "source": [
    "\"\"\"%sql\n",
    "OPTIMIZE QA.Events --Dalta Table \"Events\" is partitioned by \"eventDate\"\n",
    "WHERE EventDate >= current_timestamp() - INTERVAL 1 day\n",
    "ZORDER BY (EventName, ConversationId)\"\"\""
   ]
  },
  {
   "cell_type": "code",
   "execution_count": 116,
   "metadata": {},
   "outputs": [
    {
     "data": {
      "text/html": [
       "<style scoped>\n",
       "  .ansiout {\n",
       "    display: block;\n",
       "    unicode-bidi: embed;\n",
       "    white-space: pre-wrap;\n",
       "    word-wrap: break-word;\n",
       "    word-break: break-all;\n",
       "    font-family: \"Source Code Pro\", \"Menlo\", monospace;;\n",
       "    font-size: 13px;\n",
       "    color: #555;\n",
       "    margin-left: 4px;\n",
       "    line-height: 19px;\n",
       "  }\n",
       "</style>\n",
       "<div class=\"ansiout\"></div>"
      ]
     },
     "metadata": {},
     "output_type": "display_data"
    }
   ],
   "source": [
    "##Andrea 26/11/2018: Optimize disabled because now is scheduled in a specific notebook wich runs daily during the night\n",
    "#optimize = spark.sql(\"OPTIMIZE {}.Events WHERE EventDate >= current_timestamp() - INTERVAL 1 day ZORDER BY (EventName, ConversationId)\".format(environment))"
   ]
  }
 ],
 "metadata": {
  "kernelspec": {
   "display_name": "Python 3",
   "language": "python",
   "name": "python3"
  },
  "language_info": {
   "codemirror_mode": {
    "name": "ipython",
    "version": 3
   },
   "file_extension": ".py",
   "mimetype": "text/x-python",
   "name": "python",
   "nbconvert_exporter": "python",
   "pygments_lexer": "ipython3",
   "version": "3.6.5"
  },
  "latex_envs": {
   "LaTeX_envs_menu_present": true,
   "autoclose": true,
   "autocomplete": true,
   "bibliofile": "biblio.bib",
   "cite_by": "apalike",
   "current_citInitial": 1,
   "eqLabelWithNumbers": true,
   "eqNumInitial": 1,
   "hotkeys": {
    "equation": "Ctrl-E",
    "itemize": "Ctrl-I"
   },
   "labels_anchors": false,
   "latex_user_defs": false,
   "report_style_numbering": false,
   "user_envs_cfg": false
  },
  "name": "ETL_MainRun_States_Federico",
  "notebookId": 386128107163915
 },
 "nbformat": 4,
 "nbformat_minor": 1
}
